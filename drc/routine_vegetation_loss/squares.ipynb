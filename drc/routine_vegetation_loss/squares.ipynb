{
 "cells": [
  {
   "cell_type": "code",
   "execution_count": 1,
   "id": "347f4620",
   "metadata": {},
   "outputs": [],
   "source": [
    "import ee\n",
    "import geemap\n",
    "import math\n",
    "ee.Initialize()"
   ]
  },
  {
   "cell_type": "code",
   "execution_count": 79,
   "id": "16b0746d",
   "metadata": {
    "tags": []
   },
   "outputs": [],
   "source": [
    "javascript_code = \"\"\"\n",
    "var test = loss1.eq(1)\n",
    "\n",
    "var test2 = loss2.neq(1)\n",
    "\n",
    "var comb = test.and(test2)\n",
    "Map.addLayer(comb, {min: 0, max: 1, palette: ['white', 'blue']}, 'test')\n",
    "\"\"\""
   ]
  },
  {
   "cell_type": "code",
   "execution_count": 80,
   "id": "27a981d3",
   "metadata": {},
   "outputs": [],
   "source": [
    "geemap.js_snippet_to_py(javascript_code)"
   ]
  },
  {
   "cell_type": "code",
   "execution_count": null,
   "id": "69ab0a0a",
   "metadata": {},
   "outputs": [
    {
     "ename": "NameError",
     "evalue": "name 'ee' is not defined",
     "output_type": "error",
     "traceback": [
      "\u001b[0;31m---------------------------------------------------------------------------\u001b[0m",
      "\u001b[0;31mNameError\u001b[0m                                 Traceback (most recent call last)",
      "\u001b[0;32m/tmp/ipykernel_12229/792964822.py\u001b[0m in \u001b[0;36m<module>\u001b[0;34m\u001b[0m\n\u001b[0;32m----> 1\u001b[0;31m \u001b[0mls8\u001b[0m \u001b[0;34m=\u001b[0m \u001b[0mee\u001b[0m\u001b[0;34m.\u001b[0m\u001b[0mImageCollection\u001b[0m\u001b[0;34m(\u001b[0m\u001b[0;34m\"LANDSAT/LC08/C02/T1_L2\"\u001b[0m\u001b[0;34m)\u001b[0m\u001b[0;34m\u001b[0m\u001b[0;34m\u001b[0m\u001b[0m\n\u001b[0m\u001b[1;32m      2\u001b[0m \u001b[0ms2\u001b[0m \u001b[0;34m=\u001b[0m \u001b[0mee\u001b[0m\u001b[0;34m.\u001b[0m\u001b[0mImageCollection\u001b[0m\u001b[0;34m(\u001b[0m\u001b[0;34m\"COPERNICUS/S2_SR\"\u001b[0m\u001b[0;34m)\u001b[0m\u001b[0;34m\u001b[0m\u001b[0;34m\u001b[0m\u001b[0m\n\u001b[1;32m      3\u001b[0m \u001b[0mactiveMines\u001b[0m \u001b[0;34m=\u001b[0m \u001b[0mee\u001b[0m\u001b[0;34m.\u001b[0m\u001b[0mFeatureCollection\u001b[0m\u001b[0;34m(\u001b[0m\u001b[0;34m\"users/raymondeah/cod_mines_curated_all_opendata_p_ipis\"\u001b[0m\u001b[0;34m)\u001b[0m\u001b[0;34m\u001b[0m\u001b[0;34m\u001b[0m\u001b[0m\n\u001b[1;32m      4\u001b[0m roi1 = ee.Geometry.Polygon(\n\u001b[1;32m      5\u001b[0m         [[[29.554129272985683, 3.1591674847348235],\n",
      "\u001b[0;31mNameError\u001b[0m: name 'ee' is not defined"
     ]
    }
   ],
   "source": [
    "ls8 = ee.ImageCollection(\"LANDSAT/LC08/C02/T1_L2\")\n",
    "activeMines = ee.FeatureCollection(\"users/raymondeah/cod_mines_curated_all_opendata_p_ipis\")\n",
    "roi1 = ee.Geometry.Polygon(\n",
    "        [[[29.554129272985683, 3.1591674847348235],\n",
    "          [29.554129272985683, 3.092319151883147],\n",
    "          [29.625197083044277, 3.092319151883147],\n",
    "          [29.625197083044277, 3.1591674847348235]]])\n",
    "\n",
    "roi3 = ee.Geometry.Polygon(\n",
    "        [[[30.246670960050185, 1.7911944738716732],\n",
    "          [30.246670960050185, 1.7103797163160706],\n",
    "          [30.356362579923232, 1.7103797163160706],\n",
    "          [30.356362579923232, 1.7911944738716732]]])\n",
    "\n",
    "modis = ee.ImageCollection(\"MODIS/006/MOD13Q1\")\n",
    "\n",
    "ndviVis = {\n",
    "  'min': 0.0,\n",
    "  'max': 8000.0,\n",
    "  'palette': [\n",
    "    'FFFFFF', 'CE7E45', 'DF923D', 'F1B555', 'FCD163', '99B718', '74A901',\n",
    "    '66A000', '529400', '3E8601', '207401', '056201', '004C00', '023B01',\n",
    "    '012E01', '011D01', '011301'\n",
    "  ]\n",
    "}\n",
    "\n",
    "rgbVis = {\n",
    "  'min': 8097.96,\n",
    "  'max': 12128.04,\n",
    "  'bands': ['SR_B4', 'SR_B3', 'SR_B2']\n",
    "}"
   ]
  },
  {
   "cell_type": "code",
   "execution_count": 3,
   "id": "c474893e",
   "metadata": {},
   "outputs": [],
   "source": [
    "\"\"\"\n",
    "Segment the given geometry into squares of given size (in km?)\n",
    ":param geometry: rectangle form geometry object\n",
    ":return: list including all squares\n",
    "\"\"\"\n",
    "def create_segments(geometry, size):\n",
    "    segments = []\n",
    "    \n",
    "    r_earth = 6378\n",
    "    dy, dx = size, size\n",
    "    pi = math.pi\n",
    "    \n",
    "    coords = geometry.coordinates().getInfo()[0][:-1]\n",
    "    # coordinate structure: 0-top left, 1-top right, 2, top \n",
    "    top = coords[2][1] # high lat\n",
    "    left = coords[0][0] # right lon\n",
    "    \n",
    "    width = ee.Geometry.Point(coords[0]).distance(ee.Geometry.Point(coords[1])).divide(1000 * size).getInfo()\n",
    "    height = ee.Geometry.Point(coords[1]).distance(ee.Geometry.Point(coords[2])).divide(1000 * size).getInfo()\n",
    "    \n",
    "    #print(width, height)\n",
    "    \n",
    "    for i in range(int(height) + 1):\n",
    "        left = coords[0][0]\n",
    "        for j in range(int(width) + 1):\n",
    "            new_lon = top - (dx / r_earth) * (180 / pi) / math.cos(math.radians(left * pi/180))\n",
    "            new_lat = left  + (dy / r_earth) * (180 / pi)\n",
    "            \n",
    "            square = ee.Geometry.Polygon(\n",
    "                [[[left, new_lon],\n",
    "                  [new_lat, new_lon],\n",
    "                  [new_lat, top],\n",
    "                  [left, top]]])\n",
    "            \n",
    "            #filtered = ls8 \\\n",
    "             # .filter(ee.Filter.bounds(geometry)) \\\n",
    "             # .filter(ee.Filter.date('2020-01-01', '2020-12-31')) \\\n",
    "            #  .filter(ee.Filter.lt('CLOUD_COVER', 25)) \\\n",
    "             # .select('SR_B.*')\n",
    "\n",
    "           # composite = filtered.median().clip(square)\n",
    "            \n",
    "            segments.append(square)\n",
    "           #segments.append(composite)\n",
    "            \n",
    "            left = new_lat\n",
    "        top = new_lon\n",
    "            \n",
    "    return segments"
   ]
  },
  {
   "cell_type": "code",
   "execution_count": 4,
   "id": "a73b03c4",
   "metadata": {},
   "outputs": [],
   "source": [
    "\"\"\"\n",
    "Segment the given geometry into squares of given size (in km)\n",
    ":param geometry: rectangle form geometry object\n",
    ":return: list including all squares\n",
    "\"\"\"\n",
    "def create_segments(geometry, size):\n",
    "    segments = []\n",
    "    r_earth, dy, dx, pi = ee.Number(6378), ee.Number(size), ee.Number(size), ee.Number(math.pi)\n",
    "    \n",
    "    coords = ee.List(geometry.coordinates().get(0)).slice(0, -1)\n",
    "    \n",
    "    top = ee.Number(ee.List(coords.get(2)).get(1))\n",
    "    left = ee.Number(ee.List(coords.get(0)).get(0))\n",
    "    \n",
    "    width = int(ee.Geometry.Point(coords.get(0)).distance(ee.Geometry.Point(coords.get(1))).divide(1000 * size).getInfo())\n",
    "    height = int(ee.Geometry.Point(coords.get(1)).distance(ee.Geometry.Point(coords.get(2))).divide(1000 * size).getInfo())\n",
    "\n",
    "    for y in range(height + 1):\n",
    "        left = ee.Number(ee.List(coords.get(0)).get(0))\n",
    "        for x in range(width + 1):\n",
    "            #\n",
    "            first = top\n",
    "            second = dx.divide(r_earth)\n",
    "            third = ee.Number(180).divide(pi)\n",
    "            con = pi.divide(ee.Number(180))\n",
    "            fourth = left.multiply(con).multiply(con).cos()\n",
    "            \n",
    "            new_lon = first.subtract(second.multiply(third).divide(fourth))\n",
    "            #new_lon = top - (dx / r_earth) * (180 / pi) / math.cos(math.radians(left * pi/180))\n",
    "            #new_lat = left  + (dy / r_earth) * (180 / pi)\n",
    "            new_lat = left.add((dy.divide(r_earth)).multiply((ee.Number(180).divide(pi))))\n",
    "            \n",
    "            square = ee.Geometry.Polygon(\n",
    "                [[[left, new_lon],\n",
    "                  [new_lat, new_lon],\n",
    "                  [new_lat, top],\n",
    "                  [left, top]]], None, False)\n",
    "            \n",
    "            segments.append(square)\n",
    "            \n",
    "            left = new_lat\n",
    "        top = new_lon\n",
    "        \n",
    "    return segments"
   ]
  },
  {
   "cell_type": "code",
   "execution_count": 5,
   "id": "0a043b86-a68d-475d-a2a8-ddabd30d6e62",
   "metadata": {},
   "outputs": [
    {
     "name": "stdout",
     "output_type": "stream",
     "text": [
      "0.9963367405740445 sq km\n"
     ]
    },
    {
     "data": {
      "application/vnd.jupyter.widget-view+json": {
       "model_id": "0a0a5fc3cd0d4790a298c09895904cb3",
       "version_major": 2,
       "version_minor": 0
      },
      "text/plain": [
       "Map(center=[3.1257435633122834, 29.589663178011996], controls=(WidgetControl(options=['position', 'transparent…"
      ]
     },
     "metadata": {},
     "output_type": "display_data"
    }
   ],
   "source": [
    "Map = geemap.Map()\n",
    "Map.centerObject(roi1, 12)\n",
    "filtered = ls8 \\\n",
    "    .filter(ee.Filter.bounds(roi1)) \\\n",
    "    .filter(ee.Filter.date('2020-01-01', '2020-12-31')) \\\n",
    "    .filter(ee.Filter.lt('CLOUD_COVER', 25)) \\\n",
    "    .select('SR_B.*')\n",
    "\n",
    "composite = filtered.median().clip(roi1)\n",
    "Map.addLayer(composite, rgbVis, '2020 Median Composite')\n",
    "segments = create_segments(roi1, 1)\n",
    "print(ee.Feature(segments[1]).geometry().area(1).divide(1e6).getInfo(), 'sq km')\n",
    "Map.addLayer(ee.FeatureCollection(segments), {'color': 'red'}, 'Squares (server side)')\n",
    "Map"
   ]
  },
  {
   "cell_type": "code",
   "execution_count": 10,
   "id": "f787e075",
   "metadata": {},
   "outputs": [],
   "source": [
    "# big = ee.Geometry.Polygon(\n",
    "#         [[[29.324961334750263, 3.3062182501952346],\n",
    "#           [29.324961334750263, 2.9023783494297306],\n",
    "#           [29.879770905062763, 2.9023783494297306],\n",
    "#           [29.879770905062763, 3.3062182501952346]]], None, False)\n",
    "\n",
    "# big2 = ee.Geometry.Polygon(\n",
    "#         [[[23.93083329745621, 5.799063854338723],\n",
    "#           [23.93083329745621, -0.38729587002473354],\n",
    "#           [31.48942704745621, -0.38729587002473354],\n",
    "#           [31.48942704745621, 5.799063854338723]]])\n",
    "\n",
    "# Map = geemap.Map()\n",
    "# Map.centerObject(big2, 7)\n",
    "\n",
    "# segments = create_segments(big2, 10)\n",
    "# #print('area:', segments[1].area(1).divide(1e6).getInfo(), 'km^2')\n",
    "# segs = ee.FeatureCollection(segments)\n",
    "# Map.addLayer(segs, {'color': 'red'}, 'segments')\n",
    "# Map"
   ]
  },
  {
   "cell_type": "code",
   "execution_count": 7,
   "id": "bfc5ea7e",
   "metadata": {},
   "outputs": [
    {
     "data": {
      "application/vnd.jupyter.widget-view+json": {
       "model_id": "91b84ba022e44461a3b3f340c5652b3e",
       "version_major": 2,
       "version_minor": 0
      },
      "text/plain": [
       "Map(center=[1.7507876063752705, 30.30151676998732], controls=(WidgetControl(options=['position', 'transparent_…"
      ]
     },
     "metadata": {},
     "output_type": "display_data"
    }
   ],
   "source": [
    "segs = create_segments(roi3, 1)\n",
    "\n",
    "def landsat(feature):\n",
    "    filtered = ls8 \\\n",
    "      .filter(ee.Filter.bounds(feature.geometry())) \\\n",
    "      .filter(ee.Filter.date('2020-01-01', '2020-12-31')) \\\n",
    "      .filter(ee.Filter.lt('CLOUD_COVER', 25)) \\\n",
    "      .select('SR_B.*') \\\n",
    "      .median() \\\n",
    "      .clip(feature.geometry())\n",
    "\n",
    "    return filtered\n",
    "\n",
    "def ndvi_before(feature):\n",
    "    ndvi = modis \\\n",
    "        .filter(ee.Filter.bounds(feature.geometry()))\\\n",
    "        .filter(ee.Filter.date('2000-01-01', '2000-12-31')) \\\n",
    "        .select('NDVI') \\\n",
    "        .median() \\\n",
    "        .clip(feature.geometry())\n",
    "    \n",
    "    return ndvi\n",
    "\n",
    "def ndvi_after(feature):\n",
    "    ndvi = modis \\\n",
    "        .filter(ee.Filter.bounds(feature.geometry()))\\\n",
    "        .filter(ee.Filter.date('2020-01-01', '2020-12-31')) \\\n",
    "        .select('NDVI') \\\n",
    "        .median() \\\n",
    "        .clip(feature.geometry())\n",
    "    \n",
    "    return ndvi\n",
    "\n",
    "composites = ee.ImageCollection(ee.FeatureCollection(segs).map(landsat))\n",
    "ndvi2000 = ee.ImageCollection(ee.FeatureCollection(segs).map(ndvi_before))\n",
    "ndvi2020 = ee.ImageCollection(ee.FeatureCollection(segs).map(ndvi_after))\n",
    "\n",
    "Map = geemap.Map()\n",
    "Map.centerObject(roi3, 10)\n",
    "\n",
    "Map.addLayer(composites, rgbVis, 'composites')\n",
    "Map.addLayer(ndvi2000, ndviVis, 'NDVI 2000')\n",
    "Map.addLayer(ndvi2020, ndviVis, 'NDVI 2020')\n",
    "Map.addLayer(activeMines, {'color': 'blue'}, 'Active Mines')\n",
    "Map.addLayer(ee.FeatureCollection(segs), {'color': 'red'}, 'squares')\n",
    "Map"
   ]
  },
  {
   "cell_type": "code",
   "execution_count": 8,
   "id": "6c029119",
   "metadata": {
    "scrolled": true
   },
   "outputs": [],
   "source": [
    "# before = ndvi2000.first().select('NDVI').lt(5000)\n",
    "# after = ndvi2020.first().select('NDVI').lt(5000)\n",
    "# change = before.neq(1).And(after.eq(1))\n",
    "\n",
    "# areaImage = change.multiply(ee.Image.pixelArea())\n",
    "    \n",
    "# area = areaImage.reduceRegion(**{\n",
    "#     'reducer': ee.Reducer.sum(),\n",
    "#     'geometry': change.geometry(),\n",
    "#     'scale': 10,\n",
    "#     'maxPixels': 1e10\n",
    "# })\n",
    "    \n",
    "# area = ee.Number(area.get('NDVI')).divide(1e6)\n",
    "# totalArea = ndvi2020.first().geometry().area(1).divide(1e6)\n",
    "# percent = area.divide(totalArea).multiply(100)\n",
    "# print(percent.getInfo())\n",
    "\n",
    "# after.set('percent loss', percent)\n",
    "# x = after.get('percent loss')\n",
    "# print(x)\n",
    "\n",
    "# Map.addLayer(change, {'min': 0, 'max': 1, 'palette': ['white', 'blue']}, 'changed')\n",
    "# Map"
   ]
  },
  {
   "cell_type": "code",
   "execution_count": 13,
   "id": "8541c960",
   "metadata": {},
   "outputs": [
    {
     "data": {
      "application/vnd.jupyter.widget-view+json": {
       "model_id": "91b84ba022e44461a3b3f340c5652b3e",
       "version_major": 2,
       "version_minor": 0
      },
      "text/plain": [
       "Map(bottom=519508.0, center=[1.7438103112712384, 30.297595879763534], controls=(WidgetControl(options=['positi…"
      ]
     },
     "metadata": {},
     "output_type": "display_data"
    }
   ],
   "source": [
    "# temp = []\n",
    "# for img1, img2, ls in zip(m2000, m2020, c):\n",
    "#     before = img1.select('NDVI').lt(5000)\n",
    "#     after = img2.select('NDVI').lt(5000)\n",
    "#     change = before.neq(1).And(after.eq(1))\n",
    "    \n",
    "#     areaImage = change.multiply(ee.Image.pixelArea())\n",
    "    \n",
    "#     area = areaImage.reduceRegion(**{\n",
    "#         'reducer': ee.Reducer.sum(),\n",
    "#         'geometry': change.geometry(),\n",
    "#         'scale': 10,\n",
    "#         'maxPixels': 1e10\n",
    "#     })\n",
    "    \n",
    "#     area = ee.Number(area.get('NDVI')).divide(1e6)\n",
    "#     totalArea = img1.geometry().area(1).divide(1e6)\n",
    "#     percent = area.divide(totalArea).multiply(100)\n",
    "#    # print(prcent.getInfo())\n",
    "#     imgx = ls.set('percent', percent)\n",
    "#     temp.append(imgx)\n",
    "      \n",
    "def select_threshold(img):\n",
    "    return img.select('NDVI').lt(5000)\n",
    "\n",
    "before = ndvi2000.map(select_threshold)\n",
    "after = ndvi2020.map(select_threshold)\n",
    "\n",
    "filter2 = ee.Filter.equals({\n",
    "  'leftField': 'NDVI',\n",
    "  'rightField': 'NDVI'\n",
    "})\n",
    "\n",
    "simpleJoin = ee.Join.inner()\n",
    "innerJoin = ee.ImageCollection(simpleJoin.apply(before, after, filter2))\n",
    "\n",
    "#change = ee.ImageCollection.map(change(before, after))\n",
    "\n",
    "Map.addLayer(before, {'min': 0, 'max': 1, 'palette': ['white', 'green']}, 'before')\n",
    "Map.addLayer(after, {'min': 0, 'max': 1, 'palette': ['white', 'green']}, 'after')\n",
    "\n",
    "co = ee.ImageCollection(temp)\n",
    "d = co.filter(ee.Filter.gt('percent', 5))\n",
    "Map.addLayer(d, rgbVis, 'filtered squares')\n",
    "Map"
   ]
  },
  {
   "cell_type": "code",
   "execution_count": 15,
   "id": "2ff94526-e609-42f0-8eaf-cc8f3bf55dd4",
   "metadata": {},
   "outputs": [
    {
     "data": {
      "application/vnd.jupyter.widget-view+json": {
       "model_id": "ae5db1b102534e1bb17297d06384e314",
       "version_major": 2,
       "version_minor": 0
      },
      "text/plain": [
       "Map(center=[-4.064367300737955, 27.18857464339792], controls=(WidgetControl(options=['position', 'transparent_…"
      ]
     },
     "metadata": {},
     "output_type": "display_data"
    }
   ],
   "source": [
    "all = ee.Geometry.Polygon(\n",
    "        [[[22.92587933089792, 5.5911393992628495],\n",
    "          [22.92587933089792, -13.776973382582892],\n",
    "          [31.45126995589792, -13.776973382582892],\n",
    "          [31.45126995589792, 5.5911393992628495]]])\n",
    "\n",
    "squares = create_segments(all, 100)\n",
    "focus = squares[27]\n",
    "focus2 = create_segments(focus, 10)\n",
    "\n",
    "def test_map(feature):\n",
    "    ndvi = modis \\\n",
    "        .filter(ee.Filter.bounds(feature.geometry()))\\\n",
    "        .filter(ee.Filter.date('2020-01-01', '2020-12-31')) \\\n",
    "        .select('NDVI') \\\n",
    "        .median() \\\n",
    "        .clip(feature.geometry())\n",
    "    \n",
    "    return ndvi\n",
    "\n",
    "Map = geemap.Map()\n",
    "Map.centerObject(all, 5)\n",
    "Map.addLayer(all, {'color': 'red'}, 'all')\n",
    "Map.addLayer(ee.FeatureCollection(squares), {'color': 'red'}, '100x100')\n",
    "#Map.addLayer(big, {'color': 'blue'}, 'ref')\n",
    "#Map.addLayer(activeMines, {'color': 'green'}, 'Active Mines')\n",
    "#Map.addLayer(focus, {'color': 'purple'}, 'focus')\n",
    "#Map.addLayer(ee.FeatureCollection(focus2), {'color': 'pink'}, 'focus squares')\n",
    "\n",
    "#test = ee.ImageCollection(ee.FeatureCollection(focus2).map(test_map))\n",
    "#Map.addLayer(test, ndviVis, 'ssss')\n",
    "\n",
    "smaller = []\n",
    "for square in squares:\n",
    "    new = create_segments(square, 10)\n",
    "    smaller.append(ee.FeatureCollection(new))\n",
    "    \n",
    "smaller1 = smaller[:50]\n",
    "smaller2 = smaller[50:100]\n",
    "smaller3 = smaller[100:150]\n",
    "smaller4 = smaller[150:200]\n",
    "smaller5 = smaller[200:]\n",
    "\n",
    "#test = ee.ImageCollection(ee.FeatureCollection(smaller1).flatten().map(test_map))\n",
    "#Map.addLayer(test, ndviVis, 'NDVI 1')\n",
    "\n",
    "Map.addLayer(ee.FeatureCollection(smaller1).flatten(), {'color': 'green'}, '10x10')\n",
    "Map.addLayer(activeMines, {'color': 'blue'}, 'Active Mins')\n",
    "# Map.addLayer(ee.FeatureCollection(smaller2).flatten()), {'color': 'red'}, 'smaller squares 2')\n",
    "# Map.addLayer(ee.FeatureCollection(smaller3).flatten()), {'color': 'red'}, 'smaller squares 3')\n",
    "# Map.addLayer(ee.FeatureCollection(smaller4).flatten()), {'color': 'red'}, 'smaller squares 4')\n",
    "# Map.addLayer(ee.FeatureCollection(smaller5).flatten()), {'color': 'red'}, 'smaller squares 5')\n",
    "Map"
   ]
  },
  {
   "cell_type": "code",
   "execution_count": null,
   "id": "5591a215",
   "metadata": {},
   "outputs": [],
   "source": [
    "# def percent_change(l):\n",
    "#     img1 = l.get(0)\n",
    "#     img2 = l.get(1)\n",
    "    \n",
    "#     before = img1.select('NDVI').lt(5000)\n",
    "#     after = img2.select('NDVI').lt(5000)\n",
    "    \n",
    "#     change = before.eq(1).And(after.neq(1))\n",
    "    \n",
    "#     areaImage = change.multiply(ee.Image.pixelArea())\n",
    "    \n",
    "#     area = areaImage.reduceRegion(**{\n",
    "#         'reducer': ee.Reducer.sum(),\n",
    "#         'geometry': change.geometry(),\n",
    "#         'scale': 10,\n",
    "#         'maxPixels': 1e10\n",
    "#     })\n",
    "    \n",
    "#     area = ee.Number(area.get('NDVI')).divide(1e6)\n",
    "#     totalArea = ee.Number(img.geometry().area(1).divide(1e6))\n",
    "    \n",
    "#     percent = area.divide(totalArea).multiply(100)\n",
    "#     return img1, img2.set('percent loss', percent)\n",
    "    "
   ]
  },
  {
   "cell_type": "code",
   "execution_count": 10,
   "id": "4af74ea3",
   "metadata": {},
   "outputs": [],
   "source": [
    "#ndvi2020 = ndvi2020.map(percent_change(ndvi2000, ndvi2020))\n",
    "\n",
    "#filtered = ndvi2020.filter(ee.Filter.gt('percent loss', 0))\n",
    "\n",
    "#Map.addLayer(filtered, ndviVis, 'P')\n",
    "#Map\n",
    "#l = [ndvi2000, ndvi2020]\n",
    "\n",
    "#c = ee.List(l)\n",
    "#print(c.get(0))\n",
    "\n",
    "#test = c.map(percent_change)\n",
    "\n",
    "#print(test)"
   ]
  },
  {
   "cell_type": "code",
   "execution_count": null,
   "id": "9da963b3",
   "metadata": {},
   "outputs": [],
   "source": []
  },
  {
   "cell_type": "code",
   "execution_count": null,
   "id": "b8dc7ab6",
   "metadata": {},
   "outputs": [],
   "source": []
  }
 ],
 "metadata": {
  "kernelspec": {
   "display_name": "Python 3 (ipykernel)",
   "language": "python",
   "name": "python3"
  },
  "language_info": {
   "codemirror_mode": {
    "name": "ipython",
    "version": 3
   },
   "file_extension": ".py",
   "mimetype": "text/x-python",
   "name": "python",
   "nbconvert_exporter": "python",
   "pygments_lexer": "ipython3",
   "version": "3.7.11"
  }
 },
 "nbformat": 4,
 "nbformat_minor": 5
}
