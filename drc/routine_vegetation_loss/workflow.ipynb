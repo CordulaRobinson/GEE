{
 "cells": [
  {
   "cell_type": "code",
   "execution_count": 1,
   "id": "1f16022d-1bef-4126-8713-f443d089ce03",
   "metadata": {},
   "outputs": [],
   "source": [
    "import ee\n",
    "import geemap\n",
    "import math\n",
    "ee.Initialize()"
   ]
  },
  {
   "cell_type": "markdown",
   "id": "64d1416b-7c4f-471f-a8ff-75ec2ea53aa5",
   "metadata": {
    "jp-MarkdownHeadingCollapsed": true,
    "tags": []
   },
   "source": [
    "## Imports"
   ]
  },
  {
   "cell_type": "markdown",
   "id": "bf883468-f32b-4f03-9e61-eb0b71ac998c",
   "metadata": {
    "jp-MarkdownHeadingCollapsed": true,
    "tags": []
   },
   "source": [
    "#### Datasets"
   ]
  },
  {
   "cell_type": "code",
   "execution_count": 2,
   "id": "10f8db39-6d0a-444b-9246-4b4521441cad",
   "metadata": {},
   "outputs": [],
   "source": [
    "ls8 = ee.ImageCollection(\"LANDSAT/LC08/C02/T1_L2\")\n",
    "s2 = ee.ImageCollection(\"COPERNICUS/S2_SR\")\n",
    "modis_ndvi = ee.ImageCollection(\"MODIS/006/MOD13Q1\")\n",
    "modis = ee.ImageCollection('MODIS/006/MCD43A4')\n",
    "admin = ee.FeatureCollection(\"FAO/GAUL/2015/level0\")\n",
    "active_mines = ee.FeatureCollection(\"users/raymondeah/cod_mines_curated_all_opendata_p_ipis\")"
   ]
  },
  {
   "cell_type": "markdown",
   "id": "334d0890-388a-4334-be11-94df6defd4be",
   "metadata": {
    "jp-MarkdownHeadingCollapsed": true,
    "tags": []
   },
   "source": [
    "#### Visualization Parameters"
   ]
  },
  {
   "cell_type": "code",
   "execution_count": 3,
   "id": "cab948db-c1e6-4c63-80c6-0e68c3f271b6",
   "metadata": {},
   "outputs": [],
   "source": [
    "rgb_vis_s2 = {\n",
    "  'min': 0.0,\n",
    "  'max': 3000,\n",
    "  'bands': ['B4', 'B3', 'B2'],\n",
    "};"
   ]
  },
  {
   "cell_type": "markdown",
   "id": "74076710-fbc8-432a-bffe-4678d7d42944",
   "metadata": {
    "jp-MarkdownHeadingCollapsed": true,
    "tags": []
   },
   "source": [
    "#### Geometry"
   ]
  },
  {
   "cell_type": "code",
   "execution_count": 4,
   "id": "b0e0a90e-3546-43cc-a58a-c244b280b097",
   "metadata": {},
   "outputs": [],
   "source": [
    "roi1 = ee.Geometry.Polygon(\n",
    "        [[[29.554129272985683, 3.1591674847348235],\n",
    "          [29.554129272985683, 3.092319151883147],\n",
    "          [29.625197083044277, 3.092319151883147],\n",
    "          [29.625197083044277, 3.1591674847348235]]])\n",
    "\n",
    "roi2 = ee.Geometry.Polygon(\n",
    "        [[[30.246670960050185, 1.7911944738716732],\n",
    "          [30.246670960050185, 1.7103797163160706],\n",
    "          [30.356362579923232, 1.7103797163160706],\n",
    "          [30.356362579923232, 1.7911944738716732]]])\n",
    "\n",
    "all = ee.Geometry.Polygon(\n",
    "        [[[22.92587933089792, 5.5911393992628495],\n",
    "          [22.92587933089792, -13.776973382582892],\n",
    "          [31.45126995589792, -13.776973382582892],\n",
    "          [31.45126995589792, 5.5911393992628495]]])\n",
    "\n",
    "big = ee.Geometry.Polygon(\n",
    "         [[[29.324961334750263, 3.3062182501952346],\n",
    "           [29.324961334750263, 2.9023783494297306],\n",
    "           [29.879770905062763, 2.9023783494297306],\n",
    "           [29.879770905062763, 3.3062182501952346]]], None, False)\n",
    "\n",
    "big2 = ee.Geometry.Polygon(\n",
    "        [[[23.93083329745621, 5.799063854338723],\n",
    "          [23.93083329745621, -0.38729587002473354],\n",
    "          [31.48942704745621, -0.38729587002473354],\n",
    "          [31.48942704745621, 5.799063854338723]]])\n",
    "\n",
    "big3 = ee.Geometry.Polygon(\n",
    "        [[[26.156761924059015, -0.3200034949749593],\n",
    "          [26.156761924059015, -2.4396289702937817],\n",
    "          [29.276879111559015, -2.4396289702937817],\n",
    "          [29.276879111559015, -0.3200034949749593]]])\n",
    "\n",
    "small_scale = ee.Geometry.Polygon(\n",
    "        [[[27.5104479108957, -0.8826212527375145],\n",
    "          [27.5104479108957, -1.1599816977095712],\n",
    "          [28.01307242261445, -1.1599816977095712],\n",
    "          [28.01307242261445, -0.8826212527375145]]])\n",
    "\n",
    "rishiArea = ee.Geometry.Polygon(\n",
    "        [[[27.35, -7.5],\n",
    "          [27.35, -7.6],\n",
    "          [27.45, -7.6],\n",
    "          [27.45, -7.5]]])"
   ]
  },
  {
   "cell_type": "markdown",
   "id": "85be83b9-ecd4-4d5a-8b8a-97d26096b33d",
   "metadata": {
    "jp-MarkdownHeadingCollapsed": true,
    "tags": []
   },
   "source": [
    "#### Training Data"
   ]
  },
  {
   "cell_type": "code",
   "execution_count": 5,
   "id": "1d7c162c-cf62-4ac4-ba61-fe4ee47f726e",
   "metadata": {},
   "outputs": [],
   "source": [
    "bare = ee.FeatureCollection(\n",
    "        [ee.Feature(\n",
    "            ee.Geometry.Point([29.56666114888061, 3.1144301810591006]),\n",
    "            {\n",
    "              \"landcover\": 1,\n",
    "              \"system:index\": \"0\"\n",
    "            }),\n",
    "        ee.Feature(\n",
    "            ee.Geometry.Point([29.571982651566156, 3.139798234432259]),\n",
    "            {\n",
    "              \"landcover\": 1,\n",
    "              \"system:index\": \"1\"\n",
    "            }),\n",
    "        ee.Feature(\n",
    "            ee.Geometry.Point([29.586917191361078, 3.106373981962297]),\n",
    "            {\n",
    "              \"landcover\": 1,\n",
    "              \"system:index\": \"2\"\n",
    "            }),\n",
    "        ee.Feature(\n",
    "            ee.Geometry.Point([29.601680069779047, 3.1313994198763146]),\n",
    "            {\n",
    "              \"landcover\": 1,\n",
    "              \"system:index\": \"3\"\n",
    "            }),\n",
    "        ee.Feature(\n",
    "            ee.Geometry.Point([29.604426651810297, 3.122486318522175]),\n",
    "            {\n",
    "              \"landcover\": 1,\n",
    "              \"system:index\": \"4\"\n",
    "            })])\n",
    "\n",
    "vegetation = ee.FeatureCollection(\n",
    "        [ee.Feature(\n",
    "            ee.Geometry.Point([29.59962013325561, 3.101745924882264]),\n",
    "            {\n",
    "              \"landcover\": 0,\n",
    "              \"system:index\": \"0\"\n",
    "            }),\n",
    "        ee.Feature(\n",
    "            ee.Geometry.Point([29.617472916458734, 3.106031163614695]),\n",
    "            {\n",
    "              \"landcover\": 0,\n",
    "              \"system:index\": \"1\"\n",
    "            }),\n",
    "        ee.Feature(\n",
    "            ee.Geometry.Point([29.614211350296625, 3.152482030389055]),\n",
    "            {\n",
    "              \"landcover\": 0,\n",
    "              \"system:index\": \"2\"\n",
    "            }),\n",
    "        ee.Feature(\n",
    "            ee.Geometry.Point([29.55739143452514, 3.0947180957749514]),\n",
    "            {\n",
    "              \"landcover\": 0,\n",
    "              \"system:index\": \"3\"\n",
    "            }),\n",
    "        ee.Feature(\n",
    "            ee.Geometry.Point([29.558078080032953, 3.101745924882264]),\n",
    "            {\n",
    "              \"landcover\": 0,\n",
    "              \"system:index\": \"4\"\n",
    "            })])"
   ]
  },
  {
   "cell_type": "markdown",
   "id": "62de6d3d-0031-4ce0-a42b-eccc385ebe9b",
   "metadata": {
    "jp-MarkdownHeadingCollapsed": true,
    "tags": []
   },
   "source": [
    "## Classification/Areal Change"
   ]
  },
  {
   "cell_type": "code",
   "execution_count": 6,
   "id": "023ad3ff-c56a-4821-b579-3ae5315bd243",
   "metadata": {},
   "outputs": [],
   "source": [
    "true_color = modis.select([\n",
    "  'Nadir_Reflectance_Band1', 'Nadir_Reflectance_Band4',\n",
    "  'Nadir_Reflectance_Band3'\n",
    "])\n",
    "\n",
    "composite2020 = true_color.filter(ee.Filter.date('2020-01-01', '2020-12-31')).median().clip(roi1)\n",
    "composite2000 = true_color.filter(ee.Filter.date('2000-01-01', '2000-12-31')).median().clip(roi1)\n",
    "\n",
    "true_color_vis = {\n",
    "    'min': 0.0, \n",
    "    'max': 4000.0,\n",
    "    'gamma': 1.4,\n",
    "}\n",
    "\n",
    "Map = geemap.Map()\n",
    "Map.centerObject(roi1, 12)\n",
    "Map.addLayer(composite2000, true_color_vis, '2000 Median Composite')\n",
    "Map.addLayer(composite2020, true_color_vis, '2020 Median Composite')\n",
    "Map.addLayer(bare, {'color': 'brown'}, 'Bare Points')\n",
    "Map.addLayer(vegetation, {'color': 'green'}, 'Vegetation Points')\n",
    "#Map"
   ]
  },
  {
   "cell_type": "code",
   "execution_count": 7,
   "id": "2526e9e2-fb81-4313-bef5-49ef34ded4c5",
   "metadata": {},
   "outputs": [],
   "source": [
    "training = bare.merge(vegetation)\n",
    "\n",
    "# Overlay the point on the image to get training data.\n",
    "training = composite2020.sampleRegions(**{\n",
    "  'collection': training,\n",
    "  'properties': ['landcover'],\n",
    "  'scale': 1\n",
    "})\n",
    "\n",
    "# Train a classifier.\n",
    "classifier = ee.Classifier.smileRandomForest(50).train(**{\n",
    "  'features': training,\n",
    "  'classProperty': 'landcover',\n",
    "  'inputProperties': composite2020.bandNames()\n",
    "})\n",
    "\n",
    "# Classify the image.\n",
    "left_classified = composite2000.classify(classifier)\n",
    "Map.addLayer(left_classified,\n",
    "  {'min': 0, 'max': 1, 'palette': ['green', 'brown']}, '2000 Classified')\n",
    "\n",
    "# Classify the image.\n",
    "right_classified = composite2020.classify(classifier)\n",
    "Map.addLayer(right_classified,\n",
    "  {'min': 0, 'max': 1, 'palette': ['green', 'brown']}, '2020 Classified')\n",
    "\n",
    "#Map"
   ]
  },
  {
   "cell_type": "code",
   "execution_count": 8,
   "id": "bcc1e735-eed5-4968-bee3-e2d9e607be43",
   "metadata": {},
   "outputs": [],
   "source": [
    "# Reclassify from 0-3 to 1-4\n",
    "left_classes = left_classified.remap([0, 1], [1, 2])\n",
    "right_classes = right_classified.remap([0, 1], [1, 2])\n",
    "\n",
    "initial_vegetation = left_classes.eq(1)\n",
    "bare = right_classes.eq(2)\n",
    "vegetation_to_bare = initial_vegetation.And(bare)\n",
    "\n",
    "Map.addLayer(vegetation_to_bare, {'min': 0, 'max': 1, 'palette': ['white', 'brown']}, 'vegetation to bare')\n",
    "Map.centerObject(roi1, 12)\n",
    "#Map"
   ]
  },
  {
   "cell_type": "code",
   "execution_count": 9,
   "id": "467344fc-bc8d-4caf-926a-a7c3d238f0de",
   "metadata": {},
   "outputs": [
    {
     "name": "stdout",
     "output_type": "stream",
     "text": [
      "Vegetation area in 2000: 55.41621163088233 sq km\n",
      "Area of Vegetation -> Bare from 2000-2020: 19.977357927941178 sq km\n",
      "% Change: 36.049663699508834 %\n"
     ]
    }
   ],
   "source": [
    "area_image = vegetation_to_bare.multiply(ee.Image.pixelArea())\n",
    "\n",
    "area = area_image.reduceRegion(**{\n",
    "  'reducer': ee.Reducer.sum(),\n",
    "  'geometry': roi1,\n",
    "  'scale': 1000,\n",
    "  'maxPixels': 1e10\n",
    "})\n",
    "\n",
    "area_vegetation_to_bare = ee.Number(area.get('remapped')).divide(1e6).getInfo()\n",
    "\n",
    "area_initial_vegetation = left_classified.eq(0).multiply(ee.Image.pixelArea())\n",
    "\n",
    "area2 = area_initial_vegetation.reduceRegion(**{\n",
    "  'reducer': ee.Reducer.sum(),\n",
    "  'geometry': roi1,\n",
    "  'scale': 1000,\n",
    "  'maxPixels': 1e10\n",
    "})\n",
    "\n",
    "area_initial_vegetation = ee.Number(area2.get('classification')).divide(1e6).getInfo()\n",
    "\n",
    "print('Vegetation area in 2000:', area_initial_vegetation, 'sq km')\n",
    "print('Area of Vegetation -> Bare from 2000-2020:', area_vegetation_to_bare, 'sq km')\n",
    "print('% Change:', area_vegetation_to_bare / area_initial_vegetation * 100, '%')"
   ]
  },
  {
   "cell_type": "code",
   "execution_count": 10,
   "id": "b2202f9b-d9c4-41cb-829c-a92f421239ca",
   "metadata": {},
   "outputs": [],
   "source": [
    "def calculate_percentage_change(feature):\n",
    "    g = feature.geometry()\n",
    "    true_color = modis.select([\n",
    "        'Nadir_Reflectance_Band1', 'Nadir_Reflectance_Band4',\n",
    "        'Nadir_Reflectance_Band3'\n",
    "    ])\n",
    "\n",
    "    composite2020 = true_color.filter(ee.Filter.date('2020-01-01', '2020-12-31')).median().clip(g)\n",
    "    composite2000 = true_color.filter(ee.Filter.date('2000-01-01', '2000-12-31')).median().clip(g)\n",
    "    \n",
    "    left_classified = composite2000.classify(classifier)\n",
    "    right_classified = composite2020.classify(classifier)\n",
    "    \n",
    "    # Reclassify from 0-3 to 1-4\n",
    "    left_classes = left_classified.remap([0, 1], [1, 2])\n",
    "    right_classes = right_classified.remap([0, 1], [1, 2])\n",
    "\n",
    "    initial_vegetation = left_classes.eq(1)\n",
    "    bare = right_classes.eq(2)\n",
    "    vegetation_to_bare = initial_vegetation.And(bare)\n",
    "    \n",
    "    area_image = vegetation_to_bare.multiply(ee.Image.pixelArea())\n",
    "\n",
    "    area = area_image.reduceRegion(**{\n",
    "      'reducer': ee.Reducer.sum(),\n",
    "      'geometry': g,\n",
    "      'scale': 1000,\n",
    "      'maxPixels': 1e10\n",
    "    })\n",
    "\n",
    "    area_vegetation_to_bare = ee.Number(area.get('remapped')).divide(1e6)\n",
    "\n",
    "    area_initial_vegetation = left_classified.eq(0).multiply(ee.Image.pixelArea())\n",
    "\n",
    "    area2 = area_initial_vegetation.reduceRegion(**{\n",
    "      'reducer': ee.Reducer.sum(),\n",
    "      'geometry': g,\n",
    "      'scale': 1000,\n",
    "      'maxPixels': 1e10\n",
    "    })\n",
    "\n",
    "    area_initial_vegetation = ee.Number(area2.get('classification')).divide(1e6)\n",
    "    \n",
    "    percent_loss = area_vegetation_to_bare.divide(area_initial_vegetation).multiply(100)\n",
    "    \n",
    "    return feature.set('percent loss',  percent_loss)"
   ]
  },
  {
   "cell_type": "markdown",
   "id": "a4efbcd2-28a8-47c7-949e-c0470e13146a",
   "metadata": {
    "jp-MarkdownHeadingCollapsed": true,
    "tags": []
   },
   "source": [
    "## Region Segmentation"
   ]
  },
  {
   "cell_type": "code",
   "execution_count": 11,
   "id": "9b2aa61d-d305-4f06-95cb-25c9790f4df9",
   "metadata": {},
   "outputs": [],
   "source": [
    "\"\"\"\n",
    "Segment the given geometry into squares of given size (in km)\n",
    ":param geometry: rectangle form geometry object\n",
    ":return: list including all squares\n",
    "\"\"\"\n",
    "def create_segments(geometry, size):\n",
    "    segments = []\n",
    "    r_earth, dy, dx, pi = ee.Number(6378), ee.Number(size), ee.Number(size), ee.Number(math.pi)\n",
    "    \n",
    "    coords = ee.List(geometry.coordinates().get(0)).slice(0, -1)\n",
    "    \n",
    "    top = ee.Number(ee.List(coords.get(2)).get(1))\n",
    "    left = ee.Number(ee.List(coords.get(0)).get(0))\n",
    "    \n",
    "    width = int(ee.Geometry.Point(coords.get(0)).distance(ee.Geometry.Point(coords.get(1))).divide(1000 * size).getInfo())\n",
    "    height = int(ee.Geometry.Point(coords.get(1)).distance(ee.Geometry.Point(coords.get(2))).divide(1000 * size).getInfo())\n",
    "\n",
    "    for y in range(height + 1):\n",
    "        left = ee.Number(ee.List(coords.get(0)).get(0))\n",
    "        for x in range(width + 1):\n",
    "            #\n",
    "            first = top\n",
    "            second = dx.divide(r_earth)\n",
    "            third = ee.Number(180).divide(pi)\n",
    "            con = pi.divide(ee.Number(180))\n",
    "            fourth = left.multiply(con).multiply(con).cos()\n",
    "            \n",
    "            new_lon = first.subtract(second.multiply(third).divide(fourth))\n",
    "            #new_lon = top - (dx / r_earth) * (180 / pi) / math.cos(math.radians(left * pi/180))\n",
    "            #new_lat = left  + (dy / r_earth) * (180 / pi)\n",
    "            new_lat = left.add((dy.divide(r_earth)).multiply((ee.Number(180).divide(pi))))\n",
    "            \n",
    "            square = ee.Geometry.Polygon(\n",
    "                [[[left, new_lon],\n",
    "                  [new_lat, new_lon],\n",
    "                  [new_lat, top],\n",
    "                  [left, top]]], None, False)\n",
    "            \n",
    "            segments.append(square)\n",
    "            \n",
    "            left = new_lat\n",
    "        top = new_lon\n",
    "        \n",
    "    return segments"
   ]
  },
  {
   "cell_type": "markdown",
   "id": "cec326be-4f20-4014-bc64-4e421efce8fb",
   "metadata": {
    "jp-MarkdownHeadingCollapsed": true,
    "tags": []
   },
   "source": [
    "## Reference Median Composite"
   ]
  },
  {
   "cell_type": "code",
   "execution_count": 12,
   "id": "676825d7-2c94-4d93-a748-957d62a6be77",
   "metadata": {},
   "outputs": [],
   "source": [
    "def create_median_composite(feature):\n",
    "    filtered = s2 \\\n",
    "        .filter(ee.Filter.bounds(feature.geometry())) \\\n",
    "        .filter(ee.Filter.date('2020-01-01', '2021-12-31')) \\\n",
    "        .filter(ee.Filter.lt('CLOUDY_PIXEL_PERCENTAGE', 20)) \\\n",
    "        .select('B.*')\n",
    "    \n",
    "    composite = filtered.median().clip(feature.geometry())\n",
    "    return composite"
   ]
  },
  {
   "cell_type": "markdown",
   "id": "589f0b37-69da-48bc-8e2d-a4ec05cada41",
   "metadata": {
    "tags": []
   },
   "source": [
    "## Workflow"
   ]
  },
  {
   "cell_type": "code",
   "execution_count": 13,
   "id": "38d965f9-4512-4962-9575-3e57127b45f4",
   "metadata": {},
   "outputs": [],
   "source": [
    "def filter_by_vegetation_loss(squares, threshold):\n",
    "    with_percent_change = squares.map(calculate_percentage_change)\n",
    "    passed = with_percent_change.filter(ee.Filter.gt('percent loss', threshold))\n",
    "    return passed"
   ]
  },
  {
   "cell_type": "code",
   "execution_count": 28,
   "id": "d8940f46-a40f-4608-884b-76d39b3e06b3",
   "metadata": {},
   "outputs": [
    {
     "data": {
      "application/vnd.jupyter.widget-view+json": {
       "model_id": "bca9307160044d66a991b068cd46d162",
       "version_major": 2,
       "version_minor": 0
      },
      "text/plain": [
       "Map(center=[3.1257435633122834, 29.589663178011996], controls=(WidgetControl(options=['position', 'transparent…"
      ]
     },
     "metadata": {},
     "output_type": "display_data"
    }
   ],
   "source": [
    "Map = geemap.Map()\n",
    "Map.centerObject(roi1, 12)\n",
    "\n",
    "drc = admin.filter(ee.Filter.eq('ADM0_NAME', 'Democratic Republic of the Congo'))\n",
    "\n",
    "segments = ee.FeatureCollection(create_segments(roi1, 0.5)).filter(ee.Filter.bounds(drc))\n",
    "\n",
    "passed_vegetation_loss = filter_by_vegetation_loss(segments, 20)\n",
    "composites = ee.ImageCollection(segments.map(create_median_composite))\n",
    "\n",
    "Map.addLayer(composites, rgb_vis_s2, 'Median Composites 2021')\n",
    "Map.addLayer(passed_vegetation_loss, {'color': 'red'}, 'Passed 20% Vegetation Loss', opacity=0.7)\n",
    "Map.addLayer(active_mines, {'color': 'green'}, 'mapbox active mines')\n",
    "\n",
    "Map"
   ]
  },
  {
   "cell_type": "code",
   "execution_count": 25,
   "id": "683503ec-e7f2-4ed5-bf3e-c7366b63e80e",
   "metadata": {},
   "outputs": [
    {
     "data": {
      "application/vnd.jupyter.widget-view+json": {
       "model_id": "1df2b97dfec545c6bbb9c6d829e110d6",
       "version_major": 2,
       "version_minor": 0
      },
      "text/plain": [
       "Map(center=[1.7507876063752705, 30.30151676998732], controls=(WidgetControl(options=['position', 'transparent_…"
      ]
     },
     "metadata": {},
     "output_type": "display_data"
    }
   ],
   "source": [
    "Map = geemap.Map()\n",
    "Map.centerObject(roi2, 12)\n",
    "\n",
    "drc = admin.filter(ee.Filter.eq('ADM0_NAME', 'Democratic Republic of the Congo'))\n",
    "\n",
    "segments = ee.FeatureCollection(create_segments(roi2, 0.5)).filter(ee.Filter.bounds(drc))\n",
    "\n",
    "passed_vegetation_loss = filter_by_vegetation_loss(segments, 20)\n",
    "# read = passed_vegetation_loss.getInfo()['features']\n",
    "# for item in read:\n",
    "#     print(item['properties'])\n",
    "\n",
    "composites = ee.ImageCollection(segments.map(create_median_composite))\n",
    "\n",
    "Map.addLayer(composites, rgb_vis_s2, 'Median Composites 2021')\n",
    "Map.addLayer(passed_vegetation_loss, {'color': 'red'}, 'Passed 20% Vegetation Loss', opacity=0.7)\n",
    "Map.addLayer(active_mines, {'color': 'green'}, 'mapbox active mines')\n",
    "\n",
    "Map"
   ]
  },
  {
   "cell_type": "code",
   "execution_count": 26,
   "id": "a6478a0d-733e-4bb0-b1e6-f2c778d049ed",
   "metadata": {},
   "outputs": [
    {
     "data": {
      "application/vnd.jupyter.widget-view+json": {
       "model_id": "34b7ac66caab4fa0bb63b6f653d0ea3c",
       "version_major": 2,
       "version_minor": 0
      },
      "text/plain": [
       "Map(center=[-7.55000091393896, 27.399999999997924], controls=(WidgetControl(options=['position', 'transparent_…"
      ]
     },
     "metadata": {},
     "output_type": "display_data"
    }
   ],
   "source": [
    "Map = geemap.Map()\n",
    "Map.centerObject(rishiArea, 12)\n",
    "\n",
    "drc = admin.filter(ee.Filter.eq('ADM0_NAME', 'Democratic Republic of the Congo'))\n",
    "\n",
    "segments = ee.FeatureCollection(create_segments(rishiArea, 0.5)).filter(ee.Filter.bounds(drc))\n",
    "\n",
    "passed_vegetation_loss = filter_by_vegetation_loss(segments, 20)\n",
    "composites = ee.ImageCollection(segments.map(create_median_composite))\n",
    "\n",
    "Map.addLayer(composites, rgb_vis_s2, 'Median Composites 2021')\n",
    "Map.addLayer(passed_vegetation_loss, {'color': 'red'}, 'Passed 20% Vegetation Loss', opacity=0.7)\n",
    "Map.addLayer(active_mines, {'color': 'green'}, 'mapbox active mines')\n",
    "\n",
    "Map"
   ]
  },
  {
   "cell_type": "code",
   "execution_count": 27,
   "id": "7e0cd93a-f6d2-4060-b23c-6ac2171da489",
   "metadata": {},
   "outputs": [
    {
     "data": {
      "application/vnd.jupyter.widget-view+json": {
       "model_id": "bbbab8a254834236886f7e1b7f2cd9e2",
       "version_major": 2,
       "version_minor": 0
      },
      "text/plain": [
       "Map(center=[-10.704552846449875, 25.788532369849722], controls=(WidgetControl(options=['position', 'transparen…"
      ]
     },
     "metadata": {},
     "output_type": "display_data"
    }
   ],
   "source": [
    "emily_area = ee.Geometry.Polygon(\n",
    "        [[[25.599767416235804, -10.585427828449394],\n",
    "          [25.599767416235804, -10.82359555219894],\n",
    "          [25.977297323462366, -10.82359555219894],\n",
    "          [25.977297323462366, -10.585427828449394]]])\n",
    "\n",
    "Map = geemap.Map()\n",
    "Map.centerObject(emily_area, 11)\n",
    "\n",
    "drc = admin.filter(ee.Filter.eq('ADM0_NAME', 'Democratic Republic of the Congo'))\n",
    "\n",
    "segments = ee.FeatureCollection(create_segments(emily_area, 0.5)).filter(ee.Filter.bounds(drc))\n",
    "\n",
    "passed_vegetation_loss = filter_by_vegetation_loss(segments, 20)\n",
    "composites = ee.ImageCollection(segments.map(create_median_composite))\n",
    "\n",
    "Map.addLayer(composites, rgb_vis_s2, 'Median Composites 2021')\n",
    "Map.addLayer(passed_vegetation_loss, {'color': 'red'}, 'Passed 20% Vegetation Loss', opacity=0.7)\n",
    "Map.addLayer(active_mines, {'color': 'green'}, 'mapbox active mines')\n",
    "\n",
    "Map"
   ]
  },
  {
   "cell_type": "code",
   "execution_count": 18,
   "id": "026a4879-3e5d-4226-92cf-88f7936b627e",
   "metadata": {},
   "outputs": [],
   "source": [
    "# Map = geemap.Map()\n",
    "# Map.centerObject(all, 5)\n",
    "\n",
    "# drc = admin.filter(ee.Filter.eq('ADM0_NAME', 'Democratic Republic of the Congo'))\n",
    "\n",
    "# segments = create_segments(all, 10)\n",
    "# mid = len(segments) // 2\n",
    "# first_half = ee.FeatureCollection(segments[:mid]).filter(ee.Filter.bounds(drc))\n",
    "# second_half = ee.FeatureCollection(segments[mid:]).filter(ee.Filter.bounds(drc))\n",
    "\n",
    "# passed_vegetation_loss1 = filter_by_vegetation_loss(first_half, 0)\n",
    "# passed_vegetation_loss2 = filter_by_vegetation_loss(second_half, 0)\n",
    "\n",
    "# composites1 = ee.ImageCollection(first_half.map(create_median_composite))\n",
    "# composites2 = ee.ImageCollection(second_half.map(create_median_composite))\n",
    "\n",
    "# Map.addLayer(all, {'color': 'blue'}, 'bounding box')\n",
    "# Map.addLayer(active_mines, {'color': 'green'}, 'mapbox active mines')\n",
    "\n",
    "\n",
    "# Map.addLayer(composites1, rgb_vis_s2, 'Median Composites 2021 1')\n",
    "# Map.addLayer(composites2, rgb_vis_s2, 'Median Composites 2021 2')\n",
    "\n",
    "# Map.addLayer(passed_vegetation_loss1, {'color': 'red'}, 'Passed 0% Vegetation Loss 1')\n",
    "# Map.addLayer(passed_vegetation_loss2, {'color': 'red'}, 'Passed 0% Vegetation Loss 2')\n",
    "\n",
    "# Map"
   ]
  },
  {
   "cell_type": "markdown",
   "id": "5ea3d54a-04b3-4b66-b6e8-ab1716cf86f3",
   "metadata": {
    "jp-MarkdownHeadingCollapsed": true,
    "tags": []
   },
   "source": [
    "## Exporting Results"
   ]
  },
  {
   "cell_type": "code",
   "execution_count": 19,
   "id": "a0e83e2b-36f6-4c23-b8f4-fb052d06895a",
   "metadata": {},
   "outputs": [],
   "source": [
    "# task = ee.batch.Export.table.toDrive(collection=passed2,\n",
    "#                                      description='first pass 2',\n",
    "#                                      fileFormat='SHP')\n",
    "# task.start()"
   ]
  },
  {
   "cell_type": "code",
   "execution_count": 20,
   "id": "bffd420a-54a5-4ba6-b43a-b272d6b51363",
   "metadata": {},
   "outputs": [],
   "source": [
    "# task.status()"
   ]
  },
  {
   "cell_type": "markdown",
   "id": "f8123a68-0fc6-4831-b996-f1c1976ca600",
   "metadata": {
    "tags": []
   },
   "source": [
    "## Indices"
   ]
  },
  {
   "cell_type": "code",
   "execution_count": 21,
   "id": "1518be7f-175b-40bb-8cf2-292bfd5d2665",
   "metadata": {},
   "outputs": [
    {
     "data": {
      "application/vnd.jupyter.widget-view+json": {
       "model_id": "504f499e01c7460993f4981055104ab3",
       "version_major": 2,
       "version_minor": 0
      },
      "text/plain": [
       "Map(center=[3.1257435633122834, 29.589663178011996], controls=(WidgetControl(options=['position', 'transparent…"
      ]
     },
     "metadata": {},
     "output_type": "display_data"
    }
   ],
   "source": [
    "def ndwi(f):\n",
    "    return f.normalizedDifference(['B3', 'B11'])#.rename('ndwi')\n",
    "\n",
    "def nir_g(f):\n",
    "    return f.normalizedDifference(['B8', 'B3'])\n",
    "\n",
    "def nir_swir2(f):\n",
    "    return f.normalizedDifference(['B8', 'B12'])\n",
    "\n",
    "composites = ee.ImageCollection(ee.FeatureCollection(create_segments(roi1, 1)).map(create_median_composite))\n",
    "\n",
    "ndwi = composites.map(ndwi)\n",
    "\n",
    "# nir_g1 = composites1.map(nir_g)\n",
    "# nir_g2 = composites2.map(nir_g)\n",
    "\n",
    "# nir_swir1 = composites1.map(nir_swir2)\n",
    "# nir_swir2 = composites2.map(nir_swir2)\n",
    "\n",
    "ndwi_vis = {'min': 0, 'max': 1, 'palette': ['white', 'blue']}\n",
    "nir_g_vis = {'min': 0, 'max': 1, 'palette': ['white', 'red']}\n",
    "\n",
    "Map = geemap.Map()\n",
    "Map.centerObject(roi1, 12)\n",
    "Map.addLayer(composites, rgb_vis_s2, 'Median Composite')\n",
    "Map.addLayer(ndwi, ndwi_vis, 'NDWI')\n",
    "\n",
    "# Map.addLayer(nir_g1, nir_g_vis, 'NIR/G 1')\n",
    "# Map.addLayer(nir_g2, nir_g_vis, 'NIR/G 2')\n",
    "# Map.addLayer(nir_swir1, nir_g_vis, 'NIR/SWIR2 1')\n",
    "# Map.addLayer(nir_swir2, nir_g_vis, 'NIR/SWIR2 2')\n",
    "Map"
   ]
  },
  {
   "cell_type": "code",
   "execution_count": null,
   "id": "3b9bc1c4-c74c-4fd2-8876-52dfe355d665",
   "metadata": {},
   "outputs": [],
   "source": []
  }
 ],
 "metadata": {
  "kernelspec": {
   "display_name": "Python 3 (ipykernel)",
   "language": "python",
   "name": "python3"
  },
  "language_info": {
   "codemirror_mode": {
    "name": "ipython",
    "version": 3
   },
   "file_extension": ".py",
   "mimetype": "text/x-python",
   "name": "python",
   "nbconvert_exporter": "python",
   "pygments_lexer": "ipython3",
   "version": "3.7.11"
  }
 },
 "nbformat": 4,
 "nbformat_minor": 5
}
