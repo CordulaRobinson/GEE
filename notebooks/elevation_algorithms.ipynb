{
 "cells": [
  {
   "cell_type": "code",
   "execution_count": 5,
   "id": "1ed0a733",
   "metadata": {},
   "outputs": [],
   "source": [
    "import numpy as np\n",
    "import pandas as pd\n",
    "import ee\n",
    "import geemap\n",
    "from csv import reader\n",
    "import scipy.interpolate\n",
    "\n",
    "ee.Initialize()"
   ]
  },
  {
   "cell_type": "code",
   "execution_count": 10,
   "id": "0480b855",
   "metadata": {},
   "outputs": [],
   "source": [
    "\"\"\"\n",
    "csv header legend:\n",
    "-0:  Mininum Longitude\n",
    "-1:  Minimum Latitude\n",
    "-2:  Maximum Longitude\n",
    "-3:  Maximum Latitude\n",
    "-4:  Percent Vegetation Loss\n",
    "-5:  Percent Bare Initial\n",
    "-6:  Percent Significant VH Values\n",
    "-7:  Average NIR/G\n",
    "-8:  Average SWIR1/B\n",
    "-9:  NASA Elev\n",
    "-10: GEDI Elev\n",
    "-11: Elev Loss\n",
    "\"\"\""
   ]
  },
  {
   "cell_type": "markdown",
   "id": "79c8e8bf",
   "metadata": {},
   "source": [
    "## Method 1: Scoring"
   ]
  },
  {
   "cell_type": "code",
   "execution_count": 11,
   "id": "34a5beed",
   "metadata": {},
   "outputs": [],
   "source": [
    "# read the csv into an ndarray\n",
    "with open('results/compiled_passing.csv', 'r') as read_obj:\n",
    "    csv_reader = reader(read_obj)\n",
    "    next(csv_reader, None) # skip header\n",
    "    results = np.array([[float(e) for e in row[:-1]] for row in csv_reader]) # cut off last col (pass/fail)"
   ]
  },
  {
   "cell_type": "code",
   "execution_count": null,
   "id": "358e1215",
   "metadata": {},
   "outputs": [],
   "source": [
    "# create a list of center coordinates for each pixel\n",
    "min_lat = results[:,0]\n",
    "min_lon = results[:,1]\n",
    "max_lat = results[:,2]\n",
    "max_lon = results[:,3]\n",
    "\n",
    "mid_lat = [(l1 + l2) / 2 for l1, l2 in zip(min_lat, max_lat)]\n",
    "mid_lon = [(l1 + l2) / 2 for l1, l2 in zip(min_lon, max_lon)]\n",
    "xy_pairs = list(zip(mid_lat, mid_lon)) "
   ]
  },
  {
   "cell_type": "code",
   "execution_count": null,
   "id": "232a062c",
   "metadata": {},
   "outputs": [],
   "source": [
    "# create an elevation interpolator using center coordinates and NASADEM values\n",
    "nasa_elev = results[:,9]\n",
    "interp1 = scipy.interpolate.LinearNDInterpolator(xy_pairs, nasa_elev)\n",
    "\n",
    "#\n",
    "pixel_size_m = 250\n",
    "dist = pixel_size_m * 0.00001 # roughly 250m\n",
    "\n",
    "# use the interpolator to calculate scores\n",
    "scores = []\n",
    "for i, (lat, lon) in enumerate(xy_pairs):\n",
    "    # elevation of the center pixel\n",
    "    center = interp1(lat, lon)\n",
    "    \n",
    "    # grab the elevation for the 8 surrounding pixels using the interpolate function\n",
    "    left = lat + dist\n",
    "    right = lat - dist\n",
    "    top = lon + dist\n",
    "    bot = lon - dist\n",
    "\n",
    "    surrounding = [interp1(left, lon),  # left\n",
    "                   interp1(left, top),  # top left corner\n",
    "                   interp1(lat, top),   # top\n",
    "                   interp1(right, top), # top right corner\n",
    "                   interp1(right, lon), # right\n",
    "                   interp1(right, bot), # bottom right corner\n",
    "                   interp1(lat, bot),   # bottom\n",
    "                   interp1(left, bot)]  # bottom left corner\n",
    "    \n",
    "    # count how many surrounding pixels are above the center pixel\n",
    "    score = 0 \n",
    "    for height in surrounding:\n",
    "        if center < height: \n",
    "            score += 1\n",
    "    scores.append(score)\n",
    "    \n",
    "# print(len(mid_lat))\n",
    "# print(len(scores))\n",
    "# print(scores)"
   ]
  },
  {
   "cell_type": "code",
   "execution_count": null,
   "id": "48f430ea",
   "metadata": {},
   "outputs": [],
   "source": [
    "# write the scores to the csv\n",
    "df = pd.read_csv(\"results/compiled_passing.csv\")\n",
    "df[\"Score\"] = scores\n",
    "df.to_csv(\"results/compiled_passing_with_score.csv\", index=False)"
   ]
  },
  {
   "cell_type": "code",
   "execution_count": null,
   "id": "5d1f4b52",
   "metadata": {},
   "outputs": [],
   "source": [
    "# # Wrap geometry list in a Feature Collection\n",
    "# fc = ee.FeatureCollection(passed)\n",
    "\n",
    "# # Export the Feature Collection to Google Earth Engine (GEE)\n",
    "# task = ee.batch.Export.table.toAsset(**{\n",
    "#   'collection': fc,\n",
    "#   'description':'compiled_results',\n",
    "#   'assetId': 'users/raymondeah/compiledResultsInterpRoi5', # change to your GEE Asset path and a unique name (will not overwrite already existing assets, so old names cannot be reused)\n",
    "# })\n",
    "\n",
    "# task.start()"
   ]
  },
  {
   "cell_type": "markdown",
   "id": "d00cba83",
   "metadata": {},
   "source": [
    "## Method 2: Crosshairs"
   ]
  },
  {
   "cell_type": "code",
   "execution_count": null,
   "id": "b2c24979",
   "metadata": {},
   "outputs": [],
   "source": [
    "# read the csv into an ndarray\n",
    "with open('results/compiled_passing.csv', 'r') as read_obj:\n",
    "    csv_reader = reader(read_obj)\n",
    "    next(csv_reader, None) # skip header\n",
    "    results = np.array([[float(e) for e in row[:-1]] for row in csv_reader]) # cut off last col (pass/fail)"
   ]
  },
  {
   "cell_type": "code",
   "execution_count": null,
   "id": "914f81bb",
   "metadata": {},
   "outputs": [],
   "source": [
    "# create a list of center coordinates for each pixel\n",
    "min_lat = results[:,0]\n",
    "min_lon = results[:,1]\n",
    "max_lat = results[:,2]\n",
    "max_lon = results[:,3]\n",
    "\n",
    "mid_lat = [(l1 + l2) / 2 for l1, l2 in zip(min_lat, max_lat)]\n",
    "mid_lon = [(l1 + l2) / 2 for l1, l2 in zip(min_lon, max_lon)]\n",
    "xy_pairs = list(zip(mid_lat, mid_lon)) "
   ]
  },
  {
   "cell_type": "code",
   "execution_count": 8,
   "id": "8e29b3d4",
   "metadata": {},
   "outputs": [],
   "source": [
    "\"\"\"\n",
    "Given a center point, returns specified amount of layers of sample points\n",
    "in 8 directions (N, E, S, W, NE, NW, SE, SW)\n",
    "\n",
    ":param center: tuple containing lat/lon coordinates of center point\n",
    ":param size:   how many layers to create\n",
    ":param dist:   distance in meters between each layer\n",
    "\n",
    ":return:       a list of all layers\n",
    "\"\"\"\n",
    "def create_layers(center, size, dist, interp):\n",
    "    layers = []\n",
    "    lat, lon = center # unpack tuple\n",
    "    dist = dist * 0.00001 # meters to degrees\n",
    "    center_elev = interp(lat, lon) # elevation of the center pixel\n",
    "        \n",
    "    for i in range(1, size+1):\n",
    "        # grab the elevation for the 8 surrounding pixels using the interpolate function\n",
    "        left = lat + (dist * i)\n",
    "        right = lat - (dist * i)\n",
    "        top = lon + (dist * i)\n",
    "        bot = lon - (dist * i)\n",
    "        \n",
    "        surrounding = [interp(lat, top),   # N\n",
    "                       interp(right, top), # NE\n",
    "                       interp(right, lon), # E\n",
    "                       interp(right, bot), # SE\n",
    "                       interp(lat, bot),   # S\n",
    "                       interp(left, bot),  # SW\n",
    "                       interp(left, lon),  # W\n",
    "                       interp(left, top)]  # NW\n",
    "                       \n",
    "        layers.append(surrounding)\n",
    "        \n",
    "    return layers"
   ]
  },
  {
   "cell_type": "code",
   "execution_count": 12,
   "id": "297f4cea",
   "metadata": {},
   "outputs": [],
   "source": [
    "CROSSHAIR_SIZE = 3 # set how many pixel layers to extend the 'crosshair'\n",
    "DIST = 250 # meters\n",
    "\n",
    "# create an elevation interpolator using center coordinates and NASADEM values\n",
    "nasa_elev = results[:,9]\n",
    "interp1 = scipy.interpolate.LinearNDInterpolator(xy_pairs, nasa_elev)\n",
    "\n",
    "# generate scores based on mean layer elevation compared to center\n",
    "scores = []\n",
    "for lat, lon in xy_pairs:\n",
    "    # elevation of the center point\n",
    "    center_elev = interp1(lat, lon)\n",
    "    \n",
    "    # create the layers\n",
    "    layers = create_layers((lat, lon), CROSSHAIR_SIZE, DIST, interp1)\n",
    "    \n",
    "    # calculate a score: take the mean elevation of the layers, how many are above the center?\n",
    "    score = 0\n",
    "    for layer in layers:\n",
    "        mean = sum(layer) / len(layer)\n",
    "        if mean > center_elev:\n",
    "            score += 1\n",
    "    scores.append(score)\n",
    "    \n",
    "# print(len(mid_lat), '=?', len(scores))\n",
    "# print(scores)"
   ]
  },
  {
   "cell_type": "code",
   "execution_count": null,
   "id": "4fd7b013",
   "metadata": {},
   "outputs": [],
   "source": [
    "# write the scores to the csv\n",
    "df = pd.read_csv(\"results/compiled_passing.csv\")\n",
    "df[\"Score\"] = scores\n",
    "df.to_csv(\"results/compiled_passing_with_score.csv\", index=False)"
   ]
  },
  {
   "cell_type": "code",
   "execution_count": null,
   "id": "e72cee2c",
   "metadata": {},
   "outputs": [],
   "source": []
  }
 ],
 "metadata": {
  "interpreter": {
   "hash": "cdd074016c42ecb5faf0b6d639f0e5fe99a43fd5ebbd9f6ef6d81cfee22e7994"
  },
  "kernelspec": {
   "display_name": "Python 3 (ipykernel)",
   "language": "python",
   "name": "python3"
  },
  "language_info": {
   "codemirror_mode": {
    "name": "ipython",
    "version": 3
   },
   "file_extension": ".py",
   "mimetype": "text/x-python",
   "name": "python",
   "nbconvert_exporter": "python",
   "pygments_lexer": "ipython3",
   "version": "3.7.11"
  }
 },
 "nbformat": 4,
 "nbformat_minor": 5
}
