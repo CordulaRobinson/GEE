{
 "cells": [
  {
   "cell_type": "code",
   "execution_count": 102,
   "id": "ce1204c9-7757-4c2a-81a3-b431a7e0e27c",
   "metadata": {},
   "outputs": [],
   "source": [
    "from csv import reader\n",
    "import numpy as np\n",
    "import pandas as pd\n",
    "import matplotlib.pyplot as plt\n",
    "import ee\n",
    "import geemap\n",
    "\n",
    "ee.Initialize()"
   ]
  },
  {
   "cell_type": "code",
   "execution_count": 103,
   "id": "8cc0ca6a-5153-4ffd-bad0-5f210d980045",
   "metadata": {},
   "outputs": [
    {
     "data": {
      "text/plain": [
       "'\\ncsv header legend:\\n-0:  Mininum Longitude\\n-1:  Minimum Latitude\\n-2:  Maximum Longitude\\n-3:  Maximum Latitude\\n-4:  Percent Vegetation Loss\\n-5:  Percent Bare Initial\\n-6:  Percent Significant VH Values\\n-7:  Average NIR/G\\n-8:  Average SWIR1/B\\n-9:  NASA Elev\\n-10: GEDI Elev\\n-11: Elev Loss\\n-12: GEDI Quality Flag\\n-13: B5\\n-14: B6\\n'"
      ]
     },
     "execution_count": 103,
     "metadata": {},
     "output_type": "execute_result"
    }
   ],
   "source": [
    "\"\"\"\n",
    "csv header legend:\n",
    "-0:  Mininum Longitude\n",
    "-1:  Minimum Latitude\n",
    "-2:  Maximum Longitude\n",
    "-3:  Maximum Latitude\n",
    "-4:  Percent Vegetation Loss\n",
    "-5:  Percent Bare Initial\n",
    "-6:  Percent Significant VH Values\n",
    "-7:  Average NIR/G\n",
    "-8:  Average SWIR1/B\n",
    "-9:  NASA Elev\n",
    "-10: GEDI Elev\n",
    "-11: Elev Loss\n",
    "-12: GEDI Quality Flag\n",
    "-13: B5\n",
    "-14: B6\n",
    "\"\"\""
   ]
  },
  {
   "cell_type": "code",
   "execution_count": 105,
   "id": "bef9ddf2-3430-4d07-aab5-107509c76d2d",
   "metadata": {},
   "outputs": [],
   "source": [
    "# read the csv into an ndarray\n",
    "with open('store/ray_compiled_with_bands.csv', 'r') as read_obj:\n",
    "    csv_reader = reader(read_obj)\n",
    "    # next(csv_reader, None) # skip header\n",
    "    results = np.array([[float(e) for e in row] for row in csv_reader]) # cut off last col (pass/fail)\n",
    "    \n",
    "with open('store/mojave_compiled.csv', 'r') as read_obj:\n",
    "    csv_reader = reader(read_obj)\n",
    "    # next(csv_reader, None) # skip header\n",
    "    results2 = np.array([[float(e) for e in row] for row in csv_reader]) # cut off last col (pass/fail)"
   ]
  },
  {
   "cell_type": "code",
   "execution_count": 205,
   "id": "bf555099-fb20-4ca1-80b5-579b96f97458",
   "metadata": {},
   "outputs": [
    {
     "name": "stdout",
     "output_type": "stream",
     "text": [
      "1600\n",
      "1600\n",
      "[0.190707538651858, 0.19110699389602626, 0.19131622886190042, 0.19133262258783218, 0.19153473242826302, 0.19164260925697849, 0.19167377150249362, 0.19187427844662788, 0.1919175986820122, 0.19206150264081157, 0.19226862653067908, 0.19268345459263875, 0.19311041442270205, 0.19353230558428342, 0.19388662830163528, 0.19466321348267557, 0.1950100253830486, 0.19561604787270692, 0.1956241816916472, 0.19596382688752007, 0.19623918692620435, 0.19705510140812338, 0.19716527338398476, 0.1971797698330277, 0.19765074892813106, 0.19774077631382958, 0.19805598238867303, 0.19805871551687376, 0.1982659151005334, 0.19858803911891137, 0.19861209998477677, 0.1993023653640008, 0.19992443095982282, 0.20097005830283332, 0.20148733714745276, 0.20336231571561814, 0.20507544940376976, 0.20865443313676377, 0.210064480283788, 0.2102739591608643]\n"
     ]
    }
   ],
   "source": [
    "row1 = results#[:40]\n",
    "\n",
    "print(len(results))\n",
    "\n",
    "left = [r[0] for r in row1]\n",
    "b5 = [r[13] for r in row1]\n",
    "b6 = [r[14] for r in row1]\n",
    "DIFF = [b2-b1 for b1, b2 in zip(b5, b6)]\n",
    "print(len(DIFF))\n",
    "print(sorted(DIFF)[-40:])"
   ]
  },
  {
   "cell_type": "code",
   "execution_count": 195,
   "id": "4136eccb-d584-453e-933c-2ab4944c4756",
   "metadata": {},
   "outputs": [
    {
     "data": {
      "image/png": "[encoded data removed]",
      "text/plain": [
       "<Figure size 432x288 with 1 Axes>"
      ]
     },
     "metadata": {
      "needs_background": "light"
     },
     "output_type": "display_data"
    }
   ],
   "source": [
    "# Data for plotting\n",
    "t = np.arange(0.0, 2.0, 0.01)\n",
    "s = 1 + np.sin(2 * np.pi * t)\n",
    "\n",
    "fig, ax = plt.subplots()\n",
    "ax.plot(left, [b2-b1 for b1, b2 in zip(b5, b6)])\n",
    "# ax.plot(left, b5)\n",
    "# ax.plot(left, b6)\n",
    "\n",
    "ax.set(xlabel='latitude (degrees)', ylabel='band value (?)',\n",
    "       title='DRC')\n",
    "ax.grid()\n",
    "ax.set_ylim([0, 0.2])\n",
    "\n",
    "plt.show()"
   ]
  },
  {
   "cell_type": "code",
   "execution_count": 124,
   "id": "19c9a369-3fef-4734-8975-997561b5525b",
   "metadata": {},
   "outputs": [
    {
     "name": "stdout",
     "output_type": "stream",
     "text": [
      "249.62801688340076\n",
      "0.2174488860697426\n"
     ]
    }
   ],
   "source": [
    "g2 = ee.Geometry.Polygon(\n",
    "        [[[29.554, 3.159],\n",
    "          [29.554, 3.156754072536685],\n",
    "          [29.556245836450024, 3.156754072536685],\n",
    "          [29.556245836450024, 3.159]]])\n",
    "\n",
    "# 29.554 3.156754072536685 29.556245836450024 3.159\n",
    "#-115.788 35.271750296762676 -115.7857516959852 35.274\n",
    "#-115.788 35.2717508054113 -115.78524442528285 35.274\n",
    "\n",
    "g = ee.Geometry.Polygon(\n",
    "        [[[-115.788, 35.274],\n",
    "          [-115.788, 35.271750296762676],\n",
    "          [-115.78524442528285, 35.271750296762676],\n",
    "          [-115.78524442528285, 35.274]]])\n",
    "\n",
    "p1 = ee.Geometry.Point([29.554, 3.159])\n",
    "p2 = ee.Geometry.Point([29.556245836450024, 3.159])\n",
    "p3 = p2.buffer(250).getInfo()['coordinates'][0]\n",
    "\n",
    "# print(p3)\n",
    "\n",
    "p11 = ee.Geometry.Point([-115.788, 35.274])\n",
    "p22 = ee.Geometry.Point([-115.549, 35.274])\n",
    "\n",
    "print(p1.distance(p2).getInfo())\n",
    "print(p11.distance(p22).getInfo()/100000)\n"
   ]
  },
  {
   "cell_type": "code",
   "execution_count": 208,
   "id": "0ffa1f4a-af07-4b01-97e9-540236095d57",
   "metadata": {},
   "outputs": [
    {
     "name": "stdout",
     "output_type": "stream",
     "text": [
      "[0.023332233473722264, 0.023375385724935527, 0.023444635972805605, 0.02348405920747132, 0.023508817367377366, 0.023548761382441774, 0.023566142823605307, 0.023581639780451247, 0.023609353695107693, 0.02365419920636791, 0.023669036964904744, 0.023671894352171652, 0.023775341745878087, 0.023796706677754798, 0.023864422351108194, 0.023873701844428274, 0.023877828024677417, 0.023911195058502477, 0.024049710923459977, 0.02405960432629911, 0.024098382999892642, 0.024108348762643284, 0.024139889821577498, 0.02423339085374837, 0.02423585621296115, 0.02424245860150015, 0.024374738477577484, 0.02438859100949803, 0.0244039519458914, 0.02449381616605928, 0.024539696644406972, 0.02463432834867768, 0.024816441597092398, 0.024822918306844965, 0.025003850425778018, 0.025034704120050544, 0.025045127076884943, 0.025137089399017987, 0.02533581469158469, 0.02641364246982475]\n"
     ]
    }
   ],
   "source": [
    "row11 = results2#[132:155]\n",
    "\n",
    "left = [r[0] for r in row11]\n",
    "b51 = [r[13] for r in row11]\n",
    "b61 = [r[14] for r in row11]\n",
    "\n",
    "DIFF = [b2-b1 for b1, b2 in zip(b51, b61)]\n",
    "print(sorted(DIFF)[-40:])\n",
    "\n",
    "# t = np.arange(0.0, 2.0, 0.01)\n",
    "# s = 1 + np.sin(2 * np.pi * t)\n",
    "\n",
    "# fig, ax = plt.subplots()\n",
    "# ax.plot(left, [b2-b1 for b1, b2 in zip(b51, b61)])\n",
    "# # ax.plot(left, b51)\n",
    "# # ax.plot(left, b61)\n",
    "\n",
    "# ax.set(xlabel='latitude (degrees)', ylabel='band value (?)',\n",
    "#        title='Mojave')\n",
    "# ax.grid()\n",
    "# ax.set_ylim([0, 0.05])\n",
    "\n",
    "# plt.show()"
   ]
  },
  {
   "cell_type": "code",
   "execution_count": null,
   "id": "ff13791f-a88e-4f96-8561-b58e3734a436",
   "metadata": {},
   "outputs": [],
   "source": []
  }
 ],
 "metadata": {
  "kernelspec": {
   "display_name": "Python 3 (ipykernel)",
   "language": "python",
   "name": "python3"
  },
  "language_info": {
   "codemirror_mode": {
    "name": "ipython",
    "version": 3
   },
   "file_extension": ".py",
   "mimetype": "text/x-python",
   "name": "python",
   "nbconvert_exporter": "python",
   "pygments_lexer": "ipython3",
   "version": "3.7.11"
  }
 },
 "nbformat": 4,
 "nbformat_minor": 5
}
