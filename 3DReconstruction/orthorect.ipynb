{
 "cells": [
  {
   "cell_type": "code",
   "execution_count": 2,
   "id": "db2a4f7f",
   "metadata": {},
   "outputs": [],
   "source": [
    "import os\n",
    "import numpy as np\n",
    "import matplotlib.pyplot as plt\n",
    "from lmfit import minimize, Parameters, Parameter, printfuncs, fit_report\n",
    "import pylas\n",
    "from scipy.interpolate import RegularGridInterpolator,LinearNDInterpolator\n",
    "from pyproj import Proj, transform, CRS\n",
    "import rasterio\n",
    "from scipy.optimize import fmin\n",
    "import numba as nb\n",
    "from tqdm import tqdm\n",
    "#%matplotlib widget\n",
    "from multiprocessing import Pool,Process\n",
    "import time"
   ]
  },
  {
   "cell_type": "code",
   "execution_count": 44,
   "id": "7e928606",
   "metadata": {},
   "outputs": [],
   "source": [
    "# drone gps\n",
    "dr_alt_abv_surf = 122210\n",
    "dr_lon = -70.647463\n",
    "dr_lat = 41.534323\n",
    "dr_lon_rad = -70.647463*3.14/180\n",
    "dr_lat_rad = 41.534323*3.14/180\n",
    "image_w = 100#4352\n",
    "image_h = 100#3264\n",
    "f = 18 #mm\n",
    "fov_w = 15*3.14/180#*np.pi/180 #\n",
    "fov_h = 15*3.14/180#*np.pi/180 #\n",
    "\n",
    "# dem map \n",
    "dem_file = 'n41_w071_1arc_v3.tif'\n",
    "df = rasterio.open(dem_file)\n",
    "x = df.read()\n",
    "lon_min=df.bounds[0] ; lon_max=df.bounds[2] ; lat_min=df.bounds[1] ; lat_max=df.bounds[3]\n",
    "lon=np.zeros((x.shape[1],x.shape[2])) ; lat=np.zeros((x.shape[1],x.shape[2]))\n",
    "dem_lon = np.linspace(lon_min,lon_max,x.shape[1])\n",
    "dem_lat = np.linspace(lat_min,lat_max,x.shape[2])\n",
    "\n",
    "dem = x[0,::-1,:]\n",
    "\n",
    "interp_dem = RegularGridInterpolator((dem_lat,dem_lon),dem)\n",
    "\n",
    "dr_alt_abv_dem = dr_alt_abv_surf + interp_dem((dr_lat,dr_lon))"
   ]
  },
  {
   "cell_type": "code",
   "execution_count": 45,
   "id": "3c89f6b2",
   "metadata": {},
   "outputs": [
    {
     "name": "stderr",
     "output_type": "stream",
     "text": [
      "C:\\Users\\e.conway\\.conda\\envs\\MyEnv\\lib\\site-packages\\pyproj\\crs\\crs.py:131: FutureWarning: '+init=<authority>:<code>' syntax is deprecated. '<authority>:<code>' is the preferred initialization method. When making the change, be mindful of axis order changes: https://pyproj4.github.io/pyproj/stable/gotchas.html#axis-order-changes-in-proj-6\n",
      "  in_crs_string = _prepare_from_proj_string(in_crs_string)\n",
      "C:\\Users\\e.conway\\.conda\\envs\\MyEnv\\lib\\site-packages\\pyproj\\crs\\crs.py:131: FutureWarning: '+init=<authority>:<code>' syntax is deprecated. '<authority>:<code>' is the preferred initialization method. When making the change, be mindful of axis order changes: https://pyproj4.github.io/pyproj/stable/gotchas.html#axis-order-changes-in-proj-6\n",
      "  in_crs_string = _prepare_from_proj_string(in_crs_string)\n"
     ]
    }
   ],
   "source": [
    "#dem to ECEF\n",
    "#inProj = CRS.from_string(str)\n",
    "outProj = Proj(init='epsg:4326')\n",
    "ecefProj = Proj(init='epsg:4978')\n",
    "\n",
    "dem_points = interp_dem((dem_lat,dem_lon)) \n",
    "\n",
    "#xdem,ydem,zdem = transform(outProj,ecefProj,dem_lon,dem_lat,dem_points)\n"
   ]
  },
  {
   "cell_type": "code",
   "execution_count": 46,
   "id": "6e474ae3",
   "metadata": {},
   "outputs": [],
   "source": [
    "dr_heading = 0#90*np.pi/180#90*np.pi/180  \n",
    "dr_roll = 0#10*np.pi/180#-10*np.pi/180\n",
    "dr_pitch = 0#10*np.pi/180#35*np.pi/180#10*np.pi/180\n",
    "\n",
    "#let us define a point directly below the drone (nadir direction) \n",
    "cam_center_lon = dr_lon\n",
    "cam_center_lat = dr_lat\n",
    "cam_center_alt = dr_alt_abv_dem - 30\n",
    "\n",
    "cam_coords = np.array([cam_center_lon,cam_center_lat,dr_alt_abv_dem])\n",
    "cam_center_coords = np.array([cam_center_lon,cam_center_lat,cam_center_alt])"
   ]
  },
  {
   "cell_type": "code",
   "execution_count": 47,
   "id": "bbcbc8f0",
   "metadata": {},
   "outputs": [],
   "source": [
    "# alpha mounting angle wrt pitch\n",
    "alpha = 0#35*np.pi/180#-90*np.pi/180 \n",
    "# beta mounting angle wrt to roll\n",
    "beta = 0#15*np.pi/180\n",
    "# gamma moutning angle wrt to yaw, but should not change central point\n",
    "gamma = 0#-45*np.pi/180"
   ]
  },
  {
   "cell_type": "code",
   "execution_count": 48,
   "id": "27066a0a",
   "metadata": {},
   "outputs": [],
   "source": [
    "@nb.jit(fastmath=True)\n",
    "def RotationMatrix(axis, theta):\n",
    "    \"\"\"\n",
    "    This uses Euler-Rodrigues formula.\n",
    "    axis = 3D vector\n",
    "    theta = constant\n",
    "    \"\"\"\n",
    "    axis = np.asarray(axis)\n",
    "    axis = axis / np.sqrt(np.dot(axis, axis))\n",
    "    a = np.cos(theta / 2)\n",
    "    b, c, d = -axis * np.sin(theta / 2)\n",
    "    a2, b2, c2, d2 = a * a, b * b, c * c, d * d\n",
    "    bc, ad, ac, ab, bd, cd = b * c, a * d, a * c, a * b, b * d, c * d\n",
    "    return np.array([\n",
    "        [a2 + b2 - c2 - d2, 2 * (bc - ad), 2 * (bd + ac)],\n",
    "        [2 * (bc + ad), a2 + c2 - b2 - d2, 2 * (cd - ab)],\n",
    "        [2 * (bd - ac), 2 * (cd + ab), a2 + d2 - b2 - c2]\n",
    "    ])"
   ]
  },
  {
   "cell_type": "code",
   "execution_count": 49,
   "id": "ab4c8873",
   "metadata": {},
   "outputs": [],
   "source": [
    "#@nb.jit(fastmath=True)\n",
    "def rot_3D_ECEF(a1,a2,a3,a4,a5,a6,fov_h,fov_w,h,w,c1,o1,lon,lat):\n",
    "    \"\"\"\n",
    "    Here we take in the first six angles in this order\n",
    "    3 Mount: gamma (u), alpha (e'), beta (n')\n",
    "    3 Drone: head (u), pitch (e'), roll (n')\n",
    "    Then the FOV in y,x of image, plus number of y,x pixels\n",
    "    Then C1 is a 3D vector, in ecef frame \n",
    "    Then lon/lat of C1\n",
    "    Total rotation=R6*R5*R4*R3*R2*R1*R0’*R0*c1\n",
    "    where R0 and R0' will be looped over\n",
    "    \"\"\"\n",
    "    # define unit vectors in terms of ECEF coordinates\n",
    "    unit_e = np.array([-np.sin(lon),np.cos(lon),0])\n",
    "    unit_n = np.array([-np.cos(lon)*np.sin(lat),-np.sin(lon)*np.sin(lat),np.cos(lat)])\n",
    "    unit_u = np.array([np.cos(lon)*np.cos(lat),np.sin(lon)*np.cos(lat),np.sin(lat)])\n",
    "    \n",
    "\n",
    "    #a1/R1 is for gamma mount about u\n",
    "    R1 = RotationMatrix(unit_u,a1)\n",
    "    #a2/R2 is for pitch mount about e'\n",
    "    R2 = RotationMatrix( R1@unit_e ,a2)\n",
    "    #a3/R3 is for roll mount about n'\n",
    "    R3 = RotationMatrix( R2@R1@unit_n ,a3)\n",
    "    \n",
    "    # now for drone movement\n",
    "    #a4 is for heading, ie movement about u\n",
    "    R4 = RotationMatrix(unit_u,a4)\n",
    "    # a5 is for pitch of drone about e'. \n",
    "    R5 = RotationMatrix( R4 @ unit_e ,a5)\n",
    "    # a6 is for roll of drone about n'. \n",
    "    R6 = RotationMatrix( R5 @ R4 @ unit_n ,a6)\n",
    "    \n",
    "    \n",
    "    step_h = fov_h/image_h\n",
    "    step_w = fov_w/image_w\n",
    "    \n",
    "    image_coords = np.zeros((image_h,image_w,3))\n",
    "    \n",
    "    # the fov angles are derived and applied first to get the \n",
    "    for i in range(-int(image_h/2),int(image_h/2)):\n",
    "        #angle h fov\n",
    "        a7 = step_h*i\n",
    "        R7 = RotationMatrix(unit_e,a7)\n",
    "        for j in range(-int(image_w/2),int(image_w/2)):\n",
    "            #angle w fov\n",
    "            a8 = step_w*j\n",
    "            R8 = RotationMatrix(unit_n, a8)\n",
    "            image_coords[i+int(image_h/2),j+int(image_w/2),:] = o1 + R6@R5@R4@R3@R2@R1@R8@R7@c1\n",
    "    return(image_coords)"
   ]
  },
  {
   "cell_type": "code",
   "execution_count": 50,
   "id": "091e0d79",
   "metadata": {},
   "outputs": [
    {
     "name": "stderr",
     "output_type": "stream",
     "text": [
      "<ipython-input-50-f08e51ea8246>:1: DeprecationWarning: This function is deprecated. See: https://pyproj4.github.io/pyproj/stable/gotchas.html#upgrading-to-pyproj-2-from-pyproj-1\n",
      "  a1,b1,c1 = transform(outProj,ecefProj,cam_center_coords[0],cam_center_coords[1],cam_center_coords[2])\n",
      "<ipython-input-50-f08e51ea8246>:2: DeprecationWarning: This function is deprecated. See: https://pyproj4.github.io/pyproj/stable/gotchas.html#upgrading-to-pyproj-2-from-pyproj-1\n",
      "  a2,b2,c2 = transform(outProj,ecefProj,cam_coords[0],cam_coords[1],cam_coords[2])\n"
     ]
    }
   ],
   "source": [
    "a1,b1,c1 = transform(outProj,ecefProj,cam_center_coords[0],cam_center_coords[1],cam_center_coords[2])\n",
    "a2,b2,c2 = transform(outProj,ecefProj,cam_coords[0],cam_coords[1],cam_coords[2])\n",
    "d1=np.array([a1,b1,c1])\n",
    "d2=np.array([a2,b2,c2])\n",
    "l1 = d1-d2\n",
    "image_coords=rot_3D_ECEF(gamma,alpha,beta,dr_heading,dr_pitch,dr_roll,fov_h,fov_w,image_h,image_w,l1,d2,dr_lon_rad,dr_lat_rad)"
   ]
  },
  {
   "cell_type": "code",
   "execution_count": 51,
   "id": "8ba50751",
   "metadata": {},
   "outputs": [],
   "source": [
    "def ecef2lla_hugues(x, y, z):\n",
    "    # x, y and z are scalars in meters (CANNOT use vectors for this method)\n",
    "    # Following \"An analytical method to transform geocentric into geodetic coordinates\"\n",
    "    # By Hugues Vermeille (2011)\n",
    "\n",
    "    x = np.array([x]).reshape(np.array([x]).shape[-1], 1)\n",
    "    y = np.array([y]).reshape(np.array([y]).shape[-1], 1)\n",
    "    z = np.array([z]).reshape(np.array([z]).shape[-1], 1)\n",
    "\n",
    "    a=6378137\n",
    "    a_sq=a**2\n",
    "    e = 8.181919084261345e-2\n",
    "    e_sq = 6.69437999014e-3\n",
    "\n",
    "    p = (x**2 + y**2)/a_sq\n",
    "    q = ((1 - e_sq)*(z**2))/a_sq\n",
    "    r = (p + q - e_sq**2)/6.\n",
    "\n",
    "    evolute = 8*r**3 + p*q*(e_sq**2)\n",
    "\n",
    "    if(evolute > 0):\n",
    "        u = r + 0.5*(np.sqrt(8*r**3 + p*q*e_sq**2) + np.sqrt(p*q*e_sq**2))**(2/3.) + \\\n",
    "        0.5*(np.sqrt(8*r**3 + p*q*e_sq**2) - np.sqrt(p*q*e_sq**2))**(2/3.)\n",
    "    else:\n",
    "        u_term1 = np.sqrt(p*q*e_sq**2)/(np.sqrt(-8*r**3 - p*q*e_sq**2) + np.sqrt(-8*r**3))\n",
    "        u_term2 = (-4.*r)*np.sin((2./3.)*np.arctan(u_term1))\n",
    "        u_term3 = np.cos(np.pi/6. + (2./3.)*np.arctan(u_term1))\n",
    "        u       = u_term2*u_term3\n",
    "\n",
    "    v = np.sqrt(u**2 + q*e_sq**2)\n",
    "    w = e_sq*(u + v - q)/(2.*v)\n",
    "    k = (u + v)/(np.sqrt(w**2 + u + v) + w)\n",
    "    d = k*np.sqrt(x**2 + y**2)/(k + e_sq)\n",
    "    h = np.sqrt(d**2 + z**2)*(k + e_sq - 1)/k\n",
    "    phi = 2.*np.arctan(z/((np.sqrt(d**2 + z**2) + d)))\n",
    "\n",
    "    if((q == 0) and (p <= e_sq**2)):\n",
    "        h = -(a*np.sqrt(1 - e_sq)*np.sqrt(e_sq - p))/(e)\n",
    "        phi1 = 2*np.arctan(np.sqrt(e_sq**2 - p)/(e*(np.sqrt(e_sq - p)) + np.sqrt(1 - e_sq)*np.sqrt(p)))\n",
    "        phi2 = -phi1\n",
    "        phi = (phi1, phi2)\n",
    "\n",
    "\n",
    "    case1 = (np.sqrt(2) - 1)*np.sqrt(y**2) < np.sqrt(x**2 + y**2) + x\n",
    "    case2 = np.sqrt(x**2 + y**2) + y < (np.sqrt(2) + 1)*np.sqrt(x**2)\n",
    "    case3 = np.sqrt(x**2 + y**2) - y < (np.sqrt(2) + 1)*np.sqrt(x**2)\n",
    "\n",
    "    if(case1):\n",
    "        #print(\"case1\")\n",
    "        lambd = 2.*np.arctan(y/(np.sqrt(x**2 + y**2) + x))\n",
    "        return phi*180/np.pi, lambd*180/np.pi, h\n",
    "    if(case2):\n",
    "        #print(\"case2\")\n",
    "        lambd = (-np.pi/2) - 2.*np.arctan(x/(np.sqrt(x**2 + y**2) - y))\n",
    "        return phi*180/np.pi, lambd*180/np.pi, h\n",
    "    if(case3):\n",
    "        #print(\"case3\")\n",
    "        lambd = (np.pi/2) - 2.*np.arctan(x/(np.sqrt(x**2 + y**2) + y))\n",
    "        return phi*180/np.pi, lambd*180/np.pi, h"
   ]
  },
  {
   "cell_type": "code",
   "execution_count": 52,
   "id": "47b79297",
   "metadata": {},
   "outputs": [
    {
     "name": "stderr",
     "output_type": "stream",
     "text": [
      "100%|██████████| 100/100 [00:01<00:00, 92.83it/s]\n"
     ]
    }
   ],
   "source": [
    "image_pts_lon = np.zeros((image_coords.shape[0],image_coords.shape[1]))\n",
    "image_pts_lat = np.zeros((image_coords.shape[0],image_coords.shape[1]))\n",
    "image_pts_alt = np.zeros((image_coords.shape[0],image_coords.shape[1]))\n",
    "\n",
    "\n",
    "for i in tqdm(range(image_coords.shape[0])):\n",
    "    for j in range(image_coords.shape[1]):\n",
    "        image_pts_lat[i,j],image_pts_lon[i,j],image_pts_alt[i,j]= ecef2lla_hugues(image_coords[i,j,0],image_coords[i,j,1],image_coords[i,j,2])\n",
    "\n",
    "image_pts_lat = image_pts_lat[::-1,:] \n",
    "image_pts_lon = image_pts_lon[::-1,:] \n",
    "#image_pts_alt = image_pts_alt[::-1,:] "
   ]
  },
  {
   "cell_type": "code",
   "execution_count": 53,
   "id": "1c1c25d3",
   "metadata": {},
   "outputs": [
    {
     "data": {
      "text/plain": [
       "\"\\n#plt.plot(image_coords[0,:,2])\\n#plt.plot(l2)\\n#plt.show()\\nfig,ax = plt.subplots(1,3,figsize=(12,12))\\nfig.subplots_adjust(hspace=100)\\nsc1=ax[0].imshow(image_pts_lon[::-1,:])\\nfig.colorbar(sc1, ax=ax[0],shrink=0.3)\\nsc2=ax[1].imshow(image_pts_lat[::-1,:])\\nfig.colorbar(sc2, ax=ax[1],shrink=0.3)\\nsc3=ax[2].imshow(image_pts_alt[::-1,:])\\nfig.colorbar(sc3, ax=ax[2],shrink=0.3)\\nax[0].set_title(r'Lon [$^{o}$]')\\nax[1].set_title(r'Lat [$^{o}$]')\\nax[2].set_title('Alt [m]')\\ndisplay(fig)\\n\""
      ]
     },
     "execution_count": 53,
     "metadata": {},
     "output_type": "execute_result"
    }
   ],
   "source": [
    "\"\"\"\n",
    "#plt.plot(image_coords[0,:,2])\n",
    "#plt.plot(l2)\n",
    "#plt.show()\n",
    "fig,ax = plt.subplots(1,3,figsize=(12,12))\n",
    "fig.subplots_adjust(hspace=100)\n",
    "sc1=ax[0].imshow(image_pts_lon[::-1,:])\n",
    "fig.colorbar(sc1, ax=ax[0],shrink=0.3)\n",
    "sc2=ax[1].imshow(image_pts_lat[::-1,:])\n",
    "fig.colorbar(sc2, ax=ax[1],shrink=0.3)\n",
    "sc3=ax[2].imshow(image_pts_alt[::-1,:])\n",
    "fig.colorbar(sc3, ax=ax[2],shrink=0.3)\n",
    "ax[0].set_title(r'Lon [$^{o}$]')\n",
    "ax[1].set_title(r'Lat [$^{o}$]')\n",
    "ax[2].set_title('Alt [m]')\n",
    "display(fig)\n",
    "\"\"\""
   ]
  },
  {
   "cell_type": "code",
   "execution_count": 54,
   "id": "d7e4675d",
   "metadata": {},
   "outputs": [],
   "source": [
    "# find intercept of line derived from old camera center and the rotated new camera center\n",
    "# with the dem\n",
    "# (a) define the line that joins these points\n",
    "def line3D(t,x1,x2):\n",
    "    x = t*(x2[0]-x1[0]) + x1[0]\n",
    "    y = t*(x2[1]-x1[1]) + x1[1]\n",
    "    z = t*(x2[2]-x1[2]) + x1[2]\n",
    "    return np.array([x,y,z])"
   ]
  },
  {
   "cell_type": "code",
   "execution_count": 55,
   "id": "87f53643",
   "metadata": {},
   "outputs": [],
   "source": [
    "def target_func(t,x1,x2,interp_dem):\n",
    "    \"\"\"Function that will be minimized by fmin\n",
    "    :param t:      curve parameter of the straight line\n",
    "\n",
    "    :returns:      (z_line(t) - z_surface(t))**2 – this is zero\n",
    "                   at intersection points\"\"\"\n",
    "    x = line3D(t,x1,x2)\n",
    "    z = interp_dem((x[1],x[0]))\n",
    "    res = np.sum((x[2] - z)**2)\n",
    "    return res"
   ]
  },
  {
   "cell_type": "code",
   "execution_count": 56,
   "id": "52bdf8a7",
   "metadata": {},
   "outputs": [],
   "source": [
    "#coords on line\n",
    "def get_intercepts():\n",
    "    intersect_pts = np.zeros((image_pts_lon.shape[0],image_pts_lon.shape[1],3))\n",
    "    x1=cam_coords\n",
    "    for i in tqdm(range(image_pts_lon.shape[0])):\n",
    "        for j in range(image_pts_lon.shape[1]):\n",
    "            #print(i,j)\n",
    "            t=1\n",
    "            x2=np.array([image_pts_lon[i,j],image_pts_lat[i,j],image_pts_alt[i,j]])\n",
    "            t_opt = fmin(target_func, x0=1,args=(x1,x2,interp_dem),xtol=1e-2,ftol=1e-1,disp=False)\n",
    "            intersection_point = line3D(t_opt,x1,x2)\n",
    "            intersect_pts[i,j,:] = intersection_point[:,0]\n",
    "    return(intersect_pts)"
   ]
  },
  {
   "cell_type": "code",
   "execution_count": 57,
   "id": "99a779c8",
   "metadata": {},
   "outputs": [
    {
     "name": "stderr",
     "output_type": "stream",
     "text": [
      "100%|██████████| 100/100 [01:50<00:00,  1.10s/it]"
     ]
    },
    {
     "name": "stdout",
     "output_type": "stream",
     "text": [
      "110.1093647480011\n"
     ]
    },
    {
     "name": "stderr",
     "output_type": "stream",
     "text": [
      "\n"
     ]
    }
   ],
   "source": [
    "tz=time.time()\n",
    "intersect_pts=get_intercepts()\n",
    "print(time.time()-tz)"
   ]
  },
  {
   "cell_type": "code",
   "execution_count": null,
   "id": "47153d68",
   "metadata": {
    "scrolled": false
   },
   "outputs": [],
   "source": [
    "# now we have the central intersection point of our 2D area, let's get the corners of it\n",
    "# the full rotation consists of the mounted angles then the directional angles\n",
    "min_lon = np.min(intersect_pts[:,:,0])\n",
    "max_lon = np.max(intersect_pts[:,:,0])\n",
    "min_lat = np.min(intersect_pts[:,:,1])\n",
    "max_lat = np.max(intersect_pts[:,:,1])\n",
    "fig=plt.figure()\n",
    "sc=plt.imshow(intersect_pts[::-1,:,2],extent = [min_lon,max_lon,min_lat,max_lat])\n",
    "plt.colorbar(sc)\n",
    "display(fig)"
   ]
  },
  {
   "cell_type": "code",
   "execution_count": null,
   "id": "d4f987a5",
   "metadata": {},
   "outputs": [],
   "source": [
    "#dem_lon = np.linspace(lon_min,lon_max,x.shape[1])\n",
    "#dem_lat = np.linspace(lat_min,lat_max,x.shape[2])\n",
    "#dem = x[0,::-1,:]\n",
    "idx1 = np.logical_and(dem_lon<=max_lon,dem_lon>=min_lon)\n",
    "idx2 = np.logical_and(dem_lat<=max_lat,dem_lat>=min_lat)\n",
    "print(idx1.shape,dem.shape)\n",
    "\n",
    "plt_dem = dem#[::-1,:]\n",
    "plt_dem = plt_dem[idx2,:]\n",
    "plt_dem = plt_dem[:,idx1]\n",
    "\n",
    "fig=plt.figure()\n",
    "plt.imshow(plt_dem,origin='lower',extent=[np.min(dem_lon[idx1]),np.max(dem_lon[idx1]),np.min(dem_lat[idx2]),np.max(dem_lat[idx2])],aspect='auto',vmin=10,vmax=18)\n",
    "display(fig)"
   ]
  },
  {
   "cell_type": "code",
   "execution_count": null,
   "id": "7134d15c",
   "metadata": {},
   "outputs": [],
   "source": []
  },
  {
   "cell_type": "code",
   "execution_count": null,
   "id": "09398b12",
   "metadata": {},
   "outputs": [],
   "source": []
  }
 ],
 "metadata": {
  "kernelspec": {
   "display_name": "Python 3",
   "language": "python",
   "name": "python3"
  },
  "language_info": {
   "codemirror_mode": {
    "name": "ipython",
    "version": 3
   },
   "file_extension": ".py",
   "mimetype": "text/x-python",
   "name": "python",
   "nbconvert_exporter": "python",
   "pygments_lexer": "ipython3",
   "version": "3.8.12"
  }
 },
 "nbformat": 4,
 "nbformat_minor": 5
}
