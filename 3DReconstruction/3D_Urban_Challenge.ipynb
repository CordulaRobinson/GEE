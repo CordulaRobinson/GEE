{
 "cells": [
  {
   "cell_type": "code",
   "execution_count": 1,
   "id": "3206e65c-582a-4028-b055-a4f88dd3071d",
   "metadata": {},
   "outputs": [],
   "source": [
    "import matplotlib.pyplot as plt\n",
    "import rasterio\n",
    "import os\n",
    "import numpy as np\n",
    "from PIL import Image\n",
    "import glob\n",
    "from scipy import interpolate\n",
    "from scipy.interpolate import griddata\n",
    "from tqdm import tqdm\n",
    "from scipy import interpolate"
   ]
  },
  {
   "cell_type": "code",
   "execution_count": 3,
   "id": "f2c105f5-af3a-4345-82e0-63a7328f61d4",
   "metadata": {},
   "outputs": [],
   "source": [
    "direct = '/scratch/e.conway/3DReconstruction/SpaceNet_Buildings2/Images/Satellite-Images/Jacksonville/WV3/MSI/'\n",
    "files=glob.glob(direct+'/*.tif')"
   ]
  },
  {
   "cell_type": "code",
   "execution_count": 4,
   "id": "10ecc76e-4097-4ea0-8c65-8952cb315bb9",
   "metadata": {},
   "outputs": [
    {
     "name": "stderr",
     "output_type": "stream",
     "text": [
      "100%|██████████| 52/52 [1:02:17<00:00, 71.87s/it] \n"
     ]
    }
   ],
   "source": [
    "count=0\n",
    "nfiles=len(files)\n",
    "for i in tqdm(range(len(files))):\n",
    "    file = files[i]\n",
    "    name = file.split('.tif')[0]+'.png'\n",
    "    if(os.path.exists(name)!=True):\n",
    "        df = rasterio.open(file)\n",
    "\n",
    "        x = df.read()\n",
    "\n",
    "        lon_min=df.bounds[0] ; lon_max=df.bounds[2] ; lat_min=df.bounds[1] ; lat_max=df.bounds[3]\n",
    "        lon=np.zeros((x.shape[1],x.shape[2])) ; lat=np.zeros((x.shape[1],x.shape[2]))\n",
    "        lon = np.linspace(lon_min,lon_max,x.shape[1])\n",
    "        lat = np.linspace(lat_min,lat_max,x.shape[2])\n",
    "\n",
    "        arr = np.zeros((x.shape[1],x.shape[2],3))\n",
    "\n",
    "        arr[:,:,0] = x[4,:,:]/np.nanmax(x[4,:,:])\n",
    "        arr[:,:,1] = x[2,:,:]/np.nanmax(x[2,:,:])\n",
    "        arr[:,:,2] = x[1,:,:]/np.nanmax(x[1,:,:])\n",
    "\n",
    "        arr=arr*255\n",
    "\n",
    "        arr=np.array(arr,dtype=np.uint8)\n",
    "\n",
    "        img = Image.fromarray(arr)\n",
    "        #img.show()\n",
    "        img.save(name)"
   ]
  },
  {
   "cell_type": "code",
   "execution_count": null,
   "id": "1692cae6-d84e-42f3-84da-166fe0b224f7",
   "metadata": {},
   "outputs": [],
   "source": [
    "arr = np.zeros((x2.shape[1],x2.shape[2],3))\n",
    "arr[:,:,0] = x2[4,:,:]/np.nanmax(x2[4,:,:])\n",
    "arr[:,:,1] = x2[2,:,:]/np.nanmax(x2[2,:,:])\n",
    "arr[:,:,2] = x2[1,:,:]/np.nanmax(x2[1,:,:])\n",
    "arr=arr*255\n",
    "arr=np.array(arr,dtype=np.uint8)\n",
    "#img = Image.fromarray(arr)\n",
    "#img.save('x2.png')"
   ]
  },
  {
   "cell_type": "code",
   "execution_count": null,
   "id": "170800dd-af8d-4ace-be1e-71b58f48161c",
   "metadata": {},
   "outputs": [],
   "source": [
    "arr = np.zeros((x3.shape[1],x3.shape[2],3))\n",
    "arr[:,:,0] = x3[4,:,:]/np.nanmax(x3[4,:,:])\n",
    "arr[:,:,1] = x3[2,:,:]/np.nanmax(x3[2,:,:])\n",
    "arr[:,:,2] = x3[1,:,:]/np.nanmax(x3[1,:,:])\n",
    "arr=arr*255\n",
    "arr=np.array(arr,dtype=np.uint8)\n",
    "#img = Image.fromarray(arr)\n",
    "#img.save('x3.png')"
   ]
  },
  {
   "cell_type": "code",
   "execution_count": null,
   "id": "b93c5a4b-13bd-4d49-bda4-3689fa5cb241",
   "metadata": {},
   "outputs": [],
   "source": [
    "arr = np.zeros((x4.shape[1],x4.shape[2],3))\n",
    "arr[:,:,0] = x4[4,:,:]/np.nanmax(x4[4,:,:])\n",
    "arr[:,:,1] = x4[2,:,:]/np.nanmax(x4[2,:,:])\n",
    "arr[:,:,2] = x4[1,:,:]/np.nanmax(x4[1,:,:])\n",
    "arr=arr*255\n",
    "arr=np.array(arr,dtype=np.uint8)\n",
    "#img = Image.fromarray(arr)\n",
    "#img.save('x4.png')"
   ]
  },
  {
   "cell_type": "code",
   "execution_count": null,
   "id": "d627abbb-4a2e-41ec-a917-79e8a26ade1e",
   "metadata": {},
   "outputs": [],
   "source": [
    "arr_sub = arr[2800:3800,3900:4900,:]\n",
    "plt.imshow(arr_sub)\n",
    "img = Image.fromarray(arr_sub)\n",
    "#img.show()\n",
    "img.save('x4_sub.png')"
   ]
  },
  {
   "cell_type": "code",
   "execution_count": null,
   "id": "1730e3f7-ea0c-4afc-aaf8-6a0824de657b",
   "metadata": {},
   "outputs": [],
   "source": []
  }
 ],
 "metadata": {
  "kernelspec": {
   "display_name": "Python 3 (ipykernel)",
   "language": "python",
   "name": "python3"
  },
  "language_info": {
   "codemirror_mode": {
    "name": "ipython",
    "version": 3
   },
   "file_extension": ".py",
   "mimetype": "text/x-python",
   "name": "python",
   "nbconvert_exporter": "python",
   "pygments_lexer": "ipython3",
   "version": "3.7.12"
  }
 },
 "nbformat": 4,
 "nbformat_minor": 5
}
