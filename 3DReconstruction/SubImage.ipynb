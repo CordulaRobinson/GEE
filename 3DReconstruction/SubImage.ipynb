{
 "cells": [
  {
   "cell_type": "code",
   "execution_count": 1,
   "id": "b8a2a533-98ba-4a6a-b1ec-8a40aded6120",
   "metadata": {},
   "outputs": [],
   "source": [
    "import matplotlib.pyplot as plt\n",
    "import os\n",
    "import numpy as np\n",
    "from PIL import Image\n",
    "import glob\n",
    "from tqdm import tqdm\n",
    "import cv2"
   ]
  },
  {
   "cell_type": "code",
   "execution_count": 12,
   "id": "863ba629-9ca9-4c63-b10f-1fca6f325b8c",
   "metadata": {},
   "outputs": [],
   "source": [
    "direct = '/scratch/e.conway/3DReconstruction/SpaceNet_Buildings2/Images/Satellite-Images/Jacksonville/WV3/MSI/'\n",
    "files=glob.glob(direct+'*lv1.png')"
   ]
  },
  {
   "cell_type": "code",
   "execution_count": 13,
   "id": "8a1f6366-147b-4f95-a02a-c90fcac6fe51",
   "metadata": {},
   "outputs": [
    {
     "name": "stderr",
     "output_type": "stream",
     "text": [
      "100%|██████████| 26/26 [04:08<00:00,  9.57s/it]\n"
     ]
    }
   ],
   "source": [
    "for i in tqdm(range(len(files))):\n",
    "    file = files[i]\n",
    "    x=cv2.imread(file)\n",
    "    x=x[0:4000,0:3000,:]\n",
    "    img = Image.fromarray(x)\n",
    "    name=file.split('.png')[0]+'_0-3k_0-3k_sub.png'\n",
    "    img.save(name)"
   ]
  },
  {
   "cell_type": "code",
   "execution_count": null,
   "id": "86e1f3df-ffdb-4afa-8ad8-2db94f27dbb8",
   "metadata": {},
   "outputs": [],
   "source": []
  }
 ],
 "metadata": {
  "kernelspec": {
   "display_name": "Python 3 (ipykernel)",
   "language": "python",
   "name": "python3"
  },
  "language_info": {
   "codemirror_mode": {
    "name": "ipython",
    "version": 3
   },
   "file_extension": ".py",
   "mimetype": "text/x-python",
   "name": "python",
   "nbconvert_exporter": "python",
   "pygments_lexer": "ipython3",
   "version": "3.7.12"
  }
 },
 "nbformat": 4,
 "nbformat_minor": 5
}
