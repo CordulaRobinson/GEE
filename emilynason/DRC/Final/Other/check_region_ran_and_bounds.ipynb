{
 "cells": [
  {
   "cell_type": "code",
   "execution_count": 1,
   "id": "74e8f1e9-f61c-416c-937f-32262f31ca8a",
   "metadata": {},
   "outputs": [],
   "source": [
    "import numpy as np\n",
    "from scipy.interpolate import LinearNDInterpolator\n",
    "import matplotlib.pyplot as plt\n",
    "import ee\n",
    "ee.Initialize()"
   ]
  },
  {
   "cell_type": "code",
   "execution_count": 13,
   "id": "a7bdf655-3240-4f0a-a793-78bdf633f998",
   "metadata": {},
   "outputs": [],
   "source": [
    "ex = np.genfromtxt(\"results/compiled.csv\", delimiter=',', skip_header=1, usecols=(16,17))"
   ]
  },
  {
   "cell_type": "code",
   "execution_count": 14,
   "id": "81f92c9d-0c3c-4c68-84b9-27e90b2c6f59",
   "metadata": {},
   "outputs": [
    {
     "data": {
      "image/png": "[encoded data removed]",
      "text/plain": [
       "<Figure size 432x288 with 1 Axes>"
      ]
     },
     "metadata": {
      "needs_background": "light"
     },
     "output_type": "display_data"
    }
   ],
   "source": [
    "# fig=plt.figure()\n",
    "# sc = plt.scatter(ex[:,16],ex[:,17])\n",
    "# plt.show()\n",
    "\n",
    "plt.scatter(ex[:,0],ex[:,1])\n",
    "plt.show()"
   ]
  },
  {
   "cell_type": "code",
   "execution_count": null,
   "id": "f63d06e8-49f4-4f40-968c-a1bd197b30d6",
   "metadata": {},
   "outputs": [],
   "source": [
    "# CHECK CSV BOUNDS"
   ]
  },
  {
   "cell_type": "code",
   "execution_count": 10,
   "id": "9d49e8e6-b5bb-456f-a12a-3d17e9fb6eb5",
   "metadata": {},
   "outputs": [],
   "source": [
    "ex2 = np.genfromtxt(\"Polygons/big_mine_status_fixed.csv\", delimiter=',', skip_header=1, usecols=(0, 1, 2, 3))"
   ]
  },
  {
   "cell_type": "code",
   "execution_count": 12,
   "id": "46fe4072-ce30-4713-b771-9ce995ee812d",
   "metadata": {},
   "outputs": [
    {
     "name": "stdout",
     "output_type": "stream",
     "text": [
      "25.340077908204062 -10.77997314398161 25.47484048015501 -10.675049105230029\n"
     ]
    }
   ],
   "source": [
    "lon_min = ex2[:,0].min(axis=0)\n",
    "lat_min = ex2[:,1].min(axis=0)\n",
    "lon_max = ex2[:,2].max(axis=0)\n",
    "lat_max = ex2[:,3].max(axis=0)\n",
    "\n",
    "print(lon_min, lat_min, lon_max, lat_max)"
   ]
  },
  {
   "cell_type": "code",
   "execution_count": null,
   "id": "a0373670-befc-4c3d-a2d9-191c3bd84ce1",
   "metadata": {},
   "outputs": [],
   "source": []
  }
 ],
 "metadata": {
  "kernelspec": {
   "display_name": "Python 3 (ipykernel)",
   "language": "python",
   "name": "python3"
  },
  "language_info": {
   "codemirror_mode": {
    "name": "ipython",
    "version": 3
   },
   "file_extension": ".py",
   "mimetype": "text/x-python",
   "name": "python",
   "nbconvert_exporter": "python",
   "pygments_lexer": "ipython3",
   "version": "3.7.11"
  }
 },
 "nbformat": 4,
 "nbformat_minor": 5
}
