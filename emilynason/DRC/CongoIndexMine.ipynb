{
 "cells": [
  {
   "cell_type": "code",
   "execution_count": 1,
   "id": "1faaa163-d12b-469a-aa48-f4ec5841de40",
   "metadata": {},
   "outputs": [],
   "source": [
    "import ee\n",
    "import geemap"
   ]
  },
  {
   "cell_type": "code",
   "execution_count": 2,
   "id": "0f56d674-3d28-4122-b530-e7d502b8093d",
   "metadata": {},
   "outputs": [],
   "source": [
    "import ee\n",
    "import collections\n",
    "collections.Callable = collections.abc.Callable"
   ]
  },
  {
   "cell_type": "code",
   "execution_count": 3,
   "id": "bac5c43e-d771-433d-96f4-a41605e7cc5f",
   "metadata": {
    "tags": []
   },
   "outputs": [
    {
     "data": {
      "text/html": [
       "<p>To authorize access needed by Earth Engine, open the following\n",
       "        URL in a web browser and follow the instructions:</p>\n",
       "        <p><a href=https://accounts.google.com/o/oauth2/auth?client_id=517222506229-vsmmajv00ul0bs7p89v5m89qs8eb9359.apps.googleusercontent.com&scope=https%3A%2F%2Fwww.googleapis.com%2Fauth%2Fearthengine+https%3A%2F%2Fwww.googleapis.com%2Fauth%2Fdevstorage.full_control&redirect_uri=urn%3Aietf%3Awg%3Aoauth%3A2.0%3Aoob&response_type=code&code_challenge=T_qI8AEjLw5XMr76Fvbo9-G1wqeCoucnSBCW-PcXPsY&code_challenge_method=S256>https://accounts.google.com/o/oauth2/auth?client_id=517222506229-vsmmajv00ul0bs7p89v5m89qs8eb9359.apps.googleusercontent.com&scope=https%3A%2F%2Fwww.googleapis.com%2Fauth%2Fearthengine+https%3A%2F%2Fwww.googleapis.com%2Fauth%2Fdevstorage.full_control&redirect_uri=urn%3Aietf%3Awg%3Aoauth%3A2.0%3Aoob&response_type=code&code_challenge=T_qI8AEjLw5XMr76Fvbo9-G1wqeCoucnSBCW-PcXPsY&code_challenge_method=S256</a></p>\n",
       "        <p>The authorization workflow will generate a code, which you\n",
       "        should paste in the box below</p>\n",
       "        "
      ],
      "text/plain": [
       "<IPython.core.display.HTML object>"
      ]
     },
     "metadata": {},
     "output_type": "display_data"
    },
    {
     "name": "stdin",
     "output_type": "stream",
     "text": [
      "Enter verification code:  4/1AX4XfWgwGFhm7XRS0IJdlDRiOMQ5xZELEFASw8Zpy_mTsyS2sTnqIGMav3Q\n"
     ]
    },
    {
     "name": "stdout",
     "output_type": "stream",
     "text": [
      "\n",
      "Successfully saved authorization token.\n"
     ]
    }
   ],
   "source": [
    "ee.Authenticate()"
   ]
  },
  {
   "cell_type": "code",
   "execution_count": 4,
   "id": "628b234a-28e0-40c3-8fef-dee18e2929ad",
   "metadata": {},
   "outputs": [],
   "source": [
    "ee.Initialize()"
   ]
  },
  {
   "cell_type": "markdown",
   "id": "4f328c43-1f73-4dcb-bcff-f53699530476",
   "metadata": {},
   "source": [
    "## Imports"
   ]
  },
  {
   "cell_type": "code",
   "execution_count": 5,
   "id": "f69048e4-7df6-420f-a65f-9bdbfcd7bda8",
   "metadata": {},
   "outputs": [],
   "source": [
    "import ee\n",
    "import geemap\n",
    "\n",
    "Map = geemap.Map()\n",
    "\n",
    "geometry = ee.Geometry.Polygon(\n",
    "        [[[25.67758947139908, -10.52500539578282],\n",
    "          [25.67758947139908, -10.831343855184292],\n",
    "          [26.285562854675604, -10.831343855184292],\n",
    "          [26.285562854675604, -10.52500539578282]]], None, False)\n",
    "mines = ee.FeatureCollection(\"users/EmilyNason/cod_mines_curated_all_opendata_p_ipis\")\n",
    "l8 = ee.ImageCollection(\"LANDSAT/LC08/C02/T1_L2\")\n",
    "gsw = ee.Image(\"JRC/GSW1_3/GlobalSurfaceWater\")\n",
    "area3 = ee.Geometry.Polygon(\n",
    "        [[[26.117306035200816, -10.551319560770521],\n",
    "          [26.117306035200816, -10.632650522900946],\n",
    "          [26.248455327193003, -10.632650522900946],\n",
    "          [26.248455327193003, -10.551319560770521]]], None, False)\n",
    "area1 = ee.Geometry.Polygon(\n",
    "        [[[25.783982219615126, -10.760592214819402],\n",
    "          [25.783982219615126, -10.804773403670321],\n",
    "          [25.882344188609267, -10.804773403670321],\n",
    "          [25.882344188609267, -10.760592214819402]]], None, False)\n",
    "area2 = ee.Geometry.Polygon(\n",
    "        [[[25.883463192760367, -10.653415341387422],\n",
    "          [25.883463192760367, -10.684961077984651],\n",
    "          [25.918653775035757, -10.684961077984651],\n",
    "          [25.918653775035757, -10.653415341387422]]], None, False)"
   ]
  },
  {
   "cell_type": "markdown",
   "id": "7d19a772-a680-4d74-a962-ac51bb001a6e",
   "metadata": {
    "tags": []
   },
   "source": [
    "## True Color Composites"
   ]
  },
  {
   "cell_type": "code",
   "execution_count": 6,
   "id": "c6ba1488-1de7-4fab-9bac-8e309ba379d8",
   "metadata": {},
   "outputs": [],
   "source": [
    "Map.centerObject(geometry, 11)\n",
    "\n",
    "# Applies scaling factors.\n",
    "def applyScaleFactors(image):\n",
    "  opticalBands = image.select('SR_B.').multiply(0.0000275).add(-0.2)\n",
    "  thermalBands = image.select('ST_B.*').multiply(0.00341802).add(149.0)\n",
    "  return image.addBands(opticalBands, None, True) \\\n",
    "              .addBands(thermalBands, None, True)\n",
    "\n",
    "before = l8.filter(ee.Filter.lt('CLOUD_COVER', 30)) \\\n",
    "  .filter(ee.Filter.date('2016-06-01', '2017-01-01')) \\\n",
    "  .filter(ee.Filter.intersects('.geo', geometry))\n",
    "after = l8.filter(ee.Filter.lt('CLOUD_COVER', 30)) \\\n",
    "  .filter(ee.Filter.date('2021-06-01', '2022-01-01')) \\\n",
    "  .filter(ee.Filter.intersects('.geo', geometry))\n",
    "before = before.map(applyScaleFactors).median().clip(geometry)\n",
    "after = after.map(applyScaleFactors).median().clip(geometry)\n",
    "\n",
    "rgbVis = {\n",
    "  'bands': ['SR_B4', 'SR_B3', 'SR_B2'],\n",
    "  'min': 0.0,\n",
    "  'max': 0.3,\n",
    "}\n",
    "\n",
    "Map.addLayer(before, rgbVis, '2016')\n",
    "Map.addLayer(after, rgbVis, '2021')"
   ]
  },
  {
   "cell_type": "markdown",
   "id": "b2ea6e1d-697c-4aba-928d-0961e34a9216",
   "metadata": {},
   "source": [
    "## Indices"
   ]
  },
  {
   "cell_type": "code",
   "execution_count": 7,
   "id": "6f880c36-bf43-439a-8d32-cdfb185ede3c",
   "metadata": {},
   "outputs": [],
   "source": [
    "def addIndices(image):\n",
    "  ndvi = image.normalizedDifference(['SR_B5', 'SR_B4']).rename(['ndvi']); # NIR, RED\n",
    "  clay = image.normalizedDifference(['SR_B6', 'SR_B7']).rename(['clay']); # SWIR1, SWIR2\n",
    "  iron = image.normalizedDifference(['SR_B4', 'SR_B2']).rename(['iron']); # RED, BLUE\n",
    "  ndmi = image.normalizedDifference(['SR_B5', 'SR_B6']).rename(['ndmi']); # NIR, SWIR1\n",
    "  # add in VII & WDI\n",
    "  vigs = image.expression(\n",
    "    '((A-B)/(A+B)) + ((C-B)/(C+B))/2 + ((C-D)/(C+D)) + ((C-D)/(C+D))/2 + ((C-E)/(C+E)) + ((C-E)/(C+E))/2', {\n",
    "    'A': image.select('SR_B3'), # GREEN\n",
    "    'B': image.select('SR_B4'), # RED\n",
    "    'C': image.select('SR_B5'), # NIR\n",
    "    'D': image.select('SR_B6'), # SWIR1\n",
    "    'E': image.select('SR_B7'), # SWIR2\n",
    "    }).rename('vigs')\n",
    "  return image.addBands(ndvi).addBands(clay).addBands(iron).addBands(ndmi).addBands(vigs)\n",
    "\n",
    "afterIndices = addIndices(after)\n",
    "beforeIndices = addIndices(before)\n",
    "ndviVis = {'min':0, 'max':1, 'palette': ['white', 'green']}\n",
    "clayVis = {'min':0, 'max':0.5, 'palette': ['white', 'brown']}\n",
    "ironVis = {'min':0, 'max':0.5, 'palette': ['white', 'gray']}\n",
    "ndmiVis = {'min':0, 'max':0.5, 'palette': ['white', 'blue']}\n",
    "vigsVis = {'min':0, 'max':1, 'palette': ['white', 'purple']}\n",
    "\n",
    "Map.addLayer(beforeIndices.select('ndvi'), ndviVis, 'NDVI 2016')\n",
    "Map.addLayer(afterIndices.select('ndvi'), ndviVis, 'NDVI 2021')\n",
    "Map.addLayer(beforeIndices.select('clay'), clayVis, 'Clay 2016')\n",
    "Map.addLayer(afterIndices.select('clay'), clayVis, 'Clay 2021')\n",
    "Map.addLayer(beforeIndices.select('iron'), ironVis, 'Iron 2016')\n",
    "Map.addLayer(afterIndices.select('iron'), ironVis, 'Iron 2021')\n",
    "# Map.addLayer(beforeIndices.select('ndmi'), ndmiVis, 'NDMI 2016', False)\n",
    "# Map.addLayer(afterIndices.select('ndmi'), ndmiVis, 'NDMI 2021', False)\n",
    "Map.addLayer(beforeIndices.select('vigs'), vigsVis, 'VIGS 2016')\n",
    "Map.addLayer(afterIndices.select('vigs'), vigsVis, 'VIGS 2021')"
   ]
  },
  {
   "cell_type": "markdown",
   "id": "a27f01b7-5014-427d-97df-456246bb0a7b",
   "metadata": {},
   "source": [
    "## Calculated Changes in Indices"
   ]
  },
  {
   "cell_type": "code",
   "execution_count": 8,
   "id": "df66449e-05fd-4581-9359-8e1b87060d44",
   "metadata": {},
   "outputs": [
    {
     "data": {
      "application/vnd.jupyter.widget-view+json": {
       "model_id": "287a7358fe3148df865a15e6e7fa925b",
       "version_major": 2,
       "version_minor": 0
      },
      "text/plain": [
       "Map(center=[-10.67819783565169, 25.98157616303779], controls=(WidgetControl(options=['position', 'transparent_…"
      ]
     },
     "metadata": {},
     "output_type": "display_data"
    }
   ],
   "source": [
    "# Changes in Indices\n",
    "cpThreshold = 8\n",
    "permanentWater = gsw.select('seasonality').gte(5).clip(geometry)\n",
    "\n",
    "# NDVI\n",
    "# low ndvi -> possible existing mining\n",
    "# 2016\n",
    "miningNDVI2016 = beforeIndices.select('ndvi').lt(0.15).rename('miningNDVI').selfMask()\n",
    "miningNDVI2016 = miningNDVI2016.where(permanentWater,0).selfMask()\n",
    "connectNDVI2016 = miningNDVI2016.connectedPixelCount(25)\n",
    "miningNDVI2016 = miningNDVI2016.updateMask(connectNDVI2016.gt(cpThreshold))\n",
    "Map.addLayer(miningNDVI2016, {'min':0, 'max':1, 'palette': ['yellow']}, 'Possible Mining Area 2016')\n",
    "# 2021\n",
    "miningNDVI2021 = afterIndices.select('ndvi').lt(0.15).rename('miningNDVI').selfMask()\n",
    "miningNDVI2021 = miningNDVI2021.where(permanentWater,0).selfMask()\n",
    "connectNDVI2021 = miningNDVI2021.connectedPixelCount(25)\n",
    "miningNDVI2021 = miningNDVI2021.updateMask(connectNDVI2021.gt(cpThreshold))\n",
    "Map.addLayer(miningNDVI2021, {'min':0, 'max':1, 'palette': ['orange']}, 'Possible Mining Area 2021')\n",
    "#ndvi loss -> possible new mining\n",
    "differenceNDVI = beforeIndices.select('ndvi').divide(afterIndices.select('ndvi'))\n",
    "threshold = 1.75\n",
    "newMiningNDVI = differenceNDVI.gt(threshold).rename('newMiningNDVI').selfMask()\n",
    "newMiningNDVI = newMiningNDVI.where(permanentWater,0).selfMask()\n",
    "connectNDVI = newMiningNDVI.connectedPixelCount(25)\n",
    "newMiningNDVI = newMiningNDVI.updateMask(connectNDVI.gt(cpThreshold))\n",
    "Map.addLayer(newMiningNDVI, {'min':0, 'max':1, 'palette': ['red']}, 'Possible New Mining Area')\n",
    "\n",
    "# VIGS loss -> becomes an outline of new mining sites\n",
    "# shows new strained vegetation - demonstration of how expanded mining has expanded vegetation stress\n",
    "# could identify mines through analysis of areas surrounded by new vegetation stress\n",
    "differenceVIGS = beforeIndices.select('vigs').divide(afterIndices.select('vigs'))\n",
    "threshold = 1.75\n",
    "newMiningVIGS = differenceVIGS.gt(threshold).rename('newMining').selfMask()\n",
    "newMiningVIGS = newMiningVIGS.where(permanentWater,0).selfMask()\n",
    "connectVIGS = newMiningVIGS.connectedPixelCount(25)\n",
    "newMiningVIGS = newMiningVIGS.updateMask(connectVIGS.gt(cpThreshold))\n",
    "Map.addLayer(newMiningVIGS, {'min':0, 'max':1, 'palette': ['D772FD']}, 'New Vegetation Stress Due to Mining (VIGS)')\n",
    "\n",
    "# CLAY\n",
    "# low clay - potential mining -> clay area possibly has been cleared\n",
    "# 2016\n",
    "miningClay2016 = beforeIndices.select('clay').lt(0.08).rename('miningClay').selfMask()\n",
    "miningClay2016 = miningClay2016.where(permanentWater,0).selfMask()\n",
    "connectClay2016 = miningClay2016.connectedPixelCount(25)\n",
    "miningClay2016 = miningClay2016.updateMask(connectClay2016.gt(cpThreshold))\n",
    "Map.addLayer(miningClay2016, {'min':0, 'max':1, 'palette': ['FB9FF9']}, 'Possible Mining Area 2016 (Clay)')\n",
    "# 2021\n",
    "miningClay2021 = afterIndices.select('clay').lt(0.08).rename('miningClay').selfMask()\n",
    "miningClay2021 = miningClay2021.where(permanentWater,0).selfMask()\n",
    "connectClay2021 = miningClay2021.connectedPixelCount(25)\n",
    "miningClay2021 = miningClay2021.updateMask(connectClay2021.gt(cpThreshold))\n",
    "Map.addLayer(miningClay2021, {'min':0, 'max':1, 'palette': ['FF70FC']}, 'Possible Mining Area 2021 (Clay)')\n",
    "# clay loss -> active mining\n",
    "differenceClay = beforeIndices.select('clay').divide(afterIndices.select('clay'))\n",
    "threshold = 1.85\n",
    "newMiningClay = differenceClay.gt(threshold).rename('newMiningClay').selfMask()\n",
    "newMiningClay = newMiningClay.where(permanentWater,0).selfMask()\n",
    "connectClay = newMiningClay.connectedPixelCount(25)\n",
    "newMiningClay = newMiningClay.updateMask(connectClay.gt(cpThreshold))\n",
    "Map.addLayer(newMiningClay, {'min':0, 'max':1, 'palette': ['DA09D6']}, 'Possible New Mining Area (loss of Clay)')\n",
    "\n",
    "# IRON\n",
    "# high iron - looks like it is picking up infrastructure\n",
    "# 2016\n",
    "miningIron2016 = beforeIndices.select('iron').gt(0.4).rename('miningIron').selfMask()\n",
    "miningIron2016 = miningIron2016.where(permanentWater,0).selfMask()\n",
    "connectIron2016 = miningIron2016.connectedPixelCount(25)\n",
    "miningIron2016 = miningIron2016.updateMask(connectIron2016.gt(cpThreshold))\n",
    "Map.addLayer(miningIron2016, {'min':0, 'max':1, 'palette': ['A9D3FE']}, 'Possible Infrastructure 2016 (Iron)')\n",
    "# 2021\n",
    "miningIron2021 = afterIndices.select('iron').gt(0.4).rename('miningIron').selfMask()\n",
    "miningIron2021 = miningIron2021.where(permanentWater,0).selfMask()\n",
    "connectIron2021 = miningIron2021.connectedPixelCount(25)\n",
    "miningIron2021 = miningIron2021.updateMask(connectIron2021.gt(cpThreshold))\n",
    "Map.addLayer(miningIron2021, {'min':0, 'max':1, 'palette': ['2F94F9']}, 'Possible Infrastructure 2021 (Iron)')\n",
    "# iron gain - potential mining activies increase -> more infrastructure built\n",
    "differenceIron = afterIndices.select('iron').divide(beforeIndices.select('iron'))\n",
    "threshold = 1.3; # trial and error tried a few different thresholds\n",
    "newMiningIron = differenceIron.gt(threshold).rename('newMiningIron').selfMask()\n",
    "newMiningIron = newMiningIron.where(permanentWater,0).selfMask()\n",
    "connectIron = newMiningIron.connectedPixelCount(25)\n",
    "newMiningIron = newMiningIron.updateMask(connectIron.gt(cpThreshold))\n",
    "Map.addLayer(newMiningIron, {'min':0, 'max':1, 'palette': ['2004E7']}, 'Possible New Mining Infrastructure (Iron)')\n",
    "\n",
    "# LEGEND\n",
    "legend_dict = {\n",
    "    'NDVI Level': ('008000'), # green\n",
    "    'Low NDVI 2016': ('FFFF00'), # yellow\n",
    "    'Low NDVI 2021': ('FFA500'), # orange\n",
    "    'NDVI Lost': ('FF0000'), # red\n",
    "    'VIGS Level': ('7F00FF'), # violet\n",
    "    'New Vegetation Stress (VIGS)': ('D772FD'), # light purple\n",
    "    'Clay level': ('964B00'), # brown\n",
    "    'Low Clay 2016': ('FB9FF9'), # light pink\n",
    "    'Low Clay 2021': ('FF70FC'), # medium pink\n",
    "    'Clay Lost': ('DA09D6'), # dark pink\n",
    "    'Iron level': ('808080'), #gray\n",
    "    'Iron 2016': ('A9D3FE'), # light blue\n",
    "    'Iron 2021': ('2F94F9'), # medium blue\n",
    "    'Iron Gained': ('2004E7'), # dark blue\n",
    "}\n",
    "# Map.remove_legend()\n",
    "Map.add_legend(legend_title='Legend', legend_dict=legend_dict, position='bottomleft')\n",
    "Map\n",
    "# may need to open map to full screen to access all layers"
   ]
  },
  {
   "cell_type": "markdown",
   "id": "273526c6-3d2e-41ad-a655-03716f199d2f",
   "metadata": {},
   "source": [
    "## Mine Estimations"
   ]
  },
  {
   "cell_type": "code",
   "execution_count": 9,
   "id": "27fefa62-4bdb-48f5-8ed6-3444c51bda78",
   "metadata": {},
   "outputs": [
    {
     "data": {
      "application/vnd.jupyter.widget-view+json": {
       "model_id": "a9b741e73cb340c2962a7314e1fa9e6a",
       "version_major": 2,
       "version_minor": 0
      },
      "text/plain": [
       "Map(center=[-10.67819783565169, 25.98157616303779], controls=(WidgetControl(options=['position', 'transparent_…"
      ]
     },
     "metadata": {},
     "output_type": "display_data"
    }
   ],
   "source": [
    "Map2 = geemap.Map()\n",
    "Map2.centerObject(geometry, 11)\n",
    "Map2.addLayer(before, rgbVis, '2016')\n",
    "Map2.addLayer(after, rgbVis, '2021')\n",
    "\n",
    "# combine for mine area estimate - low NDVI, low Clay, high Iron\n",
    "# 2016\n",
    "miningNDVI2016 = miningNDVI2016.select('miningNDVI').rename('mining')\n",
    "miningClay2016 = miningClay2016.select('miningClay').rename('mining')\n",
    "miningIron2016 = miningIron2016.select('miningIron').rename('mining')\n",
    "pMines2016 = ee.ImageCollection([miningNDVI2016, miningClay2016, miningIron2016]).mosaic()\n",
    "Map2.addLayer(pMines2016, {'min':0, 'max':1, 'palette': ['orange']}, 'Initial Mine Estimate 2016')\n",
    "mineSize2016 = pMines2016.select('mining') \\\n",
    "  .connectedPixelCount(**{\n",
    "    'maxSize': 128, 'eightConnected': True\n",
    "  })\n",
    "pixelArea = ee.Image.pixelArea()\n",
    "mineArea2016 = mineSize2016.multiply(pixelArea)\n",
    "areaMask2016 = mineArea2016.gte(200000); #m^2\n",
    "pMines2016Final = pMines2016.updateMask(areaMask2016)\n",
    "Map2.addLayer(pMines2016Final, {'min':0, 'max':1, 'palette': ['red']}, 'Mine Estimate 2016')\n",
    "\n",
    "# 2021\n",
    "miningNDVI2021 = miningNDVI2021.select('miningNDVI').rename('mining')\n",
    "miningClay2021 = miningClay2021.select('miningClay').rename('mining')\n",
    "miningIron2021 = miningIron2021.select('miningIron').rename('mining')\n",
    "pMines2021 = ee.ImageCollection([miningNDVI2021, miningClay2021, miningIron2021]).mosaic()\n",
    "Map2.addLayer(pMines2021, {'min':0, 'max':1, 'palette': ['green']}, 'Initial Mine Estimate 2021')\n",
    "mineSize2021 = pMines2021.select('mining') \\\n",
    "  .connectedPixelCount(**{\n",
    "    'maxSize': 128, 'eightConnected': True\n",
    "  })\n",
    "mineArea2021 = mineSize2021.multiply(pixelArea)\n",
    "areaMask2021 = mineArea2021.gte(200000); #m^2\n",
    "pMines2021Final = pMines2021.updateMask(areaMask2021)\n",
    "Map2.addLayer(pMines2021Final, {'min':0, 'max':1, 'palette': ['blue']}, 'Mine Estimate 2021')\n",
    "\n",
    "Map2.addLayer(mines, {'color': 'E6EAEE'}, 'mines'); # light gray\n",
    "\n",
    "# LEGEND\n",
    "legend_dict = {\n",
    "    'Initial Mine Estimate 2016': ('FFA500'), # orange\n",
    "    'Final Mine Estimate 2016': ('FF0000'), # red\n",
    "    'Initial Mine Estimate 2021': ('008000'), # green\n",
    "    'Final Mine Estimate 2021': ('0000FF'), # blue\n",
    "    'Known Active Mines': ('E6EAEE'), # light gray\n",
    "}\n",
    "Map2.add_legend(legend_title='Legend', legend_dict=legend_dict, position='bottomright')\n",
    "Map2"
   ]
  },
  {
   "cell_type": "code",
   "execution_count": null,
   "id": "84390647-f8d2-4fc7-9e61-fcc7dea3b664",
   "metadata": {},
   "outputs": [],
   "source": []
  }
 ],
 "metadata": {
  "kernelspec": {
   "display_name": "Python 3 (ipykernel)",
   "language": "python",
   "name": "python3"
  },
  "language_info": {
   "codemirror_mode": {
    "name": "ipython",
    "version": 3
   },
   "file_extension": ".py",
   "mimetype": "text/x-python",
   "name": "python",
   "nbconvert_exporter": "python",
   "pygments_lexer": "ipython3",
   "version": "3.10.1"
  }
 },
 "nbformat": 4,
 "nbformat_minor": 5
}
