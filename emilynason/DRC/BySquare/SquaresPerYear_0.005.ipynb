{
 "cells": [
  {
   "cell_type": "code",
   "execution_count": 1,
   "id": "fa20cc81-078f-4239-bbdd-9874691ac14c",
   "metadata": {},
   "outputs": [],
   "source": [
    "import ee\n",
    "import collections\n",
    "collections.Callable = collections.abc.Callable\n",
    "import geemap\n",
    "from geemap import chart\n",
    "\n",
    "%matplotlib inline\n",
    "import matplotlib.pyplot as plt\n",
    "\n",
    "#ee.Authenticate()\n",
    "ee.Initialize()"
   ]
  },
  {
   "cell_type": "markdown",
   "id": "729f2ece-1567-42a8-8b56-ac0e369b8a52",
   "metadata": {},
   "source": [
    "### Imports and Constants\n",
    "##### test areas, data sources, composite RGB image"
   ]
  },
  {
   "cell_type": "code",
   "execution_count": 181,
   "id": "fc1b2360-8ef0-43ad-9f23-980bcd8ab98d",
   "metadata": {},
   "outputs": [],
   "source": [
    "import ee\n",
    "import geemap\n",
    "\n",
    "Map = geemap.Map()\n",
    "\n",
    "total = ee.Geometry.Polygon(\n",
    "        [[[25.8, -10.5],\n",
    "          [25.8, -10.8],\n",
    "          [26.1, -10.8],\n",
    "          [26.1, -10.5]]], None, False)\n",
    "area1 = ee.Geometry.Polygon(\n",
    "        [[[25.75, -10.75],\n",
    "          [25.75, -10.8],\n",
    "          [25.9, -10.8],\n",
    "          [25.9, -10.75]]], None, False)\n",
    "area2 = ee.Geometry.Polygon(\n",
    "        [[[25.85, -10.6],\n",
    "          [25.85, -10.7],\n",
    "          [25.95, -10.7],\n",
    "          [25.95, -10.6]]], None, False)\n",
    "area3 = ee.Geometry.Polygon(\n",
    "        [[[26, -10.5],\n",
    "          [26, -10.75],\n",
    "          [26.25, -10.75],\n",
    "          [26.25, -10.5]]], None, False)\n",
    "area4 = ee.Geometry.Polygon(\n",
    "        [[[25.95, -10.6],\n",
    "          [25.95, -10.7],\n",
    "          [26.05, -10.7],\n",
    "          [26.05, -10.6]]], None, False)\n",
    "noMine = ee.Geometry.Polygon(\n",
    "        [[[26.05, -10.7],\n",
    "          [26.05, -10.8],\n",
    "          [26.15, -10.8],\n",
    "          [26.15, -10.7]]], None, False)\n",
    "rishiArea = ee.Geometry.Polygon(\n",
    "        [[[27.35, -7.5],\n",
    "          [27.35, -7.6],\n",
    "          [27.45, -7.6],\n",
    "          [27.45, -7.5]]], None, False)\n",
    "# Ray Areas \n",
    "roi1 = ee.Geometry.Polygon(\n",
    "        [[[29.55, 3.16],\n",
    "          [29.55, 3.1],\n",
    "          [29.63, 3.1],\n",
    "          [29.63, 3.16]]])\n",
    "roi2 = ee.Geometry.Polygon(\n",
    "        [[[29.76, 3.16],\n",
    "          [29.76, 3.12],\n",
    "          [29.8, 3.12],\n",
    "          [29.8, 3.16]]])\n",
    "roi3 = ee.Geometry.Polygon(\n",
    "        [[[30.25, 1.8],\n",
    "          [30.25, 1.7],\n",
    "          [30.35, 1.7],\n",
    "          [30.35, 1.8]]])\n",
    "\n",
    "s2 = ee.ImageCollection(\"COPERNICUS/S2_SR\")\n",
    "s1 = ee.ImageCollection('COPERNICUS/S1_GRD')\n",
    "rgbVis = {\n",
    "    'min': 0,\n",
    "    'max': 3000,\n",
    "    'bands': ['B4', 'B3', 'B2']\n",
    "}"
   ]
  },
  {
   "cell_type": "markdown",
   "id": "7052cae0-df6e-4c37-bb23-c2c5c01587a7",
   "metadata": {},
   "source": [
    "### Select Area and Year"
   ]
  },
  {
   "cell_type": "code",
   "execution_count": 189,
   "id": "edbe30c5-e1c9-4aac-8b9a-004e700dc6dc",
   "metadata": {},
   "outputs": [],
   "source": [
    "# input desired region of interest\n",
    "area = area2\n",
    "# input desired year of interest\n",
    "year = 2020"
   ]
  },
  {
   "cell_type": "markdown",
   "id": "475d50e7-75b7-4877-b270-b5a365b97c3d",
   "metadata": {},
   "source": [
    "### Create Composite Images (Sentinel-1 and Sentinel-2)"
   ]
  },
  {
   "cell_type": "code",
   "execution_count": 190,
   "id": "aa80531d-0af4-4944-8f43-c3570c69bec6",
   "metadata": {},
   "outputs": [],
   "source": [
    "comp2020 = s2 \\\n",
    "            .filter(ee.Filter.bounds(area)) \\\n",
    "            .filter(ee.Filter.date(str(year) + '-01-01', str(year) + '-12-31')) \\\n",
    "            .filter(ee.Filter.lt('CLOUDY_PIXEL_PERCENTAGE', 20)) \\\n",
    "            .select('B.*') \\\n",
    "            .median().clip(area)\n",
    "sar2020 = s1 \\\n",
    "            .filter(ee.Filter.eq('instrumentMode','IW')) \\\n",
    "            .filter(ee.Filter.eq('orbitProperties_pass', 'DESCENDING')) \\\n",
    "            .filter(ee.Filter.eq('resolution_meters',10)) \\\n",
    "            .filter(ee.Filter.intersects('.geo', area)) \\\n",
    "            .filter(ee.Filter.date(str(year) + '-01-01', str(year) + '-12-31')) \\\n",
    "            .select(['VV', 'VH']).median().clip(area)"
   ]
  },
  {
   "cell_type": "markdown",
   "id": "a5178fb7-5765-40b8-864d-7b3d7d4127fc",
   "metadata": {},
   "source": [
    "### Create .005x.005 Regions"
   ]
  },
  {
   "cell_type": "code",
   "execution_count": 191,
   "id": "efa7c82e-6920-4e62-8b08-28f9b517c663",
   "metadata": {},
   "outputs": [],
   "source": [
    "# must be rectangular geometry\n",
    "def divide_geometry(geo):\n",
    "    regions = []\n",
    "    coords = geo.coordinates().getInfo()[0]\n",
    "    i = coords[0][0]\n",
    "    while i <= coords[1][0]:\n",
    "        j = coords[2][1]\n",
    "        while j >= coords[0][1]:\n",
    "            region = ee.Geometry.Polygon(\n",
    "                [[[i, j],\n",
    "                  [i, j-.005],\n",
    "                  [i+.005, j-.005],\n",
    "                  [i+.005, j]]])\n",
    "            regions.append((region))\n",
    "            j = j-.005\n",
    "        i = i+.005\n",
    "    return regions"
   ]
  },
  {
   "cell_type": "code",
   "execution_count": 192,
   "id": "74d93890-4693-427c-9c1f-82c17c1570ff",
   "metadata": {},
   "outputs": [
    {
     "name": "stdout",
     "output_type": "stream",
     "text": [
      "Number of Regions Created: 420\n"
     ]
    }
   ],
   "source": [
    "regions = divide_geometry(area)\n",
    "print('Number of Regions Created: ' + str(len(regions)))"
   ]
  },
  {
   "cell_type": "markdown",
   "id": "e3a217c4-0391-4e39-a82e-bbe8e1b355fe",
   "metadata": {},
   "source": [
    "### Create Indices: NDVI, NDMI, NIR/SWIR2"
   ]
  },
  {
   "cell_type": "markdown",
   "id": "f29915e4-22f8-44e0-9f79-da55b381a95c",
   "metadata": {},
   "source": [
    "##### NDVI: Normalized Difference Vegetation Index\n",
    "##### Using Modis NDVI band, values range from -2000 to 10000"
   ]
  },
  {
   "cell_type": "code",
   "execution_count": 193,
   "id": "7b8f0769-0a9d-49a0-a598-9e91dd15b7c4",
   "metadata": {},
   "outputs": [],
   "source": [
    "def extract_ndvi_modis(image):\n",
    "    stats = image.reduceRegion(**{\n",
    "        'reducer': ee.Reducer.mean(),\n",
    "        'geometry': image.geometry(),\n",
    "        'scale': 100\n",
    "    })\n",
    "    \n",
    "    properties = {\n",
    "        'Year': image.get('system:index'),\n",
    "        'NDVI': stats.get('NDVI')\n",
    "    }\n",
    "    \n",
    "    return ee.Feature(None, properties)"
   ]
  },
  {
   "cell_type": "code",
   "execution_count": 194,
   "id": "c113b82e-73e8-4f93-9240-fbbe2b28845c",
   "metadata": {},
   "outputs": [],
   "source": [
    "def mining_modis(regions):\n",
    "    Map.centerObject(area, 13)\n",
    "    Map.addLayer(comp2020,rgbVis,'whole',False)\n",
    "    passed = []\n",
    "    for region in regions:\n",
    "        image = s2 \\\n",
    "            .filter(ee.Filter.bounds(region)) \\\n",
    "            .filter(ee.Filter.date(str(year) + '-01-01', str(year) + '-12-31')) \\\n",
    "            .filter(ee.Filter.lt('CLOUDY_PIXEL_PERCENTAGE', 20)) \\\n",
    "            .select('B.*') \\\n",
    "            .median().clip(region)\n",
    "        ndvi = image.normalizedDifference(['B8', 'B4']).rename('NDVI')\n",
    "        dataNDVI = ee.FeatureCollection(extract_ndvi_modis(ndvi))\n",
    "        dfNDVI = geemap.ee_to_pandas(dataNDVI)\n",
    "\n",
    "        if dfNDVI.iat[0,0] < 0.4:\n",
    "            passed.append(region)\n",
    "    if len(passed) > 0:\n",
    "        layer = ee.Geometry.MultiPolygon(passed)\n",
    "        image = s2 \\\n",
    "            .filter(ee.Filter.bounds(layer)) \\\n",
    "            .filter(ee.Filter.date(str(year) + '-01-01', str(year) + '-12-31')) \\\n",
    "            .filter(ee.Filter.lt('CLOUDY_PIXEL_PERCENTAGE', 20)) \\\n",
    "            .select('B.*') \\\n",
    "            .median().clip(layer)\n",
    "        Map.addLayer(image, rgbVis, 'pass')\n",
    "        \n",
    "        ndvi = image.normalizedDifference(['B8', 'B4']).rename('NDVI')\n",
    "        nirG = image.normalizedDifference(['B8', 'B3'])\n",
    "        ndmi = image.normalizedDifference(['B8', 'B11'])\n",
    "        #iron = image.normalizedDifference(['B4', 'B2']).rename('iron')\n",
    "        vv2020 = sar2020.select('VV')\n",

    "        lowNDVI = ndvi.lt(0.12).rename('ndvi').selfMask()\n",
    "        connectN = lowNDVI.connectedPixelCount(100)\n",
    "        lowNDVI = lowNDVI.updateMask(connectN.gt(8))\n",
    "        Map.addLayer(lowNDVI, {'min':0, 'max':1, 'palette':['purple']}, 'Mining')\n",
    "        \n",
    "        waterStorage = vv2020.lt(-15).rename('water').And(nirG.lt(0.1).Or(ndmi.gt(.3))).selfMask()\n",
    "        connectW = waterStorage.connectedPixelCount(50)\n",
    "        waterStorage = waterStorage.updateMask(connectW.gt(8))\n",
    "        Map.addLayer(waterStorage, {'min':0, 'max':1, 'palette':['blue']}, 'Water')\n",
    "                    \n",
    "#         ironSpots = iron.gt(0.4).rename('iron').selfMask()\n",
    "#         connectI = ironSpots.connectedPixelCount(25)\n",
    "#         ironSpots = ironSpots.updateMask(connectI.gt(8))\n",
    "#         Map.addLayer(ironSpots, {'min':0, 'max':1, 'palette':['gray']}, 'Iron')\n",
    "                    \n",
    "    return Map"
   ]
  },
  {
   "cell_type": "code",
   "execution_count": 195,
   "id": "4db9783b-407b-44d2-85cb-976119244464",
   "metadata": {},
   "outputs": [
    {
     "data": {
      "application/vnd.jupyter.widget-view+json": {
       "model_id": "46af68c415d44492b4b595273539fbb3",
       "version_major": 2,
       "version_minor": 0
      },
      "text/plain": [
       "Map(bottom=1111263.3999786377, center=[-10.649998588349007, 25.900000000000425], controls=(WidgetControl(optio…"
      ]
     },
     "metadata": {},
     "output_type": "display_data"
    }
   ],
   "source": [
    "mining_modis(regions)"
   ]
  }
 ],
 "metadata": {
  "kernelspec": {
   "display_name": "Python 3 (ipykernel)",
   "language": "python",
   "name": "python3"
  },
  "language_info": {
   "codemirror_mode": {
    "name": "ipython",
    "version": 3
   },
   "file_extension": ".py",
   "mimetype": "text/x-python",
   "name": "python",
   "nbconvert_exporter": "python",
   "pygments_lexer": "ipython3",
   "version": "3.7.11"
  }
 },
 "nbformat": 4,
 "nbformat_minor": 5
}
