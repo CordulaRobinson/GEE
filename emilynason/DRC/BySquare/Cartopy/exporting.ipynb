{
 "cells": [
  {
   "cell_type": "code",
   "execution_count": 1,
   "id": "7bb76ea3-f0d0-41a8-914a-ea0ee0d21ead",
   "metadata": {},
   "outputs": [
    {
     "data": {
      "text/html": [
       "<p>To authorize access needed by Earth Engine, open the following\n",
       "        URL in a web browser and follow the instructions:</p>\n",
       "        <p><a href=https://accounts.google.com/o/oauth2/auth?client_id=517222506229-vsmmajv00ul0bs7p89v5m89qs8eb9359.apps.googleusercontent.com&scope=https%3A%2F%2Fwww.googleapis.com%2Fauth%2Fearthengine+https%3A%2F%2Fwww.googleapis.com%2Fauth%2Fdevstorage.full_control&redirect_uri=urn%3Aietf%3Awg%3Aoauth%3A2.0%3Aoob&response_type=code&code_challenge=_Pt0RCP-mA7NUGGNbAqAHUJQnHDoOrNOcFg3eaHAN8I&code_challenge_method=S256>https://accounts.google.com/o/oauth2/auth?client_id=517222506229-vsmmajv00ul0bs7p89v5m89qs8eb9359.apps.googleusercontent.com&scope=https%3A%2F%2Fwww.googleapis.com%2Fauth%2Fearthengine+https%3A%2F%2Fwww.googleapis.com%2Fauth%2Fdevstorage.full_control&redirect_uri=urn%3Aietf%3Awg%3Aoauth%3A2.0%3Aoob&response_type=code&code_challenge=_Pt0RCP-mA7NUGGNbAqAHUJQnHDoOrNOcFg3eaHAN8I&code_challenge_method=S256</a></p>\n",
       "        <p>The authorization workflow will generate a code, which you\n",
       "        should paste in the box below</p>\n",
       "        "
      ],
      "text/plain": [
       "<IPython.core.display.HTML object>"
      ]
     },
     "metadata": {},
     "output_type": "display_data"
    },
    {
     "name": "stdin",
     "output_type": "stream",
     "text": [
      "Enter verification code:  4/1AX4XfWi2a23g4GrQ8mEJlOZHqMpxTyTX6Rwb3Z_9p7jTMRNg8pESkeiEyK4\n"
     ]
    },
    {
     "name": "stdout",
     "output_type": "stream",
     "text": [
      "\n",
      "Successfully saved authorization token.\n"
     ]
    }
   ],
   "source": [
    "import ee\n",
    "import collections\n",
    "collections.Callable = collections.abc.Callable\n",
    "import geemap\n",
    "from geemap import chart\n",
    "\n",
    "%matplotlib inline\n",
    "import matplotlib.pyplot as plt\n",
    "\n",
    "import math\n",
    "\n",
    "ee.Authenticate()\n",
    "ee.Initialize()"
   ]
  },
  {
   "cell_type": "markdown",
   "id": "e46991b2-1f85-4436-8e2f-a14c80e1d7e3",
   "metadata": {},
   "source": [
    "### Imports and Constants"
   ]
  },
  {
   "cell_type": "code",
   "execution_count": 11,
   "id": "3ba38ae9-ec3b-425b-b46e-66ec90ca07fa",
   "metadata": {},
   "outputs": [],
   "source": [
    "import ee\n",
    "import geemap\n",
    "\n",
    "Map = geemap.Map()\n",
    "\n",
    "# Emily's Areas\n",
    "region1 = ee.Geometry.Polygon(\n",
    "        [[[25.75, -10.75],\n",
    "          [25.75, -10.8],\n",
    "          [25.9, -10.8],\n",
    "          [25.9, -10.75]]])\n",
    "region2 = ee.Geometry.Polygon(\n",
    "        [[[25.85, -10.6],\n",
    "          [25.85, -10.7],\n",
    "          [25.95, -10.7],\n",
    "          [25.95, -10.6]]])\n",
    "region3 = ee.Geometry.Polygon(\n",
    "        [[[26, -10.5],\n",
    "          [26, -10.75],\n",
    "          [26.25, -10.75],\n",
    "          [26.25, -10.5]]])\n",
    "region4 = ee.Geometry.Polygon(\n",
    "        [[[25.95, -10.6],\n",
    "          [25.95, -10.7],\n",
    "          [26.05, -10.7],\n",
    "          [26.05, -10.6]]])\n",
    "noMine = ee.Geometry.Polygon(\n",
    "        [[[26.05, -10.7],\n",
    "          [26.05, -10.8],\n",
    "          [26.15, -10.8],\n",
    "          [26.15, -10.7]]])\n",
    "total = ee.Geometry.Polygon(\n",
    "        [[[25.8, -10.5],\n",
    "          [25.8, -10.8],\n",
    "          [26.25, -10.8],\n",
    "          [26.25, -10.5]]])\n",
    "\n",
    "# Rishi Area\n",
    "rishiArea = ee.Geometry.Polygon(\n",
    "        [[[27.35, -7.5],\n",
    "          [27.35, -7.6],\n",
    "          [27.45, -7.6],\n",
    "          [27.45, -7.5]]])\n",
    "# Ray Areas \n",
    "roi1 = ee.Geometry.Polygon(\n",
    "        [[[29.55, 3.16],\n",
    "          [29.55, 3.1],\n",
    "          [29.63, 3.1],\n",
    "          [29.63, 3.16]]])\n",
    "roi2 = ee.Geometry.Polygon(\n",
    "        [[[29.76, 3.16],\n",
    "          [29.76, 3.12],\n",
    "          [29.8, 3.12],\n",
    "          [29.8, 3.16]]])\n",
    "roi3 = ee.Geometry.Polygon(\n",
    "        [[[30.25, 1.8],\n",
    "          [30.25, 1.7],\n",
    "          [30.35, 1.7],\n",
    "          [30.35, 1.8]]])\n",
    "\n",
    "# Sentinel-2 Data and Visualization\n",
    "s2 = ee.ImageCollection(\"COPERNICUS/S2_SR\")\n",
    "rgbVis = {\n",
    "    'min': 0,\n",
    "    'max': 3000,\n",
    "    'bands': ['B4', 'B3', 'B2']\n",
    "}"
   ]
  },
  {
   "cell_type": "markdown",
   "id": "f6ae50e6-d3de-4c99-a644-09bd79fb32f5",
   "metadata": {},
   "source": [
    "### Classifier"
   ]
  },
  {
   "cell_type": "markdown",
   "id": "71ee07cb-28dc-40fd-b172-e03121573049",
   "metadata": {},
   "source": [
    "### Select Desired Region"
   ]
  },
  {
   "cell_type": "code",
   "execution_count": 13,
   "id": "51f57c75-6832-49b5-a205-c4a16a3ef355",
   "metadata": {},
   "outputs": [],
   "source": [
    "mainRegion = region1"
   ]
  },
  {
   "cell_type": "markdown",
   "id": "ec850d7e-7575-4aee-868b-b0e2aa2c2054",
   "metadata": {},
   "source": [
    "### Create Composite Image of Entire Region (Sentinel-2)"
   ]
  },
  {
   "cell_type": "code",
   "execution_count": 16,
   "id": "c7e116be-9623-4212-a18f-a9c7598ce708",
   "metadata": {},
   "outputs": [
    {
     "data": {
      "application/vnd.jupyter.widget-view+json": {
       "model_id": "2fcd51ac0e6a439c9b7afe274ed3263f",
       "version_major": 2,
       "version_minor": 0
      },
      "text/plain": [
       "Map(bottom=278230.0, center=[-10.775008323246253, 25.825000000002206], controls=(WidgetControl(options=['posit…"
      ]
     },
     "metadata": {},
     "output_type": "display_data"
    }
   ],
   "source": [
    "imageRef = s2 \\\n",
    "        .filter(ee.Filter.bounds(mainRegion)) \\\n",
    "        .filter(ee.Filter.date('2020-01-01', '2020-12-31')) \\\n",
    "        .filter(ee.Filter.lt('CLOUDY_PIXEL_PERCENTAGE', 20)) \\\n",
    "        .select('B4', 'B3', 'B2') \\\n",
    "        .median().clip(mainRegion)\n",
    "Map.centerObject(mainRegion, 11)\n",
    "Map.addLayer(imageRef, rgbVis, 'export region whole')\n",
    "Map"
   ]
  },
  {
   "cell_type": "markdown",
   "id": "556aa616-4acb-4636-b6b6-949bce4f7d02",
   "metadata": {},
   "source": [
    "### Create Square Regions"
   ]
  },
  {
   "cell_type": "code",
   "execution_count": 6,
   "id": "792c18bc-d8aa-4a86-9bc0-3a4a678afd50",
   "metadata": {},
   "outputs": [],
   "source": [
    "\"\"\"\n",
    "Segment the given geometry into squares of given size (in km)\n",
    ":param geometry: rectangle form geometry object\n",
    ":return: list including all squares\n",
    "\"\"\"\n",
    "def create_segments(geometry, size):\n",
    "    segments = []\n",
    "    r_earth, dy, dx, pi = ee.Number(6378), ee.Number(size), ee.Number(size), ee.Number(math.pi)\n",
    "    \n",
    "    coords = ee.List(geometry.coordinates().get(0)).slice(0, -1)\n",
    "    \n",
    "    top = ee.Number(ee.List(coords.get(2)).get(1))\n",
    "    left = ee.Number(ee.List(coords.get(0)).get(0))\n",
    "    \n",
    "    width = int(ee.Geometry.Point(coords.get(0)).distance(ee.Geometry.Point(coords.get(1))).divide(1000 * size).getInfo())\n",
    "    height = int(ee.Geometry.Point(coords.get(1)).distance(ee.Geometry.Point(coords.get(2))).divide(1000 * size).getInfo())\n",
    "\n",
    "    for y in range(height + 1):\n",
    "        left = ee.Number(ee.List(coords.get(0)).get(0))\n",
    "        for x in range(width + 1):\n",
    "            #\n",
    "            first = top\n",
    "            second = dx.divide(r_earth)\n",
    "            third = ee.Number(180).divide(pi)\n",
    "            con = pi.divide(ee.Number(180))\n",
    "            fourth = left.multiply(con).multiply(con).cos()\n",
    "            \n",
    "            new_lon = first.subtract(second.multiply(third).divide(fourth))\n",
    "            #new_lon = top - (dx / r_earth) * (180 / pi) / math.cos(math.radians(left * pi/180))\n",
    "            #new_lat = left  + (dy / r_earth) * (180 / pi)\n",
    "            new_lat = left.add((dy.divide(r_earth)).multiply((ee.Number(180).divide(pi))))\n",
    "            \n",
    "            square = ee.Geometry.Polygon(\n",
    "                [[[left, new_lon],\n",
    "                  [new_lat, new_lon],\n",
    "                  [new_lat, top],\n",
    "                  [left, top]]], None, False)\n",
    "            \n",
    "            segments.append(square)\n",
    "            \n",
    "            left = new_lat\n",
    "        top = new_lon\n",
    "        \n",
    "    return segments"
   ]
  },
  {
   "cell_type": "code",
   "execution_count": 7,
   "id": "8d6af10a-2917-42b6-8d7e-8b24d12f385b",
   "metadata": {},
   "outputs": [
    {
     "name": "stdout",
     "output_type": "stream",
     "text": [
      "Number of Regions Created: 8\n"
     ]
    }
   ],
   "source": [
    "regions = create_segments(mainRegion, 5)\n",
    "print('Number of Regions Created: ' + str(len(regions)))"
   ]
  },
  {
   "cell_type": "code",
   "execution_count": 20,
   "id": "37a21da8-15cf-4c30-aa78-078e76a661a0",
   "metadata": {},
   "outputs": [],
   "source": [
    "num = 1\n",
    "for region in regions:\n",
    "    imageRef = s2 \\\n",
    "        .filter(ee.Filter.bounds(region)) \\\n",
    "        .filter(ee.Filter.date('2020-01-01', '2020-12-31')) \\\n",
    "        .filter(ee.Filter.lt('CLOUDY_PIXEL_PERCENTAGE', 20)) \\\n",
    "        .select('B4', 'B3', 'B2') \\\n",
    "        .median().clip(region)\n",
    "    task = ee.batch.Export.image.toDrive(image=imageRef,\n",
    "                                         description='passing region ' + str(num),\n",
    "                                         folder='ee multi export test',\n",
    "                                         scale=30,\n",
    "                                         region=region,\n",
    "                                         fileNamePrefix='region_ex_' + str(num),\n",
    "                                         crs='EPSG:4326',\n",
    "                                         fileFormat='GeoTIFF')\n",
    "    task.start()\n",
    "    num = num+1"
   ]
  },
  {
   "cell_type": "code",
   "execution_count": 26,
   "id": "fbcf84a4-4e52-4170-a738-0f1ec7fc8027",
   "metadata": {},
   "outputs": [
    {
     "name": "stdout",
     "output_type": "stream",
     "text": [
      "{'state': 'READY', 'description': 'passing region 8', 'creation_timestamp_ms': 1645199455270, 'update_timestamp_ms': 1645199455270, 'start_timestamp_ms': 0, 'task_type': 'EXPORT_IMAGE', 'id': 'E6X722YMX3WZJZENMEHVZ37K', 'name': 'projects/earthengine-legacy/operations/E6X722YMX3WZJZENMEHVZ37K'}\n"
     ]
    }
   ],
   "source": [
    "print(task.status())"
   ]
  },
  {
   "cell_type": "code",
   "execution_count": 4,
   "id": "dd448669-83b7-4989-8b9f-7abf5e4d1ea4",
   "metadata": {},
   "outputs": [],
   "source": [
    "# export big region\n",
    "imageRef = s2 \\\n",
    "        .filter(ee.Filter.bounds(total)) \\\n",
    "        .filter(ee.Filter.date('2020-01-01', '2020-12-31')) \\\n",
    "        .filter(ee.Filter.lt('CLOUDY_PIXEL_PERCENTAGE', 20)) \\\n",
    "        .select('B4', 'B3', 'B2') \\\n",
    "        .median().clip(total)\n",
    "task = ee.batch.Export.image.toDrive(image=imageRef,\n",
    "                                     description='Big Region',\n",
    "                                     folder='ee entire region',\n",
    "                                     scale=30,\n",
    "                                     region=total,\n",
    "                                     fileNamePrefix='big_region',\n",
    "                                     crs='EPSG:4326',\n",
    "                                     fileFormat='GeoTIFF')\n",
    "task.start()"
   ]
  },
  {
   "cell_type": "code",
   "execution_count": 9,
   "id": "946596d6-6add-4596-92fd-bafdbc54c36e",
   "metadata": {},
   "outputs": [
    {
     "name": "stdout",
     "output_type": "stream",
     "text": [
      "{'state': 'COMPLETED', 'description': 'Big Region', 'creation_timestamp_ms': 1645638551710, 'update_timestamp_ms': 1645638748626, 'start_timestamp_ms': 1645638631498, 'task_type': 'EXPORT_IMAGE', 'destination_uris': ['https://drive.google.com/#folders/1zwXiaAYuNQuBL8u2eQQIPco2WlvA2IqW'], 'attempt': 1, 'id': '5V22KHNUZQJB5JTUCTNH377L', 'name': 'projects/earthengine-legacy/operations/5V22KHNUZQJB5JTUCTNH377L'}\n"
     ]
    }
   ],
   "source": [
    "print(task.status())"
   ]
  },
  {
   "cell_type": "code",
   "execution_count": 10,
   "id": "9fa5cbc8-87c4-45f2-b8b3-3bdaeb410227",
   "metadata": {},
   "outputs": [
    {
     "data": {
      "application/vnd.jupyter.widget-view+json": {
       "model_id": "088dab8d148f4710ab0d6669ed905ac8",
       "version_major": 2,
       "version_minor": 0
      },
      "text/plain": [
       "Map(center=[20, 0], controls=(WidgetControl(options=['position', 'transparent_bg'], widget=HBox(children=(Togg…"
      ]
     },
     "metadata": {},
     "output_type": "display_data"
    }
   ],
   "source": [
    "Map.addLayer(imageRef, rgbVis, 'bigger region')\n",
    "Map"
   ]
  },
  {
   "cell_type": "code",
   "execution_count": null,
   "id": "fa2c720e-f2eb-481e-990f-f51b7900928a",
   "metadata": {},
   "outputs": [],
   "source": []
  }
 ],
 "metadata": {
  "kernelspec": {
   "display_name": "Python 3 (ipykernel)",
   "language": "python",
   "name": "python3"
  },
  "language_info": {
   "codemirror_mode": {
    "name": "ipython",
    "version": 3
   },
   "file_extension": ".py",
   "mimetype": "text/x-python",
   "name": "python",
   "nbconvert_exporter": "python",
   "pygments_lexer": "ipython3",
   "version": "3.10.1"
  }
 },
 "nbformat": 4,
 "nbformat_minor": 5
}
