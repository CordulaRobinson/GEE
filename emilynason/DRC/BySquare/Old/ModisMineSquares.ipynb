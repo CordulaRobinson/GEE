{
 "cells": [
  {
   "cell_type": "code",
   "execution_count": 1,
   "id": "6f1040dd-df64-4827-b8f8-f0d93ab58078",
   "metadata": {},
   "outputs": [
    {
     "data": {
      "text/html": [
       "<p>To authorize access needed by Earth Engine, open the following\n",
       "        URL in a web browser and follow the instructions:</p>\n",
       "        <p><a href=https://accounts.google.com/o/oauth2/auth?client_id=517222506229-vsmmajv00ul0bs7p89v5m89qs8eb9359.apps.googleusercontent.com&scope=https%3A%2F%2Fwww.googleapis.com%2Fauth%2Fearthengine+https%3A%2F%2Fwww.googleapis.com%2Fauth%2Fdevstorage.full_control&redirect_uri=urn%3Aietf%3Awg%3Aoauth%3A2.0%3Aoob&response_type=code&code_challenge=WtbBMC3c0d-sJDrAn7o57LyfJU-jjjCw_q5pj0tofhQ&code_challenge_method=S256>https://accounts.google.com/o/oauth2/auth?client_id=517222506229-vsmmajv00ul0bs7p89v5m89qs8eb9359.apps.googleusercontent.com&scope=https%3A%2F%2Fwww.googleapis.com%2Fauth%2Fearthengine+https%3A%2F%2Fwww.googleapis.com%2Fauth%2Fdevstorage.full_control&redirect_uri=urn%3Aietf%3Awg%3Aoauth%3A2.0%3Aoob&response_type=code&code_challenge=WtbBMC3c0d-sJDrAn7o57LyfJU-jjjCw_q5pj0tofhQ&code_challenge_method=S256</a></p>\n",
       "        <p>The authorization workflow will generate a code, which you\n",
       "        should paste in the box below</p>\n",
       "        "
      ],
      "text/plain": [
       "<IPython.core.display.HTML object>"
      ]
     },
     "metadata": {},
     "output_type": "display_data"
    },
    {
     "name": "stdin",
     "output_type": "stream",
     "text": [
      "Enter verification code:  4/1AX4XfWhmtB-P7ib1p73aIDbQ7YgW8gv9Y12eXbYU72jS691FGROKvtNVhIg\n"
     ]
    },
    {
     "name": "stdout",
     "output_type": "stream",
     "text": [
      "\n",
      "Successfully saved authorization token.\n"
     ]
    }
   ],
   "source": [
    "import ee\n",
    "import collections\n",
    "collections.Callable = collections.abc.Callable\n",
    "import geemap\n",
    "from geemap import chart\n",
    "\n",
    "%matplotlib inline\n",
    "import matplotlib.pyplot as plt\n",
    "\n",
    "ee.Authenticate()\n",
    "ee.Initialize()"
   ]
  },
  {
   "cell_type": "markdown",
   "id": "f32ddffc-03e7-4cf6-8c8a-503ed60427c1",
   "metadata": {},
   "source": [
    "### Imports and Constants\n",
    "##### test areas, data sources, composite RGB image"
   ]
  },
  {
   "cell_type": "code",
   "execution_count": 21,
   "id": "d7c6472d-1312-4869-85ca-205944f51ddd",
   "metadata": {},
   "outputs": [],
   "source": [
    "import ee\n",
    "import geemap\n",
    "\n",
    "Map = geemap.Map()\n",
    "\n",
    "area1 = ee.Geometry.Polygon(\n",
    "        [[[25.75, -10.75],\n",
    "          [25.75, -10.8],\n",
    "          [25.9, -10.8],\n",
    "          [25.9, -10.75]]], None, False)\n",
    "area2 = ee.Geometry.Polygon(\n",
    "        [[[25.8, -10.6],\n",
    "          [25.8, -10.7],\n",
    "          [25.95, -10.7],\n",
    "          [25.95, -10.6]]], None, False)\n",
    "area3 = ee.Geometry.Polygon(\n",
    "        [[[26, -10.5],\n",
    "          [26, -10.75],\n",
    "          [26.25, -10.75],\n",
    "          [26.25, -10.5]]], None, False)\n",
    "area4 = ee.Geometry.Polygon(\n",
    "        [[[25.95, -10.6],\n",
    "          [25.95, -10.7],\n",
    "          [26.05, -10.7],\n",
    "          [26.05, -10.6]]], None, False)\n",
    "noMine = ee.Geometry.Polygon(\n",
    "        [[[26.05, -10.7],\n",
    "          [26.05, -10.8],\n",
    "          [26.15, -10.8],\n",
    "          [26.15, -10.7]]], None, False)\n",
    "ls8 = ee.ImageCollection(\"LANDSAT/LC08/C02/T1_L2\")\n",
    "s2 = ee.ImageCollection(\"COPERNICUS/S2_SR\")\n",
    "s1 = ee.ImageCollection('COPERNICUS/S1_GRD')\n",
    "modis = ee.ImageCollection(\"MODIS/006/MOD13Q1\") # vegetation indices\n",
    "modis2 = ee.ImageCollection('MODIS/006/MCD43A4')\n",
    "rgbVis = {\n",
    "    'min': 0,\n",
    "    'max': 3000,\n",
    "    'bands': ['B4', 'B3', 'B2']\n",
    "}\n",
    "comp2020 = s2 \\\n",
    "            .filter(ee.Filter.bounds(area4)) \\\n",
    "            .filter(ee.Filter.date('2020-01-01', '2020-12-31')) \\\n",
    "            .filter(ee.Filter.lt('CLOUDY_PIXEL_PERCENTAGE', 20)) \\\n",
    "            .select('B.*') \\\n",
    "            .median().clip(area4)\n",
    "sar2020 = s1 \\\n",
    "            .filter(ee.Filter.eq('instrumentMode','IW')) \\\n",
    "            .filter(ee.Filter.eq('orbitProperties_pass', 'DESCENDING')) \\\n",
    "            .filter(ee.Filter.eq('resolution_meters',10)) \\\n",
    "            .filter(ee.Filter.intersects('.geo', area4)) \\\n",
    "            .filter(ee.Filter.date('2020-01-01', '2020-12-31')) \\\n",
    "            .select(['VV', 'VH']).median().clip(area4)"
   ]
  },
  {
   "cell_type": "markdown",
   "id": "79cadbc2-e85a-45a7-a67b-8ebfae616228",
   "metadata": {},
   "source": [
    "### Create .05x.05 Regions"
   ]
  },
  {
   "cell_type": "code",
   "execution_count": 22,
   "id": "a9a65fff-1b81-4f03-bdd2-645a3e185e9e",
   "metadata": {},
   "outputs": [],
   "source": [
    "# must be rectangular geometry\n",
    "def divide_geometry(geo):\n",
    "    regions = []\n",
    "    coords = geo.coordinates().getInfo()[0]\n",
    "    i = coords[0][0]\n",
    "    while i <= coords[1][0]:\n",
    "        j = coords[2][1]\n",
    "        while j >= coords[0][1]:\n",
    "            region = ee.Geometry.Polygon(\n",
    "                [[[i, j],\n",
    "                  [i, j-.05],\n",
    "                  [i+.05, j-.05],\n",
    "                  [i+.05, j]]])\n",
    "            regions.append((region))\n",
    "            j = j-.05\n",
    "        i = i+.05\n",
    "    return regions"
   ]
  },
  {
   "cell_type": "code",
   "execution_count": 23,
   "id": "fcf69c84-e49a-45cc-a553-d045ff566bb3",
   "metadata": {},
   "outputs": [
    {
     "name": "stdout",
     "output_type": "stream",
     "text": [
      "Number of Regions Created: 6\n"
     ]
    }
   ],
   "source": [
    "regions = divide_geometry(area4)\n",
    "print('Number of Regions Created: ' + str(len(regions)))"
   ]
  },
  {
   "cell_type": "markdown",
   "id": "673a3e43-0002-4439-9945-01378dd0daac",
   "metadata": {},
   "source": [
    "### Create Indices: NDVI, NDMI, NIR/SWIR2"
   ]
  },
  {
   "cell_type": "markdown",
   "id": "d818fb20-63ed-4772-9394-973995e9ddb2",
   "metadata": {},
   "source": [
    "##### NDVI: Normalized Difference Vegetation Index\n",
    "##### Using Modis NDVI band, values range from -2000 to 10000"
   ]
  },
  {
   "cell_type": "code",
   "execution_count": 5,
   "id": "8bc9b71d-2a4c-440e-9964-600afe6ea283",
   "metadata": {},
   "outputs": [],
   "source": [
    "def create_ndvi_layers_modis(start, end, geometry):\n",
    "    images = []\n",
    "    ndviStart = modis \\\n",
    "                .filter(ee.Filter.bounds(geometry))\\\n",
    "                .filter(ee.Filter.date(str(start) + '-01-01', str(start) + '-12-31')) \\\n",
    "                .select('NDVI') \\\n",
    "                .median() \\\n",
    "                .clip(geometry)\n",
    "    images.append((ndviStart, start))\n",
    "    ndviEnd = modis \\\n",
    "                .filter(ee.Filter.bounds(geometry))\\\n",
    "                .filter(ee.Filter.date(str(end) + '-01-01', str(end) + '-12-31')) \\\n",
    "                .select('NDVI') \\\n",
    "                .median() \\\n",
    "                .clip(geometry)\n",
    "    images.append((ndviEnd, end))\n",
    "    return images"
   ]
  },
  {
   "cell_type": "markdown",
   "id": "79d03d27-e335-4afd-bd56-7bd8979306a5",
   "metadata": {},
   "source": [
    "##### NDMI: Normalized Difference Moisture Index\n",
    "##### Using NIR (band 2) and SWIR1 (band 6)"
   ]
  },
  {
   "cell_type": "code",
   "execution_count": 6,
   "id": "bff173a3-31a4-4824-85a5-3df1f57bb1d8",
   "metadata": {},
   "outputs": [],
   "source": [
    "def create_ndmi_layers_modis(start, end, geometry):\n",
    "    images = []\n",
    "    ndmiStart = modis2 \\\n",
    "                .filter(ee.Filter.bounds(geometry))\\\n",
    "                .filter(ee.Filter.date(str(start) + '-01-01', str(start) + '-12-31')) \\\n",
    "                .median() \\\n",
    "                .clip(geometry)\n",
    "    ndmiStart2 = ndmiStart.normalizedDifference(['Nadir_Reflectance_Band2', 'Nadir_Reflectance_Band6']).rename('NDMI')\n",
    "    images.append((ndmiStart2, start))\n",
    "    ndmiEnd = modis2 \\\n",
    "                .filter(ee.Filter.bounds(geometry))\\\n",
    "                .filter(ee.Filter.date(str(end) + '-01-01', str(end) + '-12-31')) \\\n",
    "                .median() \\\n",
    "                .clip(geometry)\n",
    "    ndmiEnd2 = ndmiEnd.normalizedDifference(['Nadir_Reflectance_Band2', 'Nadir_Reflectance_Band6']).rename('NDMI')\n",
    "    images.append((ndmiEnd2, end))\n",
    "    return images"
   ]
  },
  {
   "cell_type": "markdown",
   "id": "9aed38a6-2125-4efb-9633-75a42f354f86",
   "metadata": {},
   "source": [
    "##### NIR/SWIR2 - using normalized difference\n",
    "##### NIR (band 2) and SWIR2 (band 7)"
   ]
  },
  {
   "cell_type": "code",
   "execution_count": 7,
   "id": "b86eb0af-48db-409d-93fe-fca957a68e24",
   "metadata": {},
   "outputs": [],
   "source": [
    "def create_nirSwir2_layers_modis(start, end, geometry):\n",
    "    images = []\n",
    "    nirSwir2Start = modis2 \\\n",
    "                .filter(ee.Filter.bounds(geometry))\\\n",
    "                .filter(ee.Filter.date(str(start) + '-01-01', str(start) + '-12-31')) \\\n",
    "                .median() \\\n",
    "                .clip(geometry)\n",
    "    nirSwir2Start2 = nirSwir2Start.normalizedDifference(['Nadir_Reflectance_Band2', 'Nadir_Reflectance_Band7']).rename('nirSwir2')\n",
    "    images.append((nirSwir2Start2, start))\n",
    "    nirSwir2End = modis2 \\\n",
    "                .filter(ee.Filter.bounds(geometry))\\\n",
    "                .filter(ee.Filter.date(str(end) + '-01-01', str(end) + '-12-31')) \\\n",
    "                .median() \\\n",
    "                .clip(geometry)\n",
    "    nirSwir2End2 = nirSwir2End.normalizedDifference(['Nadir_Reflectance_Band2', 'Nadir_Reflectance_Band7']).rename('nirSwir2')\n",
    "    images.append((nirSwir2End2, end))\n",
    "    return images"
   ]
  },
  {
   "cell_type": "markdown",
   "id": "9af70029-2510-4d80-b14d-dbc4ea6a06da",
   "metadata": {},
   "source": [
    "##### Functions to generate an average index value for a given region and year, for each desired index"
   ]
  },
  {
   "cell_type": "code",
   "execution_count": 8,
   "id": "4d1a621b-c021-47e2-8f5b-f13f2372e1af",
   "metadata": {},
   "outputs": [],
   "source": [
    "def extract_ndvi_modis(image):\n",
    "    stats = image.reduceRegion(**{\n",
    "        'reducer': ee.Reducer.mean(),\n",
    "        'geometry': image.geometry(),\n",
    "        'scale': 100\n",
    "    })\n",
    "    \n",
    "    properties = {\n",
    "        'Year': image.get('system:index'),\n",
    "        'NDVI': stats.get('NDVI')\n",
    "    }\n",
    "    \n",
    "    return ee.Feature(None, properties)"
   ]
  },
  {
   "cell_type": "code",
   "execution_count": 9,
   "id": "70c5f5ca-1108-4479-a492-2f5571799357",
   "metadata": {},
   "outputs": [],
   "source": [
    "def extract_ndmi_modis(image):\n",
    "    stats = image.reduceRegion(**{\n",
    "        'reducer': ee.Reducer.mean(),\n",
    "        'geometry': image.geometry(),\n",
    "        'scale': 100\n",
    "    })\n",
    "    \n",
    "    properties = {\n",
    "        'Year': image.get('system:index'),\n",
    "        'NDMI': stats.get('NDMI')\n",
    "    }\n",
    "    \n",
    "    return ee.Feature(None, properties)"
   ]
  },
  {
   "cell_type": "code",
   "execution_count": 10,
   "id": "71f35d7c-7123-4522-84c6-3add65d4ca84",
   "metadata": {},
   "outputs": [],
   "source": [
    "def extract_nirSwir2_modis(image):\n",
    "    stats = image.reduceRegion(**{\n",
    "        'reducer': ee.Reducer.mean(),\n",
    "        'geometry': image.geometry(),\n",
    "        'scale': 100\n",
    "    })\n",
    "    \n",
    "    properties = {\n",
    "        'Year': image.get('system:index'),\n",
    "        'nirSwir2': stats.get('nirSwir2')\n",
    "    }\n",
    "    \n",
    "    return ee.Feature(None, properties)"
   ]
  },
  {
   "cell_type": "markdown",
   "id": "a554883d-2813-454c-a50e-2ae0eb4a75c2",
   "metadata": {},
   "source": [
    "##### Functions to determine if the loss/gain of each index for a given region over given years is significant enough to be a possible mining location"
   ]
  },
  {
   "cell_type": "code",
   "execution_count": 11,
   "id": "cec7335b-f3a0-4de8-bed8-3c32151bae05",
   "metadata": {},
   "outputs": [],
   "source": [
    "def ndvi_requirement_modis(df):\n",
    "    status = 0 # 1 = possible mine, 0 = not mine\n",
    "    if df.iat[0,1] < 4000:\n",
    "        status = 1\n",
    "    elif df.iat[0,1]-df.iat[1,1] > 1000: \n",
    "        status = 1\n",
    "    else: \n",
    "        status = status\n",
    "    return status"
   ]
  },
  {
   "cell_type": "code",
   "execution_count": 38,
   "id": "7bf2e5dc-e5bb-4a1d-b47d-4d7a25d18d5f",
   "metadata": {},
   "outputs": [],
   "source": [
    "def ndmi_requirement_modis(df):\n",
    "    statusNDMI = 0 # 1 = possible mine, 0 = not mine\n",
    "    if df.iat[0,1] < 0: \n",
    "        statusNDMI = 1\n",
    "    elif df.iat[0,1]-df.iat[1,1] > .1: \n",
    "        statusNDMI = 1\n",
    "    else: \n",
    "        statusNDMI = statusNDMI\n",
    "    return statusNDMI"
   ]
  },
  {
   "cell_type": "code",
   "execution_count": 13,
   "id": "84198d7c-2827-4006-a69d-1bcdb4c96655",
   "metadata": {},
   "outputs": [],
   "source": [
    "def nirSwir2_requirement_modis(df):\n",
    "    statusNS = 0 # 1 = possible mine, 0 = not mine\n",
    "    if df.iat[0,1] < .4: \n",
    "        statusNS = 1\n",
    "    elif df.iat[0,1]-df.iat[1,1] > .25: \n",
    "        statusNS = 1\n",
    "    else: \n",
    "        statusNS = statusNS\n",
    "    return statusNS"
   ]
  },
  {
   "cell_type": "markdown",
   "id": "92b30354-e8a4-4ddf-97ef-939061539b67",
   "metadata": {},
   "source": [
    "##### Function to determine what regions within an area may be possible mine locations based on all three indices, and adds these regions to a map as composite images "
   ]
  },
  {
   "cell_type": "code",
   "execution_count": 36,
   "id": "b5e820eb-0a3e-4b80-a813-048dedbe2d89",
   "metadata": {},
   "outputs": [],
   "source": [
    "def mining_modis(regions):\n",
    "    Map.centerObject(area4, 12)\n",
    "    Map.addLayer(comp2020,rgbVis,'whole',False)\n",
    "    num = 1\n",
    "    for region in regions:\n",
    "        layerName = str(num) + ' pass'\n",
    "        \n",
    "        ## NDVI\n",
    "        imagesNDVI = ee.ImageCollection(create_ndvi_layers_modis(2004, 2020, region))\n",
    "        dataNDVI = ee.FeatureCollection(imagesNDVI.map(extract_ndvi_modis))\n",
    "        dfNDVI = geemap.ee_to_pandas(dataNDVI)\n",
    "\n",
    "        status = ndvi_requirement_modis(dfNDVI)\n",
    "        \n",
    "        if status == 1:\n",
    "            \n",
    "            ## NDMI\n",
    "            imagesNDMI = ee.ImageCollection(create_ndmi_layers_modis(2004, 2020, region))\n",
    "            dataNDMI = ee.FeatureCollection(imagesNDMI.map(extract_ndmi_modis))\n",
    "            dfNDMI = geemap.ee_to_pandas(dataNDMI)\n",
    "            \n",
    "            statusNDMI = ndmi_requirement_modis(dfNDMI)\n",
    "            \n",
    "            if statusNDMI == 1:\n",
    "                \n",
    "                ## NIR/SWIR2\n",
    "                imagesNirSwir2 = ee.ImageCollection(create_nirSwir2_layers_modis(2004, 2020, region))\n",
    "                dataNirSwir2 = ee.FeatureCollection(imagesNirSwir2.map(extract_nirSwir2_modis))\n",
    "                dfNirSwir2 = geemap.ee_to_pandas(dataNirSwir2)\n",
    "            \n",
    "                statusNS = nirSwir2_requirement_modis(dfNirSwir2)\n",
    "                \n",
    "                if statusNS == 1:\n",
    "                    \n",
    "                    image = s2 \\\n",
    "                        .filter(ee.Filter.bounds(region)) \\\n",
    "                        .filter(ee.Filter.date('2020-01-01', '2020-12-31')) \\\n",
    "                        .filter(ee.Filter.lt('CLOUDY_PIXEL_PERCENTAGE', 20)) \\\n",
    "                        .select('B.*') \\\n",
    "                        .median().clip(region)\n",
    "                    Map.addLayer(image, rgbVis, layerName)\n",
    "                    \n",
    "                    nirG = image.normalizedDifference(['B8', 'B3'])\n",
    "                    ndmi = image.normalizedDifference(['B8', 'B11'])\n",
    "                    iron = image.normalizedDifference(['B4', 'B2']).rename('iron')\n",
    "                    vv2020 = sar2020.select('VV')\n",
    "                    bsi = image.expression('(( X + Y ) - (A + B)) /(( X + Y ) + (A + B)) ', {\n",
    "                        'X': image.select('B11'), #swir1\n",
    "                        'Y': image.select('B4'),  #red\n",
    "                        'A': image.select('B8'), # nir\n",
    "                        'B': image.select('B2'), # blue\n",
    "                        }).rename('bsi')\n",
    "        \n",
    "                    waterStorage = vv2020.lt(-15).rename('water').And(nirG.lt(0.1).Or(ndmi.gt(.3))).selfMask()\n",
    "                    connectW = waterStorage.connectedPixelCount(25)\n",
    "                    waterStorage = waterStorage.updateMask(connectW.gt(8))\n",
    "                    Map.addLayer(waterStorage, {'min':0, 'max':1, 'palette':['blue']}, str(num) + ' Water')\n",
    "                    \n",
    "                    ironSpots = iron.gt(0.4).rename('iron').selfMask()\n",
    "                    connectI = ironSpots.connectedPixelCount(25)\n",
    "                    ironSpots = ironSpots.updateMask(connectI.gt(8))\n",
    "                    Map.addLayer(ironSpots, {'min':0, 'max':1, 'palette':['gray']}, str(num) + ' Iron')\n",
    "                    \n",
    "                    bareSoil = bsi.gt(0.23).rename('bsi').selfMask()\n",
    "                    connectB = bareSoil.connectedPixelCount(25)\n",
    "                    bareSoil = bareSoil.updateMask(connectB.gt(8))\n",
    "                    Map.addLayer(bareSoil, {'min':0, 'max':1, 'palette':['red']}, str(num) + ' Mining')\n",
    "                    \n",
    "        num = num+1\n",
    "    return Map"
   ]
  },
  {
   "cell_type": "markdown",
   "id": "d9f77643-22e7-4f11-a89f-d34b9c452a50",
   "metadata": {},
   "source": [
    "##### Calls the above function on the selected regions\n",
    "##### Overlays predicted water storage, iron, and bsi (mines)"
   ]
  },
  {
   "cell_type": "code",
   "execution_count": 37,
   "id": "3fc4f2c4-fca7-4538-b782-5e3a724da6ed",
   "metadata": {},
   "outputs": [
    {
     "data": {
      "application/vnd.jupyter.widget-view+json": {
       "model_id": "35408fa09cf8454687af2a3cdc50f241",
       "version_major": 2,
       "version_minor": 0
      },
      "text/plain": [
       "Map(bottom=555789.0, center=[-10.649998588349076, 26.000000000000174], controls=(WidgetControl(options=['posit…"
      ]
     },
     "metadata": {},
     "output_type": "display_data"
    }
   ],
   "source": [
    "mining_modis(regions)"
   ]
  },
  {
   "cell_type": "code",
   "execution_count": null,
   "id": "9d1137dd-d156-44dd-a08d-5ed38cdef0b2",
   "metadata": {},
   "outputs": [],
   "source": []
  }
 ],
 "metadata": {
  "kernelspec": {
   "display_name": "Python 3 (ipykernel)",
   "language": "python",
   "name": "python3"
  },
  "language_info": {
   "codemirror_mode": {
    "name": "ipython",
    "version": 3
   },
   "file_extension": ".py",
   "mimetype": "text/x-python",
   "name": "python",
   "nbconvert_exporter": "python",
   "pygments_lexer": "ipython3",
   "version": "3.10.1"
  }
 },
 "nbformat": 4,
 "nbformat_minor": 5
}
