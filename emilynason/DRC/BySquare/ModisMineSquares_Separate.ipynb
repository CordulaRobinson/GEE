{
 "cells": [
  {
   "cell_type": "code",
   "execution_count": 1,
   "id": "0da865da-985d-4990-9728-ac1aa994268f",
   "metadata": {},
   "outputs": [
    {
     "data": {
      "text/html": [
       "<p>To authorize access needed by Earth Engine, open the following\n",
       "        URL in a web browser and follow the instructions:</p>\n",
       "        <p><a href=https://accounts.google.com/o/oauth2/auth?client_id=517222506229-vsmmajv00ul0bs7p89v5m89qs8eb9359.apps.googleusercontent.com&scope=https%3A%2F%2Fwww.googleapis.com%2Fauth%2Fearthengine+https%3A%2F%2Fwww.googleapis.com%2Fauth%2Fdevstorage.full_control&redirect_uri=urn%3Aietf%3Awg%3Aoauth%3A2.0%3Aoob&response_type=code&code_challenge=WK6MP8S2qcL8p2o5ScbYsmV0C5E7J0YOOMR9Mo9lc8U&code_challenge_method=S256>https://accounts.google.com/o/oauth2/auth?client_id=517222506229-vsmmajv00ul0bs7p89v5m89qs8eb9359.apps.googleusercontent.com&scope=https%3A%2F%2Fwww.googleapis.com%2Fauth%2Fearthengine+https%3A%2F%2Fwww.googleapis.com%2Fauth%2Fdevstorage.full_control&redirect_uri=urn%3Aietf%3Awg%3Aoauth%3A2.0%3Aoob&response_type=code&code_challenge=WK6MP8S2qcL8p2o5ScbYsmV0C5E7J0YOOMR9Mo9lc8U&code_challenge_method=S256</a></p>\n",
       "        <p>The authorization workflow will generate a code, which you\n",
       "        should paste in the box below</p>\n",
       "        "
      ],
      "text/plain": [
       "<IPython.core.display.HTML object>"
      ]
     },
     "metadata": {},
     "output_type": "display_data"
    },
    {
     "name": "stdin",
     "output_type": "stream",
     "text": [
      "Enter verification code:  4/1AX4XfWioQpEEx5V9x_pSThfkO7Xco6W6eUBMvmeeLmGqYuAo4f8RpSljM_0\n"
     ]
    },
    {
     "name": "stdout",
     "output_type": "stream",
     "text": [
      "\n",
      "Successfully saved authorization token.\n"
     ]
    }
   ],
   "source": [
    "import ee\n",
    "import collections\n",
    "collections.Callable = collections.abc.Callable\n",
    "import geemap\n",
    "from geemap import chart\n",
    "\n",
    "%matplotlib inline\n",
    "import matplotlib.pyplot as plt\n",
    "\n",
    "ee.Authenticate()\n",
    "ee.Initialize()"
   ]
  },
  {
   "cell_type": "markdown",
   "id": "5a7c157a-022c-4a65-8afa-1c7277f2f5ec",
   "metadata": {},
   "source": [
    "## Imports and Constants"
   ]
  },
  {
   "cell_type": "markdown",
   "id": "030b2b0a-2cde-4d86-92dd-bfd4481f0eb2",
   "metadata": {},
   "source": [
    "##### test areas, data sources, composite RGB image"
   ]
  },
  {
   "cell_type": "code",
   "execution_count": 82,
   "id": "dc21a113-6c96-4661-876c-28e6b77c3967",
   "metadata": {
    "tags": []
   },
   "outputs": [],
   "source": [
    "import ee\n",
    "import geemap\n",
    "\n",
    "Map = geemap.Map()\n",
    "\n",
    "area1 = ee.Geometry.Polygon(\n",
    "        [[[25.75, -10.75],\n",
    "          [25.75, -10.8],\n",
    "          [25.9, -10.8],\n",
    "          [25.9, -10.75]]], None, False)\n",
    "area2 = ee.Geometry.Polygon(\n",
    "        [[[25.8, -10.6],\n",
    "          [25.8, -10.7],\n",
    "          [25.95, -10.7],\n",
    "          [25.95, -10.6]]], None, False)\n",
    "area3 = ee.Geometry.Polygon(\n",
    "        [[[26, -10.5],\n",
    "          [26, -10.75],\n",
    "          [26.25, -10.75],\n",
    "          [26.25, -10.5]]], None, False)\n",
    "area4 = ee.Geometry.Polygon(\n",
    "        [[[25.95, -10.6],\n",
    "          [25.95, -10.7],\n",
    "          [26.05, -10.7],\n",
    "          [26.05, -10.6]]], None, False)\n",
    "noMine = ee.Geometry.Polygon(\n",
    "        [[[26.05, -10.7],\n",
    "          [26.05, -10.8],\n",
    "          [26.15, -10.8],\n",
    "          [26.15, -10.7]]], None, False)\n",
    "rishiArea = ee.Geometry.Polygon(\n",
    "        [[[27.35, -7.5],\n",
    "          [27.35, -7.6],\n",
    "          [27.45, -7.6],\n",
    "          [27.45, -7.5]]], None, False)\n",
    "ls8 = ee.ImageCollection(\"LANDSAT/LC08/C02/T1_L2\")\n",
    "s2 = ee.ImageCollection(\"COPERNICUS/S2_SR\")\n",
    "s1 = ee.ImageCollection('COPERNICUS/S1_GRD')\n",
    "modis = ee.ImageCollection(\"MODIS/006/MOD13Q1\") # vegetation indices\n",
    "modis2 = ee.ImageCollection('MODIS/006/MCD43A4')\n",
    "rgbVis = {\n",
    "    'min': 0,\n",
    "    'max': 3000,\n",
    "    'bands': ['B4', 'B3', 'B2']\n",
    "}\n",
    "comp2020 = s2 \\\n",
    "            .filter(ee.Filter.bounds(area2)) \\\n",
    "            .filter(ee.Filter.date('2020-01-01', '2020-12-31')) \\\n",
    "            .filter(ee.Filter.lt('CLOUDY_PIXEL_PERCENTAGE', 20)) \\\n",
    "            .select('B.*') \\\n",
    "            .median().clip(area2)\n",
    "sar2020 = s1 \\\n",
    "            .filter(ee.Filter.eq('instrumentMode','IW')) \\\n",
    "            .filter(ee.Filter.eq('orbitProperties_pass', 'DESCENDING')) \\\n",
    "            .filter(ee.Filter.eq('resolution_meters',10)) \\\n",
    "            .filter(ee.Filter.intersects('.geo', area2)) \\\n",
    "            .filter(ee.Filter.date('2020-01-01', '2020-12-31')) \\\n",
    "            .select(['VV', 'VH']).median().clip(area2)"
   ]
  },
  {
   "cell_type": "markdown",
   "id": "96727f09-d738-43d9-80a0-4763ff07158a",
   "metadata": {},
   "source": [
    "### Create .05x.05 Regions"
   ]
  },
  {
   "cell_type": "code",
   "execution_count": 83,
   "id": "a85a5053-7c0d-4934-9433-56020da81bc7",
   "metadata": {
    "tags": []
   },
   "outputs": [],
   "source": [
    "def divide_geometry():\n",
    "    regions = []\n",
    "    i = 25.8\n",
    "    while i <=25.95:\n",
    "        j = -10.6\n",
    "        while j >= -10.7:\n",
    "            region = ee.Geometry.Polygon(\n",
    "                [[[i, j],\n",
    "                  [i, j-.05],\n",
    "                  [i+.05, j-.05],\n",
    "                  [i+.05, j]]])\n",
    "            regions.append((region))\n",
    "            j = j-.05\n",
    "        i = i+.05\n",
    "    return regions"
   ]
  },
  {
   "cell_type": "code",
   "execution_count": 84,
   "id": "0145ed46-eaf0-4cfa-81aa-8a985146768a",
   "metadata": {},
   "outputs": [
    {
     "name": "stdout",
     "output_type": "stream",
     "text": [
      "Number of Regions Created: 6\n"
     ]
    }
   ],
   "source": [
    "regions = divide_geometry()\n",
    "print('Number of Regions Created: ' + str(len(regions)))"
   ]
  },
  {
   "cell_type": "markdown",
   "id": "3dd177c6-af9c-4145-839c-31c7b3bce8ac",
   "metadata": {
    "tags": []
   },
   "source": [
    "### NDVI: Normalized Difference Vegetation Index"
   ]
  },
  {
   "cell_type": "markdown",
   "id": "1bd6fa28-c0e2-4713-9e46-b2dbf68fd224",
   "metadata": {},
   "source": [
    "##### Using the pre-calculated NDVI band from Modis data. Values range from -2000 to 10000\n",
    "##### NDVI is generally lower in mining areas, and decreases as mining increases"
   ]
  },
  {
   "cell_type": "markdown",
   "id": "da842b41-b14a-40d2-90dc-7c38622bdb72",
   "metadata": {},
   "source": [
    "##### Function to generate NDVI images from Modis Data for a given start and end year"
   ]
  },
  {
   "cell_type": "code",
   "execution_count": 85,
   "id": "105797df-8212-4156-b404-8da15e49e185",
   "metadata": {},
   "outputs": [],
   "source": [
    "def create_ndvi_layers_modis(start, end, geometry):\n",
    "    images = []\n",
    "    ndviStart = modis \\\n",
    "                .filter(ee.Filter.bounds(geometry))\\\n",
    "                .filter(ee.Filter.date(str(start) + '-01-01', str(start) + '-12-31')) \\\n",
    "                .select('NDVI') \\\n",
    "                .median() \\\n",
    "                .clip(geometry)\n",
    "    images.append((ndviStart, start))\n",
    "    ndviEnd = modis \\\n",
    "                .filter(ee.Filter.bounds(geometry))\\\n",
    "                .filter(ee.Filter.date(str(end) + '-01-01', str(end) + '-12-31')) \\\n",
    "                .select('NDVI') \\\n",
    "                .median() \\\n",
    "                .clip(geometry)\n",
    "    images.append((ndviEnd, end))\n",
    "    return images"
   ]
  },
  {
   "cell_type": "markdown",
   "id": "77e97b9b-fd45-4169-b1eb-8d3c09ce33e2",
   "metadata": {},
   "source": [
    "##### Function to generate an average NDVI value for a given region and year"
   ]
  },
  {
   "cell_type": "code",
   "execution_count": 86,
   "id": "66316648-6559-4c7c-97fd-3196be28e0c3",
   "metadata": {},
   "outputs": [],
   "source": [
    "def extract_ndvi_modis(image):\n",
    "    stats = image.reduceRegion(**{\n",
    "        'reducer': ee.Reducer.mean(),\n",
    "        'geometry': image.geometry(),\n",
    "        'scale': 100\n",
    "    })\n",
    "    \n",
    "    properties = {\n",
    "        'Year': image.get('system:index'),\n",
    "        'NDVI': stats.get('NDVI')\n",
    "    }\n",
    "    \n",
    "    return ee.Feature(None, properties)"
   ]
  },
  {
   "cell_type": "markdown",
   "id": "e87835fd-c559-4127-81f9-6c7a8b7dfed3",
   "metadata": {},
   "source": [
    "##### Function to determine if the NDVI loss of a given region over given years is significant enough to be a possible mining location"
   ]
  },
  {
   "cell_type": "code",
   "execution_count": 87,
   "id": "e14d05d6-8692-421a-b5e2-c32c82934996",
   "metadata": {},
   "outputs": [],
   "source": [
    "def ndvi_requirement_modis(df):\n",
    "    status = 0 # 1 = possible mine, 0 = not mine\n",
    "    if df.iat[0,1] < 4000:\n",
    "        status = 1\n",
    "    elif df.iat[0,1]-df.iat[1,1] > 1000:\n",
    "        status = 1\n",
    "    else: \n",
    "        status = status\n",
    "    return status"
   ]
  },
  {
   "cell_type": "markdown",
   "id": "dd334b0e-48cd-4e79-8fcd-2af927203988",
   "metadata": {},
   "source": [
    "##### Function to determine what regions within an area may be possible mine locations based on NDVI, and add these regions to a map as composite images "
   ]
  },
  {
   "cell_type": "code",
   "execution_count": 88,
   "id": "05102dce-19a5-4dc6-b6f8-2d361da0d443",
   "metadata": {},
   "outputs": [],
   "source": [
    "def ndvi_level_modis(regions):\n",
    "    Map.centerObject(area2, 11)\n",
    "    Map.addLayer(comp2020,rgbVis,'whole',False)\n",
    "    num = 1\n",
    "    for region in regions:\n",
    "        layerName = str(num) + ' ndvi pass'\n",
    "        \n",
    "        images = ee.ImageCollection(create_ndvi_layers_modis(2004, 2020, region))\n",
    "        data = ee.FeatureCollection(images.map(extract_ndvi_modis))\n",
    "        df = geemap.ee_to_pandas(data)\n",
    "\n",
    "        status = ndvi_requirement_modis(df)\n",
    "        if status == 1:\n",
    "            image = s2 \\\n",
    "                .filter(ee.Filter.bounds(region)) \\\n",
    "                .filter(ee.Filter.date('2020-01-01', '2020-12-31')) \\\n",
    "                .filter(ee.Filter.lt('CLOUDY_PIXEL_PERCENTAGE', 20)) \\\n",
    "                .select('B.*') \\\n",
    "                .median().clip(region)\n",
    "            Map.addLayer(image, rgbVis, layerName)\n",
    "        num = num+1\n",
    "    return Map"
   ]
  },
  {
   "cell_type": "markdown",
   "id": "031a574d-1e53-4057-8171-e850d9e9005b",
   "metadata": {},
   "source": [
    "##### Calls the above function on the selected regions"
   ]
  },
  {
   "cell_type": "code",
   "execution_count": 89,
   "id": "68eb9410-25f0-46b0-a774-be9248406a37",
   "metadata": {},
   "outputs": [
    {
     "data": {
      "application/vnd.jupyter.widget-view+json": {
       "model_id": "3826cfd3473b455883ee834e0a5dc4d4",
       "version_major": 2,
       "version_minor": 0
      },
      "text/plain": [
       "Map(center=[-10.650000238244901, 25.875000000000533], controls=(WidgetControl(options=['position', 'transparen…"
      ]
     },
     "metadata": {},
     "output_type": "display_data"
    }
   ],
   "source": [
    "ndvi_level_modis(regions)"
   ]
  },
  {
   "cell_type": "markdown",
   "id": "d09786c7-2f5f-4efd-8772-e1d7317d3229",
   "metadata": {},
   "source": [
    "### Iron Index"
   ]
  },
  {
   "cell_type": "markdown",
   "id": "ebd772f3-e31c-4497-a287-168834f3d772",
   "metadata": {},
   "source": [
    "##### RED = band 1, BLUE = band 3\n",
    "##### Use normalized difference\n",
    "##### Iron is generally higher in mining areas and increases as mining increases. However, there can be similar values with roads and urban areas. "
   ]
  },
  {
   "cell_type": "markdown",
   "id": "de1504f8-18d0-4b07-ad1a-3f87572e98f6",
   "metadata": {},
   "source": [
    "##### Function to generate Iron images from Modis Data for a given start and end year"
   ]
  },
  {
   "cell_type": "code",
   "execution_count": 12,
   "id": "618fad7d-2562-40cb-affb-b08de607815b",
   "metadata": {},
   "outputs": [],
   "source": [
    "def create_iron_layers_modis(start, end, geometry):\n",
    "    images = []\n",
    "    ironStart = modis2 \\\n",
    "                .filter(ee.Filter.bounds(geometry))\\\n",
    "                .filter(ee.Filter.date(str(start) + '-01-01', str(start) + '-12-31')) \\\n",
    "                .median() \\\n",
    "                .clip(geometry)\n",
    "    ironStart2 = ironStart.normalizedDifference(['Nadir_Reflectance_Band1', 'Nadir_Reflectance_Band3']).rename('IRON')\n",
    "    images.append((ironStart2, start))\n",
    "    ironEnd = modis2 \\\n",
    "                .filter(ee.Filter.bounds(geometry))\\\n",
    "                .filter(ee.Filter.date(str(end) + '-01-01', str(end) + '-12-31')) \\\n",
    "                .median() \\\n",
    "                .clip(geometry)\n",
    "    ironEnd2 = ironEnd.normalizedDifference(['Nadir_Reflectance_Band1', 'Nadir_Reflectance_Band3']).rename('IRON')\n",
    "    images.append((ironEnd2, end))\n",
    "    return images"
   ]
  },
  {
   "cell_type": "markdown",
   "id": "242430f8-bc1c-408c-b7b4-97b97e0e55db",
   "metadata": {},
   "source": [
    "##### Function to generate an average Iron value for a given region and year"
   ]
  },
  {
   "cell_type": "code",
   "execution_count": 13,
   "id": "474f5d0b-b318-41a1-bf23-584a920f04c5",
   "metadata": {},
   "outputs": [],
   "source": [
    "def extract_iron_modis(image):\n",
    "    stats = image.reduceRegion(**{\n",
    "        'reducer': ee.Reducer.mean(),\n",
    "        'geometry': image.geometry(),\n",
    "        'scale': 100\n",
    "    })\n",
    "    \n",
    "    properties = {\n",
    "        'Year': image.get('system:index'),\n",
    "        'IRON': stats.get('IRON')\n",
    "    }\n",
    "    \n",
    "    return ee.Feature(None, properties)"
   ]
  },
  {
   "cell_type": "markdown",
   "id": "564255ee-f39a-43e8-811f-ca07e9847dae",
   "metadata": {},
   "source": [
    "##### Function to determine if the Iron gain of a given region over given years is significant enough to be a possible mining location"
   ]
  },
  {
   "cell_type": "code",
   "execution_count": 15,
   "id": "0d461794-f939-41f7-8ea0-f42c1eca9414",
   "metadata": {},
   "outputs": [],
   "source": [
    "def iron_requirement_modis(df):\n",
    "    status = 0 # 1 = possible mine, 0 = not mine\n",
    "    if df.iat[0,1] > .35: # must be greater than .3 # .35 # might need to increase slightly\n",
    "        status = 1\n",
    "    elif df.iat[1,1]-df.iat[0,1] > .035: #.035\n",
    "        status = 1\n",
    "    else: \n",
    "        status = status\n",
    "    return status"
   ]
  },
  {
   "cell_type": "markdown",
   "id": "3cea7e15-0ae8-47b0-a1dc-a5ee8b82c472",
   "metadata": {},
   "source": [
    "##### Function to determine what regions within an area may be possible mine locations based on Iron, and add these regions to a map as composite images "
   ]
  },
  {
   "cell_type": "code",
   "execution_count": 16,
   "id": "7bb188fc-cf82-45e7-b033-6fe0bc531e76",
   "metadata": {},
   "outputs": [],
   "source": [
    "def iron_level_modis(regions):\n",
    "    Map2 = geemap.Map()\n",
    "    Map2.centerObject(area1, 11)\n",
    "    Map2.addLayer(comp2020,rgbVis,'whole',False)\n",
    "    num = 1\n",
    "    for region in regions:\n",
    "        layerName = str(num) + ' iron pass'\n",
    "        \n",
    "        images = ee.ImageCollection(create_iron_layers_modis(2004, 2020, region))\n",
    "        data = ee.FeatureCollection(images.map(extract_iron_modis))\n",
    "        df = geemap.ee_to_pandas(data)\n",
    "\n",
    "        status = iron_requirement_modis(df)\n",
    "        if status == 1:\n",
    "            image = s2 \\\n",
    "                .filter(ee.Filter.bounds(region)) \\\n",
    "                .filter(ee.Filter.date('2020-01-01', '2020-12-31')) \\\n",
    "                .filter(ee.Filter.lt('CLOUDY_PIXEL_PERCENTAGE', 20)) \\\n",
    "                .select('B.*') \\\n",
    "                .median().clip(region)\n",
    "            Map2.addLayer(image, rgbVis, layerName)\n",
    "        num = num+1\n",
    "    return Map2"
   ]
  },
  {
   "cell_type": "markdown",
   "id": "68fd362d-24ab-4cfd-b536-9a4e096d2376",
   "metadata": {},
   "source": [
    "##### Calls the above function on the selected regions"
   ]
  },
  {
   "cell_type": "code",
   "execution_count": 33,
   "id": "cde73aae-14d6-4c55-8f91-25be6f5a8584",
   "metadata": {},
   "outputs": [],
   "source": [
    "iron_level_modis(regions)"
   ]
  },
  {
   "cell_type": "markdown",
   "id": "da3d6b3a-81a2-4d27-a131-3a3beb7616d2",
   "metadata": {},
   "source": [
    "### NDMI: Normalized Difference Moisture Index"
   ]
  },
  {
   "cell_type": "markdown",
   "id": "71b046ce-1aa6-4e82-bdcc-71f9ce8f29ad",
   "metadata": {},
   "source": [
    "##### NIR = band 2, SWIR1 = band 6\n",
    "##### NDMI is generally negative in mining areas, and decreases as mining increases"
   ]
  },
  {
   "cell_type": "markdown",
   "id": "35e5e947-5652-48c9-9a13-a3647c827a90",
   "metadata": {},
   "source": [
    "##### Function to generate NDMI images from Modis Data for a given start and end year"
   ]
  },
  {
   "cell_type": "code",
   "execution_count": 90,
   "id": "0bfda14a-37d5-4415-9cee-f0e53a7159bc",
   "metadata": {},
   "outputs": [],
   "source": [
    "def create_ndmi_layers_modis(start, end, geometry):\n",
    "    images = []\n",
    "    ndmiStart = modis2 \\\n",
    "                .filter(ee.Filter.bounds(geometry))\\\n",
    "                .filter(ee.Filter.date(str(start) + '-01-01', str(start) + '-12-31')) \\\n",
    "                .median() \\\n",
    "                .clip(geometry)\n",
    "    ndmiStart2 = ndmiStart.normalizedDifference(['Nadir_Reflectance_Band2', 'Nadir_Reflectance_Band6']).rename('NDMI')\n",
    "    images.append((ndmiStart2, start))\n",
    "    ndmiEnd = modis2 \\\n",
    "                .filter(ee.Filter.bounds(geometry))\\\n",
    "                .filter(ee.Filter.date(str(end) + '-01-01', str(end) + '-12-31')) \\\n",
    "                .median() \\\n",
    "                .clip(geometry)\n",
    "    ndmiEnd2 = ndmiEnd.normalizedDifference(['Nadir_Reflectance_Band2', 'Nadir_Reflectance_Band6']).rename('NDMI')\n",
    "    images.append((ndmiEnd2, end))\n",
    "    return images"
   ]
  },
  {
   "cell_type": "markdown",
   "id": "3ea7c74b-966a-42f7-9e59-21f4957d2b89",
   "metadata": {},
   "source": [
    "##### Function to generate an average NDMI value for a given region and year"
   ]
  },
  {
   "cell_type": "code",
   "execution_count": 91,
   "id": "8aa4a174-4085-4c53-9377-273a32dff57e",
   "metadata": {},
   "outputs": [],
   "source": [
    "def extract_ndmi_modis(image):\n",
    "    stats = image.reduceRegion(**{\n",
    "        'reducer': ee.Reducer.mean(),\n",
    "        'geometry': image.geometry(),\n",
    "        'scale': 100\n",
    "    })\n",
    "    \n",
    "    properties = {\n",
    "        'Year': image.get('system:index'),\n",
    "        'NDMI': stats.get('NDMI')\n",
    "    }\n",
    "    \n",
    "    return ee.Feature(None, properties)"
   ]
  },
  {
   "cell_type": "markdown",
   "id": "38e8b709-4809-4f35-9515-80c138d4ff97",
   "metadata": {},
   "source": [
    "##### Function to determine if the NDMI loss of a given region over given years is significant enough to be a possible mining location"
   ]
  },
  {
   "cell_type": "code",
   "execution_count": 92,
   "id": "9e288793-3113-4451-9647-725a0e21d5b7",
   "metadata": {},
   "outputs": [],
   "source": [
    "def ndmi_requirement_modis(df):\n",
    "    status = 0 # 1 = possible mine, 0 = not mine\n",
    "    if df.iat[0,1] < 0: #goes negative\n",
    "        status = 1\n",
    "    elif df.iat[0,1]-df.iat[1,1] > .1: \n",
    "        status = 1\n",
    "    else: \n",
    "        status = status\n",
    "    return status"
   ]
  },
  {
   "cell_type": "markdown",
   "id": "0a78371e-f33b-4085-a610-6884785acd24",
   "metadata": {},
   "source": [
    "##### Function to determine what regions within an area may be possible mine locations based on NDMI, and add these regions to a map as composite images "
   ]
  },
  {
   "cell_type": "code",
   "execution_count": 93,
   "id": "96f9b46b-28a6-48f0-963b-161c951daae3",
   "metadata": {},
   "outputs": [],
   "source": [
    "def ndmi_level_modis(regions):\n",
    "    Map3 = geemap.Map()\n",
    "    Map3.centerObject(area2, 11)\n",
    "    Map3.addLayer(comp2020,rgbVis,'whole',False)\n",
    "    num = 1\n",
    "    for region in regions:\n",
    "        layerName = str(num) + ' ndmi pass'\n",
    "        \n",
    "        images = ee.ImageCollection(create_ndmi_layers_modis(2004, 2020, region))\n",
    "        data = ee.FeatureCollection(images.map(extract_ndmi_modis))\n",
    "        df = geemap.ee_to_pandas(data)\n",
    "\n",
    "        status = ndmi_requirement_modis(df)\n",
    "        if status == 1:\n",
    "            image = s2 \\\n",
    "                .filter(ee.Filter.bounds(region)) \\\n",
    "                .filter(ee.Filter.date('2020-01-01', '2020-12-31')) \\\n",
    "                .filter(ee.Filter.lt('CLOUDY_PIXEL_PERCENTAGE', 20)) \\\n",
    "                .select('B.*') \\\n",
    "                .median().clip(region)\n",
    "            Map3.addLayer(image, rgbVis, layerName)\n",
    "        num = num+1\n",
    "    return Map3"
   ]
  },
  {
   "cell_type": "markdown",
   "id": "05008659-25a2-493b-bbbe-b34ce3f02e58",
   "metadata": {},
   "source": [
    "##### Calls the above function on the selected regions"
   ]
  },
  {
   "cell_type": "code",
   "execution_count": 94,
   "id": "db6f6938-81e4-4b01-b3e0-f19419ca5742",
   "metadata": {},
   "outputs": [
    {
     "data": {
      "application/vnd.jupyter.widget-view+json": {
       "model_id": "a59d8be2e1d34edc9f13d454e66afc28",
       "version_major": 2,
       "version_minor": 0
      },
      "text/plain": [
       "Map(center=[-10.650000238244901, 25.875000000000533], controls=(WidgetControl(options=['position', 'transparen…"
      ]
     },
     "metadata": {},
     "output_type": "display_data"
    }
   ],
   "source": [
    "ndmi_level_modis(regions)"
   ]
  },
  {
   "cell_type": "markdown",
   "id": "2ec30a81-81cc-45d9-ae6b-8102947f063b",
   "metadata": {},
   "source": [
    "### NIR/SWIR2"
   ]
  },
  {
   "cell_type": "markdown",
   "id": "7fda93a7-49ad-4a0f-a0c5-922b338fb309",
   "metadata": {},
   "source": [
    "##### NIR = band 2, SWIR2 = band 7\n",
    "##### Use normalized difference\n",
    "##### NIR/SWIR2 is significantly lower in mining areas, and decreases as mining increases"
   ]
  },
  {
   "cell_type": "markdown",
   "id": "d15b869d-2bcd-4394-9e28-359e5eaa7c1e",
   "metadata": {},
   "source": [
    "##### Function to generate NIR/SWIR2 images from Modis Data for a given start and end year"
   ]
  },
  {
   "cell_type": "code",
   "execution_count": 95,
   "id": "5a4d18d0-f493-421a-adb7-6c6b63a73d3b",
   "metadata": {},
   "outputs": [],
   "source": [
    "def create_nirSwir2_layers_modis(start, end, geometry):\n",
    "    images = []\n",
    "    nirSwir2Start = modis2 \\\n",
    "                .filter(ee.Filter.bounds(geometry))\\\n",
    "                .filter(ee.Filter.date(str(start) + '-01-01', str(start) + '-12-31')) \\\n",
    "                .median() \\\n",
    "                .clip(geometry)\n",
    "    nirSwir2Start2 = nirSwir2Start.normalizedDifference(['Nadir_Reflectance_Band2', 'Nadir_Reflectance_Band7']).rename('nirSwir2')\n",
    "    images.append((nirSwir2Start2, start))\n",
    "    nirSwir2End = modis2 \\\n",
    "                .filter(ee.Filter.bounds(geometry))\\\n",
    "                .filter(ee.Filter.date(str(end) + '-01-01', str(end) + '-12-31')) \\\n",
    "                .median() \\\n",
    "                .clip(geometry)\n",
    "    nirSwir2End2 = nirSwir2End.normalizedDifference(['Nadir_Reflectance_Band2', 'Nadir_Reflectance_Band7']).rename('nirSwir2')\n",
    "    images.append((nirSwir2End2, end))\n",
    "    return images"
   ]
  },
  {
   "cell_type": "markdown",
   "id": "711e5ef0-41d9-46cb-b20d-3314f12783b7",
   "metadata": {},
   "source": [
    "##### Function to generate an average NIR/SWIR2 value for a given region and year"
   ]
  },
  {
   "cell_type": "code",
   "execution_count": 96,
   "id": "ff1a5c70-b271-4ce9-8fdd-ca8f2abc74e8",
   "metadata": {},
   "outputs": [],
   "source": [
    "def extract_nirSwir2_modis(image):\n",
    "    stats = image.reduceRegion(**{\n",
    "        'reducer': ee.Reducer.mean(),\n",
    "        'geometry': image.geometry(),\n",
    "        'scale': 100\n",
    "    })\n",
    "    \n",
    "    properties = {\n",
    "        'Year': image.get('system:index'),\n",
    "        'nirSwir2': stats.get('nirSwir2')\n",
    "    }\n",
    "    \n",
    "    return ee.Feature(None, properties)"
   ]
  },
  {
   "cell_type": "markdown",
   "id": "45bc7196-18a2-4bab-b6e4-8202a13d9c5b",
   "metadata": {},
   "source": [
    "##### Function to determine if the NIR/SWIR2 loss of a given region over given years is significant enough to be a possible mining location"
   ]
  },
  {
   "cell_type": "code",
   "execution_count": 97,
   "id": "d3b4fd2d-584a-4563-916a-3b0a6cebb885",
   "metadata": {},
   "outputs": [],
   "source": [
    "def nirSwir2_requirement_modis(df):\n",
    "    status = 0 # 1 = possible mine, 0 = not mine\n",
    "    if df.iat[0,1] < .4: \n",
    "        status = 1\n",
    "    elif df.iat[0,1]-df.iat[1,1] > .25: \n",
    "        status = 1\n",
    "    else: \n",
    "        status = status\n",
    "    return status"
   ]
  },
  {
   "cell_type": "markdown",
   "id": "f1f92edd-6600-4457-8c18-3059e8fc3a2f",
   "metadata": {},
   "source": [
    "##### Function to determine what regions within an area may be possible mine locations based on NIR/SWIR2, and adds these regions to a map as composite images "
   ]
  },
  {
   "cell_type": "code",
   "execution_count": 98,
   "id": "91a3adde-9c1f-401a-8bc0-ae9e078994cd",
   "metadata": {},
   "outputs": [],
   "source": [
    "def nirSwir2_level_modis(regions):\n",
    "    Map4 = geemap.Map()\n",
    "    Map4.centerObject(area2, 11)\n",
    "    Map4.addLayer(comp2020,rgbVis,'whole',False)\n",
    "    num = 1\n",
    "    for region in regions:\n",
    "        layerName = str(num) + ' nir/Swir2 pass'\n",
    "        \n",
    "        images = ee.ImageCollection(create_nirSwir2_layers_modis(2004, 2020, region))\n",
    "        data = ee.FeatureCollection(images.map(extract_nirSwir2_modis))\n",
    "        df = geemap.ee_to_pandas(data)\n",
    "\n",
    "        status = nirSwir2_requirement_modis(df)\n",
    "        if status == 1:\n",
    "            image = s2 \\\n",
    "                .filter(ee.Filter.bounds(region)) \\\n",
    "                .filter(ee.Filter.date('2020-01-01', '2020-12-31')) \\\n",
    "                .filter(ee.Filter.lt('CLOUDY_PIXEL_PERCENTAGE', 20)) \\\n",
    "                .select('B.*') \\\n",
    "                .median().clip(region)\n",
    "            Map4.addLayer(image, rgbVis, layerName)\n",
    "        num = num+1\n",
    "    return Map4"
   ]
  },
  {
   "cell_type": "markdown",
   "id": "89488093-f265-437e-aaf3-752b1587e5c4",
   "metadata": {},
   "source": [
    "##### Calls the above function on the selected regions"
   ]
  },
  {
   "cell_type": "code",
   "execution_count": 99,
   "id": "85d99620-c1fd-48d4-beb7-c5f5ac996406",
   "metadata": {},
   "outputs": [
    {
     "data": {
      "application/vnd.jupyter.widget-view+json": {
       "model_id": "a433281a0e3b44daaa434713725bc05c",
       "version_major": 2,
       "version_minor": 0
      },
      "text/plain": [
       "Map(center=[-10.650000238244901, 25.875000000000533], controls=(WidgetControl(options=['position', 'transparen…"
      ]
     },
     "metadata": {},
     "output_type": "display_data"
    }
   ],
   "source": [
    "nirSwir2_level_modis(regions)"
   ]
  },
  {
   "cell_type": "markdown",
   "id": "fa653cd8-a5e2-4854-943c-4efccee7df98",
   "metadata": {},
   "source": [
    "### Water Storage 2020"
   ]
  },
  {
   "cell_type": "code",
   "execution_count": 29,
   "id": "6f12b2d5-cafd-4036-af8e-9a2210036bd9",
   "metadata": {},
   "outputs": [
    {
     "data": {
      "application/vnd.jupyter.widget-view+json": {
       "model_id": "e5d48bc6ec534b7cb249d2d57def1681",
       "version_major": 2,
       "version_minor": 0
      },
      "text/plain": [
       "Map(bottom=278230.0, center=[-10.775002314558064, 25.825000000002213], controls=(WidgetControl(options=['posit…"
      ]
     },
     "metadata": {},
     "output_type": "display_data"
    }
   ],
   "source": [
    "ndvi = comp2020.normalizedDifference(['B8', 'B4'])\n",
    "nirG = comp2020.normalizedDifference(['B8', 'B3'])\n",
    "ndmi = comp2020.normalizedDifference(['B8', 'B11'])\n",
    "        \n",
    "vv2020 = sar2020.select('VV')\n",
    "        \n",
    "waterStorage = vv2020.lt(-15).rename('water').And(nirG.lt(0.1).Or(ndmi.gt(.3))).selfMask()\n",
    "connectW = waterStorage.connectedPixelCount(25)\n",
    "waterStorage = waterStorage.updateMask(connectW.gt(8))\n",
    "Map.addLayer(waterStorage, {'min':0, 'max':1, 'palette':['blue']}, 'Water')\n",
    "Map"
   ]
  }
 ],
 "metadata": {
  "kernelspec": {
   "display_name": "Python 3 (ipykernel)",
   "language": "python",
   "name": "python3"
  },
  "language_info": {
   "codemirror_mode": {
    "name": "ipython",
    "version": 3
   },
   "file_extension": ".py",
   "mimetype": "text/x-python",
   "name": "python",
   "nbconvert_exporter": "python",
   "pygments_lexer": "ipython3",
   "version": "3.10.1"
  }
 },
 "nbformat": 4,
 "nbformat_minor": 5
}
