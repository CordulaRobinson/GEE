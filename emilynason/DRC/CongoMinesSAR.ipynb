{
 "cells": [
  {
   "cell_type": "code",
   "execution_count": 1,
   "id": "1e603bfe-cb55-4652-962d-65fd368b1b1c",
   "metadata": {},
   "outputs": [
    {
     "data": {
      "text/html": [
       "<p>To authorize access needed by Earth Engine, open the following\n",
       "        URL in a web browser and follow the instructions:</p>\n",
       "        <p><a href=https://accounts.google.com/o/oauth2/auth?client_id=517222506229-vsmmajv00ul0bs7p89v5m89qs8eb9359.apps.googleusercontent.com&scope=https%3A%2F%2Fwww.googleapis.com%2Fauth%2Fearthengine+https%3A%2F%2Fwww.googleapis.com%2Fauth%2Fdevstorage.full_control&redirect_uri=urn%3Aietf%3Awg%3Aoauth%3A2.0%3Aoob&response_type=code&code_challenge=Hmax1-bRSC_i3ZMgLZRSUzKCLUB1OZPIw4JLyBZ3cGI&code_challenge_method=S256>https://accounts.google.com/o/oauth2/auth?client_id=517222506229-vsmmajv00ul0bs7p89v5m89qs8eb9359.apps.googleusercontent.com&scope=https%3A%2F%2Fwww.googleapis.com%2Fauth%2Fearthengine+https%3A%2F%2Fwww.googleapis.com%2Fauth%2Fdevstorage.full_control&redirect_uri=urn%3Aietf%3Awg%3Aoauth%3A2.0%3Aoob&response_type=code&code_challenge=Hmax1-bRSC_i3ZMgLZRSUzKCLUB1OZPIw4JLyBZ3cGI&code_challenge_method=S256</a></p>\n",
       "        <p>The authorization workflow will generate a code, which you\n",
       "        should paste in the box below</p>\n",
       "        "
      ],
      "text/plain": [
       "<IPython.core.display.HTML object>"
      ]
     },
     "metadata": {},
     "output_type": "display_data"
    },
    {
     "name": "stdin",
     "output_type": "stream",
     "text": [
      "Enter verification code:  4/1AX4XfWhSdvhT6oH3LQh3T4QKlRXuOyMdSZaWEA530eb6ViEk53w3TY5LxFE\n"
     ]
    },
    {
     "name": "stdout",
     "output_type": "stream",
     "text": [
      "\n",
      "Successfully saved authorization token.\n"
     ]
    }
   ],
   "source": [
    "import ee\n",
    "import collections\n",
    "collections.Callable = collections.abc.Callable\n",
    "ee.Authenticate()\n",
    "ee.Initialize()"
   ]
  },
  {
   "cell_type": "markdown",
   "id": "354d78cd-944a-4f5a-a44f-baa063818fe5",
   "metadata": {},
   "source": [
    "#### next steps: add in other indices, specifically moisture"
   ]
  },
  {
   "cell_type": "markdown",
   "id": "391f0a4d-07e5-472b-a5aa-bea6c803be6f",
   "metadata": {},
   "source": [
    "## Imports & Visualization Parameters"
   ]
  },
  {
   "cell_type": "code",
   "execution_count": 50,
   "id": "b9d792df-3af7-4a23-9072-24219a4883ec",
   "metadata": {},
   "outputs": [],
   "source": [
    "import ee\n",
    "import geemap\n",
    "\n",
    "geometry = ee.Geometry.Polygon(\n",
    "        [[[25.67758947139908, -10.52500539578282],\n",
    "          [25.67758947139908, -10.831343855184292],\n",
    "          [26.285562854675604, -10.831343855184292],\n",
    "          [26.285562854675604, -10.52500539578282]]], None, False)\n",
    "mines = ee.FeatureCollection(\"users/EmilyNason/cod_mines_curated_all_opendata_p_ipis\")\n",
    "gsw = ee.Image(\"JRC/GSW1_3/GlobalSurfaceWater\")\n",
    "s2 = ee.ImageCollection(\"COPERNICUS/S2_SR\")\n",
    "s1 = ee.ImageCollection('COPERNICUS/S1_GRD')\n",
    "\n",
    "rgbVis = {\n",
    "  'bands': ['B4', 'B3', 'B2'],\n",
    "  'min': 0,\n",
    "  'max': 3000,\n",
    "}\n",
    "\n",
    "ndviVis = {\n",
    "    'min': 0,\n",
    "    'max': 0.5,\n",
    "    'palette': ['white', 'green']\n",
    "}"
   ]
  },
  {
   "cell_type": "markdown",
   "id": "d5330963-f462-4c61-86ad-b13edcdf6d20",
   "metadata": {},
   "source": [
    "## True Color Composites"
   ]
  },
  {
   "cell_type": "code",
   "execution_count": 51,
   "id": "3ca0f8cf-54a1-4d3c-8143-bbf02197ab24",
   "metadata": {},
   "outputs": [],
   "source": [
    "def create_median_composites(geometry, start, end):\n",
    "    images = []\n",
    "    \n",
    "    for year in range(start, end+1):\n",
    "        filtered = s2 \\\n",
    "            .filter(ee.Filter.lt('CLOUDY_PIXEL_PERCENTAGE', 30)) \\\n",
    "            .filter(ee.Filter.intersects('.geo', geometry)) \\\n",
    "            .filter(ee.Filter.date(str(year) + '-01-01', str(year) + '-12-31')) \\\n",
    "\n",
    "        composite = filtered.median().clip(geometry)\n",
    "        \n",
    "        images.append((composite, year))\n",
    "        \n",
    "    return images\n",
    "\n",
    "def add_median_composites(images, geometry):\n",
    "    Map = geemap.Map()\n",
    "    Map.centerObject(geometry, 11)\n",
    "    \n",
    "    for image, year in images:\n",
    "        Map.addLayer(image, rgbVis, str(year) + ' Median Composite')\n",
    "        \n",
    "    return Map"
   ]
  },
  {
   "cell_type": "code",
   "execution_count": 52,
   "id": "b21055af-27f6-48c8-8039-ff72b7582ff5",
   "metadata": {},
   "outputs": [
    {
     "data": {
      "application/vnd.jupyter.widget-view+json": {
       "model_id": "c29818d25d7e4c05b7033303bf535536",
       "version_major": 2,
       "version_minor": 0
      },
      "text/plain": [
       "Map(center=[-10.67819783565169, 25.98157616303779], controls=(WidgetControl(options=['position', 'transparent_…"
      ]
     },
     "metadata": {},
     "output_type": "display_data"
    }
   ],
   "source": [
    "images = create_median_composites(geometry, 2019, 2021)\n",
    "Map = add_median_composites(images, geometry)\n",
    "Map"
   ]
  },
  {
   "cell_type": "markdown",
   "id": "8aee1614-1f27-4880-8d46-94e485f47178",
   "metadata": {},
   "source": [
    "## NDVI"
   ]
  },
  {
   "cell_type": "code",
   "execution_count": 53,
   "id": "106b7a2a-d47d-4581-9068-251df4bb7590",
   "metadata": {},
   "outputs": [],
   "source": [
    "def create_ndvi_layers(images, geometry):\n",
    "    Map = geemap.Map()\n",
    "    Map.centerObject(geometry, 11)\n",
    "    \n",
    "    for image, year in images:\n",
    "        ndvi = image.normalizedDifference(['B8', 'B4'])\n",
    "        Map.addLayer(ndvi, ndviVis, 'NDVI ' + str(year))\n",
    "        \n",
    "    return Map"
   ]
  },
  {
   "cell_type": "code",
   "execution_count": 54,
   "id": "ba5853a1-d420-49e0-b4cc-867b6c754738",
   "metadata": {},
   "outputs": [
    {
     "data": {
      "application/vnd.jupyter.widget-view+json": {
       "model_id": "d87635d6e6a64a1e907fcf695df1a5f3",
       "version_major": 2,
       "version_minor": 0
      },
      "text/plain": [
       "Map(center=[-10.67819783565169, 25.98157616303779], controls=(WidgetControl(options=['position', 'transparent_…"
      ]
     },
     "metadata": {},
     "output_type": "display_data"
    }
   ],
   "source": [
    "Map = create_ndvi_layers(images, geometry)\n",
    "Map"
   ]
  },
  {
   "cell_type": "markdown",
   "id": "902c166f-70f8-4a9e-887d-a6ce9042561c",
   "metadata": {},
   "source": [
    "## VH Band"
   ]
  },
  {
   "cell_type": "code",
   "execution_count": 55,
   "id": "e71ebf6e-8fde-4324-a94e-a4734701892c",
   "metadata": {},
   "outputs": [],
   "source": [
    "def create_vh_composites(geometry, start, end):\n",
    "    images = []\n",
    "    \n",
    "    for year in range(start, end+1):\n",
    "        filtered = s1 \\\n",
    "            .filter(ee.Filter.eq('instrumentMode','IW')) \\\n",
    "            .filter(ee.Filter.listContains('transmitterReceiverPolarisation', 'VH')) \\\n",
    "            .filter(ee.Filter.eq('orbitProperties_pass', 'DESCENDING')) \\\n",
    "            .filter(ee.Filter.eq('resolution_meters',10)) \\\n",
    "            .filter(ee.Filter.intersects('.geo', geometry)) \\\n",
    "            .filter(ee.Filter.date(str(year) + '-01-01', str(year) + '-12-31')) \\\n",
    "            .select('VH')\n",
    "\n",
    "        composite = filtered.mosaic().clip(geometry)\n",
    "        \n",
    "        images.append((composite, year))\n",
    "        \n",
    "    return images\n",
    "\n",
    "def add_vh_composites(images, geometry):\n",
    "    Map = geemap.Map()\n",
    "    Map.centerObject(geometry, 11)\n",
    "    \n",
    "    for image, year in images:\n",
    "        Map.addLayer(image, {'min':-25, 'max':0}, str(year) + ' VH Composite')\n",
    "        \n",
    "    return Map"
   ]
  },
  {
   "cell_type": "code",
   "execution_count": 56,
   "id": "ebff624d-bfef-4821-b0b2-87338e1635f2",
   "metadata": {},
   "outputs": [
    {
     "data": {
      "application/vnd.jupyter.widget-view+json": {
       "model_id": "00d2ecd3017b4ccd8f4e804d89f0bb34",
       "version_major": 2,
       "version_minor": 0
      },
      "text/plain": [
       "Map(center=[-10.67819783565169, 25.98157616303779], controls=(WidgetControl(options=['position', 'transparent_…"
      ]
     },
     "metadata": {},
     "output_type": "display_data"
    }
   ],
   "source": [
    "imagesS1 = create_vh_composites(geometry, 2019, 2021)\n",
    "Map = add_vh_composites(imagesS1, geometry)\n",
    "Map"
   ]
  },
  {
   "cell_type": "markdown",
   "id": "7748e0ca-2972-4ec0-87f4-3ede82ce59d2",
   "metadata": {},
   "source": [
    "## Calculations"
   ]
  },
  {
   "cell_type": "code",
   "execution_count": 57,
   "id": "3b4b7541-a804-42b6-b6d8-b426271ab964",
   "metadata": {},
   "outputs": [],
   "source": [
    "cpThreshold = 8\n",
    "permanentWater = gsw.select('seasonality').gte(7).clip(geometry)"
   ]
  },
  {
   "cell_type": "code",
   "execution_count": 58,
   "id": "6fc76375-98dc-4881-9ff2-37785538eb2a",
   "metadata": {},
   "outputs": [],
   "source": [
    "def create_vh_calcs(images, geometry):\n",
    "    Map = geemap.Map()\n",
    "    Map.centerObject(geometry, 11)\n",
    "    \n",
    "    for image, year in images:\n",
    "        waterStorage = image.lt(-22).rename('water').selfMask()\n",
    "        connectW = waterStorage.connectedPixelCount(25)\n",
    "        waterStorage = waterStorage.updateMask(connectW.gt(cpThreshold))\n",
    "        Map.addLayer(waterStorage, {'min':0, 'max':1, 'palette': ['blue']}, 'Water ' + str(year))\n",
    "        \n",
    "        filtered = s2 \\\n",
    "            .filter(ee.Filter.lt('CLOUDY_PIXEL_PERCENTAGE', 30)) \\\n",
    "            .filter(ee.Filter.intersects('.geo', geometry)) \\\n",
    "            .filter(ee.Filter.date(str(year) + '-01-01', str(year) + '-12-31')) \\\n",
    "\n",
    "        composite = filtered.median().clip(geometry)\n",
    "        \n",
    "        ndvi = composite.normalizedDifference(['B8', 'B4'])\n",
    "        \n",
    "        mining = image.gte(-22).And(image.lt(-18)).And(ndvi.lt(.1)).rename('mine').selfMask()\n",
    "        mining = mining.where(permanentWater,0).selfMask()\n",
    "        connectM = mining.connectedPixelCount(25)\n",
    "        mining = mining.updateMask(connectM.gt(cpThreshold))\n",
    "        Map.addLayer(mining, {'min':0, 'max':1, 'palette': ['red']}, 'Mining Estimate ' + str(year))\n",
    "        \n",
    "    return Map"
   ]
  },
  {
   "cell_type": "code",
   "execution_count": 59,
   "id": "70a85a07-bbb1-471a-b5db-fd76b7d12162",
   "metadata": {},
   "outputs": [
    {
     "data": {
      "application/vnd.jupyter.widget-view+json": {
       "model_id": "084924f19fd84cb79db725cb02331a33",
       "version_major": 2,
       "version_minor": 0
      },
      "text/plain": [
       "Map(center=[-10.67819783565169, 25.98157616303779], controls=(WidgetControl(options=['position', 'transparent_…"
      ]
     },
     "metadata": {},
     "output_type": "display_data"
    }
   ],
   "source": [
    "Map = create_vh_calcs(imagesS1, geometry)\n",
    "legend_dict = {\n",
    "    'Water': ('0000FF'), # blue\n",
    "    'Mine Estimate': ('FF0000'), # red\n",
    "}\n",
    "# Map.remove_legend()\n",
    "Map.add_legend(legend_title='Legend', legend_dict=legend_dict, position='bottomright')\n",
    "\n",
    "Map\n",
    "Map"
   ]
  },
  {
   "cell_type": "code",
   "execution_count": null,
   "id": "60c8cca5-3c60-4413-b74a-4427a17da59b",
   "metadata": {},
   "outputs": [],
   "source": []
  }
 ],
 "metadata": {
  "kernelspec": {
   "display_name": "Python 3 (ipykernel)",
   "language": "python",
   "name": "python3"
  },
  "language_info": {
   "codemirror_mode": {
    "name": "ipython",
    "version": 3
   },
   "file_extension": ".py",
   "mimetype": "text/x-python",
   "name": "python",
   "nbconvert_exporter": "python",
   "pygments_lexer": "ipython3",
   "version": "3.10.1"
  }
 },
 "nbformat": 4,
 "nbformat_minor": 5
}
