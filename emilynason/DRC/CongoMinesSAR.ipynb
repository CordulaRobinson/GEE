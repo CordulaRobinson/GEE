{
 "cells": [
  {
   "cell_type": "code",
   "execution_count": 1,
   "id": "1e603bfe-cb55-4652-962d-65fd368b1b1c",
   "metadata": {},
   "outputs": [
    {
     "data": {
      "text/html": [
       "<p>To authorize access needed by Earth Engine, open the following\n",
       "        URL in a web browser and follow the instructions:</p>\n",
       "        <p><a href=https://accounts.google.com/o/oauth2/auth?client_id=517222506229-vsmmajv00ul0bs7p89v5m89qs8eb9359.apps.googleusercontent.com&scope=https%3A%2F%2Fwww.googleapis.com%2Fauth%2Fearthengine+https%3A%2F%2Fwww.googleapis.com%2Fauth%2Fdevstorage.full_control&redirect_uri=urn%3Aietf%3Awg%3Aoauth%3A2.0%3Aoob&response_type=code&code_challenge=8NdW9S2trQcZ_1i0RxLKnhtnu9Su65yjcJc8wWofWhc&code_challenge_method=S256>https://accounts.google.com/o/oauth2/auth?client_id=517222506229-vsmmajv00ul0bs7p89v5m89qs8eb9359.apps.googleusercontent.com&scope=https%3A%2F%2Fwww.googleapis.com%2Fauth%2Fearthengine+https%3A%2F%2Fwww.googleapis.com%2Fauth%2Fdevstorage.full_control&redirect_uri=urn%3Aietf%3Awg%3Aoauth%3A2.0%3Aoob&response_type=code&code_challenge=8NdW9S2trQcZ_1i0RxLKnhtnu9Su65yjcJc8wWofWhc&code_challenge_method=S256</a></p>\n",
       "        <p>The authorization workflow will generate a code, which you\n",
       "        should paste in the box below</p>\n",
       "        "
      ],
      "text/plain": [
       "<IPython.core.display.HTML object>"
      ]
     },
     "metadata": {},
     "output_type": "display_data"
    },
    {
     "name": "stdin",
     "output_type": "stream",
     "text": [
      "Enter verification code:  4/1AX4XfWhqtQ7EdUk-IGamlYiRl-yrSU2ei0FYCiXZWTlaZQoLkzVv8RV770Y\n"
     ]
    },
    {
     "name": "stdout",
     "output_type": "stream",
     "text": [
      "\n",
      "Successfully saved authorization token.\n"
     ]
    }
   ],
   "source": [
    "import ee\n",
    "import collections\n",
    "collections.Callable = collections.abc.Callable\n",
    "ee.Authenticate()\n",
    "ee.Initialize()"
   ]
  },
  {
   "cell_type": "code",
   "execution_count": 6,
   "id": "b9d792df-3af7-4a23-9072-24219a4883ec",
   "metadata": {},
   "outputs": [
    {
     "data": {
      "application/vnd.jupyter.widget-view+json": {
       "model_id": "5dc6ea7a501e47f6846c46671550a6c3",
       "version_major": 2,
       "version_minor": 0
      },
      "text/plain": [
       "Map(center=[-10.67819783565169, 25.98157616303779], controls=(WidgetControl(options=['position', 'transparent_…"
      ]
     },
     "metadata": {},
     "output_type": "display_data"
    }
   ],
   "source": [
    "import ee\n",
    "import geemap\n",
    "\n",
    "Map = geemap.Map()\n",
    "\n",
    "geometry = ee.Geometry.Polygon(\n",
    "        [[[25.67758947139908, -10.52500539578282],\n",
    "          [25.67758947139908, -10.831343855184292],\n",
    "          [26.285562854675604, -10.831343855184292],\n",
    "          [26.285562854675604, -10.52500539578282]]], None, False)\n",
    "mines = ee.FeatureCollection(\"users/EmilyNason/cod_mines_curated_all_opendata_p_ipis\")\n",
    "gsw = ee.Image(\"JRC/GSW1_3/GlobalSurfaceWater\")\n",
    "\n",
    "Map.centerObject(geometry, 11)\n",
    "beforeStart = '2019-06-01'\n",
    "beforeEnd = '2020-01-01'\n",
    "afterStart = '2021-06-01'\n",
    "afterEnd = '2022-01-01'\n",
    "\n",
    "beforeComp = ee.Image(ee.ImageCollection(\"COPERNICUS/S2_SR\") \\\n",
    "                      .filter(ee.Filter.lt('CLOUDY_PIXEL_PERCENTAGE', 30)) \\\n",
    "                      .filter(ee.Filter.intersects('.geo', geometry)) \\\n",
    "                      .filterDate(ee.Date(beforeStart), ee.Date(beforeEnd)) \\\n",
    "                      .median() \\\n",
    "                      .clip(geometry))\n",
    "afterComp = ee.Image(ee.ImageCollection(\"COPERNICUS/S2_SR\") \\\n",
    "                      .filter(ee.Filter.lt('CLOUDY_PIXEL_PERCENTAGE', 30)) \\\n",
    "                      .filter(ee.Filter.intersects('.geo', geometry)) \\\n",
    "                      .filterDate(ee.Date(afterStart), ee.Date(afterEnd)) \\\n",
    "                      .median() \\\n",
    "                      .clip(geometry))\n",
    "\n",
    "rgbVis = {\n",
    "  'bands': ['B4', 'B3', 'B2'],\n",
    "  'min': 0,\n",
    "  'max': 3000,\n",
    "}\n",
    "\n",
    "Map.addLayer(beforeComp, rgbVis, '2019')\n",
    "Map.addLayer(afterComp, rgbVis, '2021')\n",
    "\n",
    "collection= ee.ImageCollection('COPERNICUS/S1_GRD') \\\n",
    "  .filter(ee.Filter.eq('instrumentMode','IW')) \\\n",
    "  .filter(ee.Filter.listContains('transmitterReceiverPolarisation', 'VH')) \\\n",
    "  .filter(ee.Filter.eq('orbitProperties_pass', 'DESCENDING')) \\\n",
    "  .filter(ee.Filter.eq('resolution_meters',10)) \\\n",
    "  .filterBounds(geometry) \\\n",
    "  .select('VH')\n",
    "\n",
    "beforeCollection = collection.filterDate(beforeStart, beforeEnd)\n",
    "afterCollection = collection.filterDate(afterStart,afterEnd)\n",
    "\n",
    "before = beforeCollection.mosaic().clip(geometry)\n",
    "after = afterCollection.mosaic().clip(geometry)\n",
    "\n",
    "Map.addLayer(before, {'min':-25, 'max':0}, 'Before')\n",
    "Map.addLayer(after, {'min':-25, 'max':0}, 'After')\n",
    "\n",
    "##### NOTE #####\n",
    "# This version did not include a speckle filter\n",
    "\n",
    "# ndvi\n",
    "ndviBefore = beforeComp.normalizedDifference(['B8', 'B4']).rename(['ndvi']); # NIR, RED\n",
    "ndviAfter = afterComp.normalizedDifference(['B8', 'B4']).rename(['ndvi']); # NIR, RED\n",
    "\n",
    "cpThreshold = 8\n",
    "permanentWater = gsw.select('seasonality').gte(7).clip(geometry)\n",
    "\n",
    "# 2019\n",
    "waterStorage2019 = before.lt(-22).rename('water').selfMask()\n",
    "connectW2019 = waterStorage2019.connectedPixelCount(25)\n",
    "waterStorage2019 = waterStorage2019.updateMask(connectW2019.gt(cpThreshold))\n",
    "Map.addLayer(waterStorage2019, {'min':0, 'max':1, 'palette': ['A9D3FE']}, '2019 Water Storage')\n",
    "\n",
    "vv2019 = before.gte(-22).And(before.lt(-18)).rename('mine').selfMask()\n",
    "vv2019 = vv2019.where(permanentWater,0).selfMask()\n",
    "connectVV2019 = vv2019.connectedPixelCount(25)\n",
    "vv2019 = vv2019.updateMask(connectVV2019.gt(cpThreshold))\n",
    "Map.addLayer(vv2019, {'min':0, 'max':1, 'palette': ['pink']}, '2019 Initial Mining Estimate')\n",
    "\n",
    "mining2019 = before.gte(-22).And(before.lt(-18)).And(ndviBefore.lt(.1)).rename('mine').selfMask()\n",
    "mining2019 = mining2019.where(permanentWater,0).selfMask()\n",
    "connectM2019 = mining2019.connectedPixelCount(25)\n",
    "mining2019 = mining2019.updateMask(connectM2019.gt(cpThreshold))\n",
    "Map.addLayer(mining2019, {'min':0, 'max':1, 'palette': ['purple']}, '2019 Final Mining Estimate')\n",
    "\n",
    "# 2021\n",
    "waterStorage2021 = after.lt(-22).rename('water').selfMask()\n",
    "connectW2021 = waterStorage2021.connectedPixelCount(25)\n",
    "waterStorage2021 = waterStorage2021.updateMask(connectW2021.gt(cpThreshold))\n",
    "Map.addLayer(waterStorage2021, {'min':0, 'max':1, 'palette': ['blue']}, '2021 Water Storage')\n",
    "\n",
    "vv2021 = after.gte(-22).And(after.lt(-18)).rename('mine').selfMask()\n",
    "vv2021 = vv2021.where(permanentWater,0).selfMask()\n",
    "connectVV2021 = vv2021.connectedPixelCount(25)\n",
    "vv2021 = vv2021.updateMask(connectVV2021.gt(cpThreshold))\n",
    "Map.addLayer(vv2021, {'min':0, 'max':1, 'palette': ['orange']}, '2021 Initial Mining Estimate')\n",
    "\n",
    "mining2021 = after.gte(-22).And(after.lt(-18)).And(ndviAfter.lt(.1)).rename('mine').selfMask()\n",
    "mining2021 = mining2021.where(permanentWater,0).selfMask()\n",
    "connectM2021 = mining2021.connectedPixelCount(25)\n",
    "mining2021 = mining2021.updateMask(connectM2021.gt(cpThreshold))\n",
    "Map.addLayer(mining2021, {'min':0, 'max':1, 'palette': ['red']}, '2021 Final Mining Estimate')\n",
    "Map\n"
   ]
  },
  {
   "cell_type": "code",
   "execution_count": null,
   "id": "b21055af-27f6-48c8-8039-ff72b7582ff5",
   "metadata": {},
   "outputs": [],
   "source": []
  }
 ],
 "metadata": {
  "kernelspec": {
   "display_name": "Python 3 (ipykernel)",
   "language": "python",
   "name": "python3"
  },
  "language_info": {
   "codemirror_mode": {
    "name": "ipython",
    "version": 3
   },
   "file_extension": ".py",
   "mimetype": "text/x-python",
   "name": "python",
   "nbconvert_exporter": "python",
   "pygments_lexer": "ipython3",
   "version": "3.10.1"
  }
 },
 "nbformat": 4,
 "nbformat_minor": 5
}
