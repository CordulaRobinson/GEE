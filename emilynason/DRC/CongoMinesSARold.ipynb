{
 "cells": [
  {
   "cell_type": "code",
   "execution_count": 1,
   "id": "1e603bfe-cb55-4652-962d-65fd368b1b1c",
   "metadata": {},
   "outputs": [
    {
     "data": {
      "text/html": [
       "<p>To authorize access needed by Earth Engine, open the following\n",
       "        URL in a web browser and follow the instructions:</p>\n",
       "        <p><a href=https://accounts.google.com/o/oauth2/auth?client_id=517222506229-vsmmajv00ul0bs7p89v5m89qs8eb9359.apps.googleusercontent.com&scope=https%3A%2F%2Fwww.googleapis.com%2Fauth%2Fearthengine+https%3A%2F%2Fwww.googleapis.com%2Fauth%2Fdevstorage.full_control&redirect_uri=urn%3Aietf%3Awg%3Aoauth%3A2.0%3Aoob&response_type=code&code_challenge=Hmax1-bRSC_i3ZMgLZRSUzKCLUB1OZPIw4JLyBZ3cGI&code_challenge_method=S256>https://accounts.google.com/o/oauth2/auth?client_id=517222506229-vsmmajv00ul0bs7p89v5m89qs8eb9359.apps.googleusercontent.com&scope=https%3A%2F%2Fwww.googleapis.com%2Fauth%2Fearthengine+https%3A%2F%2Fwww.googleapis.com%2Fauth%2Fdevstorage.full_control&redirect_uri=urn%3Aietf%3Awg%3Aoauth%3A2.0%3Aoob&response_type=code&code_challenge=Hmax1-bRSC_i3ZMgLZRSUzKCLUB1OZPIw4JLyBZ3cGI&code_challenge_method=S256</a></p>\n",
       "        <p>The authorization workflow will generate a code, which you\n",
       "        should paste in the box below</p>\n",
       "        "
      ],
      "text/plain": [
       "<IPython.core.display.HTML object>"
      ]
     },
     "metadata": {},
     "output_type": "display_data"
    },
    {
     "name": "stdin",
     "output_type": "stream",
     "text": [
      "Enter verification code:  4/1AX4XfWhSdvhT6oH3LQh3T4QKlRXuOyMdSZaWEA530eb6ViEk53w3TY5LxFE\n"
     ]
    },
    {
     "name": "stdout",
     "output_type": "stream",
     "text": [
      "\n",
      "Successfully saved authorization token.\n"
     ]
    }
   ],
   "source": [
    "import ee\n",
    "import collections\n",
    "collections.Callable = collections.abc.Callable\n",
    "ee.Authenticate()\n",
    "ee.Initialize()"
   ]
  },
  {
   "cell_type": "markdown",
   "id": "354d78cd-944a-4f5a-a44f-baa063818fe5",
   "metadata": {},
   "source": [
    "#### next steps: add in other indices, specifically moisture"
   ]
  },
  {
   "cell_type": "markdown",
   "id": "391f0a4d-07e5-472b-a5aa-bea6c803be6f",
   "metadata": {},
   "source": [
    "## Imports & Visualization Parameters"
   ]
  },
  {
   "cell_type": "code",
   "execution_count": 60,
   "id": "b9d792df-3af7-4a23-9072-24219a4883ec",
   "metadata": {},
   "outputs": [],
   "source": [
    "import ee\n",
    "import geemap\n",
    "\n",
    "geometry = ee.Geometry.Polygon(\n",
    "        [[[25.67758947139908, -10.52500539578282],\n",
    "          [25.67758947139908, -10.831343855184292],\n",
    "          [26.285562854675604, -10.831343855184292],\n",
    "          [26.285562854675604, -10.52500539578282]]], None, False)\n",
    "mines = ee.FeatureCollection(\"users/EmilyNason/cod_mines_curated_all_opendata_p_ipis\")\n",
    "gsw = ee.Image(\"JRC/GSW1_3/GlobalSurfaceWater\")\n",
    "s2 = ee.ImageCollection(\"COPERNICUS/S2_SR\")\n",
    "s1 = ee.ImageCollection('COPERNICUS/S1_GRD')\n",
    "\n",
    "rgbVis = {\n",
    "  'bands': ['B4', 'B3', 'B2'],\n",
    "  'min': 0,\n",
    "  'max': 3000,\n",
    "}\n",
    "\n",
    "ndviVis = {\n",
    "    'min': 0,\n",
    "    'max': 1,\n",
    "    'palette': ['white', 'green']\n",
    "}"
   ]
  },
  {
   "cell_type": "markdown",
   "id": "d5330963-f462-4c61-86ad-b13edcdf6d20",
   "metadata": {},
   "source": [
    "## True Color Composites"
   ]
  },
  {
   "cell_type": "code",
   "execution_count": 51,
   "id": "3ca0f8cf-54a1-4d3c-8143-bbf02197ab24",
   "metadata": {},
   "outputs": [],
   "source": [
    "def create_median_composites(geometry, start, end):\n",
    "    images = []\n",
    "    \n",
    "    for year in range(start, end+1):\n",
    "        filtered = s2 \\\n",
    "            .filter(ee.Filter.lt('CLOUDY_PIXEL_PERCENTAGE', 30)) \\\n",
    "            .filter(ee.Filter.intersects('.geo', geometry)) \\\n",
    "            .filter(ee.Filter.date(str(year) + '-01-01', str(year) + '-12-31')) \\\n",
    "\n",
    "        composite = filtered.median().clip(geometry)\n",
    "        \n",
    "        images.append((composite, year))\n",
    "        \n",
    "    return images\n",
    "\n",
    "def add_median_composites(images, geometry):\n",
    "    Map = geemap.Map()\n",
    "    Map.centerObject(geometry, 11)\n",
    "    \n",
    "    for image, year in images:\n",
    "        Map.addLayer(image, rgbVis, str(year) + ' Median Composite')\n",
    "        \n",
    "    return Map"
   ]
  },
  {
   "cell_type": "code",
   "execution_count": 52,
   "id": "b21055af-27f6-48c8-8039-ff72b7582ff5",
   "metadata": {},
   "outputs": [
    {
     "data": {
      "application/vnd.jupyter.widget-view+json": {
       "model_id": "c29818d25d7e4c05b7033303bf535536",
       "version_major": 2,
       "version_minor": 0
      },
      "text/plain": [
       "Map(center=[-10.67819783565169, 25.98157616303779], controls=(WidgetControl(options=['position', 'transparent_…"
      ]
     },
     "metadata": {},
     "output_type": "display_data"
    }
   ],
   "source": [
    "images = create_median_composites(geometry, 2019, 2021)\n",
    "Map = add_median_composites(images, geometry)\n",
    "Map"
   ]
  },
  {
   "cell_type": "markdown",
   "id": "8aee1614-1f27-4880-8d46-94e485f47178",
   "metadata": {},
   "source": [
    "## NDVI"
   ]
  },
  {
   "cell_type": "code",
   "execution_count": 61,
   "id": "106b7a2a-d47d-4581-9068-251df4bb7590",
   "metadata": {},
   "outputs": [],
   "source": [
    "def create_ndvi_layers(images, geometry):\n",
    "    Map = geemap.Map()\n",
    "    Map.centerObject(geometry, 11)\n",
    "    \n",
    "    for image, year in images:\n",
    "        ndvi = image.normalizedDifference(['B8', 'B4'])\n",
    "        Map.addLayer(ndvi, ndviVis, 'NDVI ' + str(year))\n",
    "        \n",
    "    return Map"
   ]
  },
  {
   "cell_type": "code",
   "execution_count": 62,
   "id": "ba5853a1-d420-49e0-b4cc-867b6c754738",
   "metadata": {},
   "outputs": [
    {
     "data": {
      "application/vnd.jupyter.widget-view+json": {
       "model_id": "f689ed0be28a4bffaa34ca9af0c6fa78",
       "version_major": 2,
       "version_minor": 0
      },
      "text/plain": [
       "Map(center=[-10.67819783565169, 25.98157616303779], controls=(WidgetControl(options=['position', 'transparent_…"
      ]
     },
     "metadata": {},
     "output_type": "display_data"
    }
   ],
   "source": [
    "Map = create_ndvi_layers(images, geometry)\n",
    "Map"
   ]
  },
  {
   "cell_type": "markdown",
   "id": "902c166f-70f8-4a9e-887d-a6ce9042561c",
   "metadata": {},
   "source": [
    "## VH Band"
   ]
  },
  {
   "cell_type": "code",
   "execution_count": 64,
   "id": "e71ebf6e-8fde-4324-a94e-a4734701892c",
   "metadata": {},
   "outputs": [],
   "source": [
    "def create_vh_composites(geometry, start, end):\n",
    "    images = []\n",
    "    \n",
    "    for year in range(start, end+1):\n",
    "        filtered = s1 \\\n",
    "            .filter(ee.Filter.eq('instrumentMode','IW')) \\\n",
    "            .filter(ee.Filter.listContains('transmitterReceiverPolarisation', 'VH')) \\\n",
    "            .filter(ee.Filter.eq('orbitProperties_pass', 'DESCENDING')) \\\n",
    "            .filter(ee.Filter.eq('resolution_meters',10)) \\\n",
    "            .filter(ee.Filter.intersects('.geo', geometry)) \\\n",
    "            .filter(ee.Filter.date(str(year) + '-01-01', str(year) + '-12-31')) \\\n",
    "            .select('VH')\n",
    "\n",
    "        composite = filtered.mosaic().clip(geometry)\n",
    "        \n",
    "        images.append((composite, year))\n",
    "        \n",
    "    return images\n",
    "\n",
    "def add_vh_composites(images, geometry):\n",
    "    Map = geemap.Map()\n",
    "    Map.centerObject(geometry, 11)\n",
    "    \n",
    "    for image, year in images:\n",
    "        Map.addLayer(image, {'min':-25, 'max':0}, str(year) + ' VH Composite')\n",
    "        \n",
    "    return Map"
   ]
  },
  {
   "cell_type": "code",
   "execution_count": 65,
   "id": "ebff624d-bfef-4821-b0b2-87338e1635f2",
   "metadata": {},
   "outputs": [
    {
     "data": {
      "application/vnd.jupyter.widget-view+json": {
       "model_id": "5a5c65759bb44c3f83b338a284d6513e",
       "version_major": 2,
       "version_minor": 0
      },
      "text/plain": [
       "Map(center=[-10.67819783565169, 25.98157616303779], controls=(WidgetControl(options=['position', 'transparent_…"
      ]
     },
     "metadata": {},
     "output_type": "display_data"
    }
   ],
   "source": [
    "imagesS1vh = create_vh_composites(geometry, 2019, 2021)\n",
    "Map = add_vh_composites(imagesS1vh, geometry)\n",
    "Map"
   ]
  },
  {
   "cell_type": "markdown",
   "id": "7748e0ca-2972-4ec0-87f4-3ede82ce59d2",
   "metadata": {},
   "source": [
    "### VH Calculations"
   ]
  },
  {
   "cell_type": "code",
   "execution_count": 66,
   "id": "3b4b7541-a804-42b6-b6d8-b426271ab964",
   "metadata": {},
   "outputs": [],
   "source": [
    "cpThreshold = 8\n",
    "permanentWater = gsw.select('seasonality').gte(7).clip(geometry)"
   ]
  },
  {
   "cell_type": "code",
   "execution_count": 67,
   "id": "6fc76375-98dc-4881-9ff2-37785538eb2a",
   "metadata": {},
   "outputs": [],
   "source": [
    "def create_vh_calcs(images, geometry):\n",
    "    Map = geemap.Map()\n",
    "    Map.centerObject(geometry, 11)\n",
    "    \n",
    "    for image, year in images:\n",
    "        waterStorage = image.lt(-22).rename('water').selfMask()\n",
    "        connectW = waterStorage.connectedPixelCount(25)\n",
    "        waterStorage = waterStorage.updateMask(connectW.gt(cpThreshold))\n",
    "        Map.addLayer(waterStorage, {'min':0, 'max':1, 'palette': ['blue']}, 'Water ' + str(year))\n",
    "        \n",
    "        filtered = s2 \\\n",
    "            .filter(ee.Filter.lt('CLOUDY_PIXEL_PERCENTAGE', 30)) \\\n",
    "            .filter(ee.Filter.intersects('.geo', geometry)) \\\n",
    "            .filter(ee.Filter.date(str(year) + '-01-01', str(year) + '-12-31')) \\\n",
    "\n",
    "        composite = filtered.median().clip(geometry)\n",
    "        \n",
    "        ndvi = composite.normalizedDifference(['B8', 'B4'])\n",
    "        \n",
    "        mining = image.gte(-22).And(image.lt(-18)).And(ndvi.lt(.1)).rename('mine').selfMask()\n",
    "        mining = mining.where(permanentWater,0).selfMask()\n",
    "        connectM = mining.connectedPixelCount(25)\n",
    "        mining = mining.updateMask(connectM.gt(cpThreshold))\n",
    "        Map.addLayer(mining, {'min':0, 'max':1, 'palette': ['red']}, 'Mining Estimate ' + str(year))\n",
    "        \n",
    "    return Map"
   ]
  },
  {
   "cell_type": "code",
   "execution_count": 68,
   "id": "70a85a07-bbb1-471a-b5db-fd76b7d12162",
   "metadata": {},
   "outputs": [
    {
     "data": {
      "application/vnd.jupyter.widget-view+json": {
       "model_id": "8dbfd77c13f64ab3b0634f24872921a1",
       "version_major": 2,
       "version_minor": 0
      },
      "text/plain": [
       "Map(center=[-10.67819783565169, 25.98157616303779], controls=(WidgetControl(options=['position', 'transparent_…"
      ]
     },
     "metadata": {},
     "output_type": "display_data"
    }
   ],
   "source": [
    "Map = create_vh_calcs(imagesS1vh, geometry)\n",
    "legend_dict = {\n",
    "    'Water': ('0000FF'), # blue\n",
    "    'Mine Estimate': ('FF0000'), # red\n",
    "}\n",
    "Map.add_legend(legend_title='Legend', legend_dict=legend_dict, position='bottomright')\n",
    "\n",
    "Map"
   ]
  },
  {
   "cell_type": "markdown",
   "id": "d0e523f7-4480-4b1e-a06e-4d53ce86a5d2",
   "metadata": {},
   "source": [
    "## VV Band"
   ]
  },
  {
   "cell_type": "code",
   "execution_count": 69,
   "id": "a18812bb-2593-46f1-adab-c12bc40adc8a",
   "metadata": {},
   "outputs": [],
   "source": [
    "def create_vv_composites(geometry, start, end):\n",
    "    images = []\n",
    "    \n",
    "    for year in range(start, end+1):\n",
    "        filtered = s1 \\\n",
    "            .filter(ee.Filter.eq('instrumentMode','IW')) \\\n",
    "            .filter(ee.Filter.listContains('transmitterReceiverPolarisation', 'VV')) \\\n",
    "            .filter(ee.Filter.eq('orbitProperties_pass', 'DESCENDING')) \\\n",
    "            .filter(ee.Filter.eq('resolution_meters',10)) \\\n",
    "            .filter(ee.Filter.intersects('.geo', geometry)) \\\n",
    "            .filter(ee.Filter.date(str(year) + '-01-01', str(year) + '-12-31')) \\\n",
    "            .select('VV')\n",
    "\n",
    "        composite = filtered.mosaic().clip(geometry)\n",
    "        \n",
    "        images.append((composite, year))\n",
    "        \n",
    "    return images\n",
    "\n",
    "def add_vv_composites(images, geometry):\n",
    "    Map = geemap.Map()\n",
    "    Map.centerObject(geometry, 11)\n",
    "    \n",
    "    for image, year in images:\n",
    "        Map.addLayer(image, {'min':-25, 'max':0}, str(year) + ' VV Composite')\n",
    "        \n",
    "    return Map"
   ]
  },
  {
   "cell_type": "code",
   "execution_count": 70,
   "id": "e973837d-21c7-4d03-a774-c0264df79627",
   "metadata": {},
   "outputs": [
    {
     "data": {
      "application/vnd.jupyter.widget-view+json": {
       "model_id": "75c9d1603c724448a2a72256ff69dd06",
       "version_major": 2,
       "version_minor": 0
      },
      "text/plain": [
       "Map(center=[-10.67819783565169, 25.98157616303779], controls=(WidgetControl(options=['position', 'transparent_…"
      ]
     },
     "metadata": {},
     "output_type": "display_data"
    }
   ],
   "source": [
    "imagesS1vv = create_vv_composites(geometry, 2019, 2021)\n",
    "Map = add_vv_composites(imagesS1vv, geometry)\n",
    "Map"
   ]
  },
  {
   "cell_type": "markdown",
   "id": "dd72a56e-b6e5-4f3e-b3d2-0603ba9656ae",
   "metadata": {},
   "source": [
    "### VV Calculations"
   ]
  },
  {
   "cell_type": "code",
   "execution_count": 71,
   "id": "64f1f7dd-0c11-4b10-8e4d-ebe93ad8240b",
   "metadata": {},
   "outputs": [],
   "source": [
    "def create_vv_calcs(images, geometry):\n",
    "    Map = geemap.Map()\n",
    "    Map.centerObject(geometry, 11)\n",
    "    \n",
    "    for image, year in images:\n",
    "        waterStorage = image.lt(-15).rename('water').selfMask()\n",
    "        connectW = waterStorage.connectedPixelCount(25)\n",
    "        waterStorage = waterStorage.updateMask(connectW.gt(cpThreshold))\n",
    "        Map.addLayer(waterStorage, {'min':0, 'max':1, 'palette': ['blue']}, 'Water ' + str(year))\n",
    "        \n",
    "        filtered = s2 \\\n",
    "            .filter(ee.Filter.lt('CLOUDY_PIXEL_PERCENTAGE', 30)) \\\n",
    "            .filter(ee.Filter.intersects('.geo', geometry)) \\\n",
    "            .filter(ee.Filter.date(str(year) + '-01-01', str(year) + '-12-31')) \\\n",
    "\n",
    "        composite = filtered.median().clip(geometry)\n",
    "        \n",
    "        ndvi = composite.normalizedDifference(['B8', 'B4'])\n",
    "        \n",
    "        mining = image.gte(-15).And(image.lt(-9)).And(ndvi.lt(.1)).rename('mine').selfMask()\n",
    "        mining = mining.where(permanentWater,0).selfMask()\n",
    "        connectM = mining.connectedPixelCount(25)\n",
    "        mining = mining.updateMask(connectM.gt(cpThreshold))\n",
    "        Map.addLayer(mining, {'min':0, 'max':1, 'palette': ['red']}, 'Mining Estimate ' + str(year))\n",
    "        \n",
    "    return Map"
   ]
  },
  {
   "cell_type": "code",
   "execution_count": 74,
   "id": "17ed8cb7-d9a3-4644-9823-d03e8795e7b6",
   "metadata": {},
   "outputs": [
    {
     "data": {
      "application/vnd.jupyter.widget-view+json": {
       "model_id": "c3653e16960440bb8a0d6e4e76db58d0",
       "version_major": 2,
       "version_minor": 0
      },
      "text/plain": [
       "Map(center=[-10.67819783565169, 25.98157616303779], controls=(WidgetControl(options=['position', 'transparent_…"
      ]
     },
     "metadata": {},
     "output_type": "display_data"
    }
   ],
   "source": [
    "Map = create_vv_calcs(imagesS1vv, geometry)\n",
    "legend_dict = {\n",
    "    'Water': ('0000FF'), # blue\n",
    "    'Mine Estimate': ('FF0000'), # red\n",
    "}\n",
    "Map.add_legend(legend_title='Legend', legend_dict=legend_dict, position='bottomright')\n",
    "\n",
    "Map"
   ]
  },
  {
   "cell_type": "markdown",
   "id": "4b81b14a-0a67-4e2a-ab52-588ac12f60e7",
   "metadata": {},
   "source": [
    "## VV/VH Ratio"
   ]
  },
  {
   "cell_type": "code",
   "execution_count": 78,
   "id": "ef01810b-db16-4656-bc20-729900f148a0",
   "metadata": {},
   "outputs": [],
   "source": [
    "def create_vv_vh_composites(geometry, start, end):\n",
    "    images = []\n",
    "    \n",
    "    for year in range(start, end+1):\n",
    "        filtered = s1 \\\n",
    "            .filter(ee.Filter.eq('instrumentMode','IW')) \\\n",
    "            .filter(ee.Filter.eq('orbitProperties_pass', 'DESCENDING')) \\\n",
    "            .filter(ee.Filter.eq('resolution_meters',10)) \\\n",
    "            .filter(ee.Filter.intersects('.geo', geometry)) \\\n",
    "            .filter(ee.Filter.date(str(year) + '-01-01', str(year) + '-12-31')) \\\n",
    "            .select(['VV', 'VH'])\n",
    "\n",
    "        composite = filtered.mosaic().clip(geometry)\n",
    "        \n",
    "        images.append((composite, year))\n",
    "        \n",
    "    return images\n",
    "\n",
    "def add_vv_vh_composites(images, geometry):\n",
    "    Map = geemap.Map()\n",
    "    Map.centerObject(geometry, 11)\n",
    "    \n",
    "    for image, year in images:\n",
    "        Map.addLayer(image.select('VV').divide(image.select('VH')), {}, str(year) + ' VV/VH')\n",
    "        \n",
    "    return Map"
   ]
  },
  {
   "cell_type": "code",
   "execution_count": 79,
   "id": "a483de1d-b5cb-4894-88e4-39258232fdb9",
   "metadata": {},
   "outputs": [
    {
     "data": {
      "application/vnd.jupyter.widget-view+json": {
       "model_id": "4ec72730cd3c4fa68ea339851d053ad2",
       "version_major": 2,
       "version_minor": 0
      },
      "text/plain": [
       "Map(center=[-10.67819783565169, 25.98157616303779], controls=(WidgetControl(options=['position', 'transparent_…"
      ]
     },
     "metadata": {},
     "output_type": "display_data"
    }
   ],
   "source": [
    "imagesS1ratio = create_vv_vh_composites(geometry, 2019, 2021)\n",
    "Map = add_vv_vh_composites(imagesS1ratio, geometry)\n",
    "Map"
   ]
  },
  {
   "cell_type": "markdown",
   "id": "183ecd81-e59a-4d94-b83a-1e897af395e2",
   "metadata": {},
   "source": [
    "### VV/VH Calculations"
   ]
  },
  {
   "cell_type": "code",
   "execution_count": 100,
   "id": "b88be7c6-62c9-4121-888b-b081dc9ee600",
   "metadata": {},
   "outputs": [],
   "source": [
    "def create_vv_vh_calcs(images, geometry):\n",
    "    Map = geemap.Map()\n",
    "    Map.centerObject(geometry, 11)\n",
    "    \n",
    "    for image, year in images:\n",
    "        # not picking up the lake in 2019 -> why\n",
    "        waterStorage = image.select('VV').divide(image.select('VH')).gt(0.6).And(image.select('VH').lt(-22)).rename('water').selfMask()\n",
    "        connectW = waterStorage.connectedPixelCount(25)\n",
    "        waterStorage = waterStorage.updateMask(connectW.gt(cpThreshold))\n",
    "        Map.addLayer(waterStorage, {'min':0, 'max':1, 'palette': ['blue']}, 'Water ' + str(year))\n",
    "        \n",
    "        filtered = s2 \\\n",
    "            .filter(ee.Filter.lt('CLOUDY_PIXEL_PERCENTAGE', 30)) \\\n",
    "            .filter(ee.Filter.intersects('.geo', geometry)) \\\n",
    "            .filter(ee.Filter.date(str(year) + '-01-01', str(year) + '-12-31')) \\\n",
    "\n",
    "        composite = filtered.median().clip(geometry)\n",
    "        \n",
    "        ndvi = composite.normalizedDifference(['B8', 'B4'])\n",
    "        \n",
    "        #currently not doing much -> basically going off of NDVI\n",
    "        mining = image.select('VV').divide(image.select('VH')).lt(0.6).And(ndvi.lt(.1)).rename('mine').selfMask()\n",
    "        mining = mining.where(permanentWater,0).selfMask()\n",
    "        connectM = mining.connectedPixelCount(25)\n",
    "        mining = mining.updateMask(connectM.gt(cpThreshold))\n",
    "        Map.addLayer(mining, {'min':0, 'max':1, 'palette': ['red']}, 'Mining Estimate ' + str(year))\n",
    "        \n",
    "    return Map"
   ]
  },
  {
   "cell_type": "code",
   "execution_count": 101,
   "id": "533a52b7-87e9-4ab1-bc19-7d9abab8bd3b",
   "metadata": {},
   "outputs": [
    {
     "data": {
      "application/vnd.jupyter.widget-view+json": {
       "model_id": "b1cb5d7d343e4a90ac61730546fc08dd",
       "version_major": 2,
       "version_minor": 0
      },
      "text/plain": [
       "Map(center=[-10.67819783565169, 25.98157616303779], controls=(WidgetControl(options=['position', 'transparent_…"
      ]
     },
     "metadata": {},
     "output_type": "display_data"
    }
   ],
   "source": [
    "Map = create_vv_vh_calcs(imagesS1ratio, geometry)\n",
    "\n",
    "legend_dict = {\n",
    "    'Water': ('0000FF'), # blue\n",
    "    'Mine Estimate': ('FF0000'), # red\n",
    "}\n",
    "Map.add_legend(legend_title='Legend', legend_dict=legend_dict, position='bottomright')\n",
    "\n",
    "Map"
   ]
  },
  {
   "cell_type": "code",
   "execution_count": null,
   "id": "09d29ac8-d8cf-40ca-9bc3-e592d9e7c743",
   "metadata": {},
   "outputs": [],
   "source": []
  }
 ],
 "metadata": {
  "kernelspec": {
   "display_name": "Python 3 (ipykernel)",
   "language": "python",
   "name": "python3"
  },
  "language_info": {
   "codemirror_mode": {
    "name": "ipython",
    "version": 3
   },
   "file_extension": ".py",
   "mimetype": "text/x-python",
   "name": "python",
   "nbconvert_exporter": "python",
   "pygments_lexer": "ipython3",
   "version": "3.10.1"
  }
 },
 "nbformat": 4,
 "nbformat_minor": 5
}
