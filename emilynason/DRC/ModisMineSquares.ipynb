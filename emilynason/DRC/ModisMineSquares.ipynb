{
 "cells": [
  {
   "cell_type": "code",
   "execution_count": 1,
   "id": "0da865da-985d-4990-9728-ac1aa994268f",
   "metadata": {},
   "outputs": [
    {
     "data": {
      "text/html": [
       "<p>To authorize access needed by Earth Engine, open the following\n",
       "        URL in a web browser and follow the instructions:</p>\n",
       "        <p><a href=https://accounts.google.com/o/oauth2/auth?client_id=517222506229-vsmmajv00ul0bs7p89v5m89qs8eb9359.apps.googleusercontent.com&scope=https%3A%2F%2Fwww.googleapis.com%2Fauth%2Fearthengine+https%3A%2F%2Fwww.googleapis.com%2Fauth%2Fdevstorage.full_control&redirect_uri=urn%3Aietf%3Awg%3Aoauth%3A2.0%3Aoob&response_type=code&code_challenge=4HRUDlZvnaDlbAvGR2zd4FYuJLkVnRs5MH_8EwPxJ5s&code_challenge_method=S256>https://accounts.google.com/o/oauth2/auth?client_id=517222506229-vsmmajv00ul0bs7p89v5m89qs8eb9359.apps.googleusercontent.com&scope=https%3A%2F%2Fwww.googleapis.com%2Fauth%2Fearthengine+https%3A%2F%2Fwww.googleapis.com%2Fauth%2Fdevstorage.full_control&redirect_uri=urn%3Aietf%3Awg%3Aoauth%3A2.0%3Aoob&response_type=code&code_challenge=4HRUDlZvnaDlbAvGR2zd4FYuJLkVnRs5MH_8EwPxJ5s&code_challenge_method=S256</a></p>\n",
       "        <p>The authorization workflow will generate a code, which you\n",
       "        should paste in the box below</p>\n",
       "        "
      ],
      "text/plain": [
       "<IPython.core.display.HTML object>"
      ]
     },
     "metadata": {},
     "output_type": "display_data"
    },
    {
     "name": "stdin",
     "output_type": "stream",
     "text": [
      "Enter verification code:  4/1AX4XfWjzKXny0idjVg-O_4XDyeJODsjhbpjpHgf7_wTSd36xv8syy5rjUsc\n"
     ]
    },
    {
     "name": "stdout",
     "output_type": "stream",
     "text": [
      "\n",
      "Successfully saved authorization token.\n"
     ]
    }
   ],
   "source": [
    "import ee\n",
    "import collections\n",
    "collections.Callable = collections.abc.Callable\n",
    "import geemap\n",
    "from geemap import chart\n",
    "\n",
    "%matplotlib inline\n",
    "import matplotlib.pyplot as plt\n",
    "\n",
    "ee.Authenticate()\n",
    "ee.Initialize()"
   ]
  },
  {
   "cell_type": "markdown",
   "id": "5a7c157a-022c-4a65-8afa-1c7277f2f5ec",
   "metadata": {},
   "source": [
    "## Imports and Constants"
   ]
  },
  {
   "cell_type": "code",
   "execution_count": 2,
   "id": "dc21a113-6c96-4661-876c-28e6b77c3967",
   "metadata": {},
   "outputs": [],
   "source": [
    "import ee\n",
    "import geemap\n",
    "\n",
    "Map = geemap.Map()\n",
    "\n",
    "totalRegion = ee.Geometry.Polygon(\n",
    "        [[[25.5, -10.5],\n",
    "          [25.5, -11],\n",
    "          [26.5, -11],\n",
    "          [26.5, -10.5]]], None, False)\n",
    "ls8 = ee.ImageCollection(\"LANDSAT/LC08/C02/T1_L2\")\n",
    "modis = ee.ImageCollection(\"MODIS/006/MOD13Q1\")\n",
    "modis2 = ee.ImageCollection('MODIS/006/MCD43A4')\n",
    "rgbVis = {\n",
    "    'min': 8097.96,\n",
    "    'max': 12128.04,\n",
    "    'bands': ['SR_B4', 'SR_B3', 'SR_B2']\n",
    "}\n",
    "comp2020 = ls8 \\\n",
    "            .filter(ee.Filter.bounds(totalRegion)) \\\n",
    "            .filter(ee.Filter.date('2020-01-01', '2020-12-31')) \\\n",
    "            .filter(ee.Filter.lt('CLOUD_COVER', 15)) \\\n",
    "            .select('SR_B.*') \\\n",
    "            .median().clip(totalRegion)"
   ]
  },
  {
   "cell_type": "markdown",
   "id": "96727f09-d738-43d9-80a0-4763ff07158a",
   "metadata": {},
   "source": [
    "## Create .1x.1 Regions"
   ]
  },
  {
   "cell_type": "code",
   "execution_count": 3,
   "id": "a85a5053-7c0d-4934-9433-56020da81bc7",
   "metadata": {},
   "outputs": [],
   "source": [
    "#divide region into smaller, equally-sized regions\n",
    "def divide_geometry():\n",
    "    # regionCoordinates = geometry.coordinates()\n",
    "    regions = []\n",
    "    i = 25.5\n",
    "    while i <=26.5:\n",
    "        j = -10.5\n",
    "        while j >= -11:\n",
    "            region = ee.Geometry.Polygon(\n",
    "                [[[i, j],\n",
    "                  [i, j-.1],\n",
    "                  [i+.1, j-.1],\n",
    "                  [i+.1, j]]])\n",
    "            regions.append((region))\n",
    "            j = j-.1\n",
    "        i = i+.1\n",
    "    return regions"
   ]
  },
  {
   "cell_type": "code",
   "execution_count": 4,
   "id": "0145ed46-eaf0-4cfa-81aa-8a985146768a",
   "metadata": {},
   "outputs": [
    {
     "name": "stdout",
     "output_type": "stream",
     "text": [
      "60\n"
     ]
    }
   ],
   "source": [
    "regions = divide_geometry()\n",
    "print(len(regions))"
   ]
  },
  {
   "cell_type": "markdown",
   "id": "3dd177c6-af9c-4145-839c-31c7b3bce8ac",
   "metadata": {},
   "source": [
    "## Change in NDVI from 2014 to 2020"
   ]
  },
  {
   "cell_type": "markdown",
   "id": "ae4da6a2-fc3c-49f7-9aae-dae1f68e57fa",
   "metadata": {},
   "source": [
    "##### Regions with significant loss of NDVI will be added to the map"
   ]
  },
  {
   "cell_type": "code",
   "execution_count": 5,
   "id": "105797df-8212-4156-b404-8da15e49e185",
   "metadata": {},
   "outputs": [],
   "source": [
    "def create_ndvi_layers_modis(start, end, geometry):\n",
    "    images = []\n",
    "    ndviStart = modis \\\n",
    "                .filter(ee.Filter.bounds(geometry))\\\n",
    "                .filter(ee.Filter.date(str(start) + '-01-01', str(start) + '-12-31')) \\\n",
    "                .select('NDVI') \\\n",
    "                .median() \\\n",
    "                .clip(geometry)\n",
    "    images.append((ndviStart, start))\n",
    "    ndviEnd = modis \\\n",
    "                .filter(ee.Filter.bounds(geometry))\\\n",
    "                .filter(ee.Filter.date(str(end) + '-01-01', str(end) + '-12-31')) \\\n",
    "                .select('NDVI') \\\n",
    "                .median() \\\n",
    "                .clip(geometry)\n",
    "    images.append((ndviEnd, end))\n",
    "    return images"
   ]
  },
  {
   "cell_type": "code",
   "execution_count": 6,
   "id": "66316648-6559-4c7c-97fd-3196be28e0c3",
   "metadata": {},
   "outputs": [],
   "source": [
    "def extract_data_modis(image):\n",
    "    stats = image.reduceRegion(**{\n",
    "        'reducer': ee.Reducer.mean(),\n",
    "        'geometry': image.geometry(),\n",
    "        'scale': 100\n",
    "    })\n",
    "    \n",
    "    properties = {\n",
    "        'Year': image.get('system:index'),\n",
    "        'NDVI': stats.get('NDVI')\n",
    "    }\n",
    "    \n",
    "    return ee.Feature(None, properties)"
   ]
  },
  {
   "cell_type": "code",
   "execution_count": 7,
   "id": "e14d05d6-8692-421a-b5e2-c32c82934996",
   "metadata": {},
   "outputs": [],
   "source": [
    "def ndvi_requirement_modis(df):\n",
    "    statusM = 0 # 1 = possible mine, 0 = not mine\n",
    "    if df.iat[0,1]-df.iat[1,1] > 500:\n",
    "        statusM = 1\n",
    "    else: \n",
    "        statusM = statusM\n",
    "    return statusM"
   ]
  },
  {
   "cell_type": "code",
   "execution_count": 8,
   "id": "05102dce-19a5-4dc6-b6f8-2d361da0d443",
   "metadata": {},
   "outputs": [],
   "source": [
    "def ndvi_level_modis(regions):\n",
    "    Map.setCenter(25.9845, -10.6614, 10)\n",
    "    Map.addLayer(comp2020,rgbVis,'whole',False)\n",
    "    num = 1\n",
    "    for region in regions:\n",
    "        layerName = str(num) + ' ndvi pass'\n",
    "        \n",
    "        images = ee.ImageCollection(create_ndvi_layers_modis(2004, 2020, region))\n",
    "        data = ee.FeatureCollection(images.map(extract_data_modis))\n",
    "        df = geemap.ee_to_pandas(data)\n",
    "\n",
    "        statusM = ndvi_requirement_modis(df)\n",
    "        if statusM == 1:\n",
    "            image = ls8 \\\n",
    "                .filter(ee.Filter.bounds(region)) \\\n",
    "                .filter(ee.Filter.date('2020-01-01', '2020-12-31')) \\\n",
    "                .filter(ee.Filter.lt('CLOUD_COVER', 15)) \\\n",
    "                .select('SR_B.*') \\\n",
    "                .median().clip(region)\n",
    "            Map.addLayer(image, rgbVis, layerName)\n",
    "        num = num+1\n",
    "    return Map"
   ]
  },
  {
   "cell_type": "code",
   "execution_count": 9,
   "id": "68eb9410-25f0-46b0-a774-be9248406a37",
   "metadata": {},
   "outputs": [
    {
     "data": {
      "application/vnd.jupyter.widget-view+json": {
       "model_id": "fdd4185240894a83a7aeb1bf6368cdbd",
       "version_major": 2,
       "version_minor": 0
      },
      "text/plain": [
       "Map(center=[-10.6614, 25.9845], controls=(WidgetControl(options=['position', 'transparent_bg'], widget=HBox(ch…"
      ]
     },
     "metadata": {},
     "output_type": "display_data"
    }
   ],
   "source": [
    "ndvi_level_modis(regions)"
   ]
  },
  {
   "cell_type": "code",
   "execution_count": null,
   "id": "d53e7ea5-a661-4764-bab4-259f38cc424f",
   "metadata": {},
   "outputs": [],
   "source": []
  }
 ],
 "metadata": {
  "kernelspec": {
   "display_name": "Python 3 (ipykernel)",
   "language": "python",
   "name": "python3"
  },
  "language_info": {
   "codemirror_mode": {
    "name": "ipython",
    "version": 3
   },
   "file_extension": ".py",
   "mimetype": "text/x-python",
   "name": "python",
   "nbconvert_exporter": "python",
   "pygments_lexer": "ipython3",
   "version": "3.10.1"
  }
 },
 "nbformat": 4,
 "nbformat_minor": 5
}
