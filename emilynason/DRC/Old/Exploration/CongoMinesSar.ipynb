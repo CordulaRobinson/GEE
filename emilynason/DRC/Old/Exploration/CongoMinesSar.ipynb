{
 "cells": [
  {
   "cell_type": "code",
   "execution_count": 1,
   "id": "1c45423b-c78c-4d84-ae33-fb725be7bbbe",
   "metadata": {},
   "outputs": [
    {
     "data": {
      "text/html": [
       "<p>To authorize access needed by Earth Engine, open the following\n",
       "        URL in a web browser and follow the instructions:</p>\n",
       "        <p><a href=https://accounts.google.com/o/oauth2/auth?client_id=517222506229-vsmmajv00ul0bs7p89v5m89qs8eb9359.apps.googleusercontent.com&scope=https%3A%2F%2Fwww.googleapis.com%2Fauth%2Fearthengine+https%3A%2F%2Fwww.googleapis.com%2Fauth%2Fdevstorage.full_control&redirect_uri=urn%3Aietf%3Awg%3Aoauth%3A2.0%3Aoob&response_type=code&code_challenge=9yBr2fx-VLEAyG5K7Q1NrjNMrXyYIWxeY8qhTjva9OM&code_challenge_method=S256>https://accounts.google.com/o/oauth2/auth?client_id=517222506229-vsmmajv00ul0bs7p89v5m89qs8eb9359.apps.googleusercontent.com&scope=https%3A%2F%2Fwww.googleapis.com%2Fauth%2Fearthengine+https%3A%2F%2Fwww.googleapis.com%2Fauth%2Fdevstorage.full_control&redirect_uri=urn%3Aietf%3Awg%3Aoauth%3A2.0%3Aoob&response_type=code&code_challenge=9yBr2fx-VLEAyG5K7Q1NrjNMrXyYIWxeY8qhTjva9OM&code_challenge_method=S256</a></p>\n",
       "        <p>The authorization workflow will generate a code, which you\n",
       "        should paste in the box below</p>\n",
       "        "
      ],
      "text/plain": [
       "<IPython.core.display.HTML object>"
      ]
     },
     "metadata": {},
     "output_type": "display_data"
    },
    {
     "name": "stdin",
     "output_type": "stream",
     "text": [
      "Enter verification code:  4/1AX4XfWj1ID_E7IT3UMWCx06hcJgP903AcYPUlLvJJVlrTYlf1U8TMEO4Q5s\n"
     ]
    },
    {
     "name": "stdout",
     "output_type": "stream",
     "text": [
      "\n",
      "Successfully saved authorization token.\n"
     ]
    }
   ],
   "source": [
    "import ee\n",
    "import collections\n",
    "collections.Callable = collections.abc.Callable\n",
    "import geemap\n",
    "from geemap import chart\n",
    "\n",
    "%matplotlib inline\n",
    "import matplotlib.pyplot as plt\n",
    "\n",
    "ee.Authenticate()\n",
    "ee.Initialize()"
   ]
  },
  {
   "cell_type": "markdown",
   "id": "a6e16fe5-b23b-4722-90fc-5caf61bf2807",
   "metadata": {},
   "source": [
    "## Imports & Constants"
   ]
  },
  {
   "cell_type": "code",
   "execution_count": 2,
   "id": "321e1da0-b5a6-4755-8c24-124fb07ca2f2",
   "metadata": {},
   "outputs": [],
   "source": [
    "import ee\n",
    "import geemap\n",
    "\n",
    "geometry = ee.Geometry.Polygon(\n",
    "        [[[25.67758947139908, -10.52500539578282],\n",
    "          [25.67758947139908, -10.831343855184292],\n",
    "          [26.285562854675604, -10.831343855184292],\n",
    "          [26.285562854675604, -10.52500539578282]]], None, False)\n",
    "mines = ee.FeatureCollection(\"users/EmilyNason/cod_mines_curated_all_opendata_p_ipis\")\n",
    "s2 = ee.ImageCollection(\"COPERNICUS/S2_SR\")\n",
    "s1 = ee.ImageCollection('COPERNICUS/S1_GRD')\n",
    "\n",
    "area1 = ee.Geometry.Polygon(\n",
    "        [[[25.783982219615126, -10.760592214819402],\n",
    "          [25.783982219615126, -10.804773403670321],\n",
    "          [25.882344188609267, -10.804773403670321],\n",
    "          [25.882344188609267, -10.760592214819402]]], None, False)\n",
    "area2 = ee.Geometry.Polygon(\n",
    "        [[[25.883463192760367, -10.653415341387422],\n",
    "          [25.883463192760367, -10.684961077984651],\n",
    "          [25.918653775035757, -10.684961077984651],\n",
    "          [25.918653775035757, -10.653415341387422]]], None, False)\n",
    "area3 = ee.Geometry.Polygon(\n",
    "        [[[26.117306035200816, -10.551319560770521],\n",
    "          [26.117306035200816, -10.632650522900946],\n",
    "          [26.248455327193003, -10.632650522900946],\n",
    "          [26.248455327193003, -10.551319560770521]]], None, False)\n",
    "area4 = ee.Geometry.Polygon(\n",
    "        [[[25.961694541782418, -10.617121740523016],\n",
    "          [25.961694541782418, -10.656262872369753],\n",
    "          [26.00804311355976, -10.656262872369753],\n",
    "          [26.00804311355976, -10.617121740523016]]], None, False)\n",
    "noMine = ee.Geometry.Polygon(\n",
    "        [[[26.05587044825878, -10.73615043816951],\n",
    "          [26.05587044825878, -10.787712996362622],\n",
    "          [26.14122124360419, -10.787712996362622],\n",
    "          [26.14122124360419, -10.73615043816951]]], None, False)\n",
    "focus = ee.Geometry.Polygon(\n",
    "[[[27.350233348102517, -7.518171474050515],\n",
    "[27.350233348102517, -7.57841301205225],\n",
    "[27.436407359332986, -7.57841301205225],\n",
    "[27.436407359332986, -7.518171474050515]]], None, False)\n",
    "\n",
    "rgbVis = {\n",
    "  'bands': ['B4', 'B3', 'B2'],\n",
    "  'min': 0,\n",
    "  'max': 3000,\n",
    "}\n",
    "\n",
    "waterVis = {\n",
    "    'min':0, \n",
    "    'max':1, \n",
    "    'palette': ['blue']\n",
    "}\n",
    "\n",
    "miningVis = {\n",
    "    'min':0, \n",
    "    'max':1, \n",
    "    'palette': ['red']\n",
    "}\n",
    "\n",
    "legend_dict = {\n",
    "    'Water': ('0000FF'), # blue\n",
    "    'Mine Estimate': ('FF0000'), # red\n",
    "}"
   ]
  },
  {
   "cell_type": "markdown",
   "id": "808df2d8-2ec4-4b57-b8bc-aed53b8c2a5e",
   "metadata": {},
   "source": [
    "## True Color Composites (Sentinel-2)"
   ]
  },
  {
   "cell_type": "code",
   "execution_count": 3,
   "id": "211dfe2a-d9de-49a1-9143-33a8f7b81663",
   "metadata": {},
   "outputs": [],
   "source": [
    "def create_median_composites(geometry, start, end):\n",
    "    images = []\n",
    "    \n",
    "    for year in range(start, end+1):\n",
    "        filtered = s2 \\\n",
    "            .filter(ee.Filter.lt('CLOUDY_PIXEL_PERCENTAGE', 30)) \\\n",
    "            .filter(ee.Filter.intersects('.geo', geometry)) \\\n",
    "            .filter(ee.Filter.date(str(year) + '-01-01', str(year) + '-12-31')) \\\n",
    "\n",
    "        composite = filtered.median().clip(geometry)\n",
    "        \n",
    "        images.append((composite, year))\n",
    "        \n",
    "    return images\n",
    "\n",
    "def add_median_composites(images, geometry):\n",
    "    Map = geemap.Map()\n",
    "    Map.centerObject(geometry, 11)\n",
    "    \n",
    "    for image, year in images:\n",
    "        Map.addLayer(image, rgbVis, str(year) + ' Median Composite')\n",
    "        \n",
    "    return Map"
   ]
  },
  {
   "cell_type": "code",
   "execution_count": 4,
   "id": "d75cc233-92f4-4948-a65c-358e746a0012",
   "metadata": {},
   "outputs": [
    {
     "data": {
      "application/vnd.jupyter.widget-view+json": {
       "model_id": "942b81707f974707a0a4ec9846238ef3",
       "version_major": 2,
       "version_minor": 0
      },
      "text/plain": [
       "Map(center=[-10.67819783565169, 25.98157616303779], controls=(WidgetControl(options=['position', 'transparent_…"
      ]
     },
     "metadata": {},
     "output_type": "display_data"
    }
   ],
   "source": [
    "images = create_median_composites(geometry, 2019, 2021)\n",
    "Map = add_median_composites(images, geometry)\n",
    "Map"
   ]
  },
  {
   "cell_type": "markdown",
   "id": "b71621e7-f318-4fa7-bd48-cebd1d14a9ed",
   "metadata": {},
   "source": [
    "## SAR Composites"
   ]
  },
  {
   "cell_type": "code",
   "execution_count": 5,
   "id": "4503f2ad-9688-442f-aa44-d1484e1070c9",
   "metadata": {},
   "outputs": [],
   "source": [
    "def create_sar_composites(geometry, start, end):\n",
    "    images = []\n",
    "    \n",
    "    for year in range(start, end+1):\n",
    "        filtered = s1 \\\n",
    "            .filter(ee.Filter.eq('instrumentMode','IW')) \\\n",
    "            .filter(ee.Filter.eq('orbitProperties_pass', 'DESCENDING')) \\\n",
    "            .filter(ee.Filter.eq('resolution_meters',10)) \\\n",
    "            .filter(ee.Filter.intersects('.geo', geometry)) \\\n",
    "            .filter(ee.Filter.date(str(year) + '-01-01', str(year) + '-12-31')) \\\n",
    "            .select(['VV', 'VH'])\n",
    "\n",
    "        composite = filtered.median().clip(geometry)\n",
    "        \n",
    "        vv_vh = composite.select('VV').divide(composite.select('VH')).rename('VV/VH')\n",
    "        composite.addBands(vv_vh, ['VV/VH']).rename('VV/VH')\n",
    "        \n",
    "        images.append((composite, year))\n",
    "        \n",
    "    return images"
   ]
  },
  {
   "cell_type": "code",
   "execution_count": 6,
   "id": "77757486-7f3c-4847-ad0d-47400763a754",
   "metadata": {},
   "outputs": [],
   "source": [
    "imagesS1 = create_sar_composites(geometry, 2019, 2021)"
   ]
  },
  {
   "cell_type": "markdown",
   "id": "8bfd33d1-8a69-4d18-988d-0dcb581dcd18",
   "metadata": {},
   "source": [
    "## VH Band"
   ]
  },
  {
   "cell_type": "code",
   "execution_count": 7,
   "id": "63eeec79-00d9-4499-a8b8-38fffba0ab55",
   "metadata": {},
   "outputs": [],
   "source": [
    "def add_vh_composites(images, imagesVH, geometry):\n",
    "    Map = geemap.Map()\n",
    "    Map.centerObject(geometry, 11)\n",
    "    \n",
    "    for image, year in images:\n",
    "        Map.addLayer(image, rgbVis, str(year) + ' Median Composite')\n",
    "    \n",
    "    for image, year in imagesVH:\n",
    "        Map.addLayer(image.select('VH'), {'min':-25, 'max':0}, str(year) + ' VH Composite')\n",
    "        \n",
    "    return Map"
   ]
  },
  {
   "cell_type": "code",
   "execution_count": 8,
   "id": "c402b23f-451d-4c2c-a4a0-09cdb756308a",
   "metadata": {},
   "outputs": [
    {
     "data": {
      "application/vnd.jupyter.widget-view+json": {
       "model_id": "39baac08fb8b448994705d1837e46420",
       "version_major": 2,
       "version_minor": 0
      },
      "text/plain": [
       "Map(center=[-10.67819783565169, 25.98157616303779], controls=(WidgetControl(options=['position', 'transparent_…"
      ]
     },
     "metadata": {},
     "output_type": "display_data"
    }
   ],
   "source": [
    "Map = add_vh_composites(images, imagesS1, geometry)\n",
    "Map"
   ]
  },
  {
   "cell_type": "markdown",
   "id": "36d61b34-0dc6-45d4-b1a9-d11dee5d7fad",
   "metadata": {},
   "source": [
    "### VH Calculations"
   ]
  },
  {
   "cell_type": "code",
   "execution_count": 9,
   "id": "45ee29de-aba8-4a80-bc50-0aacd23c2a82",
   "metadata": {},
   "outputs": [],
   "source": [
    "def create_vh_calcs(images, geometry):\n",
    "    Map = geemap.Map()\n",
    "    Map.centerObject(geometry, 11)\n",
    "    \n",
    "    for image, year in images:\n",
    "        \n",
    "        filtered = s2 \\\n",
    "            .filter(ee.Filter.lt('CLOUDY_PIXEL_PERCENTAGE', 30)) \\\n",
    "            .filter(ee.Filter.intersects('.geo', geometry)) \\\n",
    "            .filter(ee.Filter.date(str(year) + '-01-01', str(year) + '-12-31')) \\\n",
    "\n",
    "        composite = filtered.median().clip(geometry)\n",
    "        \n",
    "        Map.addLayer(composite, rgbVis, str(year) + ' Median Composite')\n",
    "        \n",
    "        ndvi = composite.normalizedDifference(['B8', 'B4'])\n",
    "        nirG = composite.normalizedDifference(['B8', 'B3'])\n",
    "        ndmi = composite.normalizedDifference(['B8', 'B11'])\n",
    "        \n",
    "        image = image.select('VH')\n",
    "        \n",
    "        waterStorage = image.lt(-22).rename('water').And(nirG.lt(0.1).Or(ndmi.gt(.3))).selfMask()\n",
    "        connectW = waterStorage.connectedPixelCount(25)\n",
    "        waterStorage = waterStorage.updateMask(connectW.gt(8))\n",
    "        Map.addLayer(waterStorage, waterVis, 'Water ' + str(year))\n",
    "        \n",
    "        mining = image.gte(-22).And(image.lt(-18)).And(ndvi.lt(.15)).rename('mine').selfMask()\n",
    "        connectM = mining.connectedPixelCount(25)\n",
    "        mining = mining.updateMask(connectM.gt(8))\n",
    "        Map.addLayer(mining, miningVis, 'Mining Estimate ' + str(year))\n",
    "        \n",
    "    return Map"
   ]
  },
  {
   "cell_type": "code",
   "execution_count": 10,
   "id": "96c73bec-8486-462e-ad7d-80d2b21b360a",
   "metadata": {},
   "outputs": [
    {
     "data": {
      "application/vnd.jupyter.widget-view+json": {
       "model_id": "b0fe1ef222004fe88f704a67044605f1",
       "version_major": 2,
       "version_minor": 0
      },
      "text/plain": [
       "Map(center=[-10.67819783565169, 25.98157616303779], controls=(WidgetControl(options=['position', 'transparent_…"
      ]
     },
     "metadata": {},
     "output_type": "display_data"
    }
   ],
   "source": [
    "Map = create_vh_calcs(imagesS1, geometry)\n",
    "Map.add_legend(legend_title='Legend', legend_dict=legend_dict, position='bottomright')\n",
    "Map"
   ]
  },
  {
   "cell_type": "markdown",
   "id": "c3f4bb88-4ff8-4591-a960-b4f6d91f2ee0",
   "metadata": {},
   "source": [
    "## VV Band"
   ]
  },
  {
   "cell_type": "code",
   "execution_count": 11,
   "id": "f014d908-80fd-4a10-8efa-84004e1b3737",
   "metadata": {},
   "outputs": [],
   "source": [
    "def add_vv_composites(images, imagesVV, geometry):\n",
    "    Map = geemap.Map()\n",
    "    Map.centerObject(geometry, 11)\n",
    "    \n",
    "    for image, year in images:\n",
    "        Map.addLayer(image, rgbVis, str(year) + ' Median Composite')\n",
    "    \n",
    "    for image, year in imagesVV:\n",
    "        Map.addLayer(image.select('VV'), {'min':-25, 'max':0}, str(year) + ' VV Composite')\n",
    "        \n",
    "    return Map"
   ]
  },
  {
   "cell_type": "code",
   "execution_count": 12,
   "id": "0383abf2-0b0d-40f5-8530-fd5113919b76",
   "metadata": {},
   "outputs": [
    {
     "data": {
      "application/vnd.jupyter.widget-view+json": {
       "model_id": "da4a9ebfb21e451999e25d64dbdd3487",
       "version_major": 2,
       "version_minor": 0
      },
      "text/plain": [
       "Map(center=[-10.67819783565169, 25.98157616303779], controls=(WidgetControl(options=['position', 'transparent_…"
      ]
     },
     "metadata": {},
     "output_type": "display_data"
    }
   ],
   "source": [
    "Map = add_vv_composites(images, imagesS1, geometry)\n",
    "Map"
   ]
  },
  {
   "cell_type": "markdown",
   "id": "7dc2e85d-225b-40e9-93f4-4e961bd76ae8",
   "metadata": {},
   "source": [
    "### VV Calculations"
   ]
  },
  {
   "cell_type": "code",
   "execution_count": 31,
   "id": "5a8427ea-d908-47d6-98b3-af3aa532b96e",
   "metadata": {},
   "outputs": [],
   "source": [
    "def create_vv_calcs(images, geometry):\n",
    "    Map = geemap.Map()\n",
    "    Map.centerObject(geometry, 11)\n",
    "    \n",
    "    for image, year in images:\n",
    "        filtered = s2 \\\n",
    "            .filter(ee.Filter.lt('CLOUDY_PIXEL_PERCENTAGE', 30)) \\\n",
    "            .filter(ee.Filter.intersects('.geo', geometry)) \\\n",
    "            .filter(ee.Filter.date(str(year) + '-01-01', str(year) + '-12-31')) \\\n",
    "\n",
    "        composite = filtered.median().clip(geometry)\n",
    "        \n",
    "        Map.addLayer(composite, rgbVis, str(year) + ' Median Composite')\n",
    "        \n",
    "        ndvi = composite.normalizedDifference(['B8', 'B4'])\n",
    "        nirG = composite.normalizedDifference(['B8', 'B3'])\n",
    "        ndmi = composite.normalizedDifference(['B8', 'B11'])\n",
    "        \n",
    "        image = image.select('VV')\n",
    "        \n",
    "        waterStorage = image.lt(-15).rename('water').And(nirG.lt(0.1).Or(ndmi.gt(.3))).selfMask()\n",
    "        connectW = waterStorage.connectedPixelCount(25)\n",
    "        waterStorage = waterStorage.updateMask(connectW.gt(8))\n",
    "        Map.addLayer(waterStorage, waterVis, 'Water ' + str(year))\n",
    "        \n",
    "        mining = image.gte(-15).And(image.lt(-9)).And(ndvi.lt(.15)).rename('mine').selfMask()\n",
    "        connectM = mining.connectedPixelCount(25)\n",
    "        mining = mining.updateMask(connectM.gt(8))\n",
    "        Map.addLayer(mining, miningVis, 'Mining Estimate ' + str(year))\n",
    "        \n",
    "    return Map"
   ]
  },
  {
   "cell_type": "code",
   "execution_count": 32,
   "id": "99cc105c-abea-4924-8658-1281875cd8e8",
   "metadata": {},
   "outputs": [
    {
     "data": {
      "application/vnd.jupyter.widget-view+json": {
       "model_id": "f353058c9abb48db9723b20ed2b8b93a",
       "version_major": 2,
       "version_minor": 0
      },
      "text/plain": [
       "Map(center=[-10.67819783565169, 25.98157616303779], controls=(WidgetControl(options=['position', 'transparent_…"
      ]
     },
     "metadata": {},
     "output_type": "display_data"
    }
   ],
   "source": [
    "Map = create_vv_calcs(imagesS1, geometry)\n",
    "Map.add_legend(legend_title='Legend', legend_dict=legend_dict, position='bottomright')\n",
    "Map"
   ]
  },
  {
   "cell_type": "markdown",
   "id": "573f3ca9-d4a0-42ff-a25c-669c2c010a3d",
   "metadata": {},
   "source": [
    "## VV/VH Band"
   ]
  },
  {
   "cell_type": "code",
   "execution_count": 15,
   "id": "966166b8-3cdb-46ed-8eea-2f6e17dca9cd",
   "metadata": {},
   "outputs": [],
   "source": [
    "def add_vv_vh_composites(images, imagesRatio, geometry):\n",
    "    Map = geemap.Map()\n",
    "    Map.centerObject(geometry, 11)\n",
    "    \n",
    "    for image, year in images:\n",
    "        Map.addLayer(image, rgbVis, str(year) + ' Median Composite')\n",
    "    \n",
    "    for image, year in imagesRatio:\n",
    "        Map.addLayer(image.select('VV').divide(image.select('VH')), {}, str(year) + ' VV/VH')\n",
    "        \n",
    "    return Map"
   ]
  },
  {
   "cell_type": "code",
   "execution_count": 16,
   "id": "0011bf64-ac33-4d31-9a1c-866633fca3a2",
   "metadata": {},
   "outputs": [
    {
     "data": {
      "application/vnd.jupyter.widget-view+json": {
       "model_id": "dbde135a10894ebdbb57f507f8f96470",
       "version_major": 2,
       "version_minor": 0
      },
      "text/plain": [
       "Map(center=[-10.67819783565169, 25.98157616303779], controls=(WidgetControl(options=['position', 'transparent_…"
      ]
     },
     "metadata": {},
     "output_type": "display_data"
    }
   ],
   "source": [
    "Map = add_vv_vh_composites(images, imagesS1, geometry)\n",
    "Map"
   ]
  },
  {
   "cell_type": "markdown",
   "id": "35b51d46-4bbf-4175-91de-eb9a8fb427b2",
   "metadata": {},
   "source": [
    "### VV/VH Calculations"
   ]
  },
  {
   "cell_type": "code",
   "execution_count": 33,
   "id": "d3786572-6999-4db1-96f6-7d272efd52f6",
   "metadata": {},
   "outputs": [],
   "source": [
    "def create_vv_vh_calcs(images, geometry):\n",
    "    Map = geemap.Map()\n",
    "    Map.centerObject(geometry, 11)\n",
    "    \n",
    "    for image, year in images:\n",
    "        \n",
    "        filtered = s2 \\\n",
    "            .filter(ee.Filter.lt('CLOUDY_PIXEL_PERCENTAGE', 30)) \\\n",
    "            .filter(ee.Filter.intersects('.geo', geometry)) \\\n",
    "            .filter(ee.Filter.date(str(year) + '-01-01', str(year) + '-12-31')) \\\n",
    "\n",
    "        composite = filtered.median().clip(geometry)\n",
    "        \n",
    "        Map.addLayer(composite, rgbVis, str(year) + ' Median Composite')\n",
    "        \n",
    "        ndvi = composite.normalizedDifference(['B8', 'B4'])\n",
    "        nirG = composite.normalizedDifference(['B8', 'B3'])\n",
    "        ndmi = composite.normalizedDifference(['B8', 'B11'])\n",
    "\n",
    "        waterStorage = image.select('VV').divide(image.select('VH')).gt(0.6).And(nirG.lt(0.1).Or(ndmi.gt(.3))).rename('water').selfMask()\n",
    "        connectW = waterStorage.connectedPixelCount(25)\n",
    "        waterStorage = waterStorage.updateMask(connectW.gt(8))\n",
    "        Map.addLayer(waterStorage, waterVis, 'Water ' + str(year))\n",
    "        \n",
    "        #currently not doing much -> basically going off of NDVI\n",
    "        mining = image.select('VV').divide(image.select('VH')).lt(0.6).And(ndvi.lt(.15)).rename('mine').selfMask()\n",
    "        connectM = mining.connectedPixelCount(25)\n",
    "        mining = mining.updateMask(connectM.gt(8))\n",
    "        Map.addLayer(mining, miningVis, 'Mining Estimate ' + str(year))\n",
    "        \n",
    "    return Map"
   ]
  },
  {
   "cell_type": "code",
   "execution_count": 34,
   "id": "5376e65a-ed76-4f0d-9691-6bece1cb0ef3",
   "metadata": {},
   "outputs": [
    {
     "data": {
      "application/vnd.jupyter.widget-view+json": {
       "model_id": "b2507c45b21f46a2a5baa208903fe9bc",
       "version_major": 2,
       "version_minor": 0
      },
      "text/plain": [
       "Map(center=[-10.67819783565169, 25.98157616303779], controls=(WidgetControl(options=['position', 'transparent_…"
      ]
     },
     "metadata": {},
     "output_type": "display_data"
    }
   ],
   "source": [
    "Map = create_vv_vh_calcs(imagesS1, geometry)\n",
    "Map.add_legend(legend_title='Legend', legend_dict=legend_dict, position='bottomright')\n",
    "Map"
   ]
  },
  {
   "cell_type": "markdown",
   "id": "368d2347-4e7d-4a0c-ab6e-3cff3f1bdedf",
   "metadata": {},
   "source": [
    "## VH/VV Band"
   ]
  },
  {
   "cell_type": "code",
   "execution_count": 39,
   "id": "59280583-981e-4fe4-b84d-182a9847f928",
   "metadata": {},
   "outputs": [],
   "source": [
    "def add_vh_vv_composites(images, imagesRatio, geometry):\n",
    "    Map = geemap.Map()\n",
    "    Map.centerObject(geometry, 11)\n",
    "    \n",
    "    for image, year in images:\n",
    "        Map.addLayer(image, rgbVis, str(year) + ' Median Composite')\n",
    "    \n",
    "    for image, year in imagesRatio:\n",
    "        Map.addLayer(image.select('VH').divide(image.select('VV')), {}, str(year) + ' VV/VH')\n",
    "        \n",
    "    return Map"
   ]
  },
  {
   "cell_type": "code",
   "execution_count": 40,
   "id": "0efcd765-c16f-4deb-b4a0-59cec7a3adc5",
   "metadata": {},
   "outputs": [
    {
     "data": {
      "application/vnd.jupyter.widget-view+json": {
       "model_id": "671b8c80526f4e038bcaa0facc7ee13f",
       "version_major": 2,
       "version_minor": 0
      },
      "text/plain": [
       "Map(center=[-10.67819783565169, 25.98157616303779], controls=(WidgetControl(options=['position', 'transparent_…"
      ]
     },
     "metadata": {},
     "output_type": "display_data"
    }
   ],
   "source": [
    "Map = add_vh_vv_composites(images, imagesS1, geometry)\n",
    "Map"
   ]
  },
  {
   "cell_type": "markdown",
   "id": "ac7def76-2218-4af9-81dc-f5c5b4633aae",
   "metadata": {},
   "source": [
    "## VH, VV, VH/VV False Color Composite"
   ]
  },
  {
   "cell_type": "code",
   "execution_count": 43,
   "id": "72c02ba1-ae6f-4767-80e9-6af7f42d5799",
   "metadata": {},
   "outputs": [],
   "source": [
    "def add_false_composites(images, imagesRatio, geometry):\n",
    "    Map = geemap.Map()\n",
    "    Map.centerObject(geometry, 11)\n",
    "    \n",
    "    for image, year in images:\n",
    "        Map.addLayer(image, rgbVis, str(year) + ' Median Composite')\n",
    "    \n",
    "    for image, year in imagesRatio:\n",
    "        Map.addLayer(image, {'bands': ['VV', 'VH'],'min': -25,'max': -5}, str(year) + ' False Color Composite')\n",
    "        # red VH, blue VV\n",
    "    return Map"
   ]
  },
  {
   "cell_type": "code",
   "execution_count": 44,
   "id": "c36339f9-384e-4727-be2f-cda82be99cc7",
   "metadata": {},
   "outputs": [
    {
     "data": {
      "application/vnd.jupyter.widget-view+json": {
       "model_id": "e409e90b742e4a608b81012dfa09e537",
       "version_major": 2,
       "version_minor": 0
      },
      "text/plain": [
       "Map(center=[-10.67819783565169, 25.98157616303779], controls=(WidgetControl(options=['position', 'transparent_…"
      ]
     },
     "metadata": {},
     "output_type": "display_data"
    }
   ],
   "source": [
    "Map = add_false_composites(images, imagesS1, geometry)\n",
    "Map"
   ]
  },
  {
   "cell_type": "code",
   "execution_count": null,
   "id": "0f9d8942-784b-4a40-9e33-25e69ae1fa3e",
   "metadata": {},
   "outputs": [],
   "source": []
  }
 ],
 "metadata": {
  "kernelspec": {
   "display_name": "Python 3 (ipykernel)",
   "language": "python",
   "name": "python3"
  },
  "language_info": {
   "codemirror_mode": {
    "name": "ipython",
    "version": 3
   },
   "file_extension": ".py",
   "mimetype": "text/x-python",
   "name": "python",
   "nbconvert_exporter": "python",
   "pygments_lexer": "ipython3",
   "version": "3.10.1"
  }
 },
 "nbformat": 4,
 "nbformat_minor": 5
}
