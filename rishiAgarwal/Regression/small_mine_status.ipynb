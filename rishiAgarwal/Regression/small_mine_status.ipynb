{
 "cells": [
  {
   "cell_type": "code",
   "execution_count": 3,
   "id": "b7fdf4e9-4db1-450c-ae5b-9a060be81786",
   "metadata": {},
   "outputs": [],
   "source": [
    "from csv import reader,writer"
   ]
  },
  {
   "cell_type": "code",
   "execution_count": 4,
   "id": "7ddd0696-c68a-49cd-84db-02def324c526",
   "metadata": {
    "tags": []
   },
   "outputs": [],
   "source": [
    "# boundaries\n",
    "lon_min = 26.1324982\n",
    "lat_min = -10.5971392\n",
    "lon_max = 26.1725983\n",
    "lat_max = -10.5569179\n",
    "# header\n",
    "header_list = ['Mininum Longitude', 'Minimum Latitude', 'Maximum Longitude', 'Maximum Latitude', \\\n",
    "               'Percent Vegetation Loss', 'Percent Bare Initial', 'Percent Significant VH Values', \\\n",
    "               'Average NIR/G', 'Average SWIR1/B', 'NASA Elev', 'GEDI Elev', 'Elev Loss','GEDI Qual. Flag',\\\n",
    "               'B5 Value', 'B6 Value', 'NDMI', 'Center Lon', 'Center Lat','Elevation Score', \\\n",
    "               'Band Variation Score','Status']"
   ]
  },
  {
   "cell_type": "code",
   "execution_count": 5,
   "id": "b83b4b7e-f9c0-426d-98eb-38f491a436fb",
   "metadata": {},
   "outputs": [],
   "source": [
    "# Create a file of only squares within the given bounds\n",
    "with open('combined_csv_status.csv', 'r') as r, \\\n",
    "        open('reduced_26.13_26.17_-10.55_-10.59.csv', 'w', newline='') as w:\n",
    "    # Create a csv.reader object from the input file object\n",
    "    csv_reader = reader(r)\n",
    "    # Create a csv.writer object from the output file object\n",
    "    csv_writer = writer(w)\n",
    "    # Add header to output file, with status column\n",
    "    csv_writer.writerow(header_list)\n",
    "    # Skip Header in input file\n",
    "    header = next(csv_reader)\n",
    "    if header != None:\n",
    "        # Add rows with squares within the bounds to new file\n",
    "        for row in csv_reader:\n",
    "            if ((float(row[0]) >= lon_min) and (float(row[1]) >= lat_min) and (float(row[2]) <= lon_max) and (float(row[3]) <= lat_max)):\n",
    "                csv_writer.writerow(row)"
   ]
  },
  {
   "cell_type": "code",
   "execution_count": 6,
   "id": "09e25425-0bf5-4538-a87a-7889b887c3b0",
   "metadata": {},
   "outputs": [],
   "source": [
    "# Update the status to be pass = 1 and fail = 0\n",
    "with open('reduced_26.13_26.17_-10.55_-10.59.csv', 'r') as r, \\\n",
    "        open('reduced_26.13_26.17_-10.55_-10.59_fixed.csv', 'w', newline='') as w:\n",
    "    # Create a csv.reader object from the input file object\n",
    "    csv_reader = reader(r)\n",
    "    # Create a csv.writer object from the output file object\n",
    "    csv_writer = writer(w)\n",
    "    # Add header to output file, with status column\n",
    "    csv_writer.writerow(header_list)\n",
    "    # Skip Header in input file\n",
    "    header = next(csv_reader)\n",
    "    if header != None:\n",
    "        # Add rows with squares within the bounds to new file\n",
    "        for row in csv_reader:\n",
    "            if row[20]==\"Pass\":\n",
    "                row[20]=1\n",
    "            else:\n",
    "                row[20]=0\n",
    "            csv_writer.writerow(row)"
   ]
  },
  {
   "cell_type": "code",
   "execution_count": null,
   "id": "6fa51f15-f4db-455b-9156-9c39b632ceb2",
   "metadata": {},
   "outputs": [],
   "source": []
  }
 ],
 "metadata": {
  "kernelspec": {
   "display_name": "Python 3 (ipykernel)",
   "language": "python",
   "name": "python3"
  },
  "language_info": {
   "codemirror_mode": {
    "name": "ipython",
    "version": 3
   },
   "file_extension": ".py",
   "mimetype": "text/x-python",
   "name": "python",
   "nbconvert_exporter": "python",
   "pygments_lexer": "ipython3",
   "version": "3.7.11"
  }
 },
 "nbformat": 4,
 "nbformat_minor": 5
}
