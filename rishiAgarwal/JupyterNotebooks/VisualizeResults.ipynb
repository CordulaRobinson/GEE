{
 "cells": [
  {
   "cell_type": "markdown",
   "id": "c4da65dd-8bcc-42a2-b5b8-afdb4ba8d2a8",
   "metadata": {},
   "source": [
    "<h3> Imports </h3>"
   ]
  },
  {
   "cell_type": "code",
   "execution_count": 1,
   "id": "2e86ebff-705f-45cb-82a7-798747fc8b32",
   "metadata": {},
   "outputs": [],
   "source": [
    "import ee\n",
    "import os\n",
    "import numpy as np\n",
    "import geemap\n",
    "ee.Initialize()"
   ]
  },
  {
   "cell_type": "code",
   "execution_count": 2,
   "id": "00f4b6d7-0d5e-478d-8956-9240ca0c58e6",
   "metadata": {},
   "outputs": [],
   "source": [
    "IPIS = ee.FeatureCollection(\"users/rishiAgarwal/Congo_Active_Mines\")\n",
    "s2 = ee.ImageCollection(\"COPERNICUS/S2_SR\")\n",
    "visualization = {\n",
    "    \"min\": 0,\n",
    "    \"max\": 0.3,\n",
    "    \"bands\": [\"B4\",\"B3\",\"B2\"]\n",
    "}\n",
    "visParams = {'color': 'blue'}\n",
    "# cloud mask sentinel\n",
    "def maskS2clouds(image):\n",
    "    qa = image.select('QA60')\n",
    "\n",
    "    cloudBitMask = 1 << 10\n",
    "    cirrusBitMask = 1 << 11\n",
    "\n",
    "    mask = qa.bitwiseAnd(cloudBitMask).eq(0).And(qa.bitwiseAnd(cirrusBitMask).eq(0))\n",
    "\n",
    "    return image.updateMask(mask).divide(10000).select(\"B.*\") \\\n",
    "        .copyProperties(image, [\"system:time_start\"])"
   ]
  },
  {
   "cell_type": "markdown",
   "id": "fb6ff485-6ee1-422e-9032-745491a8a1fc",
   "metadata": {},
   "source": [
    "<h3> Essential Functions </h3>"
   ]
  },
  {
   "cell_type": "code",
   "execution_count": 3,
   "id": "d8c9e0d2-ca86-4987-9a7d-1454389b9f7f",
   "metadata": {},
   "outputs": [],
   "source": [
    "def convertToFeatureCollection(csv):\n",
    "    points = np.genfromtxt(csv, delimiter=',', skip_header=1)\n",
    "    feature_array = points\n",
    "    region_list = []\n",
    "    for row in feature_array:\n",
    "        region = ee.Geometry.Polygon([[[float(row[0]), float(row[3])],\n",
    "                                      [float(row[0]), float(row[1])],\n",
    "                                      [float(row[2]), float(row[1])],\n",
    "                                      [float(row[2]), float(row[3])]]])\n",
    "        f = ee.Feature(region).set('elevation score', float(row[17])).set('band score', float(row[18]))\n",
    "        region_list.append(f)\n",
    "\n",
    "    # Wrap feature list in a Feature Collection\n",
    "    fc = ee.FeatureCollection(region_list)\n",
    "    return fc"
   ]
  },
  {
   "cell_type": "code",
   "execution_count": 4,
   "id": "18a59ca1-cb0b-4731-9dab-5ff4d11ba7da",
   "metadata": {},
   "outputs": [],
   "source": [
    "def visArea(min_lon, max_lon, max_lat, min_lat):\n",
    "    Map = geemap.Map()\n",
    "    area = ee.Geometry.Rectangle(min_lon, min_lat, max_lon, max_lat)\n",
    "    filtered = s2 \\\n",
    "    .filter(ee.Filter.bounds(area)) \\\n",
    "    .filter(ee.Filter.date('2021-01-01', '2021-12-31')) \\\n",
    "    .filter(ee.Filter.lt('CLOUDY_PIXEL_PERCENTAGE',20)) \\\n",
    "    .map(maskS2clouds) \\\n",
    "    .select('B.*')\n",
    "    composite = filtered.median().clip(area)\n",
    "    return composite"
   ]
  },
  {
   "cell_type": "code",
   "execution_count": 5,
   "id": "5b62be1d-d6b4-4f6a-a229-f0215263538e",
   "metadata": {},
   "outputs": [],
   "source": [
    "def nearestNeighbor(result_filepath, ipis_dataset):\n",
    "    os.system('python3 nearest_neighbors.py ' + result_filepath + ' ' + ipis_dataset)"
   ]
  },
  {
   "cell_type": "markdown",
   "id": "466b97c3-346b-4df9-8409-cf8b10bc1d1d",
   "metadata": {},
   "source": [
    "<h3> CSVs Filepaths </h3>"
   ]
  },
  {
   "cell_type": "code",
   "execution_count": 6,
   "id": "0dceb433-49dc-4140-b759-ec5ab58b3218",
   "metadata": {},
   "outputs": [],
   "source": [
    "r_26_n7 = \"/scratch/agarwal.rishi/bigRegion_csvs/passing/26_-7_passing.csv\"\n",
    "r_26_n8 = \"/scratch/agarwal.rishi/bigRegion_csvs/passing/26_-8_passing.csv\"\n",
    "r_27_n7 = \"/scratch/agarwal.rishi/bigRegion_csvs/passing/27_-7_passing.csv\"\n",
    "r_27_n8 = \"/scratch/agarwal.rishi/bigRegion_csvs/passing/27_-8_passing.csv\"\n",
    "r_28_n7 = \"/scratch/agarwal.rishi/bigRegion_csvs/passing/28_-7_passing.csv\"\n",
    "r_28_n8 = \"/scratch/agarwal.rishi/bigRegion_csvs/passing/28_-8_passing.csv\"\n",
    "r_29_n7 = \"/scratch/agarwal.rishi/bigRegion_csvs/passing/29_-7_passing.csv\"\n",
    "r_29_n8 = \"/scratch/agarwal.rishi/bigRegion_csvs/passing/29_-8_passing.csv\"\n",
    "big_region_2575_n15 = \"/scratch/agarwal.rishi/GEE/rishiAgarwal/Jobs/final/Visualize/compiled_25.75_-1.5_passing.csv\"\n",
    "big_region_2575_n25 = \"/scratch/agarwal.rishi/GEE/rishiAgarwal/Jobs/final/Visualize/compiled_25.75_-2.5_passing.csv\"\n",
    "r_highres_ray = \"/scratch/agarwal.rishi/bigRegion_csvs/passing/highres_ray_passing.csv\""
   ]
  },
  {
   "cell_type": "markdown",
   "id": "81b467d2-1b77-47bf-b07a-9c0f0bc38f94",
   "metadata": {},
   "source": [
    "<h3> Ipis Dataset Filepaths </h3>"
   ]
  },
  {
   "cell_type": "code",
   "execution_count": 7,
   "id": "5a154645-fac1-4ff1-9bed-e3f593c59e52",
   "metadata": {},
   "outputs": [],
   "source": [
    "ipis_26_n7 = \"Ipis_datasets/ipis_26_-7.csv\"\n",
    "ipis_26_n8 = \"Ipis_datasets/ipis_26_-8.csv\"\n",
    "ipis_27_n7 = \"Ipis_datasets/ipis_27_-7.csv\"\n",
    "ipis_27_n8 = \"Ipis_datasets/ipis_27_-8.csv\"\n",
    "ipis_28_n7 = \"Ipis_datasets/ipis_28_-7.csv\"\n",
    "ipis_28_n8 = \"Ipis_datasets/ipis_28_-8.csv\"\n",
    "ipis_29_n7 = \"Ipis_datasets/ipis_29_-7.csv\"\n",
    "ipis_29_n8 = \"Ipis_datasets/ipis_29_-8.csv\""
   ]
  },
  {
   "cell_type": "markdown",
   "id": "3fb312d5-9fff-427e-a0a4-dfea3f482257",
   "metadata": {
    "tags": []
   },
   "source": [
    "<h3> Visualizations </h3>"
   ]
  },
  {
   "cell_type": "code",
   "execution_count": 11,
   "id": "3eed9092-7ca0-4f94-bd8e-e921ebe1fb50",
   "metadata": {},
   "outputs": [
    {
     "data": {
      "application/vnd.jupyter.widget-view+json": {
       "model_id": "4c3f5cdc074741328ace07ac32228916",
       "version_major": 2,
       "version_minor": 0
      },
      "text/plain": [
       "Map(center=[-0.9998095084397712, 26.249999999999975], controls=(WidgetControl(options=['position', 'transparen…"
      ]
     },
     "metadata": {},
     "output_type": "display_data"
    }
   ],
   "source": [
    "table = convertToFeatureCollection(big_region_2575_n15)\n",
    "table_2 = convertToFeatureCollection(big_region_2575_n25)\n",
    "composite = visArea(25.75, 26.75, -2.5, 0.5)\n",
    "Map = geemap.Map()\n",
    "Map.addLayer(composite, visualization, 'Composite Image')\n",
    "Map.addLayer(IPIS, visParams, \"mines\", opacity=1)\n",
    "Map.addLayer(table, {'color': 'red'}, \"Passing regions red\", opacity=1)\n",
    "Map.addLayer(table_2, {'color': 'green'}, \"Passing regions green\", opacity=1)\n",
    "Map.centerObject(composite, 9)\n",
    "Map\n"
   ]
  },
  {
   "cell_type": "markdown",
   "id": "787936f5-e65b-4488-ae96-d7bf71d20ea8",
   "metadata": {},
   "source": [
    "<h3> Nearest Neighbor Information </h3>"
   ]
  },
  {
   "cell_type": "code",
   "execution_count": 13,
   "id": "8c2d60df-8cc9-4995-b974-f6a96bd14abf",
   "metadata": {},
   "outputs": [
    {
     "name": "stdout",
     "output_type": "stream",
     "text": [
      "% within 1km of a mapbox point: 0.0\n",
      "% within 5km of a mapbox point: 0.0\n",
      "% within 10km of a mapbox point: 10.81081081081081\n"
     ]
    }
   ],
   "source": [
    "nearestNeighbor(r_26_n8, ipis_26_n8)"
   ]
  },
  {
   "cell_type": "code",
   "execution_count": null,
   "id": "60713503-c1ca-40af-b5b3-d03cfd466da2",
   "metadata": {},
   "outputs": [],
   "source": []
  }
 ],
 "metadata": {
  "kernelspec": {
   "display_name": "Python 3 (ipykernel)",
   "language": "python",
   "name": "python3"
  },
  "language_info": {
   "codemirror_mode": {
    "name": "ipython",
    "version": 3
   },
   "file_extension": ".py",
   "mimetype": "text/x-python",
   "name": "python",
   "nbconvert_exporter": "python",
   "pygments_lexer": "ipython3",
   "version": "3.7.11"
  }
 },
 "nbformat": 4,
 "nbformat_minor": 5
}
