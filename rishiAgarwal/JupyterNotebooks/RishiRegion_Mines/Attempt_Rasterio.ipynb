{
 "cells": [
  {
   "cell_type": "code",
   "execution_count": 1,
   "id": "c7560ece-54d8-4226-9830-e8617d1af54c",
   "metadata": {},
   "outputs": [],
   "source": [
    "import rasterio\n",
    "import rasterio.plot\n",
    "import numpy as np\n",
    "import matplotlib.pyplot as plt\n",
    "import cartopy.crs as ccrs\n",
    "import cartopy.feature as cf\n",
    "from csv import reader"
   ]
  },
  {
   "cell_type": "code",
   "execution_count": 2,
   "id": "c41a4f50-9ee0-4d19-bfb2-419d0d56af28",
   "metadata": {},
   "outputs": [
    {
     "ename": "FileNotFoundError",
     "evalue": "[Errno 2] No such file or directory: 'results_csv/all_regions.csv'",
     "output_type": "error",
     "traceback": [
      "\u001b[0;31m---------------------------------------------------------------------------\u001b[0m",
      "\u001b[0;31mFileNotFoundError\u001b[0m                         Traceback (most recent call last)",
      "\u001b[0;32m/tmp/ipykernel_19137/2559096116.py\u001b[0m in \u001b[0;36m<module>\u001b[0;34m\u001b[0m\n\u001b[1;32m     47\u001b[0m \u001b[0;31m# File: results_csv/all_regions.csv\u001b[0m\u001b[0;34m\u001b[0m\u001b[0;34m\u001b[0m\u001b[0;34m\u001b[0m\u001b[0m\n\u001b[1;32m     48\u001b[0m \u001b[0;31m# Or, for passing regions only, results_csv/all_regions_passing.csv\u001b[0m\u001b[0;34m\u001b[0m\u001b[0;34m\u001b[0m\u001b[0;34m\u001b[0m\u001b[0m\n\u001b[0;32m---> 49\u001b[0;31m \u001b[0mimages\u001b[0m \u001b[0;34m=\u001b[0m \u001b[0mimages_prep\u001b[0m\u001b[0;34m(\u001b[0m\u001b[0;34m'results_csv/all_regions.csv'\u001b[0m\u001b[0;34m)\u001b[0m\u001b[0;34m\u001b[0m\u001b[0;34m\u001b[0m\u001b[0m\n\u001b[0m\u001b[1;32m     50\u001b[0m \u001b[0;34m\u001b[0m\u001b[0m\n\u001b[1;32m     51\u001b[0m \u001b[0;31m# Map each image in the list onto the projection\u001b[0m\u001b[0;34m\u001b[0m\u001b[0;34m\u001b[0m\u001b[0;34m\u001b[0m\u001b[0m\n",
      "\u001b[0;32m/tmp/ipykernel_19137/2559096116.py\u001b[0m in \u001b[0;36mimages_prep\u001b[0;34m(file_name)\u001b[0m\n\u001b[1;32m     15\u001b[0m \u001b[0;32mdef\u001b[0m \u001b[0mimages_prep\u001b[0m\u001b[0;34m(\u001b[0m\u001b[0mfile_name\u001b[0m\u001b[0;34m)\u001b[0m\u001b[0;34m:\u001b[0m\u001b[0;34m\u001b[0m\u001b[0;34m\u001b[0m\u001b[0m\n\u001b[1;32m     16\u001b[0m     \u001b[0mimage_list\u001b[0m \u001b[0;34m=\u001b[0m \u001b[0;34m[\u001b[0m\u001b[0;34m]\u001b[0m\u001b[0;34m\u001b[0m\u001b[0;34m\u001b[0m\u001b[0m\n\u001b[0;32m---> 17\u001b[0;31m     \u001b[0;32mwith\u001b[0m \u001b[0mopen\u001b[0m\u001b[0;34m(\u001b[0m\u001b[0mfile_name\u001b[0m\u001b[0;34m,\u001b[0m \u001b[0;34m'r'\u001b[0m\u001b[0;34m)\u001b[0m \u001b[0;32mas\u001b[0m \u001b[0mread_obj\u001b[0m\u001b[0;34m:\u001b[0m\u001b[0;34m\u001b[0m\u001b[0;34m\u001b[0m\u001b[0m\n\u001b[0m\u001b[1;32m     18\u001b[0m         \u001b[0mcsv_reader\u001b[0m \u001b[0;34m=\u001b[0m \u001b[0mreader\u001b[0m\u001b[0;34m(\u001b[0m\u001b[0mread_obj\u001b[0m\u001b[0;34m)\u001b[0m\u001b[0;34m\u001b[0m\u001b[0;34m\u001b[0m\u001b[0m\n\u001b[1;32m     19\u001b[0m         \u001b[0;31m# Skip Header\u001b[0m\u001b[0;34m\u001b[0m\u001b[0;34m\u001b[0m\u001b[0;34m\u001b[0m\u001b[0m\n",
      "\u001b[0;31mFileNotFoundError\u001b[0m: [Errno 2] No such file or directory: 'results_csv/all_regions.csv'"
     ]
    },
    {
     "data": {
      "image/png": "[encoded data removed]",
      "text/plain": [
       "<Figure size 1152x648 with 1 Axes>"
      ]
     },
     "metadata": {
      "needs_background": "light"
     },
     "output_type": "display_data"
    }
   ],
   "source": [
    "geod = ccrs.Geodetic()\n",
    "# Google earth engine uses Mercator while S2 uses UTM, both look accurate, but Mercator is easier to use because of the zone restrictions in UTM\n",
    "proj = ccrs.Mercator(central_longitude=0.0, min_latitude=-80.0, max_latitude=84.0, globe=None, latitude_true_scale=0.0)\n",
    "plt.figure(figsize=(16,9))\n",
    "# Entire eastern half of DRC - Mercator\n",
    "#ease_extent = [2500000., 3500000., -1500000., 600000.]\n",
    "# Zoomed in - Mercator\n",
    "ease_extent = [3200000., 3500000., 300000., 500000.]\n",
    "\n",
    "# Set projection and boundaries\n",
    "ax = plt.axes(projection=proj)\n",
    "ax.set_extent(ease_extent, crs=proj)\n",
    "\n",
    "# Create a list of all the Geotiffs corresponding to rows in the give CSV file (file_name)\n",
    "def images_prep(file_name):\n",
    "    image_list = []\n",
    "    with open(file_name, 'r') as read_obj:\n",
    "        csv_reader = reader(read_obj)\n",
    "        # Skip Header\n",
    "        header = next(csv_reader)\n",
    "        if header != None:\n",
    "        # Iterate over each row after the header in the csv\n",
    "            for row in csv_reader:\n",
    "                tiff = rasterio.open('/scratch/nason.e/gee/region_geotiffs/region_'+str(row[0])[:15]+'_'+str(row[1])[:15]+'_'+str(row[2])[:15]+'_'+str(row[3])[:15]+'.tif')\n",
    "                b = tiff.bounds\n",
    "                im = tiff.read()\n",
    "                im = np.transpose(im, [1,2,0])\n",
    "                maxValue = np.amax(im)\n",
    "                im = im/np.amax(im)\n",
    "                im = np.clip(im, 0, 1)\n",
    "                image_list.append((im, b))\n",
    "    return image_list\n",
    "\n",
    "# Get the bounds for a given image\n",
    "def image_bounds(im_single):\n",
    "    xul, yul = proj.transform_point(\n",
    "        x = im_single[0],\n",
    "        y = im_single[1],\n",
    "        src_crs = geod)\n",
    "    xlr, ylr = proj.transform_point(\n",
    "        x = im_single[2],\n",
    "        y = im_single[3],\n",
    "        src_crs = geod)\n",
    "    extent = [xul, xlr, yul, ylr]\n",
    "    return extent\n",
    "\n",
    "# File: results_csv/all_regions.csv\n",
    "# Or, for passing regions only, results_csv/all_regions_passing.csv\n",
    "images = images_prep('results_csv/all_regions.csv')\n",
    "\n",
    "# Map each image in the list onto the projection\n",
    "for image, b in images:\n",
    "    ax.imshow(image, extent=image_bounds(b), transform=proj, origin='upper')\n",
    "\n",
    "# Set gridlines, country borders, coastlines, title\n",
    "ax.gridlines(color='gray', linestyle='--')\n",
    "ax.coastlines()\n",
    "ax.add_feature(cf.BORDERS)\n",
    "plt.title('RGB.byte.tif')\n",
    "# Clip images to fit projected region\n",
    "plt.tight_layout()"
   ]
  },
  {
   "cell_type": "code",
   "execution_count": null,
   "id": "3375b22d-2dd0-40e3-8066-2bc3d0dd0b72",
   "metadata": {},
   "outputs": [],
   "source": []
  },
  {
   "cell_type": "code",
   "execution_count": null,
   "id": "51116741-5c97-411e-99f8-6c8be92f0853",
   "metadata": {},
   "outputs": [],
   "source": []
  }
 ],
 "metadata": {
  "kernelspec": {
   "display_name": "Python 3 (ipykernel)",
   "language": "python",
   "name": "python3"
  },
  "language_info": {
   "codemirror_mode": {
    "name": "ipython",
    "version": 3
   },
   "file_extension": ".py",
   "mimetype": "text/x-python",
   "name": "python",
   "nbconvert_exporter": "python",
   "pygments_lexer": "ipython3",
   "version": "3.7.11"
  }
 },
 "nbformat": 4,
 "nbformat_minor": 5
}
