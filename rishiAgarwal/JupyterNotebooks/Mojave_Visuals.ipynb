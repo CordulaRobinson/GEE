{
 "cells": [
  {
   "cell_type": "code",
   "execution_count": 70,
   "id": "8541407b-15b4-4db8-be92-56c17dfdc3a8",
   "metadata": {},
   "outputs": [],
   "source": [
    "import ee\n",
    "import geemap\n",
    "import math\n",
    "ee.Initialize()"
   ]
  },
  {
   "cell_type": "markdown",
   "id": "5586ef4c-cebe-4adc-ae60-b3df6a790cbc",
   "metadata": {},
   "source": [
    "<h3> Imports </h3>"
   ]
  },
  {
   "cell_type": "markdown",
   "id": "6f9dc4f6-060e-4ba7-aa42-5eda4edaf52a",
   "metadata": {},
   "source": [
    "<h4> Satellites </h4>"
   ]
  },
  {
   "cell_type": "code",
   "execution_count": 71,
   "id": "98030da4-95b6-4279-87f4-99909ae74c55",
   "metadata": {},
   "outputs": [],
   "source": [
    "ls5 = ee.ImageCollection('LANDSAT/LT05/C02/T1_L2')\n",
    "s2 = ee.ImageCollection(\"COPERNICUS/S2_SR\")\n",
    "admin = ee.FeatureCollection(\"FAO/GAUL/2015/level0\")\n",
    "active_mines = ee.FeatureCollection(\"users/rishiAgarwal/Congo_Active_Mines\")\n",
    "s1 = ee.ImageCollection('COPERNICUS/S1_GRD')"
   ]
  },
  {
   "cell_type": "markdown",
   "id": "10170918-2b09-4a86-8651-6f3ef37c8bad",
   "metadata": {},
   "source": [
    "<h4> Regions </h4>"
   ]
  },
  {
   "cell_type": "code",
   "execution_count": 72,
   "id": "a9ebf7ee-a1c2-4ba5-87b4-ccd546713915",
   "metadata": {},
   "outputs": [],
   "source": [
    "rayroi1 = ee.Geometry.Polygon(\n",
    "        [[[29.554129272985683, 3.1591674847348235],\n",
    "          [29.554129272985683, 3.092319151883147],\n",
    "          [29.625197083044277, 3.092319151883147],\n",
    "          [29.625197083044277, 3.1591674847348235]]])\n",
    "\n",
    "focus = ee.Geometry.Polygon(\n",
    "        [[[27.350233348102517, -7.518171474050515],\n",
    "          [27.350233348102517, -7.57841301205225],\n",
    "          [27.436407359332986, -7.57841301205225],\n",
    "          [27.436407359332986, -7.518171474050515]]])\n",
    "\n",
    "mojave =  ee.Geometry.Polygon(\n",
    "        [[[-115.84385025950016, 35.379488360140314],\n",
    "          [-115.84385025950016, 34.88081647081126],\n",
    "          [-115.06931412668766, 34.88081647081126],\n",
    "          [-115.06931412668766, 35.379488360140314]]])\n",
    "\n",
    "mojave_dune = ee.Geometry.Polygon(\n",
    "        [[[-115.79921830149235, 34.96245221413457],\n",
    "          [-115.79921830149235, 34.87968989287862],\n",
    "          [-115.68798172922672, 34.87968989287862],\n",
    "          [-115.68798172922672, 34.96245221413457]]])\n",
    "\n",
    "mojave_mountain = ee.Geometry.Polygon(\n",
    "        [[[-115.4054453979533, 35.29652411680181],\n",
    "          [-115.4054453979533, 35.207368097457156],\n",
    "          [-115.25301009521894, 35.207368097457156],\n",
    "          [-115.25301009521894, 35.29652411680181]]]);"
   ]
  },
  {
   "cell_type": "markdown",
   "id": "d74520df-51f1-4fa1-baf2-f62fd78132c8",
   "metadata": {},
   "source": [
    "<h4> Visuzalitaions </h4>"
   ]
  },
  {
   "cell_type": "code",
   "execution_count": 73,
   "id": "3b9fca53-486e-420c-9696-27a79b2af53e",
   "metadata": {},
   "outputs": [],
   "source": [
    "rgb_vis_ls5 = {\n",
    "    'bands': ['SR_B3', 'SR_B2', 'SR_B1'],\n",
    "    'min': 0.0,\n",
    "    'max': 0.3,\n",
    "}\n",
    "\n",
    "rgb_vis_s2 = {\n",
    "  'min': 0.0,\n",
    "  'max': 3000,\n",
    "  'bands': ['B4', 'B3', 'B2'],\n",
    "}\n",
    "\n",
    "rgb_vis_s2_scaled = {\n",
    "  'min': 0.0,\n",
    "  'max': 0.3,\n",
    "  'bands': ['B4', 'B3', 'B2']\n",
    "}\n",
    "\n",
    "vvVis = {\n",
    "    'opacity': 1,\n",
    "    'bands': [\"VV\"],\n",
    "    'min': -13.375350094403828,\n",
    "    'max': -3.6299557970059952,\n",
    "    'gamma': 1\n",
    "}\n",
    "\n",
    "vhVis = {\n",
    "    'opacity': 1,\n",
    "    'bands': [\"VH\"],\n",
    "    'min': -21.945806268850372,\n",
    "    'max': -10.8330283399149,\n",
    "    'gamma': 1\n",
    "}"
   ]
  },
  {
   "cell_type": "markdown",
   "id": "8ebc79e0-f1ab-4d4c-b249-fc3e4ccb7f5e",
   "metadata": {
    "tags": []
   },
   "source": [
    "<h4> Classification Points </h4>"
   ]
  },
  {
   "cell_type": "code",
   "execution_count": 74,
   "id": "575da574-0724-4cb0-8317-c4877efbd82b",
   "metadata": {},
   "outputs": [],
   "source": [
    "bare = ee.FeatureCollection(\n",
    "        [ee.Feature(\n",
    "            ee.Geometry.Point([29.566649352977876, 3.131936594576548]),\n",
    "            {\n",
    "              \"landcover\": 0,\n",
    "              \"system:index\": \"0\"\n",
    "            }),\n",
    "        ee.Feature(\n",
    "            ee.Geometry.Point([29.594069479589553, 3.143136886698536]),\n",
    "            {\n",
    "              \"landcover\": 0,\n",
    "              \"system:index\": \"1\"\n",
    "            }),\n",
    "        ee.Feature(\n",
    "            ee.Geometry.Point([29.578229613742543, 3.109209943820683]),\n",
    "            {\n",
    "              \"landcover\": 0,\n",
    "              \"system:index\": \"2\"\n",
    "            }),\n",
    "        ee.Feature(\n",
    "            ee.Geometry.Point([29.581158585986806, 3.1067030888196494]),\n",
    "            {\n",
    "              \"landcover\": 0,\n",
    "              \"system:index\": \"3\"\n",
    "            }),\n",
    "        ee.Feature(\n",
    "            ee.Geometry.Point([29.55884031463487, 3.11517956941471]),\n",
    "            {\n",
    "              \"landcover\": 0,\n",
    "              \"system:index\": \"4\"\n",
    "            })])\n",
    "\n",
    "vegetation = ee.FeatureCollection(\n",
    "        [ee.Feature(\n",
    "            ee.Geometry.Point([29.581819366025293, 3.132088091449441]),\n",
    "            {\n",
    "              \"landcover\": 1,\n",
    "              \"system:index\": \"0\"\n",
    "            }),\n",
    "        ee.Feature(\n",
    "            ee.Geometry.Point([29.595938514279688, 3.131445322675145]),\n",
    "            {\n",
    "              \"landcover\": 1,\n",
    "              \"system:index\": \"1\"\n",
    "            }),\n",
    "        ee.Feature(\n",
    "            ee.Geometry.Point([29.59962923388418, 3.1347448648629315]),\n",
    "            {\n",
    "              \"landcover\": 1,\n",
    "              \"system:index\": \"2\"\n",
    "            }),\n",
    "        ee.Feature(\n",
    "            ee.Geometry.Point([29.565039466428125, 3.104877202480009]),\n",
    "            {\n",
    "              \"landcover\": 1,\n",
    "              \"system:index\": \"3\"\n",
    "            }),\n",
    "        ee.Feature(\n",
    "            ee.Geometry.Point([29.607741346488673, 3.1193612914096605]),\n",
    "            {\n",
    "              \"landcover\": 1,\n",
    "              \"system:index\": \"4\"\n",
    "            })])"
   ]
  },
  {
   "cell_type": "code",
   "execution_count": 75,
   "id": "745fbc41-6419-4ca0-ad49-39c1ec11e31c",
   "metadata": {},
   "outputs": [],
   "source": [
    "bare_s = ee.FeatureCollection(\n",
    "        [ee.Feature(\n",
    "            ee.Geometry.Point([29.588761955782978, 3.110552597531067]),\n",
    "            {\n",
    "              \"landcover\": 0,\n",
    "              \"system:index\": \"0\"\n",
    "            }),\n",
    "        ee.Feature(\n",
    "            ee.Geometry.Point([29.590113789126484, 3.1101669284095776]),\n",
    "            {\n",
    "              \"landcover\": 0,\n",
    "              \"system:index\": \"1\"\n",
    "            }),\n",
    "        ee.Feature(\n",
    "            ee.Geometry.Point([29.570400011069342, 3.114240974803364]),\n",
    "            {\n",
    "              \"landcover\": 0,\n",
    "              \"system:index\": \"2\"\n",
    "            }),\n",
    "        ee.Feature(\n",
    "            ee.Geometry.Point([29.56574369621949, 3.114048140935224]),\n",
    "            {\n",
    "              \"landcover\": 0,\n",
    "              \"system:index\": \"3\"\n",
    "            }),\n",
    "        ee.Feature(\n",
    "            ee.Geometry.Point([29.566300979571633, 3.1296952794920045]),\n",
    "            {\n",
    "              \"landcover\": 0,\n",
    "              \"system:index\": \"4\"\n",
    "            })])\n",
    "\n",
    "vegetation_s = ee.FeatureCollection(\n",
    "        [ee.Feature(\n",
    "            ee.Geometry.Point([29.61279975505381, 3.134623171579494]),\n",
    "            {\n",
    "              \"landcover\": 1,\n",
    "              \"system:index\": \"0\"\n",
    "            }),\n",
    "        ee.Feature(\n",
    "            ee.Geometry.Point([29.620696178393654, 3.1514206812868597]),\n",
    "            {\n",
    "              \"landcover\": 1,\n",
    "              \"system:index\": \"1\"\n",
    "            }),\n",
    "        ee.Feature(\n",
    "            ee.Geometry.Point([29.60730659099131, 3.15656272195781]),\n",
    "            {\n",
    "              \"landcover\": 1,\n",
    "              \"system:index\": \"2\"\n",
    "            }),\n",
    "        ee.Feature(\n",
    "            ee.Geometry.Point([29.609366527514748, 3.1041127202608414]),\n",
    "            {\n",
    "              \"landcover\": 1,\n",
    "              \"system:index\": \"3\"\n",
    "            }),\n",
    "        ee.Feature(\n",
    "            ee.Geometry.Point([29.561301341967873, 3.0982847807562592]),\n",
    "            {\n",
    "              \"landcover\": 1,\n",
    "              \"system:index\": \"4\"\n",
    "            })])"
   ]
  },
  {
   "cell_type": "markdown",
   "id": "a99c64c4-d412-48bd-8761-e23515240040",
   "metadata": {
    "tags": []
   },
   "source": [
    "<h3> Cloud Masking Functions </h3>"
   ]
  },
  {
   "cell_type": "code",
   "execution_count": 76,
   "id": "7bfa12d3-a4f5-4147-be47-b66e85657917",
   "metadata": {},
   "outputs": [],
   "source": [
    "# cloud mask landsat\n",
    "def maskL457sr(image):\n",
    "    qaMask = image.select('QA_PIXEL').bitwiseAnd(int('11111', 2)).eq(0)\n",
    "    saturationMask = image.select('QA_RADSAT').eq(0)\n",
    "\n",
    "    opticalBands = image.select('SR_B.').multiply(0.0000275).add(-0.2)\n",
    "\n",
    "    return image.addBands(opticalBands, None, True) \\\n",
    "        .updateMask(qaMask) \\\n",
    "        .updateMask(saturationMask)"
   ]
  },
  {
   "cell_type": "code",
   "execution_count": 77,
   "id": "ae20f699-0745-4ca3-9290-05216d7586ee",
   "metadata": {},
   "outputs": [],
   "source": [
    "# cloud mask sentinel\n",
    "def maskS2clouds(image):\n",
    "    qa = image.select('QA60')\n",
    "\n",
    "    cloudBitMask = 1 << 10\n",
    "    cirrusBitMask = 1 << 11\n",
    "\n",
    "    mask = qa.bitwiseAnd(cloudBitMask).eq(0).And(qa.bitwiseAnd(cirrusBitMask).eq(0))\n",
    "\n",
    "    return image.updateMask(mask).divide(10000).select(\"B.*\") \\\n",
    "        .copyProperties(image, [\"system:time_start\"])"
   ]
  },
  {
   "cell_type": "markdown",
   "id": "3b6b0905-dda1-4ac2-ae21-83abc3fb4141",
   "metadata": {
    "tags": []
   },
   "source": [
    "<h3> Training the Classifier </h3>"
   ]
  },
  {
   "cell_type": "code",
   "execution_count": 78,
   "id": "4fe09ad6-9639-4eb5-a2e4-e803fc8b25a3",
   "metadata": {},
   "outputs": [],
   "source": [
    "training = bare.merge(vegetation)\n",
    "\n",
    "composite1985 = ls5 \\\n",
    "        .filter(ee.Filter.bounds(rayroi1)) \\\n",
    "        .filter(ee.Filter.date('1985-01-01', '1986-01-01')) \\\n",
    "        .filter(ee.Filter.lt('CLOUD_COVER', 20)) \\\n",
    "        .map(maskL457sr) \\\n",
    "        .select('SR_B.*') \\\n",
    "        .median() \\\n",
    "        .clip(rayroi1)\n",
    "\n",
    "# Overlay the point on the image to get training data.\n",
    "training = composite1985.sampleRegions(**{\n",
    "  'collection': training,\n",
    "  'properties': ['landcover'],\n",
    "  'scale': 1\n",
    "})\n",
    "\n",
    "# Train a classifier.\n",
    "classifier_ls = ee.Classifier.smileRandomForest(50).train(**{\n",
    "  'features': training,\n",
    "  'classProperty': 'landcover',\n",
    "  'inputProperties': composite1985.bandNames()\n",
    "})\n",
    "\n",
    "# Classify the image.\n",
    "classified = composite1985.classify(classifier_ls)"
   ]
  },
  {
   "cell_type": "code",
   "execution_count": 79,
   "id": "bfbbca14-7584-420d-a3e6-2de63303f954",
   "metadata": {},
   "outputs": [],
   "source": [
    "training = bare_s.merge(vegetation_s)\n",
    "\n",
    "composite2021 = s2 \\\n",
    "        .filter(ee.Filter.bounds(rayroi1)) \\\n",
    "        .filter(ee.Filter.date('2021-01-01', '2021-12-31')) \\\n",
    "        .filter(ee.Filter.lt('CLOUDY_PIXEL_PERCENTAGE', 20)) \\\n",
    "        .map(maskS2clouds) \\\n",
    "        .select('B.*') \\\n",
    "        .median() \\\n",
    "        .clip(rayroi1) \\\n",
    "\n",
    "# Overlay the point on the image to get training data.\n",
    "training = composite2021.sampleRegions(**{\n",
    "  'collection': training,\n",
    "  'properties': ['landcover'],\n",
    "  'scale': 1\n",
    "})\n",
    "\n",
    "# Train a classifier.\n",
    "classifier_s2 = ee.Classifier.smileRandomForest(50).train(**{\n",
    "  'features': training,\n",
    "  'classProperty': 'landcover',\n",
    "  'inputProperties': composite2021.bandNames()\n",
    "})\n",
    "\n",
    "# Classify the image.\n",
    "classified = composite2021.classify(classifier_s2)\n",
    "\n",
    "# Map.addLayer(classified,\n",
    "#   {'min': 0, 'max': 1, 'palette': ['brown', 'green']}, '2021 S2 Classified')\n",
    "\n",
    "# Map"
   ]
  },
  {
   "cell_type": "markdown",
   "id": "b6647636-4950-4ed0-9667-aa31b1b68543",
   "metadata": {},
   "source": [
    "<h3> Classification Visuals </h3>"
   ]
  },
  {
   "cell_type": "markdown",
   "id": "41c09009-efb6-4f0f-b7ab-2ef39046a215",
   "metadata": {},
   "source": [
    "<h4> Dune Visual </h4>"
   ]
  },
  {
   "cell_type": "code",
   "execution_count": 80,
   "id": "c81f32e1-8b93-46c9-b8b0-88a6091f6e11",
   "metadata": {},
   "outputs": [
    {
     "data": {
      "application/vnd.jupyter.widget-view+json": {
       "model_id": "8f7ea99ed1724cec91a53c989d15f2a3",
       "version_major": 2,
       "version_minor": 0
      },
      "text/plain": [
       "Map(center=[34.9210767689404, -115.74360001535851], controls=(WidgetControl(options=['position', 'transparent_…"
      ]
     },
     "metadata": {},
     "output_type": "display_data"
    }
   ],
   "source": [
    "Map = geemap.Map()\n",
    "Map.centerObject(mojave_dune,12)\n",
    "composite_mojave_dune_ls5 = ls5 \\\n",
    "        .filter(ee.Filter.bounds(mojave_dune)) \\\n",
    "        .filter(ee.Filter.date('1985-01-01', '1986-01-01')) \\\n",
    "        .filter(ee.Filter.lt('CLOUD_COVER', 20)) \\\n",
    "        .map(maskL457sr) \\\n",
    "        .select('SR_B.*') \\\n",
    "        .median() \\\n",
    "        .clip(mojave_dune)\n",
    "\n",
    "mojave_dune_ls5_classified = composite_mojave_dune_ls5.classify(classifier_ls)\n",
    "\n",
    "Map.addLayer(composite_mojave_dune_ls5, rgb_vis_ls5, \"Mojave Dune ls5\")\n",
    "Map.addLayer(mojave_dune_ls5_classified, {'min': 0, 'max': 1, 'palette': ['brown', 'green']}, 'Mojave Dune 1985 ls5 Classified')\n",
    "\n",
    "composite_mojave_dune_s2 = s2 \\\n",
    "        .filter(ee.Filter.bounds(mojave_dune)) \\\n",
    "        .filter(ee.Filter.date('2021-01-01', '2021-12-31')) \\\n",
    "        .filter(ee.Filter.lt('CLOUDY_PIXEL_PERCENTAGE', 20)) \\\n",
    "        .map(maskS2clouds) \\\n",
    "        .select('B.*') \\\n",
    "        .median() \\\n",
    "        .clip(mojave_dune) \\\n",
    "\n",
    "mojave_dune_s2_classified = composite_mojave_dune_s2.classify(classifier_s2)\n",
    "Map.addLayer(composite_mojave_dune_s2, rgb_vis_s2_scaled, \"Mojave Dune S2\")\n",
    "Map.addLayer(mojave_dune_s2_classified, {'min': 0, 'max': 1, 'palette': ['brown', 'green']}, 'Mojave Dune 2021 S2 Classified')\n",
    "\n",
    "Map"
   ]
  },
  {
   "cell_type": "markdown",
   "id": "78aaf82f-f6c4-42dd-94b8-29f6dd3c0682",
   "metadata": {},
   "source": [
    "<h3> NDMI Visuals </h3>"
   ]
  },
  {
   "cell_type": "markdown",
   "id": "3d7bdbb2-2e29-44bb-a0c3-b95346c8ef34",
   "metadata": {},
   "source": [
    "<h5> Function for Visualization given an Area </h5>"
   ]
  },
  {
   "cell_type": "code",
   "execution_count": 81,
   "id": "98c9f00b-7d32-40a0-bbf0-7c91d4b03b92",
   "metadata": {},
   "outputs": [],
   "source": [
    "def ndmiVis(area):\n",
    "    Map = geemap.Map()\n",
    "    Map.centerObject(area, 12)\n",
    "    composite_ls5 = ls5.filter(ee.Filter.bounds(area)).filter(ee.Filter.date('1985-01-01', '1986-01-01')).filter(ee.Filter.lt('CLOUD_COVER', 20)).map(maskL457sr).median().clip(area)\n",
    "    \n",
    "    ndmi_ls5 = composite_ls5.normalizedDifference(['SR_B4', 'SR_B5']).rename('ndmi')\n",
    "    \n",
    "    Map.addLayer(composite_ls5, rgb_vis_ls5, \"LS5\")\n",
    "    Map.addLayer(ndmi_ls5, {'min': -0.2, 'max': 0, 'palette': ['white', 'blue']}, 'LS5 NDMI')\n",
    "    \n",
    "    composite_s2 = s2.filter(ee.Filter.bounds(area)).filter(ee.Filter.date('2021-01-01', '2021-12-31')).filter(ee.Filter.lt('CLOUDY_PIXEL_PERCENTAGE', 20)).map(maskS2clouds).select('B.*').median().clip(area) \n",
    "\n",
    "    ndmi_s2 = composite_s2.normalizedDifference(['B8', 'B11']).rename('ndmi')\n",
    "    Map.addLayer(composite_s2, rgb_vis_s2_scaled, \"S2\")\n",
    "    Map.addLayer(ndmi_s2, {'min': -0.2, 'max': 0, 'palette': ['white', 'blue']}, 'S2 NDMI')\n",
    "\n",
    "    return Map"
   ]
  },
  {
   "cell_type": "code",
   "execution_count": 82,
   "id": "35cb8b2b-7262-4ee0-8f67-0ce98ff2c1e9",
   "metadata": {},
   "outputs": [
    {
     "data": {
      "application/vnd.jupyter.widget-view+json": {
       "model_id": "ff00243985cd409d89676b597db1ca39",
       "version_major": 2,
       "version_minor": 0
      },
      "text/plain": [
       "Map(center=[35.251961829793956, -115.32922774658562], controls=(WidgetControl(options=['position', 'transparen…"
      ]
     },
     "metadata": {},
     "output_type": "display_data"
    }
   ],
   "source": [
    "ndmiVis(mojave_mountain)"
   ]
  },
  {
   "cell_type": "markdown",
   "id": "46d112ac-b048-42eb-9644-d1508093aa85",
   "metadata": {
    "tags": []
   },
   "source": [
    "<h3> Divide Given Geometry to Specified Square Size (in Km) </h3>"
   ]
  },
  {
   "cell_type": "code",
   "execution_count": 83,
   "id": "0efd18c5-a460-4b5f-8ead-f63c5e7adfec",
   "metadata": {},
   "outputs": [],
   "source": [
    "\"\"\"\n",
    "Segment the given geometry into squares of given size (in km)\n",
    ":param geometry: rectangle form geometry object\n",
    ":return: list including all squares\n",
    "\"\"\"\n",
    "def create_segments(geometry, size):\n",
    "    segments = []\n",
    "    r_earth, dy, dx, pi = ee.Number(6378), ee.Number(size), ee.Number(size), ee.Number(math.pi)\n",
    "    \n",
    "    coords = ee.List(geometry.coordinates().get(0)).slice(0, -1)\n",
    "    \n",
    "    top = ee.Number(ee.List(coords.get(2)).get(1))\n",
    "    left = ee.Number(ee.List(coords.get(0)).get(0))\n",
    "    \n",
    "    width = int(ee.Geometry.Point(coords.get(0)).distance(ee.Geometry.Point(coords.get(1))).divide(1000 * size).getInfo())\n",
    "    height = int(ee.Geometry.Point(coords.get(1)).distance(ee.Geometry.Point(coords.get(2))).divide(1000 * size).getInfo())\n",
    "\n",
    "    for y in range(height + 1):\n",
    "        left = ee.Number(ee.List(coords.get(0)).get(0))\n",
    "        for x in range(width + 1):\n",
    "            #\n",
    "            first = top\n",
    "            second = dx.divide(r_earth)\n",
    "            third = ee.Number(180).divide(pi)\n",
    "            con = pi.divide(ee.Number(180))\n",
    "            fourth = left.multiply(con).multiply(con).cos()\n",
    "            \n",
    "            new_lon = first.subtract(second.multiply(third).divide(fourth))\n",
    "            #new_lon = top - (dx / r_earth) * (180 / pi) / math.cos(math.radians(left * pi/180))\n",
    "            #new_lat = left  + (dy / r_earth) * (180 / pi)\n",
    "            new_lat = left.add((dy.divide(r_earth)).multiply((ee.Number(180).divide(pi))))\n",
    "            \n",
    "            square = ee.Geometry.Polygon(\n",
    "                [[[left, new_lon],\n",
    "                  [new_lat, new_lon],\n",
    "                  [new_lat, top],\n",
    "                  [left, top]]])\n",
    "            \n",
    "            segments.append(square)\n",
    "            \n",
    "            left = new_lat\n",
    "        top = new_lon\n",
    "        \n",
    "    return segments"
   ]
  },
  {
   "cell_type": "markdown",
   "id": "490b3280-e778-4277-97d0-e1443e35fe93",
   "metadata": {},
   "source": [
    "<h2> Calculation Methods</h2>"
   ]
  },
  {
   "cell_type": "markdown",
   "id": "f4aee3f7-9151-4693-a7c7-ae09c038a9e6",
   "metadata": {
    "tags": []
   },
   "source": [
    "<h4> Calculate NDMI Loss in a Region </h4>"
   ]
  },
  {
   "cell_type": "code",
   "execution_count": 84,
   "id": "2261c74a-51e8-4b95-ba8e-8f008a529111",
   "metadata": {},
   "outputs": [],
   "source": [
    "def calculate_ndmi_loss(feature):\n",
    "    g = feature.geometry()\n",
    "    composite_ls = ls5 \\\n",
    "        .filter(ee.Filter.bounds(g)) \\\n",
    "        .filter(ee.Filter.date('1985-01-01', '1990-12-31')) \\\n",
    "        .filter(ee.Filter.lt('CLOUD_COVER', 20)) \\\n",
    "        .map(maskL457sr) \\\n",
    "        .select('SR_B.*') \\\n",
    "        .median() \\\n",
    "        .clip(g)\n",
    "    \n",
    "    composite_s2 = s2 \\\n",
    "        .filter(ee.Filter.bounds(g)) \\\n",
    "        .filter(ee.Filter.date('2021-01-01', '2021-12-31')) \\\n",
    "        .filter(ee.Filter.lt('CLOUDY_PIXEL_PERCENTAGE', 20)) \\\n",
    "        .map(maskS2clouds) \\\n",
    "        .select('B.*') \\\n",
    "        .median() \\\n",
    "        .clip(g) \\\n",
    "    \n",
    "    ndmi_ls = composite_ls.normalizedDifference(['SR_B4', 'SR_B5']).rename('ndmi_ls')\n",
    "    stats_ls = ndmi_ls.reduceRegion(**{\n",
    "        'reducer': ee.Reducer.mean(),\n",
    "        'geometry': g,\n",
    "        'scale': 100,\n",
    "        'maxPixels': 1e10\n",
    "    })\n",
    "    \n",
    "    ndmi_s2 = composite_s2.normalizedDifference(['B8', 'B11']).rename('ndmi_s2')\n",
    "    stats_s2 = ndmi_s2.reduceRegion(**{\n",
    "        'reducer': ee.Reducer.mean(),\n",
    "        'geometry': g,\n",
    "        'scale': 100,\n",
    "        'maxPixels': 1e10\n",
    "    })\n",
    "    \n",
    "    ndmi_loss = ee.Number(stats_ls.get('ndmi_ls')).subtract(ee.Number(stats_s2.get('ndmi_s2')))\n",
    "    \n",
    "    return feature.set('ndmi', ndmi_loss)"
   ]
  },
  {
   "cell_type": "markdown",
   "id": "b7f49dc8-2b99-48a3-a3a2-759b9b504960",
   "metadata": {},
   "source": [
    "<h2> Routine </h2>"
   ]
  },
  {
   "cell_type": "markdown",
   "id": "139348e9-c61d-4436-bc2a-4a698ef5d1dd",
   "metadata": {},
   "source": [
    "<h5> Creates Median Composites of given feature </h5>"
   ]
  },
  {
   "cell_type": "code",
   "execution_count": 85,
   "id": "0cdb5842-3814-4d5e-b1f4-b2c17375859b",
   "metadata": {},
   "outputs": [],
   "source": [
    "def create_median_composite(feature):\n",
    "    filtered = s2 \\\n",
    "        .filter(ee.Filter.bounds(feature.geometry())) \\\n",
    "        .filter(ee.Filter.date('2021-01-01', '2021-12-31')) \\\n",
    "        .filter(ee.Filter.lt('CLOUDY_PIXEL_PERCENTAGE', 20)) \\\n",
    "        .map(maskS2clouds) \\\n",
    "        .select('B.*')\n",
    "    \n",
    "    composite = filtered.median().clip(feature.geometry())\n",
    "    return composite"
   ]
  },
  {
   "cell_type": "markdown",
   "id": "8e75ecf2-442f-4946-919b-fd483d96bd20",
   "metadata": {},
   "source": [
    "<h5> Filtering the squares by loss in NDMI </h5>"
   ]
  },
  {
   "cell_type": "code",
   "execution_count": 92,
   "id": "78d1746d-97ef-4908-b4bf-ae59ead93214",
   "metadata": {},
   "outputs": [],
   "source": [
    "def filter_by_ndmi(squares, threshold_g, threshold_l):\n",
    "    with_ndmi = squares.map(calculate_ndmi_loss)\n",
    "    passed = with_ndmi.filter(ee.Filter.And(ee.Filter.gt('ndmi', threshold_g), ee.Filter.lt('ndmi', threshold_l)))\n",
    "    return passed"
   ]
  },
  {
   "cell_type": "markdown",
   "id": "795518d4-ec78-4740-96c2-8568a50cdcea",
   "metadata": {},
   "source": [
    "<h3> Pasting onto the Map </h3>"
   ]
  },
  {
   "cell_type": "code",
   "execution_count": 95,
   "id": "5e6ea09b-9654-484a-9936-16e6fa49128a",
   "metadata": {
    "tags": []
   },
   "outputs": [],
   "source": [
    "def applyRoutine(geometry, zoom, square_size):\n",
    "    Map = geemap.Map()\n",
    "    Map.centerObject(geometry, zoom)\n",
    "    drc = admin.filter(ee.Filter.eq('ADM0_NAME', 'Democratic Republic of the Congo'))\n",
    "\n",
    "    segments = ee.FeatureCollection(create_segments(geometry, square_size))#.filter(ee.Filter.bounds(drc))\n",
    "\n",
    "    passed_ndmi = filter_by_ndmi(segments, 0.05, 1)\n",
    "    \n",
    "    # read = passed_vegetation_loss.getInfo()['features']\n",
    "    # for item in read:\n",
    "    #     print(item['properties'])\n",
    "\n",
    "    #composites = ee.ImageCollection(segments.map(create_median_composite))\n",
    "    composites = ee.ImageCollection(ee.FeatureCollection(geometry).map(create_median_composite))\n",
    "    Map.addLayer(composites, rgb_vis_s2_scaled, 'Median Composites 2021')\n",
    "    Map.addLayer(segments, {'color': 'grey'}, 'Initial Segments', opacity=0.5)\n",
    "    Map.addLayer(passed_ndmi, {'color': 'blue'}, 'Passed NDMI loss greater than 0.05', opacity=0.5)\n",
    "    Map.addLayer(active_mines, {'color': 'black'}, 'mapbox active mines')\n",
    "    Map\n",
    "    return Map"
   ]
  },
  {
   "cell_type": "markdown",
   "id": "626b76ec-ae68-463f-b469-d01947acbde9",
   "metadata": {
    "tags": []
   },
   "source": [
    "<h5> Rishi Region </h5>"
   ]
  },
  {
   "cell_type": "code",
   "execution_count": 96,
   "id": "d7519a70-1f69-407c-b151-7cebc6fd419f",
   "metadata": {},
   "outputs": [
    {
     "data": {
      "application/vnd.jupyter.widget-view+json": {
       "model_id": "ae23ef32266d465087da46f68bc2bf0c",
       "version_major": 2,
       "version_minor": 0
      },
      "text/plain": [
       "Map(center=[3.1257435633122834, 29.589663178011996], controls=(WidgetControl(options=['position', 'transparent…"
      ]
     },
     "metadata": {},
     "output_type": "display_data"
    }
   ],
   "source": [
    "applyRoutine(rayroi1, 12, 0.5)"
   ]
  },
  {
   "cell_type": "code",
   "execution_count": null,
   "id": "10d0f67c-e401-4756-bf16-6651e9b03c4a",
   "metadata": {},
   "outputs": [],
   "source": []
  }
 ],
 "metadata": {
  "kernelspec": {
   "display_name": "Python 3 (ipykernel)",
   "language": "python",
   "name": "python3"
  },
  "language_info": {
   "codemirror_mode": {
    "name": "ipython",
    "version": 3
   },
   "file_extension": ".py",
   "mimetype": "text/x-python",
   "name": "python",
   "nbconvert_exporter": "python",
   "pygments_lexer": "ipython3",
   "version": "3.10.2"
  }
 },
 "nbformat": 4,
 "nbformat_minor": 5
}
