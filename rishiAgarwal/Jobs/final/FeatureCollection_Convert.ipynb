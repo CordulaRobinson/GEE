{
 "cells": [
  {
   "cell_type": "code",
   "execution_count": 2,
   "id": "a5d91b86-3915-448b-9262-e6ab5dc2e0e4",
   "metadata": {},
   "outputs": [],
   "source": [
    "import numpy as np\n",
    "import ee\n",
    "import collections\n",
    "# collections.Callable = collections.abc.Callable\n",
    "# ee.Authenticate()\n",
    "ee.Initialize()"
   ]
  },
  {
   "cell_type": "code",
   "execution_count": 3,
   "id": "9595dac9-f1e1-4ad5-80d3-0cc6f09418ed",
   "metadata": {},
   "outputs": [],
   "source": [
    "mojave_dune_pass = np.genfromtxt(\"bigRegion_csvs/26_-7_passing.csv\", delimiter=',', skip_header=1)"
   ]
  },
  {
   "cell_type": "code",
   "execution_count": 4,
   "id": "21070622-6cfc-4dde-8c40-6054e37c96d5",
   "metadata": {},
   "outputs": [],
   "source": [
    "# Convert to a Feature Collection\n",
    "# Create a list of Features for areas, with score as property\n",
    "feature_array = mojave_dune_pass\n",
    "region_list = []\n",
    "for row in feature_array:\n",
    "    region = ee.Geometry.Polygon([[[float(row[0]), float(row[3])],\n",
    "                                  [float(row[0]), float(row[1])],\n",
    "                                  [float(row[2]), float(row[1])],\n",
    "                                  [float(row[2]), float(row[3])]]])\n",
    "    f = ee.Feature(region).set('elevation score', float(row[17])).set('band score', float(row[18]))\n",
    "    region_list.append(f)\n",
    "\n",
    "# Wrap feature list in a Feature Collection\n",
    "fc = ee.FeatureCollection(region_list)\n",
    "\n",
    "# Export the Feature Collection to Google Earth Engine (GEE)\n",
    "task = ee.batch.Export.table.toAsset(**{\n",
    "  'collection': fc,\n",
    "  'description':'4th_Big_region_scores',\n",
    "  'assetId': 'users/rishiAgarwal/4thBigRegion', # change to your GEE Asset path and a unique name (will not overwrite already existing assets, so old names cannot be reused)\n",
    "});\n",
    "\n",
    "task.start()"
   ]
  },
  {
   "cell_type": "code",
   "execution_count": null,
   "id": "4a7481d6-ab4c-4f84-b4be-9731b188be95",
   "metadata": {},
   "outputs": [],
   "source": []
  }
 ],
 "metadata": {
  "kernelspec": {
   "display_name": "Python 3 (ipykernel)",
   "language": "python",
   "name": "python3"
  },
  "language_info": {
   "codemirror_mode": {
    "name": "ipython",
    "version": 3
   },
   "file_extension": ".py",
   "mimetype": "text/x-python",
   "name": "python",
   "nbconvert_exporter": "python",
   "pygments_lexer": "ipython3",
   "version": "3.7.11"
  }
 },
 "nbformat": 4,
 "nbformat_minor": 5
}
