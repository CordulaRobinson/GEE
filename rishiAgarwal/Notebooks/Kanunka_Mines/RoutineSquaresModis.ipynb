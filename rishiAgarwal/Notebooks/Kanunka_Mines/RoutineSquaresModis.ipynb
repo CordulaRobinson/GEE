{
 "cells": [
  {
   "cell_type": "code",
   "execution_count": 90,
   "id": "2980a2d7-c8dc-4122-afc6-af2a0d51b002",
   "metadata": {},
   "outputs": [],
   "source": [
    "import ee\n",
    "import geemap\n",
    "from geemap import chart\n",
    "import math\n",
    "\n",
    "ee.Initialize()\n",
    "Map = geemap.Map()"
   ]
  },
  {
   "cell_type": "markdown",
   "id": "26be5a95-8ac1-4418-88b7-cba59f5f2f9f",
   "metadata": {},
   "source": [
    "<h3> Imports </h3>\n",
    "<h4> Regions, Satellites, Visiblity Params </h4>"
   ]
  },
  {
   "cell_type": "code",
   "execution_count": 43,
   "id": "b8eab8ae-9a52-436e-9fd8-6bcfeb3eebca",
   "metadata": {},
   "outputs": [],
   "source": [
    "focus = ee.Geometry.Polygon(\n",
    "        [[[27.350233348102517, -7.518171474050515],\n",
    "          [27.350233348102517, -7.57841301205225],\n",
    "          [27.436407359332986, -7.57841301205225],\n",
    "          [27.436407359332986, -7.518171474050515]]], None, False)\n",
    "\n",
    "modis = ee.ImageCollection(\"MODIS/006/MCD43A4\")\n",
    "ls8 = ee.ImageCollection(\"LANDSAT/LC08/C02/T1_L2\")\n",
    "\n",
    "modisVis = {\"min\":0,\"max\":4000,\"gamma\":1.4}\n",
    "rgbVis = {\n",
    "    'min': 8097.96, \n",
    "    'max': 12128.04,\n",
    "    'bands': ['SR_B4', 'SR_B3', 'SR_B2']\n",
    "}\n",
    "\n",
    "rgbVisS2 = {\n",
    "    'min': 0,\n",
    "    'max': 3000,\n",
    "    'bands': ['B4', 'B3', 'B2']\n",
    "}\n",
    "\n",
    "EasternMine = ee.Geometry.Polygon(\n",
    "        [[[27.37513382750328, -7.523187286499756],\n",
    "          [27.37513382750328, -7.550926343072451],\n",
    "          [27.41959412413414, -7.550926343072451],\n",
    "          [27.41959412413414, -7.523187286499756]]], None, False)\n",
    "\n",
    "s2 = ee.ImageCollection(\"COPERNICUS/S2_SR\") \n",
    "\n"
   ]
  },
  {
   "cell_type": "markdown",
   "id": "8f039b43-419a-4fcf-97df-8c69184fb93c",
   "metadata": {},
   "source": [
    "<h4> Classification Points </h4>"
   ]
  },
  {
   "cell_type": "code",
   "execution_count": 44,
   "id": "485b8d04-79f1-457f-8d12-192758a9c53b",
   "metadata": {
    "tags": []
   },
   "outputs": [],
   "source": [
    "water = ee.FeatureCollection([])\n",
    "vegetation = ee.FeatureCollection(\n",
    "        [ee.Feature(\n",
    "            ee.Geometry.Point([27.376517541901784, -7.543591078372139]),\n",
    "            {\n",
    "              \"landcover\": 2,\n",
    "              \"system:index\": \"0\"\n",
    "            }),\n",
    "        ee.Feature(\n",
    "            ee.Geometry.Point([27.418746240632252, -7.539506842444226]),\n",
    "            {\n",
    "              \"landcover\": 2,\n",
    "              \"system:index\": \"1\"\n",
    "            }),\n",
    "        ee.Feature(\n",
    "            ee.Geometry.Point([27.36587453653069, -7.552780468215639]),\n",
    "            {\n",
    "              \"landcover\": 2,\n",
    "              \"system:index\": \"2\"\n",
    "            }),\n",
    "        ee.Feature(\n",
    "            ee.Geometry.Point([27.373770959870534, -7.569967505969657]),\n",
    "            {\n",
    "              \"landcover\": 2,\n",
    "              \"system:index\": \"3\"\n",
    "            }),\n",
    "        ee.Feature(\n",
    "            ee.Geometry.Point([27.389392145173268, -7.5590767891937025]),\n",
    "            {\n",
    "              \"landcover\": 2,\n",
    "              \"system:index\": \"4\"\n",
    "            }),\n",
    "        ee.Feature(\n",
    "            ee.Geometry.Point([27.428359277741627, -7.523680064445619]),\n",
    "            {\n",
    "              \"landcover\": 2,\n",
    "              \"system:index\": \"5\"\n",
    "            }),\n",
    "        ee.Feature(\n",
    "            ee.Geometry.Point([27.375659235017018, -7.522999329851055]),\n",
    "            {\n",
    "              \"landcover\": 2,\n",
    "              \"system:index\": \"6\"\n",
    "            }),\n",
    "        ee.Feature(\n",
    "            ee.Geometry.Point([27.38836217691155, -7.531026599579952]),\n",
    "            {\n",
    "              \"landcover\": 2,\n",
    "              \"system:index\": \"7\"\n",
    "            }),\n",
    "        ee.Feature(\n",
    "            ee.Geometry.Point([27.356089838044362, -7.564891220186839]),\n",
    "            {\n",
    "              \"landcover\": 2,\n",
    "              \"system:index\": \"8\"\n",
    "            }),\n",
    "        ee.Feature(\n",
    "            ee.Geometry.Point([27.403640039460377, -7.56931554740874]),\n",
    "            {\n",
    "              \"landcover\": 2,\n",
    "              \"system:index\": \"9\"\n",
    "            }),\n",
    "        ee.Feature(\n",
    "            ee.Geometry.Point([27.35385824014397, -7.522857852300823]),\n",
    "            {\n",
    "              \"landcover\": 2,\n",
    "              \"system:index\": \"10\"\n",
    "            })])\n",
    "bare = ee.FeatureCollection(\n",
    "        [ee.Feature(\n",
    "            ee.Geometry.Point([27.401675991909222, -7.540000356472741]),\n",
    "            {\n",
    "              \"landcover\": 0,\n",
    "              \"system:index\": \"0\"\n",
    "            })])"
   ]
  },
  {
   "cell_type": "code",
   "execution_count": 45,
   "id": "48798ae6-4b54-461a-a965-a019f9fb5ab0",
   "metadata": {},
   "outputs": [
    {
     "name": "stdout",
     "output_type": "stream",
     "text": [
      "14.02731981832111\n"
     ]
    },
    {
     "data": {
      "application/vnd.jupyter.widget-view+json": {
       "model_id": "200418885d954daaae4829755734c20b",
       "version_major": 2,
       "version_minor": 0
      },
      "text/plain": [
       "Map(center=[-7.55, 27.3954], controls=(WidgetControl(options=['position', 'transparent_bg'], widget=HBox(child…"
      ]
     },
     "metadata": {},
     "output_type": "display_data"
    }
   ],
   "source": [
    "Map.setCenter(27.3954, -7.55, 13) #Kanunka Village\n",
    "\n",
    "area = focus.area().divide(1e6)\n",
    "#print(area)\n",
    "\n",
    "roi2000 = modis \\\n",
    ".filter(ee.Filter.date('2001-01-01', '2002-01-01')) \\\n",
    ".filter(ee.Filter.bounds(focus)) \\\n",
    ".select('Nadir_Reflectance_Band1', 'Nadir_Reflectance_Band4', 'Nadir_Reflectance_Band3') \\\n",
    ".median() \\\n",
    ".clip(focus)\n",
    "\n",
    "Map.addLayer(roi2000, modisVis, '2000')\n",
    "\n",
    "train = ee.FeatureCollection(bare.merge(water).merge(vegetation))\n",
    "\n",
    "training = roi2000.sampleRegions(\n",
    "  collection=train,\n",
    "  properties=['landcover'],\n",
    "  scale=10\n",
    ")\n",
    "\n",
    "classifier = ee.Classifier.smileRandomForest(50).train(\n",
    "  features= training,\n",
    "  classProperty='landcover',\n",
    "  inputProperties=roi2000.bandNames()\n",
    ")\n",
    "\n",
    "classified2000 = roi2000.classify(classifier)\n",
    "Map.addLayer(classified2000, {'min': 0, 'max': 2, 'palette': ['red', 'blue', 'green']}, '2000_classified')\n",
    "\n",
    "# Calculate Area by Class\n",
    "areaImage = ee.Image.pixelArea().divide(1e6).addBands(classified2000)\n",
    "\n",
    "# Using a Grouped Reducer\n",
    "areas = areaImage.reduceRegion(\n",
    "    reducer=ee.Reducer.sum().group(\n",
    "        groupField=1,\n",
    "        groupName='classification',\n",
    "    ),\n",
    "    geometry=focus,\n",
    "    scale=100,\n",
    "    tileScale=4,\n",
    "    maxPixels=1e10\n",
    "    )\n",
    "classAreas = ee.List(areas.get('groups'))\n",
    "\n",
    "vegetation2000 = ee.Number(ee.Dictionary(classAreas.get(1)).get('sum'))\n",
    "bare2000 = ee.Dictionary(classAreas.get(0)).get('sum')\n",
    "\n",
    "east_classified = classified2000.clip(EasternMine)\n",
    "areaImageEast = ee.Image.pixelArea().divide(1e6).addBands(east_classified)\n",
    "\n",
    "# Using a Grouped Reducer\n",
    "areasEast = areaImageEast.reduceRegion(\n",
    "    reducer=ee.Reducer.sum().group(\n",
    "        groupField=1,\n",
    "        groupName='classification',\n",
    "    ),\n",
    "    geometry=EasternMine,\n",
    "    scale=100,\n",
    "    tileScale=4,\n",
    "    maxPixels=1e10\n",
    "    )\n",
    "classAreasEast = ee.List(areasEast.get('groups'))\n",
    "\n",
    "vegetation2000east = ee.Number(ee.Dictionary(classAreasEast.get(1)).get('sum'))\n",
    "print(vegetation2000east.getInfo())\n",
    "Map.addLayer(east_classified, {'min': 0, 'max': 2, 'palette': ['red', 'blue', 'green']}, '2000_classified')\n",
    "#print(\"Vegetation Area in 2000: \", vegetation2000)\n",
    "#print(\"Bare Area in 2000: \", bare2000)\n",
    "\n",
    "Map\n"
   ]
  },
  {
   "cell_type": "code",
   "execution_count": 46,
   "id": "7ff3f4bb-bef2-4b1b-b1b5-02a209272d31",
   "metadata": {},
   "outputs": [
    {
     "name": "stdout",
     "output_type": "stream",
     "text": [
      "Vegetation Area in 2020: 43.06746906188297\n"
     ]
    },
    {
     "data": {
      "application/vnd.jupyter.widget-view+json": {
       "model_id": "200418885d954daaae4829755734c20b",
       "version_major": 2,
       "version_minor": 0
      },
      "text/plain": [
       "Map(center=[-7.55, 27.3954], controls=(WidgetControl(options=['position', 'transparent_bg'], widget=HBox(child…"
      ]
     },
     "metadata": {},
     "output_type": "display_data"
    }
   ],
   "source": [
    "roi2020 = modis \\\n",
    ".filter(ee.Filter.date('2020-01-01', '2021-01-01')) \\\n",
    ".filter(ee.Filter.bounds(focus)) \\\n",
    ".select('Nadir_Reflectance_Band1', 'Nadir_Reflectance_Band4', 'Nadir_Reflectance_Band3') \\\n",
    ".median() \\\n",
    ".clip(focus)\n",
    "\n",
    "Map.addLayer(roi2020, modisVis, '2020')\n",
    "\n",
    "classified2020 = roi2020.classify(classifier)\n",
    "Map.addLayer(classified2020, {'min': 0, 'max': 2, 'palette': ['red', 'blue', 'green']}, '2020_classified')\n",
    "# Calculate Area by Class\n",
    "areaImage = ee.Image.pixelArea().divide(1e6).addBands(classified2020)\n",
    "\n",
    "# Using a Grouped Reducer\n",
    "areas = areaImage.reduceRegion(\n",
    "      reducer=ee.Reducer.sum().group(\n",
    "      groupField=1,\n",
    "      groupName='classification',\n",
    "    ),\n",
    "    geometry=focus,\n",
    "    scale=100,\n",
    "    tileScale=4,\n",
    "    maxPixels=1e10\n",
    "    )\n",
    "classAreas = ee.List(areas.get('groups'))\n",
    "vegetation2020 = ee.Number(ee.Dictionary(classAreas.get(1)).get('sum'))\n",
    "bare2020 = ee.Dictionary(classAreas.get(0)).get('sum')\n",
    "print(\"Vegetation Area in 2020: \" + str(vegetation2020.getInfo()))\n",
    "#print(\"Bare Area in 2020: \", vegetation2020)\n",
    "\n",
    "percentageLoss = (vegetation2000.subtract(vegetation2020)).divide(vegetation2000)\n",
    "#print(\"Percentage of Vegetation Lost: \", percentageLoss)\n",
    "\n",
    "\n",
    "Map"
   ]
  },
  {
   "cell_type": "markdown",
   "id": "fb3db359-870e-4da2-b496-ff37f2d16039",
   "metadata": {},
   "source": [
    "<h5> Dividing the Kanunka Region into Squares </h5>"
   ]
  },
  {
   "cell_type": "code",
   "execution_count": 84,
   "id": "411c92da-9c8a-4c47-8237-961be989b14b",
   "metadata": {},
   "outputs": [],
   "source": [
    "def divide_geometry(s_length):\n",
    "    # regionCoordinates = geometry.coordinates()\n",
    "    regions = []\n",
    "    i = 27.35\n",
    "    while i <= 27.44:\n",
    "        j = -7.52\n",
    "        while j >= -7.58:\n",
    "            region = ee.Geometry.Polygon(\n",
    "                [[[i, j],\n",
    "                  [i, j-s_length],\n",
    "                  [i+s_length, j-s_length],\n",
    "                  [i+s_length, j]]])\n",
    "            regions.append((region))\n",
    "            j = j-s_length\n",
    "        i = i+s_length\n",
    "    return regions\n",
    "\n"
   ]
  },
  {
   "cell_type": "code",
   "execution_count": 100,
   "id": "c56c9483-9e0b-48de-9b7c-0a09d1cfe4a7",
   "metadata": {},
   "outputs": [],
   "source": [
    "\"\"\"\n",
    "Segment the given geometry into squares of given size (in km)\n",
    ":param geometry: rectangle form geometry object\n",
    ":return: list including all squares\n",
    "\"\"\"\n",
    "def create_segments(geometry, size):\n",
    "    segments = []\n",
    "    r_earth, dy, dx, pi = ee.Number(6378), ee.Number(size), ee.Number(size), ee.Number(math.pi)\n",
    "    \n",
    "    coords = ee.List(geometry.coordinates().get(0)).slice(0, -1)\n",
    "    \n",
    "    top = ee.Number(ee.List(coords.get(2)).get(1))\n",
    "    left = ee.Number(ee.List(coords.get(0)).get(0))\n",
    "    \n",
    "    width = int(ee.Geometry.Point(coords.get(0)).distance(ee.Geometry.Point(coords.get(1))).divide(1000 * size).getInfo())\n",
    "    height = int(ee.Geometry.Point(coords.get(1)).distance(ee.Geometry.Point(coords.get(2))).divide(1000 * size).getInfo())\n",
    "\n",
    "    for y in range(height + 1):\n",
    "        left = ee.Number(ee.List(coords.get(0)).get(0))\n",
    "        for x in range(width + 1):\n",
    "            #\n",
    "            first = top\n",
    "            second = dx.divide(r_earth)\n",
    "            third = ee.Number(180).divide(pi)\n",
    "            con = pi.divide(ee.Number(180))\n",
    "            fourth = left.multiply(con).multiply(con).cos()\n",
    "            \n",
    "            new_lon = first.subtract(second.multiply(third).divide(fourth))\n",
    "            #new_lon = top - (dx / r_earth) * (180 / pi) / math.cos(math.radians(left * pi/180))\n",
    "            #new_lat = left  + (dy / r_earth) * (180 / pi)\n",
    "            new_lat = left.add((dy.divide(r_earth)).multiply((ee.Number(180).divide(pi))))\n",
    "            \n",
    "            square = ee.Geometry.Polygon(\n",
    "                [[[left, new_lon],\n",
    "                  [new_lat, new_lon],\n",
    "                  [new_lat, top],\n",
    "                  [left, top]]], None, False)\n",
    "            \n",
    "            segments.append(square)\n",
    "            \n",
    "            left = new_lat\n",
    "        top = new_lon\n",
    "        \n",
    "    return segments"
   ]
  },
  {
   "cell_type": "code",
   "execution_count": 108,
   "id": "a2558671-95df-4964-99c0-840f602d6a68",
   "metadata": {},
   "outputs": [
    {
     "name": "stdout",
     "output_type": "stream",
     "text": [
      "70\n"
     ]
    }
   ],
   "source": [
    "regions = create_segments(focus, 1)\n",
    "print(len(regions))"
   ]
  },
  {
   "cell_type": "markdown",
   "id": "22288b75-2599-4fe8-9272-2f477770eef9",
   "metadata": {},
   "source": [
    "<h3> Evaluating Regions by Percent Vegetation Loss </h3>"
   ]
  },
  {
   "cell_type": "code",
   "execution_count": 141,
   "id": "ee0930aa-3564-4b3e-923c-f9846bfef7ce",
   "metadata": {},
   "outputs": [],
   "source": [
    "def clipRegion2000(region):\n",
    "    image2000 = modis \\\n",
    "            .filter(ee.Filter.date('2000-01-01', '2000-12-31')) \\\n",
    "            .filter(ee.Filter.bounds(region)) \\\n",
    "            .select(['Nadir_Reflectance_Band1',\n",
    "                    'Nadir_Reflectance_Band4',\n",
    "                    'Nadir_Reflectance_Band3']) \\\n",
    "            .median().clip(region)\n",
    "    \n",
    "    \n",
    "    \n",
    "    image.classify(classifier)\n",
    "    \n",
    "    \n",
    "    \n",
    "    \n",
    "    \n",
    "    \n",
    "    return image"
   ]
  },
  {
   "cell_type": "code",
   "execution_count": 142,
   "id": "2891205a-a71b-47c7-95d3-879b3ed4c926",
   "metadata": {},
   "outputs": [],
   "source": [
    "def clipRegion2020(region):\n",
    "    image = modis \\\n",
    "            .filter(ee.Filter.date('2000-01-01', '2000-12-31')) \\\n",
    "            .filter(ee.Filter.bounds(region)) \\\n",
    "            .select(['Nadir_Reflectance_Band1',\n",
    "                    'Nadir_Reflectance_Band4',\n",
    "                    'Nadir_Reflectance_Band3']) \\\n",
    "            .median().clip(region)\n",
    "    return image"
   ]
  },
  {
   "cell_type": "code",
   "execution_count": 143,
   "id": "65e14e66-a149-4a0b-aefb-80d910f1acb0",
   "metadata": {},
   "outputs": [],
   "source": [
    "def classifyMap(image):\n",
    "    return image.classify(classifier)"
   ]
  },
  {
   "cell_type": "code",
   "execution_count": 145,
   "id": "0088240c-553f-46af-bcfc-d04bd004dd3c",
   "metadata": {},
   "outputs": [],
   "source": [
    "def calculateVegArea(classified):\n",
    "    veg1 = classified.eq(2)\n",
    "    veg1Image = veg1.multiply(ee.Image.pixelArea())\n",
    "    area1 = veg1Image.reduceRegion(**{\n",
    "      'reducer': ee.Reducer.sum(),\n",
    "      'geometry': region,\n",
    "      'scale': 500,\n",
    "      'maxPixels': 1e10\n",
    "      })\n",
    "    veg1SqKm = ee.Number(area1.get('classification')).divide(1e6).getInfo()\n",
    "    return veg1SqKm"
   ]
  },
  {
   "cell_type": "code",
   "execution_count": 146,
   "id": "642da4c1-2df5-4a1d-8883-b340cae4261d",
   "metadata": {},
   "outputs": [],
   "source": [
    "def eval_change(vegArea_2000, vegArea_2020):\n",
    "    if (vegArea_2000 == 0) and (vegArea_2020 == 0):\n",
    "            print(str(num) + ': No Vegetation at Start or End')\n",
    "            return \n",
    "    elif vegArea_2000 > 0:\n",
    "        #percent decrease of vegetation area = ((original - new) / (original)) * 100\n",
    "        percentDecrease = ((vegArea_2000-vegArea_2020)/vegArea_2000)*100\n",
    "        print(str(num) + ': ' + str(percentDecrease) + '% Vegetation Loss')\n",
    "        if percentDecrease >= 20:\n",
    "    else:\n",
    "        print(str(num) + ': Vegetation Increased from 0 Initially')"
   ]
  },
  {
   "cell_type": "code",
   "execution_count": 175,
   "id": "ca4acb01-aedc-443f-aced-72b21b0718a7",
   "metadata": {},
   "outputs": [],
   "source": [
    "def eval_region(region):\n",
    "    image2000 = modis \\\n",
    "            .filter(ee.Filter.date('2000-01-01', '2000-12-31')) \\\n",
    "            .filter(ee.Filter.bounds(region)) \\\n",
    "            .select(['Nadir_Reflectance_Band1',\n",
    "                    'Nadir_Reflectance_Band4',\n",
    "                    'Nadir_Reflectance_Band3']) \\\n",
    "            .median().clip(region)\n",
    "    image2020 = modis \\\n",
    "            .filter(ee.Filter.date('2020-01-01', '2020-12-31')) \\\n",
    "            .filter(ee.Filter.bounds(region)) \\\n",
    "            .select(['Nadir_Reflectance_Band1',\n",
    "                    'Nadir_Reflectance_Band4',\n",
    "                    'Nadir_Reflectance_Band3']) \\\n",
    "            .median().clip(region)\n",
    "    #Classify the images\n",
    "    classified2020 = image2020.classify(classifier)\n",
    "    # Map.addLayer(classified2020, {'min': 1, 'max': 2, 'palette': ['red', 'green']}, str(num) + ' 2020_classified', False)\n",
    "\n",
    "    classified2000 = image2000.classify(classifier)\n",
    "    # Map.addLayer(classified2000, {'min': 1, 'max': 2, 'palette': ['red', 'green']},  str(num) + ' 2000_classified', False)\n",
    "\n",
    "    veg1 = classified2000.eq(2)\n",
    "    veg1Image = veg1.multiply(ee.Image.pixelArea())\n",
    "    area1 = veg1Image.reduceRegion(**{\n",
    "      'reducer': ee.Reducer.sum(),\n",
    "      'geometry': region,\n",
    "      'scale': 500,\n",
    "      'maxPixels': 1e10\n",
    "      })\n",
    "    veg1SqKm = ee.Number(area1.get('classification')).divide(1e6).getInfo()\n",
    "    #print(str(num) + ' Area of Vegetation in 2000: ', veg1SqKm)\n",
    "\n",
    "    veg2 = classified2020.eq(2)\n",
    "    veg2Image = veg2.multiply(ee.Image.pixelArea())\n",
    "    area2 = veg2Image.reduceRegion(**{\n",
    "      'reducer': ee.Reducer.sum(),\n",
    "      'geometry': region,\n",
    "      'scale': 500,\n",
    "      'maxPixels': 1e10\n",
    "      })\n",
    "    \n",
    "    veg2SqKm = ee.Number(area2.get('classification')).divide(1e6).getInfo()\n",
    "    #print(str(num) + ' Area of Vegetation in 2020: ', veg2SqKm)\n",
    "    \n",
    "    percentDecrease = ((veg1SqKm.subtract(veg2SqKm)).divide(veg1SqKm)).multiply(100)\n",
    "    \n",
    "    return region.set('percentLoss', percentDecrease)\n",
    "    # if (veg1SqKm == 0) and (veg2SqKm == 0):\n",
    "    #     #print(str(num) + ': No Vegetation at Start or End')\n",
    "    #     return region\n",
    "    # elif veg1SqKm > 0:\n",
    "    #     #percent decrease of vegetation area = ((original - new) / (original)) * 100\n",
    "    #     percentDecrease = ((veg1SqKm-veg2SqKm)/veg1SqKm)*100\n",
    "    #     #print(str(num) + ': ' + str(percentDecrease) + '% Vegetation Loss')\n",
    "    #     if percentDecrease >= 20:\n",
    "    #         return region\n",
    "    # else:\n",
    "    #     #print(str(num) + ': Vegetation Increased from 0 Initially')\n",
    "    #     return None"
   ]
  },
  {
   "cell_type": "code",
   "execution_count": 182,
   "id": "575ac4c0-aaf3-44ed-9999-bbca16710edb",
   "metadata": {},
   "outputs": [],
   "source": [
    "def vegLoss_EX(regionList): \n",
    "    Map.centerObject(focus, 13)\n",
    "    Map.addLayer(roi2000, modisVis, '2000', False)\n",
    "    Map.addLayer(roi2020, modisVis, '2020', False)\n",
    "    classified1 = roi2000.classify(classifier)\n",
    "    classified2 = roi2020.classify(classifier)\n",
    "    Map.addLayer(classified1, {'min': 1, 'max': 2, 'palette': ['red', 'green']}, '2000_classified', False)\n",
    "    Map.addLayer(classified2, {'min': 1, 'max': 2, 'palette': ['red', 'green']}, '2020_classified', False)\n",
    "    whole = s2 \\\n",
    "            .filter(ee.Filter.bounds(focus)) \\\n",
    "            .filter(ee.Filter.date('2020-01-01', '2020-12-31')) \\\n",
    "            .filter(ee.Filter.lt('CLOUDY_PIXEL_PERCENTAGE', 20)) \\\n",
    "            .select('B.*') \\\n",
    "            .median().clip(focus)\n",
    "    Map.addLayer(whole, rgbVisS2, 'whole', False)\n",
    "    passed = []\n",
    "    num = 0\n",
    "    \n",
    "    regions_passed = (ee.FeatureCollection(regionList))\n",
    "    regions_passed = regions_passed.map(eval_region)\n",
    "    #list(map(eval_region, regionList))\n",
    "    \n",
    "    #regions_passed = regions_passed.filter(ee.Filter.gte('percentLoss', 20))\n",
    "    \n",
    "    #passed.append(regions_passed)\n",
    "    # regions_2000_clip = regionList.map(clipRegion2000)\n",
    "    # regions_2020_clip = regionList.map(clipRegion2020)\n",
    "    # classify_regions_2000 = classifyMap.map(regions_2000_clip)\n",
    "    # classify_regions_2020 = classifyMap.map(regions_2020_clip)\n",
    "    # region_vegArea_2000 = calculateVegArea.map(classify_regions_2000)\n",
    "    # region_vegArea_2020 = calculateVegArea.map(classify_regions_2020)\n",
    "    # regions_passed = list(map(eval_change, regionVegArea2000, regionVegArea2020))\n",
    "    # passed = passed.append\n",
    "#     for region in regionList:\n",
    "#         image2000 = modis \\\n",
    "#             .filter(ee.Filter.date('2000-01-01', '2000-12-31')) \\\n",
    "#             .filter(ee.Filter.bounds(region)) \\\n",
    "#             .select(['Nadir_Reflectance_Band1',\n",
    "#                     'Nadir_Reflectance_Band4',\n",
    "#                     'Nadir_Reflectance_Band3']) \\\n",
    "#             .median().clip(region)\n",
    "#         image2020 = modis \\\n",
    "#             .filter(ee.Filter.date('2020-01-01', '2020-12-31')) \\\n",
    "#             .filter(ee.Filter.bounds(region)) \\\n",
    "#             .select(['Nadir_Reflectance_Band1',\n",
    "#                     'Nadir_Reflectance_Band4',\n",
    "#                     'Nadir_Reflectance_Band3']) \\\n",
    "#             .median().clip(region)\n",
    "#         # Classify the images\n",
    "#         classified2020 = image2020.classify(classifier)\n",
    "#         # Map.addLayer(classified2020, {'min': 1, 'max': 2, 'palette': ['red', 'green']}, str(num) + ' 2020_classified', False)\n",
    "\n",
    "#         classified2000 = image2000.classify(classifier)\n",
    "#         # Map.addLayer(classified2000, {'min': 1, 'max': 2, 'palette': ['red', 'green']},  str(num) + ' 2000_classified', False)\n",
    "\n",
    "#         veg1 = classified2000.eq(2)\n",
    "#         veg1Image = veg1.multiply(ee.Image.pixelArea())\n",
    "#         area1 = veg1Image.reduceRegion(**{\n",
    "#           'reducer': ee.Reducer.sum(),\n",
    "#           'geometry': region,\n",
    "#           'scale': 500,\n",
    "#           'maxPixels': 1e10\n",
    "#           })\n",
    "#         veg1SqKm = ee.Number(area1.get('classification')).divide(1e6).getInfo()\n",
    "#         #print(str(num) + ' Area of Vegetation in 2000: ', veg1SqKm)\n",
    "        \n",
    "#         veg2 = classified2020.eq(2)\n",
    "#         veg2Image = veg2.multiply(ee.Image.pixelArea())\n",
    "#         area2 = veg2Image.reduceRegion(**{\n",
    "#           'reducer': ee.Reducer.sum(),\n",
    "#           'geometry': region,\n",
    "#           'scale': 500,\n",
    "#           'maxPixels': 1e10\n",
    "#           })\n",
    "#         veg2SqKm = ee.Number(area2.get('classification')).divide(1e6).getInfo()\n",
    "#         #print(str(num) + ' Area of Vegetation in 2020: ', veg2SqKm)\n",
    "#         num = num+1\n",
    "#         if (veg1SqKm == 0) and (veg2SqKm == 0):\n",
    "#             passed.append(region)\n",
    "#             print(str(num) + ': No Vegetation at Start or End')\n",
    "#         elif veg1SqKm > 0:\n",
    "#             #percent decrease of vegetation area = ((original - new) / (original)) * 100\n",
    "#             percentDecrease = ((veg1SqKm-veg2SqKm)/veg1SqKm)*100\n",
    "#             print(str(num) + ': ' + str(percentDecrease) + '% Vegetation Loss')\n",
    "#             if percentDecrease >= 20:\n",
    "#                 passed.append(region)\n",
    "#         else:\n",
    "#             print(str(num) + ': Vegetation Increased from 0 Initially')\n",
    "    #print(passed)\n",
    "    if len(passed) > 0:\n",
    "        layer = ee.Geometry.MultiPolygon(passed)\n",
    "        image = s2 \\\n",
    "            .filter(ee.Filter.bounds(layer)) \\\n",
    "            .filter(ee.Filter.date('2020-01-01', '2020-12-31')) \\\n",
    "            .filter(ee.Filter.lt('CLOUDY_PIXEL_PERCENTAGE', 20)) \\\n",
    "            .select('B.*') \\\n",
    "            .median().clip(layer)\n",
    "        Map.addLayer(image, rgbVisS2, 'vegLoss_ex_pass')\n",
    "    Map\n",
    "    return passed  "
   ]
  },
  {
   "cell_type": "code",
   "execution_count": 183,
   "id": "079170f2-22fd-4b74-bd6e-77f2625381fb",
   "metadata": {},
   "outputs": [
    {
     "ename": "EEException",
     "evalue": "A mapped function's arguments cannot be used in client-side operations",
     "output_type": "error",
     "traceback": [
      "\u001b[0;31m---------------------------------------------------------------------------\u001b[0m",
      "\u001b[0;31mEEException\u001b[0m                               Traceback (most recent call last)",
      "\u001b[0;32m/tmp/ipykernel_22475/2771097545.py\u001b[0m in \u001b[0;36m<module>\u001b[0;34m\u001b[0m\n\u001b[0;32m----> 1\u001b[0;31m \u001b[0mveg\u001b[0m \u001b[0;34m=\u001b[0m \u001b[0mvegLoss_EX\u001b[0m\u001b[0;34m(\u001b[0m\u001b[0mregions\u001b[0m\u001b[0;34m)\u001b[0m\u001b[0;34m\u001b[0m\u001b[0;34m\u001b[0m\u001b[0m\n\u001b[0m\u001b[1;32m      2\u001b[0m \u001b[0mMap\u001b[0m\u001b[0;34m\u001b[0m\u001b[0;34m\u001b[0m\u001b[0m\n",
      "\u001b[0;32m/tmp/ipykernel_22475/2900525536.py\u001b[0m in \u001b[0;36mvegLoss_EX\u001b[0;34m(regionList)\u001b[0m\n\u001b[1;32m     18\u001b[0m \u001b[0;34m\u001b[0m\u001b[0m\n\u001b[1;32m     19\u001b[0m     \u001b[0mregions_passed\u001b[0m \u001b[0;34m=\u001b[0m \u001b[0;34m(\u001b[0m\u001b[0mee\u001b[0m\u001b[0;34m.\u001b[0m\u001b[0mFeatureCollection\u001b[0m\u001b[0;34m(\u001b[0m\u001b[0mregionList\u001b[0m\u001b[0;34m)\u001b[0m\u001b[0;34m)\u001b[0m\u001b[0;34m\u001b[0m\u001b[0;34m\u001b[0m\u001b[0m\n\u001b[0;32m---> 20\u001b[0;31m     \u001b[0mregions_passed\u001b[0m \u001b[0;34m=\u001b[0m \u001b[0mregions_passed\u001b[0m\u001b[0;34m.\u001b[0m\u001b[0mmap\u001b[0m\u001b[0;34m(\u001b[0m\u001b[0meval_region\u001b[0m\u001b[0;34m)\u001b[0m\u001b[0;34m\u001b[0m\u001b[0;34m\u001b[0m\u001b[0m\n\u001b[0m\u001b[1;32m     21\u001b[0m     \u001b[0;31m#list(map(eval_region, regionList))\u001b[0m\u001b[0;34m\u001b[0m\u001b[0;34m\u001b[0m\u001b[0;34m\u001b[0m\u001b[0m\n\u001b[1;32m     22\u001b[0m \u001b[0;34m\u001b[0m\u001b[0m\n",
      "\u001b[0;32m~/.conda/envs/ee/lib/python3.7/site-packages/ee/collection.py\u001b[0m in \u001b[0;36mmap\u001b[0;34m(self, algorithm, opt_dropNulls)\u001b[0m\n\u001b[1;32m    202\u001b[0m     \u001b[0mwith_cast\u001b[0m \u001b[0;34m=\u001b[0m \u001b[0;32mlambda\u001b[0m \u001b[0me\u001b[0m\u001b[0;34m:\u001b[0m \u001b[0malgorithm\u001b[0m\u001b[0;34m(\u001b[0m\u001b[0melement_type\u001b[0m\u001b[0;34m(\u001b[0m\u001b[0me\u001b[0m\u001b[0;34m)\u001b[0m\u001b[0;34m)\u001b[0m\u001b[0;34m\u001b[0m\u001b[0;34m\u001b[0m\u001b[0m\n\u001b[1;32m    203\u001b[0m     return self._cast(apifunction.ApiFunction.call_(\n\u001b[0;32m--> 204\u001b[0;31m         'Collection.map', self, with_cast, opt_dropNulls))\n\u001b[0m\u001b[1;32m    205\u001b[0m \u001b[0;34m\u001b[0m\u001b[0m\n\u001b[1;32m    206\u001b[0m   \u001b[0;32mdef\u001b[0m \u001b[0miterate\u001b[0m\u001b[0;34m(\u001b[0m\u001b[0mself\u001b[0m\u001b[0;34m,\u001b[0m \u001b[0malgorithm\u001b[0m\u001b[0;34m,\u001b[0m \u001b[0mfirst\u001b[0m\u001b[0;34m=\u001b[0m\u001b[0;32mNone\u001b[0m\u001b[0;34m)\u001b[0m\u001b[0;34m:\u001b[0m\u001b[0;34m\u001b[0m\u001b[0;34m\u001b[0m\u001b[0m\n",
      "\u001b[0;32m~/.conda/envs/ee/lib/python3.7/site-packages/ee/apifunction.py\u001b[0m in \u001b[0;36mcall_\u001b[0;34m(cls, name, *args, **kwargs)\u001b[0m\n\u001b[1;32m     79\u001b[0m       \u001b[0ma\u001b[0m \u001b[0mrecognized\u001b[0m \u001b[0;32mreturn\u001b[0m \u001b[0mtype\u001b[0m\u001b[0;34m,\u001b[0m \u001b[0mthe\u001b[0m \u001b[0mreturned\u001b[0m \u001b[0mvalue\u001b[0m \u001b[0mwill\u001b[0m \u001b[0mbe\u001b[0m \u001b[0mcast\u001b[0m \u001b[0mto\u001b[0m \u001b[0mthat\u001b[0m \u001b[0mtype\u001b[0m\u001b[0;34m.\u001b[0m\u001b[0;34m\u001b[0m\u001b[0;34m\u001b[0m\u001b[0m\n\u001b[1;32m     80\u001b[0m     \"\"\"\n\u001b[0;32m---> 81\u001b[0;31m     \u001b[0;32mreturn\u001b[0m \u001b[0mcls\u001b[0m\u001b[0;34m.\u001b[0m\u001b[0mlookup\u001b[0m\u001b[0;34m(\u001b[0m\u001b[0mname\u001b[0m\u001b[0;34m)\u001b[0m\u001b[0;34m.\u001b[0m\u001b[0mcall\u001b[0m\u001b[0;34m(\u001b[0m\u001b[0;34m*\u001b[0m\u001b[0margs\u001b[0m\u001b[0;34m,\u001b[0m \u001b[0;34m**\u001b[0m\u001b[0mkwargs\u001b[0m\u001b[0;34m)\u001b[0m\u001b[0;34m\u001b[0m\u001b[0;34m\u001b[0m\u001b[0m\n\u001b[0m\u001b[1;32m     82\u001b[0m \u001b[0;34m\u001b[0m\u001b[0m\n\u001b[1;32m     83\u001b[0m   \u001b[0;34m@\u001b[0m\u001b[0mclassmethod\u001b[0m\u001b[0;34m\u001b[0m\u001b[0;34m\u001b[0m\u001b[0m\n",
      "\u001b[0;32m~/.conda/envs/ee/lib/python3.7/site-packages/ee/function.py\u001b[0m in \u001b[0;36mcall\u001b[0;34m(self, *args, **kwargs)\u001b[0m\n\u001b[1;32m     65\u001b[0m       \u001b[0mto\u001b[0m \u001b[0mthat\u001b[0m \u001b[0mtype\u001b[0m\u001b[0;34m.\u001b[0m\u001b[0;34m\u001b[0m\u001b[0;34m\u001b[0m\u001b[0m\n\u001b[1;32m     66\u001b[0m     \"\"\"\n\u001b[0;32m---> 67\u001b[0;31m     \u001b[0;32mreturn\u001b[0m \u001b[0mself\u001b[0m\u001b[0;34m.\u001b[0m\u001b[0mapply\u001b[0m\u001b[0;34m(\u001b[0m\u001b[0mself\u001b[0m\u001b[0;34m.\u001b[0m\u001b[0mnameArgs\u001b[0m\u001b[0;34m(\u001b[0m\u001b[0margs\u001b[0m\u001b[0;34m,\u001b[0m \u001b[0mkwargs\u001b[0m\u001b[0;34m)\u001b[0m\u001b[0;34m)\u001b[0m\u001b[0;34m\u001b[0m\u001b[0;34m\u001b[0m\u001b[0m\n\u001b[0m\u001b[1;32m     68\u001b[0m \u001b[0;34m\u001b[0m\u001b[0m\n\u001b[1;32m     69\u001b[0m   \u001b[0;32mdef\u001b[0m \u001b[0mapply\u001b[0m\u001b[0;34m(\u001b[0m\u001b[0mself\u001b[0m\u001b[0;34m,\u001b[0m \u001b[0mnamed_args\u001b[0m\u001b[0;34m)\u001b[0m\u001b[0;34m:\u001b[0m\u001b[0;34m\u001b[0m\u001b[0;34m\u001b[0m\u001b[0m\n",
      "\u001b[0;32m~/.conda/envs/ee/lib/python3.7/site-packages/ee/function.py\u001b[0m in \u001b[0;36mapply\u001b[0;34m(self, named_args)\u001b[0m\n\u001b[1;32m     78\u001b[0m       \u001b[0mto\u001b[0m \u001b[0mthat\u001b[0m \u001b[0mtype\u001b[0m\u001b[0;34m.\u001b[0m\u001b[0;34m\u001b[0m\u001b[0;34m\u001b[0m\u001b[0m\n\u001b[1;32m     79\u001b[0m     \"\"\"\n\u001b[0;32m---> 80\u001b[0;31m     \u001b[0mresult\u001b[0m \u001b[0;34m=\u001b[0m \u001b[0mcomputedobject\u001b[0m\u001b[0;34m.\u001b[0m\u001b[0mComputedObject\u001b[0m\u001b[0;34m(\u001b[0m\u001b[0mself\u001b[0m\u001b[0;34m,\u001b[0m \u001b[0mself\u001b[0m\u001b[0;34m.\u001b[0m\u001b[0mpromoteArgs\u001b[0m\u001b[0;34m(\u001b[0m\u001b[0mnamed_args\u001b[0m\u001b[0;34m)\u001b[0m\u001b[0;34m)\u001b[0m\u001b[0;34m\u001b[0m\u001b[0;34m\u001b[0m\u001b[0m\n\u001b[0m\u001b[1;32m     81\u001b[0m     \u001b[0;32mreturn\u001b[0m \u001b[0mFunction\u001b[0m\u001b[0;34m.\u001b[0m\u001b[0m_promoter\u001b[0m\u001b[0;34m(\u001b[0m\u001b[0mresult\u001b[0m\u001b[0;34m,\u001b[0m \u001b[0mself\u001b[0m\u001b[0;34m.\u001b[0m\u001b[0mgetReturnType\u001b[0m\u001b[0;34m(\u001b[0m\u001b[0;34m)\u001b[0m\u001b[0;34m)\u001b[0m\u001b[0;34m\u001b[0m\u001b[0;34m\u001b[0m\u001b[0m\n\u001b[1;32m     82\u001b[0m \u001b[0;34m\u001b[0m\u001b[0m\n",
      "\u001b[0;32m~/.conda/envs/ee/lib/python3.7/site-packages/ee/function.py\u001b[0m in \u001b[0;36mpromoteArgs\u001b[0;34m(self, args)\u001b[0m\n\u001b[1;32m    105\u001b[0m       \u001b[0mname\u001b[0m \u001b[0;34m=\u001b[0m \u001b[0mspec\u001b[0m\u001b[0;34m[\u001b[0m\u001b[0;34m'name'\u001b[0m\u001b[0;34m]\u001b[0m\u001b[0;34m\u001b[0m\u001b[0;34m\u001b[0m\u001b[0m\n\u001b[1;32m    106\u001b[0m       \u001b[0;32mif\u001b[0m \u001b[0mname\u001b[0m \u001b[0;32min\u001b[0m \u001b[0margs\u001b[0m\u001b[0;34m:\u001b[0m\u001b[0;34m\u001b[0m\u001b[0;34m\u001b[0m\u001b[0m\n\u001b[0;32m--> 107\u001b[0;31m         \u001b[0mpromoted_args\u001b[0m\u001b[0;34m[\u001b[0m\u001b[0mname\u001b[0m\u001b[0;34m]\u001b[0m \u001b[0;34m=\u001b[0m \u001b[0mFunction\u001b[0m\u001b[0;34m.\u001b[0m\u001b[0m_promoter\u001b[0m\u001b[0;34m(\u001b[0m\u001b[0margs\u001b[0m\u001b[0;34m[\u001b[0m\u001b[0mname\u001b[0m\u001b[0;34m]\u001b[0m\u001b[0;34m,\u001b[0m \u001b[0mspec\u001b[0m\u001b[0;34m[\u001b[0m\u001b[0;34m'type'\u001b[0m\u001b[0;34m]\u001b[0m\u001b[0;34m)\u001b[0m\u001b[0;34m\u001b[0m\u001b[0;34m\u001b[0m\u001b[0m\n\u001b[0m\u001b[1;32m    108\u001b[0m       \u001b[0;32melif\u001b[0m \u001b[0;32mnot\u001b[0m \u001b[0mspec\u001b[0m\u001b[0;34m.\u001b[0m\u001b[0mget\u001b[0m\u001b[0;34m(\u001b[0m\u001b[0;34m'optional'\u001b[0m\u001b[0;34m)\u001b[0m\u001b[0;34m:\u001b[0m\u001b[0;34m\u001b[0m\u001b[0;34m\u001b[0m\u001b[0m\n\u001b[1;32m    109\u001b[0m         raise ee_exception.EEException(\n",
      "\u001b[0;32m~/.conda/envs/ee/lib/python3.7/site-packages/ee/__init__.py\u001b[0m in \u001b[0;36m_Promote\u001b[0;34m(arg, klass)\u001b[0m\n\u001b[1;32m    243\u001b[0m       \u001b[0;32melse\u001b[0m\u001b[0;34m:\u001b[0m\u001b[0;34m\u001b[0m\u001b[0;34m\u001b[0m\u001b[0m\n\u001b[1;32m    244\u001b[0m         \u001b[0margs_count\u001b[0m \u001b[0;34m=\u001b[0m \u001b[0mlen\u001b[0m\u001b[0;34m(\u001b[0m\u001b[0minspect\u001b[0m\u001b[0;34m.\u001b[0m\u001b[0mgetfullargspec\u001b[0m\u001b[0;34m(\u001b[0m\u001b[0marg\u001b[0m\u001b[0;34m)\u001b[0m\u001b[0;34m.\u001b[0m\u001b[0margs\u001b[0m\u001b[0;34m)\u001b[0m\u001b[0;34m\u001b[0m\u001b[0;34m\u001b[0m\u001b[0m\n\u001b[0;32m--> 245\u001b[0;31m       \u001b[0;32mreturn\u001b[0m \u001b[0mCustomFunction\u001b[0m\u001b[0;34m.\u001b[0m\u001b[0mcreate\u001b[0m\u001b[0;34m(\u001b[0m\u001b[0marg\u001b[0m\u001b[0;34m,\u001b[0m \u001b[0;34m'Object'\u001b[0m\u001b[0;34m,\u001b[0m \u001b[0;34m[\u001b[0m\u001b[0;34m'Object'\u001b[0m\u001b[0;34m]\u001b[0m \u001b[0;34m*\u001b[0m \u001b[0margs_count\u001b[0m\u001b[0;34m)\u001b[0m\u001b[0;34m\u001b[0m\u001b[0;34m\u001b[0m\u001b[0m\n\u001b[0m\u001b[1;32m    246\u001b[0m     \u001b[0;32melif\u001b[0m \u001b[0misinstance\u001b[0m\u001b[0;34m(\u001b[0m\u001b[0marg\u001b[0m\u001b[0;34m,\u001b[0m \u001b[0mEncodable\u001b[0m\u001b[0;34m)\u001b[0m\u001b[0;34m:\u001b[0m\u001b[0;34m\u001b[0m\u001b[0;34m\u001b[0m\u001b[0m\n\u001b[1;32m    247\u001b[0m       \u001b[0;31m# An ee.Function or a computed function like the return value of\u001b[0m\u001b[0;34m\u001b[0m\u001b[0;34m\u001b[0m\u001b[0;34m\u001b[0m\u001b[0m\n",
      "\u001b[0;32m~/.conda/envs/ee/lib/python3.7/site-packages/ee/customfunction.py\u001b[0m in \u001b[0;36mcreate\u001b[0;34m(func, return_type, arg_types)\u001b[0m\n\u001b[1;32m    123\u001b[0m         \u001b[0;34m'args'\u001b[0m\u001b[0;34m:\u001b[0m \u001b[0margs\u001b[0m\u001b[0;34m\u001b[0m\u001b[0;34m\u001b[0m\u001b[0m\n\u001b[1;32m    124\u001b[0m     }\n\u001b[0;32m--> 125\u001b[0;31m     \u001b[0;32mreturn\u001b[0m \u001b[0mCustomFunction\u001b[0m\u001b[0;34m(\u001b[0m\u001b[0msignature\u001b[0m\u001b[0;34m,\u001b[0m \u001b[0mfunc\u001b[0m\u001b[0;34m)\u001b[0m\u001b[0;34m\u001b[0m\u001b[0;34m\u001b[0m\u001b[0m\n\u001b[0m\u001b[1;32m    126\u001b[0m \u001b[0;34m\u001b[0m\u001b[0m\n\u001b[1;32m    127\u001b[0m   \u001b[0;34m@\u001b[0m\u001b[0mstaticmethod\u001b[0m\u001b[0;34m\u001b[0m\u001b[0;34m\u001b[0m\u001b[0m\n",
      "\u001b[0;32m~/.conda/envs/ee/lib/python3.7/site-packages/ee/customfunction.py\u001b[0m in \u001b[0;36m__init__\u001b[0;34m(self, signature, body)\u001b[0m\n\u001b[1;32m     41\u001b[0m                  for arg in signature['args']]\n\u001b[1;32m     42\u001b[0m \u001b[0;34m\u001b[0m\u001b[0m\n\u001b[0;32m---> 43\u001b[0;31m     \u001b[0;32mif\u001b[0m \u001b[0mbody\u001b[0m\u001b[0;34m(\u001b[0m\u001b[0;34m*\u001b[0m\u001b[0mvariables\u001b[0m\u001b[0;34m)\u001b[0m \u001b[0;32mis\u001b[0m \u001b[0;32mNone\u001b[0m\u001b[0;34m:\u001b[0m\u001b[0;34m\u001b[0m\u001b[0;34m\u001b[0m\u001b[0m\n\u001b[0m\u001b[1;32m     44\u001b[0m       \u001b[0;32mraise\u001b[0m \u001b[0mee_exception\u001b[0m\u001b[0;34m.\u001b[0m\u001b[0mEEException\u001b[0m\u001b[0;34m(\u001b[0m\u001b[0;34m'User-defined methods must return a value'\u001b[0m\u001b[0;34m)\u001b[0m\u001b[0;34m\u001b[0m\u001b[0;34m\u001b[0m\u001b[0m\n\u001b[1;32m     45\u001b[0m \u001b[0;34m\u001b[0m\u001b[0m\n",
      "\u001b[0;32m~/.conda/envs/ee/lib/python3.7/site-packages/ee/collection.py\u001b[0m in \u001b[0;36m<lambda>\u001b[0;34m(e)\u001b[0m\n\u001b[1;32m    200\u001b[0m     \"\"\"\n\u001b[1;32m    201\u001b[0m     \u001b[0melement_type\u001b[0m \u001b[0;34m=\u001b[0m \u001b[0mself\u001b[0m\u001b[0;34m.\u001b[0m\u001b[0melementType\u001b[0m\u001b[0;34m(\u001b[0m\u001b[0;34m)\u001b[0m\u001b[0;34m\u001b[0m\u001b[0;34m\u001b[0m\u001b[0m\n\u001b[0;32m--> 202\u001b[0;31m     \u001b[0mwith_cast\u001b[0m \u001b[0;34m=\u001b[0m \u001b[0;32mlambda\u001b[0m \u001b[0me\u001b[0m\u001b[0;34m:\u001b[0m \u001b[0malgorithm\u001b[0m\u001b[0;34m(\u001b[0m\u001b[0melement_type\u001b[0m\u001b[0;34m(\u001b[0m\u001b[0me\u001b[0m\u001b[0;34m)\u001b[0m\u001b[0;34m)\u001b[0m\u001b[0;34m\u001b[0m\u001b[0;34m\u001b[0m\u001b[0m\n\u001b[0m\u001b[1;32m    203\u001b[0m     return self._cast(apifunction.ApiFunction.call_(\n\u001b[1;32m    204\u001b[0m         'Collection.map', self, with_cast, opt_dropNulls))\n",
      "\u001b[0;32m/tmp/ipykernel_22475/753884951.py\u001b[0m in \u001b[0;36meval_region\u001b[0;34m(region)\u001b[0m\n\u001b[1;32m     29\u001b[0m       \u001b[0;34m'maxPixels'\u001b[0m\u001b[0;34m:\u001b[0m \u001b[0;36m1e10\u001b[0m\u001b[0;34m\u001b[0m\u001b[0;34m\u001b[0m\u001b[0m\n\u001b[1;32m     30\u001b[0m       })\n\u001b[0;32m---> 31\u001b[0;31m     \u001b[0mveg1SqKm\u001b[0m \u001b[0;34m=\u001b[0m \u001b[0mee\u001b[0m\u001b[0;34m.\u001b[0m\u001b[0mNumber\u001b[0m\u001b[0;34m(\u001b[0m\u001b[0marea1\u001b[0m\u001b[0;34m.\u001b[0m\u001b[0mget\u001b[0m\u001b[0;34m(\u001b[0m\u001b[0;34m'classification'\u001b[0m\u001b[0;34m)\u001b[0m\u001b[0;34m)\u001b[0m\u001b[0;34m.\u001b[0m\u001b[0mdivide\u001b[0m\u001b[0;34m(\u001b[0m\u001b[0;36m1e6\u001b[0m\u001b[0;34m)\u001b[0m\u001b[0;34m.\u001b[0m\u001b[0mgetInfo\u001b[0m\u001b[0;34m(\u001b[0m\u001b[0;34m)\u001b[0m\u001b[0;34m\u001b[0m\u001b[0;34m\u001b[0m\u001b[0m\n\u001b[0m\u001b[1;32m     32\u001b[0m     \u001b[0;31m#print(str(num) + ' Area of Vegetation in 2000: ', veg1SqKm)\u001b[0m\u001b[0;34m\u001b[0m\u001b[0;34m\u001b[0m\u001b[0;34m\u001b[0m\u001b[0m\n\u001b[1;32m     33\u001b[0m \u001b[0;34m\u001b[0m\u001b[0m\n",
      "\u001b[0;32m~/.conda/envs/ee/lib/python3.7/site-packages/ee/computedobject.py\u001b[0m in \u001b[0;36mgetInfo\u001b[0;34m(self)\u001b[0m\n\u001b[1;32m     96\u001b[0m       \u001b[0mThe\u001b[0m \u001b[0mobject\u001b[0m \u001b[0mcan\u001b[0m \u001b[0mevaluate\u001b[0m \u001b[0mto\u001b[0m \u001b[0manything\u001b[0m\u001b[0;34m.\u001b[0m\u001b[0;34m\u001b[0m\u001b[0;34m\u001b[0m\u001b[0m\n\u001b[1;32m     97\u001b[0m     \"\"\"\n\u001b[0;32m---> 98\u001b[0;31m     \u001b[0;32mreturn\u001b[0m \u001b[0mdata\u001b[0m\u001b[0;34m.\u001b[0m\u001b[0mcomputeValue\u001b[0m\u001b[0;34m(\u001b[0m\u001b[0mself\u001b[0m\u001b[0;34m)\u001b[0m\u001b[0;34m\u001b[0m\u001b[0;34m\u001b[0m\u001b[0m\n\u001b[0m\u001b[1;32m     99\u001b[0m \u001b[0;34m\u001b[0m\u001b[0m\n\u001b[1;32m    100\u001b[0m   \u001b[0;32mdef\u001b[0m \u001b[0mencode\u001b[0m\u001b[0;34m(\u001b[0m\u001b[0mself\u001b[0m\u001b[0;34m,\u001b[0m \u001b[0mencoder\u001b[0m\u001b[0;34m)\u001b[0m\u001b[0;34m:\u001b[0m\u001b[0;34m\u001b[0m\u001b[0;34m\u001b[0m\u001b[0m\n",
      "\u001b[0;32m~/.conda/envs/ee/lib/python3.7/site-packages/ee/data.py\u001b[0m in \u001b[0;36mcomputeValue\u001b[0;34m(obj)\u001b[0m\n\u001b[1;32m    738\u001b[0m   return _execute_cloud_call(\n\u001b[1;32m    739\u001b[0m       _get_cloud_api_resource().projects().value().compute(\n\u001b[0;32m--> 740\u001b[0;31m           \u001b[0mbody\u001b[0m\u001b[0;34m=\u001b[0m\u001b[0;34m{\u001b[0m\u001b[0;34m'expression'\u001b[0m\u001b[0;34m:\u001b[0m \u001b[0mserializer\u001b[0m\u001b[0;34m.\u001b[0m\u001b[0mencode\u001b[0m\u001b[0;34m(\u001b[0m\u001b[0mobj\u001b[0m\u001b[0;34m,\u001b[0m \u001b[0mfor_cloud_api\u001b[0m\u001b[0;34m=\u001b[0m\u001b[0;32mTrue\u001b[0m\u001b[0;34m)\u001b[0m\u001b[0;34m}\u001b[0m\u001b[0;34m,\u001b[0m\u001b[0;34m\u001b[0m\u001b[0;34m\u001b[0m\u001b[0m\n\u001b[0m\u001b[1;32m    741\u001b[0m           \u001b[0mproject\u001b[0m\u001b[0;34m=\u001b[0m\u001b[0m_get_projects_path\u001b[0m\u001b[0;34m(\u001b[0m\u001b[0;34m)\u001b[0m\u001b[0;34m,\u001b[0m\u001b[0;34m\u001b[0m\u001b[0;34m\u001b[0m\u001b[0m\n\u001b[1;32m    742\u001b[0m           prettyPrint=False))['result']\n",
      "\u001b[0;32m~/.conda/envs/ee/lib/python3.7/site-packages/ee/serializer.py\u001b[0m in \u001b[0;36mencode\u001b[0;34m(obj, is_compound, for_cloud_api, unbound_name)\u001b[0m\n\u001b[1;32m    296\u001b[0m   serializer = Serializer(\n\u001b[1;32m    297\u001b[0m       is_compound, for_cloud_api=for_cloud_api, unbound_name=unbound_name)\n\u001b[0;32m--> 298\u001b[0;31m   \u001b[0;32mreturn\u001b[0m \u001b[0mserializer\u001b[0m\u001b[0;34m.\u001b[0m\u001b[0m_encode\u001b[0m\u001b[0;34m(\u001b[0m\u001b[0mobj\u001b[0m\u001b[0;34m)\u001b[0m  \u001b[0;31m# pylint: disable=protected-access\u001b[0m\u001b[0;34m\u001b[0m\u001b[0;34m\u001b[0m\u001b[0m\n\u001b[0m\u001b[1;32m    299\u001b[0m \u001b[0;34m\u001b[0m\u001b[0m\n\u001b[1;32m    300\u001b[0m \u001b[0;34m\u001b[0m\u001b[0m\n",
      "\u001b[0;32m~/.conda/envs/ee/lib/python3.7/site-packages/ee/serializer.py\u001b[0m in \u001b[0;36m_encode\u001b[0;34m(self, obj)\u001b[0m\n\u001b[1;32m     78\u001b[0m     \"\"\"\n\u001b[1;32m     79\u001b[0m     \u001b[0;32mif\u001b[0m \u001b[0mself\u001b[0m\u001b[0;34m.\u001b[0m\u001b[0m_for_cloud_api\u001b[0m\u001b[0;34m:\u001b[0m\u001b[0;34m\u001b[0m\u001b[0;34m\u001b[0m\u001b[0m\n\u001b[0;32m---> 80\u001b[0;31m       \u001b[0;32mreturn\u001b[0m \u001b[0mself\u001b[0m\u001b[0;34m.\u001b[0m\u001b[0m_encode_for_cloud_api\u001b[0m\u001b[0;34m(\u001b[0m\u001b[0mobj\u001b[0m\u001b[0;34m)\u001b[0m\u001b[0;34m\u001b[0m\u001b[0;34m\u001b[0m\u001b[0m\n\u001b[0m\u001b[1;32m     81\u001b[0m     \u001b[0mvalue\u001b[0m \u001b[0;34m=\u001b[0m \u001b[0mself\u001b[0m\u001b[0;34m.\u001b[0m\u001b[0m_encode_value\u001b[0m\u001b[0;34m(\u001b[0m\u001b[0mobj\u001b[0m\u001b[0;34m)\u001b[0m\u001b[0;34m\u001b[0m\u001b[0;34m\u001b[0m\u001b[0m\n\u001b[1;32m     82\u001b[0m     \u001b[0;32mif\u001b[0m \u001b[0mself\u001b[0m\u001b[0;34m.\u001b[0m\u001b[0m_is_compound\u001b[0m\u001b[0;34m:\u001b[0m\u001b[0;34m\u001b[0m\u001b[0;34m\u001b[0m\u001b[0m\n",
      "\u001b[0;32m~/.conda/envs/ee/lib/python3.7/site-packages/ee/serializer.py\u001b[0m in \u001b[0;36m_encode_for_cloud_api\u001b[0;34m(self, obj)\u001b[0m\n\u001b[1;32m     96\u001b[0m   \u001b[0;32mdef\u001b[0m \u001b[0m_encode_for_cloud_api\u001b[0m\u001b[0;34m(\u001b[0m\u001b[0mself\u001b[0m\u001b[0;34m,\u001b[0m \u001b[0mobj\u001b[0m\u001b[0;34m)\u001b[0m\u001b[0;34m:\u001b[0m\u001b[0;34m\u001b[0m\u001b[0;34m\u001b[0m\u001b[0m\n\u001b[1;32m     97\u001b[0m     \u001b[0;34m\"\"\"Encodes an object as an Expression or quasi-Expression.\"\"\"\u001b[0m\u001b[0;34m\u001b[0m\u001b[0;34m\u001b[0m\u001b[0m\n\u001b[0;32m---> 98\u001b[0;31m     \u001b[0mvalue\u001b[0m \u001b[0;34m=\u001b[0m \u001b[0mself\u001b[0m\u001b[0;34m.\u001b[0m\u001b[0m_encode_cloud_object\u001b[0m\u001b[0;34m(\u001b[0m\u001b[0mobj\u001b[0m\u001b[0;34m)\u001b[0m\u001b[0;34m\u001b[0m\u001b[0;34m\u001b[0m\u001b[0m\n\u001b[0m\u001b[1;32m     99\u001b[0m     \u001b[0;32mif\u001b[0m \u001b[0mself\u001b[0m\u001b[0;34m.\u001b[0m\u001b[0m_is_compound\u001b[0m\u001b[0;34m:\u001b[0m\u001b[0;34m\u001b[0m\u001b[0;34m\u001b[0m\u001b[0m\n\u001b[1;32m    100\u001b[0m       \u001b[0;31m# Wrap the scopes and final value into an Expression.\u001b[0m\u001b[0;34m\u001b[0m\u001b[0;34m\u001b[0m\u001b[0;34m\u001b[0m\u001b[0m\n",
      "\u001b[0;32m~/.conda/envs/ee/lib/python3.7/site-packages/ee/serializer.py\u001b[0m in \u001b[0;36m_encode_cloud_object\u001b[0;34m(self, obj)\u001b[0m\n\u001b[1;32m    219\u001b[0m     \u001b[0;32melif\u001b[0m \u001b[0misinstance\u001b[0m\u001b[0;34m(\u001b[0m\u001b[0mobj\u001b[0m\u001b[0;34m,\u001b[0m \u001b[0mencodable\u001b[0m\u001b[0;34m.\u001b[0m\u001b[0mEncodable\u001b[0m\u001b[0;34m)\u001b[0m\u001b[0;34m:\u001b[0m\u001b[0;34m\u001b[0m\u001b[0;34m\u001b[0m\u001b[0m\n\u001b[1;32m    220\u001b[0m       \u001b[0;31m# Some objects know how to encode themselves.\u001b[0m\u001b[0;34m\u001b[0m\u001b[0;34m\u001b[0m\u001b[0;34m\u001b[0m\u001b[0m\n\u001b[0;32m--> 221\u001b[0;31m       \u001b[0mresult\u001b[0m \u001b[0;34m=\u001b[0m \u001b[0mobj\u001b[0m\u001b[0;34m.\u001b[0m\u001b[0mencode_cloud_value\u001b[0m\u001b[0;34m(\u001b[0m\u001b[0mself\u001b[0m\u001b[0;34m.\u001b[0m\u001b[0m_encode_cloud_object\u001b[0m\u001b[0;34m)\u001b[0m\u001b[0;34m\u001b[0m\u001b[0;34m\u001b[0m\u001b[0m\n\u001b[0m\u001b[1;32m    222\u001b[0m     \u001b[0;32melif\u001b[0m \u001b[0misinstance\u001b[0m\u001b[0;34m(\u001b[0m\u001b[0mobj\u001b[0m\u001b[0;34m,\u001b[0m \u001b[0;34m(\u001b[0m\u001b[0mlist\u001b[0m\u001b[0;34m,\u001b[0m \u001b[0mtuple\u001b[0m\u001b[0;34m)\u001b[0m\u001b[0;34m)\u001b[0m\u001b[0;34m:\u001b[0m\u001b[0;34m\u001b[0m\u001b[0;34m\u001b[0m\u001b[0m\n\u001b[1;32m    223\u001b[0m       \u001b[0;31m# Lists are encoded recursively.\u001b[0m\u001b[0;34m\u001b[0m\u001b[0;34m\u001b[0m\u001b[0;34m\u001b[0m\u001b[0m\n",
      "\u001b[0;32m~/.conda/envs/ee/lib/python3.7/site-packages/ee/ee_number.py\u001b[0m in \u001b[0;36mencode_cloud_value\u001b[0;34m(self, opt_encoder)\u001b[0m\n\u001b[1;32m     69\u001b[0m       \u001b[0;32mreturn\u001b[0m \u001b[0m_cloud_api_utils\u001b[0m\u001b[0;34m.\u001b[0m\u001b[0mencode_number_as_cloud_value\u001b[0m\u001b[0;34m(\u001b[0m\u001b[0mself\u001b[0m\u001b[0;34m.\u001b[0m\u001b[0m_number\u001b[0m\u001b[0;34m)\u001b[0m\u001b[0;34m\u001b[0m\u001b[0;34m\u001b[0m\u001b[0m\n\u001b[1;32m     70\u001b[0m     \u001b[0;32melse\u001b[0m\u001b[0;34m:\u001b[0m\u001b[0;34m\u001b[0m\u001b[0;34m\u001b[0m\u001b[0m\n\u001b[0;32m---> 71\u001b[0;31m       \u001b[0;32mreturn\u001b[0m \u001b[0msuper\u001b[0m\u001b[0;34m(\u001b[0m\u001b[0mNumber\u001b[0m\u001b[0;34m,\u001b[0m \u001b[0mself\u001b[0m\u001b[0;34m)\u001b[0m\u001b[0;34m.\u001b[0m\u001b[0mencode_cloud_value\u001b[0m\u001b[0;34m(\u001b[0m\u001b[0mopt_encoder\u001b[0m\u001b[0;34m)\u001b[0m\u001b[0;34m\u001b[0m\u001b[0;34m\u001b[0m\u001b[0m\n\u001b[0m",
      "\u001b[0;32m~/.conda/envs/ee/lib/python3.7/site-packages/ee/computedobject.py\u001b[0m in \u001b[0;36mencode_cloud_value\u001b[0;34m(self, encoder)\u001b[0m\n\u001b[1;32m    150\u001b[0m         \u001b[0mvalue\u001b[0m \u001b[0;34m=\u001b[0m \u001b[0mself\u001b[0m\u001b[0;34m.\u001b[0m\u001b[0margs\u001b[0m\u001b[0;34m[\u001b[0m\u001b[0mname\u001b[0m\u001b[0;34m]\u001b[0m\u001b[0;34m\u001b[0m\u001b[0;34m\u001b[0m\u001b[0m\n\u001b[1;32m    151\u001b[0m         \u001b[0;32mif\u001b[0m \u001b[0mvalue\u001b[0m \u001b[0;32mis\u001b[0m \u001b[0;32mnot\u001b[0m \u001b[0;32mNone\u001b[0m\u001b[0;34m:\u001b[0m\u001b[0;34m\u001b[0m\u001b[0;34m\u001b[0m\u001b[0m\n\u001b[0;32m--> 152\u001b[0;31m           \u001b[0mencoded_args\u001b[0m\u001b[0;34m[\u001b[0m\u001b[0mname\u001b[0m\u001b[0;34m]\u001b[0m \u001b[0;34m=\u001b[0m \u001b[0;34m{\u001b[0m\u001b[0;34m'valueReference'\u001b[0m\u001b[0;34m:\u001b[0m \u001b[0mencoder\u001b[0m\u001b[0;34m(\u001b[0m\u001b[0mvalue\u001b[0m\u001b[0;34m)\u001b[0m\u001b[0;34m}\u001b[0m\u001b[0;34m\u001b[0m\u001b[0;34m\u001b[0m\u001b[0m\n\u001b[0m\u001b[1;32m    153\u001b[0m       \u001b[0minvocation\u001b[0m\u001b[0;34m[\u001b[0m\u001b[0;34m'arguments'\u001b[0m\u001b[0;34m]\u001b[0m \u001b[0;34m=\u001b[0m \u001b[0mencoded_args\u001b[0m\u001b[0;34m\u001b[0m\u001b[0;34m\u001b[0m\u001b[0m\n\u001b[1;32m    154\u001b[0m       \u001b[0;32mreturn\u001b[0m \u001b[0;34m{\u001b[0m\u001b[0;34m'functionInvocationValue'\u001b[0m\u001b[0;34m:\u001b[0m \u001b[0minvocation\u001b[0m\u001b[0;34m}\u001b[0m\u001b[0;34m\u001b[0m\u001b[0;34m\u001b[0m\u001b[0m\n",
      "\u001b[0;32m~/.conda/envs/ee/lib/python3.7/site-packages/ee/serializer.py\u001b[0m in \u001b[0;36m_encode_cloud_object\u001b[0;34m(self, obj)\u001b[0m\n\u001b[1;32m    219\u001b[0m     \u001b[0;32melif\u001b[0m \u001b[0misinstance\u001b[0m\u001b[0;34m(\u001b[0m\u001b[0mobj\u001b[0m\u001b[0;34m,\u001b[0m \u001b[0mencodable\u001b[0m\u001b[0;34m.\u001b[0m\u001b[0mEncodable\u001b[0m\u001b[0;34m)\u001b[0m\u001b[0;34m:\u001b[0m\u001b[0;34m\u001b[0m\u001b[0;34m\u001b[0m\u001b[0m\n\u001b[1;32m    220\u001b[0m       \u001b[0;31m# Some objects know how to encode themselves.\u001b[0m\u001b[0;34m\u001b[0m\u001b[0;34m\u001b[0m\u001b[0;34m\u001b[0m\u001b[0m\n\u001b[0;32m--> 221\u001b[0;31m       \u001b[0mresult\u001b[0m \u001b[0;34m=\u001b[0m \u001b[0mobj\u001b[0m\u001b[0;34m.\u001b[0m\u001b[0mencode_cloud_value\u001b[0m\u001b[0;34m(\u001b[0m\u001b[0mself\u001b[0m\u001b[0;34m.\u001b[0m\u001b[0m_encode_cloud_object\u001b[0m\u001b[0;34m)\u001b[0m\u001b[0;34m\u001b[0m\u001b[0;34m\u001b[0m\u001b[0m\n\u001b[0m\u001b[1;32m    222\u001b[0m     \u001b[0;32melif\u001b[0m \u001b[0misinstance\u001b[0m\u001b[0;34m(\u001b[0m\u001b[0mobj\u001b[0m\u001b[0;34m,\u001b[0m \u001b[0;34m(\u001b[0m\u001b[0mlist\u001b[0m\u001b[0;34m,\u001b[0m \u001b[0mtuple\u001b[0m\u001b[0;34m)\u001b[0m\u001b[0;34m)\u001b[0m\u001b[0;34m:\u001b[0m\u001b[0;34m\u001b[0m\u001b[0;34m\u001b[0m\u001b[0m\n\u001b[1;32m    223\u001b[0m       \u001b[0;31m# Lists are encoded recursively.\u001b[0m\u001b[0;34m\u001b[0m\u001b[0;34m\u001b[0m\u001b[0;34m\u001b[0m\u001b[0m\n",
      "\u001b[0;32m~/.conda/envs/ee/lib/python3.7/site-packages/ee/ee_number.py\u001b[0m in \u001b[0;36mencode_cloud_value\u001b[0;34m(self, opt_encoder)\u001b[0m\n\u001b[1;32m     69\u001b[0m       \u001b[0;32mreturn\u001b[0m \u001b[0m_cloud_api_utils\u001b[0m\u001b[0;34m.\u001b[0m\u001b[0mencode_number_as_cloud_value\u001b[0m\u001b[0;34m(\u001b[0m\u001b[0mself\u001b[0m\u001b[0;34m.\u001b[0m\u001b[0m_number\u001b[0m\u001b[0;34m)\u001b[0m\u001b[0;34m\u001b[0m\u001b[0;34m\u001b[0m\u001b[0m\n\u001b[1;32m     70\u001b[0m     \u001b[0;32melse\u001b[0m\u001b[0;34m:\u001b[0m\u001b[0;34m\u001b[0m\u001b[0;34m\u001b[0m\u001b[0m\n\u001b[0;32m---> 71\u001b[0;31m       \u001b[0;32mreturn\u001b[0m \u001b[0msuper\u001b[0m\u001b[0;34m(\u001b[0m\u001b[0mNumber\u001b[0m\u001b[0;34m,\u001b[0m \u001b[0mself\u001b[0m\u001b[0;34m)\u001b[0m\u001b[0;34m.\u001b[0m\u001b[0mencode_cloud_value\u001b[0m\u001b[0;34m(\u001b[0m\u001b[0mopt_encoder\u001b[0m\u001b[0;34m)\u001b[0m\u001b[0;34m\u001b[0m\u001b[0;34m\u001b[0m\u001b[0m\n\u001b[0m",
      "\u001b[0;32m~/.conda/envs/ee/lib/python3.7/site-packages/ee/computedobject.py\u001b[0m in \u001b[0;36mencode_cloud_value\u001b[0;34m(self, encoder)\u001b[0m\n\u001b[1;32m    150\u001b[0m         \u001b[0mvalue\u001b[0m \u001b[0;34m=\u001b[0m \u001b[0mself\u001b[0m\u001b[0;34m.\u001b[0m\u001b[0margs\u001b[0m\u001b[0;34m[\u001b[0m\u001b[0mname\u001b[0m\u001b[0;34m]\u001b[0m\u001b[0;34m\u001b[0m\u001b[0;34m\u001b[0m\u001b[0m\n\u001b[1;32m    151\u001b[0m         \u001b[0;32mif\u001b[0m \u001b[0mvalue\u001b[0m \u001b[0;32mis\u001b[0m \u001b[0;32mnot\u001b[0m \u001b[0;32mNone\u001b[0m\u001b[0;34m:\u001b[0m\u001b[0;34m\u001b[0m\u001b[0;34m\u001b[0m\u001b[0m\n\u001b[0;32m--> 152\u001b[0;31m           \u001b[0mencoded_args\u001b[0m\u001b[0;34m[\u001b[0m\u001b[0mname\u001b[0m\u001b[0;34m]\u001b[0m \u001b[0;34m=\u001b[0m \u001b[0;34m{\u001b[0m\u001b[0;34m'valueReference'\u001b[0m\u001b[0;34m:\u001b[0m \u001b[0mencoder\u001b[0m\u001b[0;34m(\u001b[0m\u001b[0mvalue\u001b[0m\u001b[0;34m)\u001b[0m\u001b[0;34m}\u001b[0m\u001b[0;34m\u001b[0m\u001b[0;34m\u001b[0m\u001b[0m\n\u001b[0m\u001b[1;32m    153\u001b[0m       \u001b[0minvocation\u001b[0m\u001b[0;34m[\u001b[0m\u001b[0;34m'arguments'\u001b[0m\u001b[0;34m]\u001b[0m \u001b[0;34m=\u001b[0m \u001b[0mencoded_args\u001b[0m\u001b[0;34m\u001b[0m\u001b[0;34m\u001b[0m\u001b[0m\n\u001b[1;32m    154\u001b[0m       \u001b[0;32mreturn\u001b[0m \u001b[0;34m{\u001b[0m\u001b[0;34m'functionInvocationValue'\u001b[0m\u001b[0;34m:\u001b[0m \u001b[0minvocation\u001b[0m\u001b[0;34m}\u001b[0m\u001b[0;34m\u001b[0m\u001b[0;34m\u001b[0m\u001b[0m\n",
      "\u001b[0;32m~/.conda/envs/ee/lib/python3.7/site-packages/ee/serializer.py\u001b[0m in \u001b[0;36m_encode_cloud_object\u001b[0;34m(self, obj)\u001b[0m\n\u001b[1;32m    219\u001b[0m     \u001b[0;32melif\u001b[0m \u001b[0misinstance\u001b[0m\u001b[0;34m(\u001b[0m\u001b[0mobj\u001b[0m\u001b[0;34m,\u001b[0m \u001b[0mencodable\u001b[0m\u001b[0;34m.\u001b[0m\u001b[0mEncodable\u001b[0m\u001b[0;34m)\u001b[0m\u001b[0;34m:\u001b[0m\u001b[0;34m\u001b[0m\u001b[0;34m\u001b[0m\u001b[0m\n\u001b[1;32m    220\u001b[0m       \u001b[0;31m# Some objects know how to encode themselves.\u001b[0m\u001b[0;34m\u001b[0m\u001b[0;34m\u001b[0m\u001b[0;34m\u001b[0m\u001b[0m\n\u001b[0;32m--> 221\u001b[0;31m       \u001b[0mresult\u001b[0m \u001b[0;34m=\u001b[0m \u001b[0mobj\u001b[0m\u001b[0;34m.\u001b[0m\u001b[0mencode_cloud_value\u001b[0m\u001b[0;34m(\u001b[0m\u001b[0mself\u001b[0m\u001b[0;34m.\u001b[0m\u001b[0m_encode_cloud_object\u001b[0m\u001b[0;34m)\u001b[0m\u001b[0;34m\u001b[0m\u001b[0;34m\u001b[0m\u001b[0m\n\u001b[0m\u001b[1;32m    222\u001b[0m     \u001b[0;32melif\u001b[0m \u001b[0misinstance\u001b[0m\u001b[0;34m(\u001b[0m\u001b[0mobj\u001b[0m\u001b[0;34m,\u001b[0m \u001b[0;34m(\u001b[0m\u001b[0mlist\u001b[0m\u001b[0;34m,\u001b[0m \u001b[0mtuple\u001b[0m\u001b[0;34m)\u001b[0m\u001b[0;34m)\u001b[0m\u001b[0;34m:\u001b[0m\u001b[0;34m\u001b[0m\u001b[0;34m\u001b[0m\u001b[0m\n\u001b[1;32m    223\u001b[0m       \u001b[0;31m# Lists are encoded recursively.\u001b[0m\u001b[0;34m\u001b[0m\u001b[0;34m\u001b[0m\u001b[0;34m\u001b[0m\u001b[0m\n",
      "\u001b[0;32m~/.conda/envs/ee/lib/python3.7/site-packages/ee/dictionary.py\u001b[0m in \u001b[0;36mencode_cloud_value\u001b[0;34m(self, opt_encoder)\u001b[0m\n\u001b[1;32m     69\u001b[0m       \u001b[0;32mreturn\u001b[0m \u001b[0;34m{\u001b[0m\u001b[0;34m'valueReference'\u001b[0m\u001b[0;34m:\u001b[0m \u001b[0mopt_encoder\u001b[0m\u001b[0;34m(\u001b[0m\u001b[0mself\u001b[0m\u001b[0;34m.\u001b[0m\u001b[0m_dictionary\u001b[0m\u001b[0;34m)\u001b[0m\u001b[0;34m}\u001b[0m\u001b[0;34m\u001b[0m\u001b[0;34m\u001b[0m\u001b[0m\n\u001b[1;32m     70\u001b[0m     \u001b[0;32melse\u001b[0m\u001b[0;34m:\u001b[0m\u001b[0;34m\u001b[0m\u001b[0;34m\u001b[0m\u001b[0m\n\u001b[0;32m---> 71\u001b[0;31m       \u001b[0;32mreturn\u001b[0m \u001b[0msuper\u001b[0m\u001b[0;34m(\u001b[0m\u001b[0mDictionary\u001b[0m\u001b[0;34m,\u001b[0m \u001b[0mself\u001b[0m\u001b[0;34m)\u001b[0m\u001b[0;34m.\u001b[0m\u001b[0mencode_cloud_value\u001b[0m\u001b[0;34m(\u001b[0m\u001b[0mopt_encoder\u001b[0m\u001b[0;34m)\u001b[0m\u001b[0;34m\u001b[0m\u001b[0;34m\u001b[0m\u001b[0m\n\u001b[0m",
      "\u001b[0;32m~/.conda/envs/ee/lib/python3.7/site-packages/ee/computedobject.py\u001b[0m in \u001b[0;36mencode_cloud_value\u001b[0;34m(self, encoder)\u001b[0m\n\u001b[1;32m    150\u001b[0m         \u001b[0mvalue\u001b[0m \u001b[0;34m=\u001b[0m \u001b[0mself\u001b[0m\u001b[0;34m.\u001b[0m\u001b[0margs\u001b[0m\u001b[0;34m[\u001b[0m\u001b[0mname\u001b[0m\u001b[0;34m]\u001b[0m\u001b[0;34m\u001b[0m\u001b[0;34m\u001b[0m\u001b[0m\n\u001b[1;32m    151\u001b[0m         \u001b[0;32mif\u001b[0m \u001b[0mvalue\u001b[0m \u001b[0;32mis\u001b[0m \u001b[0;32mnot\u001b[0m \u001b[0;32mNone\u001b[0m\u001b[0;34m:\u001b[0m\u001b[0;34m\u001b[0m\u001b[0;34m\u001b[0m\u001b[0m\n\u001b[0;32m--> 152\u001b[0;31m           \u001b[0mencoded_args\u001b[0m\u001b[0;34m[\u001b[0m\u001b[0mname\u001b[0m\u001b[0;34m]\u001b[0m \u001b[0;34m=\u001b[0m \u001b[0;34m{\u001b[0m\u001b[0;34m'valueReference'\u001b[0m\u001b[0;34m:\u001b[0m \u001b[0mencoder\u001b[0m\u001b[0;34m(\u001b[0m\u001b[0mvalue\u001b[0m\u001b[0;34m)\u001b[0m\u001b[0;34m}\u001b[0m\u001b[0;34m\u001b[0m\u001b[0;34m\u001b[0m\u001b[0m\n\u001b[0m\u001b[1;32m    153\u001b[0m       \u001b[0minvocation\u001b[0m\u001b[0;34m[\u001b[0m\u001b[0;34m'arguments'\u001b[0m\u001b[0;34m]\u001b[0m \u001b[0;34m=\u001b[0m \u001b[0mencoded_args\u001b[0m\u001b[0;34m\u001b[0m\u001b[0;34m\u001b[0m\u001b[0m\n\u001b[1;32m    154\u001b[0m       \u001b[0;32mreturn\u001b[0m \u001b[0;34m{\u001b[0m\u001b[0;34m'functionInvocationValue'\u001b[0m\u001b[0;34m:\u001b[0m \u001b[0minvocation\u001b[0m\u001b[0;34m}\u001b[0m\u001b[0;34m\u001b[0m\u001b[0;34m\u001b[0m\u001b[0m\n",
      "\u001b[0;32m~/.conda/envs/ee/lib/python3.7/site-packages/ee/serializer.py\u001b[0m in \u001b[0;36m_encode_cloud_object\u001b[0;34m(self, obj)\u001b[0m\n\u001b[1;32m    219\u001b[0m     \u001b[0;32melif\u001b[0m \u001b[0misinstance\u001b[0m\u001b[0;34m(\u001b[0m\u001b[0mobj\u001b[0m\u001b[0;34m,\u001b[0m \u001b[0mencodable\u001b[0m\u001b[0;34m.\u001b[0m\u001b[0mEncodable\u001b[0m\u001b[0;34m)\u001b[0m\u001b[0;34m:\u001b[0m\u001b[0;34m\u001b[0m\u001b[0;34m\u001b[0m\u001b[0m\n\u001b[1;32m    220\u001b[0m       \u001b[0;31m# Some objects know how to encode themselves.\u001b[0m\u001b[0;34m\u001b[0m\u001b[0;34m\u001b[0m\u001b[0;34m\u001b[0m\u001b[0m\n\u001b[0;32m--> 221\u001b[0;31m       \u001b[0mresult\u001b[0m \u001b[0;34m=\u001b[0m \u001b[0mobj\u001b[0m\u001b[0;34m.\u001b[0m\u001b[0mencode_cloud_value\u001b[0m\u001b[0;34m(\u001b[0m\u001b[0mself\u001b[0m\u001b[0;34m.\u001b[0m\u001b[0m_encode_cloud_object\u001b[0m\u001b[0;34m)\u001b[0m\u001b[0;34m\u001b[0m\u001b[0;34m\u001b[0m\u001b[0m\n\u001b[0m\u001b[1;32m    222\u001b[0m     \u001b[0;32melif\u001b[0m \u001b[0misinstance\u001b[0m\u001b[0;34m(\u001b[0m\u001b[0mobj\u001b[0m\u001b[0;34m,\u001b[0m \u001b[0;34m(\u001b[0m\u001b[0mlist\u001b[0m\u001b[0;34m,\u001b[0m \u001b[0mtuple\u001b[0m\u001b[0;34m)\u001b[0m\u001b[0;34m)\u001b[0m\u001b[0;34m:\u001b[0m\u001b[0;34m\u001b[0m\u001b[0;34m\u001b[0m\u001b[0m\n\u001b[1;32m    223\u001b[0m       \u001b[0;31m# Lists are encoded recursively.\u001b[0m\u001b[0;34m\u001b[0m\u001b[0;34m\u001b[0m\u001b[0;34m\u001b[0m\u001b[0m\n",
      "\u001b[0;32m~/.conda/envs/ee/lib/python3.7/site-packages/ee/geometry.py\u001b[0m in \u001b[0;36mencode_cloud_value\u001b[0;34m(self, encoder)\u001b[0m\n\u001b[1;32m    584\u001b[0m     \u001b[0;34m\"\"\"Returns a server-side invocation of the appropriate constructor.\"\"\"\u001b[0m\u001b[0;34m\u001b[0m\u001b[0;34m\u001b[0m\u001b[0m\n\u001b[1;32m    585\u001b[0m     \u001b[0;32mif\u001b[0m \u001b[0;32mnot\u001b[0m \u001b[0mgetattr\u001b[0m\u001b[0;34m(\u001b[0m\u001b[0mself\u001b[0m\u001b[0;34m,\u001b[0m \u001b[0;34m'_type'\u001b[0m\u001b[0;34m,\u001b[0m \u001b[0;32mNone\u001b[0m\u001b[0;34m)\u001b[0m\u001b[0;34m:\u001b[0m\u001b[0;34m\u001b[0m\u001b[0;34m\u001b[0m\u001b[0m\n\u001b[0;32m--> 586\u001b[0;31m       \u001b[0;32mreturn\u001b[0m \u001b[0msuper\u001b[0m\u001b[0;34m(\u001b[0m\u001b[0mGeometry\u001b[0m\u001b[0;34m,\u001b[0m \u001b[0mself\u001b[0m\u001b[0;34m)\u001b[0m\u001b[0;34m.\u001b[0m\u001b[0mencode_cloud_value\u001b[0m\u001b[0;34m(\u001b[0m\u001b[0mencoder\u001b[0m\u001b[0;34m)\u001b[0m\u001b[0;34m\u001b[0m\u001b[0;34m\u001b[0m\u001b[0m\n\u001b[0m\u001b[1;32m    587\u001b[0m \u001b[0;34m\u001b[0m\u001b[0m\n\u001b[1;32m    588\u001b[0m     \u001b[0;32mreturn\u001b[0m \u001b[0mself\u001b[0m\u001b[0;34m.\u001b[0m\u001b[0m_computed_equivalent\u001b[0m\u001b[0;34m.\u001b[0m\u001b[0mencode_cloud_value\u001b[0m\u001b[0;34m(\u001b[0m\u001b[0mencoder\u001b[0m\u001b[0;34m)\u001b[0m\u001b[0;34m\u001b[0m\u001b[0;34m\u001b[0m\u001b[0m\n",
      "\u001b[0;32m~/.conda/envs/ee/lib/python3.7/site-packages/ee/computedobject.py\u001b[0m in \u001b[0;36mencode_cloud_value\u001b[0;34m(self, encoder)\u001b[0m\n\u001b[1;32m    136\u001b[0m         \u001b[0;31m# case in customfunction.py for details on the unbound_name mechanism.\u001b[0m\u001b[0;34m\u001b[0m\u001b[0;34m\u001b[0m\u001b[0;34m\u001b[0m\u001b[0m\n\u001b[1;32m    137\u001b[0m         raise ee_exception.EEException(\n\u001b[0;32m--> 138\u001b[0;31m             \u001b[0;34m'A mapped function\\'s arguments cannot be used in client-side operations'\u001b[0m\u001b[0;34m\u001b[0m\u001b[0;34m\u001b[0m\u001b[0m\n\u001b[0m\u001b[1;32m    139\u001b[0m         )\n\u001b[1;32m    140\u001b[0m       \u001b[0;32mreturn\u001b[0m \u001b[0;34m{\u001b[0m\u001b[0;34m'argumentReference'\u001b[0m\u001b[0;34m:\u001b[0m \u001b[0mref\u001b[0m\u001b[0;34m}\u001b[0m\u001b[0;34m\u001b[0m\u001b[0;34m\u001b[0m\u001b[0m\n",
      "\u001b[0;31mEEException\u001b[0m: A mapped function's arguments cannot be used in client-side operations"
     ]
    }
   ],
   "source": [
    "veg = vegLoss_EX(regions)\n",
    "Map"
   ]
  },
  {
   "cell_type": "code",
   "execution_count": 184,
   "id": "6da6ac13-cb75-4846-9d81-70c5ac6e8fba",
   "metadata": {},
   "outputs": [],
   "source": [
    "def vegLoss(regionList): \n",
    "    Map.centerObject(focus, 13)\n",
    "    Map.addLayer(roi2000, modisVis, '2000', False)\n",
    "    Map.addLayer(roi2020, modisVis, '2020', False)\n",
    "    classified1 = roi2000.classify(classifier)\n",
    "    classified2 = roi2020.classify(classifier)\n",
    "    Map.addLayer(classified1, {'min': 1, 'max': 2, 'palette': ['red', 'green']}, '2000_classified', False)\n",
    "    Map.addLayer(classified2, {'min': 1, 'max': 2, 'palette': ['red', 'green']}, '2020_classified', False)\n",
    "    whole = s2 \\\n",
    "            .filter(ee.Filter.bounds(focus)) \\\n",
    "            .filter(ee.Filter.date('2020-01-01', '2020-12-31')) \\\n",
    "            .filter(ee.Filter.lt('CLOUDY_PIXEL_PERCENTAGE', 20)) \\\n",
    "            .select('B.*') \\\n",
    "            .median().clip(focus)\n",
    "    Map.addLayer(whole, rgbVisS2, 'whole', False)\n",
    "    passed = []\n",
    "    num = 0\n",
    "    for region in regionList:\n",
    "        image2000 = modis \\\n",
    "            .filter(ee.Filter.date('2000-01-01', '2000-12-31')) \\\n",
    "            .filter(ee.Filter.bounds(region)) \\\n",
    "            .select(['Nadir_Reflectance_Band1',\n",
    "                    'Nadir_Reflectance_Band4',\n",
    "                    'Nadir_Reflectance_Band3']) \\\n",
    "            .median().clip(region)\n",
    "        image2020 = modis \\\n",
    "            .filter(ee.Filter.date('2020-01-01', '2020-12-31')) \\\n",
    "            .filter(ee.Filter.bounds(region)) \\\n",
    "            .select(['Nadir_Reflectance_Band1',\n",
    "                    'Nadir_Reflectance_Band4',\n",
    "                    'Nadir_Reflectance_Band3']) \\\n",
    "            .median().clip(region)\n",
    "        # Classify the images\n",
    "        classified2020 = image2020.classify(classifier)\n",
    "        # Map.addLayer(classified2020, {'min': 1, 'max': 2, 'palette': ['red', 'green']}, str(num) + ' 2020_classified', False)\n",
    "\n",
    "        classified2000 = image2000.classify(classifier)\n",
    "        # Map.addLayer(classified2000, {'min': 1, 'max': 2, 'palette': ['red', 'green']},  str(num) + ' 2000_classified', False)\n",
    "\n",
    "        veg1 = classified2000.eq(2)\n",
    "        veg1Image = veg1.multiply(ee.Image.pixelArea())\n",
    "        area1 = veg1Image.reduceRegion(**{\n",
    "          'reducer': ee.Reducer.sum(),\n",
    "          'geometry': region,\n",
    "          'scale': 500,\n",
    "          'maxPixels': 1e10\n",
    "          })\n",
    "        veg1SqKm = ee.Number(area1.get('classification')).divide(1e6).getInfo()\n",
    "        #print(str(num) + ' Area of Vegetation in 2000: ', veg1SqKm)\n",
    "        \n",
    "        veg2 = classified2020.eq(2)\n",
    "        veg2Image = veg2.multiply(ee.Image.pixelArea())\n",
    "        area2 = veg2Image.reduceRegion(**{\n",
    "          'reducer': ee.Reducer.sum(),\n",
    "          'geometry': region,\n",
    "          'scale': 500,\n",
    "          'maxPixels': 1e10\n",
    "          })\n",
    "        veg2SqKm = ee.Number(area2.get('classification')).divide(1e6).getInfo()\n",
    "        #print(str(num) + ' Area of Vegetation in 2020: ', veg2SqKm)\n",
    "        num = num+1\n",
    "        if (veg1SqKm == 0) and (veg2SqKm == 0):\n",
    "            passed.append(region)\n",
    "            print(str(num) + ': No Vegetation at Start or End')\n",
    "        elif veg1SqKm > 0:\n",
    "            #percent decrease of vegetation area = ((original - new) / (original)) * 100\n",
    "            percentDecrease = ((veg1SqKm-veg2SqKm)/veg1SqKm)*100\n",
    "            print(str(num) + ': ' + str(percentDecrease) + '% Vegetation Loss')\n",
    "            if percentDecrease >= 20:\n",
    "                passed.append(region)\n",
    "        else:\n",
    "            print(str(num) + ': Vegetation Increased from 0 Initially')\n",
    "        \n",
    "    if len(passed) > 0:\n",
    "        layer = ee.Geometry.MultiPolygon(passed)\n",
    "        image = s2 \\\n",
    "            .filter(ee.Filter.bounds(layer)) \\\n",
    "            .filter(ee.Filter.date('2020-01-01', '2020-12-31')) \\\n",
    "            .filter(ee.Filter.lt('CLOUDY_PIXEL_PERCENTAGE', 20)) \\\n",
    "            .select('B.*') \\\n",
    "            .median().clip(layer)\n",
    "        Map.addLayer(image, rgbVisS2, 'vegLoss_pass')\n",
    "    Map\n",
    "    return passed  "
   ]
  },
  {
   "cell_type": "code",
   "execution_count": 185,
   "id": "a7d8e201-3052-45ec-8342-789e20d6b1c7",
   "metadata": {},
   "outputs": [
    {
     "name": "stdout",
     "output_type": "stream",
     "text": [
      "1: -26.58362637301275% Vegetation Loss\n",
      "2: 0.0% Vegetation Loss\n",
      "3: 10.402343258404615% Vegetation Loss\n",
      "4: 58.65985393888328% Vegetation Loss\n",
      "5: -80.29933006837024% Vegetation Loss\n",
      "6: -564.5097177138656% Vegetation Loss\n",
      "7: -4.952143638584937% Vegetation Loss\n",
      "8: 0.0% Vegetation Loss\n",
      "9: 0.0% Vegetation Loss\n",
      "10: 0.0% Vegetation Loss\n",
      "11: -70.23355293384684% Vegetation Loss\n",
      "12: 0.0% Vegetation Loss\n",
      "13: 57.36733301065784% Vegetation Loss\n",
      "14: 64.02360822487636% Vegetation Loss\n",
      "15: -16.404261577648512% Vegetation Loss\n",
      "16: 100.0% Vegetation Loss\n",
      "17: 82.26592731200685% Vegetation Loss\n",
      "18: 16.19223770034255% Vegetation Loss\n",
      "19: -34.78804780037075% Vegetation Loss\n",
      "20: -19.320689702281587% Vegetation Loss\n",
      "21: -29.452475499031884% Vegetation Loss\n",
      "22: 37.22961451686399% Vegetation Loss\n",
      "23: 10.609123263857922% Vegetation Loss\n",
      "24: 83.79185647682702% Vegetation Loss\n",
      "25: 93.67274542472043% Vegetation Loss\n",
      "26: No Vegetation at Start or End\n",
      "27: 100.0% Vegetation Loss\n",
      "28: 38.56722259737718% Vegetation Loss\n",
      "29: -67.87518834585289% Vegetation Loss\n",
      "30: -180.71489886026507% Vegetation Loss\n",
      "31: -301.0189477725307% Vegetation Loss\n",
      "32: 93.05726580852512% Vegetation Loss\n",
      "33: 19.351736818492565% Vegetation Loss\n",
      "34: 32.499894558151375% Vegetation Loss\n",
      "35: 100.0% Vegetation Loss\n",
      "36: No Vegetation at Start or End\n",
      "37: 100.0% Vegetation Loss\n",
      "38: 59.56806344271366% Vegetation Loss\n",
      "39: -0.8911012926467559% Vegetation Loss\n",
      "40: -14.623271368009078% Vegetation Loss\n",
      "41: 8.879457459684101% Vegetation Loss\n",
      "42: 88.70333979496776% Vegetation Loss\n",
      "43: 21.021470213579605% Vegetation Loss\n",
      "44: 4.906837842838933% Vegetation Loss\n",
      "45: 7.128810343147187% Vegetation Loss\n",
      "46: 0.0% Vegetation Loss\n",
      "47: 100.0% Vegetation Loss\n",
      "48: 28.832125117738222% Vegetation Loss\n",
      "49: 0.0% Vegetation Loss\n",
      "50: -46.19824430143529% Vegetation Loss\n",
      "51: 0.8840984480139739% Vegetation Loss\n",
      "52: 7.072787584111779% Vegetation Loss\n",
      "53: 4.023607160024765% Vegetation Loss\n",
      "54: 0.0% Vegetation Loss\n",
      "55: 0.0% Vegetation Loss\n",
      "56: 56.860551360224655% Vegetation Loss\n",
      "57: 32.216526674408065% Vegetation Loss\n",
      "58: -508.45707176298055% Vegetation Loss\n",
      "59: -23.966038670814914% Vegetation Loss\n",
      "60: 0.0% Vegetation Loss\n",
      "61: 0.0% Vegetation Loss\n",
      "62: 0.0% Vegetation Loss\n",
      "63: 0.0% Vegetation Loss\n",
      "64: 0.0% Vegetation Loss\n",
      "65: 0.0% Vegetation Loss\n",
      "66: 4.906838132169893% Vegetation Loss\n",
      "67: -2.8095074575627725% Vegetation Loss\n",
      "68: -299.6070979095143% Vegetation Loss\n",
      "69: -23.966039464782966% Vegetation Loss\n",
      "70: 0.0% Vegetation Loss\n"
     ]
    }
   ],
   "source": [
    "passed_veg = vegLoss(regions)"
   ]
  },
  {
   "cell_type": "code",
   "execution_count": 186,
   "id": "b1ba15f0-d934-4640-a156-368065189b14",
   "metadata": {},
   "outputs": [
    {
     "data": {
      "application/vnd.jupyter.widget-view+json": {
       "model_id": "90183384a73b4980910cd142a2edd778",
       "version_major": 2,
       "version_minor": 0
      },
      "text/plain": [
       "Map(bottom=1092976.0, center=[-7.54829224824849, 27.393320353717847], controls=(WidgetControl(options=['positi…"
      ]
     },
     "metadata": {},
     "output_type": "display_data"
    }
   ],
   "source": [
    "Map"
   ]
  },
  {
   "cell_type": "markdown",
   "id": "351d9bd6-fe81-4e27-898d-af70c23ef986",
   "metadata": {},
   "source": [
    "<h3> Evaluating Regions by NDMI </h3>"
   ]
  },
  {
   "cell_type": "code",
   "execution_count": 187,
   "id": "494c5195-d476-4e65-afba-c48011767216",
   "metadata": {},
   "outputs": [],
   "source": [
    "def create_ndmi_layers_modis(start, end, geometry):\n",
    "    images = []\n",
    "    ndmiStart = modis \\\n",
    "                .filter(ee.Filter.bounds(geometry))\\\n",
    "                .filter(ee.Filter.date(str(start) + '-01-01', str(start) + '-12-31')) \\\n",
    "                .median() \\\n",
    "                .clip(geometry)\n",
    "    ndmiStart2 = ndmiStart.normalizedDifference(['Nadir_Reflectance_Band2', 'Nadir_Reflectance_Band6']).rename('NDMI')\n",
    "    images.append((ndmiStart2, start))\n",
    "    ndmiEnd = modis \\\n",
    "                .filter(ee.Filter.bounds(geometry))\\\n",
    "                .filter(ee.Filter.date(str(end) + '-01-01', str(end) + '-12-31')) \\\n",
    "                .median() \\\n",
    "                .clip(geometry)\n",
    "    ndmiEnd2 = ndmiEnd.normalizedDifference(['Nadir_Reflectance_Band2', 'Nadir_Reflectance_Band6']).rename('NDMI')\n",
    "    images.append((ndmiEnd2, end))\n",
    "    return images"
   ]
  },
  {
   "cell_type": "code",
   "execution_count": 188,
   "id": "a6f3075d-bb35-4025-9c33-d6c85ab7a2f2",
   "metadata": {},
   "outputs": [],
   "source": [
    "def extract_ndmi_modis(image):\n",
    "    stats = image.reduceRegion(**{\n",
    "        'reducer': ee.Reducer.mean(),\n",
    "        'geometry': image.geometry(),\n",
    "        'scale': 100\n",
    "    })\n",
    "    \n",
    "    properties = {\n",
    "        'Year': image.get('system:index'),\n",
    "        'NDMI': stats.get('NDMI')\n",
    "    }\n",
    "    \n",
    "    return ee.Feature(None, properties)"
   ]
  },
  {
   "cell_type": "code",
   "execution_count": 189,
   "id": "a2e34183-6805-4a14-9184-d4c1c4fed202",
   "metadata": {},
   "outputs": [],
   "source": [
    "def ndmiLoss(regionList):\n",
    "    #Map = geemap.Map()\n",
    "    passed_ndmi = []\n",
    "    num = 1\n",
    "    for region in regionList:\n",
    "        imagesNDMI = ee.ImageCollection(create_ndmi_layers_modis(2000, 2020, region))\n",
    "        dataNDMI = ee.FeatureCollection(imagesNDMI.map(extract_ndmi_modis))\n",
    "        dfNDMI = geemap.ee_to_pandas(dataNDMI)\n",
    "        loss = dfNDMI.iat[0,1]-dfNDMI.iat[1,1]\n",
    "        print(str(num) + ': ' + str(loss) + ' NDMI Loss')\n",
    "        num = num+1\n",
    "        if loss > 0:\n",
    "             passed_ndmi.append(region)\n",
    "    if len(passed_ndmi) > 0:\n",
    "        \n",
    "        layer_ndmi = ee.Geometry.MultiPolygon(passed_ndmi)\n",
    "        image = s2 \\\n",
    "            .filter(ee.Filter.bounds(layer_ndmi)) \\\n",
    "            .filter(ee.Filter.date('2020-01-01', '2020-12-31')) \\\n",
    "            .filter(ee.Filter.lt('CLOUDY_PIXEL_PERCENTAGE', 20)) \\\n",
    "            .select('B.*') \\\n",
    "            .median().clip(layer_ndmi)\n",
    "        Map.addLayer(image, rgbVisS2, 'pass ndmi')\n",
    "    Map\n",
    "    return passed_ndmi"
   ]
  },
  {
   "cell_type": "code",
   "execution_count": 190,
   "id": "f18fa994-4348-481e-8b5c-0ce48e2e3bef",
   "metadata": {},
   "outputs": [
    {
     "name": "stdout",
     "output_type": "stream",
     "text": [
      "1: 0.017244721862564635 NDMI Loss\n",
      "2: 0.015221081795160171 NDMI Loss\n",
      "3: 0.04323306365100267 NDMI Loss\n",
      "4: -0.007118734313111927 NDMI Loss\n",
      "5: -0.013782842636708863 NDMI Loss\n",
      "6: 0.012069184703806274 NDMI Loss\n",
      "7: 0.12955915266323845 NDMI Loss\n",
      "8: 0.12995933095001472 NDMI Loss\n",
      "9: 0.09110831633918179 NDMI Loss\n",
      "10: 0.037093876731847504 NDMI Loss\n",
      "11: 0.0038574559095642252 NDMI Loss\n",
      "12: 0.08921465015964233 NDMI Loss\n",
      "13: 0.04408220388484482 NDMI Loss\n",
      "14: 0.10175740618148538 NDMI Loss\n",
      "15: 0.07200705811829107 NDMI Loss\n",
      "16: 0.0072233737515542545 NDMI Loss\n",
      "17: -0.0036080723778562085 NDMI Loss\n",
      "18: 0.03921648620026212 NDMI Loss\n",
      "19: 0.0036456714508246446 NDMI Loss\n",
      "20: 0.022892197655552792 NDMI Loss\n",
      "21: -0.038924305669345516 NDMI Loss\n",
      "22: 0.0006124206797471082 NDMI Loss\n",
      "23: -0.03116386190090424 NDMI Loss\n"
     ]
    }
   ],
   "source": [
    "passed_ndmi = ndmiLoss(passed_veg)"
   ]
  },
  {
   "cell_type": "code",
   "execution_count": 191,
   "id": "3e5661ef-40de-4ec3-a15d-a8629988041b",
   "metadata": {},
   "outputs": [
    {
     "data": {
      "application/vnd.jupyter.widget-view+json": {
       "model_id": "90183384a73b4980910cd142a2edd778",
       "version_major": 2,
       "version_minor": 0
      },
      "text/plain": [
       "Map(bottom=1092976.0, center=[-7.54829224824849, 27.393320353717847], controls=(WidgetControl(options=['positi…"
      ]
     },
     "metadata": {},
     "output_type": "display_data"
    }
   ],
   "source": [
    "Map"
   ]
  },
  {
   "cell_type": "markdown",
   "id": "50355013-ec9f-43fa-b020-f48b8bd00f38",
   "metadata": {},
   "source": [
    "<h3> Evaluating Regions by NIR/SWIR2 </h3>"
   ]
  },
  {
   "cell_type": "code",
   "execution_count": 192,
   "id": "8849bf1c-5829-4278-ac54-6d750e694767",
   "metadata": {},
   "outputs": [],
   "source": [
    "def create_nirSwir2_layers_modis(start, end, geometry):\n",
    "    images = []\n",
    "    nirSwir2Start = modis \\\n",
    "                .filter(ee.Filter.bounds(geometry))\\\n",
    "                .filter(ee.Filter.date(str(start) + '-01-01', str(start) + '-12-31')) \\\n",
    "                .median() \\\n",
    "                .clip(geometry)\n",
    "    nirSwir2Start2 = nirSwir2Start.normalizedDifference(['Nadir_Reflectance_Band2', 'Nadir_Reflectance_Band7']).rename('nirSwir2')\n",
    "    images.append((nirSwir2Start2, start))\n",
    "    nirSwir2End = modis \\\n",
    "                .filter(ee.Filter.bounds(geometry))\\\n",
    "                .filter(ee.Filter.date(str(end) + '-01-01', str(end) + '-12-31')) \\\n",
    "                .median() \\\n",
    "                .clip(geometry)\n",
    "    nirSwir2End2 = nirSwir2End.normalizedDifference(['Nadir_Reflectance_Band2', 'Nadir_Reflectance_Band7']).rename('nirSwir2')\n",
    "    images.append((nirSwir2End2, end))\n",
    "    return images"
   ]
  },
  {
   "cell_type": "code",
   "execution_count": 193,
   "id": "9a506626-4898-4287-827d-c5da92738406",
   "metadata": {},
   "outputs": [],
   "source": [
    "def extract_nirSwir2_modis(image):\n",
    "    stats = image.reduceRegion(**{\n",
    "        'reducer': ee.Reducer.mean(),\n",
    "        'geometry': image.geometry(),\n",
    "        'scale': 100\n",
    "    })\n",
    "    \n",
    "    properties = {\n",
    "        'Year': image.get('system:index'),\n",
    "        'nirSwir2': stats.get('nirSwir2')\n",
    "    }\n",
    "    \n",
    "    return ee.Feature(None, properties)"
   ]
  },
  {
   "cell_type": "code",
   "execution_count": 194,
   "id": "52c7daa3-45f3-4e33-9545-392da45391bd",
   "metadata": {},
   "outputs": [],
   "source": [
    "def ns2Loss(regionList):\n",
    "    passed_ns2 = []\n",
    "    num = 1\n",
    "    for region in regionList:\n",
    "        imagesNirSwir2 = ee.ImageCollection(create_nirSwir2_layers_modis(2000, 2020, region))\n",
    "        dataNirSwir2 = ee.FeatureCollection(imagesNirSwir2.map(extract_nirSwir2_modis))\n",
    "        dfNirSwir2 = geemap.ee_to_pandas(dataNirSwir2)\n",
    "        loss = dfNirSwir2.iat[0,1]-dfNirSwir2.iat[1,1]\n",
    "        print(str(num) + ': ' + str(loss) + ' NIR/SWIR2 Loss')\n",
    "        num = num+1\n",
    "        if loss > 0:\n",
    "            passed_ns2.append(region)\n",
    "    if len(passed_ns2) > 0:\n",
    "        layer_ns2 = ee.Geometry.MultiPolygon(passed_ns2)\n",
    "        image = s2 \\\n",
    "            .filter(ee.Filter.bounds(layer_ns2)) \\\n",
    "            .filter(ee.Filter.date('2020-01-01', '2020-12-31')) \\\n",
    "            .filter(ee.Filter.lt('CLOUDY_PIXEL_PERCENTAGE', 20)) \\\n",
    "            .select('B.*') \\\n",
    "            .median().clip(layer_ns2)\n",
    "        Map.addLayer(image, rgbVisS2, 'pass nir/swir2')\n",
    "    Map\n",
    "    return passed_ns2"
   ]
  },
  {
   "cell_type": "code",
   "execution_count": 195,
   "id": "f87d3dc0-10db-4ffc-b70d-85dded6e7b13",
   "metadata": {},
   "outputs": [
    {
     "name": "stdout",
     "output_type": "stream",
     "text": [
      "1: -0.005699903063529632 NIR/SWIR2 Loss\n",
      "2: 0.024499929306567136 NIR/SWIR2 Loss\n",
      "3: 0.05521097662673102 NIR/SWIR2 Loss\n",
      "4: 0.005653463396842084 NIR/SWIR2 Loss\n",
      "5: 0.17604630945004446 NIR/SWIR2 Loss\n",
      "6: 0.2414937623333711 NIR/SWIR2 Loss\n",
      "7: 0.2317196915535716 NIR/SWIR2 Loss\n",
      "8: 0.14203091777506666 NIR/SWIR2 Loss\n",
      "9: 0.002389426798608818 NIR/SWIR2 Loss\n",
      "10: 0.10873056021271238 NIR/SWIR2 Loss\n",
      "11: 0.03216808840756796 NIR/SWIR2 Loss\n",
      "12: 0.16199154933059118 NIR/SWIR2 Loss\n",
      "13: 0.16662272003127082 NIR/SWIR2 Loss\n",
      "14: 0.10879453610138073 NIR/SWIR2 Loss\n",
      "15: 0.008373168272671483 NIR/SWIR2 Loss\n",
      "16: -0.03314054695118973 NIR/SWIR2 Loss\n",
      "17: 0.12665095531090512 NIR/SWIR2 Loss\n",
      "18: 0.020718840300245067 NIR/SWIR2 Loss\n"
     ]
    }
   ],
   "source": [
    "passed_ns2 = ns2Loss(passed_ndmi)"
   ]
  },
  {
   "cell_type": "code",
   "execution_count": 196,
   "id": "2399d6f8-70c1-462e-a5f0-4d525d12f0b8",
   "metadata": {},
   "outputs": [
    {
     "data": {
      "application/vnd.jupyter.widget-view+json": {
       "model_id": "90183384a73b4980910cd142a2edd778",
       "version_major": 2,
       "version_minor": 0
      },
      "text/plain": [
       "Map(bottom=1092976.0, center=[-7.54829224824849, 27.393320353717847], controls=(WidgetControl(options=['positi…"
      ]
     },
     "metadata": {},
     "output_type": "display_data"
    }
   ],
   "source": [
    "Map"
   ]
  },
  {
   "cell_type": "markdown",
   "id": "8ef3ae89-20ef-45c6-8405-b271be8161c2",
   "metadata": {},
   "source": [
    "<h3> Evaluating Regions by NIR/G </h3>"
   ]
  },
  {
   "cell_type": "code",
   "execution_count": 197,
   "id": "2ef2424f-92e3-4453-924c-c1932fa9d1f8",
   "metadata": {},
   "outputs": [],
   "source": [
    "def create_nirG_layers_modis(start, end, geometry):\n",
    "    images = []\n",
    "    nirGStart = modis \\\n",
    "                .filter(ee.Filter.bounds(geometry))\\\n",
    "                .filter(ee.Filter.date(str(start) + '-01-01', str(start) + '-12-31')) \\\n",
    "                .median() \\\n",
    "                .clip(geometry)\n",
    "    nirGStart2 = nirGStart.normalizedDifference(['Nadir_Reflectance_Band2', 'Nadir_Reflectance_Band4']).rename('nirG')\n",
    "    images.append((nirGStart2, start))\n",
    "    nirGEnd = modis \\\n",
    "                .filter(ee.Filter.bounds(geometry))\\\n",
    "                .filter(ee.Filter.date(str(end) + '-01-01', str(end) + '-12-31')) \\\n",
    "                .median() \\\n",
    "                .clip(geometry)\n",
    "    nirGEnd2 = nirGEnd.normalizedDifference(['Nadir_Reflectance_Band2', 'Nadir_Reflectance_Band4']).rename('nirG')\n",
    "    images.append((nirGEnd2, end))\n",
    "    return images"
   ]
  },
  {
   "cell_type": "code",
   "execution_count": 198,
   "id": "8994ad07-3d9f-4b5a-b52c-7dc660d233c2",
   "metadata": {},
   "outputs": [],
   "source": [
    "def extract_nirG_modis(image):\n",
    "    stats = image.reduceRegion(**{\n",
    "        'reducer': ee.Reducer.mean(),\n",
    "        'geometry': image.geometry(),\n",
    "        'scale': 100\n",
    "    })\n",
    "    \n",
    "    properties = {\n",
    "        'Year': image.get('system:index'),\n",
    "        'nirG': stats.get('nirG')\n",
    "    }\n",
    "    \n",
    "    return ee.Feature(None, properties)"
   ]
  },
  {
   "cell_type": "code",
   "execution_count": 199,
   "id": "3d7f01d9-1c7c-453b-8ed9-805bce5428c1",
   "metadata": {},
   "outputs": [],
   "source": [
    "def ngLoss(regionList):\n",
    "    passed_ng = []\n",
    "    num = 1\n",
    "    for region in regionList:\n",
    "        imagesNirG = ee.ImageCollection(create_nirG_layers_modis(2000, 2020, region))\n",
    "        dataNirG = ee.FeatureCollection(imagesNirG.map(extract_nirG_modis))\n",
    "        dfNirG = geemap.ee_to_pandas(dataNirG)\n",
    "        loss = dfNirG.iat[0,0]-dfNirG.iat[1,0]\n",
    "        print(str(num) + ': ' + str(loss) + ' NIR/G Loss')\n",
    "        num = num+1\n",
    "        if loss > 0.02:\n",
    "            passed_ng.append(region)\n",
    "    if len(passed_ng) > 0:\n",
    "        layer_ng = ee.Geometry.MultiPolygon(passed_ng)\n",
    "        image = s2 \\\n",
    "            .filter(ee.Filter.bounds(layer_ng)) \\\n",
    "            .filter(ee.Filter.date('2020-01-01', '2020-12-31')) \\\n",
    "            .filter(ee.Filter.lt('CLOUDY_PIXEL_PERCENTAGE', 20)) \\\n",
    "            .select('B.*') \\\n",
    "            .median().clip(layer_ng)\n",
    "        Map.addLayer(image, rgbVisS2, 'pass nir/g')\n",
    "    Map\n",
    "    return passed_ng"
   ]
  },
  {
   "cell_type": "code",
   "execution_count": 200,
   "id": "e8fbfdda-293d-4467-8ad1-37547596e53e",
   "metadata": {},
   "outputs": [
    {
     "name": "stdout",
     "output_type": "stream",
     "text": [
      "1: -0.0043559256442531336 NIR/G Loss\n",
      "2: 0.013354291295854415 NIR/G Loss\n",
      "3: -0.007642127197205029 NIR/G Loss\n",
      "4: 0.06539817090284505 NIR/G Loss\n",
      "5: 0.07993697681532941 NIR/G Loss\n",
      "6: 0.14173912577939674 NIR/G Loss\n",
      "7: 0.055720661284736295 NIR/G Loss\n",
      "8: -0.01862329513723804 NIR/G Loss\n",
      "9: 0.059917949498527245 NIR/G Loss\n",
      "10: 0.007610462110373306 NIR/G Loss\n",
      "11: 0.10376656340603008 NIR/G Loss\n",
      "12: 0.03909728772008225 NIR/G Loss\n",
      "13: -0.0024431271271367905 NIR/G Loss\n",
      "14: 0.02096525230624091 NIR/G Loss\n",
      "15: 0.002134978405744392 NIR/G Loss\n",
      "16: -0.03696058343432407 NIR/G Loss\n"
     ]
    }
   ],
   "source": [
    "passed_ng = ngLoss(passed_ns2)"
   ]
  },
  {
   "cell_type": "code",
   "execution_count": 201,
   "id": "abb3d2a5-2ef6-4d0c-857e-4b2741481e15",
   "metadata": {},
   "outputs": [
    {
     "data": {
      "application/vnd.jupyter.widget-view+json": {
       "model_id": "90183384a73b4980910cd142a2edd778",
       "version_major": 2,
       "version_minor": 0
      },
      "text/plain": [
       "Map(bottom=1092976.0, center=[-7.54829224824849, 27.393320353717847], controls=(WidgetControl(options=['positi…"
      ]
     },
     "metadata": {},
     "output_type": "display_data"
    }
   ],
   "source": [
    "Map"
   ]
  },
  {
   "cell_type": "markdown",
   "id": "52b50359-06e0-4b49-92f2-5dcc311db5f3",
   "metadata": {},
   "source": [
    "<h3> Evaluate Regions to find Tailing Ponds </h3>"
   ]
  },
  {
   "cell_type": "code",
   "execution_count": 202,
   "id": "33e1585d-9a8b-43d8-a538-5f30eb3abda7",
   "metadata": {},
   "outputs": [],
   "source": [
    "def ndmiGain(regionList):\n",
    "    Map.centerObject(focus, 13)\n",
    "    passed_ndmi_gain = []\n",
    "    num = 1\n",
    "    for region in regionList:\n",
    "        imagesNDMI = ee.ImageCollection(create_ndmi_layers_modis(2000, 2020, region))\n",
    "        dataNDMI = ee.FeatureCollection(imagesNDMI.map(extract_ndmi_modis))\n",
    "        dfNDMI = geemap.ee_to_pandas(dataNDMI)\n",
    "        gain = dfNDMI.iat[0,1] - dfNDMI.iat[1,1]\n",
    "        print(str(num) + ': ' + str(gain) + ' NDMI Gain')\n",
    "        num = num+1\n",
    "        if gain < 0:\n",
    "            passed_ndmi_gain.append(region)\n",
    "    print(len(passed_ndmi_gain))\n",
    "    if len(passed_ndmi_gain) > 0:\n",
    "        layer_ndmi = ee.Geometry.MultiPolygon(passed_ndmi_gain)\n",
    "        image = s2 \\\n",
    "            .filter(ee.Filter.bounds(layer_ndmi)) \\\n",
    "            .filter(ee.Filter.date('2020-01-01', '2020-12-31')) \\\n",
    "            .filter(ee.Filter.lt('CLOUDY_PIXEL_PERCENTAGE', 20)) \\\n",
    "            .select('B.*') \\\n",
    "            .median().clip(layer_ndmi)\n",
    "        Map.addLayer(image, rgbVisS2, 'pass_ndmi_gain')\n",
    "    return passed_ndmi_gain"
   ]
  },
  {
   "cell_type": "code",
   "execution_count": 203,
   "id": "07ccf6f4-b8af-4735-9cbe-3d1f75d7988f",
   "metadata": {},
   "outputs": [
    {
     "name": "stdout",
     "output_type": "stream",
     "text": [
      "1: 0.017244721862564635 NDMI Gain\n",
      "2: 0.015221081795160171 NDMI Gain\n",
      "3: 0.04323306365100267 NDMI Gain\n",
      "4: -0.007118734313111927 NDMI Gain\n",
      "5: -0.013782842636708863 NDMI Gain\n",
      "6: 0.012069184703806274 NDMI Gain\n",
      "7: 0.12955915266323845 NDMI Gain\n",
      "8: 0.12995933095001472 NDMI Gain\n",
      "9: 0.09110831633918179 NDMI Gain\n",
      "10: 0.037093876731847504 NDMI Gain\n",
      "11: 0.0038574559095642252 NDMI Gain\n",
      "12: 0.08921465015964233 NDMI Gain\n",
      "13: 0.04408220388484482 NDMI Gain\n",
      "14: 0.10175740618148538 NDMI Gain\n",
      "15: 0.07200705811829107 NDMI Gain\n",
      "16: 0.0072233737515542545 NDMI Gain\n",
      "17: -0.0036080723778562085 NDMI Gain\n",
      "18: 0.03921648620026212 NDMI Gain\n",
      "19: 0.0036456714508246446 NDMI Gain\n",
      "20: 0.022892197655552792 NDMI Gain\n",
      "21: -0.038924305669345516 NDMI Gain\n",
      "22: 0.0006124206797471082 NDMI Gain\n",
      "23: -0.03116386190090424 NDMI Gain\n",
      "5\n"
     ]
    }
   ],
   "source": [
    "tailingPonds = ndmiGain(passed_veg)"
   ]
  },
  {
   "cell_type": "code",
   "execution_count": 204,
   "id": "042aefe1-6eb8-42a2-a352-fee6f2d29b69",
   "metadata": {},
   "outputs": [
    {
     "data": {
      "application/vnd.jupyter.widget-view+json": {
       "model_id": "90183384a73b4980910cd142a2edd778",
       "version_major": 2,
       "version_minor": 0
      },
      "text/plain": [
       "Map(bottom=1092976.0, center=[-7.54829224824849, 27.393320353717847], controls=(WidgetControl(options=['positi…"
      ]
     },
     "metadata": {},
     "output_type": "display_data"
    }
   ],
   "source": [
    "Map"
   ]
  }
 ],
 "metadata": {
  "kernelspec": {
   "display_name": "Python 3 (ipykernel)",
   "language": "python",
   "name": "python3"
  },
  "language_info": {
   "codemirror_mode": {
    "name": "ipython",
    "version": 3
   },
   "file_extension": ".py",
   "mimetype": "text/x-python",
   "name": "python",
   "nbconvert_exporter": "python",
   "pygments_lexer": "ipython3",
   "version": "3.10.2"
  }
 },
 "nbformat": 4,
 "nbformat_minor": 5
}
