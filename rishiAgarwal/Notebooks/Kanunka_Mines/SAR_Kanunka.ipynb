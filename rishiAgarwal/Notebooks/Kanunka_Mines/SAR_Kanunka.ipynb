{
 "cells": [
  {
   "cell_type": "code",
   "execution_count": 1,
   "id": "61f757c1-db80-4815-bc49-db66c9660b29",
   "metadata": {},
   "outputs": [
    {
     "data": {
      "text/html": [
       "<p>To authorize access needed by Earth Engine, open the following\n",
       "        URL in a web browser and follow the instructions:</p>\n",
       "        <p><a href=https://accounts.google.com/o/oauth2/auth?client_id=517222506229-vsmmajv00ul0bs7p89v5m89qs8eb9359.apps.googleusercontent.com&scope=https%3A%2F%2Fwww.googleapis.com%2Fauth%2Fearthengine+https%3A%2F%2Fwww.googleapis.com%2Fauth%2Fdevstorage.full_control&redirect_uri=urn%3Aietf%3Awg%3Aoauth%3A2.0%3Aoob&response_type=code&code_challenge=wPDjkLP6rZcBJiNvW6x9KQSADmEsDefa-bYJzFhnUxk&code_challenge_method=S256>https://accounts.google.com/o/oauth2/auth?client_id=517222506229-vsmmajv00ul0bs7p89v5m89qs8eb9359.apps.googleusercontent.com&scope=https%3A%2F%2Fwww.googleapis.com%2Fauth%2Fearthengine+https%3A%2F%2Fwww.googleapis.com%2Fauth%2Fdevstorage.full_control&redirect_uri=urn%3Aietf%3Awg%3Aoauth%3A2.0%3Aoob&response_type=code&code_challenge=wPDjkLP6rZcBJiNvW6x9KQSADmEsDefa-bYJzFhnUxk&code_challenge_method=S256</a></p>\n",
       "        <p>The authorization workflow will generate a code, which you\n",
       "        should paste in the box below</p>\n",
       "        "
      ],
      "text/plain": [
       "<IPython.core.display.HTML object>"
      ]
     },
     "metadata": {},
     "output_type": "display_data"
    },
    {
     "name": "stdin",
     "output_type": "stream",
     "text": [
      "Enter verification code:  4/1AX4XfWgz3zfWg-_VOs9SSY8AjBnACQ4JKMp57NB8Bv6U32n7EBZ-t5yfWBM\n"
     ]
    },
    {
     "name": "stdout",
     "output_type": "stream",
     "text": [
      "\n",
      "Successfully saved authorization token.\n"
     ]
    }
   ],
   "source": [
    "import ee\n",
    "import collections\n",
    "collections.Callable = collections.abc.Callable\n",
    "import geemap\n",
    "from geemap import chart\n",
    "\n",
    "%matplotlib inline\n",
    "import matplotlib.pyplot as plt\n",
    "\n",
    "ee.Authenticate()\n",
    "ee.Initialize()"
   ]
  },
  {
   "cell_type": "markdown",
   "id": "498552da-2f36-437e-ad43-6815f5034416",
   "metadata": {},
   "source": [
    "<h3> Imports </h3>"
   ]
  },
  {
   "cell_type": "code",
   "execution_count": 16,
   "id": "af2ffe4a-0d69-49f6-b289-516cdbaac5e3",
   "metadata": {},
   "outputs": [],
   "source": [
    "s2 = ee.ImageCollection(\"COPERNICUS/S2_SR\")\n",
    "gsw = ee.Image(\"JRC/GSW1_3/GlobalSurfaceWater\")\n",
    "s1 = ee.ImageCollection('COPERNICUS/S1_GRD')\n",
    "ls8 = ee.ImageCollection(\"LANDSAT/LC08/C02/T1_L2\")\n",
    "focus = ee.Geometry.Polygon(\n",
    "        [[[27.350233348102517, -7.518171474050515],\n",
    "          [27.350233348102517, -7.57841301205225],\n",
    "          [27.436407359332986, -7.57841301205225],\n",
    "          [27.436407359332986, -7.518171474050515]]])\n",
    "WestMine = ee.Geometry.Polygon(\n",
    "        [[[27.358738291876765, -7.561662590595413],\n",
    "          [27.36234318079278, -7.564044944105011],\n",
    "          [27.370411265509578, -7.545155923172768],\n",
    "          [27.363201487677546, -7.53885939945966],\n",
    "          [27.35564838709161, -7.542262937167664]]])\n",
    "EastMine = ee.Geometry.Polygon(\n",
    "        [[[27.40010868372247, -7.521416293051669],\n",
    "          [27.400966990607234, -7.534520294117901],\n",
    "          [27.381225932257625, -7.552729091874256],\n",
    "          [27.384659159796687, -7.55426063803815],\n",
    "          [27.40457187952325, -7.542008116801026],\n",
    "          [27.406975138800593, -7.53877475471045],\n",
    "          [27.40285526575372, -7.521586477421349]]])\n",
    "TailingPond = ee.Geometry.MultiPolygon(\n",
    "        [[[[27.40117714611331, -7.528029420400128],\n",
    "           [27.40143463817874, -7.529901416251066],\n",
    "           [27.40237877575198, -7.5338155632667805],\n",
    "           [27.404009558833035, -7.535347176386731],\n",
    "           [27.403837897456082, -7.531603223645428],\n",
    "           [27.402807929194363, -7.53075232078353],\n",
    "           [27.402464606440457, -7.527518874674277]]],\n",
    "         [[[27.401692130244168, -7.537219140622778],\n",
    "           [27.40160629955569, -7.538835830496198],\n",
    "           [27.402207114375027, -7.539516540215821],\n",
    "           [27.40564034191409, -7.539091096766489],\n",
    "           [27.40564034191409, -7.538410386377943]]],\n",
    "         [[[27.38813088146487, -7.548791103460967],\n",
    "           [27.38890335766116, -7.549046363857512],\n",
    "           [27.391821601069363, -7.5484507560311345],\n",
    "           [27.389761664545926, -7.546749014863657]]]])\n",
    "MinePile = ee.Geometry.MultiPolygon(\n",
    "        [[[[27.39990282562306, -7.538976580191123],\n",
    "           [27.39863682296803, -7.539487112415201],\n",
    "           [27.398057465820813, -7.54067835192985],\n",
    "           [27.397799973755383, -7.542380116977695],\n",
    "           [27.398883584767866, -7.542497115405488],\n",
    "           [27.4003963520818, -7.542784285193142],\n",
    "           [27.401705270081067, -7.541890860211821],\n",
    "           [27.4014048626714, -7.540295453871944],\n",
    "           [27.400782588904605, -7.539561565404619]]],\n",
    "         [[[27.40360114464233, -7.528471399345152],\n",
    "           [27.40287158379028, -7.53102411635294],\n",
    "           [27.40506026634643, -7.531151751808675],\n",
    "           [27.40561816582153, -7.528769217103983]]],\n",
    "         [[[27.400167917103268, -7.535108432289119],\n",
    "           [27.400554155201412, -7.5369803975571035],\n",
    "           [27.403300737232662, -7.537108031257986],\n",
    "           [27.403944467396236, -7.5352360665416755],\n",
    "           [27.402013276905514, -7.533491728501599]]],\n",
    "         [[[27.357092737193568, -7.547347692672706],\n",
    "           [27.357650636668666, -7.550155558119731],\n",
    "           [27.359431623454554, -7.550389546083809],\n",
    "           [27.360375761027797, -7.547985845511823],\n",
    "           [27.35890590547972, -7.545039700922603],\n",
    "           [27.357500432963832, -7.545135422206587]]]]);\n",
    "mines = ee.FeatureCollection(\"users/rishiAgarwal/Congo_Active_Mines\")"
   ]
  },
  {
   "cell_type": "markdown",
   "id": "2268c54e-8bdf-4f36-bf25-3e6191f98b3d",
   "metadata": {},
   "source": [
    "<h3> Visualizations </h3>"
   ]
  },
  {
   "cell_type": "code",
   "execution_count": 79,
   "id": "0c3408d8-ae22-4c55-9f0b-f4226f9b17fc",
   "metadata": {},
   "outputs": [],
   "source": [
    "rgbVis = {\n",
    "  'bands': ['B4', 'B3', 'B2'],\n",
    "  'min': 0,\n",
    "  'max': 3000,\n",
    "}\n",
    "\n",
    "\n",
    "vigsVis = {\n",
    "    'min': 0,\n",
    "    'max': 2.5,\n",
    "    'palette': ['white', 'green']\n",
    "}\n",
    "\n",
    "ndviVis = {\n",
    "    'min': 0,\n",
    "    'max': 1,\n",
    "    'palette': ['white', 'green']\n",
    "}\n",
    "\n",
    "ironVis = {\n",
    "    'min': 0,\n",
    "    'max': 0.25,\n",
    "    'palette': ['white', 'gray']\n",
    "}\n",
    "\n",
    "clayVis = {\n",
    "    'min': 0,\n",
    "    'max': 0.25,\n",
    "    'palette': ['white', 'brown']\n",
    "}\n",
    "\n",
    "ndmiVis = {\n",
    "    'min': 0,\n",
    "    'max': 1,\n",
    "    'palette': ['white', 'blue']\n",
    "}\n",
    "\n",
    "bsiVis = {\n",
    "    'min': -0.11390094234742729, \n",
    "    'max': 0.12724605991882074, \n",
    "    'palette': ['white', '#7a5230']\n",
    "}\n",
    "ndbiVis = {\n",
    "    'min': 0,\n",
    "    'max': 1,\n",
    "    'palette': ['white', 'red']\n",
    "}\n",
    "greenNIRVis = {\n",
    "    'min': 0,\n",
    "    'max': 0.5,\n",
    "    'palette': ['white', 'green']\n",
    "}"
   ]
  },
  {
   "cell_type": "markdown",
   "id": "51ad5d6a-bce6-4500-b544-9fad465f420b",
   "metadata": {},
   "source": [
    "<h3> True Color Composites </h3>"
   ]
  },
  {
   "cell_type": "code",
   "execution_count": 19,
   "id": "a2bc9bdc-5d5c-487b-b59b-36df9fe82049",
   "metadata": {},
   "outputs": [],
   "source": [
    "def create_median_composites(geometry, start, end):\n",
    "    images = []\n",
    "    \n",
    "    for year in range(start, end+1):\n",
    "        filtered = s2 \\\n",
    "            .filter(ee.Filter.lt('CLOUDY_PIXEL_PERCENTAGE', 30)) \\\n",
    "            .filter(ee.Filter.intersects('.geo', geometry)) \\\n",
    "            .filter(ee.Filter.date(str(year) + '-01-01', str(year) + '-12-31')) \\\n",
    "\n",
    "        composite = filtered.median().clip(geometry)\n",
    "        \n",
    "        images.append((composite, year))\n",
    "        \n",
    "    return images\n",
    "\n",
    "def add_median_composites(images, geometry):\n",
    "    Map = geemap.Map()\n",
    "    Map.centerObject(geometry, 13)\n",
    "    \n",
    "    for image, year in images:\n",
    "        Map.addLayer(image, rgbVis, str(year) + ' Median Composite')\n",
    "        \n",
    "    return Map"
   ]
  },
  {
   "cell_type": "code",
   "execution_count": 20,
   "id": "54a55aa2-24c0-4d85-a2d3-d5e0c3c1ab2c",
   "metadata": {},
   "outputs": [
    {
     "data": {
      "application/vnd.jupyter.widget-view+json": {
       "model_id": "bbc1f3a025334546a293cc0830687c05",
       "version_major": 2,
       "version_minor": 0
      },
      "text/plain": [
       "Map(center=[-7.548293653363665, 27.393320353717858], controls=(WidgetControl(options=['position', 'transparent…"
      ]
     },
     "metadata": {},
     "output_type": "display_data"
    }
   ],
   "source": [
    "images = create_median_composites(focus, 2019, 2021)\n",
    "Map = add_median_composites(images, focus)\n",
    "Map"
   ]
  },
  {
   "cell_type": "markdown",
   "id": "5805d05d-83c4-439f-9eb2-40534819c82a",
   "metadata": {},
   "source": [
    "<h3> NDVI </h3>"
   ]
  },
  {
   "cell_type": "code",
   "execution_count": 33,
   "id": "f6aaacb3-599e-4016-a511-c60d4df83a86",
   "metadata": {},
   "outputs": [],
   "source": [
    "def create_ndvi_layers(images, geometry):\n",
    "    Map = geemap.Map()\n",
    "    Map.centerObject(geometry, 13)\n",
    "    \n",
    "    for image, year in images:\n",
    "        ndvi = image.normalizedDifference(['B8', 'B4'])\n",
    "        Map.addLayer(ndvi, ndviVis, 'NDVI ' + str(year))\n",
    "        \n",
    "    return Map\n"
   ]
  },
  {
   "cell_type": "code",
   "execution_count": 82,
   "id": "bf557463-ab8c-4e2c-ae60-1c4b673ce04a",
   "metadata": {},
   "outputs": [
    {
     "data": {
      "application/vnd.jupyter.widget-view+json": {
       "model_id": "d1ebebb466e143f5b33a80266cacf073",
       "version_major": 2,
       "version_minor": 0
      },
      "text/plain": [
       "Map(center=[-7.548293653363665, 27.393320353717858], controls=(WidgetControl(options=['position', 'transparent…"
      ]
     },
     "metadata": {},
     "output_type": "display_data"
    }
   ],
   "source": [
    "Map = create_ndvi_layers(images, focus)\n",
    "Map"
   ]
  },
  {
   "cell_type": "markdown",
   "id": "515e078f-5553-4e3d-9a13-55d04cd41227",
   "metadata": {},
   "source": [
    "<h3> NDMI </h3>"
   ]
  },
  {
   "cell_type": "code",
   "execution_count": 35,
   "id": "0bc05a09-8132-43b7-b46d-8b7abae57374",
   "metadata": {},
   "outputs": [],
   "source": [
    "def create_ndmi_layers(images, geometry):\n",
    "    Map = geemap.Map()\n",
    "    Map.centerObject(geometry, 13)\n",
    "    \n",
    "    for image, year in images:\n",
    "        ndmi = image.normalizedDifference(['B8', 'B11'])\n",
    "        Map.addLayer(ndmi, ndmiVis, 'NDMI ' + str(year))\n",
    "        \n",
    "    return Map\n"
   ]
  },
  {
   "cell_type": "code",
   "execution_count": 36,
   "id": "b000d1d8-814a-41aa-af52-c937662041bd",
   "metadata": {},
   "outputs": [
    {
     "data": {
      "application/vnd.jupyter.widget-view+json": {
       "model_id": "70bcf0a53fd24659b6fb7b38f8ba1e7c",
       "version_major": 2,
       "version_minor": 0
      },
      "text/plain": [
       "Map(center=[-7.548293653363665, 27.393320353717858], controls=(WidgetControl(options=['position', 'transparent…"
      ]
     },
     "metadata": {},
     "output_type": "display_data"
    }
   ],
   "source": [
    "Map = create_ndmi_layers(images, focus)\n",
    "Map"
   ]
  },
  {
   "cell_type": "markdown",
   "id": "d47a43c5-40c9-456b-94e7-3c2df1868621",
   "metadata": {},
   "source": [
    "<h3> GreenNIR </h3>"
   ]
  },
  {
   "cell_type": "code",
   "execution_count": 112,
   "id": "1800b869-7ac3-49ff-a325-8e666e477b38",
   "metadata": {},
   "outputs": [],
   "source": [
    "def create_nir_g_layers(images, geometry):\n",
    "    Map = geemap.Map()\n",
    "    Map.centerObject(geometry, 13)\n",
    "    \n",
    "    for image, year in images:\n",
    "        nirG = image.normalizedDifference(['B8', 'B3'])\n",
    "        Map.addLayer(nirG, greenNIRVis, 'NIR/G ' + str(year))\n",
    "        \n",
    "    return Map\n"
   ]
  },
  {
   "cell_type": "code",
   "execution_count": 113,
   "id": "20019ea2-d8bf-4b52-9484-0e1a04f3a398",
   "metadata": {},
   "outputs": [
    {
     "data": {
      "application/vnd.jupyter.widget-view+json": {
       "model_id": "1d7b58433d7241beb5672cb9e2272d80",
       "version_major": 2,
       "version_minor": 0
      },
      "text/plain": [
       "Map(center=[-7.548293653363665, 27.393320353717858], controls=(WidgetControl(options=['position', 'transparent…"
      ]
     },
     "metadata": {},
     "output_type": "display_data"
    }
   ],
   "source": [
    "Map = create_nir_g_layers(images, focus)\n",
    "Map"
   ]
  },
  {
   "cell_type": "markdown",
   "id": "bd5fd2cd-d438-437f-95d8-7582d89e41e5",
   "metadata": {},
   "source": [
    "<h3> HCSI </h3>"
   ]
  },
  {
   "cell_type": "code",
   "execution_count": 108,
   "id": "e934632c-75a5-437b-8e3e-36d3a68bec6a",
   "metadata": {},
   "outputs": [],
   "source": [
    "#HCSI = (B07 − B05)/B04 × (B04/B03)\n",
    "def create_hcsi_layers(images, geometry):\n",
    "    Map = geemap.Map()\n",
    "    Map.centerObject(geometry, 13)\n",
    "    \n",
    "    for image, year in images:\n",
    "        hcsi = image.expression(\n",
    "            '((X - Y) / A) * (A / B)', {\n",
    "                'X': image.select('B7'),\n",
    "                'Y': image.select('B5'),\n",
    "                'A': image.select('B4'),\n",
    "                'B': image.select('B3')\n",
    "            })\n",
    "            \n",
    "        Map.addLayer(hcsi, {\n",
    "            'min': 0,\n",
    "            'max': 1.5,\n",
    "            'palette': ['white', 'red']\n",
    "        }, 'HSCI ' + str(year))\n",
    "        \n",
    "    return Map"
   ]
  },
  {
   "cell_type": "code",
   "execution_count": 109,
   "id": "d8f8f59d-a3db-48af-b686-3bda8bfc9aba",
   "metadata": {},
   "outputs": [
    {
     "data": {
      "application/vnd.jupyter.widget-view+json": {
       "model_id": "6e09ffca9c8b48b3be2309b85b3b9e08",
       "version_major": 2,
       "version_minor": 0
      },
      "text/plain": [
       "Map(center=[-7.548293653363665, 27.393320353717858], controls=(WidgetControl(options=['position', 'transparent…"
      ]
     },
     "metadata": {},
     "output_type": "display_data"
    }
   ],
   "source": [
    "Map = create_hcsi_layers(images, focus)\n",
    "Map"
   ]
  },
  {
   "cell_type": "code",
   "execution_count": 105,
   "id": "6cedc642-ff2f-4c89-9bd6-c800cd9c8e97",
   "metadata": {},
   "outputs": [],
   "source": [
    "def extract_data(image):\n",
    "    stats = image.reduceRegion(**{\n",
    "        'reducer': ee.Reducer.mean(),\n",
    "        'geometry': image.geometry(),\n",
    "        'scale': 100\n",
    "    })\n",
    "    \n",
    "    properties = {\n",
    "        'Year': image.get('system:index'),\n",
    "        'hcsi': stats.get('hcsi'),\n",
    "    }\n",
    "    \n",
    "    return ee.Feature(None, properties)\n",
    "\n",
    "def add_all_bands(image):\n",
    "    hcsi = image.expression(\n",
    "            '((X - Y) / A) * (A / B)', {\n",
    "                'X': image.select('B7'),\n",
    "                'Y': image.select('B5'),\n",
    "                'A': image.select('B4'),\n",
    "                'B': image.select('B3')\n",
    "            }).rename('hcsi')\n",
    "    \n",
    "    return image.addBands([hcsi])\n",
    "\n",
    "def plotGraph(geometry, title):\n",
    "    images1 = ee.ImageCollection(create_median_composites(geometry, 2019, 2021))\n",
    "    with_bands1 = images1.map(add_all_bands)\n",
    "    data1 = ee.FeatureCollection(with_bands1.map(extract_data))\n",
    "    df1 = geemap.ee_to_pandas(data1)\n",
    "    images1 = create_median_composites(geometry, 2019, 2021)\n",
    "    fig, ax = plt.subplots(1, 1)\n",
    "    fig.set_size_inches(9,9)\n",
    "\n",
    "    xticks = [t[1] for t in images1]\n",
    "    ax.set_xticks([0, 1, 2], xticks)\n",
    "    df1.plot(ax=ax,\n",
    "             title = title,\n",
    "             xlabel='Year',\n",
    "             ylabel='Mean Band Value',\n",
    "             marker='o')\n",
    "    plt.show()"
   ]
  },
  {
   "cell_type": "code",
   "execution_count": 114,
   "id": "02922965-b3e8-48c3-9f05-637d57361736",
   "metadata": {},
   "outputs": [
    {
     "data": {
      "image/png": "[encoded data removed]",
      "text/plain": [
       "<Figure size 648x648 with 1 Axes>"
      ]
     },
     "metadata": {
      "needs_background": "light"
     },
     "output_type": "display_data"
    }
   ],
   "source": [
    "plotGraph(TailingPond, 'Focus Region HCSI')"
   ]
  },
  {
   "cell_type": "markdown",
   "id": "8ed90422-192f-41f6-ad24-cf421bc66e98",
   "metadata": {},
   "source": [
    "<h3> VH Band </h3>"
   ]
  },
  {
   "cell_type": "code",
   "execution_count": 102,
   "id": "f6cdce58-77f7-4063-9f68-8c9d79353e78",
   "metadata": {
    "tags": []
   },
   "outputs": [],
   "source": [
    "def create_vh_composites(geometry, start, end):\n",
    "    images = []\n",
    "    \n",
    "    for year in range(start, end+1):\n",
    "        filtered = s1 \\\n",
    "            .filter(ee.Filter.eq('instrumentMode','IW')) \\\n",
    "            .filter(ee.Filter.listContains('transmitterReceiverPolarisation', 'VH')) \\\n",
    "            .filter(ee.Filter.eq('orbitProperties_pass', 'DESCENDING')) \\\n",
    "            .filter(ee.Filter.eq('resolution_meters',10)) \\\n",
    "            .filter(ee.Filter.intersects('.geo', geometry)) \\\n",
    "            .filter(ee.Filter.date(str(year) + '-01-01', str(year) + '-12-31')) \\\n",
    "            .select('VH')\n",
    "\n",
    "        composite = filtered.median().clip(geometry)\n",
    "        \n",
    "        images.append((composite, year))\n",
    "        \n",
    "    return images\n",
    "\n",
    "def add_vh_composites(images, imagesVH, geometry):\n",
    "    Map = geemap.Map()\n",
    "    Map.centerObject(geometry, 13)\n",
    "    \n",
    "    for image, year in images:\n",
    "        Map.addLayer(image, rgbVis, str(year) + ' Median Composite')\n",
    "    \n",
    "    for image, year in imagesVH:\n",
    "        Map.addLayer(image, {'min':-25, 'max':0}, str(year) + ' VH Composite')\n",
    "        \n",
    "    return Map"
   ]
  },
  {
   "cell_type": "code",
   "execution_count": 115,
   "id": "89756eef-da6d-438e-aaae-b741b0a21cc7",
   "metadata": {},
   "outputs": [
    {
     "data": {
      "application/vnd.jupyter.widget-view+json": {
       "model_id": "795f46ff659646f5a2ecff59b8fbcc97",
       "version_major": 2,
       "version_minor": 0
      },
      "text/plain": [
       "Map(center=[-7.548293653363665, 27.393320353717858], controls=(WidgetControl(options=['position', 'transparent…"
      ]
     },
     "metadata": {},
     "output_type": "display_data"
    }
   ],
   "source": [
    "imagesS1vh = create_vh_composites(focus, 2019, 2021)\n",
    "Map = add_vh_composites(images, imagesS1vh, focus)\n",
    "Map"
   ]
  },
  {
   "cell_type": "markdown",
   "id": "1efbca3b-2f9b-4649-a6bf-7f89620da444",
   "metadata": {},
   "source": [
    "<h3> VH Calculations </h3>"
   ]
  },
  {
   "cell_type": "code",
   "execution_count": 55,
   "id": "e18943b1-1d8a-4a2e-ac45-948397243c2b",
   "metadata": {},
   "outputs": [],
   "source": [
    "cpThreshold = 8\n",
    "permanentWater = gsw.select('seasonality').gte(7).clip(focus)"
   ]
  },
  {
   "cell_type": "code",
   "execution_count": 92,
   "id": "f1568463-80c7-4d77-87a1-57b73be60d11",
   "metadata": {},
   "outputs": [],
   "source": [
    "def create_vh_calcs(images, geometry):\n",
    "    Map = geemap.Map()\n",
    "    Map.centerObject(geometry, 13)\n",
    "\n",
    "    for image, year in images:\n",
    "\n",
    "        filtered = s2 \\\n",
    "        .filter(ee.Filter.lt('CLOUDY_PIXEL_PERCENTAGE', 30)) \\\n",
    "        .filter(ee.Filter.intersects('.geo', geometry)) \\\n",
    "        .filter(ee.Filter.date(str(year) + '-01-01', str(year) + '-12-31')) \\\n",
    "\n",
    "        composite = filtered.median().clip(geometry)\n",
    "\n",
    "        Map.addLayer(composite, rgbVis, str(year) + ' Median Composite')\n",
    "\n",
    "        ndvi = composite.normalizedDifference(['B8', 'B4'])\n",
    "        nirG = composite.normalizedDifference(['B8', 'B3'])\n",
    "        ndmi = composite.normalizedDifference(['B8', 'B11'])\n",
    "\n",
    "        waterStorage = image.lt(-22).rename('water').And(nirG.lt(0.1).Or(ndmi.gt(.3))).selfMask()\n",
    "        connectW = waterStorage.connectedPixelCount(25)\n",
    "        waterStorage = waterStorage.updateMask(connectW.gt(cpThreshold))\n",
    "        Map.addLayer(waterStorage, {'min':0, 'max':1, 'palette': ['blue']}, 'Water ' + str(year))\n",
    "\n",
    "        mining = image.gte(-22).And(image.lt(-18)).And(ndvi.lt(.15)).rename('mine').selfMask()\n",
    "        mining = mining.where(permanentWater,0).selfMask()\n",
    "        connectM = mining.connectedPixelCount(25)\n",
    "        mining = mining.updateMask(connectM.gt(cpThreshold))\n",
    "        Map.addLayer(mining, {'min':0, 'max':1, 'palette': ['red']}, 'Mining Estimate ' + str(year))\n",
    "\n",
    "    return Map"
   ]
  },
  {
   "cell_type": "code",
   "execution_count": 93,
   "id": "0cfa535a-f92c-41fa-8eb8-295ba0780fa2",
   "metadata": {},
   "outputs": [
    {
     "data": {
      "application/vnd.jupyter.widget-view+json": {
       "model_id": "8c1c1f37ede44816be7670b70cdeb6c6",
       "version_major": 2,
       "version_minor": 0
      },
      "text/plain": [
       "Map(center=[-7.548293653363665, 27.393320353717858], controls=(WidgetControl(options=['position', 'transparent…"
      ]
     },
     "metadata": {},
     "output_type": "display_data"
    }
   ],
   "source": [
    "Map = create_vh_calcs(imagesS1vh, focus)\n",
    "legend_dict = {\n",
    "    'Water': ('0000FF'), # blue\n",
    "    'Mine Estimate': ('FF0000'), # red\n",
    "}\n",
    "Map.add_legend(legend_title='Legend', legend_dict=legend_dict, position='bottomright')\n",
    "Map"
   ]
  },
  {
   "cell_type": "markdown",
   "id": "6ee3df37-8787-492c-b739-1b160ebdc475",
   "metadata": {},
   "source": [
    "<h3> VV Band </h3>"
   ]
  },
  {
   "cell_type": "code",
   "execution_count": 116,
   "id": "f1a7178e-cf1d-4261-81a4-7653fdb229c4",
   "metadata": {},
   "outputs": [],
   "source": [
    "def create_vv_composites(geometry, start, end):\n",
    "    images = []\n",
    "    \n",
    "    for year in range(start, end+1):\n",
    "        filtered = s1 \\\n",
    "            .filter(ee.Filter.eq('instrumentMode','IW')) \\\n",
    "            .filter(ee.Filter.listContains('transmitterReceiverPolarisation', 'VV')) \\\n",
    "            .filter(ee.Filter.eq('orbitProperties_pass', 'DESCENDING')) \\\n",
    "            .filter(ee.Filter.eq('resolution_meters',10)) \\\n",
    "            .filter(ee.Filter.intersects('.geo', geometry)) \\\n",
    "            .filter(ee.Filter.date(str(year) + '-01-01', str(year) + '-12-31')) \\\n",
    "            .select('VV')\n",
    "\n",
    "        composite = filtered.median().clip(geometry)\n",
    "        \n",
    "        images.append((composite, year))\n",
    "        \n",
    "    return images\n",
    "\n",
    "def add_vv_composites(images, imagesVV, geometry):\n",
    "    Map = geemap.Map()\n",
    "    Map.centerObject(geometry, 13)\n",
    "    \n",
    "    for image, year in images:\n",
    "        Map.addLayer(image, rgbVis, str(year) + ' Median Composite')\n",
    "    \n",
    "    for image, year in imagesVV:\n",
    "        Map.addLayer(image, {'min':-25, 'max':0}, str(year) + ' VV Composite')\n",
    "        \n",
    "    return Map"
   ]
  },
  {
   "cell_type": "code",
   "execution_count": 117,
   "id": "d0ba29b3-7f31-46ae-8adf-f3ec89e3ce85",
   "metadata": {},
   "outputs": [
    {
     "data": {
      "application/vnd.jupyter.widget-view+json": {
       "model_id": "df8d97417c0b4396a89f3a880b23163b",
       "version_major": 2,
       "version_minor": 0
      },
      "text/plain": [
       "Map(center=[-7.548293653363665, 27.393320353717858], controls=(WidgetControl(options=['position', 'transparent…"
      ]
     },
     "metadata": {},
     "output_type": "display_data"
    }
   ],
   "source": [
    "imagesS1vv = create_vv_composites(focus, 2019, 2021)\n",
    "Map = add_vv_composites(images, imagesS1vv, focus)\n",
    "Map"
   ]
  },
  {
   "cell_type": "markdown",
   "id": "ff7d2511-02d5-4ada-8dbc-5630753cc4ff",
   "metadata": {},
   "source": [
    "<h3> VH/VV Band Ratio </h3>"
   ]
  },
  {
   "cell_type": "code",
   "execution_count": 70,
   "id": "cd3599a6-894f-4d04-956d-22e653c658b0",
   "metadata": {},
   "outputs": [],
   "source": [
    "def create_vv_vh_composites(geometry, start, end):\n",
    "    images = []\n",
    "    \n",
    "    for year in range(start, end+1):\n",
    "        filtered = s1 \\\n",
    "            .filter(ee.Filter.eq('instrumentMode','IW')) \\\n",
    "            .filter(ee.Filter.eq('orbitProperties_pass', 'DESCENDING')) \\\n",
    "            .filter(ee.Filter.eq('resolution_meters',10)) \\\n",
    "            .filter(ee.Filter.intersects('.geo', geometry)) \\\n",
    "            .filter(ee.Filter.date(str(year) + '-01-01', str(year) + '-12-31')) \\\n",
    "            .select(['VV', 'VH'])\n",
    "\n",
    "        composite = filtered.median().clip(geometry)\n",
    "        \n",
    "        images.append((composite, year))\n",
    "        \n",
    "    return images\n",
    "\n",
    "def add_vv_vh_composites(images, imagesRatio, geometry):\n",
    "    Map = geemap.Map()\n",
    "    Map.centerObject(geometry, 13)\n",
    "    \n",
    "    for image, year in images:\n",
    "        Map.addLayer(image, rgbVis, str(year) + ' Median Composite')\n",
    "    \n",
    "    for image, year in imagesRatio:\n",
    "        Map.addLayer(image.select('VV').divide(image.select('VH')), {}, str(year) + ' VV/VH')\n",
    "        \n",
    "    return Map"
   ]
  },
  {
   "cell_type": "code",
   "execution_count": 118,
   "id": "4d39c739-b9d4-4edd-8fbc-ef995ea3c6e9",
   "metadata": {},
   "outputs": [
    {
     "data": {
      "application/vnd.jupyter.widget-view+json": {
       "model_id": "bcd1aa1b17114e60b7bc2192ee3ff683",
       "version_major": 2,
       "version_minor": 0
      },
      "text/plain": [
       "Map(center=[-7.548293653363665, 27.393320353717858], controls=(WidgetControl(options=['position', 'transparent…"
      ]
     },
     "metadata": {},
     "output_type": "display_data"
    }
   ],
   "source": [
    "imagesS1ratio = create_vv_vh_composites(focus, 2019, 2021)\n",
    "Map = add_vv_vh_composites(images, imagesS1ratio, focus)\n",
    "Map"
   ]
  },
  {
   "cell_type": "markdown",
   "id": "b3558907-f13a-4b30-997f-6691ff52f2eb",
   "metadata": {},
   "source": [
    "<h3> VH/VV Calculations </h3>"
   ]
  },
  {
   "cell_type": "code",
   "execution_count": 75,
   "id": "d37b4a22-a98f-4cf8-b8b8-dd7e2ff7e30e",
   "metadata": {},
   "outputs": [],
   "source": [
    "def create_vv_vh_calcs(images, geometry):\n",
    "    Map = geemap.Map()\n",
    "    Map.centerObject(geometry, 13)\n",
    "    \n",
    "    for image, year in images:\n",
    "        \n",
    "        filtered = s2 \\\n",
    "            .filter(ee.Filter.lt('CLOUDY_PIXEL_PERCENTAGE', 30)) \\\n",
    "            .filter(ee.Filter.intersects('.geo', geometry)) \\\n",
    "            .filter(ee.Filter.date(str(year) + '-01-01', str(year) + '-12-31')) \\\n",
    "\n",
    "        composite = filtered.median().clip(geometry)\n",
    "        \n",
    "        Map.addLayer(composite, rgbVis, str(year) + ' Median Composite')\n",
    "        \n",
    "        ndvi = composite.normalizedDifference(['B8', 'B4'])\n",
    "        nirG = composite.normalizedDifference(['B8', 'B3'])\n",
    "        \n",
    "        waterStorage = image.select('VV').divide(image.select('VH')).gt(0.6).And(nirG.lt(0.1)).rename('water').selfMask()\n",
    "        connectW = waterStorage.connectedPixelCount(25)\n",
    "        waterStorage = waterStorage.updateMask(connectW.gt(cpThreshold))\n",
    "        Map.addLayer(waterStorage, {'min':0, 'max':1, 'palette': ['blue']}, 'Water ' + str(year))\n",
    "        \n",
    "        #currently not doing much -> basically going off of NDVI\n",
    "        mining = image.select('VV').divide(image.select('VH')).lt(0.6).And(ndvi.lt(.1)).rename('mine').selfMask()\n",
    "        mining = mining.where(permanentWater,0).selfMask()\n",
    "        connectM = mining.connectedPixelCount(25)\n",
    "        mining = mining.updateMask(connectM.gt(cpThreshold))\n",
    "        Map.addLayer(mining, {'min':0, 'max':1, 'palette': ['red']}, 'Mining Estimate ' + str(year))\n",
    "        \n",
    "    return Map"
   ]
  },
  {
   "cell_type": "code",
   "execution_count": 76,
   "id": "80c55f06-0b6e-483b-8abb-deee579d400b",
   "metadata": {},
   "outputs": [
    {
     "data": {
      "application/vnd.jupyter.widget-view+json": {
       "model_id": "4852865e987b45d192a12b2ccea04fd1",
       "version_major": 2,
       "version_minor": 0
      },
      "text/plain": [
       "Map(center=[-7.548293653363665, 27.393320353717858], controls=(WidgetControl(options=['position', 'transparent…"
      ]
     },
     "metadata": {},
     "output_type": "display_data"
    }
   ],
   "source": [
    "Map = create_vv_vh_calcs(imagesS1ratio, focus)\n",
    "\n",
    "legend_dict = {\n",
    "    'Water': ('0000FF'), # blue\n",
    "    'Mine Estimate': ('FF0000'), # red\n",
    "}\n",
    "Map.add_legend(legend_title='Legend', legend_dict=legend_dict, position='bottomright')\n",
    "\n",
    "Map"
   ]
  },
  {
   "cell_type": "code",
   "execution_count": null,
   "id": "6f4d175a-65b5-4ad9-bc55-132f4e295908",
   "metadata": {},
   "outputs": [],
   "source": []
  }
 ],
 "metadata": {
  "kernelspec": {
   "display_name": "Python 3 (ipykernel)",
   "language": "python",
   "name": "python3"
  },
  "language_info": {
   "codemirror_mode": {
    "name": "ipython",
    "version": 3
   },
   "file_extension": ".py",
   "mimetype": "text/x-python",
   "name": "python",
   "nbconvert_exporter": "python",
   "pygments_lexer": "ipython3",
   "version": "3.10.2"
  }
 },
 "nbformat": 4,
 "nbformat_minor": 5
}
