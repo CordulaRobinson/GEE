{
 "cells": [
  {
   "cell_type": "code",
   "execution_count": 3,
   "id": "50a81b9f-d45e-40ff-a4e6-b38f431e5514",
   "metadata": {},
   "outputs": [],
   "source": [
    "import numpy as np\n",
    "from scipy.interpolate import LinearNDInterpolator\n",
    "import matplotlib.pyplot as plt\n",
    "import ee\n",
    "import collections\n",
    "collections.Callable = collections.abc.Callable\n",
    "ee.Initialize()"
   ]
  },
  {
   "cell_type": "code",
   "execution_count": 23,
   "id": "d818a06b-ea91-498f-903b-c60c03968586",
   "metadata": {},
   "outputs": [
    {
     "name": "stdout",
     "output_type": "stream",
     "text": [
      "[[29.55412927  3.15692156 29.55637511 ...  0.11569145  0.27797762\n",
      "          nan]\n",
      " [29.55637511  3.15692156 29.55862095 ...  0.12203933  0.28199639\n",
      "          nan]\n",
      " [29.55862095  3.15692156 29.56086678 ...  0.13629541  0.26793651\n",
      "          nan]\n",
      " ...\n",
      " [29.63722522  3.06933036 29.63947106 ...  0.10550674  0.26726777\n",
      "          nan]\n",
      " [29.63947106  3.06933036 29.64171689 ...  0.11020866  0.26921628\n",
      "          nan]\n",
      " [29.64171689  3.06933036 29.64396273 ...  0.10611527  0.25816508\n",
      "          nan]]\n"
     ]
    }
   ],
   "source": [
    "ex = np.genfromtxt(\"RayRoi_status_c.csv\", delimiter=',', skip_header=1)\n",
    "#ex = data[0:5000]\n",
    "print(ex)"
   ]
  },
  {
   "cell_type": "code",
   "execution_count": 24,
   "id": "80b2833c-e7d6-4579-887a-1f0495ec377c",
   "metadata": {},
   "outputs": [
    {
     "name": "stdout",
     "output_type": "stream",
     "text": [
      "[[29.55412927  3.15692156 29.55637511  3.15916748 -0.41224006]\n",
      " [29.55637511  3.15692156 29.55862095  3.15916748 -0.39589832]\n",
      " [29.55862095  3.15692156 29.56086678  3.15916748 -0.32565734]\n",
      " ...\n",
      " [29.63722522  3.06933036 29.63947106  3.07157629 -0.43393801]\n",
      " [29.63947106  3.06933036 29.64171689  3.07157629 -0.41907529]\n",
      " [29.64171689  3.06933036 29.64396273  3.07157629 -0.41739778]]\n"
     ]
    }
   ],
   "source": [
    "new_array = np.empty((0,5), float)\n",
    "for row in ex:\n",
    "    min_lon = row[0]\n",
    "    min_lat = row[1]\n",
    "    max_lon = row[2]\n",
    "    max_lat = row[3]\n",
    "    b5_val = row[13]\n",
    "    b6_val = row[14]\n",
    "    #nasa = row[9]\n",
    "    #elevation = row[10] # GEDI\n",
    "    #srtm_gedi = row[11] # SRTM - GEDI\n",
    "    \n",
    "    # Center Lon/Lat positions:\n",
    "    b5_b6 = (b5_val - b6_val) / (b5_val + b6_val)\n",
    "    \n",
    "    new_row = np.array([min_lon, min_lat, max_lon, max_lat, b5_b6])\n",
    "    new_array = np.append(new_array, np.array([new_row]), axis=0)\n",
    "print(new_array)"
   ]
  },
  {
   "cell_type": "code",
   "execution_count": 27,
   "id": "0d5fa336-5d20-40ca-b139-322b11fece09",
   "metadata": {},
   "outputs": [],
   "source": [
    "# Remove null values\n",
    "new_array2 = np.delete(new_array, np.where(new_array[:,4]==-999), axis=0)"
   ]
  },
  {
   "cell_type": "code",
   "execution_count": 28,
   "id": "eba2c929-3ae6-406c-866a-5f6cca04c1fb",
   "metadata": {},
   "outputs": [],
   "source": [
    "# Columns\n",
    "#lons = new_array2[:,12]\n",
    "#lats = new_array2[:,13]\n",
    "#nasa_dem = new_array2[:,9]\n",
    "# Interpolate all the center lon/lat positions with the elevation data metrics.\n",
    "#interp = LinearNDInterpolator((lons, lats), nasa_dem)"
   ]
  },
  {
   "cell_type": "code",
   "execution_count": 29,
   "id": "86a06a98-c347-49dd-b006-c4c78ae1b5d0",
   "metadata": {},
   "outputs": [],
   "source": [
    "# test = interp.__call__(24.99, -10.5)\n",
    "# print(test) # returns nan -> outside of bounds"
   ]
  },
  {
   "cell_type": "code",
   "execution_count": null,
   "id": "5cd7be89-7e44-4341-92a6-77cec252d1f1",
   "metadata": {},
   "outputs": [],
   "source": [
    "new_array3 = np.empty((0,15), float)\n",
    "for row in new_array:\n",
    "    # center_lon = \n",
    "    # center_lat = row[13]\n",
    "    # nasa = row[9]\n",
    "    #elev_gedi = row[10]\n",
    "    #elev_loss = row[11]\n",
    "    score = 0\n",
    "    \n",
    "    #if (nasa == -999):\n",
    "     #   nasa = interp.__call__(center_lon, center_lat)\n",
    "    \n",
    "    change = 250*0.00001\n",
    "    current = row[4]\n",
    "    # Left and right neighbors will have the same center lat\n",
    "    left = [center_lon - change, center_lat]\n",
    "    right = [center_lon + change, center_lat]\n",
    "    # Up and down neighbors will have the same center lon\n",
    "    up = [center_lon, center_lat + change]\n",
    "    down = [center_lon, center_lat - change]\n",
    "    # Corner neighbors\n",
    "    ul = [center_lon - change, center_lat + change]\n",
    "    ur = [center_lon + change, center_lat + change]\n",
    "    dl = [center_lon - change, center_lat - change]\n",
    "    dr = [center_lon + change, center_lat - change]\n",
    "    \n",
    "    neighbors = [left, right, up, down, ul, ur, dl, dr]\n",
    "    for x in neighbors:\n",
    "        x_nasa = interp.__call__(x[0], x[1])\n",
    "        if (nasa < x_nasa):\n",
    "            score = score+1\n",
    "            \n",
    "    new_row = np.append(row, score, axis=None)\n",
    "    new_array3 = np.append(new_array3, np.array([new_row]), axis=0)"
   ]
  },
  {
   "cell_type": "code",
   "execution_count": null,
   "id": "a3314b51-f2f0-4418-bc2b-73a7b1027051",
   "metadata": {},
   "outputs": [],
   "source": [
    "print(new_array3)"
   ]
  },
  {
   "cell_type": "code",
   "execution_count": null,
   "id": "b688d0aa-91b7-473d-96b7-80f7debffd8e",
   "metadata": {},
   "outputs": [],
   "source": [
    "# Convert to a Feature Collection\n",
    "# Create a list of Features for areas, with score as property\n",
    "\n",
    "region_list = []\n",
    "for row in new_array3:\n",
    "    region = ee.Geometry.Polygon([[[float(row[0]), float(row[3])],\n",
    "                                  [float(row[0]), float(row[1])],\n",
    "                                  [float(row[2]), float(row[1])],\n",
    "                                  [float(row[2]), float(row[3])]]])\n",
    "    f = ee.Feature(region).set('elevation score', float(row[14]))\n",
    "    region_list.append(f)\n",
    "\n",
    "# Wrap feature list in a Feature Collection\n",
    "fc = ee.FeatureCollection(region_list)\n",
    "\n",
    "# Export the Feature Collection to Google Earth Engine (GEE)\n",
    "task = ee.batch.Export.table.toAsset(**{\n",
    "  'collection': fc,\n",
    "  'description':'compiled_results',\n",
    "  'assetId': 'users/EmilyNason/compiledResultsNasaDemLower', # must be unique name\n",
    "});\n",
    "\n",
    "task.start()"
   ]
  }
 ],
 "metadata": {
  "kernelspec": {
   "display_name": "Python 3 (ipykernel)",
   "language": "python",
   "name": "python3"
  },
  "language_info": {
   "codemirror_mode": {
    "name": "ipython",
    "version": 3
   },
   "file_extension": ".py",
   "mimetype": "text/x-python",
   "name": "python",
   "nbconvert_exporter": "python",
   "pygments_lexer": "ipython3",
   "version": "3.7.11"
  }
 },
 "nbformat": 4,
 "nbformat_minor": 5
}
