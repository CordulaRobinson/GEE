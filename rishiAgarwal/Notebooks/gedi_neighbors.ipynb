{
 "cells": [
  {
   "cell_type": "code",
   "execution_count": 11,
   "id": "8918a2a4-4070-4829-b8b6-efb5c4cf4006",
   "metadata": {},
   "outputs": [
    {
     "data": {
      "text/html": [
       "<p>To authorize access needed by Earth Engine, open the following\n",
       "        URL in a web browser and follow the instructions:</p>\n",
       "        <p><a href=https://accounts.google.com/o/oauth2/auth?client_id=517222506229-vsmmajv00ul0bs7p89v5m89qs8eb9359.apps.googleusercontent.com&scope=https%3A%2F%2Fwww.googleapis.com%2Fauth%2Fearthengine+https%3A%2F%2Fwww.googleapis.com%2Fauth%2Fdevstorage.full_control&redirect_uri=urn%3Aietf%3Awg%3Aoauth%3A2.0%3Aoob&response_type=code&code_challenge=B1O2BLpBArSxmNyQBcsWeXAN-OSNwSGX48FCKGcAk7I&code_challenge_method=S256>https://accounts.google.com/o/oauth2/auth?client_id=517222506229-vsmmajv00ul0bs7p89v5m89qs8eb9359.apps.googleusercontent.com&scope=https%3A%2F%2Fwww.googleapis.com%2Fauth%2Fearthengine+https%3A%2F%2Fwww.googleapis.com%2Fauth%2Fdevstorage.full_control&redirect_uri=urn%3Aietf%3Awg%3Aoauth%3A2.0%3Aoob&response_type=code&code_challenge=B1O2BLpBArSxmNyQBcsWeXAN-OSNwSGX48FCKGcAk7I&code_challenge_method=S256</a></p>\n",
       "        <p>The authorization workflow will generate a code, which you\n",
       "        should paste in the box below</p>\n",
       "        "
      ],
      "text/plain": [
       "<IPython.core.display.HTML object>"
      ]
     },
     "metadata": {},
     "output_type": "display_data"
    },
    {
     "name": "stdin",
     "output_type": "stream",
     "text": [
      "Enter verification code:  4/1AX4XfWiWQTlGm4TImPV55kNhe4N_YbqqPA4hSiafMYn7OU_HxRavUvfRuzo\n"
     ]
    },
    {
     "name": "stdout",
     "output_type": "stream",
     "text": [
      "\n",
      "Successfully saved authorization token.\n"
     ]
    }
   ],
   "source": [
    "import numpy as np\n",
    "import ee\n",
    "import collections\n",
    "# collections.Callable = collections.abc.Callable\n",
    "# ee.Authenticate()\n",
    "ee.Initialize()"
   ]
  },
  {
   "cell_type": "code",
   "execution_count": 12,
   "id": "dc16bd13-81bf-4296-a828-896798e2a7ea",
   "metadata": {},
   "outputs": [],
   "source": [
    "ex = np.genfromtxt(\"GEE/gedi/compiled_test_gedi_score.csv\", delimiter=',', skip_header=1)"
   ]
  },
  {
   "cell_type": "code",
   "execution_count": 13,
   "id": "468759e6-32a2-43d1-b8cd-fabc66bef8b4",
   "metadata": {},
   "outputs": [],
   "source": [
    "#ex = data[0:10]\n",
    "# print(ex)"
   ]
  },
  {
   "cell_type": "code",
   "execution_count": 14,
   "id": "2a59fb08-0e9f-4c40-8dac-c8a44ac006a7",
   "metadata": {},
   "outputs": [],
   "source": [
    "new_array = np.empty((0,13), float)\n",
    "for row in ex:\n",
    "    min_lon = row[0]\n",
    "    min_lat = row[1]\n",
    "    max_lon = row[2]\n",
    "    max_lat = row[3]\n",
    "    #nasa = row[9]\n",
    "    gedi = row[10]\n",
    "    #elev_loss = row[11]\n",
    "    score = 0\n",
    "    \n",
    "    right_index = np.where((ex[:, 0] == max_lon) & (ex[:, 1] == min_lat) & (ex[:, 3] == max_lat))\n",
    "    left_index = np.where((ex[:, 1] == min_lat) & (ex[:, 2] == min_lon) & (ex[:, 3] == max_lat))\n",
    "    up_index = np.where((ex[:, 0] == min_lon) & (ex[:, 1] == max_lat) & (ex[:, 2] == max_lon))\n",
    "    down_index = np.where((ex[:, 0] == min_lon) & (ex[:, 2] == max_lon) & (ex[:, 3] == min_lat))\n",
    "    up_right_index = np.where((ex[:, 0] == max_lon) & (ex[:, 1] == max_lat))\n",
    "    up_left_index = np.where((ex[:, 1] == max_lat) & (ex[:, 2] == min_lon))\n",
    "    down_right_index = np.where((ex[:, 0] == max_lon) & (ex[:, 3] == min_lat))\n",
    "    down_left_index = np.where((ex[:, 2] == min_lon) & (ex[:, 3] == min_lat))\n",
    "    \n",
    "    #just adds a column with number of neighbors with gedi elevation < 0 - not actually doing anything useful lol but it works\n",
    "    right_gedi = ex[(right_index[0]),10] \n",
    "    left_gedi = ex[(left_index[0]),10]   \n",
    "    up_gedi = ex[(up_index[0]),10] \n",
    "    down_gedi = ex[(down_index[0]),10] \n",
    "    up_right_gedi = ex[(up_right_index[0]),10] \n",
    "    up_left_gedi = ex[(up_left_index[0]),10]   \n",
    "    down_right_gedi = ex[(down_right_index[0]),10] \n",
    "    down_left_gedi = ex[(down_left_index[0]),10] \n",
    "    \n",
    "    neighbors = [right_gedi, left_gedi, up_gedi, down_gedi, up_right_gedi, up_left_gedi, down_right_gedi, down_left_gedi]\n",
    "    for x in neighbors:\n",
    "        if x.size > 0:\n",
    "            #previous: x<0 and ...\n",
    "            if (gedi < x and x != -999):\n",
    "                score = score+1\n",
    "    new_row = np.append(row, score, axis=None)\n",
    "    new_array = np.append(new_array, np.array([new_row]), axis=0)"
   ]
  },
  {
   "cell_type": "code",
   "execution_count": 15,
   "id": "96428138-6185-4800-82dd-201fc0b55e69",
   "metadata": {},
   "outputs": [],
   "source": [
    "# Convert to a Feature Collection\n",
    "# Create a list of Features for areas, with score as property\n",
    "\n",
    "region_list = []\n",
    "for row in new_array:\n",
    "    region = ee.Geometry.Polygon([[[float(row[0]), float(row[3])],\n",
    "                                  [float(row[0]), float(row[1])],\n",
    "                                  [float(row[2]), float(row[1])],\n",
    "                                  [float(row[2]), float(row[3])]]])\n",
    "    f = ee.Feature(region).set('elevation score', float(row[12]))\n",
    "    region_list.append(f)\n",
    "\n",
    "# Wrap feature list in a Feature Collection\n",
    "fc = ee.FeatureCollection(region_list)\n",
    "\n",
    "# Export the Feature Collection to Google Earth Engine (GEE)\n",
    "task = ee.batch.Export.table.toAsset(**{\n",
    "  'collection': fc,\n",
    "  'description':'compiled_results',\n",
    "  'assetId': 'users/EmilyNason/compiledResultsGediFixed', # change to your GEE Asset path and a unique name (will not overwrite already existing assets, so old names cannot be reused)\n",
    "});\n",
    "\n",
    "task.start()"
   ]
  },
  {
   "cell_type": "code",
   "execution_count": null,
   "id": "3cce99e2-73c2-46cb-8dcd-181634a37e41",
   "metadata": {},
   "outputs": [],
   "source": []
  }
 ],
 "metadata": {
  "kernelspec": {
   "display_name": "Python 3 (ipykernel)",
   "language": "python",
   "name": "python3"
  },
  "language_info": {
   "codemirror_mode": {
    "name": "ipython",
    "version": 3
   },
   "file_extension": ".py",
   "mimetype": "text/x-python",
   "name": "python",
   "nbconvert_exporter": "python",
   "pygments_lexer": "ipython3",
   "version": "3.10.1"
  }
 },
 "nbformat": 4,
 "nbformat_minor": 5
}
