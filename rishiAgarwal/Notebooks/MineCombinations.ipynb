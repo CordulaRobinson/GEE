{
 "cells": [
  {
   "cell_type": "code",
   "execution_count": 169,
   "id": "b6736ba1-0c6e-4349-b1b8-1f68e6c5380d",
   "metadata": {},
   "outputs": [],
   "source": [
    "import ee\n",
    "import geemap\n",
    "from geemap import chart\n",
    "\n",
    "%matplotlib inline\n",
    "import matplotlib.pyplot as plt"
   ]
  },
  {
   "cell_type": "code",
   "execution_count": 170,
   "id": "946665d9-bf07-4880-9d8e-9b2cea5d649e",
   "metadata": {},
   "outputs": [
    {
     "data": {
      "text/html": [
       "<p>To authorize access needed by Earth Engine, open the following\n",
       "        URL in a web browser and follow the instructions:</p>\n",
       "        <p><a href=https://accounts.google.com/o/oauth2/auth?client_id=517222506229-vsmmajv00ul0bs7p89v5m89qs8eb9359.apps.googleusercontent.com&scope=https%3A%2F%2Fwww.googleapis.com%2Fauth%2Fearthengine+https%3A%2F%2Fwww.googleapis.com%2Fauth%2Fdevstorage.full_control&redirect_uri=urn%3Aietf%3Awg%3Aoauth%3A2.0%3Aoob&response_type=code&code_challenge=7ZY2jfFV3dwqOppanok6oVXLIWSzlZERyf0f95YcUeE&code_challenge_method=S256>https://accounts.google.com/o/oauth2/auth?client_id=517222506229-vsmmajv00ul0bs7p89v5m89qs8eb9359.apps.googleusercontent.com&scope=https%3A%2F%2Fwww.googleapis.com%2Fauth%2Fearthengine+https%3A%2F%2Fwww.googleapis.com%2Fauth%2Fdevstorage.full_control&redirect_uri=urn%3Aietf%3Awg%3Aoauth%3A2.0%3Aoob&response_type=code&code_challenge=7ZY2jfFV3dwqOppanok6oVXLIWSzlZERyf0f95YcUeE&code_challenge_method=S256</a></p>\n",
       "        <p>The authorization workflow will generate a code, which you\n",
       "        should paste in the box below</p>\n",
       "        "
      ],
      "text/plain": [
       "<IPython.core.display.HTML object>"
      ]
     },
     "metadata": {},
     "output_type": "display_data"
    },
    {
     "name": "stdin",
     "output_type": "stream",
     "text": [
      "Enter verification code:  4/1AX4XfWjNrt1jZgMIU7JA8uSxSh9JOTksTjCbZhjUnjChr8dM3betJCOUENo\n"
     ]
    },
    {
     "name": "stdout",
     "output_type": "stream",
     "text": [
      "\n",
      "Successfully saved authorization token.\n"
     ]
    }
   ],
   "source": [
    "ee.Authenticate()\n",
    "ee.Initialize()"
   ]
  },
  {
   "cell_type": "code",
   "execution_count": 171,
   "id": "c700be47-715a-4b95-a9ee-2141a6d4c1b5",
   "metadata": {},
   "outputs": [],
   "source": [
    "ls8 = ee.ImageCollection(\"LANDSAT/LC08/C02/T1_L2\")\n",
    "modis = ee.ImageCollection(\"MODIS/006/MOD13Q1\")\n",
    "modis2 = ee.ImageCollection('MODIS/006/MCD43A4')\n",
    "focus = ee.Geometry.Polygon(\n",
    "        [[[27.350233348102517, -7.518171474050515],\n",
    "          [27.350233348102517, -7.57841301205225],\n",
    "          [27.436407359332986, -7.57841301205225],\n",
    "          [27.436407359332986, -7.518171474050515]]])\n",
    "WestMine = ee.Geometry.Polygon(\n",
    "        [[[27.35316117125328, -7.538673727373273],\n",
    "          [27.35316117125328, -7.562838275361878],\n",
    "          [27.372730568225936, -7.562838275361878],\n",
    "          [27.372730568225936, -7.538673727373273]]])\n",
    "EastMine = ee.Geometry.Polygon(\n",
    "        [[[27.37513382750328, -7.523187286499756],\n",
    "          [27.37513382750328, -7.550926343072451],\n",
    "          [27.41959412413414, -7.550926343072451],\n",
    "          [27.41959412413414, -7.523187286499756]]])\n",
    "TailingPond = ee.Geometry.MultiPolygon(\n",
    "        [[[[27.40117714611331, -7.528029420400128],\n",
    "           [27.40143463817874, -7.529901416251066],\n",
    "           [27.40237877575198, -7.5338155632667805],\n",
    "           [27.404009558833035, -7.535347176386731],\n",
    "           [27.403837897456082, -7.531603223645428],\n",
    "           [27.402807929194363, -7.53075232078353],\n",
    "           [27.402464606440457, -7.527518874674277]]],\n",
    "         [[[27.401692130244168, -7.537219140622778],\n",
    "           [27.40160629955569, -7.538835830496198],\n",
    "           [27.402207114375027, -7.539516540215821],\n",
    "           [27.40564034191409, -7.539091096766489],\n",
    "           [27.40564034191409, -7.538410386377943]]],\n",
    "         [[[27.38813088146487, -7.548791103460967],\n",
    "           [27.38890335766116, -7.549046363857512],\n",
    "           [27.391821601069363, -7.5484507560311345],\n",
    "           [27.389761664545926, -7.546749014863657]]]])\n",
    "MinePile = ee.Geometry.MultiPolygon(\n",
    "        [[[[27.39990282562306, -7.538976580191123],\n",
    "           [27.39863682296803, -7.539487112415201],\n",
    "           [27.398057465820813, -7.54067835192985],\n",
    "           [27.397799973755383, -7.542380116977695],\n",
    "           [27.398883584767866, -7.542497115405488],\n",
    "           [27.4003963520818, -7.542784285193142],\n",
    "           [27.401705270081067, -7.541890860211821],\n",
    "           [27.4014048626714, -7.540295453871944],\n",
    "           [27.400782588904605, -7.539561565404619]]],\n",
    "         [[[27.40360114464233, -7.528471399345152],\n",
    "           [27.40287158379028, -7.53102411635294],\n",
    "           [27.40506026634643, -7.531151751808675],\n",
    "           [27.40561816582153, -7.528769217103983]]],\n",
    "         [[[27.400167917103268, -7.535108432289119],\n",
    "           [27.400554155201412, -7.5369803975571035],\n",
    "           [27.403300737232662, -7.537108031257986],\n",
    "           [27.403944467396236, -7.5352360665416755],\n",
    "           [27.402013276905514, -7.533491728501599]]],\n",
    "         [[[27.357092737193568, -7.547347692672706],\n",
    "           [27.357650636668666, -7.550155558119731],\n",
    "           [27.359431623454554, -7.550389546083809],\n",
    "           [27.360375761027797, -7.547985845511823],\n",
    "           [27.35890590547972, -7.545039700922603],\n",
    "           [27.357500432963832, -7.545135422206587]]]]);\n",
    "mines = ee.FeatureCollection(\"users/rishiAgarwal/Congo_Active_Mines\")"
   ]
  },
  {
   "cell_type": "code",
   "execution_count": 172,
   "id": "1306cc63-7778-4610-8a41-a6b3404d29ec",
   "metadata": {},
   "outputs": [],
   "source": [
    "rgbVis = {\n",
    "    'min': 8097.96,\n",
    "    'max': 12128.04,\n",
    "    'bands': ['SR_B4', 'SR_B3', 'SR_B2']\n",
    "}\n",
    "ndviVis = {\n",
    "    'min': 0,\n",
    "    'max': 0.5,\n",
    "    'palette': ['white', 'green']\n",
    "}\n",
    "bsiVis = {\n",
    "    'min': -0.11390094234742729, \n",
    "    'max': 0.12724605991882074, \n",
    "    'palette': ['white', '#7a5230']\n",
    "}\n",
    "ironVis = {\n",
    "    'min':0,\n",
    "    'max':0.5,\n",
    "     'palette': ['white', 'gray']\n",
    "}\n"
   ]
  },
  {
   "cell_type": "code",
   "execution_count": 173,
   "id": "5cc06cc1-619b-4069-bc2b-72662293ab7c",
   "metadata": {},
   "outputs": [],
   "source": [
    "def create_median_composites(geometry, start, end):\n",
    "    images = []\n",
    "    \n",
    "    for year in range(start, end+1):\n",
    "        filtered = ls8 \\\n",
    "            .filter(ee.Filter.bounds(geometry)) \\\n",
    "            .filter(ee.Filter.date(str(year) + '-01-01', str(year) + '-12-31')) \\\n",
    "            .filter(ee.Filter.lt('CLOUD_COVER', 15)) \\\n",
    "            .select('SR_B.*') \\\n",
    "\n",
    "        composite = filtered.median().clip(geometry)\n",
    "        \n",
    "        images.append((composite, year))\n",
    "        \n",
    "    return images"
   ]
  },
  {
   "cell_type": "code",
   "execution_count": 174,
   "id": "69785cda-0afc-498e-a04f-86f4e0ca1b6a",
   "metadata": {},
   "outputs": [],
   "source": [
    "def add_median_composites(images, geometry):\n",
    "    Map = geemap.Map()\n",
    "    Map.centerObject(geometry, 13)\n",
    "    \n",
    "    for image, year in images:\n",
    "        Map.addLayer(image, rgbVis, str(year) + ' Median Composite')\n",
    "\n",
    "    return Map"
   ]
  },
  {
   "cell_type": "code",
   "execution_count": 175,
   "id": "7dc9ef84-ae2b-4bdc-ae83-f0dd5a59bfb6",
   "metadata": {},
   "outputs": [
    {
     "data": {
      "application/vnd.jupyter.widget-view+json": {
       "model_id": "3a83b6f97b7f46dd979d2de13aa9fbc7",
       "version_major": 2,
       "version_minor": 0
      },
      "text/plain": [
       "Map(center=[-7.548293653363665, 27.393320353717858], controls=(WidgetControl(options=['position', 'transparent…"
      ]
     },
     "metadata": {},
     "output_type": "display_data"
    }
   ],
   "source": [
    "images = create_median_composites(focus, 2014, 2020)\n",
    "Map = add_median_composites(images, focus)\n",
    "Map"
   ]
  },
  {
   "cell_type": "code",
   "execution_count": 176,
   "id": "20bfb91d-1fb0-4990-aae0-a3ccb976fefa",
   "metadata": {},
   "outputs": [],
   "source": [
    "def extract_data(image):\n",
    "    stats = image.reduceRegion(**{\n",
    "        'reducer': ee.Reducer.mean(),\n",
    "        'geometry': image.geometry(),\n",
    "        'scale': 100\n",
    "    })\n",
    "    \n",
    "    properties = {\n",
    "        #'Year': image.get('system:index'),\n",
    "        'NDVI': stats.get('ndvi'),\n",
    "        'NDMI': stats.get('ndmi'),\n",
    "        'GNIR': stats.get('gNIR'),\n",
    "        'NIRSWIR': stats.get('nirswir'),\n",
    "        'BSI': stats.get('bsi'),\n",
    "    }\n",
    "    return ee.Feature(None, properties)"
   ]
  },
  {
   "cell_type": "code",
   "execution_count": 177,
   "id": "82d3ea59-a5da-445d-b6b6-fd0059a0c175",
   "metadata": {},
   "outputs": [],
   "source": [
    "def add_all_bands(image):\n",
    "    ndvi = image.normalizedDifference(['SR_B5', 'SR_B4']).rename('ndvi')\n",
    "    ndmi = image.normalizedDifference(['SR_B5', 'SR_B6']).rename('ndmi')\n",
    "    gnir = image.normalizedDifference(['SR_B5', 'SR_B3']).rename('gNIR')\n",
    "    nirswir = image.normalizedDifference(['SR_B5', 'SR_B7']).rename('nirswir')\n",
    "    bsi = image.expression(\n",
    "            '(( X + Y ) - (A + B)) /(( X + Y ) + (A + B)) ', {\n",
    "            'X': image.select('SR_B6'), #swir1\n",
    "            'Y': image.select('SR_B4'),  #red\n",
    "            'A': image.select('SR_B5'), # nir\n",
    "            'B': image.select('SR_B2'), # blue\n",
    "            }).rename('bsi')\n",
    "    \n",
    "    return image.addBands([ndvi, ndmi, gnir, nirswir, bsi])"
   ]
  },
  {
   "cell_type": "code",
   "execution_count": 178,
   "id": "6d54e27c-a267-46eb-afd9-6c30984512f0",
   "metadata": {
    "tags": []
   },
   "outputs": [],
   "source": [
    "images = ee.ImageCollection(create_median_composites(focus, 2014, 2020))\n",
    "images = images.map(add_all_bands)\n",
    "data = ee.FeatureCollection(images.map(extract_data))\n"
   ]
  },
  {
   "cell_type": "code",
   "execution_count": 179,
   "id": "c37cf941-7aaf-4e7c-9f2e-d21664316eb6",
   "metadata": {},
   "outputs": [],
   "source": [
    "def getData(geometry, dataWanted, year):\n",
    "    images1 = ee.ImageCollection(create_median_composites(geometry, 2014, 2020))\n",
    "    with_bands1 = images1.map(add_all_bands)\n",
    "    data1 = ee.FeatureCollection(with_bands1.map(extract_data))\n",
    "    df1 = geemap.ee_to_pandas(data1)\n",
    "    return df1.get(dataWanted).get(year - 2014)"
   ]
  },
  {
   "cell_type": "code",
   "execution_count": 180,
   "id": "0e3c07f1-f577-45b7-ba85-39371ba5b8f7",
   "metadata": {},
   "outputs": [
    {
     "name": "stdout",
     "output_type": "stream",
     "text": [
      "WEST MINE\n",
      "NDVI of West Mine in 2014: 0.25237624123473407\n",
      "NDVI of West Mine in 2020: 0.2162352379168892\n",
      "Difference: -0.036141003317844866\n",
      "BSI of West Mine in 2014:-0.01730392890165352\n",
      "BSI of West Mine in 2020:0.014418291580219709\n",
      "Difference: 0.03172222048187323\n",
      "Area of West Mine in SqKm: 6 sqKm\n",
      "Change in NDVI per sqKm for WestMine: -0.006023500552974144\n",
      "Change in BSI per sqKm for WestMine: 0.005287036746978872\n",
      "\n",
      "\n",
      "EAST MINE\n",
      "NDVI of East Mine in 2014: 0.24113650655814017\n",
      "NDVI of East Mine in 2020: 0.20363192232754257\n",
      "NDVI Difference: -0.037504584230597604\n",
      "BSI of East Mine in 2014: -0.0005478243749621002\n",
      "BSI of East Mine in 2020: 0.029133669015066168\n",
      "BSI Difference: 0.02968149339002827\n",
      "Area of West Mine in SqKm: 15.11 sqKm\n",
      "Change in NDVI per sqKm for EastMine: -0.0024821035228721118\n",
      "Change in NDVI per sqKm for EastMine: 0.0019643609126425063\n"
     ]
    }
   ],
   "source": [
    "print(\"WEST MINE\")\n",
    "ndviWest2014 = getData(WestMine, 'NDVI', 2014)\n",
    "ndviWest2020 = getData(WestMine, 'NDVI', 2020)\n",
    "bsiWest2014 = getData(WestMine, 'BSI', 2014)\n",
    "bsiWest2020 = getData(WestMine, 'BSI', 2020)\n",
    "print('NDVI of West Mine in 2014: ' + str(ndviWest2014))\n",
    "print('NDVI of West Mine in 2020: ' + str(ndviWest2020))\n",
    "print(\"Difference: \" + str(ndviWest2020 - ndviWest2014))\n",
    "print('BSI of West Mine in 2014:' + str(bsiWest2014))\n",
    "print('BSI of West Mine in 2020:' + str(bsiWest2020))\n",
    "print('Difference: ' + str(bsiWest2020 - bsiWest2014))\n",
    "print('Area of West Mine in SqKm: 6 sqKm')\n",
    "print('Change in NDVI per sqKm for WestMine: ' + str((ndviWest2020 - ndviWest2014) / 6))\n",
    "print('Change in BSI per sqKm for WestMine: ' + str((bsiWest2020 - bsiWest2014) / 6))\n",
    "print('\\n')\n",
    "print(\"EAST MINE\")\n",
    "ndviEast2014 = getData(EastMine, 'NDVI', 2014)\n",
    "ndviEast2020 = getData(EastMine, 'NDVI', 2020)\n",
    "bsiEast2014 = getData(EastMine, 'BSI', 2014)\n",
    "bsiEast2020 = getData(EastMine, 'BSI', 2020)\n",
    "print('NDVI of East Mine in 2014: ' + str(ndviEast2014))\n",
    "print('NDVI of East Mine in 2020: ' + str(ndviEast2020))\n",
    "print(\"NDVI Difference: \" + str(ndviEast2020 - ndviEast2014))\n",
    "print('BSI of East Mine in 2014: ' + str(bsiEast2014))\n",
    "print('BSI of East Mine in 2020: ' + str(bsiEast2020))\n",
    "print('BSI Difference: ' + str(bsiEast2020 - bsiEast2014))\n",
    "print('Area of West Mine in SqKm: 15.11 sqKm')\n",
    "print('Change in NDVI per sqKm for EastMine: ' + str((ndviEast2020 - ndviEast2014) / 15.11))\n",
    "print('Change in NDVI per sqKm for EastMine: ' + str((bsiEast2020 - bsiEast2014)/ 15.11))\n"
   ]
  },
  {
   "cell_type": "markdown",
   "id": "11434db8-55d8-4a3e-be2e-fbcad18a6733",
   "metadata": {},
   "source": [
    "<h2> Making a Routine </h2>"
   ]
  },
  {
   "cell_type": "markdown",
   "id": "0cd2ff6f-229c-48d7-a6a9-600416a21a78",
   "metadata": {},
   "source": [
    "<h4> Seperating focus region into smaller squares </h4>"
   ]
  },
  {
   "cell_type": "code",
   "execution_count": 181,
   "id": "29c2a228-a12e-4e51-af9e-c27690234bdf",
   "metadata": {},
   "outputs": [],
   "source": [
    "def divide_geometry():\n",
    "    # regionCoordinates = geometry.coordinates()\n",
    "    regions = []\n",
    "    i = 27.35\n",
    "    while i <= 27.44:\n",
    "        j = -7.52\n",
    "        while j >= -7.58:\n",
    "            region = ee.Geometry.Polygon(\n",
    "                [[[i, j],\n",
    "                  [i, j-.01],\n",
    "                  [i+.01, j-.01],\n",
    "                  [i+.01, j]]])\n",
    "            regions.append((region))\n",
    "            j = j-.01\n",
    "        i = i+.01\n",
    "    return regions"
   ]
  },
  {
   "cell_type": "code",
   "execution_count": 182,
   "id": "e86947bf-dcaa-4d90-9ea5-401d0d18c8e5",
   "metadata": {},
   "outputs": [
    {
     "name": "stdout",
     "output_type": "stream",
     "text": [
      "63\n"
     ]
    }
   ],
   "source": [
    "regions = divide_geometry()\n",
    "print(len(regions))"
   ]
  },
  {
   "cell_type": "markdown",
   "id": "9271d176-d651-4c85-a633-54c9568d6516",
   "metadata": {},
   "source": [
    "<h4> Evalutaing Regions by NDVI </h4>"
   ]
  },
  {
   "cell_type": "code",
   "execution_count": 183,
   "id": "af7bf9a6-9803-4836-9518-5fb98e7d4464",
   "metadata": {},
   "outputs": [],
   "source": [
    "def create_ndvi_layers_modis(start, end, geometry):\n",
    "    images = []\n",
    "    ndviStart = modis \\\n",
    "                .filter(ee.Filter.bounds(geometry))\\\n",
    "                .filter(ee.Filter.date(str(start) + '-01-01', str(start) + '-12-31')) \\\n",
    "                .select('NDVI') \\\n",
    "                .median() \\\n",
    "                .clip(geometry)\n",
    "    images.append((ndviStart, start))\n",
    "    ndviEnd = modis \\\n",
    "                .filter(ee.Filter.bounds(geometry))\\\n",
    "                .filter(ee.Filter.date(str(end) + '-01-01', str(end) + '-12-31')) \\\n",
    "                .select('NDVI') \\\n",
    "                .median() \\\n",
    "                .clip(geometry)\n",
    "    images.append((ndviEnd, end))\n",
    "    return images"
   ]
  },
  {
   "cell_type": "code",
   "execution_count": 184,
   "id": "12e6bae4-186f-446d-89e3-19a53e4869d6",
   "metadata": {},
   "outputs": [],
   "source": [
    "def extract_data_modis(image):\n",
    "    stats = image.reduceRegion(**{\n",
    "        'reducer': ee.Reducer.mean(),\n",
    "        'geometry': image.geometry(),\n",
    "        'scale': 100\n",
    "    })\n",
    "    \n",
    "    properties = {\n",
    "        'Year': image.get('system:index'),\n",
    "        'NDVI': stats.get('NDVI')\n",
    "    }\n",
    "    \n",
    "    return ee.Feature(None, properties)"
   ]
  },
  {
   "cell_type": "code",
   "execution_count": 185,
   "id": "13c34102-bfbc-4859-82f5-5838a2fa7923",
   "metadata": {},
   "outputs": [],
   "source": [
    "def ndvi_requirement_modis(df):\n",
    "    statusM = 0 # 1 = possible mine, 0 = not mine\n",
    "    if df.iat[0,1]-df.iat[1,1] > 500:\n",
    "        statusM = 1\n",
    "    else: \n",
    "        statusM = statusM\n",
    "    return statusM"
   ]
  },
  {
   "cell_type": "code",
   "execution_count": 225,
   "id": "b74ce6fb-4bd5-4b2c-bf25-7df324f747b8",
   "metadata": {},
   "outputs": [],
   "source": [
    "def ndvi_level_modis(regions):\n",
    "    Map = geemap.Map()\n",
    "    Map.setCenter(27.3954, -7.55, 13)\n",
    "    #Map.addLayer(comp2020,rgbVis,'whole',False)\n",
    "    num = 1\n",
    "    for region in regions:\n",
    "        layerName = str(num) + ' ndvi pass'\n",
    "        \n",
    "        images = ee.ImageCollection(create_ndvi_layers_modis(2004, 2020, region))\n",
    "        data = ee.FeatureCollection(images.map(extract_data_modis))\n",
    "        df = geemap.ee_to_pandas(data)\n",
    "\n",
    "        statusM = ndvi_requirement_modis(df)\n",
    "        if statusM == 1:\n",
    "            image = ls8 \\\n",
    "                .filter(ee.Filter.bounds(region)) \\\n",
    "                .filter(ee.Filter.date('2020-01-01', '2020-12-31')) \\\n",
    "                .filter(ee.Filter.lt('CLOUD_COVER', 15)) \\\n",
    "                .select('SR_B.*') \\\n",
    "                .median().clip(region)\n",
    "            Map.addLayer(image, rgbVis, layerName)\n",
    "        num = num+1\n",
    "    return Map"
   ]
  },
  {
   "cell_type": "code",
   "execution_count": 226,
   "id": "598c4af3-e4d7-46e4-9f13-68392d2e72e1",
   "metadata": {},
   "outputs": [
    {
     "data": {
      "application/vnd.jupyter.widget-view+json": {
       "model_id": "ed9f3076195e42638ef8d1cd62c8b5c3",
       "version_major": 2,
       "version_minor": 0
      },
      "text/plain": [
       "Map(center=[-7.55, 27.3954], controls=(WidgetControl(options=['position', 'transparent_bg'], widget=HBox(child…"
      ]
     },
     "metadata": {},
     "output_type": "display_data"
    }
   ],
   "source": [
    "ndvi_level_modis(regions)"
   ]
  },
  {
   "cell_type": "markdown",
   "id": "5c55c051-8a40-4a8b-b59d-0f8464d435fa",
   "metadata": {},
   "source": [
    "<h4> Evalutating Regions by BSI </h4>"
   ]
  },
  {
   "cell_type": "code",
   "execution_count": 67,
   "id": "2e209b2a-c060-4699-93b3-297ebace306b",
   "metadata": {},
   "outputs": [],
   "source": [
    "def create_bsi_layers_modis(start, end, geometry):\n",
    "    images = []\n",
    "    bsiStart = modis2 \\\n",
    "                .filter(ee.Filter.bounds(geometry))\\\n",
    "                .filter(ee.Filter.date(str(start) + '-01-01', str(start) + '-12-31')) \\\n",
    "                .median() \\\n",
    "                .clip(geometry)\n",
    "    startBsi = bsiStart.expression(\n",
    "        '(( X + Y ) - (A + B)) /(( X + Y ) + (A + B)) ', {\n",
    "            'X': bsiStart.select('Nadir_Reflectance_Band2'), #swir1\n",
    "            'Y': bsiStart.select('Nadir_Reflectance_Band1'),  #red\n",
    "            'A': bsiStart.select('Nadir_Reflectance_Band2'), # nir\n",
    "            'B': bsiStart.select('Nadir_Reflectance_Band3'), # blue\n",
    "            }).rename('bsi')\n",
    "    images.append((startBsi.select('bsi'), start))\n",
    "    bsiEnd = modis2 \\\n",
    "                .filter(ee.Filter.bounds(geometry))\\\n",
    "                .filter(ee.Filter.date(str(end) + '-01-01', str(end) + '-12-31')) \\\n",
    "                .median() \\\n",
    "                .clip(geometry)\n",
    "    endBsi = bsiEnd.expression(\n",
    "        '(( X + Y ) - (A + B)) /(( X + Y ) + (A + B)) ', {\n",
    "            'X': bsiStart.select('Nadir_Reflectance_Band2'), #swir1\n",
    "            'Y': bsiStart.select('Nadir_Reflectance_Band1'),  #red\n",
    "            'A': bsiStart.select('Nadir_Reflectance_Band2'), # nir\n",
    "            'B': bsiStart.select('Nadir_Reflectance_Band3'), # blue\n",
    "            }).rename('bsi')\n",
    "    images.append((endBsi.select('bsi'), end))\n",
    "    return images"
   ]
  },
  {
   "cell_type": "code",
   "execution_count": 68,
   "id": "b8d6b58b-78f7-4cd5-9e28-94f2dceba6e5",
   "metadata": {},
   "outputs": [],
   "source": [
    "def extract_data_modis_bsi(image):\n",
    "    stats = image.reduceRegion(**{\n",
    "        'reducer': ee.Reducer.mean(),\n",
    "        'geometry': image.geometry(),\n",
    "        'scale': 100\n",
    "    })\n",
    "    \n",
    "    properties = {\n",
    "        'Year': image.get('system:index'),\n",
    "        'BSI': stats.get('bsi')\n",
    "    }\n",
    "    \n",
    "    return ee.Feature(None, properties)"
   ]
  },
  {
   "cell_type": "code",
   "execution_count": 69,
   "id": "9b53cf31-bbda-4c58-9e33-4c0fe303f22d",
   "metadata": {},
   "outputs": [],
   "source": [
    "def bsi_requirement_modis(df):\n",
    "    statusM = 0 # 1 = possible mine, 0 = not mine\n",
    "    if df.iat[0,1]-df.iat[1,1] > 500:\n",
    "        statusM = 1\n",
    "    else: \n",
    "        statusM = statusM\n",
    "    return statusM"
   ]
  },
  {
   "cell_type": "code",
   "execution_count": 72,
   "id": "78bc7049-5888-402c-ab39-c5f713ca3f43",
   "metadata": {},
   "outputs": [],
   "source": [
    "def bsi_level_modis(regions):\n",
    "    Map = geemap.Map()\n",
    "    Map.setCenter(27.3954, -7.55, 13)\n",
    "    #Map.addLayer(comp2020,rgbVis,'whole',False)\n",
    "    num = 1\n",
    "    for region in regions:\n",
    "        layerName = str(num) + ' bsi pass'\n",
    "        \n",
    "        images = ee.ImageCollection(create_bsi_layers_modis(2014, 2020, region))\n",
    "        images = images.map(add_all_bands)\n",
    "        data = ee.FeatureCollection(images.map(extract_data_modis_bsi))\n",
    "        df = geemap.ee_to_pandas(data)\n",
    "\n",
    "        statusM = bsi_requirement_modis(df)\n",
    "        if statusM == 1:\n",
    "            image = ls8 \\\n",
    "                .filter(ee.Filter.bounds(region)) \\\n",
    "                .filter(ee.Filter.date('2020-01-01', '2020-12-31')) \\\n",
    "                .filter(ee.Filter.lt('CLOUD_COVER', 15)) \\\n",
    "                .select('SR_B.*') \\\n",
    "                .median().clip(region)\n",
    "            Map.addLayer(image, bsiVis, layerName)\n",
    "        num = num+1\n",
    "    return Map"
   ]
  },
  {
   "cell_type": "code",
   "execution_count": 73,
   "id": "b5f84c7a-9071-4a72-87ee-4668ef233289",
   "metadata": {},
   "outputs": [
    {
     "ename": "Exception",
     "evalue": "Error in map(ID=1):\nImage.normalizedDifference: No band named 'SR_B5'. Available band names: [bsi, constant].",
     "output_type": "error",
     "traceback": [
      "\u001b[1;31m---------------------------------------------------------------------------\u001b[0m",
      "\u001b[1;31mHttpError\u001b[0m                                 Traceback (most recent call last)",
      "File \u001b[1;32m~\\.conda\\envs\\ee\\lib\\site-packages\\ee\\data.py:334\u001b[0m, in \u001b[0;36m_execute_cloud_call\u001b[1;34m(call, num_retries)\u001b[0m\n\u001b[0;32m    333\u001b[0m \u001b[38;5;28;01mtry\u001b[39;00m:\n\u001b[1;32m--> 334\u001b[0m   \u001b[38;5;28;01mreturn\u001b[39;00m \u001b[43mcall\u001b[49m\u001b[38;5;241;43m.\u001b[39;49m\u001b[43mexecute\u001b[49m\u001b[43m(\u001b[49m\u001b[43mnum_retries\u001b[49m\u001b[38;5;241;43m=\u001b[39;49m\u001b[43mnum_retries\u001b[49m\u001b[43m)\u001b[49m\n\u001b[0;32m    335\u001b[0m \u001b[38;5;28;01mexcept\u001b[39;00m googleapiclient\u001b[38;5;241m.\u001b[39merrors\u001b[38;5;241m.\u001b[39mHttpError \u001b[38;5;28;01mas\u001b[39;00m e:\n",
      "File \u001b[1;32m~\\.conda\\envs\\ee\\lib\\site-packages\\googleapiclient\\_helpers.py:134\u001b[0m, in \u001b[0;36mpositional.<locals>.positional_decorator.<locals>.positional_wrapper\u001b[1;34m(*args, **kwargs)\u001b[0m\n\u001b[0;32m    133\u001b[0m         logger\u001b[38;5;241m.\u001b[39mwarning(message)\n\u001b[1;32m--> 134\u001b[0m \u001b[38;5;28;01mreturn\u001b[39;00m wrapped(\u001b[38;5;241m*\u001b[39margs, \u001b[38;5;241m*\u001b[39m\u001b[38;5;241m*\u001b[39mkwargs)\n",
      "File \u001b[1;32m~\\.conda\\envs\\ee\\lib\\site-packages\\googleapiclient\\http.py:915\u001b[0m, in \u001b[0;36mHttpRequest.execute\u001b[1;34m(self, http, num_retries)\u001b[0m\n\u001b[0;32m    914\u001b[0m \u001b[38;5;28;01mif\u001b[39;00m resp\u001b[38;5;241m.\u001b[39mstatus \u001b[38;5;241m>\u001b[39m\u001b[38;5;241m=\u001b[39m \u001b[38;5;241m300\u001b[39m:\n\u001b[1;32m--> 915\u001b[0m     \u001b[38;5;28;01mraise\u001b[39;00m HttpError(resp, content, uri\u001b[38;5;241m=\u001b[39m\u001b[38;5;28mself\u001b[39m\u001b[38;5;241m.\u001b[39muri)\n\u001b[0;32m    916\u001b[0m \u001b[38;5;28;01mreturn\u001b[39;00m \u001b[38;5;28mself\u001b[39m\u001b[38;5;241m.\u001b[39mpostproc(resp, content)\n",
      "\u001b[1;31mHttpError\u001b[0m: <HttpError 400 when requesting https://earthengine.googleapis.com/v1alpha/projects/earthengine-legacy/value:compute?prettyPrint=false&alt=json returned \"Error in map(ID=1):\nImage.normalizedDifference: No band named 'SR_B5'. Available band names: [bsi, constant].\". Details: \"Error in map(ID=1):\nImage.normalizedDifference: No band named 'SR_B5'. Available band names: [bsi, constant].\">",
      "\nDuring handling of the above exception, another exception occurred:\n",
      "\u001b[1;31mEEException\u001b[0m                               Traceback (most recent call last)",
      "File \u001b[1;32m~\\.conda\\envs\\ee\\lib\\site-packages\\geemap\\common.py:6902\u001b[0m, in \u001b[0;36mee_to_df\u001b[1;34m(ee_object, col_names, **kwargs)\u001b[0m\n\u001b[0;32m   6901\u001b[0m data \u001b[38;5;241m=\u001b[39m ee_object\u001b[38;5;241m.\u001b[39mmap(\u001b[38;5;28;01mlambda\u001b[39;00m f: ee\u001b[38;5;241m.\u001b[39mFeature(\u001b[38;5;28;01mNone\u001b[39;00m, f\u001b[38;5;241m.\u001b[39mtoDictionary()))\n\u001b[1;32m-> 6902\u001b[0m data \u001b[38;5;241m=\u001b[39m [x[\u001b[38;5;124m\"\u001b[39m\u001b[38;5;124mproperties\u001b[39m\u001b[38;5;124m\"\u001b[39m] \u001b[38;5;28;01mfor\u001b[39;00m x \u001b[38;5;129;01min\u001b[39;00m \u001b[43mdata\u001b[49m\u001b[38;5;241;43m.\u001b[39;49m\u001b[43mgetInfo\u001b[49m\u001b[43m(\u001b[49m\u001b[43m)\u001b[49m[\u001b[38;5;124m\"\u001b[39m\u001b[38;5;124mfeatures\u001b[39m\u001b[38;5;124m\"\u001b[39m]]\n\u001b[0;32m   6903\u001b[0m df \u001b[38;5;241m=\u001b[39m pd\u001b[38;5;241m.\u001b[39mDataFrame(data)\n",
      "File \u001b[1;32m~\\.conda\\envs\\ee\\lib\\site-packages\\ee\\collection.py:132\u001b[0m, in \u001b[0;36mCollection.getInfo\u001b[1;34m(self)\u001b[0m\n\u001b[0;32m    120\u001b[0m \u001b[38;5;124;03m\"\"\"Returns all the known information about this collection.\u001b[39;00m\n\u001b[0;32m    121\u001b[0m \n\u001b[0;32m    122\u001b[0m \u001b[38;5;124;03mThis function makes an REST call to to retrieve all the known information\u001b[39;00m\n\u001b[1;32m   (...)\u001b[0m\n\u001b[0;32m    130\u001b[0m \u001b[38;5;124;03m       properties.\u001b[39;00m\n\u001b[0;32m    131\u001b[0m \u001b[38;5;124;03m\"\"\"\u001b[39;00m\n\u001b[1;32m--> 132\u001b[0m \u001b[38;5;28;01mreturn\u001b[39;00m \u001b[38;5;28;43msuper\u001b[39;49m\u001b[43m(\u001b[49m\u001b[43mCollection\u001b[49m\u001b[43m,\u001b[49m\u001b[43m \u001b[49m\u001b[38;5;28;43mself\u001b[39;49m\u001b[43m)\u001b[49m\u001b[38;5;241;43m.\u001b[39;49m\u001b[43mgetInfo\u001b[49m\u001b[43m(\u001b[49m\u001b[43m)\u001b[49m\n",
      "File \u001b[1;32m~\\.conda\\envs\\ee\\lib\\site-packages\\ee\\computedobject.py:98\u001b[0m, in \u001b[0;36mComputedObject.getInfo\u001b[1;34m(self)\u001b[0m\n\u001b[0;32m     93\u001b[0m \u001b[38;5;124;03m\"\"\"Fetch and return information about this object.\u001b[39;00m\n\u001b[0;32m     94\u001b[0m \n\u001b[0;32m     95\u001b[0m \u001b[38;5;124;03mReturns:\u001b[39;00m\n\u001b[0;32m     96\u001b[0m \u001b[38;5;124;03m  The object can evaluate to anything.\u001b[39;00m\n\u001b[0;32m     97\u001b[0m \u001b[38;5;124;03m\"\"\"\u001b[39;00m\n\u001b[1;32m---> 98\u001b[0m \u001b[38;5;28;01mreturn\u001b[39;00m \u001b[43mdata\u001b[49m\u001b[38;5;241;43m.\u001b[39;49m\u001b[43mcomputeValue\u001b[49m\u001b[43m(\u001b[49m\u001b[38;5;28;43mself\u001b[39;49m\u001b[43m)\u001b[49m\n",
      "File \u001b[1;32m~\\.conda\\envs\\ee\\lib\\site-packages\\ee\\data.py:672\u001b[0m, in \u001b[0;36mcomputeValue\u001b[1;34m(obj)\u001b[0m\n\u001b[0;32m    664\u001b[0m \u001b[38;5;124;03m\"\"\"Sends a request to compute a value.\u001b[39;00m\n\u001b[0;32m    665\u001b[0m \n\u001b[0;32m    666\u001b[0m \u001b[38;5;124;03mArgs:\u001b[39;00m\n\u001b[1;32m   (...)\u001b[0m\n\u001b[0;32m    670\u001b[0m \u001b[38;5;124;03m  The result of evaluating that object on the server.\u001b[39;00m\n\u001b[0;32m    671\u001b[0m \u001b[38;5;124;03m\"\"\"\u001b[39;00m\n\u001b[1;32m--> 672\u001b[0m \u001b[38;5;28;01mreturn\u001b[39;00m \u001b[43m_execute_cloud_call\u001b[49m\u001b[43m(\u001b[49m\n\u001b[0;32m    673\u001b[0m \u001b[43m    \u001b[49m\u001b[43m_get_cloud_api_resource\u001b[49m\u001b[43m(\u001b[49m\u001b[43m)\u001b[49m\u001b[38;5;241;43m.\u001b[39;49m\u001b[43mprojects\u001b[49m\u001b[43m(\u001b[49m\u001b[43m)\u001b[49m\u001b[38;5;241;43m.\u001b[39;49m\u001b[43mvalue\u001b[49m\u001b[43m(\u001b[49m\u001b[43m)\u001b[49m\u001b[38;5;241;43m.\u001b[39;49m\u001b[43mcompute\u001b[49m\u001b[43m(\u001b[49m\n\u001b[0;32m    674\u001b[0m \u001b[43m        \u001b[49m\u001b[43mbody\u001b[49m\u001b[38;5;241;43m=\u001b[39;49m\u001b[43m{\u001b[49m\u001b[38;5;124;43m'\u001b[39;49m\u001b[38;5;124;43mexpression\u001b[39;49m\u001b[38;5;124;43m'\u001b[39;49m\u001b[43m:\u001b[49m\u001b[43m \u001b[49m\u001b[43mserializer\u001b[49m\u001b[38;5;241;43m.\u001b[39;49m\u001b[43mencode\u001b[49m\u001b[43m(\u001b[49m\u001b[43mobj\u001b[49m\u001b[43m,\u001b[49m\u001b[43m \u001b[49m\u001b[43mfor_cloud_api\u001b[49m\u001b[38;5;241;43m=\u001b[39;49m\u001b[38;5;28;43;01mTrue\u001b[39;49;00m\u001b[43m)\u001b[49m\u001b[43m}\u001b[49m\u001b[43m,\u001b[49m\n\u001b[0;32m    675\u001b[0m \u001b[43m        \u001b[49m\u001b[43mproject\u001b[49m\u001b[38;5;241;43m=\u001b[39;49m\u001b[43m_get_projects_path\u001b[49m\u001b[43m(\u001b[49m\u001b[43m)\u001b[49m\u001b[43m,\u001b[49m\n\u001b[0;32m    676\u001b[0m \u001b[43m        \u001b[49m\u001b[43mprettyPrint\u001b[49m\u001b[38;5;241;43m=\u001b[39;49m\u001b[38;5;28;43;01mFalse\u001b[39;49;00m\u001b[43m)\u001b[49m\u001b[43m)\u001b[49m[\u001b[38;5;124m'\u001b[39m\u001b[38;5;124mresult\u001b[39m\u001b[38;5;124m'\u001b[39m]\n",
      "File \u001b[1;32m~\\.conda\\envs\\ee\\lib\\site-packages\\ee\\data.py:336\u001b[0m, in \u001b[0;36m_execute_cloud_call\u001b[1;34m(call, num_retries)\u001b[0m\n\u001b[0;32m    335\u001b[0m \u001b[38;5;28;01mexcept\u001b[39;00m googleapiclient\u001b[38;5;241m.\u001b[39merrors\u001b[38;5;241m.\u001b[39mHttpError \u001b[38;5;28;01mas\u001b[39;00m e:\n\u001b[1;32m--> 336\u001b[0m   \u001b[38;5;28;01mraise\u001b[39;00m _translate_cloud_exception(e)\n",
      "\u001b[1;31mEEException\u001b[0m: Error in map(ID=1):\nImage.normalizedDifference: No band named 'SR_B5'. Available band names: [bsi, constant].",
      "\nDuring handling of the above exception, another exception occurred:\n",
      "\u001b[1;31mException\u001b[0m                                 Traceback (most recent call last)",
      "Input \u001b[1;32mIn [73]\u001b[0m, in \u001b[0;36m<module>\u001b[1;34m\u001b[0m\n\u001b[1;32m----> 1\u001b[0m \u001b[43mbsi_level_modis\u001b[49m\u001b[43m(\u001b[49m\u001b[43mregions\u001b[49m\u001b[43m)\u001b[49m\n",
      "Input \u001b[1;32mIn [72]\u001b[0m, in \u001b[0;36mbsi_level_modis\u001b[1;34m(regions)\u001b[0m\n\u001b[0;32m     10\u001b[0m images \u001b[38;5;241m=\u001b[39m images\u001b[38;5;241m.\u001b[39mmap(add_all_bands)\n\u001b[0;32m     11\u001b[0m data \u001b[38;5;241m=\u001b[39m ee\u001b[38;5;241m.\u001b[39mFeatureCollection(images\u001b[38;5;241m.\u001b[39mmap(extract_data_modis_bsi))\n\u001b[1;32m---> 12\u001b[0m df \u001b[38;5;241m=\u001b[39m \u001b[43mgeemap\u001b[49m\u001b[38;5;241;43m.\u001b[39;49m\u001b[43mee_to_pandas\u001b[49m\u001b[43m(\u001b[49m\u001b[43mdata\u001b[49m\u001b[43m)\u001b[49m\n\u001b[0;32m     14\u001b[0m statusM \u001b[38;5;241m=\u001b[39m bsi_requirement_modis(df)\n\u001b[0;32m     15\u001b[0m \u001b[38;5;28;01mif\u001b[39;00m statusM \u001b[38;5;241m==\u001b[39m \u001b[38;5;241m1\u001b[39m:\n",
      "File \u001b[1;32m~\\.conda\\envs\\ee\\lib\\site-packages\\geemap\\common.py:6915\u001b[0m, in \u001b[0;36mee_to_df\u001b[1;34m(ee_object, col_names, **kwargs)\u001b[0m\n\u001b[0;32m   6913\u001b[0m     \u001b[38;5;28;01mreturn\u001b[39;00m df\n\u001b[0;32m   6914\u001b[0m \u001b[38;5;28;01mexcept\u001b[39;00m \u001b[38;5;167;01mException\u001b[39;00m \u001b[38;5;28;01mas\u001b[39;00m e:\n\u001b[1;32m-> 6915\u001b[0m     \u001b[38;5;28;01mraise\u001b[39;00m \u001b[38;5;167;01mException\u001b[39;00m(e)\n",
      "\u001b[1;31mException\u001b[0m: Error in map(ID=1):\nImage.normalizedDifference: No band named 'SR_B5'. Available band names: [bsi, constant]."
     ]
    }
   ],
   "source": [
    "bsi_level_modis(regions)"
   ]
  },
  {
   "cell_type": "markdown",
   "id": "4a45e2d7-9a1b-4436-8693-96e362ed1eac",
   "metadata": {},
   "source": [
    "<h3> Evaluating Regions by Iron </h3>"
   ]
  },
  {
   "cell_type": "code",
   "execution_count": 188,
   "id": "6937ad7c-181a-4e0f-98ed-782be64dba47",
   "metadata": {},
   "outputs": [],
   "source": [
    "def create_iron_layers(start, end, geometry):\n",
    "    images = []\n",
    "    for year in range(start, end):\n",
    "        image = modis2 \\\n",
    "        .filter(ee.Filter.bounds(geometry))\\\n",
    "        .filter(ee.Filter.date(str(year) + '-01-01', str(year) + '-12-31')) \\\n",
    "        .median() \\\n",
    "        .clip(geometry)\n",
    "        iron = image.normalizedDifference(['Nadir_Reflectance_Band1', 'Nadir_Reflectance_Band3']).rename('IRON')\n",
    "        images.append((iron, year))\n",
    "\n",
    "    return images"
   ]
  },
  {
   "cell_type": "code",
   "execution_count": 189,
   "id": "f18f795a-4518-4f20-a403-cb7a4eac5cf3",
   "metadata": {},
   "outputs": [],
   "source": [
    "def extract_data_modis_iron(image):\n",
    "    stats = image.reduceRegion(**{\n",
    "        'reducer': ee.Reducer.mean(),\n",
    "        'geometry': image.geometry(),\n",
    "        'scale': 100\n",
    "    })\n",
    "    \n",
    "    properties = {\n",
    "        'Year': image.get('system:index'),\n",
    "        'IRON': stats.get('IRON')\n",
    "    }\n",
    "    \n",
    "    return ee.Feature(None, properties)"
   ]
  },
  {
   "cell_type": "code",
   "execution_count": 190,
   "id": "1eb6c3fa-d4fb-4a10-9139-26f346949afd",
   "metadata": {},
   "outputs": [],
   "source": [
    "def iron_requirement_modis(df):\n",
    "    #print(df)\n",
    "    statusM = 0 # 1 = possible mine, 0 = not mine\n",
    "    if (df.iat[15,1]-df.iat[0,1] > 0.020) or (df.iat[0,1] < 0.03):\n",
    "        statusM = 1\n",
    "    else: \n",
    "        statusM = statusM\n",
    "    return statusM"
   ]
  },
  {
   "cell_type": "code",
   "execution_count": 192,
   "id": "f813da3f-9289-4629-956b-ada68b118d78",
   "metadata": {},
   "outputs": [],
   "source": [
    "def iron_level_modis(regions):\n",
    "    Map = geemap.Map()\n",
    "    Map.setCenter(27.3954, -7.55, 13)\n",
    "    #Map.addLayer(comp2020,rgbVis,'whole',False)\n",
    "    num = 1\n",
    "    for region in regions:\n",
    "        layerName = str(num) + ' ndvi pass'\n",
    "        \n",
    "        images = ee.ImageCollection(create_iron_layers(2004, 2020, region))\n",
    "        data = ee.FeatureCollection(images.map(extract_data_modis_iron))\n",
    "        df = geemap.ee_to_pandas(data)\n",
    "\n",
    "        statusM = iron_requirement_modis(df)\n",
    "        if statusM == 1:\n",
    "            image = ls8 \\\n",
    "                .filter(ee.Filter.bounds(region)) \\\n",
    "                .filter(ee.Filter.date('2020-01-01', '2020-12-31')) \\\n",
    "                .filter(ee.Filter.lt('CLOUD_COVER', 15)) \\\n",
    "                .select('SR_B.*') \\\n",
    "                .median().clip(region)\n",
    "            Map.addLayer(image, rgbVis, layerName)\n",
    "        num = num+1\n",
    "    return Map"
   ]
  },
  {
   "cell_type": "code",
   "execution_count": 196,
   "id": "7dd7f69c-2d1f-494a-b6ef-46813a828efa",
   "metadata": {},
   "outputs": [
    {
     "data": {
      "application/vnd.jupyter.widget-view+json": {
       "model_id": "973001decb494dae8ced12f2b392d203",
       "version_major": 2,
       "version_minor": 0
      },
      "text/plain": [
       "Map(center=[-7.55, 27.3954], controls=(WidgetControl(options=['position', 'transparent_bg'], widget=HBox(child…"
      ]
     },
     "metadata": {},
     "output_type": "display_data"
    }
   ],
   "source": [
    "iron_level_modis(regions)"
   ]
  },
  {
   "cell_type": "markdown",
   "id": "e4c01246-27f5-45be-9fe8-e7f7088a8cd0",
   "metadata": {},
   "source": [
    "<h4> Evaluating Regions by NDMI </h4>"
   ]
  },
  {
   "cell_type": "code",
   "execution_count": 197,
   "id": "770c5b0a-9f82-4423-a914-68dad6ffb9c2",
   "metadata": {},
   "outputs": [],
   "source": [
    "def create_ndmi_layers(start, end, geometry):\n",
    "    images = []\n",
    "    for year in range(start, end):\n",
    "        image = modis2 \\\n",
    "        .filter(ee.Filter.bounds(geometry))\\\n",
    "        .filter(ee.Filter.date(str(year) + '-01-01', str(year) + '-12-31')) \\\n",
    "        .median() \\\n",
    "        .clip(geometry)\n",
    "        ndmi = image.normalizedDifference(['Nadir_Reflectance_Band2', 'Nadir_Reflectance_Band6']).rename('NDMI')\n",
    "        images.append((ndmi, year))\n",
    "\n",
    "    return images"
   ]
  },
  {
   "cell_type": "code",
   "execution_count": 198,
   "id": "61982162-4da0-4fec-9fc4-cc5696c588ae",
   "metadata": {},
   "outputs": [],
   "source": [
    "def extract_data_modis_ndmi(image):\n",
    "    stats = image.reduceRegion(**{\n",
    "        'reducer': ee.Reducer.mean(),\n",
    "        'geometry': image.geometry(),\n",
    "        'scale': 100\n",
    "    })\n",
    "    \n",
    "    properties = {\n",
    "        'Year': image.get('system:index'),\n",
    "        'NDMI': stats.get('NDMI')\n",
    "    }\n",
    "    \n",
    "    return ee.Feature(None, properties)"
   ]
  },
  {
   "cell_type": "code",
   "execution_count": 227,
   "id": "f6d9c9ac-0805-4ee3-8dff-35d397f9c6a3",
   "metadata": {},
   "outputs": [],
   "source": [
    "def ndmi_requirement_modis(df):\n",
    "    #print(df)\n",
    "    statusM = 0 # 1 = possible mine, 0 = not mine\n",
    "    if (df.iat[0,1]-df.iat[15,1] > 0.1b 0):\n",
    "        statusM = 1\n",
    "    else: \n",
    "        statusM = statusM\n",
    "    return statusM"
   ]
  },
  {
   "cell_type": "code",
   "execution_count": 228,
   "id": "0d32ff28-7428-4ed8-a9df-c67609b12a2b",
   "metadata": {},
   "outputs": [],
   "source": [
    "def ndmi_level_modis(regions):\n",
    "    Map = geemap.Map()\n",
    "    Map.setCenter(27.3954, -7.55, 13)\n",
    "    #Map.addLayer(comp2020,rgbVis,'whole',False)\n",
    "    num = 1\n",
    "    for region in regions:\n",
    "        layerName = str(num) + ' nmdi pass'\n",
    "        \n",
    "        images = ee.ImageCollection(create_ndmi_layers(2004, 2020, region))\n",
    "        data = ee.FeatureCollection(images.map(extract_data_modis_ndmi))\n",
    "        df = geemap.ee_to_pandas(data)\n",
    "        #print(num)\n",
    "        statusM = ndmi_requirement_modis(df)\n",
    "        if statusM == 1:\n",
    "            image = ls8 \\\n",
    "                .filter(ee.Filter.bounds(region)) \\\n",
    "                .filter(ee.Filter.date('2020-01-01', '2020-12-31')) \\\n",
    "                .filter(ee.Filter.lt('CLOUD_COVER', 15)) \\\n",
    "                .select('SR_B.*') \\\n",
    "                .median().clip(region)\n",
    "            Map.addLayer(image, rgbVis, layerName)\n",
    "        num = num+1\n",
    "    return Map"
   ]
  },
  {
   "cell_type": "code",
   "execution_count": 229,
   "id": "ae1d798f-6472-49e4-910c-f3b756f25048",
   "metadata": {},
   "outputs": [
    {
     "data": {
      "application/vnd.jupyter.widget-view+json": {
       "model_id": "79e05157985446f4ab5fdd64497d4174",
       "version_major": 2,
       "version_minor": 0
      },
      "text/plain": [
       "Map(center=[-7.55, 27.3954], controls=(WidgetControl(options=['position', 'transparent_bg'], widget=HBox(child…"
      ]
     },
     "metadata": {},
     "output_type": "display_data"
    }
   ],
   "source": [
    "ndmi_level_modis(regions)"
   ]
  },
  {
   "cell_type": "code",
   "execution_count": null,
   "id": "8c0515e6-f1dc-4fc7-b9e8-55918cc284ce",
   "metadata": {},
   "outputs": [],
   "source": []
  }
 ],
 "metadata": {
  "kernelspec": {
   "display_name": "Python 3 (ipykernel)",
   "language": "python",
   "name": "python3"
  },
  "language_info": {
   "codemirror_mode": {
    "name": "ipython",
    "version": 3
   },
   "file_extension": ".py",
   "mimetype": "text/x-python",
   "name": "python",
   "nbconvert_exporter": "python",
   "pygments_lexer": "ipython3",
   "version": "3.10.2"
  }
 },
 "nbformat": 4,
 "nbformat_minor": 5
}
