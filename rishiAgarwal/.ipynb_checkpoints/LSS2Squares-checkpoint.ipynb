{
 "cells": [
  {
   "cell_type": "code",
   "execution_count": 1,
   "id": "ad8b57a8-1c09-4c6b-9fb4-86e0605b4be2",
   "metadata": {},
   "outputs": [],
   "source": [
    "import ee\n",
    "import geemap\n",
    "import math\n",
    "ee.Initialize()"
   ]
  },
  {
   "cell_type": "markdown",
   "id": "cc433c2c-3db1-4bd4-bd3e-4532b6eb436e",
   "metadata": {},
   "source": [
    "<h3> Imports </h3>"
   ]
  },
  {
   "cell_type": "markdown",
   "id": "617f2322-6d77-4da7-ae0d-01482fc5672e",
   "metadata": {},
   "source": [
    "<h4> Satellites </h4>"
   ]
  },
  {
   "cell_type": "code",
   "execution_count": 2,
   "id": "698edd5d-2a47-4385-8237-b537c153b39e",
   "metadata": {},
   "outputs": [],
   "source": [
    "ls5 = ee.ImageCollection('LANDSAT/LT05/C02/T1_L2')\n",
    "s2 = ee.ImageCollection(\"COPERNICUS/S2_SR\")\n",
    "admin = ee.FeatureCollection(\"FAO/GAUL/2015/level0\")\n",
    "active_mines = ee.FeatureCollection(\"users/rishiAgarwal/Congo_Active_Mines\")\n",
    "s1 = ee.ImageCollection('COPERNICUS/S1_GRD')"
   ]
  },
  {
   "cell_type": "markdown",
   "id": "15c70727-6251-4e54-9dfa-5dfc7f8cb6e8",
   "metadata": {},
   "source": [
    "<h4> Regions </h4>"
   ]
  },
  {
   "cell_type": "code",
   "execution_count": 3,
   "id": "3c40826c-19f3-438a-bbff-af53b84a46b1",
   "metadata": {},
   "outputs": [],
   "source": [
    "rayroi1 = ee.Geometry.Polygon(\n",
    "        [[[29.554129272985683, 3.1591674847348235],\n",
    "          [29.554129272985683, 3.092319151883147],\n",
    "          [29.625197083044277, 3.092319151883147],\n",
    "          [29.625197083044277, 3.1591674847348235]]])\n",
    "\n",
    "rayroi2 = ee.Geometry.Polygon(\n",
    "        [[[30.246670960050185, 1.7911944738716732],\n",
    "          [30.246670960050185, 1.7103797163160706],\n",
    "          [30.356362579923232, 1.7103797163160706],\n",
    "          [30.356362579923232, 1.7911944738716732]]])\n",
    "\n",
    "rayall = ee.Geometry.Polygon(\n",
    "        [[[22.92587933089792, 5.5911393992628495],\n",
    "          [22.92587933089792, -13.776973382582892],\n",
    "          [31.45126995589792, -13.776973382582892],\n",
    "          [31.45126995589792, 5.5911393992628495]]])\n",
    "\n",
    "emily_area = ee.Geometry.Polygon(\n",
    "        [[[25.599767416235804, -10.585427828449394],\n",
    "          [25.599767416235804, -10.82359555219894],\n",
    "          [25.977297323462366, -10.82359555219894],\n",
    "          [25.977297323462366, -10.585427828449394]]])\n",
    "\n",
    "emily_area1 = ee.Geometry.Polygon(\n",
    "        [[[25.75, -10.75],\n",
    "          [25.75, -10.8],\n",
    "          [25.9, -10.8],\n",
    "          [25.9, -10.75]]])\n",
    "emily_area2 = ee.Geometry.Polygon(\n",
    "        [[[25.8, -10.6],\n",
    "          [25.8, -10.7],\n",
    "          [25.95, -10.7],\n",
    "          [25.95, -10.6]]])\n",
    "emily_area3 = ee.Geometry.Polygon(\n",
    "        [[[26, -10.5],\n",
    "          [26, -10.75],\n",
    "          [26.25, -10.75],\n",
    "          [26.25, -10.5]]])\n",
    "emily_area4 = ee.Geometry.Polygon(\n",
    "        [[[25.95, -10.6],\n",
    "          [25.95, -10.7],\n",
    "          [26.05, -10.7],\n",
    "          [26.05, -10.6]]])\n",
    "\n",
    "focus = ee.Geometry.Polygon(\n",
    "        [[[27.350233348102517, -7.518171474050515],\n",
    "          [27.350233348102517, -7.57841301205225],\n",
    "          [27.436407359332986, -7.57841301205225],\n",
    "          [27.436407359332986, -7.518171474050515]]])\n",
    "\n",
    "geometry = ee.Geometry.Polygon(\n",
    "        [[[-75.17882512894244, 39.96166702064832],\n",
    "          [-75.17882512894244, 39.93337275121306],\n",
    "          [-75.14191793289751, 39.93337275121306],\n",
    "          [-75.14191793289751, 39.96166702064832]]])"
   ]
  },
  {
   "cell_type": "markdown",
   "id": "49bb25bd-2b85-436c-9715-a500111f383d",
   "metadata": {},
   "source": [
    "<h4> Visuzalitaions </h4>"
   ]
  },
  {
   "cell_type": "code",
   "execution_count": 4,
   "id": "6f1dcee8-27e9-422f-bfca-a114d64356eb",
   "metadata": {},
   "outputs": [],
   "source": [
    "rgb_vis_ls5 = {\n",
    "    'min': 8211.7,\n",
    "    'max': 11077.3,\n",
    "    'bands': ['SR_B3', 'SR_B2', 'SR_B1']\n",
    "}\n",
    "\n",
    "rgb_vis_s2 = {\n",
    "  'min': 0.0,\n",
    "  'max': 3000,\n",
    "  'bands': ['B4', 'B3', 'B2'],\n",
    "}\n",
    "\n",
    "rgb_vis_s2_scaled = {\n",
    "  'min': 0.0,\n",
    "  'max': 0.3,\n",
    "  'bands': ['B4', 'B3', 'B2']\n",
    "}\n",
    "\n",
    "vvVis = {\n",
    "    'opacity': 1,\n",
    "    'bands': [\"VV\"],\n",
    "    'min': -13.375350094403828,\n",
    "    'max': -3.6299557970059952,\n",
    "    'gamma': 1\n",
    "}\n",
    "\n",
    "vhVis = {\n",
    "    'opacity': 1,\n",
    "    'bands': [\"VH\"],\n",
    "    'min': -21.945806268850372,\n",
    "    'max': -10.8330283399149,\n",
    "    'gamma': 1\n",
    "}"
   ]
  },
  {
   "cell_type": "markdown",
   "id": "3765e3fc-30b9-4555-93a1-c4286f0d10e0",
   "metadata": {
    "tags": []
   },
   "source": [
    "<h4> Classification Points </h4>"
   ]
  },
  {
   "cell_type": "code",
   "execution_count": 5,
   "id": "1b26def8-cf01-4ea2-94c4-9d9f27574e19",
   "metadata": {},
   "outputs": [],
   "source": [
    "bare = ee.FeatureCollection(\n",
    "        [ee.Feature(\n",
    "            ee.Geometry.Point([29.566649352977876, 3.131936594576548]),\n",
    "            {\n",
    "              \"landcover\": 0,\n",
    "              \"system:index\": \"0\"\n",
    "            }),\n",
    "        ee.Feature(\n",
    "            ee.Geometry.Point([29.594069479589553, 3.143136886698536]),\n",
    "            {\n",
    "              \"landcover\": 0,\n",
    "              \"system:index\": \"1\"\n",
    "            }),\n",
    "        ee.Feature(\n",
    "            ee.Geometry.Point([29.578229613742543, 3.109209943820683]),\n",
    "            {\n",
    "              \"landcover\": 0,\n",
    "              \"system:index\": \"2\"\n",
    "            }),\n",
    "        ee.Feature(\n",
    "            ee.Geometry.Point([29.581158585986806, 3.1067030888196494]),\n",
    "            {\n",
    "              \"landcover\": 0,\n",
    "              \"system:index\": \"3\"\n",
    "            }),\n",
    "        ee.Feature(\n",
    "            ee.Geometry.Point([29.55884031463487, 3.11517956941471]),\n",
    "            {\n",
    "              \"landcover\": 0,\n",
    "              \"system:index\": \"4\"\n",
    "            })])\n",
    "\n",
    "vegetation = ee.FeatureCollection(\n",
    "        [ee.Feature(\n",
    "            ee.Geometry.Point([29.581819366025293, 3.132088091449441]),\n",
    "            {\n",
    "              \"landcover\": 1,\n",
    "              \"system:index\": \"0\"\n",
    "            }),\n",
    "        ee.Feature(\n",
    "            ee.Geometry.Point([29.595938514279688, 3.131445322675145]),\n",
    "            {\n",
    "              \"landcover\": 1,\n",
    "              \"system:index\": \"1\"\n",
    "            }),\n",
    "        ee.Feature(\n",
    "            ee.Geometry.Point([29.59962923388418, 3.1347448648629315]),\n",
    "            {\n",
    "              \"landcover\": 1,\n",
    "              \"system:index\": \"2\"\n",
    "            }),\n",
    "        ee.Feature(\n",
    "            ee.Geometry.Point([29.565039466428125, 3.104877202480009]),\n",
    "            {\n",
    "              \"landcover\": 1,\n",
    "              \"system:index\": \"3\"\n",
    "            }),\n",
    "        ee.Feature(\n",
    "            ee.Geometry.Point([29.607741346488673, 3.1193612914096605]),\n",
    "            {\n",
    "              \"landcover\": 1,\n",
    "              \"system:index\": \"4\"\n",
    "            })])"
   ]
  },
  {
   "cell_type": "code",
   "execution_count": 6,
   "id": "bbae1d56-2044-4cf3-91e3-46b9608f34b8",
   "metadata": {},
   "outputs": [],
   "source": [
    "bare_s = ee.FeatureCollection(\n",
    "        [ee.Feature(\n",
    "            ee.Geometry.Point([29.588761955782978, 3.110552597531067]),\n",
    "            {\n",
    "              \"landcover\": 0,\n",
    "              \"system:index\": \"0\"\n",
    "            }),\n",
    "        ee.Feature(\n",
    "            ee.Geometry.Point([29.590113789126484, 3.1101669284095776]),\n",
    "            {\n",
    "              \"landcover\": 0,\n",
    "              \"system:index\": \"1\"\n",
    "            }),\n",
    "        ee.Feature(\n",
    "            ee.Geometry.Point([29.570400011069342, 3.114240974803364]),\n",
    "            {\n",
    "              \"landcover\": 0,\n",
    "              \"system:index\": \"2\"\n",
    "            }),\n",
    "        ee.Feature(\n",
    "            ee.Geometry.Point([29.56574369621949, 3.114048140935224]),\n",
    "            {\n",
    "              \"landcover\": 0,\n",
    "              \"system:index\": \"3\"\n",
    "            }),\n",
    "        ee.Feature(\n",
    "            ee.Geometry.Point([29.566300979571633, 3.1296952794920045]),\n",
    "            {\n",
    "              \"landcover\": 0,\n",
    "              \"system:index\": \"4\"\n",
    "            })])\n",
    "\n",
    "vegetation_s = ee.FeatureCollection(\n",
    "        [ee.Feature(\n",
    "            ee.Geometry.Point([29.61279975505381, 3.134623171579494]),\n",
    "            {\n",
    "              \"landcover\": 1,\n",
    "              \"system:index\": \"0\"\n",
    "            }),\n",
    "        ee.Feature(\n",
    "            ee.Geometry.Point([29.620696178393654, 3.1514206812868597]),\n",
    "            {\n",
    "              \"landcover\": 1,\n",
    "              \"system:index\": \"1\"\n",
    "            }),\n",
    "        ee.Feature(\n",
    "            ee.Geometry.Point([29.60730659099131, 3.15656272195781]),\n",
    "            {\n",
    "              \"landcover\": 1,\n",
    "              \"system:index\": \"2\"\n",
    "            }),\n",
    "        ee.Feature(\n",
    "            ee.Geometry.Point([29.609366527514748, 3.1041127202608414]),\n",
    "            {\n",
    "              \"landcover\": 1,\n",
    "              \"system:index\": \"3\"\n",
    "            }),\n",
    "        ee.Feature(\n",
    "            ee.Geometry.Point([29.561301341967873, 3.0982847807562592]),\n",
    "            {\n",
    "              \"landcover\": 1,\n",
    "              \"system:index\": \"4\"\n",
    "            })])"
   ]
  },
  {
   "cell_type": "markdown",
   "id": "d99c3748-0602-43d8-9363-9e623b56900e",
   "metadata": {
    "tags": []
   },
   "source": [
    "<h3> Cloud Masking Functions </h3>"
   ]
  },
  {
   "cell_type": "code",
   "execution_count": 7,
   "id": "62964196-91cf-4ccc-98cc-21b88d79511e",
   "metadata": {},
   "outputs": [],
   "source": [
    "# cloud mask landsat\n",
    "def maskL457sr(image):\n",
    "    qaMask = image.select('QA_PIXEL').bitwiseAnd(int('11111', 2)).eq(0)\n",
    "    saturationMask = image.select('QA_RADSAT').eq(0)\n",
    "\n",
    "    opticalBands = image.select('SR_B.').multiply(0.0000275).add(-0.2)\n",
    "\n",
    "    return image.addBands(opticalBands, None, True) \\\n",
    "        .updateMask(qaMask) \\\n",
    "        .updateMask(saturationMask)"
   ]
  },
  {
   "cell_type": "code",
   "execution_count": 8,
   "id": "426dc838-238b-4db2-822c-402b9fece7d0",
   "metadata": {},
   "outputs": [],
   "source": [
    "# cloud mask sentinel\n",
    "def maskS2clouds(image):\n",
    "    qa = image.select('QA60')\n",
    "\n",
    "    cloudBitMask = 1 << 10\n",
    "    cirrusBitMask = 1 << 11\n",
    "\n",
    "    mask = qa.bitwiseAnd(cloudBitMask).eq(0).And(qa.bitwiseAnd(cirrusBitMask).eq(0))\n",
    "\n",
    "    return image.updateMask(mask).divide(10000).select(\"B.*\") \\\n",
    "        .copyProperties(image, [\"system:time_start\"])"
   ]
  },
  {
   "cell_type": "markdown",
   "id": "31d06582-b4c7-46dd-9eba-4201e60cdc11",
   "metadata": {
    "tags": []
   },
   "source": [
    "<h3> Training the Classifier </h3>"
   ]
  },
  {
   "cell_type": "code",
   "execution_count": 9,
   "id": "f9687fbb-09e5-4fba-8af8-2554639059b9",
   "metadata": {},
   "outputs": [],
   "source": [
    "training = bare.merge(vegetation)\n",
    "\n",
    "composite1985 = ls5 \\\n",
    "        .filter(ee.Filter.bounds(rayroi1)) \\\n",
    "        .filter(ee.Filter.date('1985-01-01', '1986-01-01')) \\\n",
    "        .filter(ee.Filter.lt('CLOUD_COVER', 20)) \\\n",
    "        .map(maskL457sr) \\\n",
    "        .select('SR_B.*') \\\n",
    "        .median() \\\n",
    "        .clip(rayroi1)\n",
    "\n",
    "# Overlay the point on the image to get training data.\n",
    "training = composite1985.sampleRegions(**{\n",
    "  'collection': training,\n",
    "  'properties': ['landcover'],\n",
    "  'scale': 1\n",
    "})\n",
    "\n",
    "# Train a classifier.\n",
    "classifier_ls = ee.Classifier.smileRandomForest(50).train(**{\n",
    "  'features': training,\n",
    "  'classProperty': 'landcover',\n",
    "  'inputProperties': composite1985.bandNames()\n",
    "})\n",
    "\n",
    "# Classify the image.\n",
    "classified = composite1985.classify(classifier_ls)"
   ]
  },
  {
   "cell_type": "code",
   "execution_count": 10,
   "id": "4fe02e96-0f17-4f97-a282-06f62bd7b38f",
   "metadata": {},
   "outputs": [],
   "source": [
    "training = bare_s.merge(vegetation_s)\n",
    "\n",
    "composite2021 = s2 \\\n",
    "        .filter(ee.Filter.bounds(rayroi1)) \\\n",
    "        .filter(ee.Filter.date('2021-01-01', '2021-12-31')) \\\n",
    "        .filter(ee.Filter.lt('CLOUDY_PIXEL_PERCENTAGE', 20)) \\\n",
    "        .map(maskS2clouds) \\\n",
    "        .select('B.*') \\\n",
    "        .median() \\\n",
    "        .clip(rayroi1) \\\n",
    "\n",
    "# Overlay the point on the image to get training data.\n",
    "training = composite2021.sampleRegions(**{\n",
    "  'collection': training,\n",
    "  'properties': ['landcover'],\n",
    "  'scale': 1\n",
    "})\n",
    "\n",
    "# Train a classifier.\n",
    "classifier_s2 = ee.Classifier.smileRandomForest(50).train(**{\n",
    "  'features': training,\n",
    "  'classProperty': 'landcover',\n",
    "  'inputProperties': composite2021.bandNames()\n",
    "})\n",
    "\n",
    "# Classify the image.\n",
    "classified = composite2021.classify(classifier_s2)\n",
    "\n",
    "# Map.addLayer(classified,\n",
    "#   {'min': 0, 'max': 1, 'palette': ['brown', 'green']}, '2021 S2 Classified')\n",
    "\n",
    "# Map"
   ]
  },
  {
   "cell_type": "markdown",
   "id": "fb3f5fb8-9f3c-4fb8-8a10-f8b8760dc27e",
   "metadata": {
    "tags": []
   },
   "source": [
    "<h3> Divide Given Geometry to Specified Square Size (in Km) </h3>"
   ]
  },
  {
   "cell_type": "code",
   "execution_count": 11,
   "id": "00b1abfa-e5bc-45ca-a6b9-bbc36f0b699d",
   "metadata": {},
   "outputs": [],
   "source": [
    "\"\"\"\n",
    "Segment the given geometry into squares of given size (in km)\n",
    ":param geometry: rectangle form geometry object\n",
    ":return: list including all squares\n",
    "\"\"\"\n",
    "def create_segments(geometry, size):\n",
    "    segments = []\n",
    "    r_earth, dy, dx, pi = ee.Number(6378), ee.Number(size), ee.Number(size), ee.Number(math.pi)\n",
    "    \n",
    "    coords = ee.List(geometry.coordinates().get(0)).slice(0, -1)\n",
    "    \n",
    "    top = ee.Number(ee.List(coords.get(2)).get(1))\n",
    "    left = ee.Number(ee.List(coords.get(0)).get(0))\n",
    "    \n",
    "    width = int(ee.Geometry.Point(coords.get(0)).distance(ee.Geometry.Point(coords.get(1))).divide(1000 * size).getInfo())\n",
    "    height = int(ee.Geometry.Point(coords.get(1)).distance(ee.Geometry.Point(coords.get(2))).divide(1000 * size).getInfo())\n",
    "\n",
    "    for y in range(height + 1):\n",
    "        left = ee.Number(ee.List(coords.get(0)).get(0))\n",
    "        for x in range(width + 1):\n",
    "            #\n",
    "            first = top\n",
    "            second = dx.divide(r_earth)\n",
    "            third = ee.Number(180).divide(pi)\n",
    "            con = pi.divide(ee.Number(180))\n",
    "            fourth = left.multiply(con).multiply(con).cos()\n",
    "            \n",
    "            new_lon = first.subtract(second.multiply(third).divide(fourth))\n",
    "            #new_lon = top - (dx / r_earth) * (180 / pi) / math.cos(math.radians(left * pi/180))\n",
    "            #new_lat = left  + (dy / r_earth) * (180 / pi)\n",
    "            new_lat = left.add((dy.divide(r_earth)).multiply((ee.Number(180).divide(pi))))\n",
    "            \n",
    "            square = ee.Geometry.Polygon(\n",
    "                [[[left, new_lon],\n",
    "                  [new_lat, new_lon],\n",
    "                  [new_lat, top],\n",
    "                  [left, top]]])\n",
    "            \n",
    "            segments.append(square)\n",
    "            \n",
    "            left = new_lat\n",
    "        top = new_lon\n",
    "        \n",
    "    return segments"
   ]
  },
  {
   "cell_type": "markdown",
   "id": "6fb306b0-ea6a-4ef6-85e4-56a97a4408d9",
   "metadata": {},
   "source": [
    "<h2> Calculation Methods</h2>"
   ]
  },
  {
   "cell_type": "markdown",
   "id": "f064f327-a0a9-4dad-b73c-bed2c27558b9",
   "metadata": {
    "tags": []
   },
   "source": [
    "<h4> Calculate Percent Veg Change in a Region </h4>"
   ]
  },
  {
   "cell_type": "code",
   "execution_count": 12,
   "id": "582dc6bb-8765-406e-ba04-0956e09ebc25",
   "metadata": {},
   "outputs": [],
   "source": [
    "def calculate_percentage_change(feature):\n",
    "    g = feature.geometry()\n",
    "\n",
    "    composite_ls = ls5 \\\n",
    "        .filter(ee.Filter.bounds(g)) \\\n",
    "        .filter(ee.Filter.date('1985-01-01', '1990-12-31')) \\\n",
    "        .filter(ee.Filter.lt('CLOUD_COVER', 20)) \\\n",
    "        .map(maskL457sr) \\\n",
    "        .select('SR_B.*') \\\n",
    "        .median() \\\n",
    "        .clip(g)\n",
    "    \n",
    "    composite_s2 = s2 \\\n",
    "        .filter(ee.Filter.bounds(g)) \\\n",
    "        .filter(ee.Filter.date('2021-01-01', '2021-12-31')) \\\n",
    "        .filter(ee.Filter.lt('CLOUDY_PIXEL_PERCENTAGE', 20)) \\\n",
    "        .map(maskS2clouds) \\\n",
    "        .select('B.*') \\\n",
    "        .median() \\\n",
    "        .clip(g) \\\n",
    "    \n",
    "    left_classified = composite_ls.classify(classifier_ls)\n",
    "    right_classified = composite_s2.classify(classifier_s2)\n",
    "    \n",
    "    # Reclassify from 0-1 to 1-2\n",
    "    left_classes = left_classified.remap([0, 1], [1, 2])\n",
    "    right_classes = right_classified.remap([0, 1], [1, 2])\n",
    "\n",
    "    initial_vegetation = left_classes.eq(2)\n",
    "    bare = right_classes.eq(1)\n",
    "    vegetation_to_bare = initial_vegetation.And(bare)\n",
    "    \n",
    "    area_image = vegetation_to_bare.multiply(ee.Image.pixelArea())\n",
    "\n",
    "    area = area_image.reduceRegion(**{\n",
    "      'reducer': ee.Reducer.sum(),\n",
    "      'geometry': g,\n",
    "      'scale': 100,\n",
    "      'maxPixels': 1e10\n",
    "    })\n",
    "\n",
    "    area_vegetation_to_bare = ee.Number(area.get('remapped')).divide(1e6)\n",
    "\n",
    "    area_initial_vegetation = left_classified.eq(1).multiply(ee.Image.pixelArea())\n",
    "\n",
    "    area2 = area_initial_vegetation.reduceRegion(**{\n",
    "      'reducer': ee.Reducer.sum(),\n",
    "      'geometry': g,\n",
    "      'scale': 100,\n",
    "      'maxPixels': 1e10\n",
    "    })\n",
    "\n",
    "    area_initial_vegetation = ee.Number(area2.get('classification')).divide(1e6)\n",
    "    \n",
    "    percent_loss = area_vegetation_to_bare.divide(area_initial_vegetation).multiply(100)\n",
    "    \n",
    "    \n",
    "    total_area = g.area()\n",
    "    total_SqKm = ee.Number(total_area).divide(1e6)\n",
    "    \n",
    "    bare_image = bare.multiply(ee.Image.pixelArea())\n",
    "    \n",
    "    area3 = bare_image.reduceRegion(**{\n",
    "        'reducer': ee.Reducer.sum(),\n",
    "        'geometry': g,\n",
    "        'scale': 50,\n",
    "        'maxPixels': 1e10\n",
    "    })\n",
    "    \n",
    "    area_bare = ee.Number(area3.get('remapped')).divide(1e6)\n",
    "    \n",
    "    percent_bare = area_bare.divide(total_SqKm).multiply(100)\n",
    "    \n",
    "    return feature.set('percent loss',  percent_loss).set('percent bare', percent_bare)"
   ]
  },
  {
   "cell_type": "markdown",
   "id": "b2049e7f-628d-476c-8524-57719738ad46",
   "metadata": {
    "tags": []
   },
   "source": [
    "<h4> Calculate NIR/G Value in a Region </h4>"
   ]
  },
  {
   "cell_type": "code",
   "execution_count": 13,
   "id": "50447baf-2190-470a-a091-202de2e95bde",
   "metadata": {},
   "outputs": [],
   "source": [
    "def calculate_nirg_value(feature):\n",
    "    g = feature.geometry()\n",
    "    composite_s2 = s2 \\\n",
    "        .filter(ee.Filter.bounds(g)) \\\n",
    "        .filter(ee.Filter.date('2021-01-01', '2021-12-31')) \\\n",
    "        .filter(ee.Filter.lt('CLOUDY_PIXEL_PERCENTAGE', 20)) \\\n",
    "        .map(maskS2clouds) \\\n",
    "        .select('B.*') \\\n",
    "        .median() \\\n",
    "        .clip(g) \n",
    "    nirg = composite_s2.normalizedDifference(['B8', 'B3']).rename('nirg')\n",
    "    stats = nirg.reduceRegion(**{\n",
    "        'reducer': ee.Reducer.mean(),\n",
    "        'geometry': g,\n",
    "        'scale': 100,\n",
    "        'maxPixels': 1e10\n",
    "    })\n",
    "    nirg_val = stats.get('nirg')\n",
    "    \n",
    "    return feature.set('nirg', nirg_val)"
   ]
  },
  {
   "cell_type": "markdown",
   "id": "e432391d-e8a1-4fa8-8e0a-509c2b91349d",
   "metadata": {
    "tags": []
   },
   "source": [
    "<h4> Calculate NIR/SWIR2 Value in a Region </h4>"
   ]
  },
  {
   "cell_type": "code",
   "execution_count": 14,
   "id": "97fcd930-2daf-40c5-863e-84bd7d270ca8",
   "metadata": {},
   "outputs": [],
   "source": [
    "def calculate_nirswir2_loss(feature):\n",
    "    g = feature.geometry()\n",
    "    composite_ls = ls5 \\\n",
    "        .filter(ee.Filter.bounds(g)) \\\n",
    "        .filter(ee.Filter.date('1985-01-01', '1990-12-31')) \\\n",
    "        .filter(ee.Filter.lt('CLOUD_COVER', 20)) \\\n",
    "        .map(maskL457sr) \\\n",
    "        .select('SR_B.*') \\\n",
    "        .median() \\\n",
    "        .clip(g)\n",
    "    \n",
    "    composite_s2 = s2 \\\n",
    "        .filter(ee.Filter.bounds(g)) \\\n",
    "        .filter(ee.Filter.date('2021-01-01', '2021-12-31')) \\\n",
    "        .filter(ee.Filter.lt('CLOUDY_PIXEL_PERCENTAGE', 20)) \\\n",
    "        .map(maskS2clouds) \\\n",
    "        .select('B.*') \\\n",
    "        .median() \\\n",
    "        .clip(g)\n",
    "    \n",
    "    nirswir2_ls = composite_ls.normalizedDifference(['SR_B4', 'SR_B7']).rename('nirswir2_ls')\n",
    "    stats_ls = nirswir2_ls.reduceRegion(**{\n",
    "        'reducer': ee.Reducer.mean(),\n",
    "        'geometry': g,\n",
    "        'scale': 100,\n",
    "        'maxPixels': 1e10\n",
    "    })\n",
    "    \n",
    "    nirswir2_s2 = composite_s2.normalizedDifference(['B8', 'B12']).rename('nirswir2_s2')\n",
    "    stats_s2 = nirswir2_s2.reduceRegion(**{\n",
    "        'reducer': ee.Reducer.mean(),\n",
    "        'geometry': g,\n",
    "        'scale': 100,\n",
    "        'maxPixels': 1e10\n",
    "    })\n",
    "    \n",
    "    nirswir2_loss = ee.Number(stats_ls.get('nirswir2_ls')).subtract(ee.Number(stats_s2.get('nirswir2_s2')))\n",
    "    \n",
    "    return feature.set('nirswir2', nirswir2_loss)"
   ]
  },
  {
   "cell_type": "markdown",
   "id": "b7321b5a-9dac-41cd-9c28-0b82964ec410",
   "metadata": {
    "tags": []
   },
   "source": [
    "<h4> Calculate NDMI Loss in a Region </h4>"
   ]
  },
  {
   "cell_type": "code",
   "execution_count": 15,
   "id": "df22523c-04da-4ba7-a6ba-a27744267263",
   "metadata": {},
   "outputs": [],
   "source": [
    "def calculate_ndmi_loss(feature):\n",
    "    g = feature.geometry()\n",
    "    composite_ls = ls5 \\\n",
    "        .filter(ee.Filter.bounds(g)) \\\n",
    "        .filter(ee.Filter.date('1985-01-01', '1990-12-31')) \\\n",
    "        .filter(ee.Filter.lt('CLOUD_COVER', 20)) \\\n",
    "        .map(maskL457sr) \\\n",
    "        .select('SR_B.*') \\\n",
    "        .median() \\\n",
    "        .clip(g)\n",
    "    \n",
    "    composite_s2 = s2 \\\n",
    "        .filter(ee.Filter.bounds(g)) \\\n",
    "        .filter(ee.Filter.date('2021-01-01', '2021-12-31')) \\\n",
    "        .filter(ee.Filter.lt('CLOUDY_PIXEL_PERCENTAGE', 20)) \\\n",
    "        .map(maskS2clouds) \\\n",
    "        .select('B.*') \\\n",
    "        .median() \\\n",
    "        .clip(g) \\\n",
    "    \n",
    "    ndmi_ls = composite_ls.normalizedDifference(['SR_B4', 'SR_B5']).rename('ndmi_ls')\n",
    "    stats_ls = ndmi_ls.reduceRegion(**{\n",
    "        'reducer': ee.Reducer.mean(),\n",
    "        'geometry': g,\n",
    "        'scale': 100,\n",
    "        'maxPixels': 1e10\n",
    "    })\n",
    "    \n",
    "    ndmi_s2 = composite_s2.normalizedDifference(['B8', 'B11']).rename('ndmi_s2')\n",
    "    stats_s2 = ndmi_s2.reduceRegion(**{\n",
    "        'reducer': ee.Reducer.mean(),\n",
    "        'geometry': g,\n",
    "        'scale': 100,\n",
    "        'maxPixels': 1e10\n",
    "    })\n",
    "    \n",
    "    ndmi_loss = ee.Number(stats_ls.get('ndmi_ls')).subtract(ee.Number(stats_s2.get('ndmi_s2')))\n",
    "    \n",
    "    return feature.set('ndmi', ndmi_loss)"
   ]
  },
  {
   "cell_type": "markdown",
   "id": "153dfbba-feaf-4358-a72d-c062254143d0",
   "metadata": {
    "tags": []
   },
   "source": [
    "<h4> Calculate SWIR/B Value in 2020 </h4>"
   ]
  },
  {
   "cell_type": "code",
   "execution_count": 16,
   "id": "7dec096d-7de1-45cc-8a72-5ec44f495fcb",
   "metadata": {},
   "outputs": [],
   "source": [
    "def calculate_swirb_value(feature):\n",
    "    g = feature.geometry()\n",
    "    composite_s2 = s2 \\\n",
    "        .filter(ee.Filter.bounds(g)) \\\n",
    "        .filter(ee.Filter.date('2021-01-01', '2021-12-31')) \\\n",
    "        .filter(ee.Filter.lt('CLOUDY_PIXEL_PERCENTAGE', 20)) \\\n",
    "        .map(maskS2clouds) \\\n",
    "        .select('B.*') \\\n",
    "        .median() \\\n",
    "        .clip(g) \n",
    "    swirb = composite_s2.normalizedDifference(['B11', 'B2']).rename('swirb')\n",
    "    stats = swirb.reduceRegion(**{\n",
    "        'reducer': ee.Reducer.mean(),\n",
    "        'geometry': g,\n",
    "        'scale': 100,\n",
    "        'maxPixels': 1e10\n",
    "    })\n",
    "    swirb_val = stats.get('swirb')\n",
    "    \n",
    "    return feature.set('swirb', swirb_val)"
   ]
  },
  {
   "cell_type": "markdown",
   "id": "0ab8d06c-b358-41e7-8f62-e558420c4dc6",
   "metadata": {
    "tags": []
   },
   "source": [
    "<h4> Calculate SAR Value 2020 </h4>"
   ]
  },
  {
   "cell_type": "code",
   "execution_count": 17,
   "id": "ea21e3e5-5400-4a34-b4ad-821500562733",
   "metadata": {},
   "outputs": [],
   "source": [
    "def calculate_sar_vh(feature):\n",
    "    g = feature.geometry()\n",
    "    \n",
    "    # Images and Bands\n",
    "    filtered = s1 \\\n",
    "        .filter(ee.Filter.eq('instrumentMode','IW')) \\\n",
    "        .filter(ee.Filter.eq('orbitProperties_pass', 'DESCENDING')) \\\n",
    "        .filter(ee.Filter.eq('resolution_meters',10)) \\\n",
    "        .filter(ee.Filter.intersects('.geo', g)) \\\n",
    "        .filter(ee.Filter.date('2021-01-01', '2021-12-31')) \\\n",
    "        .select('VH')\n",
    "\n",
    "    composite = filtered.median().clip(g)\n",
    "    \n",
    "    #area of image\n",
    "    total_area = g.area()\n",
    "    total_SqKm = ee.Number(total_area).divide(1e6)\n",
    "    \n",
    "    #area of possible mines\n",
    "    area_mines = composite.lt(-19).rename('mines')\n",
    "    connect = area_mines.connectedPixelCount(25);\n",
    "    area_mines = area_mines.updateMask(connect.gt(8));\n",
    "    area_mines = area_mines.multiply(ee.Image.pixelArea())\n",
    "\n",
    "    area = area_mines.reduceRegion(**{\n",
    "      'reducer': ee.Reducer.sum(),\n",
    "      'geometry': g,\n",
    "      'scale': 30,\n",
    "      'maxPixels': 1e10\n",
    "    })\n",
    "\n",
    "    mines_SqKm = ee.Number(area.get('mines')).divide(1e6)\n",
    "\n",
    "    percent_mine = ee.Number(mines_SqKm.divide(total_SqKm).multiply(100))\n",
    "    \n",
    "    return feature.set('vh_percent', percent_mine)"
   ]
  },
  {
   "cell_type": "markdown",
   "id": "c2edaa54-3658-434a-8f08-f0fe06ad6e37",
   "metadata": {},
   "source": [
    "<h2> Routine </h2>"
   ]
  },
  {
   "cell_type": "markdown",
   "id": "3b45d640-e213-4aa1-a5ff-96efe556f3ef",
   "metadata": {},
   "source": [
    "<h5> Creates Median Composites of given feature </h5>"
   ]
  },
  {
   "cell_type": "code",
   "execution_count": 18,
   "id": "f618307b-4887-43bf-9641-a911bc485ac9",
   "metadata": {},
   "outputs": [],
   "source": [
    "def create_median_composite(feature):\n",
    "    filtered = s2 \\\n",
    "        .filter(ee.Filter.bounds(feature.geometry())) \\\n",
    "        .filter(ee.Filter.date('2021-01-01', '2021-12-31')) \\\n",
    "        .filter(ee.Filter.lt('CLOUDY_PIXEL_PERCENTAGE', 20)) \\\n",
    "        .map(maskS2clouds) \\\n",
    "        .select('B.*')\n",
    "    \n",
    "    composite = filtered.median().clip(feature.geometry())\n",
    "    return composite"
   ]
  },
  {
   "cell_type": "markdown",
   "id": "69a25da2-71b2-48b8-9a61-0643decb7939",
   "metadata": {},
   "source": [
    "<h5> Filtering the sqaures by percent of veg loss </h5>"
   ]
  },
  {
   "cell_type": "code",
   "execution_count": 19,
   "id": "14e2fd32-97e6-46b3-ac80-c7b62a4e8ba0",
   "metadata": {},
   "outputs": [],
   "source": [
    "def filter_by_vegetation_loss(squares, threshold1, threshold2):\n",
    "    with_percent_change = squares.map(calculate_percentage_change)\n",
    "    passed = with_percent_change.filter((ee.Filter.gt('percent loss', threshold1)).Or(ee.Filter.gt('percent bare', threshold2)))\n",
    "    return passed"
   ]
  },
  {
   "cell_type": "markdown",
   "id": "8b627542-6005-4d1a-829c-a76fa14b841a",
   "metadata": {
    "tags": []
   },
   "source": [
    "<h5> Filtering the squares by NIR/G value </h5>"
   ]
  },
  {
   "cell_type": "code",
   "execution_count": 20,
   "id": "5cafe8eb-5a9e-492c-8999-08e2eed82cb3",
   "metadata": {},
   "outputs": [],
   "source": [
    "def filter_by_nirg(squares, threshold):\n",
    "    with_nirg = squares.map(calculate_nirg_value)\n",
    "    passed = with_nirg.filter(ee.Filter.lte('nirg', threshold))\n",
    "    return passed"
   ]
  },
  {
   "cell_type": "markdown",
   "id": "29ddfa6d-023e-4fe8-8259-bfd7cef65bf8",
   "metadata": {},
   "source": [
    "<h5> Filtering the squares by loss in NIR/SWIR2 </h5>"
   ]
  },
  {
   "cell_type": "code",
   "execution_count": 21,
   "id": "fbe3bebc-0f57-432d-9532-586cdf9b3f40",
   "metadata": {},
   "outputs": [],
   "source": [
    "def filter_by_nirswir2(squares, threshold):\n",
    "    with_nirswir2 = squares.map(calculate_nirswir2_loss)\n",
    "    passed = with_nirswir2.filter(ee.Filter.gt('nirswir2', threshold))\n",
    "    return passed"
   ]
  },
  {
   "cell_type": "markdown",
   "id": "c87e19bf-e8ac-44e4-88a0-21a4ddc80054",
   "metadata": {},
   "source": [
    "<h5> Filtering the squares by loss in NDMI </h5>"
   ]
  },
  {
   "cell_type": "code",
   "execution_count": 22,
   "id": "e95de66d-5dd4-48d6-8b24-458615d1507e",
   "metadata": {},
   "outputs": [],
   "source": [
    "def filter_by_ndmi(squares, threshold):\n",
    "    with_ndmi = squares.map(calculate_ndmi_loss)\n",
    "    passed = with_ndmi.filter(ee.Filter.gt('ndmi', threshold))\n",
    "    return passed"
   ]
  },
  {
   "cell_type": "markdown",
   "id": "01b50d56-c680-4a14-bbd9-5d5bad94b701",
   "metadata": {},
   "source": [
    "<h5> Filtering the squares by SWIR/B value </h5>"
   ]
  },
  {
   "cell_type": "code",
   "execution_count": 23,
   "id": "3454480f-d302-464b-8a17-860c6e6b65cc",
   "metadata": {},
   "outputs": [],
   "source": [
    "def filter_by_swirb(squares, threshold):\n",
    "    with_swirb = squares.map(calculate_swirb_value)\n",
    "    passed = with_swirb.filter(ee.Filter.lte('swirb', threshold))\n",
    "    return passed"
   ]
  },
  {
   "cell_type": "markdown",
   "id": "d620bfc9-23da-4bce-82cc-d4429d141d76",
   "metadata": {},
   "source": [
    "<h5> Filtering by SAR Data </h5>"
   ]
  },
  {
   "cell_type": "code",
   "execution_count": 24,
   "id": "64598709-311f-48c5-96f9-5a77b0696f57",
   "metadata": {},
   "outputs": [],
   "source": [
    "def filter_by_vh_percent(squares, threshold):\n",
    "    with_change = squares.map(calculate_sar_vh)\n",
    "    passed = with_change.filter(ee.Filter.gt('vh_percent', threshold))\n",
    "    return passed\n"
   ]
  },
  {
   "cell_type": "markdown",
   "id": "ae9a241e-1d00-4c96-a55e-8778d180e534",
   "metadata": {},
   "source": [
    "<h3> Pasting onto the Map </h3>"
   ]
  },
  {
   "cell_type": "code",
   "execution_count": 25,
   "id": "942b9054-a00a-4cee-ab2d-c775f3fb5f0b",
   "metadata": {
    "tags": []
   },
   "outputs": [],
   "source": [
    "def applyRoutine(geometry, zoom, square_size):\n",
    "    Map = geemap.Map()\n",
    "    Map.centerObject(geometry, zoom)\n",
    "    drc = admin.filter(ee.Filter.eq('ADM0_NAME', 'Democratic Republic of the Congo'))\n",
    "\n",
    "    segments = ee.FeatureCollection(create_segments(geometry, square_size)).filter(ee.Filter.bounds(drc))\n",
    "\n",
    "    passed_vegetation_loss = filter_by_vegetation_loss(segments, 20, 10)\n",
    "    passed_nirg = filter_by_nirg(passed_vegetation_loss, 0.45)\n",
    "    passed_ndmi = filter_by_ndmi(passed_nirg, 0.03)\n",
    "    passed_nirswir2 = filter_by_nirswir2(passed_ndmi, 0)\n",
    "    passed_sar_vh = filter_by_vh_percent(passed_nirswir2, 5)\n",
    "    passed_swirb = filter_by_swirb(passed_sar_vh, 0.65)\n",
    "    completed = passed_swirb\n",
    "    \n",
    "    pass_sar_vh_2 = filter_by_vh_percent(passed_vegetation_loss, 5)\n",
    "    passed_swirb_2 = filter_by_swirb(passed_sar_vh, 0.62)\n",
    "    completed_2 = passed_swirb_2\n",
    "    # read = passed_vegetation_loss.getInfo()['features']\n",
    "    # for item in read:\n",
    "    #     print(item['properties'])\n",
    "\n",
    "    #composites = ee.ImageCollection(segments.map(create_median_composite))\n",
    "    composites = ee.ImageCollection(ee.FeatureCollection(geometry).map(create_median_composite))\n",
    "\n",
    "    Map.addLayer(composites, rgb_vis_s2_scaled, 'Median Composites 2021')\n",
    "    # Map.addLayer(passed_vegetation_loss, {'color': 'red'}, 'Passed 20% Vegetation Loss', opacity=0.5)\n",
    "    # Map.addLayer(passed_nirg, {'color': 'yellow'}, 'Passed Nirg greater than .45', opacity=0.5)\n",
    "    # Map.addLayer(passed_ndmi, {'color': 'blue'}, 'Passed NDMI loss greater than 0.05', opacity=0.5)\n",
    "    # Map.addLayer(passed_nirswir2, {'color': 'green'}, 'Passed NirSwir2 loss greater than 0', opacity=0.5)\n",
    "    # Map.addLayer(passed_sar_vh, {'color': 'purple'}, 'Passed SAR VH', opacity=0.5)\n",
    "    # Map.addLayer(passed_swirb, {'color': 'orange'}, 'Passed SwirB value less than 0.065', opacity=0.5)\n",
    "    Map.addLayer(completed, {'color': 'red'}, 'Completed Through all Indicies', opacity=0.5)\n",
    "    Map.addLayer(completed, {'color': 'blue'}, 'Completed Using SAR/SWIRB', opacity=0.5)\n",
    "    Map.addLayer(active_mines, {'color': 'black'}, 'mapbox active mines')\n",
    "    Map\n",
    "    return Map"
   ]
  },
  {
   "cell_type": "markdown",
   "id": "174c911c-c02d-4bbf-b395-1060679d178f",
   "metadata": {
    "tags": []
   },
   "source": [
    "<h5> Rishi Region </h5>"
   ]
  },
  {
   "cell_type": "code",
   "execution_count": 27,
   "id": "9a184f84-9647-4dc8-ba08-756eaa197424",
   "metadata": {},
   "outputs": [
    {
     "data": {
      "application/vnd.jupyter.widget-view+json": {
       "model_id": "b8e7061128ad4ede88877d673445b458",
       "version_major": 2,
       "version_minor": 0
      },
      "text/plain": [
       "Map(center=[-10.650006180468793, 25.875000000000533], controls=(WidgetControl(options=['position', 'transparen…"
      ]
     },
     "metadata": {},
     "output_type": "display_data"
    }
   ],
   "source": [
    "applyRoutine(emily_area2, 13, 0.25)"
   ]
  },
  {
   "cell_type": "code",
   "execution_count": null,
   "id": "5a7b363e-f9c7-4d9b-bce3-b40a67b9e7de",
   "metadata": {},
   "outputs": [],
   "source": []
  }
 ],
 "metadata": {
  "kernelspec": {
   "display_name": "Python 3 (ipykernel)",
   "language": "python",
   "name": "python3"
  },
  "language_info": {
   "codemirror_mode": {
    "name": "ipython",
    "version": 3
   },
   "file_extension": ".py",
   "mimetype": "text/x-python",
   "name": "python",
   "nbconvert_exporter": "python",
   "pygments_lexer": "ipython3",
   "version": "3.7.11"
  }
 },
 "nbformat": 4,
 "nbformat_minor": 5
}
