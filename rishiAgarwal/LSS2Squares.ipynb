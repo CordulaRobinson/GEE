{
 "cells": [
  {
   "cell_type": "code",
   "execution_count": 1,
   "id": "ad8b57a8-1c09-4c6b-9fb4-86e0605b4be2",
   "metadata": {},
   "outputs": [],
   "source": [
    "import ee\n",
    "import geemap\n",
    "import math\n",
    "ee.Initialize()"
   ]
  },
  {
   "cell_type": "markdown",
   "id": "cc433c2c-3db1-4bd4-bd3e-4532b6eb436e",
   "metadata": {},
   "source": [
    "<h2> Imports </h2>"
   ]
  },
  {
   "cell_type": "markdown",
   "id": "617f2322-6d77-4da7-ae0d-01482fc5672e",
   "metadata": {},
   "source": [
    "<h4> Satellites </h4>"
   ]
  },
  {
   "cell_type": "code",
   "execution_count": 2,
   "id": "698edd5d-2a47-4385-8237-b537c153b39e",
   "metadata": {},
   "outputs": [],
   "source": [
    "ls5 = ee.ImageCollection('LANDSAT/LT05/C02/T1_L2')\n",
    "s2 = ee.ImageCollection(\"COPERNICUS/S2_SR\")\n",
    "admin = ee.FeatureCollection(\"FAO/GAUL/2015/level0\")\n",
    "active_mines = ee.FeatureCollection(\"users/rishiAgarwal/Congo_Active_Mines\")"
   ]
  },
  {
   "cell_type": "markdown",
   "id": "15c70727-6251-4e54-9dfa-5dfc7f8cb6e8",
   "metadata": {},
   "source": [
    "<h4> Regions </h4>"
   ]
  },
  {
   "cell_type": "code",
   "execution_count": 3,
   "id": "3c40826c-19f3-438a-bbff-af53b84a46b1",
   "metadata": {},
   "outputs": [],
   "source": [
    "rayroi1 = ee.Geometry.Polygon(\n",
    "        [[[29.554129272985683, 3.1591674847348235],\n",
    "          [29.554129272985683, 3.092319151883147],\n",
    "          [29.625197083044277, 3.092319151883147],\n",
    "          [29.625197083044277, 3.1591674847348235]]])\n",
    "\n",
    "rayroi2 = ee.Geometry.Polygon(\n",
    "        [[[30.246670960050185, 1.7911944738716732],\n",
    "          [30.246670960050185, 1.7103797163160706],\n",
    "          [30.356362579923232, 1.7103797163160706],\n",
    "          [30.356362579923232, 1.7911944738716732]]])\n",
    "\n",
    "rayall = ee.Geometry.Polygon(\n",
    "        [[[22.92587933089792, 5.5911393992628495],\n",
    "          [22.92587933089792, -13.776973382582892],\n",
    "          [31.45126995589792, -13.776973382582892],\n",
    "          [31.45126995589792, 5.5911393992628495]]])\n",
    "\n",
    "emily_area = ee.Geometry.Polygon(\n",
    "        [[[25.599767416235804, -10.585427828449394],\n",
    "          [25.599767416235804, -10.82359555219894],\n",
    "          [25.977297323462366, -10.82359555219894],\n",
    "          [25.977297323462366, -10.585427828449394]]])\n",
    "\n",
    "emily_area1 = ee.Geometry.Polygon(\n",
    "        [[[25.75, -10.75],\n",
    "          [25.75, -10.8],\n",
    "          [25.9, -10.8],\n",
    "          [25.9, -10.75]]])\n",
    "emily_area2 = ee.Geometry.Polygon(\n",
    "        [[[25.8, -10.6],\n",
    "          [25.8, -10.7],\n",
    "          [25.95, -10.7],\n",
    "          [25.95, -10.6]]])\n",
    "emily_area3 = ee.Geometry.Polygon(\n",
    "        [[[26, -10.5],\n",
    "          [26, -10.75],\n",
    "          [26.25, -10.75],\n",
    "          [26.25, -10.5]]])\n",
    "emily_area4 = ee.Geometry.Polygon(\n",
    "        [[[25.95, -10.6],\n",
    "          [25.95, -10.7],\n",
    "          [26.05, -10.7],\n",
    "          [26.05, -10.6]]])\n",
    "\n",
    "focus = ee.Geometry.Polygon(\n",
    "        [[[27.350233348102517, -7.518171474050515],\n",
    "          [27.350233348102517, -7.57841301205225],\n",
    "          [27.436407359332986, -7.57841301205225],\n",
    "          [27.436407359332986, -7.518171474050515]]], None, False)"
   ]
  },
  {
   "cell_type": "markdown",
   "id": "49bb25bd-2b85-436c-9715-a500111f383d",
   "metadata": {},
   "source": [
    "<h4> Visuzalitaions </h4>"
   ]
  },
  {
   "cell_type": "code",
   "execution_count": 4,
   "id": "6f1dcee8-27e9-422f-bfca-a114d64356eb",
   "metadata": {},
   "outputs": [],
   "source": [
    "rgb_vis_ls5 = {\n",
    "    'min': 8211.7,\n",
    "    'max': 11077.3,\n",
    "    'bands': ['SR_B3', 'SR_B2', 'SR_B1']\n",
    "}\n",
    "\n",
    "rgb_vis_s2 = {\n",
    "  'min': 0.0,\n",
    "  'max': 3000,\n",
    "  'bands': ['B4', 'B3', 'B2'],\n",
    "}"
   ]
  },
  {
   "cell_type": "markdown",
   "id": "3765e3fc-30b9-4555-93a1-c4286f0d10e0",
   "metadata": {},
   "source": [
    "<h4> Classification Points </h4>"
   ]
  },
  {
   "cell_type": "code",
   "execution_count": 5,
   "id": "1b26def8-cf01-4ea2-94c4-9d9f27574e19",
   "metadata": {},
   "outputs": [],
   "source": [
    "bare = ee.FeatureCollection(\n",
    "        [ee.Feature(\n",
    "            ee.Geometry.Point([29.566649352977876, 3.131936594576548]),\n",
    "            {\n",
    "              \"landcover\": 0,\n",
    "              \"system:index\": \"0\"\n",
    "            }),\n",
    "        ee.Feature(\n",
    "            ee.Geometry.Point([29.594069479589553, 3.143136886698536]),\n",
    "            {\n",
    "              \"landcover\": 0,\n",
    "              \"system:index\": \"1\"\n",
    "            }),\n",
    "        ee.Feature(\n",
    "            ee.Geometry.Point([29.578229613742543, 3.109209943820683]),\n",
    "            {\n",
    "              \"landcover\": 0,\n",
    "              \"system:index\": \"2\"\n",
    "            }),\n",
    "        ee.Feature(\n",
    "            ee.Geometry.Point([29.581158585986806, 3.1067030888196494]),\n",
    "            {\n",
    "              \"landcover\": 0,\n",
    "              \"system:index\": \"3\"\n",
    "            }),\n",
    "        ee.Feature(\n",
    "            ee.Geometry.Point([29.55884031463487, 3.11517956941471]),\n",
    "            {\n",
    "              \"landcover\": 0,\n",
    "              \"system:index\": \"4\"\n",
    "            })])\n",
    "\n",
    "vegetation = ee.FeatureCollection(\n",
    "        [ee.Feature(\n",
    "            ee.Geometry.Point([29.581819366025293, 3.132088091449441]),\n",
    "            {\n",
    "              \"landcover\": 1,\n",
    "              \"system:index\": \"0\"\n",
    "            }),\n",
    "        ee.Feature(\n",
    "            ee.Geometry.Point([29.595938514279688, 3.131445322675145]),\n",
    "            {\n",
    "              \"landcover\": 1,\n",
    "              \"system:index\": \"1\"\n",
    "            }),\n",
    "        ee.Feature(\n",
    "            ee.Geometry.Point([29.59962923388418, 3.1347448648629315]),\n",
    "            {\n",
    "              \"landcover\": 1,\n",
    "              \"system:index\": \"2\"\n",
    "            }),\n",
    "        ee.Feature(\n",
    "            ee.Geometry.Point([29.565039466428125, 3.104877202480009]),\n",
    "            {\n",
    "              \"landcover\": 1,\n",
    "              \"system:index\": \"3\"\n",
    "            }),\n",
    "        ee.Feature(\n",
    "            ee.Geometry.Point([29.607741346488673, 3.1193612914096605]),\n",
    "            {\n",
    "              \"landcover\": 1,\n",
    "              \"system:index\": \"4\"\n",
    "            })])"
   ]
  },
  {
   "cell_type": "code",
   "execution_count": 6,
   "id": "bbae1d56-2044-4cf3-91e3-46b9608f34b8",
   "metadata": {},
   "outputs": [],
   "source": [
    "bare_s = ee.FeatureCollection(\n",
    "        [ee.Feature(\n",
    "            ee.Geometry.Point([29.588761955782978, 3.110552597531067]),\n",
    "            {\n",
    "              \"landcover\": 0,\n",
    "              \"system:index\": \"0\"\n",
    "            }),\n",
    "        ee.Feature(\n",
    "            ee.Geometry.Point([29.590113789126484, 3.1101669284095776]),\n",
    "            {\n",
    "              \"landcover\": 0,\n",
    "              \"system:index\": \"1\"\n",
    "            }),\n",
    "        ee.Feature(\n",
    "            ee.Geometry.Point([29.570400011069342, 3.114240974803364]),\n",
    "            {\n",
    "              \"landcover\": 0,\n",
    "              \"system:index\": \"2\"\n",
    "            }),\n",
    "        ee.Feature(\n",
    "            ee.Geometry.Point([29.56574369621949, 3.114048140935224]),\n",
    "            {\n",
    "              \"landcover\": 0,\n",
    "              \"system:index\": \"3\"\n",
    "            }),\n",
    "        ee.Feature(\n",
    "            ee.Geometry.Point([29.566300979571633, 3.1296952794920045]),\n",
    "            {\n",
    "              \"landcover\": 0,\n",
    "              \"system:index\": \"4\"\n",
    "            })])\n",
    "\n",
    "vegetation_s = ee.FeatureCollection(\n",
    "        [ee.Feature(\n",
    "            ee.Geometry.Point([29.61279975505381, 3.134623171579494]),\n",
    "            {\n",
    "              \"landcover\": 1,\n",
    "              \"system:index\": \"0\"\n",
    "            }),\n",
    "        ee.Feature(\n",
    "            ee.Geometry.Point([29.620696178393654, 3.1514206812868597]),\n",
    "            {\n",
    "              \"landcover\": 1,\n",
    "              \"system:index\": \"1\"\n",
    "            }),\n",
    "        ee.Feature(\n",
    "            ee.Geometry.Point([29.60730659099131, 3.15656272195781]),\n",
    "            {\n",
    "              \"landcover\": 1,\n",
    "              \"system:index\": \"2\"\n",
    "            }),\n",
    "        ee.Feature(\n",
    "            ee.Geometry.Point([29.609366527514748, 3.1041127202608414]),\n",
    "            {\n",
    "              \"landcover\": 1,\n",
    "              \"system:index\": \"3\"\n",
    "            }),\n",
    "        ee.Feature(\n",
    "            ee.Geometry.Point([29.561301341967873, 3.0982847807562592]),\n",
    "            {\n",
    "              \"landcover\": 1,\n",
    "              \"system:index\": \"4\"\n",
    "            })])"
   ]
  },
  {
   "cell_type": "markdown",
   "id": "31d06582-b4c7-46dd-9eba-4201e60cdc11",
   "metadata": {},
   "source": [
    "<h3> Training the Classifier </h3>"
   ]
  },
  {
   "cell_type": "code",
   "execution_count": 7,
   "id": "f9687fbb-09e5-4fba-8af8-2554639059b9",
   "metadata": {},
   "outputs": [],
   "source": [
    "training = bare.merge(vegetation)\n",
    "\n",
    "composite1985 = ls5 \\\n",
    "        .filter(ee.Filter.bounds(rayroi1)) \\\n",
    "        .filter(ee.Filter.date('1985-01-01', '1986-01-01')) \\\n",
    "        .filter(ee.Filter.lt('CLOUD_COVER', 20)) \\\n",
    "        .select('SR_B.*') \\\n",
    "        .median() \\\n",
    "        .clip(rayroi1)\n",
    "\n",
    "# Overlay the point on the image to get training data.\n",
    "training = composite1985.sampleRegions(**{\n",
    "  'collection': training,\n",
    "  'properties': ['landcover'],\n",
    "  'scale': 1\n",
    "})\n",
    "\n",
    "# Train a classifier.\n",
    "classifier_ls = ee.Classifier.smileRandomForest(50).train(**{\n",
    "  'features': training,\n",
    "  'classProperty': 'landcover',\n",
    "  'inputProperties': composite1985.bandNames()\n",
    "})\n",
    "\n",
    "# Classify the image.\n",
    "classified = composite1985.classify(classifier_ls)"
   ]
  },
  {
   "cell_type": "code",
   "execution_count": 8,
   "id": "4fe02e96-0f17-4f97-a282-06f62bd7b38f",
   "metadata": {},
   "outputs": [],
   "source": [
    "training = bare_s.merge(vegetation_s)\n",
    "\n",
    "composite2021 = s2 \\\n",
    "        .filter(ee.Filter.bounds(rayroi1)) \\\n",
    "        .filter(ee.Filter.date('2021-01-01', '2021-12-31')) \\\n",
    "        .filter(ee.Filter.lt('CLOUDY_PIXEL_PERCENTAGE', 20)) \\\n",
    "        .select('B.*') \\\n",
    "        .median() \\\n",
    "        .clip(rayroi1) \\\n",
    "\n",
    "# Overlay the point on the image to get training data.\n",
    "training = composite2021.sampleRegions(**{\n",
    "  'collection': training,\n",
    "  'properties': ['landcover'],\n",
    "  'scale': 1\n",
    "})\n",
    "\n",
    "# Train a classifier.\n",
    "classifier_s2 = ee.Classifier.smileRandomForest(50).train(**{\n",
    "  'features': training,\n",
    "  'classProperty': 'landcover',\n",
    "  'inputProperties': composite2021.bandNames()\n",
    "})\n",
    "\n",
    "# Classify the image.\n",
    "classified = composite2021.classify(classifier_s2)\n",
    "\n",
    "# Map.addLayer(classified,\n",
    "#   {'min': 0, 'max': 1, 'palette': ['brown', 'green']}, '2021 S2 Classified')\n",
    "\n",
    "# Map"
   ]
  },
  {
   "cell_type": "markdown",
   "id": "6fb306b0-ea6a-4ef6-85e4-56a97a4408d9",
   "metadata": {},
   "source": [
    "<h2> Calculation Methods</h2>"
   ]
  },
  {
   "cell_type": "markdown",
   "id": "f064f327-a0a9-4dad-b73c-bed2c27558b9",
   "metadata": {},
   "source": [
    "<h4> Calculate Percent Veg Change in a Region </h4>"
   ]
  },
  {
   "cell_type": "code",
   "execution_count": 9,
   "id": "582dc6bb-8765-406e-ba04-0956e09ebc25",
   "metadata": {},
   "outputs": [],
   "source": [
    "def calculate_percentage_change(feature):\n",
    "    g = feature.geometry()\n",
    "\n",
    "    composite_ls = ls5 \\\n",
    "        .filter(ee.Filter.bounds(g)) \\\n",
    "        .filter(ee.Filter.date('1985-01-01', '1990-12-31')) \\\n",
    "        .filter(ee.Filter.lt('CLOUD_COVER', 20)) \\\n",
    "        .select('SR_B.*') \\\n",
    "        .median() \\\n",
    "        .clip(g)\n",
    "    \n",
    "    composite_s2 = s2 \\\n",
    "        .filter(ee.Filter.bounds(g)) \\\n",
    "        .filter(ee.Filter.date('2021-01-01', '2021-12-31')) \\\n",
    "        .filter(ee.Filter.lt('CLOUDY_PIXEL_PERCENTAGE', 20)) \\\n",
    "        .select('B.*') \\\n",
    "        .median() \\\n",
    "        .clip(g) \\\n",
    "    \n",
    "    left_classified = composite_ls.classify(classifier_ls)\n",
    "    right_classified = composite_s2.classify(classifier_s2)\n",
    "    \n",
    "    # Reclassify from 0-1 to 1-2\n",
    "    left_classes = left_classified.remap([0, 1], [1, 2])\n",
    "    right_classes = right_classified.remap([0, 1], [1, 2])\n",
    "\n",
    "    initial_vegetation = left_classes.eq(2)\n",
    "    bare = right_classes.eq(1)\n",
    "    vegetation_to_bare = initial_vegetation.And(bare)\n",
    "    \n",
    "    area_image = vegetation_to_bare.multiply(ee.Image.pixelArea())\n",
    "\n",
    "    area = area_image.reduceRegion(**{\n",
    "      'reducer': ee.Reducer.sum(),\n",
    "      'geometry': g,\n",
    "      'scale': 100,\n",
    "      'maxPixels': 1e10\n",
    "    })\n",
    "\n",
    "    area_vegetation_to_bare = ee.Number(area.get('remapped')).divide(1e6)\n",
    "\n",
    "    area_initial_vegetation = left_classified.eq(1).multiply(ee.Image.pixelArea())\n",
    "\n",
    "    area2 = area_initial_vegetation.reduceRegion(**{\n",
    "      'reducer': ee.Reducer.sum(),\n",
    "      'geometry': g,\n",
    "      'scale': 100,\n",
    "      'maxPixels': 1e10\n",
    "    })\n",
    "\n",
    "    area_initial_vegetation = ee.Number(area2.get('classification')).divide(1e6)\n",
    "    \n",
    "    percent_loss = area_vegetation_to_bare.divide(area_initial_vegetation).multiply(100)\n",
    "    \n",
    "    return feature.set('percent loss',  percent_loss)"
   ]
  },
  {
   "cell_type": "markdown",
   "id": "b2049e7f-628d-476c-8524-57719738ad46",
   "metadata": {},
   "source": [
    "<h4> Calculate NIR/G Value in a Region </h4>"
   ]
  },
  {
   "cell_type": "code",
   "execution_count": 11,
   "id": "50447baf-2190-470a-a091-202de2e95bde",
   "metadata": {},
   "outputs": [],
   "source": [
    "def calculate_nirg_value(feature):\n",
    "    g = feature.geometry()\n",
    "    composite_s2 = s2 \\\n",
    "        .filter(ee.Filter.bounds(g)) \\\n",
    "        .filter(ee.Filter.date('2021-01-01', '2021-12-31')) \\\n",
    "        .filter(ee.Filter.lt('CLOUDY_PIXEL_PERCENTAGE', 20)) \\\n",
    "        .select('B.*') \\\n",
    "        .median() \\\n",
    "        .clip(g) \n",
    "    nirg = composite_s2.normalizedDifference(['B8', 'B3']).rename('nirg')\n",
    "    stats = nirg.reduceRegion(**{\n",
    "        'reducer': ee.Reducer.mean(),\n",
    "        'geometry': g,\n",
    "        'scale': 100,\n",
    "        'maxPixels': 1e10\n",
    "    })\n",
    "    nirg_val = stats.get('nirg')\n",
    "    \n",
    "    return feature.set('nirg', nirg_val)"
   ]
  },
  {
   "cell_type": "markdown",
   "id": "e432391d-e8a1-4fa8-8e0a-509c2b91349d",
   "metadata": {},
   "source": [
    "<h4> Calculate NIR/SWIR2 Value in a Region </h4>"
   ]
  },
  {
   "cell_type": "code",
   "execution_count": 12,
   "id": "97fcd930-2daf-40c5-863e-84bd7d270ca8",
   "metadata": {},
   "outputs": [],
   "source": [
    "def calculate_nirswir2_loss(feature):\n",
    "    g = feature.geometry()\n",
    "    composite_ls = ls5 \\\n",
    "        .filter(ee.Filter.bounds(g)) \\\n",
    "        .filter(ee.Filter.date('1985-01-01', '1990-12-31')) \\\n",
    "        .filter(ee.Filter.lt('CLOUD_COVER', 20)) \\\n",
    "        .select('SR_B.*') \\\n",
    "        .median() \\\n",
    "        .clip(g)\n",
    "    \n",
    "    composite_s2 = s2 \\\n",
    "        .filter(ee.Filter.bounds(g)) \\\n",
    "        .filter(ee.Filter.date('2021-01-01', '2021-12-31')) \\\n",
    "        .filter(ee.Filter.lt('CLOUDY_PIXEL_PERCENTAGE', 20)) \\\n",
    "        .select('B.*') \\\n",
    "        .median() \\\n",
    "        .clip(g) \\\n",
    "    \n",
    "    nirswir2_ls = composite_ls.normalizedDifference(['SR_B4', 'SR_B7']).rename('nirswir2_ls')\n",
    "    stats_ls = nirswir2_ls.reduceRegion(**{\n",
    "        'reducer': ee.Reducer.mean(),\n",
    "        'geometry': g,\n",
    "        'scale': 100,\n",
    "        'maxPixels': 1e10\n",
    "    })\n",
    "    \n",
    "    nirswir2_s2 = composite_s2.normalizedDifference(['B8', 'B12']).rename('nirswir2_s2')\n",
    "    stats_s2 = nirswir2_s2.reduceRegion(**{\n",
    "        'reducer': ee.Reducer.mean(),\n",
    "        'geometry': g,\n",
    "        'scale': 100,\n",
    "        'maxPixels': 1e10\n",
    "    })\n",
    "    \n",
    "    nirswir2_loss = ee.Number(stats_ls.get('nirswir2_ls')).subtract(ee.Number(stats_s2.get('nirswir2_s2')))\n",
    "    \n",
    "    return feature.set('nirswir2', nirswir2_loss)"
   ]
  },
  {
   "cell_type": "markdown",
   "id": "b4279629-3712-45c5-9a02-f1b4539cb888",
   "metadata": {},
   "source": [
    "<h3> Divide Given Geometry to Specified Square Size (in Km) </h3>"
   ]
  },
  {
   "cell_type": "code",
   "execution_count": 13,
   "id": "00b1abfa-e5bc-45ca-a6b9-bbc36f0b699d",
   "metadata": {},
   "outputs": [],
   "source": [
    "\"\"\"\n",
    "Segment the given geometry into squares of given size (in km)\n",
    ":param geometry: rectangle form geometry object\n",
    ":return: list including all squares\n",
    "\"\"\"\n",
    "def create_segments(geometry, size):\n",
    "    segments = []\n",
    "    r_earth, dy, dx, pi = ee.Number(6378), ee.Number(size), ee.Number(size), ee.Number(math.pi)\n",
    "    \n",
    "    coords = ee.List(geometry.coordinates().get(0)).slice(0, -1)\n",
    "    \n",
    "    top = ee.Number(ee.List(coords.get(2)).get(1))\n",
    "    left = ee.Number(ee.List(coords.get(0)).get(0))\n",
    "    \n",
    "    width = int(ee.Geometry.Point(coords.get(0)).distance(ee.Geometry.Point(coords.get(1))).divide(1000 * size).getInfo())\n",
    "    height = int(ee.Geometry.Point(coords.get(1)).distance(ee.Geometry.Point(coords.get(2))).divide(1000 * size).getInfo())\n",
    "\n",
    "    for y in range(height + 1):\n",
    "        left = ee.Number(ee.List(coords.get(0)).get(0))\n",
    "        for x in range(width + 1):\n",
    "            #\n",
    "            first = top\n",
    "            second = dx.divide(r_earth)\n",
    "            third = ee.Number(180).divide(pi)\n",
    "            con = pi.divide(ee.Number(180))\n",
    "            fourth = left.multiply(con).multiply(con).cos()\n",
    "            \n",
    "            new_lon = first.subtract(second.multiply(third).divide(fourth))\n",
    "            #new_lon = top - (dx / r_earth) * (180 / pi) / math.cos(math.radians(left * pi/180))\n",
    "            #new_lat = left  + (dy / r_earth) * (180 / pi)\n",
    "            new_lat = left.add((dy.divide(r_earth)).multiply((ee.Number(180).divide(pi))))\n",
    "            \n",
    "            square = ee.Geometry.Polygon(\n",
    "                [[[left, new_lon],\n",
    "                  [new_lat, new_lon],\n",
    "                  [new_lat, top],\n",
    "                  [left, top]]], None, False)\n",
    "            \n",
    "            segments.append(square)\n",
    "            \n",
    "            left = new_lat\n",
    "        top = new_lon\n",
    "        \n",
    "    return segments"
   ]
  },
  {
   "cell_type": "markdown",
   "id": "c2edaa54-3658-434a-8f08-f0fe06ad6e37",
   "metadata": {},
   "source": [
    "<h2> Routine </h2>"
   ]
  },
  {
   "cell_type": "markdown",
   "id": "69a25da2-71b2-48b8-9a61-0643decb7939",
   "metadata": {},
   "source": [
    "<h5> Filtering the sqaures by percent of veg loss </h5>"
   ]
  },
  {
   "cell_type": "code",
   "execution_count": 14,
   "id": "14e2fd32-97e6-46b3-ac80-c7b62a4e8ba0",
   "metadata": {},
   "outputs": [],
   "source": [
    "def filter_by_vegetation_loss(squares, threshold):\n",
    "    with_percent_change = squares.map(calculate_percentage_change)\n",
    "    passed = with_percent_change.filter(ee.Filter.gt('percent loss', threshold))\n",
    "    return passed"
   ]
  },
  {
   "cell_type": "code",
   "execution_count": 15,
   "id": "f618307b-4887-43bf-9641-a911bc485ac9",
   "metadata": {},
   "outputs": [],
   "source": [
    "def create_median_composite(feature):\n",
    "    filtered = s2 \\\n",
    "        .filter(ee.Filter.bounds(feature.geometry())) \\\n",
    "        .filter(ee.Filter.date('2021-01-01', '2021-12-31')) \\\n",
    "        .filter(ee.Filter.lt('CLOUDY_PIXEL_PERCENTAGE', 20)) \\\n",
    "        .select('B.*')\n",
    "    \n",
    "    composite = filtered.median().clip(feature.geometry())\n",
    "    return composite"
   ]
  },
  {
   "cell_type": "markdown",
   "id": "8b627542-6005-4d1a-829c-a76fa14b841a",
   "metadata": {
    "tags": []
   },
   "source": [
    "<h5> Filtering the sqaures by NIR/G value </h5>"
   ]
  },
  {
   "cell_type": "code",
   "execution_count": 16,
   "id": "5cafe8eb-5a9e-492c-8999-08e2eed82cb3",
   "metadata": {},
   "outputs": [],
   "source": [
    "def filter_by_nirg(squares, threshold):\n",
    "    with_nirg = squares.map(calculate_nirg_value)\n",
    "    passed = with_nirg.filter(ee.Filter.lte('nirg', threshold))\n",
    "    return passed"
   ]
  },
  {
   "cell_type": "markdown",
   "id": "29ddfa6d-023e-4fe8-8259-bfd7cef65bf8",
   "metadata": {},
   "source": [
    "<h5> Filtering the sqaures by loss in NIR/SWIR2 </h5>"
   ]
  },
  {
   "cell_type": "code",
   "execution_count": 17,
   "id": "fbe3bebc-0f57-432d-9532-586cdf9b3f40",
   "metadata": {},
   "outputs": [],
   "source": [
    "def filter_by_nirswir2(squares, threshold):\n",
    "    with_nirswir2 = squares.map(calculate_nirswir2_loss)\n",
    "    passed = with_nirswir2.filter(ee.Filter.gt('nirswir2', threshold))\n",
    "    return passed"
   ]
  },
  {
   "cell_type": "markdown",
   "id": "ae9a241e-1d00-4c96-a55e-8778d180e534",
   "metadata": {},
   "source": [
    "<h3> Pasting onto the Map </h3>"
   ]
  },
  {
   "cell_type": "code",
   "execution_count": 18,
   "id": "942b9054-a00a-4cee-ab2d-c775f3fb5f0b",
   "metadata": {},
   "outputs": [],
   "source": [
    "def applyRoutine(geometry, zoom):\n",
    "    Map = geemap.Map()\n",
    "    Map.centerObject(geometry, zoom)\n",
    "    drc = admin.filter(ee.Filter.eq('ADM0_NAME', 'Democratic Republic of the Congo'))\n",
    "\n",
    "    segments = ee.FeatureCollection(create_segments(geometry, 0.25)).filter(ee.Filter.bounds(drc))\n",
    "\n",
    "    passed_vegetation_loss = filter_by_vegetation_loss(segments, 20)\n",
    "    passed_nirg = filter_by_nirg(passed_vegetation_loss, 0.45)\n",
    "    passed_nirswir2 = filter_by_nirswir2(passed_nirg, 0)\n",
    "    # read = passed_vegetation_loss.getInfo()['features']\n",
    "    # for item in read:\n",
    "    #     print(item['properties'])\n",
    "\n",
    "    composites = ee.ImageCollection(segments.map(create_median_composite))\n",
    "\n",
    "    Map.addLayer(composites, rgb_vis_s2, 'Median Composites 2021')\n",
    "    Map.addLayer(passed_vegetation_loss, {'color': 'red'}, 'Passed 20% Vegetation Loss', opacity=0.7)\n",
    "    Map.addLayer(passed_nirg, {'color': 'blue'}, 'Passed Nirg greater than .45', opacity=0.7)\n",
    "    Map.addLayer(passed_nirswir2, {'color': 'green'}, 'Passed NirSwir2 greater than 0', opacity=0.7)\n",
    "    Map.addLayer(active_mines, {'color': 'black'}, 'mapbox active mines')\n",
    "    Map\n",
    "    return Map"
   ]
  },
  {
   "cell_type": "markdown",
   "id": "174c911c-c02d-4bbf-b395-1060679d178f",
   "metadata": {},
   "source": [
    "<h5> Rishi Region </h5>"
   ]
  },
  {
   "cell_type": "code",
   "execution_count": 19,
   "id": "9a184f84-9647-4dc8-ba08-756eaa197424",
   "metadata": {},
   "outputs": [
    {
     "data": {
      "application/vnd.jupyter.widget-view+json": {
       "model_id": "1f91668c7efd49bdb05128082ef1e51a",
       "version_major": 2,
       "version_minor": 0
      },
      "text/plain": [
       "Map(center=[-7.54829224824849, 27.393320353717847], controls=(WidgetControl(options=['position', 'transparent_…"
      ]
     },
     "metadata": {},
     "output_type": "display_data"
    }
   ],
   "source": [
    "applyRoutine(focus, 13)"
   ]
  },
  {
   "cell_type": "markdown",
   "id": "393cce29-07f2-415a-9faf-d23b4123607c",
   "metadata": {},
   "source": [
    "<h5> Ray Regions </h5>"
   ]
  },
  {
   "cell_type": "code",
   "execution_count": 20,
   "id": "14644e9a-b8d8-431e-9b91-c75f38657ca3",
   "metadata": {},
   "outputs": [
    {
     "data": {
      "application/vnd.jupyter.widget-view+json": {
       "model_id": "d399902c0b4e4cb6b910b58fa19732f0",
       "version_major": 2,
       "version_minor": 0
      },
      "text/plain": [
       "Map(center=[3.1257435633122834, 29.589663178011996], controls=(WidgetControl(options=['position', 'transparent…"
      ]
     },
     "metadata": {},
     "output_type": "display_data"
    }
   ],
   "source": [
    "applyRoutine(rayroi1, 13)"
   ]
  },
  {
   "cell_type": "code",
   "execution_count": 21,
   "id": "27824e7f-71b4-4615-8b21-913f2b332947",
   "metadata": {},
   "outputs": [
    {
     "data": {
      "application/vnd.jupyter.widget-view+json": {
       "model_id": "8d3e707325d247e4ba1390aa8caaa8e4",
       "version_major": 2,
       "version_minor": 0
      },
      "text/plain": [
       "Map(center=[1.7507876063752705, 30.30151676998732], controls=(WidgetControl(options=['position', 'transparent_…"
      ]
     },
     "metadata": {},
     "output_type": "display_data"
    }
   ],
   "source": [
    "applyRoutine(rayroi2, 13)"
   ]
  },
  {
   "cell_type": "markdown",
   "id": "672cac29-0d44-4d37-9c02-83c75e2d95a4",
   "metadata": {},
   "source": [
    "<h5> Emily Regions </h5>"
   ]
  },
  {
   "cell_type": "code",
   "execution_count": 22,
   "id": "072f9618-4486-4f68-8349-1fed8699a8a8",
   "metadata": {},
   "outputs": [
    {
     "data": {
      "application/vnd.jupyter.widget-view+json": {
       "model_id": "bedb5906f4d842df969190a994df37a7",
       "version_major": 2,
       "version_minor": 0
      },
      "text/plain": [
       "Map(center=[-10.775008323246253, 25.825000000002206], controls=(WidgetControl(options=['position', 'transparen…"
      ]
     },
     "metadata": {},
     "output_type": "display_data"
    }
   ],
   "source": [
    "applyRoutine(emily_area1, 13)"
   ]
  },
  {
   "cell_type": "code",
   "execution_count": 23,
   "id": "02c46e7b-270b-4eb7-b184-1dfff6b4ea58",
   "metadata": {},
   "outputs": [
    {
     "data": {
      "application/vnd.jupyter.widget-view+json": {
       "model_id": "c1e510b70983456698d6f50dfc88d5ae",
       "version_major": 2,
       "version_minor": 0
      },
      "text/plain": [
       "Map(center=[-10.650006180468793, 25.875000000000533], controls=(WidgetControl(options=['position', 'transparen…"
      ]
     },
     "metadata": {},
     "output_type": "display_data"
    }
   ],
   "source": [
    "applyRoutine(emily_area2, 12)"
   ]
  },
  {
   "cell_type": "code",
   "execution_count": 24,
   "id": "c65f5d65-b359-4ed4-b15f-946ab2e6ecfd",
   "metadata": {},
   "outputs": [
    {
     "data": {
      "application/vnd.jupyter.widget-view+json": {
       "model_id": "2b7c04447fb24147ac1c7b8bfbb693fb",
       "version_major": 2,
       "version_minor": 0
      },
      "text/plain": [
       "Map(center=[-10.62500765669145, 26.12500000000105], controls=(WidgetControl(options=['position', 'transparent_…"
      ]
     },
     "metadata": {},
     "output_type": "display_data"
    }
   ],
   "source": [
    "applyRoutine(emily_area3, 12)"
   ]
  },
  {
   "cell_type": "code",
   "execution_count": 25,
   "id": "d274017f-13cc-441f-a41a-927af817f1f7",
   "metadata": {},
   "outputs": [
    {
     "data": {
      "application/vnd.jupyter.widget-view+json": {
       "model_id": "1e61231c77e84955ac1c70a76a87dc49",
       "version_major": 2,
       "version_minor": 0
      },
      "text/plain": [
       "Map(center=[-10.650001227399079, 26.000000000000178], controls=(WidgetControl(options=['position', 'transparen…"
      ]
     },
     "metadata": {},
     "output_type": "display_data"
    }
   ],
   "source": [
    "applyRoutine(emily_area4, 12)"
   ]
  },
  {
   "cell_type": "code",
   "execution_count": null,
   "id": "d21652b5-a715-4261-8cfa-1f727fcc2fbe",
   "metadata": {},
   "outputs": [],
   "source": []
  }
 ],
 "metadata": {
  "kernelspec": {
   "display_name": "Python 3 (ipykernel)",
   "language": "python",
   "name": "python3"
  },
  "language_info": {
   "codemirror_mode": {
    "name": "ipython",
    "version": 3
   },
   "file_extension": ".py",
   "mimetype": "text/x-python",
   "name": "python",
   "nbconvert_exporter": "python",
   "pygments_lexer": "ipython3",
   "version": "3.7.11"
  }
 },
 "nbformat": 4,
 "nbformat_minor": 5
}
