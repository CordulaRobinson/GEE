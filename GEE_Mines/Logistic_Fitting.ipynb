{
 "cells": [
  {
   "cell_type": "code",
   "execution_count": 2,
   "source": [
    "import os\r\n",
    "import numpy as np\r\n",
    "#%matplotlib widget\r\n",
    "import matplotlib.pyplot as plt\r\n",
    "import os\r\n",
    "import pandas as pd\r\n",
    "from tqdm import tqdm\r\n",
    "\r\n",
    "\r\n",
    "from shapely.geometry import Point,LineString\r\n",
    "from shapely.geometry.polygon import Polygon\r\n",
    "\r\n",
    "from sklearn.pipeline import make_pipeline\r\n",
    "from sklearn.preprocessing import StandardScaler\r\n",
    "from sklearn.linear_model import LogisticRegression\r\n",
    "\r\n",
    "from sklearn.model_selection import train_test_split\r\n",
    "from sklearn.metrics import mean_squared_error"
   ],
   "outputs": [],
   "metadata": {}
  },
  {
   "cell_type": "code",
   "execution_count": 18,
   "source": [
    "# Compiled csv status\r\n",
    "# This file should not be huge (>few hundres MB)\r\n",
    "# It should be trimmed to only contain our 'training' data points i.e. mines + (non-mining data which we want to ensure is included in the fit/optimization)\r\n",
    "# This file will probably be a combination of several regions, which is totally fine. \r\n",
    "# Ensure to include Australia data set and Mojave and a city as controls for false positive exclusion data\r\n",
    "file = '26.205_-10.77_26.368_-10.71_compiled_status.csv'\r\n",
    "df = pd.read_csv(file)\r\n",
    "\r\n",
    "#\"\"\"\r\n",
    "# Quick check on mining locations in the data set\r\n",
    "min_lon = df['Mininum Longitude']\r\n",
    "min_lat = df['Minimum Latitude']\r\n",
    "calc_status = df['Stat']\r\n",
    "\r\n",
    "fig=plt.figure()\r\n",
    "plt.scatter(min_lon.values[calc_status.values==1],min_lat.values[calc_status.values==1],c='red',s=0.1,label='Mines')\r\n",
    "plt.scatter(min_lon.values[calc_status.values==0],min_lat.values[calc_status.values==0],c='blue',s=0.1,label='Non-Mines')\r\n",
    "plt.legend()\r\n",
    "plt.show()\r\n",
    "#\"\"\"\r\n"
   ],
   "outputs": [
    {
     "output_type": "display_data",
     "data": {
      "image/png": "[encoded data removed]",
      "text/plain": [
       "<Figure size 432x288 with 1 Axes>"
      ]
     },
     "metadata": {
      "needs_background": "light"
     }
    }
   ],
   "metadata": {}
  },
  {
   "cell_type": "code",
   "execution_count": 4,
   "source": [
    "# Let us define true mining areas that are within our pre-defined polygons\r\n",
    "# This file can again contain many polygons that can be in a number of regions, not necessarily the same one.\r\n",
    "polyfile = '26.205_-10.77_26.368_-10.71_polygons.txt' \r\n",
    "with open(polyfile,'r') as f:\r\n",
    "    data = f.readlines()\r\n",
    "npoly = len(data)\r\n",
    "\r\n",
    "# Make the polygons and place into list\r\n",
    "polygon = []\r\n",
    "for i in range(npoly):\r\n",
    "    poly = data[i].split('\\n')[0]\r\n",
    "    poly = poly.split(' ')\r\n",
    "    npts = len(poly)\r\n",
    "    lon = []\r\n",
    "    lat = []\r\n",
    "    for j in range(npts-1):\r\n",
    "        x = poly[j].split(',')\r\n",
    "        lon_x = x[0]\r\n",
    "        lat_x = x[1]\r\n",
    "        lon.append(lon_x)\r\n",
    "        lat.append(lat_x)\r\n",
    "    lon = np.array(lon,dtype=np.float64)\r\n",
    "    lat = np.array(lat,dtype=np.float64)\r\n",
    "\r\n",
    "    lons_lats_vect = np.column_stack((lon, lat))\r\n",
    "    polygon.append(Polygon(lons_lats_vect)) "
   ],
   "outputs": [],
   "metadata": {}
  },
  {
   "cell_type": "code",
   "execution_count": 5,
   "source": [
    "def reduce_region(df,mine_pos):\r\n",
    "    \"\"\"\r\n",
    "    args:\r\n",
    "    df: dataframe\r\n",
    "    mine_pos: indices of variables we wish to return. It is a vector.\r\n",
    "    return:\r\n",
    "    min_lon,min_lat,max_lon,max_lat,mine_veg_loss,bare_initial,sar,nirg,swir1,nasa_elev,gedi_loss,gedi_qual,b5,b6,elev_score,band_ratio\r\n",
    "    at the indices\r\n",
    "    \"\"\"\r\n",
    "    min_lon = df['Mininum Longitude'][mine_pos]\r\n",
    "    min_lat = df['Minimum Latitude'][mine_pos]\r\n",
    "    max_lon = df['Maximum Longitude'][mine_pos]\r\n",
    "    max_lat = df['Maximum Latitude'][mine_pos]\r\n",
    "    mine_veg_loss = df['Percent Vegetation Loss'][mine_pos]\r\n",
    "    bare_initial = df['Percent Bare Initial'][mine_pos]\r\n",
    "    sar = df['Percent Significant VH Values'][mine_pos]\r\n",
    "    nirg = df['Average NIR/G'][mine_pos]\r\n",
    "    swir1 = df['Average SWIR1/B'][mine_pos]\r\n",
    "    nasa_elev = df['NASADEM Elevation'][mine_pos]\r\n",
    "    gedi_loss = df['GEDI-SRTM Elevation'][mine_pos]\r\n",
    "    gedi_qual = df['GEDI Quality Flag'][mine_pos]\r\n",
    "    b5 = df['B5'][mine_pos]\r\n",
    "    b6 = df['B6'][mine_pos]\r\n",
    "    ndmi = df['NDMI'][mine_pos]\r\n",
    "    elev_score = df['Elevation Score'][mine_pos]\r\n",
    "    band_ratio = df['Band Variation Score'][mine_pos]\r\n",
    "    calc_status = df['Stat'][mine_pos]\r\n",
    "\r\n",
    "\r\n",
    "    return(min_lon,min_lat,max_lon,max_lat,mine_veg_loss,bare_initial,sar,nirg,swir1,nasa_elev,gedi_loss,gedi_qual,b5,b6,elev_score,band_ratio,ndmi,calc_status)"
   ],
   "outputs": [],
   "metadata": {}
  },
  {
   "cell_type": "code",
   "execution_count": 6,
   "source": [
    "# Here we are simply extracting all of our data from the pandas dataframe\r\n",
    "idf=np.ones(df.shape[0])\r\n",
    "idf = np.where(idf==1)[0]\r\n",
    "\r\n",
    "# Get variables\r\n",
    "lon_min,lat_min,lon_max,lat_max,mine_veg_loss,bare_initial,sar,nirg,swir1,nasa_elev,gedi_loss,gedi_qual,b5,b6,elev_score,band_ratio,ndmi,calc_stat = reduce_region(df,idf)\r\n"
   ],
   "outputs": [],
   "metadata": {}
  },
  {
   "cell_type": "code",
   "execution_count": 7,
   "source": [
    "# Check/Get points/pixels that are within polygons\r\n",
    "# these will be our 'mining' areas which we will optimize thresholds for to detect \r\n",
    "npts = len(lon_min)\r\n",
    "npoly = len(polygon)\r\n",
    "idx = []\r\n",
    "for i in tqdm(range(npts)):\r\n",
    "    point_ll = Point(lon_min.values[i],lat_min.values[i])\r\n",
    "    point_ur = Point(lon_max.values[i],lat_max.values[i])\r\n",
    "    done=False\r\n",
    "    for j in range(npoly):\r\n",
    "        within1 = polygon[j].contains(point_ll)\r\n",
    "        within2 = polygon[j].contains(point_ur)\r\n",
    "        if(within1==True or within2==True):\r\n",
    "            if(done == False):\r\n",
    "                done=True\r\n",
    "                idx.append(i)\r\n",
    "idx=np.array(idx,dtype=int)"
   ],
   "outputs": [
    {
     "output_type": "stream",
     "name": "stderr",
     "text": [
      "100%|██████████| 154091/154091 [00:19<00:00, 8057.35it/s]\n"
     ]
    }
   ],
   "metadata": {}
  },
  {
   "cell_type": "code",
   "execution_count": 8,
   "source": [
    "# Define mining regions with score of 1, non-mining=0\r\n",
    "status = np.zeros(npts,dtype=int)\r\n",
    "status[idx] = 1\r\n",
    "# plot the mining/non-mining areas\r\n",
    "fig=plt.figure()\r\n",
    "plt.scatter(lon_min,lat_min,c=status)\r\n",
    "#plt.scatter(lon_min[calc_stat==1],lat_min[calc_stat==1],c=calc_stat[calc_stat==1])\r\n",
    "plt.show()\r\n"
   ],
   "outputs": [
    {
     "output_type": "display_data",
     "data": {
      "image/png": "[encoded data removed]",
      "text/plain": [
       "<Figure size 432x288 with 1 Axes>"
      ]
     },
     "metadata": {
      "needs_background": "light"
     }
    }
   ],
   "metadata": {}
  },
  {
   "cell_type": "code",
   "execution_count": 9,
   "source": [
    "# we probably have too many non-mining pixels. \r\n",
    "# Here we will reduce the size of the non-mining data set\r\n",
    "#Because few points are attributed to mining regions, we need to reduce the number of non-mining data points\r\n",
    "# make the split approximately 20-80%. ie 80% of data are non-mining, 20% are mining.\r\n",
    "# Alternaively, one can be smart about the creation on the initial .csv file we read at the start and ensure it just contains good training data and \r\n",
    "# a good split. In which case we can remove this section. \r\n",
    "count=0\r\n",
    "idt=[]\r\n",
    "idf=[]\r\n",
    "for i in range(len(status)):\r\n",
    "    if(status[i] == 1):\r\n",
    "\r\n",
    "        \r\n",
    "        count+=1\r\n",
    "        idt.append(i)\r\n",
    "    else:\r\n",
    "        idf.append(i)\r\n",
    "\r\n",
    "idt=np.array(idt,dtype=int)\r\n",
    "idf=np.array(idf,dtype=int)\r\n",
    "ratio = count/len(status) \r\n",
    "\r\n",
    "# we want np.sum(status)/len(status) = 0.2 ie 20% mining pixels\r\n",
    "# we cannot increase mine pixels, but we can reduce the number of non-mining pixels \r\n",
    "# want len(status) = np.sum(status) / 0.2\r\n",
    "frac = 0.2\r\n",
    "\r\n",
    "idf = idf[0:int(np.sum(status) / frac)]\r\n",
    "\r\n",
    "\r\n",
    "# Final array is the appending of the idf and idt indices\r\n",
    "idx = np.hstack((idt,idf))\r\n",
    "\r\n",
    "# reduce data set if the above is ran\r\n",
    "lon_min = lon_min.values[idx]\r\n",
    "lat_min =lat_min.values[idx]\r\n",
    "lon_max = lon_max.values[idx]\r\n",
    "lat_max = lat_max.values[idx]\r\n",
    "mine_veg_loss = mine_veg_loss.values[idx]\r\n",
    "bare_initial = bare_initial.values[idx]\r\n",
    "sar = sar.values[idx]\r\n",
    "nirg = nirg.values[idx]\r\n",
    "swir1 = swir1.values[idx]\r\n",
    "nasa_elev = nasa_elev.values[idx]\r\n",
    "gedi_loss = gedi_loss.values[idx]\r\n",
    "gedi_qual = gedi_qual.values[idx]\r\n",
    "b5 = b5.values[idx]\r\n",
    "b6 = b6.values[idx]\r\n",
    "elev_score = elev_score.values[idx]\r\n",
    "band_ratio = band_ratio.values[idx]\r\n",
    "ndmi = ndmi.values[idx]\r\n",
    "status = status[idx]\r\n",
    "calc_stat = calc_stat[idx]\r\n"
   ],
   "outputs": [],
   "metadata": {}
  },
  {
   "cell_type": "code",
   "execution_count": 10,
   "source": [
    "# put all the data into one array\r\n",
    "data = np.array([lon_min,lat_min,lon_max,lat_max,mine_veg_loss,bare_initial,sar,nirg,swir1,nasa_elev,gedi_loss,gedi_qual,b5,b6,elev_score,band_ratio,ndmi,calc_stat,status])"
   ],
   "outputs": [],
   "metadata": {}
  },
  {
   "cell_type": "code",
   "execution_count": 11,
   "source": [
    "# Define our predictor variables\r\n",
    "predictors = data[4:9,:]#np.concatenate((data[4:9,:],data[-5:-2,:]),axis=0)#,elev_score,band_ratio,b5,b6])#sar,nirg,swir1,b5,b6\r\n",
    "X = predictors.T\r\n",
    "y = status\r\n",
    "print(X.shape,y.shape)"
   ],
   "outputs": [
    {
     "output_type": "stream",
     "name": "stdout",
     "text": [
      "(64974, 5) (64974,)\n"
     ]
    }
   ],
   "metadata": {}
  },
  {
   "cell_type": "code",
   "execution_count": 12,
   "source": [
    "# Divide up training/test data. 90/10 split.\r\n",
    "X_train, X_test, y_train, y_test = train_test_split(X, y, test_size=0.01, random_state=0)\r\n"
   ],
   "outputs": [],
   "metadata": {}
  },
  {
   "cell_type": "code",
   "execution_count": 13,
   "source": [
    "\r\n",
    "\r\n",
    "#logistic_regression = make_pipeline(StandardScaler(), LogisticRegression(penalty=\"none\"))\r\n",
    "\r\n",
    "logistic_regression = LogisticRegression(solver='liblinear')#penalty='none')\r\n",
    "\r\n",
    "logistic_regression.fit(X_train, y_train)\r\n"
   ],
   "outputs": [
    {
     "output_type": "execute_result",
     "data": {
      "text/plain": [
       "LogisticRegression(solver='liblinear')"
      ]
     },
     "metadata": {},
     "execution_count": 13
    }
   ],
   "metadata": {}
  },
  {
   "cell_type": "code",
   "execution_count": 14,
   "source": [
    "logistic_regression.coef_\r\n"
   ],
   "outputs": [
    {
     "output_type": "execute_result",
     "data": {
      "text/plain": [
       "array([[-4.29065083e-03,  3.19953595e-02,  1.19562291e-02,\n",
       "        -1.80534978e+01,  2.89597352e+00]])"
      ]
     },
     "metadata": {},
     "execution_count": 14
    }
   ],
   "metadata": {}
  },
  {
   "cell_type": "code",
   "execution_count": 15,
   "source": [
    "accuracy = logistic_regression.score(X_test, y_test)\r\n",
    "print(f\"Accuracy on test set: {accuracy:.3f}\")"
   ],
   "outputs": [
    {
     "output_type": "stream",
     "name": "stdout",
     "text": [
      "Accuracy on test set: 0.954\n"
     ]
    }
   ],
   "metadata": {}
  },
  {
   "cell_type": "code",
   "execution_count": 16,
   "source": [
    "idx = np.where(y_train==1)[0]\r\n",
    "print(\"# training points total \",X_train.shape,\"    Number of mines in this = \",len(idx))\r\n",
    "result = logistic_regression.predict(X_train[idx,:])\r\n",
    "\r\n",
    "err = y_train[idx] - result\r\n",
    "\r\n",
    "print(\"Number of mines missed = \",np.sum(abs(err))))"
   ],
   "outputs": [
    {
     "output_type": "stream",
     "name": "stdout",
     "text": [
      "# training points total  (64324, 5)     Number of mines in this =  10718\n",
      "Number of mines missed =  1968\n"
     ]
    }
   ],
   "metadata": {}
  },
  {
   "cell_type": "code",
   "execution_count": 17,
   "source": [
    "#how close was our original model\r\n",
    "idx = np.where(data[-2,:]==1)[0]\r\n",
    "idy = np.where(data[-1,:]==1)[0]\r\n",
    "\r\n",
    "print(\"Total number of points = \",data.shape[1],\"  Number of old mines = \",len(idx),\"  Number of mines in polygon  = \",len(idy))\r\n",
    "\r\n",
    "# points where mine\r\n",
    "idx2 = np.zeros(data.shape[1])\r\n",
    "idx2[idx] = 1\r\n",
    "idy2 = np.zeros(data.shape[1])\r\n",
    "idy2[idy] = 1\r\n",
    "\r\n",
    "sc = abs(idx2 - idy2)\r\n",
    "\r\n",
    "print(\"Number of mines missed from routine values = \",np.sum(sc))\r\n",
    "\r\n"
   ],
   "outputs": [
    {
     "output_type": "stream",
     "name": "stdout",
     "text": [
      "Total number of points =  64974   Number of old mines =  3869   Number of mines in polygon  =  10829\n",
      "Number of mines missed from routine values =  7164.0\n"
     ]
    }
   ],
   "metadata": {}
  },
  {
   "cell_type": "code",
   "execution_count": null,
   "source": [
    "# Guys, you should check here the # of pixels incorrectly classified as mines where they should be non-mines\r\n",
    "# The routine will be similar to the above two cells, which look at missed mines.\r\n",
    "# You want to find out how many non-mines were missed\r\n",
    "\r\n",
    "\r\n",
    "\r\n"
   ],
   "outputs": [],
   "metadata": {}
  },
  {
   "cell_type": "code",
   "execution_count": 26,
   "source": [
    "# let us try visualize the results of the optimization\r\n",
    "# i.e. pass X through the regression model\r\n",
    "result = logistic_regression.predict(X[:,:])\r\n",
    "print(result.shape,data.shape)\r\n",
    "fig=plt.figure()\r\n",
    "plt.title('Optimized Results')\r\n",
    "plt.scatter(data[0,result==1],data[1,result==1],c='red',label='Optim. Mine',s=0.1)\r\n",
    "plt.scatter(data[0,result==0],data[1,result==0],c='blue',label='Optim. Non-Mine',s=0.1)\r\n",
    "plt.legend()\r\n",
    "plt.show()\r\n",
    "\r\n",
    "fig=plt.figure()\r\n",
    "plt.title('Initial Results')\r\n",
    "plt.scatter(data[0,data[-2,:]==1],data[1,data[-2,:]==1],c='red',label='Initial Mine',s=0.1)\r\n",
    "plt.scatter(data[0,data[-2,:]==0],data[1,data[-2,:]==0],c='blue',label='Initial Non-Mine',s=0.1)\r\n",
    "plt.legend()\r\n",
    "plt.show()\r\n"
   ],
   "outputs": [
    {
     "output_type": "stream",
     "name": "stdout",
     "text": [
      "(64974,) (19, 64974)\n"
     ]
    },
    {
     "output_type": "display_data",
     "data": {
      "image/png": "[encoded data removed]",
      "text/plain": [
       "<Figure size 432x288 with 1 Axes>"
      ]
     },
     "metadata": {
      "needs_background": "light"
     }
    },
    {
     "output_type": "display_data",
     "data": {
      "image/png": "[encoded data removed]",
      "text/plain": [
       "<Figure size 432x288 with 1 Axes>"
      ]
     },
     "metadata": {
      "needs_background": "light"
     }
    }
   ],
   "metadata": {}
  },
  {
   "cell_type": "code",
   "execution_count": 27,
   "source": [
    "# export mine/ non-mine pixels to kml\r\n",
    "from simplekml import (Kml, AltitudeMode,Color)\r\n",
    "import numpy as np\r\n",
    "import matplotlib.pyplot as plt\r\n",
    "from netCDF4 import Dataset\r\n",
    "from palettable import colorbrewer\r\n",
    "import numpy.ma as ma\r\n",
    "import matplotlib as mpl\r\n",
    "mpl.cm.get_cmap\r\n",
    "import matplotlib.cm as cm\r\n",
    "from sys import exit\r\n",
    "from tqdm import tqdm\r\n",
    "\r\n",
    "\r\n",
    "def make_kml(lon,lat,alt,colorrange,outname):\r\n",
    "    \"\"\"\r\n",
    "    args:\r\n",
    "    lon,lat,alt are 1D vectors. alt is pretty much ignored as it is clamped to ground. Can be bunch of zeros\r\n",
    "    colorrange can is also a 1D vector of constants. \r\n",
    "    out:\r\n",
    "    outname specified name of output kml\r\n",
    "    \"\"\"\r\n",
    "    kml = Kml()\r\n",
    "    npnts = len(lon)\r\n",
    "    for i in tqdm(range(npnts)):\r\n",
    "        pnt = kml.newpoint(coords=[(lon[i],lat[i],alt[i])],altitudemode='clampToGround')#'relativeToSeaFloor') \r\n",
    "        #pnt.style.labelstyle.color = Color.rgb(int(colorrange[i]),0,0,255)\r\n",
    "        pnt.style.iconstyle.color = Color.rgb(int(colorrange[i]),0,0,255)\r\n",
    "        pnt.style.iconstyle.icon.href = 'http://earth.google.com/images/kml-icons/track-directional/track-none.png'\r\n",
    "    kml.savekmz(outname)"
   ],
   "outputs": [],
   "metadata": {}
  },
  {
   "cell_type": "code",
   "execution_count": 28,
   "source": [
    "# export optimized mine pixels to kml (not I just use )\r\n",
    "lon = (data[0,result==1] + data[2,result==1]) / 2\r\n",
    "lat = (data[1,result==1] + data[3,result==1]) / 2\r\n",
    "\r\n",
    "npts = len(lon)\r\n",
    "\r\n",
    "alt = np.zeros(npts)\r\n",
    "color = 255 * np.ones(npts,dtype=int)\r\n",
    "\r\n",
    "outfile = '26.205_-10.77_26.368_-10.71_optimized_pos_mines.kml'\r\n",
    "\r\n",
    "make_kml(lon,lat,alt,color,outfile)"
   ],
   "outputs": [
    {
     "output_type": "stream",
     "name": "stderr",
     "text": [
      "100%|██████████| 9723/9723 [00:00<00:00, 11171.43it/s]\n"
     ]
    }
   ],
   "metadata": {}
  },
  {
   "cell_type": "code",
   "execution_count": 29,
   "source": [
    "# export old mine pixels to kml (not I just use )\r\n",
    "lon = (data[0,data[-2,:]==1] + data[2,data[-2,:]==1]) / 2\r\n",
    "lat = (data[1,data[-2,:]==1] + data[3,data[-2,:]==1]) / 2\r\n",
    "\r\n",
    "npts = len(lon)\r\n",
    "\r\n",
    "alt = np.zeros(npts)\r\n",
    "color = 255 * np.ones(npts,dtype=int)\r\n",
    "\r\n",
    "outfile = '26.205_-10.77_26.368_-10.71_old_pos_mines.kml'\r\n",
    "\r\n",
    "make_kml(lon,lat,alt,color,outfile)\r\n"
   ],
   "outputs": [
    {
     "output_type": "stream",
     "name": "stderr",
     "text": [
      "100%|██████████| 3869/3869 [00:00<00:00, 20859.62it/s]\n"
     ]
    }
   ],
   "metadata": {}
  },
  {
   "cell_type": "code",
   "execution_count": null,
   "source": [],
   "outputs": [],
   "metadata": {}
  }
 ],
 "metadata": {
  "kernelspec": {
   "name": "python3",
   "display_name": "Python 3.8.12 64-bit ('MyEnv': conda)"
  },
  "language_info": {
   "codemirror_mode": {
    "name": "ipython",
    "version": 3
   },
   "file_extension": ".py",
   "mimetype": "text/x-python",
   "name": "python",
   "nbconvert_exporter": "python",
   "pygments_lexer": "ipython3",
   "version": "3.8.12"
  },
  "interpreter": {
   "hash": "0aa67a36e3924be97bf25de29823d79200f7c095ca370e54a920af285e1fed15"
  }
 },
 "nbformat": 4,
 "nbformat_minor": 5
}