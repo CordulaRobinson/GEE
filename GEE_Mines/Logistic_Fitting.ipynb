{
 "cells": [
  {
   "cell_type": "code",
   "execution_count": 2,
   "id": "a2d39996",
   "metadata": {},
   "outputs": [],
   "source": [
    "import os\n",
    "import numpy as np\n",
    "%matplotlib widget\n",
    "import matplotlib.pyplot as plt\n",
    "import matplotlib\n",
    "import os\n",
    "import pandas as pd\n",
    "from tqdm import tqdm\n",
    "import rasterio\n",
    "\n",
    "from shapely.geometry import Point,LineString\n",
    "from shapely.geometry.polygon import Polygon\n",
    "\n",
    "from sklearn.pipeline import make_pipeline\n",
    "from sklearn.preprocessing import StandardScaler\n",
    "from sklearn.linear_model import LogisticRegression\n",
    "\n",
    "from sklearn.model_selection import train_test_split\n",
    "from sklearn.metrics import mean_squared_error\n",
    "from sklearn.metrics import confusion_matrix\n",
    "\n",
    "from sklearn.tree import DecisionTreeClassifier\n",
    "\n",
    "import pickle\n",
    "from joblib import dump, load\n",
    "\n",
    "from sklearn import tree"
   ]
  },
  {
   "cell_type": "code",
   "execution_count": 3,
   "id": "ea8486f6",
   "metadata": {},
   "outputs": [],
   "source": [
    "# Compiled csv status\n",
    "# This file should not be huge (>few hundres MB)\n",
    "# It should be trimmed to only contain our 'training' data points i.e. mines + (non-mining data which we want to ensure is included in the fit/optimization)\n",
    "# This file will probably be a combination of several regions, which is totally fine. \n",
    "# Ensure to include Australia data set and Mojave and a city as controls for false positive exclusion data\n",
    "file = 'status_kibali_500m_29.56_3.1_29.615_3.155.csv'\n",
    "df_kibali = pd.read_csv(file)\n",
    "df = pd.read_csv(file)\n",
    "\n",
    "file = 'status_musonoi_500m_25.34_-10.78_25.475_-10.675.csv'\n",
    "df_musonoi = pd.read_csv(file)\n",
    "df = pd.concat([df, df_musonoi], ignore_index=True)\n",
    "\n",
    "file = 'status_kanunka_500m_27.355_-7.56_27.415_-7.51.csv'\n",
    "df_kanunka = pd.read_csv(file)\n",
    "df = pd.concat([df, df_kanunka], ignore_index=True)\n",
    "\n",
    "file = 'status_australia_500m_122.17_-21.77_122.255_-21.695.csv'\n",
    "df_australia = pd.read_csv(file)\n",
    "df = pd.concat([df, df_australia], ignore_index=True)\n"
   ]
  },
  {
   "cell_type": "code",
   "execution_count": 4,
   "id": "e4629eed-9c46-4c55-8d8f-3afb4b2b7b8b",
   "metadata": {},
   "outputs": [],
   "source": [
    "# Let us define true mining areas that are within our pre-defined polygons\n",
    "# This file can again contain many polygons that can be in a number of regions, not necessarily the same one.\n",
    "polyfile = 'polygons.txt' \n",
    "with open(polyfile,'r') as f:\n",
    "    data = f.readlines()\n",
    "npoly = len(data)\n",
    "polygon = []"
   ]
  },
  {
   "cell_type": "code",
   "execution_count": 5,
   "id": "7a469ca0-6d42-4d62-a108-29f001c6cdf3",
   "metadata": {},
   "outputs": [],
   "source": [
    "for i in range(npoly):\n",
    "    poly = data[i].split('\\n')[0]\n",
    "    poly = poly.split(' ')\n",
    "    npts = len(poly)\n",
    "    lon = []\n",
    "    lat = []\n",
    "    for j in range(npts-1):\n",
    "        x = poly[j].split(',')\n",
    "        lon_x = x[0]\n",
    "        lat_x = x[1]\n",
    "        lon.append(lon_x)\n",
    "        lat.append(lat_x)\n",
    "    lon = np.array(lon,dtype=np.float64)\n",
    "    lat = np.array(lat,dtype=np.float64)\n",
    "\n",
    "    lons_lats_vect = np.column_stack((lon, lat))\n",
    "    polygon.append(Polygon(lons_lats_vect)) \n"
   ]
  },
  {
   "cell_type": "code",
   "execution_count": 6,
   "id": "6a28bff0",
   "metadata": {},
   "outputs": [],
   "source": [
    "def reduce_region(df,mine_pos):\n",
    "    \"\"\"\n",
    "    args:\n",
    "    df: dataframe\n",
    "    mine_pos: indices of variables we wish to return. It is a vector.\n",
    "    return:\n",
    "    min_lon,min_lat,max_lon,max_lat,mine_veg_loss,bare_initial,sar,nirg,swir1,nasa_elev,gedi_loss,gedi_qual,b5,b6,elev_score,band_ratio\n",
    "    at the indices\n",
    "    \"\"\"\n",
    "    min_lon = df['Mininum Longitude'][mine_pos].values\n",
    "    min_lat = df['Minimum Latitude'][mine_pos].values\n",
    "    max_lon = df['Maximum Longitude'][mine_pos].values\n",
    "    max_lat = df['Maximum Latitude'][mine_pos].values\n",
    "    mine_veg_loss = df['Percent Vegetation Loss'][mine_pos].values\n",
    "    bare_initial = df['Percent Bare Initial'][mine_pos].values\n",
    "    sar = df['Percent Significant VH Values'][mine_pos].values\n",
    "    nirg = df['Average NIR/G'][mine_pos].values\n",
    "    swir1 = df['Average SWIR1/B'][mine_pos].values\n",
    "    nasa_elev = df['NASA Elev'][mine_pos].values\n",
    "    gedi_loss = df['Elev Loss'][mine_pos].values\n",
    "    gedi_qual = df['GEDI Qual. Flag'][mine_pos].values\n",
    "    b5 = df['B5 Value'][mine_pos].values\n",
    "    b6 = df['B6 Value'][mine_pos].values\n",
    "    ndmi = df['NDMI'][mine_pos].values\n",
    "    elev_score = df['Elevation Score'][mine_pos].values\n",
    "    band_ratio = df['Band Variation Score'][mine_pos].values\n",
    "    calc_status = df['Status'][mine_pos].values\n",
    "    b5_std = df['B5 Std'][mine_pos].values\n",
    "    b6_std = df['B6 Std'][mine_pos].values\n",
    "\n",
    "\n",
    "    return(min_lon,min_lat,max_lon,max_lat,mine_veg_loss,bare_initial,sar,\\\n",
    "           nirg,swir1,nasa_elev,gedi_loss,gedi_qual,b5,b6,\\\n",
    "           elev_score,band_ratio,ndmi,calc_status,b5_std,b6_std)"
   ]
  },
  {
   "cell_type": "code",
   "execution_count": 7,
   "id": "1e45fcb1-77ec-440c-a5f9-628882ec32a9",
   "metadata": {},
   "outputs": [],
   "source": [
    "# Here we are simply extracting all of our data from the pandas dataframe\n",
    "idf=np.ones(df.shape[0])\n",
    "idf = np.where(idf==1)[0]\n",
    "\n",
    "\n",
    "# Get variables\n",
    "lon_min,lat_min,lon_max,lat_max,mine_veg_loss,bare_initial,sar,\\\n",
    "nirg,swir1,nasa_elev,gedi_loss,gedi_qual,b5,b6,elev_score,\\\n",
    "band_ratio,ndmi,calc_stat,b5_std,b6_std = reduce_region(df,idf)"
   ]
  },
  {
   "cell_type": "code",
   "execution_count": 8,
   "id": "0dd24eda-b3df-462e-943d-e6b59f8aa244",
   "metadata": {},
   "outputs": [
    {
     "name": "stdout",
     "output_type": "stream",
     "text": [
      "171.46603894233704\n"
     ]
    }
   ],
   "source": [
    "import time \n",
    "import multiprocessing\n",
    "from multiprocessing import Pool\n",
    "\n",
    "tz = time.time()\n",
    "\n",
    "npts = len(lon_min)\n",
    "npoly = len(polygon)\n",
    "\n",
    "\n",
    "def looper(i):\n",
    "    point_ll = Point(lon_min[i],lat_min[i])\n",
    "    point_ur = Point(lon_max[i],lat_max[i])\n",
    "    for j in range(npoly):\n",
    "        within1 = polygon[j].contains(point_ll)\n",
    "        within2 = polygon[j].contains(point_ur)\n",
    "        if(within1==True or within2==True):\n",
    "            return i\n",
    "    return np.nan\n",
    "\n",
    "y = np.linspace(0,npts-1,npts)\n",
    "y = np.array(y,dtype=int)\n",
    "y = list(y)\n",
    "pool = Pool(multiprocessing.cpu_count())                        \n",
    "d1 = pool.map(looper, y)\n",
    "\n",
    "        \n",
    "pool.close() \n",
    "pool.join()\n",
    "\n",
    "print(time.time() - tz)"
   ]
  },
  {
   "cell_type": "code",
   "execution_count": 9,
   "id": "20dc3bbb-527d-43d0-bd21-5d8f701ea0c2",
   "metadata": {},
   "outputs": [],
   "source": [
    "d2 = np.array(d1)\n",
    "idy = np.isfinite(d2)\n",
    "idx = np.array(d2[idy],dtype=int)\n",
    "\n",
    "# single execution = 4 mins 30 seconds. 863433 points\n",
    "#MP = 2 mins 17 seconds."
   ]
  },
  {
   "cell_type": "code",
   "execution_count": 10,
   "id": "6037ee88-1d0b-40da-9e87-d903e46e643d",
   "metadata": {},
   "outputs": [
    {
     "data": {
      "text/plain": [
       "'\\nidx = []\\nfor i in tqdm(range(npts)):\\n    point_ll = Point(lon_min[i],lat_min[i])\\n    point_ur = Point(lon_max[i],lat_max[i])\\n    done=False\\n    for j in range(npoly):\\n        within1 = polygon[j].contains(point_ll)\\n        within2 = polygon[j].contains(point_ur)\\n        if(within1==True or within2==True):\\n            if(done == False):\\n                done=True\\n                idx.append(i)\\nidx=np.array(idx,dtype=int)\\n'"
      ]
     },
     "execution_count": 10,
     "metadata": {},
     "output_type": "execute_result"
    }
   ],
   "source": [
    "npts = len(lon_min)\n",
    "npoly = len(polygon)\n",
    "\"\"\"\n",
    "idx = []\n",
    "for i in tqdm(range(npts)):\n",
    "    point_ll = Point(lon_min[i],lat_min[i])\n",
    "    point_ur = Point(lon_max[i],lat_max[i])\n",
    "    done=False\n",
    "    for j in range(npoly):\n",
    "        within1 = polygon[j].contains(point_ll)\n",
    "        within2 = polygon[j].contains(point_ur)\n",
    "        if(within1==True or within2==True):\n",
    "            if(done == False):\n",
    "                done=True\n",
    "                idx.append(i)\n",
    "idx=np.array(idx,dtype=int)\n",
    "\"\"\""
   ]
  },
  {
   "cell_type": "code",
   "execution_count": 11,
   "id": "7b887442-d5a5-4ea2-a639-51a51304ce34",
   "metadata": {},
   "outputs": [],
   "source": [
    "# Define mining regions with score of 1, non-mining=0\n",
    "status = np.zeros(npts,dtype=int)\n",
    "status[idx] = 1"
   ]
  },
  {
   "cell_type": "code",
   "execution_count": 49,
   "id": "7a9bf7fe-f9bf-4f37-91f5-d19536b89c63",
   "metadata": {},
   "outputs": [
    {
     "name": "stdout",
     "output_type": "stream",
     "text": [
      "(77284, 27)\n"
     ]
    }
   ],
   "source": [
    "# False positive data streams\n",
    "\"\"\"\n",
    "file = 'status_mojave_20m_-115.71_34.91_-115.66_34.93.csv'\n",
    "df_mojave = pd.read_csv(file)\n",
    "dg = pd.read_csv(file)\n",
    "\n",
    "print(dg.shape)\n",
    "\n",
    "file = 'LakeNzilo.csv'\n",
    "df_water = pd.read_csv(file)\n",
    "\n",
    "df_water.loc[df_water[\"Percent Significant VH Values\"] >-19, \"Percent Significant VH Values\"] = 0\n",
    "df_water.loc[df_water[\"Percent Significant VH Values\"] <=-19, \"Percent Significant VH Values\"] = 100\n",
    "\n",
    "df_water = df_water.assign(Status=np.zeros(df_water.shape[0]))\n",
    "\n",
    "\n",
    "dg = pd.concat([dg, df_water], ignore_index=True)\n",
    "print(dg.shape)\n",
    "\n",
    "file = 'waterII_statusII_compiled_27_-11_27.1_-10.8.csv'\n",
    "df_water2 = pd.read_csv(file)\n",
    "dg = pd.concat([dg, df_water2], ignore_index=True)\n",
    "print(dg.shape)\n",
    "\"\"\"\n",
    "file = 'status_farming_500m_26.85_-10.9_26.9_-10.95.csv'\n",
    "df_farm = pd.read_csv(file)\n",
    "dg = df_farm#pd.concat([dg, df_farm], ignore_index=True)\n",
    "print(dg.shape)\n"
   ]
  },
  {
   "cell_type": "code",
   "execution_count": 50,
   "id": "73fda0c3-56b2-41b4-8703-a1120677a642",
   "metadata": {},
   "outputs": [],
   "source": [
    "# Here we are simply extracting all of our data from the pandas dataframe\n",
    "idg=np.ones(dg.shape[0])\n",
    "idg = np.where(idg==1)[0]\n",
    "\n",
    "\n",
    "# Get variables\n",
    "glon_min,glat_min,glon_max,glat_max,gmine_veg_loss,gbare_initial,gsar,gnirg,gswir1,gnasa_elev,ggedi_loss,ggedi_qual,gb5,\\\n",
    "gb6,gelev_score,gband_ratio,gndmi,gcalc_stat,gb5_std,gb6_std = reduce_region(dg,idg)\n",
    "\n",
    "gstatus = np.zeros(len(glon_min),dtype=int)\n",
    "\n",
    "datag = np.array([glon_min,glat_min,glon_max,glat_max,gmine_veg_loss,gbare_initial,gsar,gnirg,gswir1,gnasa_elev,\\\n",
    "                  ggedi_loss,ggedi_qual,gb5,gb6,gelev_score,gband_ratio,gndmi,gcalc_stat,gstatus,gb5_std,gb6_std])\n"
   ]
  },
  {
   "cell_type": "code",
   "execution_count": 51,
   "id": "48a1e406-a33c-47f0-accf-30325c49d961",
   "metadata": {},
   "outputs": [],
   "source": [
    "# put all the data into one array\n",
    "data = np.array([lon_min,lat_min,lon_max,lat_max,mine_veg_loss,bare_initial,sar,nirg,swir1,nasa_elev,gedi_loss,gedi_qual,b5,b6,elev_score,band_ratio,ndmi,calc_stat,status,b5_std,b6_std])"
   ]
  },
  {
   "cell_type": "code",
   "execution_count": 52,
   "id": "11215084-e385-4b4b-bbbe-61a2e892170b",
   "metadata": {},
   "outputs": [
    {
     "name": "stdout",
     "output_type": "stream",
     "text": [
      "(21, 940717) (21, 77284)\n"
     ]
    }
   ],
   "source": [
    "data = np.concatenate((data[:,:],datag[:,:]),axis=1)\n",
    "print(data.shape,datag.shape)"
   ]
  },
  {
   "cell_type": "code",
   "execution_count": 53,
   "id": "0c325cfa-33b6-42ae-b8d1-9b1c3a2443f9",
   "metadata": {},
   "outputs": [],
   "source": [
    "#Define B5/B6 band ratio\n",
    "b56 = (data[-2,:]-data[-1,:])/(data[-2,:]+data[-1,:])"
   ]
  },
  {
   "cell_type": "code",
   "execution_count": 54,
   "id": "a4eb5638-9b9b-4883-b7bb-93d82e2e2b8e",
   "metadata": {},
   "outputs": [
    {
     "name": "stdout",
     "output_type": "stream",
     "text": [
      "(940717, 6) (940717,)\n",
      "[ 0.          0.          0.          0.552793    0.70191137 -0.3514581 ]\n"
     ]
    }
   ],
   "source": [
    "# Define our predictor variables\n",
    "#predictors = np.concatenate((data[4:9,:],data[-7:-2,:]),axis=0)\n",
    "#predictors = data[4:9,:]\n",
    "#predictors = np.concatenate((data[4:9,:],data[-3:-2,:]),axis=0)\n",
    "#predictors = np.concatenate((predictors,b56[np.newaxis,...]),axis=0)\n",
    "#predictors = np.concatenate((data[4:9,:],b56[np.newaxis,...]),axis=0)\n",
    "\n",
    "# B56 with the STD\n",
    "#predictors = np.concatenate((data[4:9,:],b56[np.newaxis,...]),axis=0)\n",
    "#predictors = np.concatenate((predictors,data[-2:,:]),axis=0)\n",
    "\n",
    "# Just the STD\n",
    "predictors = np.concatenate((data[4:9,:],b56[np.newaxis,...]),axis=0)\n",
    "\n",
    "X = predictors.T\n",
    "y = data[-3,:]\n",
    "print(X.shape,y.shape)\n",
    "\n",
    "print(X[0,:])"
   ]
  },
  {
   "cell_type": "code",
   "execution_count": 55,
   "id": "3f0d8905",
   "metadata": {},
   "outputs": [
    {
     "name": "stdout",
     "output_type": "stream",
     "text": [
      "[ 0.         95.73977593  0.          0.33695519  0.55438303  0.14323825]\n",
      "[0.00000000e+00 9.97083791e+01 9.87114172e+01 4.88244242e-01\n",
      " 7.28097186e-01 6.20085513e-03]\n"
     ]
    }
   ],
   "source": [
    "# Divide up training/test data. 90/10 split.\n",
    "X_train, X_test, y_train, y_test = train_test_split(X, y, test_size=0.3, random_state=0)\n",
    "\n",
    "print(X_train[0,:])\n",
    "print(X_train[100,:])\n"
   ]
  },
  {
   "cell_type": "code",
   "execution_count": 56,
   "id": "10185d3f-3eac-4ad5-bcae-7beb5d861ea4",
   "metadata": {},
   "outputs": [
    {
     "data": {
      "text/plain": [
       "\"\\n# Decision Tree?\\n\\nfp = []\\ntp = []\\ntn = []\\nfn = []\\nnodes = []\\n\\nfor i in tqdm(range(10,35)):\\n    clf = DecisionTreeClassifier(max_leaf_nodes=i,max_depth=9,min_samples_leaf=1).fit(X_train, y_train)\\n    result = clf.predict(X)\\n    confmat = confusion_matrix(y, result)\\n    tn.append(confmat[0][0])\\n    fp.append(confmat[0][1])\\n    fn.append(confmat[1][0])\\n    tp.append(confmat[1][1])\\n    nodes.append(i)\\n    #print('Train Score = ',clf.score(X_train, y_train))\\n    #print('Test Score = ',clf.score(X_test, y_test))\\n\""
      ]
     },
     "execution_count": 56,
     "metadata": {},
     "output_type": "execute_result"
    }
   ],
   "source": [
    "# Logisitic Regression\n",
    "#logistic_regression = LogisticRegression(solver='liblinear')#,class_weight={0 : 0.75, 1 : 0.25})#penalty='none')\n",
    "#logistic_regression.fit(X_train, y_train)\n",
    "\"\"\"\n",
    "# Decision Tree?\n",
    "\n",
    "fp = []\n",
    "tp = []\n",
    "tn = []\n",
    "fn = []\n",
    "nodes = []\n",
    "\n",
    "for i in tqdm(range(10,35)):\n",
    "    clf = DecisionTreeClassifier(max_leaf_nodes=i,max_depth=9,min_samples_leaf=1).fit(X_train, y_train)\n",
    "    result = clf.predict(X)\n",
    "    confmat = confusion_matrix(y, result)\n",
    "    tn.append(confmat[0][0])\n",
    "    fp.append(confmat[0][1])\n",
    "    fn.append(confmat[1][0])\n",
    "    tp.append(confmat[1][1])\n",
    "    nodes.append(i)\n",
    "    #print('Train Score = ',clf.score(X_train, y_train))\n",
    "    #print('Test Score = ',clf.score(X_test, y_test))\n",
    "\"\"\""
   ]
  },
  {
   "cell_type": "code",
   "execution_count": 57,
   "id": "1caf0282-6ae6-44bc-a2ee-5f16eaa4f688",
   "metadata": {},
   "outputs": [
    {
     "data": {
      "text/plain": [
       "'\\nfp = np.array(fp)\\ntp = np.array(tp)\\ntn = np.array(tn)\\nfn = np.array(fn)\\nnodes = np.array(nodes)\\n\\nlabelsize=10\\nticksize=8\\nfig,ax=plt.subplots()\\nax.plot(nodes,fp,c=\\'orange\\',label=\\'False Positives\\',lw=1.5)#,size=labelsize)\\nax.plot(nodes,fn,\\'--\\',c=\\'orange\\',label=\\'False Negatives\\',lw=1.5)#,size=labelsize)\\nax.grid(True)\\nax.set_xlabel(\\'Nodes\\',size=labelsize)\\nax.set_ylabel(\\'Points\\',size=labelsize)\\nax.tick_params(axis=\"both\", labelsize=ticksize)\\nax.set_ylabel(\\'False Count\\',color = \\'black\\',size=labelsize) \\nax.legend(bbox_to_anchor=(1.0, 0.74))\\n\\nax2 = ax.twinx() \\n\\nax2.plot(nodes,tp,label=\\'True Positives\\',c=\\'green\\',lw=1.5)\\nax2.plot(nodes,tn,\\'--\\',label=\\'True Negatives\\',c=\\'green\\',lw=1.5)\\nax2.set_ylabel(\\'True Count\\',color = \\'green\\',size=labelsize) \\nax2.tick_params(axis =\\'y\\', labelcolor = \\'green\\') \\nax2.legend()\\n\\n#display(fig)\\n#plt.close(\\'all\\')\\n'"
      ]
     },
     "execution_count": 57,
     "metadata": {},
     "output_type": "execute_result"
    }
   ],
   "source": [
    "\"\"\"\n",
    "fp = np.array(fp)\n",
    "tp = np.array(tp)\n",
    "tn = np.array(tn)\n",
    "fn = np.array(fn)\n",
    "nodes = np.array(nodes)\n",
    "\n",
    "labelsize=10\n",
    "ticksize=8\n",
    "fig,ax=plt.subplots()\n",
    "ax.plot(nodes,fp,c='orange',label='False Positives',lw=1.5)#,size=labelsize)\n",
    "ax.plot(nodes,fn,'--',c='orange',label='False Negatives',lw=1.5)#,size=labelsize)\n",
    "ax.grid(True)\n",
    "ax.set_xlabel('Nodes',size=labelsize)\n",
    "ax.set_ylabel('Points',size=labelsize)\n",
    "ax.tick_params(axis=\"both\", labelsize=ticksize)\n",
    "ax.set_ylabel('False Count',color = 'black',size=labelsize) \n",
    "ax.legend(bbox_to_anchor=(1.0, 0.74))\n",
    "\n",
    "ax2 = ax.twinx() \n",
    "\n",
    "ax2.plot(nodes,tp,label='True Positives',c='green',lw=1.5)\n",
    "ax2.plot(nodes,tn,'--',label='True Negatives',c='green',lw=1.5)\n",
    "ax2.set_ylabel('True Count',color = 'green',size=labelsize) \n",
    "ax2.tick_params(axis ='y', labelcolor = 'green') \n",
    "ax2.legend()\n",
    "\n",
    "#display(fig)\n",
    "#plt.close('all')\n",
    "\"\"\""
   ]
  },
  {
   "cell_type": "code",
   "execution_count": 114,
   "id": "7a9b909e-48ed-409c-a8e7-9ec7caa09cec",
   "metadata": {},
   "outputs": [
    {
     "name": "stdout",
     "output_type": "stream",
     "text": [
      "Train Score =  0.9096220051298327\n",
      "Test Score =  0.9097074581171868\n"
     ]
    }
   ],
   "source": [
    "# Works for no water\n",
    "#clf = DecisionTreeClassifier(min_samples_leaf=5000,max_leaf_nodes=40,max_depth=20).fit(X_train,y_train)#max_leaf_nodes=37,max_depth=19,min_samples_leaf=4000).fit(X_train, y_train)\n",
    "#clf = DecisionTreeClassifier(min_samples_leaf=50,max_leaf_nodes=12,max_depth=32).fit(X_train,y_train)#max_leaf_nodes=37,max_depth=19,min_samples_leaf=4000).fit(X_train, y_train)\n",
    "clf = DecisionTreeClassifier(min_samples_leaf=1,max_leaf_nodes=22,max_depth=40).fit(X_train,y_train)#max_leaf_nodes=37,max_depth=19,min_samples_leaf=4000).fit(X_train, y_train)\n",
    "\n",
    "result = clf.predict(X)\n",
    "\n",
    "print('Train Score = ',clf.score(X_train, y_train))\n",
    "print('Test Score = ',clf.score(X_test, y_test))\n",
    "#accuracy = logistic_regression.score(X_test, y_test)\n",
    "#print(f\"Accuracy on test set: {accuracy:.3f}\")"
   ]
  },
  {
   "cell_type": "code",
   "execution_count": 115,
   "id": "819cdf1d-09c5-4889-ba3b-aca826f4ddf7",
   "metadata": {},
   "outputs": [],
   "source": [
    "pickle.dump(clf,open('class_tree_mine.pkl', 'wb'))"
   ]
  },
  {
   "cell_type": "code",
   "execution_count": 116,
   "id": "726d33a8-95ae-42dc-9714-036b03b51c19",
   "metadata": {},
   "outputs": [],
   "source": [
    "result = clf.predict(X)\n",
    "#result = logistic_regression.predict(X)"
   ]
  },
  {
   "cell_type": "code",
   "execution_count": 117,
   "id": "faf1a8ec-8412-454c-bdfe-6cc899f59238",
   "metadata": {},
   "outputs": [
    {
     "name": "stdout",
     "output_type": "stream",
     "text": [
      "[[672070  36950]\n",
      " [ 48046 183651]]\n",
      "[709020 231697]\n"
     ]
    }
   ],
   "source": [
    "x = confusion_matrix(data[-3,:], result)\n",
    "print(x)\n",
    "print(np.sum(x,axis=1))"
   ]
  },
  {
   "cell_type": "code",
   "execution_count": 119,
   "id": "528405a3-a592-44e5-a252-c0209dfc0380",
   "metadata": {},
   "outputs": [
    {
     "name": "stdout",
     "output_type": "stream",
     "text": [
      "(5, 77284)\n"
     ]
    },
    {
     "data": {
      "text/plain": [
       "<matplotlib.collections.PathCollection at 0x2ac6e9a0f2d0>"
      ]
     },
     "execution_count": 119,
     "metadata": {},
     "output_type": "execute_result"
    },
    {
     "data": {
      "application/vnd.jupyter.widget-view+json": {
       "model_id": "14f45100f6e84021b624a9e899e11f57",
       "version_major": 2,
       "version_minor": 0
      },
      "image/png": "[encoded data removed]",
      "text/html": [
       "\n",
       "            <div style=\"display: inline-block;\">\n",
       "                <div class=\"jupyter-widgets widget-label\" style=\"text-align: center;\">\n",
       "                    Figure\n",
       "                </div>\n",
       "                <img src='data:image/png;base64,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' width=640.0/>\n",
       "            </div>\n",
       "        "
      ],
      "text/plain": [
       "Canvas(toolbar=Toolbar(toolitems=[('Home', 'Reset original view', 'home', 'home'), ('Back', 'Back to previous …"
      ]
     },
     "metadata": {},
     "output_type": "display_data"
    }
   ],
   "source": [
    "#file = '../Testing/25.25_27.35_-11_-10/statusII_compiled_26.65_-10.3_27.35_-10.0.csv'\n",
    "#file = '../Training/status_kibali_20m_29.56_3.1_29.615_3.155.csv'\n",
    "file = 'status_farming_500m_26.85_-10.9_26.9_-10.95.csv'\n",
    "#file = 'status_LakeNzilo_500.csv'\n",
    "df = pd.read_csv(file)#,max_rows=20000)\n",
    "\n",
    "\n",
    "# put all the data into one array\n",
    "#print(df[0,:])\n",
    "b56t = (df['B5 Value'].values - df['B6 Value'].values) / (df['B5 Value'].values + df['B6 Value'].values)\n",
    "\n",
    "clont = df['Center Lon'].values\n",
    "clatt = df['Center Lat'].values\n",
    "vegt = df['Percent Vegetation Loss'].values\n",
    "baret = df['Percent Bare Initial'].values\n",
    "sart = df['Percent Significant VH Values'].values\n",
    "swirt = df['Average SWIR1/B'].values\n",
    "nirgt = df['Average NIR/G'].values\n",
    "b5stdt = df['B5 Std'].values\n",
    "b6stdt = df['B6 Std'].values\n",
    "\n",
    "b56t_ndiff = (b5stdt - b6stdt) / (b5stdt + b6stdt)\n",
    "\n",
    "datan = np.array([vegt,baret,sart,nirgt,swirt])\n",
    "\n",
    "print(datan.shape)\n",
    "\n",
    "datan = np.concatenate((datan,b56t_ndiff[np.newaxis,...]),axis=0)\n",
    "\n",
    "result = clf.predict(datan.T)\n",
    "\n",
    "fig = plt.figure()\n",
    "plt.scatter(clont[result==1],clatt[result==1],s=2)\n",
    "#plt.show()\n",
    "\n",
    "#plt.close('all')\n"
   ]
  },
  {
   "cell_type": "code",
   "execution_count": null,
   "id": "9ce96228-dd5c-46cf-9571-65be290d5407",
   "metadata": {},
   "outputs": [],
   "source": [
    "# Load GeoTIFF of Region\n",
    "def get_image(file):\n",
    "    with rasterio.open(file,'r') as f:\n",
    "        # Reads first 3 bands (R,G,B)\n",
    "        # Currently those are the only bands downloaded, so .read() would have the same results (reads all of the bands available)\n",
    "        im = f.read([1, 2, 3])\n",
    "        # Transpose matrix columns to go from rasterio format to cartopy format\n",
    "        im = np.transpose(im, [1,2,0])\n",
    "        x = f.bounds\n",
    "        lon_min = x[0]\n",
    "        lon_max = x[2]\n",
    "        lat_min = x[1]\n",
    "        lat_max = x[3]\n",
    "\n",
    "        max_val = np.amax(im)\n",
    "        max_val=50\n",
    "        im = im/max_val\n",
    "        im = np.clip(im, 0, 1)\n",
    "    return (lon_min,lon_max,lat_min,lat_max,im)"
   ]
  },
  {
   "cell_type": "code",
   "execution_count": null,
   "id": "2560b1b7-3c65-46a6-aba8-05f03c9a4ad0",
   "metadata": {},
   "outputs": [],
   "source": [
    "file = 'kibali.tif'\n",
    "lon_min_kibali,lon_max_kibali,lat_min_kibali,lat_max_kibali,kibali_tif = get_image(file)\n",
    "file = 'kanunka.tif'\n",
    "lon_min_kanunka,lon_max_kanunka,lat_min_kanunka,lat_max_kanunka,kanunka_tif = get_image(file)\n",
    "file = 'australia.tif'  \n",
    "lon_min_australia,lon_max_australia,lat_min_australia,lat_max_australia,australia_tif = get_image(file)\n",
    "file = 'mojave.tif'  \n",
    "lon_min_mojave,lon_max_mojave,lat_min_mojave,lat_max_mojave,mojave_tif = get_image(file)\n",
    "file = 'musonoi.tif'\n",
    "lon_min_musonoi,lon_max_musonoi,lat_min_musonoi,lat_max_musonoi,musonoi_tif = get_image(file)\n",
    "#file = 'water.tif'\n",
    "#lon_min_water,lon_max_water,lat_min_water,lat_max_water,water_tif = get_image(file)"
   ]
  },
  {
   "cell_type": "code",
   "execution_count": null,
   "id": "90096231-368c-4ad9-9309-41c74a78a8c3",
   "metadata": {},
   "outputs": [],
   "source": [
    "#file = 'water_27_-11_27.1_-10.8.tif'\n",
    "#lon_min_water2,lon_max_water2,lat_min_water2,lat_max_water2,water2_tif = get_image(file)"
   ]
  },
  {
   "cell_type": "code",
   "execution_count": null,
   "id": "971fb756-f682-4f59-8eb1-60128c97d18e",
   "metadata": {},
   "outputs": [],
   "source": [
    "\"\"\"\n",
    "fig=plt.figure(figsize=(8,14))\n",
    "labelsize=10\n",
    "ticksize=8\n",
    "\n",
    "for i in range(npoly):\n",
    "    x, y = polygon[i].exterior.xy\n",
    "    ax2 = plt.subplot(8,2,2)\n",
    "    ax2.plot(x,y,'--',color='red')\n",
    "    ax4 = plt.subplot(8,2,4)\n",
    "    ax4.plot(x,y,'--',color='red')\n",
    "    ax6 = plt.subplot(8,2,6)\n",
    "    ax6.plot(x,y,'--',color='red')\n",
    "    ax8 = plt.subplot(8,2,8)\n",
    "    ax8.plot(x,y,'--',color='red')\n",
    "    ax10 = plt.subplot(8,2,10)\n",
    "    ax10.plot(x,y,'--',color='red')\n",
    "    \n",
    "\n",
    "# Kibali\n",
    "ax1 = plt.subplot(8,2,1,sharex=ax2,sharey=ax2)\n",
    "ax1.scatter(data[0,result==1],data[1,result==1],c='green',s=0.15)\n",
    "ax1.set_xlim([lon_min_kibali,lon_max_kibali])\n",
    "ax1.set_ylim([lat_min_kibali,lat_max_kibali])\n",
    "ax1.set_title('Detected Mine Locations: Kibali',size=labelsize)\n",
    "ax1.set_xlabel(r\"Longitude [$^\\circ$]\",size=labelsize)\n",
    "ax1.set_ylabel(r\"Latitude [$^\\circ$]\",size=labelsize)\n",
    "ax1.tick_params(axis=\"both\", labelsize=ticksize)\n",
    "\n",
    "ax2.imshow(kibali_tif,extent=[lon_min_kibali,lon_max_kibali,lat_min_kibali,lat_max_kibali],aspect='auto')\n",
    "ax2.set_title('Sentinel-2 2020-21 Composite Image: Kibali',size=labelsize)\n",
    "ax2.set_xlabel(r\"Longitude [$^\\circ$]\",size=labelsize)\n",
    "ax2.set_ylabel(r\"Latitude [$^\\circ$]\",size=labelsize)\n",
    "ax2.tick_params(axis=\"both\", labelsize=ticksize)\n",
    "\n",
    "\n",
    "\n",
    "# Kanunka\n",
    "ax3 = plt.subplot(8,2,3,sharex=ax4,sharey=ax4)\n",
    "ax3.scatter(data[0,result==1],data[1,result==1],c='green',s=0.15)\n",
    "ax3.set_xlim([lon_min_kanunka,lon_max_kanunka])\n",
    "ax3.set_ylim([lat_min_kanunka,lat_max_kanunka])\n",
    "ax3.set_title('Detected Mine Locations: Kanunka',size=labelsize)\n",
    "ax3.set_xlabel(r\"Longitude [$^\\circ$]\",size=labelsize)\n",
    "ax3.set_ylabel(r\"Latitude [$^\\circ$]\",size=labelsize)\n",
    "ax3.tick_params(axis=\"both\", labelsize=ticksize)\n",
    "\n",
    "ax4.imshow(kanunka_tif,extent=[lon_min_kanunka,lon_max_kanunka,lat_min_kanunka,lat_max_kanunka],aspect='auto')\n",
    "ax4.set_title('Sentinel-2 2020-21 Composite Image: Kanunka',size=labelsize)\n",
    "ax4.set_xlabel(r\"Longitude [$^\\circ$]\",size=labelsize)\n",
    "ax4.set_ylabel(r\"Latitude [$^\\circ$]\",size=labelsize)\n",
    "ax4.tick_params(axis=\"both\", labelsize=ticksize)\n",
    "\n",
    "\n",
    "# Musonoi\n",
    "ax5 = plt.subplot(8,2,5,sharex=ax6,sharey=ax6)\n",
    "ax5.scatter(data[0,result==1],data[1,result==1],c='green',s=0.15)\n",
    "ax5.set_xlim([lon_min_musonoi,lon_max_musonoi])\n",
    "ax5.set_ylim([lat_min_musonoi,lat_max_musonoi])\n",
    "ax5.set_title('Detected Mine Locations: Musonoi',size=labelsize)\n",
    "ax5.set_xlabel(r\"Longitude [$^\\circ$]\",size=labelsize)\n",
    "ax5.set_ylabel(r\"Latitude [$^\\circ$]\",size=labelsize)\n",
    "ax5.tick_params(axis=\"both\", labelsize=ticksize)\n",
    "\n",
    "ax6.imshow(musonoi_tif,extent=[lon_min_musonoi,lon_max_musonoi,lat_min_musonoi,lat_max_musonoi],aspect='auto')\n",
    "ax6.set_title('Sentinel-2 2020-21 Composite Image: Musonoi',size=labelsize)\n",
    "ax6.set_xlabel(r\"Longitude [$^\\circ$]\",size=labelsize)\n",
    "ax6.set_ylabel(r\"Latitude [$^\\circ$]\",size=labelsize)\n",
    "ax6.tick_params(axis=\"both\", labelsize=ticksize)\n",
    "\n",
    "\n",
    "# Australia\n",
    "ax7 = plt.subplot(8,2,7,sharex=ax8,sharey=ax8)\n",
    "ax7.scatter(data[0,result==1],data[1,result==1],c='green',s=0.15)\n",
    "ax7.set_xlim([lon_min_australia,lon_max_australia])\n",
    "ax7.set_ylim([lat_min_australia,lat_max_australia])\n",
    "ax7.set_title('Detected Mine Locations: Australia',size=labelsize)\n",
    "ax7.set_xlabel(r\"Longitude [$^\\circ$]\",size=labelsize)\n",
    "ax7.set_ylabel(r\"Latitude [$^\\circ$]\",size=labelsize)\n",
    "ax7.tick_params(axis=\"both\", labelsize=ticksize)\n",
    "\n",
    "ax8.imshow(australia_tif,extent=[lon_min_australia,lon_max_australia,lat_min_australia,lat_max_australia],aspect='auto')\n",
    "ax8.set_title('Sentinel-2 2020-21 Composite Image: Australia',size=labelsize)\n",
    "ax8.set_xlabel(r\"Longitude [$^\\circ$]\",size=labelsize)\n",
    "ax8.set_ylabel(r\"Latitude [$^\\circ$]\",size=labelsize)\n",
    "ax8.tick_params(axis=\"both\", labelsize=ticksize)\n",
    "\n",
    "\n",
    "# Mojave\n",
    "ax9 = plt.subplot(8,2,9,sharex=ax10,sharey=ax10)\n",
    "ax9.scatter(data[0,result==1],data[1,result==1],c='green',s=0.15)\n",
    "ax9.set_xlim([lon_min_mojave,lon_max_mojave])\n",
    "ax9.set_ylim([lat_min_mojave,lat_max_mojave])\n",
    "ax9.set_title('Detected Mine Locations: Mojave',size=labelsize)\n",
    "ax9.set_xlabel(r\"Longitude [$^\\circ$]\",size=labelsize)\n",
    "ax9.set_ylabel(r\"Latitude [$^\\circ$]\",size=labelsize)\n",
    "ax9.tick_params(axis=\"both\", labelsize=ticksize)\n",
    "ax9.xaxis.set_major_formatter(matplotlib.ticker.FormatStrFormatter('%.1f'))\n",
    "\n",
    "ax10.imshow(mojave_tif,extent=[lon_min_mojave,lon_max_mojave,lat_min_mojave,lat_max_mojave],aspect='auto')\n",
    "#ax10.set_aspect(2.5)\n",
    "ax10.set_title('Sentinel-2 2020-21 Composite Image: Mojave',size=labelsize)\n",
    "ax10.set_xlabel(r\"Longitude [$^\\circ$]\",size=labelsize)\n",
    "ax10.set_ylabel(r\"Latitude [$^\\circ$]\",size=labelsize)\n",
    "ax10.tick_params(axis=\"both\", labelsize=ticksize)\n",
    "\n",
    "# Water\n",
    "ax12 = plt.subplot(7,2,12)\n",
    "ax12.imshow(water_tif*2,extent=[lon_min_water,lon_max_water,lat_min_water,lat_max_water],aspect='auto')\n",
    "#ax10.set_aspect(2.5)\n",
    "ax12.set_title('Sentinel-2 2020-21 Composite Image: Lake Nzilo',size=labelsize)\n",
    "ax12.set_xlabel(r\"Longitude [$^\\circ$]\",size=labelsize)\n",
    "ax12.set_ylabel(r\"Latitude [$^\\circ$]\",size=labelsize)\n",
    "ax12.tick_params(axis=\"both\", labelsize=ticksize)\n",
    "\n",
    "ax11 = plt.subplot(8,2,11,sharex=ax12,sharey=ax12)\n",
    "ax11.scatter(data[0,result==1],data[1,result==1],c='green',s=0.15)\n",
    "ax11.set_xlim([lon_min_water,lon_max_water])\n",
    "ax11.set_ylim([lat_min_water,lat_max_water])\n",
    "ax11.set_title('Detected Mine Locations: Lake Nzilo',size=labelsize)\n",
    "ax11.set_xlabel(r\"Longitude [$^\\circ$]\",size=labelsize)\n",
    "ax11.set_ylabel(r\"Latitude [$^\\circ$]\",size=labelsize)\n",
    "ax11.tick_params(axis=\"both\", labelsize=ticksize)\n",
    "ax11.xaxis.set_major_formatter(matplotlib.ticker.FormatStrFormatter('%.1f'))\n",
    "\n",
    "# Water2\n",
    "#ax14 = plt.subplot(8,2,14)\n",
    "#ax14.imshow(water_tif*2,extent=[lon_min_water,lon_max_water,lat_min_water,lat_max_water],aspect='auto')\n",
    "#ax14.set_aspect(2.5)\n",
    "#ax14.set_title('Sentinel-2 2020-21 Composite Image: Lake Nzilo',size=labelsize)\n",
    "#ax14.set_xlabel(r\"Longitude [$^\\circ$]\",size=labelsize)\n",
    "#ax14.set_ylabel(r\"Latitude [$^\\circ$]\",size=labelsize)\n",
    "#ax14.tick_params(axis=\"both\", labelsize=ticksize)\n",
    "\n",
    "ax13 = plt.subplot(8,2,13)#,sharex=ax14,sharey=ax14)\n",
    "ax13.scatter(data[0,result==1],data[1,result==1],c='green',s=0.15)\n",
    "#ax13.set_xlim([lon_min_water,lon_max_water])\n",
    "#ax13.set_ylim([lat_min_water,lat_max_water])\n",
    "ax13.set_xlim([27,27.1])\n",
    "ax13.set_ylim([-11,-10.8])\n",
    "ax13.set_title('Detected Mine Locations: Lake II',size=labelsize)\n",
    "ax13.set_xlabel(r\"Longitude [$^\\circ$]\",size=labelsize)\n",
    "ax13.set_ylabel(r\"Latitude [$^\\circ$]\",size=labelsize)\n",
    "ax13.tick_params(axis=\"both\", labelsize=ticksize)\n",
    "ax13.xaxis.set_major_formatter(matplotlib.ticker.FormatStrFormatter('%.1f'))\n",
    "\n",
    "ax15 = plt.subplot(8,2,15)#,sharex=ax16,sharey=ax16)\n",
    "ax15.scatter(data[0,result==1],data[1,result==1],c='green',s=0.15)\n",
    "#ax13.set_xlim([lon_min_water,lon_max_water])\n",
    "#ax13.set_ylim([lat_min_water,lat_max_water])\n",
    "ax15.set_xlim([26.85,26.9])\n",
    "ax15.set_ylim([-10.95,-10.9])\n",
    "ax15.set_title('Detected Mine Locations: Farming',size=labelsize)\n",
    "ax15.set_xlabel(r\"Longitude [$^\\circ$]\",size=labelsize)\n",
    "ax15.set_ylabel(r\"Latitude [$^\\circ$]\",size=labelsize)\n",
    "ax15.tick_params(axis=\"both\", labelsize=ticksize)\n",
    "ax15.xaxis.set_major_formatter(matplotlib.ticker.FormatStrFormatter('%.1f'))\n",
    "\n",
    "fig.tight_layout()\n",
    "\n",
    "#plt.close('all')\n",
    "\"\"\"\n",
    "#display(fig)\n"
   ]
  },
  {
   "cell_type": "code",
   "execution_count": null,
   "id": "dbef5f69",
   "metadata": {},
   "outputs": [],
   "source": [
    "#file = '../Testing/25.25_27.35_-11_-10/statusII_compiled_26.65_-10.3_27.35_-10.0.csv'\n",
    "#file = '../Training/status_kibali_20m_29.56_3.1_29.615_3.155.csv'\n",
    "file = 'status_farming_200m_26.85_-10.9_26.9_-10.95.csv'\n",
    "#file = 'status_LakeNzilo_200.csv'\n",
    "df = pd.read_csv(file)#,max_rows=20000)\n",
    "\n",
    "\n",
    "# put all the data into one array\n",
    "#print(df[0,:])\n",
    "b56t = (df['B5 Value'].values - df['B6 Value'].values) / (df['B5 Value'].values + df['B6 Value'].values)\n",
    "\n",
    "clont = df['Center Lon'].values\n",
    "clatt = df['Center Lat'].values\n",
    "vegt = df['Percent Vegetation Loss'].values\n",
    "baret = df['Percent Bare Initial'].values\n",
    "sart = df['Percent Significant VH Values'].values\n",
    "swirt = df['Average SWIR1/B'].values\n",
    "nirgt = df['Average NIR/G'].values\n",
    "b5stdt = df['B5 Std'].values\n",
    "b6stdt = df['B6 Std'].values\n",
    "\n",
    "b56t_ndiff = (b5stdt - b6stdt) / (b5stdt + b6stdt)\n",
    "\n",
    "datan = np.array([vegt,baret,sart,nirgt,swirt])\n",
    "\n",
    "print(datan.shape)\n",
    "\n",
    "datan = np.concatenate((datan,b56t_ndiff[np.newaxis,...]),axis=0)\n",
    "\n",
    "result = clf.predict(datan.T)\n",
    "\n",
    "fig = plt.figure()\n",
    "plt.scatter(clont[result==1],clatt[result==1],s=2)\n",
    "#plt.show()\n",
    "\n",
    "#plt.close('all')\n"
   ]
  },
  {
   "cell_type": "code",
   "execution_count": null,
   "id": "433589bf-7580-4931-9108-78714af2853d",
   "metadata": {},
   "outputs": [],
   "source": [
    "from simplekml import (Kml, AltitudeMode,Color)\n",
    "import numpy as np\n",
    "import matplotlib.pyplot as plt\n",
    "from netCDF4 import Dataset\n",
    "from palettable import colorbrewer\n",
    "import numpy.ma as ma\n",
    "import matplotlib as mpl\n",
    "mpl.cm.get_cmap\n",
    "import matplotlib.cm as cm\n",
    "from sys import exit\n",
    "from tqdm import tqdm\n",
    "\n",
    "def make_kml(lon,lat,alt,colorrange,outname):\n",
    "    kml = Kml()\n",
    "    npnts = len(lon)\n",
    "    for i in tqdm(range(npnts)):\n",
    "        #pnt = kml.newpoint(coords=[(lon[i],lat[i],alt[i])],gxaltitudemode='relativeToSeaFloor')\n",
    "        pnt = kml.newpoint(coords=[(lon[i],lat[i],alt[i])],altitudemode='absolute')\n",
    "        #pnt = kml.newpoint(coords=[(lon[i],lat[i],alt[i])],altitudemode='relativetoground')\n",
    "        #pnt.style.labelstyle.color = Color.rgb(int(colorrange[i]),0,0,255)\n",
    "        pnt.style.iconstyle.color = Color.rgb(int(colorrange[i]),0,0,int(colorrange[i]))\n",
    "        pnt.style.iconstyle.icon.href = 'http://earth.google.com/images/kml-icons/track-directional/track-none.png'\n",
    "    kml.save(outname)"
   ]
  },
  {
   "cell_type": "code",
   "execution_count": null,
   "id": "452b4ffd-028f-42e5-bb95-798d69144d47",
   "metadata": {},
   "outputs": [],
   "source": [
    "lon = df[result==1,0]\n",
    "lat = df[result==1,1]\n",
    "\n",
    "color = 255*np.ones(len(lon))\n",
    "alt=np.zeros(len(color))\n",
    "make_kml(lon,lat,alt,color,'compiled_26.65_-10.3_27.35_-10.0.kml')"
   ]
  },
  {
   "cell_type": "code",
   "execution_count": null,
   "id": "69e3e456-3281-4e23-8142-c865888a41aa",
   "metadata": {},
   "outputs": [],
   "source": []
  }
 ],
 "metadata": {
  "interpreter": {
   "hash": "0aa67a36e3924be97bf25de29823d79200f7c095ca370e54a920af285e1fed15"
  },
  "kernelspec": {
   "display_name": "Python 3 (ipykernel)",
   "language": "python",
   "name": "python3"
  },
  "language_info": {
   "codemirror_mode": {
    "name": "ipython",
    "version": 3
   },
   "file_extension": ".py",
   "mimetype": "text/x-python",
   "name": "python",
   "nbconvert_exporter": "python",
   "pygments_lexer": "ipython3",
   "version": "3.7.11"
  }
 },
 "nbformat": 4,
 "nbformat_minor": 5
}
