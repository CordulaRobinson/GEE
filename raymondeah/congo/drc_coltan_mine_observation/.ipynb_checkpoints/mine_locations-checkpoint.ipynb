{
 "cells": [
  {
   "cell_type": "code",
   "execution_count": 1,
   "id": "d6e2713a",
   "metadata": {},
   "outputs": [],
   "source": [
    "import ee\n",
    "import geemap"
   ]
  },
  {
   "cell_type": "code",
   "execution_count": 2,
   "id": "e5d5f07d",
   "metadata": {},
   "outputs": [
    {
     "data": {
      "text/html": [
       "<p>To authorize access needed by Earth Engine, open the following\n",
       "        URL in a web browser and follow the instructions:</p>\n",
       "        <p><a href=https://accounts.google.com/o/oauth2/auth?client_id=517222506229-vsmmajv00ul0bs7p89v5m89qs8eb9359.apps.googleusercontent.com&scope=https%3A%2F%2Fwww.googleapis.com%2Fauth%2Fearthengine+https%3A%2F%2Fwww.googleapis.com%2Fauth%2Fdevstorage.full_control&redirect_uri=urn%3Aietf%3Awg%3Aoauth%3A2.0%3Aoob&response_type=code&code_challenge=0UgOzm6XrL2frImGO-B30Puy9l_9ektKJlVmlmz3X1M&code_challenge_method=S256>https://accounts.google.com/o/oauth2/auth?client_id=517222506229-vsmmajv00ul0bs7p89v5m89qs8eb9359.apps.googleusercontent.com&scope=https%3A%2F%2Fwww.googleapis.com%2Fauth%2Fearthengine+https%3A%2F%2Fwww.googleapis.com%2Fauth%2Fdevstorage.full_control&redirect_uri=urn%3Aietf%3Awg%3Aoauth%3A2.0%3Aoob&response_type=code&code_challenge=0UgOzm6XrL2frImGO-B30Puy9l_9ektKJlVmlmz3X1M&code_challenge_method=S256</a></p>\n",
       "        <p>The authorization workflow will generate a code, which you\n",
       "        should paste in the box below</p>\n",
       "        "
      ],
      "text/plain": [
       "<IPython.core.display.HTML object>"
      ]
     },
     "metadata": {},
     "output_type": "display_data"
    },
    {
     "name": "stdout",
     "output_type": "stream",
     "text": [
      "Enter verification code: 4/1AX4XfWjV6zOIBFOXpOPN-pWBztnXKOLoMg36nfFs0_hQEWv7UIXmTaogA_I\n",
      "\n",
      "Successfully saved authorization token.\n"
     ]
    }
   ],
   "source": [
    "ee.Authenticate()\n",
    "ee.Initialize()"
   ]
  },
  {
   "cell_type": "code",
   "execution_count": 3,
   "id": "2bfe4410",
   "metadata": {},
   "outputs": [],
   "source": [
    "admin = ee.FeatureCollection(\"FAO/GAUL_SIMPLIFIED_500m/2015/level1\")\n",
    "miningPermits = ee.FeatureCollection(\"users/raymondeah/Democratic_Republic_of_the_Congo_mining_permits\")\n",
    "activeMines = ee.FeatureCollection(\"users/raymondeah/cod_mines_curated_all_opendata_p_ipis\")"
   ]
  },
  {
   "cell_type": "code",
   "execution_count": 9,
   "id": "2c6ada6b",
   "metadata": {
    "scrolled": true
   },
   "outputs": [
    {
     "data": {
      "application/vnd.jupyter.widget-view+json": {
       "model_id": "67e8f9527cfb431b84bef06ebed9071d",
       "version_major": 2,
       "version_minor": 0
      },
      "text/plain": [
       "Map(center=[-2.864932980168927, 23.64966398292537], controls=(WidgetControl(options=['position', 'transparent_…"
      ]
     },
     "metadata": {},
     "output_type": "display_data"
    }
   ],
   "source": [
    "Map = geemap.Map()\n",
    "congo = admin.filter(ee.Filter.eq('ADM0_NAME', 'Democratic Republic of the Congo'))\n",
    "Map.centerObject(congo, 5)\n",
    "\n",
    "red = {'color': 'red'}\n",
    "green = {'color': 'green'}\n",
    "blue = {'color': 'blue'}\n",
    "\n",
    "Map.addLayer(miningPermits, blue, 'Issued Mining Permits')\n",
    "\n",
    "minesTa = miningPermits.filter(ee.Filter.stringContains('resource', 'Ta'))\n",
    "Map.addLayer(minesTa, red, 'Issued Mining Permits - Tantalum')\n",
    "\n",
    "Map.addLayer(activeMines, green, 'Active Coltan Mines')\n",
    "\n",
    "legend_keys = ['Issued Mining Permits', 'Issued Mining Permits - Ta', 'Active Coltan Mines']\n",
    "legend_colors = ['#0000FF', '#FF0000', '#00FF00']\n",
    "\n",
    "Map.add_legend(legend_keys=legend_keys, legend_colors=legend_colors, position='bottomleft')\n",
    "\n",
    "Map"
   ]
  },
  {
   "cell_type": "code",
   "execution_count": null,
   "id": "d79daa18",
   "metadata": {},
   "outputs": [],
   "source": []
  }
 ],
 "metadata": {
  "kernelspec": {
   "display_name": "Python 3 (ipykernel)",
   "language": "python",
   "name": "python3"
  },
  "language_info": {
   "codemirror_mode": {
    "name": "ipython",
    "version": 3
   },
   "file_extension": ".py",
   "mimetype": "text/x-python",
   "name": "python",
   "nbconvert_exporter": "python",
   "pygments_lexer": "ipython3",
   "version": "3.10.1"
  }
 },
 "nbformat": 4,
 "nbformat_minor": 5
}
