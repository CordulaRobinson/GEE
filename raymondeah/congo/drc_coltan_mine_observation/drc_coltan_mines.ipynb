{
 "cells": [
  {
   "cell_type": "code",
   "execution_count": 2,
   "id": "9c40dcc9",
   "metadata": {},
   "outputs": [],
   "source": [
    "import ee\n",
    "import geemap"
   ]
  },
  {
   "cell_type": "code",
   "execution_count": 3,
   "id": "758ca68e",
   "metadata": {},
   "outputs": [
    {
     "data": {
      "text/html": [
       "<p>To authorize access needed by Earth Engine, open the following\n",
       "        URL in a web browser and follow the instructions:</p>\n",
       "        <p><a href=https://accounts.google.com/o/oauth2/auth?client_id=517222506229-vsmmajv00ul0bs7p89v5m89qs8eb9359.apps.googleusercontent.com&scope=https%3A%2F%2Fwww.googleapis.com%2Fauth%2Fearthengine+https%3A%2F%2Fwww.googleapis.com%2Fauth%2Fdevstorage.full_control&redirect_uri=urn%3Aietf%3Awg%3Aoauth%3A2.0%3Aoob&response_type=code&code_challenge=uCShhgclXQvzX-AsZ6ngtBfSx7rgl0OypAX8Irqw47s&code_challenge_method=S256>https://accounts.google.com/o/oauth2/auth?client_id=517222506229-vsmmajv00ul0bs7p89v5m89qs8eb9359.apps.googleusercontent.com&scope=https%3A%2F%2Fwww.googleapis.com%2Fauth%2Fearthengine+https%3A%2F%2Fwww.googleapis.com%2Fauth%2Fdevstorage.full_control&redirect_uri=urn%3Aietf%3Awg%3Aoauth%3A2.0%3Aoob&response_type=code&code_challenge=uCShhgclXQvzX-AsZ6ngtBfSx7rgl0OypAX8Irqw47s&code_challenge_method=S256</a></p>\n",
       "        <p>The authorization workflow will generate a code, which you\n",
       "        should paste in the box below</p>\n",
       "        "
      ],
      "text/plain": [
       "<IPython.core.display.HTML object>"
      ]
     },
     "metadata": {},
     "output_type": "display_data"
    },
    {
     "name": "stdout",
     "output_type": "stream",
     "text": [
      "Enter verification code: 4/1AX4XfWjgFd71gwEv_5PiUZu9dMN1-D18xTx5DGpUtSnfokqKABd_JsCX5Fc\n",
      "\n",
      "Successfully saved authorization token.\n"
     ]
    }
   ],
   "source": [
    "ee.Authenticate()\n",
    "ee.Initialize()"
   ]
  },
  {
   "cell_type": "code",
   "execution_count": 15,
   "id": "1259c41d",
   "metadata": {},
   "outputs": [],
   "source": [
    "javascript_code = \"\"\"\n",
    "\"\"\""
   ]
  },
  {
   "cell_type": "code",
   "execution_count": 16,
   "id": "a59e567f",
   "metadata": {},
   "outputs": [],
   "source": [
    "geemap.js_snippet_to_py(javascript_code)"
   ]
  },
  {
   "cell_type": "markdown",
   "id": "6733b40b",
   "metadata": {},
   "source": [
    "## Imports"
   ]
  },
  {
   "cell_type": "code",
   "execution_count": 4,
   "id": "d73764e8",
   "metadata": {},
   "outputs": [],
   "source": [
    "#*** Start of imports. If edited, may not auto-convert in the playground. ***#\n",
    "s2 = ee.ImageCollection(\"COPERNICUS/S2_SR\")\n",
    "admin = ee.FeatureCollection(\"FAO/GAUL_SIMPLIFIED_500m/2015/level1\")\n",
    "miningPermits = ee.FeatureCollection(\"users/raymondeah/Democratic_Republic_of_the_Congo_mining_permits\")\n",
    "activeMines = ee.FeatureCollection(\"users/raymondeah/cod_mines_curated_all_opendata_p_ipis\")\n",
    "minesGrouped = ee.Geometry.Polygon(\n",
    "    [[[28.84879973081211, -5.016248778035446],\n",
    "    [28.84879973081211, -5.037794913801396],\n",
    "    [28.874162699256935, -5.037794913801396],\n",
    "    [28.874162699256935, -5.016248778035446]]])\n",
    "\n",
    "water = ee.FeatureCollection(\n",
    "        [ee.Feature(\n",
    "            ee.Geometry.Point([28.85818756937104, -5.023243104634987]),\n",
    "            {\n",
    "              \"landcover\": 0,\n",
    "              \"system:index\": \"0\"\n",
    "            }),\n",
    "        ee.Feature(\n",
    "            ee.Geometry.Point([28.865483177891548, -5.022623221835797]),\n",
    "            {\n",
    "              \"landcover\": 0,\n",
    "              \"system:index\": \"1\"\n",
    "            }),\n",
    "        ee.Feature(\n",
    "            ee.Geometry.Point([28.866041077366646, -5.029848026118908]),\n",
    "            {\n",
    "              \"landcover\": 0,\n",
    "              \"system:index\": \"2\"\n",
    "            }),\n",
    "        ee.Feature(\n",
    "            ee.Geometry.Point([28.858101738682564, -5.027753268628657]),\n",
    "            {\n",
    "              \"landcover\": 0,\n",
    "              \"system:index\": \"3\"\n",
    "            }),\n",
    "        ee.Feature(\n",
    "            ee.Geometry.Point([28.869774712315376, -5.031964151841523]),\n",
    "            {\n",
    "              \"landcover\": 0,\n",
    "              \"system:index\": \"4\"\n",
    "            })])\n",
    "\n",
    "vegetation = ee.FeatureCollection(\n",
    "        [ee.Feature(\n",
    "            ee.Geometry.Point([28.85595597147065, -5.022665972392595]),\n",
    "            {\n",
    "              \"landcover\": 1,\n",
    "              \"system:index\": \"0\"\n",
    "            }),\n",
    "        ee.Feature(\n",
    "            ee.Geometry.Point([28.86797226785737, -5.022152965525988]),\n",
    "            {\n",
    "              \"landcover\": 1,\n",
    "              \"system:index\": \"1\"\n",
    "            }),\n",
    "        ee.Feature(\n",
    "            ee.Geometry.Point([28.871555699101265, -5.020507065770843]),\n",
    "            {\n",
    "              \"landcover\": 1,\n",
    "              \"system:index\": \"2\"\n",
    "            }),\n",
    "        ee.Feature(\n",
    "            ee.Geometry.Point([28.860891236058052, -5.033631397564143]),\n",
    "            {\n",
    "              \"landcover\": 1,\n",
    "              \"system:index\": \"3\"\n",
    "            }),\n",
    "        ee.Feature(\n",
    "            ee.Geometry.Point([28.859002960911567, -5.032904649953931]),\n",
    "            {\n",
    "              \"landcover\": 1,\n",
    "              \"system:index\": \"4\"\n",
    "            })])\n",
    "\n",
    "bare = ee.FeatureCollection(\n",
    "        [ee.Feature(\n",
    "            ee.Geometry.Point([28.852780235997017, -5.031130527378187]),\n",
    "            {\n",
    "              \"landcover\": 2,\n",
    "              \"system:index\": \"0\"\n",
    "            }),\n",
    "        ee.Feature(\n",
    "            ee.Geometry.Point([28.872027767887886, -5.034123020487134]),\n",
    "            {\n",
    "              \"landcover\": 2,\n",
    "              \"system:index\": \"1\"\n",
    "            }),\n",
    "        ee.Feature(\n",
    "            ee.Geometry.Point([28.870568646183784, -5.034849766736094]),\n",
    "            {\n",
    "              \"landcover\": 2,\n",
    "              \"system:index\": \"2\"\n",
    "            }),\n",
    "        ee.Feature(\n",
    "            ee.Geometry.Point([28.86217299426854, -5.018909704650508]),\n",
    "            {\n",
    "              \"landcover\": 2,\n",
    "              \"system:index\": \"3\"\n",
    "            }),\n",
    "        ee.Feature(\n",
    "            ee.Geometry.Point([28.852795978693162, -5.033203542518063]),\n",
    "            {\n",
    "              \"landcover\": 2,\n",
    "              \"system:index\": \"4\"\n",
    "            })])\n",
    "#**** End of imports. If edited, may not auto-convert in the playground. ****#"
   ]
  },
  {
   "cell_type": "markdown",
   "id": "b281e090",
   "metadata": {},
   "source": [
    "#### Cloud Masking Function"
   ]
  },
  {
   "cell_type": "code",
   "execution_count": 5,
   "id": "0e725472",
   "metadata": {},
   "outputs": [],
   "source": [
    "# Function to remove cloud and snow pixels from Sentinel-2 SR image\n",
    "def maskCloudAndShadowsSR(image):\n",
    "  cloudProb = image.select('MSK_CLDPRB')\n",
    "  snowProb = image.select('MSK_SNWPRB')\n",
    "  cloud = cloudProb.lt(10)\n",
    "  scl = image.select('SCL')\n",
    "  shadow = scl.eq(3); # 3 = cloud shadow\n",
    "  cirrus = scl.eq(10); # 10 = cirrus\n",
    "  # Cloud probability less than 10% or cloud shadow classification\n",
    "  mask = cloud.And(cirrus.neq(1)).And(shadow.neq(1))\n",
    "  return image.updateMask(mask)"
   ]
  },
  {
   "cell_type": "markdown",
   "id": "9f13c4b4",
   "metadata": {},
   "source": [
    "#### Center the map around our chosen geometry"
   ]
  },
  {
   "cell_type": "code",
   "execution_count": 6,
   "id": "039b470a",
   "metadata": {},
   "outputs": [],
   "source": [
    "Map = geemap.Map()\n",
    "congo = admin.filter(ee.Filter.eq('ADM0_NAME', 'Democratic Republic of the Congo'))\n",
    "Map.centerObject(minesGrouped, 12)"
   ]
  },
  {
   "cell_type": "markdown",
   "id": "2203a03a",
   "metadata": {},
   "source": [
    "#### 2019 Median Composite"
   ]
  },
  {
   "cell_type": "code",
   "execution_count": 7,
   "id": "12d1af48",
   "metadata": {},
   "outputs": [],
   "source": [
    "filtered = s2 \\\n",
    "  .filter(ee.Filter.lt('CLOUDY_PIXEL_PERCENTAGE', 20)) \\\n",
    "  .filter(ee.Filter.date('2019-01-01', '2019-12-31')) \\\n",
    "  .map(maskCloudAndShadowsSR) \\\n",
    "  .filter(ee.Filter.bounds(minesGrouped)) \\\n",
    "  .select('B.*')\n",
    "\n",
    "composite = filtered.median().clip(minesGrouped)\n",
    "\n",
    "rgbVis = {\n",
    "  'min': 0,\n",
    "  'max': 3000,\n",
    "  'bands': ['B4', 'B3', 'B2']\n",
    "}\n",
    "\n",
    "Map.addLayer(composite, rgbVis, '2019 Median Composite')"
   ]
  },
  {
   "cell_type": "markdown",
   "id": "4241dd9c",
   "metadata": {},
   "source": [
    "#### NDVI"
   ]
  },
  {
   "cell_type": "code",
   "execution_count": 8,
   "id": "3c25af7d",
   "metadata": {},
   "outputs": [],
   "source": [
    "# Calculate  Normalized Difference Vegetation Index (NDVI)\n",
    "# 'NIR' (B8) and 'RED' (B4)\n",
    "ndvi = composite.normalizedDifference(['B8', 'B4']).rename(['ndvi'])\n",
    "ndviVis = {'min':0, 'max':1, 'palette': ['white', 'green']}\n",
    "#Map.addLayer(ndvi, ndviVis, 'NDVI')"
   ]
  },
  {
   "cell_type": "markdown",
   "id": "08abd9a9",
   "metadata": {},
   "source": [
    "#### Mining Permits + Active Mines Dataset"
   ]
  },
  {
   "cell_type": "code",
   "execution_count": 9,
   "id": "b5b88177",
   "metadata": {},
   "outputs": [],
   "source": [
    "#Map.addLayer(miningPermits, {color: 'blue'}, 'Mines')\n",
    "Map.addLayer(activeMines, {'color': 'purple'}, 'Active Coltan Mines')\n",
    "\n",
    "minesTa = miningPermits.filter(ee.Filter.stringContains('resource', 'Ta'))\n",
    "\n",
    "#Map.addLayer(minesTa, {color: 'red'}, 'Coltan Mines')"
   ]
  },
  {
   "cell_type": "markdown",
   "id": "5909ca68",
   "metadata": {},
   "source": [
    "## Classification of Change"
   ]
  },
  {
   "cell_type": "code",
   "execution_count": 11,
   "id": "ba96a74a",
   "metadata": {},
   "outputs": [
    {
     "data": {
      "application/vnd.jupyter.widget-view+json": {
       "model_id": "bb53a02c70b545118f340676d6781711",
       "version_major": 2,
       "version_minor": 0
      },
      "text/plain": [
       "Map(bottom=4311906.0, center=[-5.027021909031205, 28.86148121502483], controls=(WidgetControl(options=['positi…"
      ]
     },
     "metadata": {},
     "output_type": "display_data"
    }
   ],
   "source": [
    "training = bare.merge(water).merge(vegetation)\n",
    "\n",
    "# Overlay the point on the image to get training data.\n",
    "training = composite.sampleRegions(**{\n",
    "  'collection': training,\n",
    "  'properties': ['landcover'],\n",
    "  'scale': 10\n",
    "})\n",
    "\n",
    "# Train a classifier.\n",
    "classifier = ee.Classifier.smileRandomForest(50).train(**{\n",
    "  'features': training,\n",
    "  'classProperty': 'landcover',\n",
    "  'inputProperties': composite.bandNames()\n",
    "})\n",
    "\n",
    "# # Classify the image.\n",
    "beforeClassified = composite.classify(classifier)\n",
    "Map.addLayer(beforeClassified,\n",
    "  {'min': 0, 'max': 2, 'palette': ['blue', 'green', 'brown']}, 'before_classified')\n",
    "\n",
    "# 2021\n",
    "filtered = s2 \\\n",
    "  .filter(ee.Filter.lt('CLOUDY_PIXEL_PERCENTAGE', 20)) \\\n",
    "  .filter(ee.Filter.date('2021-01-01', '2021-12-31')) \\\n",
    "  .map(maskCloudAndShadowsSR) \\\n",
    "  .filter(ee.Filter.bounds(minesGrouped)) \\\n",
    "  .select('B.*')\n",
    "\n",
    "compositeA = filtered.median().clip(minesGrouped)\n",
    "\n",
    "Map.addLayer(compositeA, rgbVis, '2021 Median Composite')\n",
    "\n",
    "# Classify the image.\n",
    "afterClassified= compositeA.classify(classifier)\n",
    "Map.addLayer(afterClassified,\n",
    "  {'min': 0, 'max': 2, 'palette': ['blue', 'green', 'brown']}, 'after_classified')\n",
    "\n",
    "# Reclassify from 0-3 to 1-4\n",
    "beforeClasses = beforeClassified.remap([0, 1, 2], [1, 2, 3])\n",
    "afterClasses = afterClassified.remap([0, 1, 2], [1, 2, 3])\n",
    "\n",
    "# Show all changed areas\n",
    "class3 = beforeClasses.eq(2)\n",
    "notclass3 = afterClasses.eq(2).Not()\n",
    "waterChanged = class3.And(notclass3)\n",
    "\n",
    "v = beforeClasses.eq(2)\n",
    "b = afterClasses.eq(3)\n",
    "v_to_b = v.And(b)\n",
    "\n",
    "Map.addLayer(waterChanged, {'min': 0, 'max': 1, 'palette': ['white', 'red']}, 'NDVI_change')\n",
    "Map.addLayer(v_to_b, {'min': 0, 'max': 1, 'palette': ['white', 'brown']}, 'NDVI to bare')\n",
    "\n",
    "legend_keys = ['Water', 'Vegetation', 'Bare Soil']\n",
    "legend_colors = ['#0000FF', '#00FF00', '#FF0000']\n",
    "\n",
    "Map.add_legend(legend_keys=legend_keys, legend_colors=legend_colors, position='bottomleft')\n",
    "Map.centerObject(minesGrouped, 15)\n",
    "\n",
    "Map"
   ]
  },
  {
   "cell_type": "markdown",
   "id": "95719cb3",
   "metadata": {},
   "source": [
    "## Results"
   ]
  },
  {
   "cell_type": "code",
   "execution_count": 30,
   "id": "84acbcfe",
   "metadata": {},
   "outputs": [
    {
     "name": "stdout",
     "output_type": "stream",
     "text": [
      "0.2556178112476424\n",
      "4.116399416855543\n"
     ]
    }
   ],
   "source": [
    "areaImage = v_to_b.multiply(ee.Image.pixelArea())\n",
    "\n",
    "area = areaImage.reduceRegion(**{\n",
    "  'reducer': ee.Reducer.sum(),\n",
    "  'geometry': minesGrouped,\n",
    "  'scale': 10,\n",
    "  'maxPixels': 1e10\n",
    "})\n",
    "\n",
    "net_change = ee.Number(area.get('remapped')).divide(1e6).getInfo()\n",
    "print(net_change)\n",
    "\n",
    "v_total = beforeClassified.multiply(ee.Image.pixelArea())\n",
    "\n",
    "area2 = v_total.reduceRegion(**{\n",
    "  'reducer': ee.Reducer.sum(),\n",
    "  'geometry': minesGrouped,\n",
    "  'scale': 10,\n",
    "  'maxPixels': 1e10\n",
    "})\n",
    "\n",
    "total = ee.Number(area2.get('classification')).divide(1e6).getInfo()\n",
    "print(net_change / total * 100)"
   ]
  },
  {
   "cell_type": "code",
   "execution_count": null,
   "id": "9869ad91",
   "metadata": {},
   "outputs": [],
   "source": []
  }
 ],
 "metadata": {
  "kernelspec": {
   "display_name": "Python 3 (ipykernel)",
   "language": "python",
   "name": "python3"
  },
  "language_info": {
   "codemirror_mode": {
    "name": "ipython",
    "version": 3
   },
   "file_extension": ".py",
   "mimetype": "text/x-python",
   "name": "python",
   "nbconvert_exporter": "python",
   "pygments_lexer": "ipython3",
   "version": "3.10.1"
  }
 },
 "nbformat": 4,
 "nbformat_minor": 5
}
