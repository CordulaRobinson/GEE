{
 "cells": [
  {
   "cell_type": "code",
   "execution_count": 13,
   "id": "6f11ee20-fad4-4adb-9ec4-897587bc5484",
   "metadata": {},
   "outputs": [
    {
     "data": {
      "application/vnd.jupyter.widget-view+json": {
       "model_id": "0d56b2bb7c1c46a2ace467599e4d3749",
       "version_major": 2,
       "version_minor": 0
      },
      "text/plain": [
       "Map(center=[-10.50108786494144, 26.499999999999936], controls=(WidgetControl(options=['position', 'transparent…"
      ]
     },
     "metadata": {},
     "output_type": "display_data"
    }
   ],
   "source": [
    "import os\n",
    "import csv\n",
    "import ee\n",
    "import geemap\n",
    "ee.Initialize()\n",
    "\n",
    "roi1 = ee.Geometry.Polygon(\n",
    "        [[[29.5, 3.5],\n",
    "          [29.5, 3],\n",
    "          [30, 3],\n",
    "          [30, 3.5]]])\n",
    "\n",
    "roi2 = ee.Geometry.Polygon(\n",
    "        [[[25, -9],\n",
    "          [25, -12],\n",
    "          [28, -12],\n",
    "          [28, -9]]])\n",
    "\n",
    "active_mines = ee.FeatureCollection(\"users/raymondeah/cod_mines_curated_all_opendata_p_ipis\")\n",
    "\n",
    "# os.system(\"cat output/*csv > output/compiled.csv\")\n",
    "# os.system(\"rm -rf slurm*\")\n",
    "# os.system(\"rm -rf output/square*\")\n",
    "# os.system(\"rm batch/*\")\n",
    "\n",
    "path = \"output/compiled.csv\"\n",
    "\n",
    "restore = []\n",
    "with open(path, newline='') as csvfile:\n",
    "    spamreader = csv.reader(csvfile, delimiter=' ')\n",
    "    for row in spamreader:\n",
    "        coords = row[0].split(',')\n",
    "        restore.append(coords)\n",
    "\n",
    "fc = []\n",
    "for row in restore:\n",
    "    g = ee.Geometry.Polygon(\n",
    "        [[[float(row[0]), float(row[1])],\n",
    "          [float(row[2]), float(row[3])],\n",
    "          [float(row[4]), float(row[5])],\n",
    "          [float(row[6]), float(row[7])]]])\n",
    "    fc.append(g)\n",
    "\n",
    "final = ee.FeatureCollection(fc)\n",
    "\n",
    "Map = geemap.Map()\n",
    "Map.centerObject(roi2, 8)\n",
    "Map.addLayer(roi2, {'color': 'blue'}, 'box', opacity=0.2)\n",
    "Map.addLayer(active_mines, {'color': 'black'}, 'mapbox', opacity=0.5)\n",
    "Map.addLayer(final, {'color': 'red'}, 'vegetation loss job')\n",
    "Map\n",
    "\n",
    "\n"
   ]
  },
  {
   "cell_type": "code",
   "execution_count": null,
   "id": "7df38a8e-a786-4041-83f8-6351fdea60cb",
   "metadata": {},
   "outputs": [],
   "source": []
  }
 ],
 "metadata": {
  "kernelspec": {
   "display_name": "Python 3 (ipykernel)",
   "language": "python",
   "name": "python3"
  },
  "language_info": {
   "codemirror_mode": {
    "name": "ipython",
    "version": 3
   },
   "file_extension": ".py",
   "mimetype": "text/x-python",
   "name": "python",
   "nbconvert_exporter": "python",
   "pygments_lexer": "ipython3",
   "version": "3.7.11"
  }
 },
 "nbformat": 4,
 "nbformat_minor": 5
}
