{
 "cells": [
  {
   "cell_type": "code",
   "execution_count": 1,
   "id": "ac601a89",
   "metadata": {},
   "outputs": [],
   "source": [
    "import ee\n",
    "import geemap\n",
    "ee.Initialize()"
   ]
  },
  {
   "cell_type": "code",
   "execution_count": 3,
   "id": "f96fca3b",
   "metadata": {},
   "outputs": [],
   "source": [
    "javascript_code = \"\"\"\n",
    "\"\"\""
   ]
  },
  {
   "cell_type": "code",
   "execution_count": 5,
   "id": "d8e29348",
   "metadata": {},
   "outputs": [],
   "source": [
    "geemap.js_snippet_to_py(javascript_code)"
   ]
  },
  {
   "cell_type": "code",
   "execution_count": 2,
   "id": "fe7430b4",
   "metadata": {},
   "outputs": [],
   "source": [
    "ls8 = ee.ImageCollection(\"LANDSAT/LC08/C02/T1_L2\")\n",
    "activeMines = ee.FeatureCollection(\"users/raymondeah/cod_mines_curated_all_opendata_p_ipis\")\n",
    "roi1 = ee.Geometry.Polygon(\n",
    "        [[[29.554129272985683, 3.1591674847348235],\n",
    "          [29.554129272985683, 3.092319151883147],\n",
    "          [29.625197083044277, 3.092319151883147],\n",
    "          [29.625197083044277, 3.1591674847348235]]])\n",
    "modis = ee.ImageCollection(\"MODIS/006/MOD13Q1\")"
   ]
  },
  {
   "cell_type": "code",
   "execution_count": 3,
   "id": "c8f9cbb2",
   "metadata": {},
   "outputs": [],
   "source": [
    "Map = geemap.Map()\n",
    "Map.addLayer(activeMines, {'color': 'red'}, 'Active Coltan Mines')\n",
    "Map.centerObject(roi1, 12)\n",
    "rgbVis = {\n",
    "  'min': 8097.96,\n",
    "  'max': 12128.04,\n",
    "  'bands': ['SR_B4', 'SR_B3', 'SR_B2']\n",
    "}\n",
    "filtered = ls8 \\\n",
    "  .filter(ee.Filter.bounds(roi1)) \\\n",
    "  .filter(ee.Filter.date('2020-01-01', '2020-12-31')) \\\n",
    "  .filter(ee.Filter.lt('CLOUD_COVER', 25)) \\\n",
    "  .select('SR_B.*')\n",
    "\n",
    "composite = filtered.median().clip(roi1)\n",
    "ndvi = composite.normalizedDifference(['SR_B5', 'SR_B4'])\n",
    "loss = ndvi.select('nd').lt(0.15)\n",
    "Map.addLayer(ndvi, {'min': 0, 'max': 1, 'palette': ['white', 'green']}, '2020 NDVI')\n",
    "Map.addLayer(composite, rgbVis, '2020 Median Composite')\n",
    "Map.addLayer(loss, {'min': 0, 'max': 1, 'palette': ['white', 'red']}, '2020 below threshold')\n",
    "#######################\n",
    "areaImage = loss.multiply(ee.Image.pixelArea())\n",
    "area = areaImage.reduceRegion(**{\n",
    "  'reducer': ee.Reducer.sum(),\n",
    "  'geometry': loss.geometry(),\n",
    "  'scale': 10,\n",
    "  'maxPixels': 1e10\n",
    "})\n",
    "# The result of the reduceRegion() function is a dictionary with the key\n",
    "# being the band name. We can extract the area number and convert it to\n",
    "# square kilometers\n",
    "vegetationAreaSqKm1 = ee.Number(area.get('nd')).divide(1000*1000)\n",
    "##########################/\n",
    "################################"
   ]
  },
  {
   "cell_type": "code",
   "execution_count": 6,
   "id": "08375278",
   "metadata": {
    "scrolled": false
   },
   "outputs": [
    {
     "name": "stdout",
     "output_type": "stream",
     "text": [
      "2014 NDVI < 0.15 (sq km) 7.806626398902443\n",
      "2020 NDVI < 0.15 (sq km) 9.207349181823647\n",
      "total loss: 1.4007227829212034 km\n"
     ]
    },
    {
     "ename": "NameError",
     "evalue": "name 'vegetationAeaSqKm2' is not defined",
     "output_type": "error",
     "traceback": [
      "\u001b[1;31m---------------------------------------------------------------------------\u001b[0m",
      "\u001b[1;31mNameError\u001b[0m                                 Traceback (most recent call last)",
      "\u001b[1;32m~\\AppData\\Local\\Temp/ipykernel_10568/1847038676.py\u001b[0m in \u001b[0;36m<module>\u001b[1;34m\u001b[0m\n\u001b[0;32m     28\u001b[0m \u001b[0mprint\u001b[0m\u001b[1;33m(\u001b[0m\u001b[1;34m'total loss:'\u001b[0m\u001b[1;33m,\u001b[0m \u001b[0mdiff\u001b[0m\u001b[1;33m.\u001b[0m\u001b[0mgetInfo\u001b[0m\u001b[1;33m(\u001b[0m\u001b[1;33m)\u001b[0m\u001b[1;33m,\u001b[0m \u001b[1;34m'km'\u001b[0m\u001b[1;33m)\u001b[0m\u001b[1;33m\u001b[0m\u001b[1;33m\u001b[0m\u001b[0m\n\u001b[0;32m     29\u001b[0m \u001b[1;33m\u001b[0m\u001b[0m\n\u001b[1;32m---> 30\u001b[1;33m \u001b[0mprint\u001b[0m\u001b[1;33m(\u001b[0m\u001b[1;34m'% change'\u001b[0m\u001b[1;33m,\u001b[0m \u001b[0mdiff\u001b[0m\u001b[1;33m.\u001b[0m\u001b[0mdivide\u001b[0m\u001b[1;33m(\u001b[0m\u001b[0mvegetationAeaSqKm2\u001b[0m\u001b[1;33m)\u001b[0m\u001b[1;33m.\u001b[0m\u001b[0mmultiply\u001b[0m\u001b[1;33m(\u001b[0m\u001b[1;36m100\u001b[0m\u001b[1;33m)\u001b[0m\u001b[1;33m.\u001b[0m\u001b[0mgetInfo\u001b[0m\u001b[1;33m(\u001b[0m\u001b[1;33m)\u001b[0m\u001b[1;33m)\u001b[0m\u001b[1;33m\u001b[0m\u001b[1;33m\u001b[0m\u001b[0m\n\u001b[0m\u001b[0;32m     31\u001b[0m \u001b[0mMap\u001b[0m\u001b[1;33m\u001b[0m\u001b[1;33m\u001b[0m\u001b[0m\n",
      "\u001b[1;31mNameError\u001b[0m: name 'vegetationAeaSqKm2' is not defined"
     ]
    }
   ],
   "source": [
    "filtered = ls8 \\\n",
    "  .filter(ee.Filter.bounds(roi1)) \\\n",
    "  .filter(ee.Filter.date('2014-01-01', '2014-12-31')) \\\n",
    "  .filter(ee.Filter.lt('CLOUD_COVER', 25)) \\\n",
    "  .select('SR_B.*')\n",
    "\n",
    "composite = filtered.median().clip(roi1)\n",
    "ndvi = composite.normalizedDifference(['SR_B5', 'SR_B4'])\n",
    "loss = ndvi.select('nd').lt(0.15)\n",
    "Map.addLayer(ndvi, {'min': 0, 'max': 1, 'palette': ['white', 'green']}, '2014 NDVI')\n",
    "Map.addLayer(composite, rgbVis, '2014 Median Composite')\n",
    "Map.addLayer(loss, {'min': 0, 'max': 1, 'palette': ['white', 'red']}, '2014 below threshold')\n",
    "#######################\n",
    "areaImage = loss.multiply(ee.Image.pixelArea())\n",
    "area = areaImage.reduceRegion(**{\n",
    "  'reducer': ee.Reducer.sum(),\n",
    "  'geometry': loss.geometry(),\n",
    "  'scale': 10,\n",
    "  'maxPixels': 1e10\n",
    "})\n",
    "# The result of the reduceRegion() function is a dictionary with the key\n",
    "# being the band name. We can extract the area number and convert it to\n",
    "# square kilometers\n",
    "vegetationAreaSqKm2 = ee.Number(area.get('nd')).divide(1000*1000)\n",
    "print('2014 NDVI < 0.15 (sq km)', vegetationAreaSqKm2.getInfo())\n",
    "print('2020 NDVI < 0.15 (sq km)', vegetationAreaSqKm1.getInfo())\n",
    "diff = vegetationAreaSqKm1.subtract(vegetationAreaSqKm2)\n",
    "print('total loss:', diff.getInfo(), 'km')\n",
    "\n",
    "print('% change', diff.divide(vegetationAeaSqKm2).multiply(100).getInfo())\n",
    "Map"
   ]
  },
  {
   "cell_type": "code",
   "execution_count": 5,
   "id": "d5f975c5",
   "metadata": {
    "scrolled": false
   },
   "outputs": [
    {
     "name": "stdout",
     "output_type": "stream",
     "text": [
      "Total Area (sq km) 58.65268192819148\n",
      "total NDVI loss: 13.148927708580016 km\n",
      "% loss: 22.418288944874266\n"
     ]
    },
    {
     "data": {
      "application/vnd.jupyter.widget-view+json": {
       "model_id": "ee3a4a6daeb14a3f8a9f9470f179664c",
       "version_major": 2,
       "version_minor": 0
      },
      "text/plain": [
       "Map(center=[3.1257435633122834, 29.589663178011996], controls=(WidgetControl(options=['position', 'transparent…"
      ]
     },
     "metadata": {},
     "output_type": "display_data"
    }
   ],
   "source": [
    "Map = geemap.Map()\n",
    "Map.centerObject(roi1, 12)\n",
    "\n",
    "ndviVis = {\n",
    "  'min': 0.0,\n",
    "  'max': 8000.0,\n",
    "  'palette': [\n",
    "    'FFFFFF', 'CE7E45', 'DF923D', 'F1B555', 'FCD163', '99B718', '74A901',\n",
    "    '66A000', '529400', '3E8601', '207401', '056201', '004C00', '023B01',\n",
    "    '012E01', '011D01', '011301'\n",
    "  ]\n",
    "}\n",
    "\n",
    "ndvi = modis \\\n",
    "        .filter(ee.Filter.bounds(roi1))\\\n",
    "        .filter(ee.Filter.date('2020-01-01', '2020-12-31')) \\\n",
    "        .select('NDVI') \\\n",
    "        .median() \\\n",
    "        .clip(roi1)\n",
    "\n",
    "loss1 = ndvi.select('NDVI').lt(5000);\n",
    "\n",
    "Map.addLayer(ndvi, ndviVis, '2020 NDVI')\n",
    "Map.addLayer(loss1, {min: 0, max: 1, 'palette': ['white', 'red']}, '2020, no veg')\n",
    "\n",
    "ndvi = modis \\\n",
    "        .filter(ee.Filter.bounds(roi1))\\\n",
    "        .filter(ee.Filter.date('2000-01-01', '2000-12-31')) \\\n",
    "        .select('NDVI') \\\n",
    "        .median() \\\n",
    "        .clip(roi1)\n",
    "\n",
    "loss2 = ndvi.select('NDVI').lt(5000);\n",
    "\n",
    "Map.addLayer(ndvi, ndviVis, '2000 NDVI')\n",
    "Map.addLayer(loss2, {min: 0, max: 1, 'palette': ['white', 'red']}, '2000, no veg')\n",
    "\n",
    "test = loss1.eq(1)\n",
    "tes2 = loss2.neq(1)\n",
    "\n",
    "fin = test.And(tes2)\n",
    "Map.addLayer(fin, {min: 0, max: 1, 'palette': ['white', 'blue']}, 'NDVI loss')\n",
    "\n",
    "areaImage = fin.multiply(ee.Image.pixelArea())\n",
    "area = areaImage.reduceRegion(**{\n",
    "  'reducer': ee.Reducer.sum(),\n",
    "  'geometry': fin.geometry(),\n",
    "  'scale': 10,\n",
    "  'maxPixels': 1e10\n",
    "})\n",
    "\n",
    "area = ee.Number(area.get('NDVI')).divide(1e6).getInfo()\n",
    "totalArea = roi1.area(1).divide(1e6).getInfo()\n",
    "print('Total Area (sq km)', totalArea)\n",
    "print('total NDVI loss:', area, 'km')\n",
    "print('% loss:', (area/totalArea) *100)\n",
    "\n",
    "Map"
   ]
  },
  {
   "cell_type": "code",
   "execution_count": null,
   "id": "acac8f27",
   "metadata": {},
   "outputs": [],
   "source": []
  }
 ],
 "metadata": {
  "kernelspec": {
   "display_name": "Python 3 (ipykernel)",
   "language": "python",
   "name": "python3"
  },
  "language_info": {
   "codemirror_mode": {
    "name": "ipython",
    "version": 3
   },
   "file_extension": ".py",
   "mimetype": "text/x-python",
   "name": "python",
   "nbconvert_exporter": "python",
   "pygments_lexer": "ipython3",
   "version": "3.10.1"
  }
 },
 "nbformat": 4,
 "nbformat_minor": 5
}
