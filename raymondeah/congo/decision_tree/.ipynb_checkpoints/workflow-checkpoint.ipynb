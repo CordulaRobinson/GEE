{
 "cells": [
  {
   "cell_type": "code",
   "execution_count": 1,
   "id": "1f16022d-1bef-4126-8713-f443d089ce03",
   "metadata": {},
   "outputs": [],
   "source": [
    "import ee\n",
    "import geemap\n",
    "import math\n",
    "ee.Initialize()"
   ]
  },
  {
   "cell_type": "code",
   "execution_count": 29,
   "id": "b0e0a90e-3546-43cc-a58a-c244b280b097",
   "metadata": {},
   "outputs": [],
   "source": [
    "ls8 = ee.ImageCollection(\"LANDSAT/LC08/C02/T1_L2\")\n",
    "modis_ndvi = ee.ImageCollection(\"MODIS/006/MOD13Q1\")\n",
    "active_mines = ee.FeatureCollection(\"users/raymondeah/cod_mines_curated_all_opendata_p_ipis\")\n",
    "roi1 = ee.Geometry.Polygon(\n",
    "        [[[29.554129272985683, 3.1591674847348235],\n",
    "          [29.554129272985683, 3.092319151883147],\n",
    "          [29.625197083044277, 3.092319151883147],\n",
    "          [29.625197083044277, 3.1591674847348235]]])\n",
    "\n",
    "all = ee.Geometry.Polygon(\n",
    "        [[[22.92587933089792, 5.5911393992628495],\n",
    "          [22.92587933089792, -13.776973382582892],\n",
    "          [31.45126995589792, -13.776973382582892],\n",
    "          [31.45126995589792, 5.5911393992628495]]])\n"
   ]
  },
  {
   "cell_type": "code",
   "execution_count": 49,
   "id": "023ad3ff-c56a-4821-b579-3ae5315bd243",
   "metadata": {},
   "outputs": [
    {
     "data": {
      "application/vnd.jupyter.widget-view+json": {
       "model_id": "d1b9d5d512c8497aba3063f7193dc9dc",
       "version_major": 2,
       "version_minor": 0
      },
      "text/plain": [
       "Map(center=[3.1257435633122834, 29.589663178011996], controls=(WidgetControl(options=['position', 'transparent…"
      ]
     },
     "metadata": {},
     "output_type": "display_data"
    }
   ],
   "source": [
    "dataset = ee.ImageCollection('MODIS/006/MCD43A4') \\\n",
    "                  .filter(ee.Filter.date('2000-04-01', '2021-06-01'))\n",
    "\n",
    "trueColor = dataset.select([\n",
    "  'Nadir_Reflectance_Band1', 'Nadir_Reflectance_Band4',\n",
    "  'Nadir_Reflectance_Band3'\n",
    "])\n",
    "\n",
    "composite = trueColor.filter(ee.Filter.date('2000-01-01', '2000-12-31')).median().clip(roi1)\n",
    "\n",
    "trueColorVis = {\n",
    "    'min': 0.0, \n",
    "    'max': 4000.0,\n",
    "    'gamma': 1.4,\n",
    "}\n",
    "\n",
    "Map = geemap.Map()\n",
    "Map.centerObject(roi1, 12)\n",
    "Map.addLayer(composite, trueColorVis, 'True Color')\n",
    "Map"
   ]
  },
  {
   "cell_type": "code",
   "execution_count": null,
   "id": "bcc1e735-eed5-4968-bee3-e2d9e607be43",
   "metadata": {},
   "outputs": [],
   "source": []
  }
 ],
 "metadata": {
  "kernelspec": {
   "display_name": "Python 3 (ipykernel)",
   "language": "python",
   "name": "python3"
  },
  "language_info": {
   "codemirror_mode": {
    "name": "ipython",
    "version": 3
   },
   "file_extension": ".py",
   "mimetype": "text/x-python",
   "name": "python",
   "nbconvert_exporter": "python",
   "pygments_lexer": "ipython3",
   "version": "3.7.11"
  }
 },
 "nbformat": 4,
 "nbformat_minor": 5
}
