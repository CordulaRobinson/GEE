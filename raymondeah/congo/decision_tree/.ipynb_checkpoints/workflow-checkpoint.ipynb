{
 "cells": [
  {
   "cell_type": "code",
   "execution_count": 1,
   "id": "1f16022d-1bef-4126-8713-f443d089ce03",
   "metadata": {},
   "outputs": [],
   "source": [
    "import ee\n",
    "import geemap\n",
    "import math\n",
    "ee.Initialize()"
   ]
  },
  {
   "cell_type": "markdown",
   "id": "64d1416b-7c4f-471f-a8ff-75ec2ea53aa5",
   "metadata": {
    "jp-MarkdownHeadingCollapsed": true,
    "tags": []
   },
   "source": [
    "## Imports"
   ]
  },
  {
   "cell_type": "markdown",
   "id": "bf883468-f32b-4f03-9e61-eb0b71ac998c",
   "metadata": {
    "jp-MarkdownHeadingCollapsed": true,
    "tags": []
   },
   "source": [
    "#### Datasets"
   ]
  },
  {
   "cell_type": "code",
   "execution_count": 6,
   "id": "10f8db39-6d0a-444b-9246-4b4521441cad",
   "metadata": {},
   "outputs": [],
   "source": [
    "ls8 = ee.ImageCollection(\"LANDSAT/LC08/C02/T1_L2\")\n",
    "s2 = ee.ImageCollection(\"COPERNICUS/S2_SR\")\n",
    "modis_ndvi = ee.ImageCollection(\"MODIS/006/MOD13Q1\")\n",
    "modis = ee.ImageCollection('MODIS/006/MCD43A4')\n",
    "admin = ee.FeatureCollection(\"FAO/GAUL/2015/level0\")\n",
    "active_mines = ee.FeatureCollection(\"users/raymondeah/cod_mines_curated_all_opendata_p_ipis\")"
   ]
  },
  {
   "cell_type": "markdown",
   "id": "334d0890-388a-4334-be11-94df6defd4be",
   "metadata": {
    "jp-MarkdownHeadingCollapsed": true,
    "tags": []
   },
   "source": [
    "#### Visualization Parameters"
   ]
  },
  {
   "cell_type": "code",
   "execution_count": null,
   "id": "cab948db-c1e6-4c63-80c6-0e68c3f271b6",
   "metadata": {},
   "outputs": [],
   "source": [
    "rgb_vis_s2 = {\n",
    "  'min': 0.0,\n",
    "  'max': 3000,\n",
    "  'bands': ['B4', 'B3', 'B2'],\n",
    "};"
   ]
  },
  {
   "cell_type": "markdown",
   "id": "74076710-fbc8-432a-bffe-4678d7d42944",
   "metadata": {
    "jp-MarkdownHeadingCollapsed": true,
    "tags": []
   },
   "source": [
    "#### Geometry"
   ]
  },
  {
   "cell_type": "code",
   "execution_count": 7,
   "id": "b0e0a90e-3546-43cc-a58a-c244b280b097",
   "metadata": {},
   "outputs": [],
   "source": [
    "roi1 = ee.Geometry.Polygon(\n",
    "        [[[29.554129272985683, 3.1591674847348235],\n",
    "          [29.554129272985683, 3.092319151883147],\n",
    "          [29.625197083044277, 3.092319151883147],\n",
    "          [29.625197083044277, 3.1591674847348235]]])\n",
    "\n",
    "all = ee.Geometry.Polygon(\n",
    "        [[[22.92587933089792, 5.5911393992628495],\n",
    "          [22.92587933089792, -13.776973382582892],\n",
    "          [31.45126995589792, -13.776973382582892],\n",
    "          [31.45126995589792, 5.5911393992628495]]])\n",
    "\n",
    "big = ee.Geometry.Polygon(\n",
    "         [[[29.324961334750263, 3.3062182501952346],\n",
    "           [29.324961334750263, 2.9023783494297306],\n",
    "           [29.879770905062763, 2.9023783494297306],\n",
    "           [29.879770905062763, 3.3062182501952346]]], None, False)\n",
    "\n",
    "big2 = ee.Geometry.Polygon(\n",
    "        [[[23.93083329745621, 5.799063854338723],\n",
    "          [23.93083329745621, -0.38729587002473354],\n",
    "          [31.48942704745621, -0.38729587002473354],\n",
    "          [31.48942704745621, 5.799063854338723]]])\n",
    "\n",
    "big3 = ee.Geometry.Polygon(\n",
    "        [[[26.156761924059015, -0.3200034949749593],\n",
    "          [26.156761924059015, -2.4396289702937817],\n",
    "          [29.276879111559015, -2.4396289702937817],\n",
    "          [29.276879111559015, -0.3200034949749593]]])"
   ]
  },
  {
   "cell_type": "markdown",
   "id": "85be83b9-ecd4-4d5a-8b8a-97d26096b33d",
   "metadata": {
    "jp-MarkdownHeadingCollapsed": true,
    "tags": []
   },
   "source": [
    "#### Training Data"
   ]
  },
  {
   "cell_type": "code",
   "execution_count": 8,
   "id": "1d7c162c-cf62-4ac4-ba61-fe4ee47f726e",
   "metadata": {},
   "outputs": [],
   "source": [
    "bare = ee.FeatureCollection(\n",
    "        [ee.Feature(\n",
    "            ee.Geometry.Point([29.56666114888061, 3.1144301810591006]),\n",
    "            {\n",
    "              \"landcover\": 1,\n",
    "              \"system:index\": \"0\"\n",
    "            }),\n",
    "        ee.Feature(\n",
    "            ee.Geometry.Point([29.571982651566156, 3.139798234432259]),\n",
    "            {\n",
    "              \"landcover\": 1,\n",
    "              \"system:index\": \"1\"\n",
    "            }),\n",
    "        ee.Feature(\n",
    "            ee.Geometry.Point([29.586917191361078, 3.106373981962297]),\n",
    "            {\n",
    "              \"landcover\": 1,\n",
    "              \"system:index\": \"2\"\n",
    "            }),\n",
    "        ee.Feature(\n",
    "            ee.Geometry.Point([29.601680069779047, 3.1313994198763146]),\n",
    "            {\n",
    "              \"landcover\": 1,\n",
    "              \"system:index\": \"3\"\n",
    "            }),\n",
    "        ee.Feature(\n",
    "            ee.Geometry.Point([29.604426651810297, 3.122486318522175]),\n",
    "            {\n",
    "              \"landcover\": 1,\n",
    "              \"system:index\": \"4\"\n",
    "            })])\n",
    "\n",
    "vegetation = ee.FeatureCollection(\n",
    "        [ee.Feature(\n",
    "            ee.Geometry.Point([29.59962013325561, 3.101745924882264]),\n",
    "            {\n",
    "              \"landcover\": 0,\n",
    "              \"system:index\": \"0\"\n",
    "            }),\n",
    "        ee.Feature(\n",
    "            ee.Geometry.Point([29.617472916458734, 3.106031163614695]),\n",
    "            {\n",
    "              \"landcover\": 0,\n",
    "              \"system:index\": \"1\"\n",
    "            }),\n",
    "        ee.Feature(\n",
    "            ee.Geometry.Point([29.614211350296625, 3.152482030389055]),\n",
    "            {\n",
    "              \"landcover\": 0,\n",
    "              \"system:index\": \"2\"\n",
    "            }),\n",
    "        ee.Feature(\n",
    "            ee.Geometry.Point([29.55739143452514, 3.0947180957749514]),\n",
    "            {\n",
    "              \"landcover\": 0,\n",
    "              \"system:index\": \"3\"\n",
    "            }),\n",
    "        ee.Feature(\n",
    "            ee.Geometry.Point([29.558078080032953, 3.101745924882264]),\n",
    "            {\n",
    "              \"landcover\": 0,\n",
    "              \"system:index\": \"4\"\n",
    "            })])"
   ]
  },
  {
   "cell_type": "markdown",
   "id": "62de6d3d-0031-4ce0-a42b-eccc385ebe9b",
   "metadata": {
    "jp-MarkdownHeadingCollapsed": true,
    "tags": []
   },
   "source": [
    "## Classification/Areal Change"
   ]
  },
  {
   "cell_type": "code",
   "execution_count": 9,
   "id": "023ad3ff-c56a-4821-b579-3ae5315bd243",
   "metadata": {},
   "outputs": [
    {
     "data": {
      "application/vnd.jupyter.widget-view+json": {
       "model_id": "f508794a60eb4abebc060f1f0213f888",
       "version_major": 2,
       "version_minor": 0
      },
      "text/plain": [
       "Map(center=[3.1257435633122834, 29.589663178011996], controls=(WidgetControl(options=['position', 'transparent…"
      ]
     },
     "metadata": {},
     "output_type": "display_data"
    }
   ],
   "source": [
    "true_color = modis.select([\n",
    "  'Nadir_Reflectance_Band1', 'Nadir_Reflectance_Band4',\n",
    "  'Nadir_Reflectance_Band3'\n",
    "])\n",
    "\n",
    "composite2020 = true_color.filter(ee.Filter.date('2020-01-01', '2020-12-31')).median().clip(roi1)\n",
    "composite2000 = true_color.filter(ee.Filter.date('2000-01-01', '2000-12-31')).median().clip(roi1)\n",
    "\n",
    "true_color_vis = {\n",
    "    'min': 0.0, \n",
    "    'max': 4000.0,\n",
    "    'gamma': 1.4,\n",
    "}\n",
    "\n",
    "Map = geemap.Map()\n",
    "Map.centerObject(roi1, 12)\n",
    "Map.addLayer(composite2000, true_color_vis, '2000 Median Composite')\n",
    "Map.addLayer(composite2020, true_color_vis, '2020 Median Composite')\n",
    "Map.addLayer(bare, {'color': 'brown'}, 'Bare Points')\n",
    "Map.addLayer(vegetation, {'color': 'green'}, 'Vegetation Points')\n",
    "Map"
   ]
  },
  {
   "cell_type": "code",
   "execution_count": 10,
   "id": "2526e9e2-fb81-4313-bef5-49ef34ded4c5",
   "metadata": {},
   "outputs": [
    {
     "data": {
      "application/vnd.jupyter.widget-view+json": {
       "model_id": "f508794a60eb4abebc060f1f0213f888",
       "version_major": 2,
       "version_minor": 0
      },
      "text/plain": [
       "Map(bottom=258024.0, center=[3.0333048637100815, 29.750297367558076], controls=(WidgetControl(options=['positi…"
      ]
     },
     "metadata": {},
     "output_type": "display_data"
    }
   ],
   "source": [
    "training = bare.merge(vegetation)\n",
    "\n",
    "# Overlay the point on the image to get training data.\n",
    "training = composite2020.sampleRegions(**{\n",
    "  'collection': training,\n",
    "  'properties': ['landcover'],\n",
    "  'scale': 1\n",
    "})\n",
    "\n",
    "# Train a classifier.\n",
    "classifier = ee.Classifier.smileRandomForest(50).train(**{\n",
    "  'features': training,\n",
    "  'classProperty': 'landcover',\n",
    "  'inputProperties': composite2020.bandNames()\n",
    "})\n",
    "\n",
    "# Classify the image.\n",
    "left_classified = composite2000.classify(classifier)\n",
    "Map.addLayer(left_classified,\n",
    "  {'min': 0, 'max': 1, 'palette': ['green', 'brown']}, '2000 Classified')\n",
    "\n",
    "# Classify the image.\n",
    "right_classified = composite2020.classify(classifier)\n",
    "Map.addLayer(right_classified,\n",
    "  {'min': 0, 'max': 1, 'palette': ['green', 'brown']}, '2020 Classified')\n",
    "\n",
    "Map"
   ]
  },
  {
   "cell_type": "code",
   "execution_count": 11,
   "id": "bcc1e735-eed5-4968-bee3-e2d9e607be43",
   "metadata": {},
   "outputs": [
    {
     "data": {
      "application/vnd.jupyter.widget-view+json": {
       "model_id": "f508794a60eb4abebc060f1f0213f888",
       "version_major": 2,
       "version_minor": 0
      },
      "text/plain": [
       "Map(bottom=258024.0, center=[3.1257435633122834, 29.589663178011996], controls=(WidgetControl(options=['positi…"
      ]
     },
     "metadata": {},
     "output_type": "display_data"
    }
   ],
   "source": [
    "# Reclassify from 0-3 to 1-4\n",
    "left_classes = left_classified.remap([0, 1], [1, 2])\n",
    "right_classes = right_classified.remap([0, 1], [1, 2])\n",
    "\n",
    "initial_vegetation = left_classes.eq(1)\n",
    "bare = right_classes.eq(2)\n",
    "vegetation_to_bare = initial_vegetation.And(bare)\n",
    "\n",
    "Map.addLayer(vegetation_to_bare, {'min': 0, 'max': 1, 'palette': ['white', 'brown']}, 'vegetation to bare')\n",
    "Map.centerObject(roi1, 12)\n",
    "Map"
   ]
  },
  {
   "cell_type": "code",
   "execution_count": 12,
   "id": "467344fc-bc8d-4caf-926a-a7c3d238f0de",
   "metadata": {},
   "outputs": [
    {
     "name": "stdout",
     "output_type": "stream",
     "text": [
      "Vegetation area in 2000: 55.41621163088233 sq km\n",
      "Area of Vegetation -> Bare from 2000-2020: 19.977357927941178 sq km\n",
      "% Change: 36.049663699508834 %\n"
     ]
    }
   ],
   "source": [
    "area_image = vegetation_to_bare.multiply(ee.Image.pixelArea())\n",
    "\n",
    "area = area_image.reduceRegion(**{\n",
    "  'reducer': ee.Reducer.sum(),\n",
    "  'geometry': roi1,\n",
    "  'scale': 1000,\n",
    "  'maxPixels': 1e10\n",
    "})\n",
    "\n",
    "area_vegetation_to_bare = ee.Number(area.get('remapped')).divide(1e6).getInfo()\n",
    "\n",
    "area_initial_vegetation = left_classified.eq(0).multiply(ee.Image.pixelArea())\n",
    "\n",
    "area2 = area_initial_vegetation.reduceRegion(**{\n",
    "  'reducer': ee.Reducer.sum(),\n",
    "  'geometry': roi1,\n",
    "  'scale': 1000,\n",
    "  'maxPixels': 1e10\n",
    "})\n",
    "\n",
    "area_initial_vegetation = ee.Number(area2.get('classification')).divide(1e6).getInfo()\n",
    "\n",
    "print('Vegetation area in 2000:', area_initial_vegetation, 'sq km')\n",
    "print('Area of Vegetation -> Bare from 2000-2020:', area_vegetation_to_bare, 'sq km')\n",
    "print('% Change:', area_vegetation_to_bare / area_initial_vegetation * 100, '%')"
   ]
  },
  {
   "cell_type": "code",
   "execution_count": 13,
   "id": "b2202f9b-d9c4-41cb-829c-a92f421239ca",
   "metadata": {},
   "outputs": [],
   "source": [
    "def calculate_percentage_change(feature):\n",
    "    g = feature.geometry()\n",
    "    true_color = modis.select([\n",
    "        'Nadir_Reflectance_Band1', 'Nadir_Reflectance_Band4',\n",
    "        'Nadir_Reflectance_Band3'\n",
    "    ])\n",
    "\n",
    "    composite2020 = true_color.filter(ee.Filter.date('2020-01-01', '2020-12-31')).median().clip(g)\n",
    "    composite2000 = true_color.filter(ee.Filter.date('2000-01-01', '2000-12-31')).median().clip(g)\n",
    "    \n",
    "    left_classified = composite2000.classify(classifier)\n",
    "    right_classified = composite2020.classify(classifier)\n",
    "    \n",
    "    # Reclassify from 0-3 to 1-4\n",
    "    left_classes = left_classified.remap([0, 1], [1, 2])\n",
    "    right_classes = right_classified.remap([0, 1], [1, 2])\n",
    "\n",
    "    initial_vegetation = left_classes.eq(1)\n",
    "    bare = right_classes.eq(2)\n",
    "    vegetation_to_bare = initial_vegetation.And(bare)\n",
    "    \n",
    "    area_image = vegetation_to_bare.multiply(ee.Image.pixelArea())\n",
    "\n",
    "    area = area_image.reduceRegion(**{\n",
    "      'reducer': ee.Reducer.sum(),\n",
    "      'geometry': g,\n",
    "      'scale': 1000,\n",
    "      'maxPixels': 1e10\n",
    "    })\n",
    "\n",
    "    area_vegetation_to_bare = ee.Number(area.get('remapped')).divide(1e6)\n",
    "\n",
    "    area_initial_vegetation = left_classified.eq(0).multiply(ee.Image.pixelArea())\n",
    "\n",
    "    area2 = area_initial_vegetation.reduceRegion(**{\n",
    "      'reducer': ee.Reducer.sum(),\n",
    "      'geometry': g,\n",
    "      'scale': 1000,\n",
    "      'maxPixels': 1e10\n",
    "    })\n",
    "\n",
    "    area_initial_vegetation = ee.Number(area2.get('classification')).divide(1e6)\n",
    "    \n",
    "    return feature.set('percent loss',  area_vegetation_to_bare.divide(area_initial_vegetation).multiply(100))"
   ]
  },
  {
   "cell_type": "markdown",
   "id": "a4efbcd2-28a8-47c7-949e-c0470e13146a",
   "metadata": {
    "jp-MarkdownHeadingCollapsed": true,
    "tags": []
   },
   "source": [
    "## Region Segmentation"
   ]
  },
  {
   "cell_type": "code",
   "execution_count": 14,
   "id": "9b2aa61d-d305-4f06-95cb-25c9790f4df9",
   "metadata": {},
   "outputs": [],
   "source": [
    "\"\"\"\n",
    "Segment the given geometry into squares of given size (in km)\n",
    ":param geometry: rectangle form geometry object\n",
    ":return: list including all squares\n",
    "\"\"\"\n",
    "def create_segments(geometry, size):\n",
    "    segments = []\n",
    "    r_earth, dy, dx, pi = ee.Number(6378), ee.Number(size), ee.Number(size), ee.Number(math.pi)\n",
    "    \n",
    "    coords = ee.List(geometry.coordinates().get(0)).slice(0, -1)\n",
    "    \n",
    "    top = ee.Number(ee.List(coords.get(2)).get(1))\n",
    "    left = ee.Number(ee.List(coords.get(0)).get(0))\n",
    "    \n",
    "    width = int(ee.Geometry.Point(coords.get(0)).distance(ee.Geometry.Point(coords.get(1))).divide(1000 * size).getInfo())\n",
    "    height = int(ee.Geometry.Point(coords.get(1)).distance(ee.Geometry.Point(coords.get(2))).divide(1000 * size).getInfo())\n",
    "\n",
    "    for y in range(height + 1):\n",
    "        left = ee.Number(ee.List(coords.get(0)).get(0))\n",
    "        for x in range(width + 1):\n",
    "            #\n",
    "            first = top\n",
    "            second = dx.divide(r_earth)\n",
    "            third = ee.Number(180).divide(pi)\n",
    "            con = pi.divide(ee.Number(180))\n",
    "            fourth = left.multiply(con).multiply(con).cos()\n",
    "            \n",
    "            new_lon = first.subtract(second.multiply(third).divide(fourth))\n",
    "            #new_lon = top - (dx / r_earth) * (180 / pi) / math.cos(math.radians(left * pi/180))\n",
    "            #new_lat = left  + (dy / r_earth) * (180 / pi)\n",
    "            new_lat = left.add((dy.divide(r_earth)).multiply((ee.Number(180).divide(pi))))\n",
    "            \n",
    "            square = ee.Geometry.Polygon(\n",
    "                [[[left, new_lon],\n",
    "                  [new_lat, new_lon],\n",
    "                  [new_lat, top],\n",
    "                  [left, top]]], None, False)\n",
    "            \n",
    "            segments.append(square)\n",
    "            \n",
    "            left = new_lat\n",
    "        top = new_lon\n",
    "        \n",
    "    return segments"
   ]
  },
  {
   "cell_type": "markdown",
   "id": "589f0b37-69da-48bc-8e2d-a4ec05cada41",
   "metadata": {},
   "source": [
    "## Workflow"
   ]
  },
  {
   "cell_type": "code",
   "execution_count": 15,
   "id": "d8940f46-a40f-4608-884b-76d39b3e06b3",
   "metadata": {},
   "outputs": [
    {
     "data": {
      "application/vnd.jupyter.widget-view+json": {
       "model_id": "9226d5e8468f4c5d92407b330ac97c87",
       "version_major": 2,
       "version_minor": 0
      },
      "text/plain": [
       "Map(center=[-4.064367300737955, 27.18857464339792], controls=(WidgetControl(options=['position', 'transparent_…"
      ]
     },
     "metadata": {},
     "output_type": "display_data"
    }
   ],
   "source": [
    "Map = geemap.Map()\n",
    "Map.centerObject(all, 5)\n",
    "\n",
    "drc = admin.filter(ee.Filter.eq('ADM0_NAME', 'Democratic Republic of the Congo'))\n",
    "\n",
    "def c(f):\n",
    "    filtered = s2 \\\n",
    "        .filter(ee.Filter.bounds(f.geometry())) \\\n",
    "        .filter(ee.Filter.date('2020-01-01', '2021-12-31')) \\\n",
    "        .filter(ee.Filter.lt('CLOUDY_PIXEL_PERCENTAGE', 20)) \\\n",
    "        .select('B.*')\n",
    "    \n",
    "    composite = filtered.median().clip(f.geometry())\n",
    "    return composite\n",
    "\n",
    "segments = create_segments(all, 10)\n",
    "first_half = ee.FeatureCollection(segments[:len(segments) // 2]).filter(ee.Filter.bounds(drc))\n",
    "second_half = ee.FeatureCollection(segments[len(segments) // 2:]).filter(ee.Filter.bounds(drc))\n",
    "\n",
    "with_p = first_half.map(calculate_percentage_change)\n",
    "passed1 = with_p.filter(ee.Filter.gt('percent loss', 1))\n",
    "#Map.addLayer(segments, {'color': 'red'}, '5x5 squares')\n",
    "composites1 = ee.ImageCollection(first_half.map(c))\n",
    "\n",
    "with_p = second_half.map(calculate_percentage_change)\n",
    "passed2 = with_p.filter(ee.Filter.gt('percent loss', 1))\n",
    "#Map.addLayer(segments, {'color': 'red'}, '5x5 squares')\n",
    "composites2 = ee.ImageCollection(second_half.map(c))\n",
    "\n",
    "Map.addLayer(composites1, rgb_vis_s2, 'Median Composites 2021 1')\n",
    "Map.addLayer(composites2, rgb_vis_s2, 'Median Composites 2021 2')\n",
    "Map.addLayer(active_mines, {'color': 'green'}, 'mapbox active mines')\n",
    "Map.addLayer(passed1, {'color': 'red'}, 'passed 1')\n",
    "Map.addLayer(passed2, {'color': 'red'}, 'passed 2')\n",
    "\n",
    "\n",
    "\n",
    "Map"
   ]
  },
  {
   "cell_type": "code",
   "execution_count": null,
   "id": "bffd420a-54a5-4ba6-b43a-b272d6b51363",
   "metadata": {},
   "outputs": [],
   "source": []
  }
 ],
 "metadata": {
  "kernelspec": {
   "display_name": "Python 3 (ipykernel)",
   "language": "python",
   "name": "python3"
  },
  "language_info": {
   "codemirror_mode": {
    "name": "ipython",
    "version": 3
   },
   "file_extension": ".py",
   "mimetype": "text/x-python",
   "name": "python",
   "nbconvert_exporter": "python",
   "pygments_lexer": "ipython3",
   "version": "3.7.11"
  }
 },
 "nbformat": 4,
 "nbformat_minor": 5
}
