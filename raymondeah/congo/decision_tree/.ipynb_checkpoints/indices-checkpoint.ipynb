{
 "cells": [
  {
   "cell_type": "code",
   "execution_count": 1,
   "id": "249b2d31-3223-4487-a578-4fde2230a544",
   "metadata": {},
   "outputs": [],
   "source": [
    "import ee\n",
    "import geemap\n",
    "import math\n",
    "ee.Initialize()"
   ]
  },
  {
   "cell_type": "markdown",
   "id": "116c2577-1bc2-46c8-a395-d64c1dcda2f9",
   "metadata": {
    "jp-MarkdownHeadingCollapsed": true,
    "tags": []
   },
   "source": [
    "## Imports"
   ]
  },
  {
   "cell_type": "code",
   "execution_count": 2,
   "id": "941be70d-2fca-417b-9852-4f8f496c3944",
   "metadata": {},
   "outputs": [],
   "source": [
    "ls5 = ee.ImageCollection('LANDSAT/LT05/C02/T1_L2')\n",
    "s2 = ee.ImageCollection(\"COPERNICUS/S2_SR\")\n",
    "admin = ee.FeatureCollection(\"FAO/GAUL/2015/level0\")\n",
    "active_mines = ee.FeatureCollection(\"users/raymondeah/cod_mines_curated_all_opendata_p_ipis\")"
   ]
  },
  {
   "cell_type": "code",
   "execution_count": 3,
   "id": "eb034661-adf3-4c90-8129-8ac55abeba31",
   "metadata": {},
   "outputs": [],
   "source": [
    "roi1 = ee.Geometry.Polygon(\n",
    "        [[[29.55790380570035, 3.155181297526245],\n",
    "          [29.55790380570035, 3.0979317431552875],\n",
    "          [29.616611996618317, 3.0979317431552875],\n",
    "          [29.616611996618317, 3.155181297526245]]])\n",
    "\n",
    "roi2 = ee.Geometry.Polygon(\n",
    "        [[[27.35, -7.5],\n",
    "          [27.35, -7.6],\n",
    "          [27.45, -7.6],\n",
    "          [27.45, -7.5]]])\n",
    "\n",
    "roi3 = ee.Geometry.Polygon(\n",
    "        [[[25.599767416235803, -10.585427828449394],\n",
    "          [25.599767416235803, -10.82359555219894],\n",
    "          [25.977297323462366, -10.82359555219894],\n",
    "          [25.977297323462366, -10.585427828449394]]])\n",
    "\n",
    "roi4 = ee.Geometry.Polygon(\n",
    "        [[[25.323804188546983, -10.58361361366121],\n",
    "          [25.323804188546983, -10.79345519007286],\n",
    "          [25.56138353425011, -10.79345519007286],\n",
    "          [25.56138353425011, -10.58361361366121]]])\n",
    "\n",
    "roi5 = ee.Geometry.Polygon(\n",
    "        [[[27.368776239322536, -7.300916615843068],\n",
    "          [27.368776239322536, -7.340417419206784],\n",
    "          [27.4176139010657, -7.340417419206784],\n",
    "          [27.4176139010657, -7.300916615843068]]])\n",
    "\n",
    "roi6 = ee.Geometry.Polygon(\n",
    "        [[[28.84879973081211, -5.016248778035446],\n",
    "        [28.84879973081211, -5.037794913801396],\n",
    "        [28.874162699256935, -5.037794913801396],\n",
    "        [28.874162699256935, -5.016248778035446]]])"
   ]
  },
  {
   "cell_type": "code",
   "execution_count": 4,
   "id": "77716bcc-324c-40e6-a9ab-fdc8ec9fd109",
   "metadata": {},
   "outputs": [],
   "source": [
    "rgb_vis_ls5 = {\n",
    "    'min': 8211.7,\n",
    "    'max': 11077.3,\n",
    "    'bands': ['SR_B3', 'SR_B2', 'SR_B1']\n",
    "}\n",
    "\n",
    "rgb_vis_s2 = {\n",
    "  'min': 0.0,\n",
    "  'max': 3000,\n",
    "  'bands': ['B4', 'B3', 'B2'],\n",
    "}"
   ]
  },
  {
   "cell_type": "code",
   "execution_count": 5,
   "id": "04ed3c86-4a31-4b55-9346-5b7fc3b1f991",
   "metadata": {},
   "outputs": [],
   "source": [
    "bare = ee.FeatureCollection(\n",
    "        [ee.Feature(\n",
    "            ee.Geometry.Point([29.566649352977876, 3.131936594576548]),\n",
    "            {\n",
    "              \"landcover\": 0,\n",
    "              \"system:index\": \"0\"\n",
    "            }),\n",
    "        ee.Feature(\n",
    "            ee.Geometry.Point([29.594069479589553, 3.143136886698536]),\n",
    "            {\n",
    "              \"landcover\": 0,\n",
    "              \"system:index\": \"1\"\n",
    "            }),\n",
    "        ee.Feature(\n",
    "            ee.Geometry.Point([29.578229613742543, 3.109209943820683]),\n",
    "            {\n",
    "              \"landcover\": 0,\n",
    "              \"system:index\": \"2\"\n",
    "            }),\n",
    "        ee.Feature(\n",
    "            ee.Geometry.Point([29.581158585986806, 3.1067030888196494]),\n",
    "            {\n",
    "              \"landcover\": 0,\n",
    "              \"system:index\": \"3\"\n",
    "            }),\n",
    "        ee.Feature(\n",
    "            ee.Geometry.Point([29.55884031463487, 3.11517956941471]),\n",
    "            {\n",
    "              \"landcover\": 0,\n",
    "              \"system:index\": \"4\"\n",
    "            })])\n",
    "\n",
    "vegetation = ee.FeatureCollection(\n",
    "        [ee.Feature(\n",
    "            ee.Geometry.Point([29.581819366025293, 3.132088091449441]),\n",
    "            {\n",
    "              \"landcover\": 1,\n",
    "              \"system:index\": \"0\"\n",
    "            }),\n",
    "        ee.Feature(\n",
    "            ee.Geometry.Point([29.595938514279688, 3.131445322675145]),\n",
    "            {\n",
    "              \"landcover\": 1,\n",
    "              \"system:index\": \"1\"\n",
    "            }),\n",
    "        ee.Feature(\n",
    "            ee.Geometry.Point([29.59962923388418, 3.1347448648629315]),\n",
    "            {\n",
    "              \"landcover\": 1,\n",
    "              \"system:index\": \"2\"\n",
    "            }),\n",
    "        ee.Feature(\n",
    "            ee.Geometry.Point([29.565039466428125, 3.104877202480009]),\n",
    "            {\n",
    "              \"landcover\": 1,\n",
    "              \"system:index\": \"3\"\n",
    "            }),\n",
    "        ee.Feature(\n",
    "            ee.Geometry.Point([29.607741346488673, 3.1193612914096605]),\n",
    "            {\n",
    "              \"landcover\": 1,\n",
    "              \"system:index\": \"4\"\n",
    "            })])"
   ]
  },
  {
   "cell_type": "code",
   "execution_count": 6,
   "id": "1aeb4859-4c24-4dfa-85ea-ab2b64b0b17d",
   "metadata": {},
   "outputs": [],
   "source": [
    "bare_s = ee.FeatureCollection(\n",
    "        [ee.Feature(\n",
    "            ee.Geometry.Point([29.588761955782978, 3.110552597531067]),\n",
    "            {\n",
    "              \"landcover\": 0,\n",
    "              \"system:index\": \"0\"\n",
    "            }),\n",
    "        ee.Feature(\n",
    "            ee.Geometry.Point([29.590113789126484, 3.1101669284095776]),\n",
    "            {\n",
    "              \"landcover\": 0,\n",
    "              \"system:index\": \"1\"\n",
    "            }),\n",
    "        ee.Feature(\n",
    "            ee.Geometry.Point([29.570400011069342, 3.114240974803364]),\n",
    "            {\n",
    "              \"landcover\": 0,\n",
    "              \"system:index\": \"2\"\n",
    "            }),\n",
    "        ee.Feature(\n",
    "            ee.Geometry.Point([29.56574369621949, 3.114048140935224]),\n",
    "            {\n",
    "              \"landcover\": 0,\n",
    "              \"system:index\": \"3\"\n",
    "            }),\n",
    "        ee.Feature(\n",
    "            ee.Geometry.Point([29.566300979571633, 3.1296952794920045]),\n",
    "            {\n",
    "              \"landcover\": 0,\n",
    "              \"system:index\": \"4\"\n",
    "            })])\n",
    "\n",
    "vegetation_s = ee.FeatureCollection(\n",
    "        [ee.Feature(\n",
    "            ee.Geometry.Point([29.61279975505381, 3.134623171579494]),\n",
    "            {\n",
    "              \"landcover\": 1,\n",
    "              \"system:index\": \"0\"\n",
    "            }),\n",
    "        ee.Feature(\n",
    "            ee.Geometry.Point([29.620696178393654, 3.1514206812868597]),\n",
    "            {\n",
    "              \"landcover\": 1,\n",
    "              \"system:index\": \"1\"\n",
    "            }),\n",
    "        ee.Feature(\n",
    "            ee.Geometry.Point([29.60730659099131, 3.15656272195781]),\n",
    "            {\n",
    "              \"landcover\": 1,\n",
    "              \"system:index\": \"2\"\n",
    "            }),\n",
    "        ee.Feature(\n",
    "            ee.Geometry.Point([29.609366527514748, 3.1041127202608414]),\n",
    "            {\n",
    "              \"landcover\": 1,\n",
    "              \"system:index\": \"3\"\n",
    "            }),\n",
    "        ee.Feature(\n",
    "            ee.Geometry.Point([29.561301341967873, 3.0982847807562592]),\n",
    "            {\n",
    "              \"landcover\": 1,\n",
    "              \"system:index\": \"4\"\n",
    "            })])"
   ]
  },
  {
   "cell_type": "markdown",
   "id": "1c337493-cba7-4d3e-b505-f742b9e404ad",
   "metadata": {
    "jp-MarkdownHeadingCollapsed": true,
    "tags": []
   },
   "source": [
    "## Classification/Areal Change"
   ]
  },
  {
   "cell_type": "code",
   "execution_count": 7,
   "id": "42f3eb66-a680-409c-bd33-2fe9e19541c7",
   "metadata": {},
   "outputs": [],
   "source": [
    "# def applyScaleFactors(image):\n",
    "#     opticalBands = image.select('SR_B.*').multiply(0.0000275).add(-0.2)\n",
    "#     thermalBand = image.select('ST_B6').multiply(0.00341802).add(149.0)\n",
    "#     return image.addBands(opticalBands, None, True).addBands(thermalBand, None, True);\n",
    "\n",
    "# ls5 = ls5.map(applyScaleFactors)"
   ]
  },
  {
   "cell_type": "code",
   "execution_count": 8,
   "id": "34e1f5a5-5b75-4e51-8f90-f9fdf6fa48d6",
   "metadata": {},
   "outputs": [],
   "source": [
    "training = bare.merge(vegetation)\n",
    "\n",
    "composite1985 = ls5 \\\n",
    "        .filter(ee.Filter.bounds(roi1)) \\\n",
    "        .filter(ee.Filter.date('1985-01-01', '1986-01-01')) \\\n",
    "        .filter(ee.Filter.lt('CLOUD_COVER', 20)) \\\n",
    "        .select('SR_B.*') \\\n",
    "        .median() \\\n",
    "        .clip(roi1)\n",
    "\n",
    "# Overlay the point on the image to get training data.\n",
    "training = composite1985.sampleRegions(**{\n",
    "  'collection': training,\n",
    "  'properties': ['landcover'],\n",
    "  'scale': 1\n",
    "})\n",
    "\n",
    "# Train a classifier.\n",
    "classifier_ls = ee.Classifier.smileRandomForest(50).train(**{\n",
    "  'features': training,\n",
    "  'classProperty': 'landcover',\n",
    "  'inputProperties': composite1985.bandNames()\n",
    "})\n",
    "\n",
    "# Classify the image.\n",
    "classified = composite1985.classify(classifier_ls)\n",
    "\n",
    "# Map.addLayer(classified,\n",
    "#   {'min': 0, 'max': 1, 'palette': ['brown', 'green']}, '1985 LS5 Classified')\n",
    "\n",
    "# Map"
   ]
  },
  {
   "cell_type": "code",
   "execution_count": 9,
   "id": "c5cbdf4c-0ffd-4696-8bfe-dce6d8b639ea",
   "metadata": {},
   "outputs": [],
   "source": [
    "training = bare_s.merge(vegetation_s)\n",
    "\n",
    "composite2021 = s2 \\\n",
    "        .filter(ee.Filter.bounds(roi1)) \\\n",
    "        .filter(ee.Filter.date('2021-01-01', '2021-12-31')) \\\n",
    "        .filter(ee.Filter.lt('CLOUDY_PIXEL_PERCENTAGE', 20)) \\\n",
    "        .select('B.*') \\\n",
    "        .median() \\\n",
    "        .clip(roi1) \\\n",
    "\n",
    "# Overlay the point on the image to get training data.\n",
    "training = composite2021.sampleRegions(**{\n",
    "  'collection': training,\n",
    "  'properties': ['landcover'],\n",
    "  'scale': 1\n",
    "})\n",
    "\n",
    "# Train a classifier.\n",
    "classifier_s2 = ee.Classifier.smileRandomForest(50).train(**{\n",
    "  'features': training,\n",
    "  'classProperty': 'landcover',\n",
    "  'inputProperties': composite2021.bandNames()\n",
    "})\n",
    "\n",
    "# Classify the image.\n",
    "classified = composite2021.classify(classifier_s2)\n",
    "\n",
    "# Map.addLayer(classified,\n",
    "#   {'min': 0, 'max': 1, 'palette': ['brown', 'green']}, '2021 S2 Classified')\n",
    "\n",
    "# Map"
   ]
  },
  {
   "cell_type": "code",
   "execution_count": 10,
   "id": "30e13cad-0055-43fc-8ae4-8eddc6150259",
   "metadata": {},
   "outputs": [],
   "source": [
    "def calculate_percentage_change(feature):\n",
    "    g = feature.geometry()\n",
    "\n",
    "    composite_ls = ls5 \\\n",
    "        .filter(ee.Filter.bounds(g)) \\\n",
    "        .filter(ee.Filter.date('1985-01-01', '1990-12-31')) \\\n",
    "        .filter(ee.Filter.lt('CLOUD_COVER', 20)) \\\n",
    "        .select('SR_B.*') \\\n",
    "        .median() \\\n",
    "        .clip(g)\n",
    "    \n",
    "    composite_s2 = s2 \\\n",
    "        .filter(ee.Filter.bounds(g)) \\\n",
    "        .filter(ee.Filter.date('2021-01-01', '2021-12-31')) \\\n",
    "        .filter(ee.Filter.lt('CLOUDY_PIXEL_PERCENTAGE', 20)) \\\n",
    "        .select('B.*') \\\n",
    "        .median() \\\n",
    "        .clip(g) \\\n",
    "    \n",
    "    left_classified = composite_ls.classify(classifier_ls)\n",
    "    right_classified = composite_s2.classify(classifier_s2)\n",
    "    \n",
    "    # Reclassify from 0-1 to 1-2\n",
    "    left_classes = left_classified.remap([0, 1], [1, 2])\n",
    "    right_classes = right_classified.remap([0, 1], [1, 2])\n",
    "\n",
    "    initial_vegetation = left_classes.eq(2)\n",
    "    bare = right_classes.eq(1)\n",
    "    vegetation_to_bare = initial_vegetation.And(bare)\n",
    "    \n",
    "    area_image = vegetation_to_bare.multiply(ee.Image.pixelArea())\n",
    "\n",
    "    area = area_image.reduceRegion(**{\n",
    "      'reducer': ee.Reducer.sum(),\n",
    "      'geometry': g,\n",
    "      'scale': 100,\n",
    "      'maxPixels': 1e10\n",
    "    })\n",
    "\n",
    "    area_vegetation_to_bare = ee.Number(area.get('remapped')).divide(1e6)\n",
    "\n",
    "    area_initial_vegetation = left_classified.eq(1).multiply(ee.Image.pixelArea())\n",
    "\n",
    "    area2 = area_initial_vegetation.reduceRegion(**{\n",
    "      'reducer': ee.Reducer.sum(),\n",
    "      'geometry': g,\n",
    "      'scale': 100,\n",
    "      'maxPixels': 1e10\n",
    "    })\n",
    "\n",
    "    area_initial_vegetation = ee.Number(area2.get('classification')).divide(1e6)\n",
    "    \n",
    "    percent_loss = area_vegetation_to_bare.divide(area_initial_vegetation).multiply(100)\n",
    "    \n",
    "    return feature.set('percent loss',  percent_loss)"
   ]
  },
  {
   "cell_type": "markdown",
   "id": "b3264fd6-dd11-4059-bca6-94884aec65a3",
   "metadata": {
    "tags": []
   },
   "source": [
    "## Squares"
   ]
  },
  {
   "cell_type": "code",
   "execution_count": 11,
   "id": "d34decb1-dd79-487f-a4c5-92834ecb6ad0",
   "metadata": {},
   "outputs": [],
   "source": [
    "\"\"\"\n",
    "Segment the given geometry into squares of given size (in km)\n",
    ":param geometry: rectangle form geometry object\n",
    ":return: list including all squares\n",
    "\"\"\"\n",
    "def create_segments(geometry, size):\n",
    "    segments = []\n",
    "    r_earth, dy, dx, pi = ee.Number(6378), ee.Number(size), ee.Number(size), ee.Number(math.pi)\n",
    "    \n",
    "    coords = ee.List(geometry.coordinates().get(0)).slice(0, -1)\n",
    "    \n",
    "    top = ee.Number(ee.List(coords.get(2)).get(1))\n",
    "    left = ee.Number(ee.List(coords.get(0)).get(0))\n",
    "    \n",
    "    width = int(ee.Geometry.Point(coords.get(0)).distance(ee.Geometry.Point(coords.get(1))).divide(1000 * size).getInfo())\n",
    "    height = int(ee.Geometry.Point(coords.get(1)).distance(ee.Geometry.Point(coords.get(2))).divide(1000 * size).getInfo())\n",
    "\n",
    "    for y in range(height + 1):\n",
    "        left = ee.Number(ee.List(coords.get(0)).get(0))\n",
    "        for x in range(width + 1):\n",
    "            #\n",
    "            first = top\n",
    "            second = dx.divide(r_earth)\n",
    "            third = ee.Number(180).divide(pi)\n",
    "            con = pi.divide(ee.Number(180))\n",
    "            fourth = left.multiply(con).multiply(con).cos()\n",
    "            \n",
    "            new_lon = first.subtract(second.multiply(third).divide(fourth))\n",
    "            #new_lon = top - (dx / r_earth) * (180 / pi) / math.cos(math.radians(left * pi/180))\n",
    "            #new_lat = left  + (dy / r_earth) * (180 / pi)\n",
    "            new_lat = left.add((dy.divide(r_earth)).multiply((ee.Number(180).divide(pi))))\n",
    "            \n",
    "            square = ee.Geometry.Polygon(\n",
    "                [[[left, new_lon],\n",
    "                  [new_lat, new_lon],\n",
    "                  [new_lat, top],\n",
    "                  [left, top]]])\n",
    "            \n",
    "            segments.append(square)\n",
    "            \n",
    "            left = new_lat\n",
    "        top = new_lon\n",
    "        \n",
    "    return segments"
   ]
  },
  {
   "cell_type": "markdown",
   "id": "2620656d-a1b3-4698-879c-7cd745fc6842",
   "metadata": {},
   "source": [
    "## Revised Workflow"
   ]
  },
  {
   "cell_type": "code",
   "execution_count": 12,
   "id": "f7037454-33a0-4aea-a9c2-221345354feb",
   "metadata": {},
   "outputs": [],
   "source": [
    "def filter_by_vegetation_loss(squares, threshold):\n",
    "    with_percent_change = squares.map(calculate_percentage_change)\n",
    "    passed = with_percent_change.filter(ee.Filter.gt('percent loss', threshold))\n",
    "    return passed"
   ]
  },
  {
   "cell_type": "code",
   "execution_count": 13,
   "id": "9b735be2-7e30-414f-bc6c-134575637d4f",
   "metadata": {},
   "outputs": [],
   "source": [
    "def create_median_composite(feature):\n",
    "    filtered = s2 \\\n",
    "        .filter(ee.Filter.bounds(feature.geometry())) \\\n",
    "        .filter(ee.Filter.date('2021-01-01', '2021-12-31')) \\\n",
    "        .filter(ee.Filter.lt('CLOUDY_PIXEL_PERCENTAGE', 20)) \\\n",
    "        .select('B.*')\n",
    "    \n",
    "    composite = filtered.median().clip(feature.geometry())\n",
    "    return composite"
   ]
  },
  {
   "cell_type": "code",
   "execution_count": 14,
   "id": "9530fc58-7d5a-4a3e-b00d-b07284f20eb3",
   "metadata": {},
   "outputs": [],
   "source": [
    "def create_ndwi(image):\n",
    "    g = image.geometry()\n",
    "    composite_s2 = s2 \\\n",
    "        .filter(ee.Filter.bounds(g)) \\\n",
    "        .filter(ee.Filter.date('2021-01-01', '2021-12-31')) \\\n",
    "        .filter(ee.Filter.lt('CLOUDY_PIXEL_PERCENTAGE', 20)) \\\n",
    "        .select('B.*') \\\n",
    "        .median() \\\n",
    "        .clip(g) \n",
    "    \n",
    "    ndwi = composite_s2.normalizedDifference(['B3', 'B8']).rename('ndwi')\n",
    "    return ndwi"
   ]
  },
  {
   "cell_type": "code",
   "execution_count": 15,
   "id": "be5f5b84-6f5c-485f-b7a7-3b8981fa03b4",
   "metadata": {},
   "outputs": [],
   "source": [
    "def create_mndwi(image):\n",
    "    g = image.geometry()\n",
    "    composite_s2 = s2 \\\n",
    "        .filter(ee.Filter.bounds(g)) \\\n",
    "        .filter(ee.Filter.date('2021-01-01', '2021-12-31')) \\\n",
    "        .filter(ee.Filter.lt('CLOUDY_PIXEL_PERCENTAGE', 20)) \\\n",
    "        .select('B.*') \\\n",
    "        .median() \\\n",
    "        .clip(g) \n",
    "    \n",
    "    mndwi = composite_s2.normalizedDifference(['B3', 'B11']).rename('mndwi')\n",
    "    return mndwi"
   ]
  },
  {
   "cell_type": "code",
   "execution_count": 16,
   "id": "92230d6b-9c4c-480f-94cf-bddae35ccc44",
   "metadata": {},
   "outputs": [],
   "source": [
    "def create_nir_g(image):\n",
    "    g = image.geometry()\n",
    "    composite_s2 = s2 \\\n",
    "        .filter(ee.Filter.bounds(g)) \\\n",
    "        .filter(ee.Filter.date('2021-01-01', '2021-12-31')) \\\n",
    "        .filter(ee.Filter.lt('CLOUDY_PIXEL_PERCENTAGE', 20)) \\\n",
    "        .select('B.*') \\\n",
    "        .median() \\\n",
    "        .clip(g) \n",
    "    \n",
    "    nir_g = composite_s2.normalizedDifference(['B8', 'B3']).rename('nir_g')\n",
    "    return nir_g"
   ]
  },
  {
   "cell_type": "code",
   "execution_count": 41,
   "id": "442f3a62-ace0-41ba-a1a2-2752ec8ff281",
   "metadata": {},
   "outputs": [],
   "source": [
    "def create_nir_swir2(image):\n",
    "    g = image.geometry()\n",
    "    composite_s2 = s2 \\\n",
    "        .filter(ee.Filter.bounds(g)) \\\n",
    "        .filter(ee.Filter.date('2021-01-01', '2021-12-31')) \\\n",
    "        .filter(ee.Filter.lt('CLOUDY_PIXEL_PERCENTAGE', 20)) \\\n",
    "        .select('B.*') \\\n",
    "        .median() \\\n",
    "        .clip(g) \n",
    "    \n",
    "    nir_swir2 = composite_s2.normalizedDifference(['B8', 'B12']).rename('nir_swir2')\n",
    "   # nir_swir2 = composite_s2.normalizedDifference(['B11', 'B8']).rename('nir_swir2')\n",
    "    # nir_swir2 = composite_s2.normalizedDifference(['B7', 'B4']).rename('nir_swir2')\n",
    "    return nir_swir2"
   ]
  },
  {
   "cell_type": "code",
   "execution_count": 18,
   "id": "a66d750e-cab9-41ec-b0c3-423da36561b8",
   "metadata": {},
   "outputs": [],
   "source": [
    "def create_re3_r(image):\n",
    "    g = image.geometry()\n",
    "    composite_s2 = s2 \\\n",
    "        .filter(ee.Filter.bounds(g)) \\\n",
    "        .filter(ee.Filter.date('2021-01-01', '2021-12-31')) \\\n",
    "        .filter(ee.Filter.lt('CLOUDY_PIXEL_PERCENTAGE', 20)) \\\n",
    "        .select('B.*') \\\n",
    "        .median() \\\n",
    "        .clip(g) \n",
    "    \n",
    "    re3_r = composite_s2.normalizedDifference(['B7', 'B4']).rename('re3_r')\n",
    "    return re3_r"
   ]
  },
  {
   "cell_type": "code",
   "execution_count": 19,
   "id": "ded075cc-3c51-47b9-b989-97ebbd3273ee",
   "metadata": {},
   "outputs": [],
   "source": [
    "def create_swir_b(image):\n",
    "    g = image.geometry()\n",
    "    composite_s2 = s2 \\\n",
    "        .filter(ee.Filter.bounds(g)) \\\n",
    "        .filter(ee.Filter.date('2021-01-01', '2021-12-31')) \\\n",
    "        .filter(ee.Filter.lt('CLOUDY_PIXEL_PERCENTAGE', 20)) \\\n",
    "        .select('B.*') \\\n",
    "        .median() \\\n",
    "        .clip(g) \n",
    "    \n",
    "    swir_b = composite_s2.normalizedDifference(['B11', 'B2']).rename('swir_b')\n",
    "    return swir_b"
   ]
  },
  {
   "cell_type": "code",
   "execution_count": 20,
   "id": "c4a46569-b27c-487e-9f03-be83fe3a6f79",
   "metadata": {},
   "outputs": [],
   "source": [
    "def calculate_nir_g_value(feature):\n",
    "    g = feature.geometry()\n",
    "    composite_s2 = s2 \\\n",
    "        .filter(ee.Filter.bounds(g)) \\\n",
    "        .filter(ee.Filter.date('2021-01-01', '2021-12-31')) \\\n",
    "        .filter(ee.Filter.lt('CLOUDY_PIXEL_PERCENTAGE', 20)) \\\n",
    "        .select('B.*') \\\n",
    "        .median() \\\n",
    "        .clip(g) \n",
    "    nir_g = composite_s2.normalizedDifference(['B8', 'B3']).rename('nir_g')\n",
    "    stats = nir_g.reduceRegion(**{\n",
    "        'reducer': ee.Reducer.mean(),\n",
    "        'geometry': g,\n",
    "        'scale': 100,\n",
    "        'maxPixels': 1e10\n",
    "    })\n",
    "    nir_g_val = stats.get('nir_g')\n",
    "    \n",
    "    return feature.set('nir_g', nir_g_val)"
   ]
  },
  {
   "cell_type": "code",
   "execution_count": 21,
   "id": "b32c6aaa-e12a-4301-b833-e9c2a5dd9cc8",
   "metadata": {},
   "outputs": [],
   "source": [
    "def calculate_mndwi_value(feature):\n",
    "    g = feature.geometry()\n",
    "    composite_s2 = s2 \\\n",
    "        .filter(ee.Filter.bounds(g)) \\\n",
    "        .filter(ee.Filter.date('2021-01-01', '2021-12-31')) \\\n",
    "        .filter(ee.Filter.lt('CLOUDY_PIXEL_PERCENTAGE', 20)) \\\n",
    "        .select('B.*') \\\n",
    "        .median() \\\n",
    "        .clip(g) \n",
    "    mndwi = composite_s2.normalizedDifference(['B3', 'B11']).rename('mndwi')\n",
    "    stats = mndwi.reduceRegion(**{\n",
    "        'reducer': ee.Reducer.mean(),\n",
    "        'geometry': g,\n",
    "        'scale': 100,\n",
    "        'maxPixels': 1e10\n",
    "    })\n",
    "    mndwi_val = stats.get('mndwi')\n",
    "    \n",
    "    return feature.set('mndwi', mndwi_val)"
   ]
  },
  {
   "cell_type": "code",
   "execution_count": 22,
   "id": "98e5803d-0eff-48a8-87b3-6678a87a5827",
   "metadata": {},
   "outputs": [],
   "source": [
    "def calculate_nir_swir2_value(feature):\n",
    "    g = feature.geometry()\n",
    "    composite_s2 = s2 \\\n",
    "        .filter(ee.Filter.bounds(g)) \\\n",
    "        .filter(ee.Filter.date('2021-01-01', '2021-12-31')) \\\n",
    "        .filter(ee.Filter.lt('CLOUDY_PIXEL_PERCENTAGE', 20)) \\\n",
    "        .select('B.*') \\\n",
    "        .median() \\\n",
    "        .clip(g) \n",
    "    nir_swir2 = composite_s2.normalizedDifference(['B8', 'B12']).rename('nir_swir2')\n",
    "    stats = nir_swir2.reduceRegion(**{\n",
    "        'reducer': ee.Reducer.mean(),\n",
    "        'geometry': g,\n",
    "        'scale': 100,\n",
    "        'maxPixels': 1e10\n",
    "    })\n",
    "    nir_swir2_val = stats.get('nir_swir2')\n",
    "    \n",
    "    return feature.set('nir_swir2', nir_swir2_val)"
   ]
  },
  {
   "cell_type": "code",
   "execution_count": 23,
   "id": "a9a6063f-181a-4f99-bbe2-04cac2af2d44",
   "metadata": {},
   "outputs": [],
   "source": [
    "def calculate_re3_r_value(feature):\n",
    "    g = feature.geometry()\n",
    "    composite_s2 = s2 \\\n",
    "        .filter(ee.Filter.bounds(g)) \\\n",
    "        .filter(ee.Filter.date('2021-01-01', '2021-12-31')) \\\n",
    "        .filter(ee.Filter.lt('CLOUDY_PIXEL_PERCENTAGE', 20)) \\\n",
    "        .select('B.*') \\\n",
    "        .median() \\\n",
    "        .clip(g) \n",
    "    re3_r = composite_s2.normalizedDifference(['B11', 'B2']).rename('re3_r')\n",
    "    stats = re3_r.reduceRegion(**{\n",
    "        'reducer': ee.Reducer.mean(),\n",
    "        'geometry': g,\n",
    "        'scale': 100,\n",
    "        'maxPixels': 1e10\n",
    "    })\n",
    "    re3_r_val = stats.get('re3_r')\n",
    "    \n",
    "    return feature.set('re3_r', re3_r_val)"
   ]
  },
  {
   "cell_type": "code",
   "execution_count": 24,
   "id": "1c93496d-599e-4483-a33d-c7681a674da1",
   "metadata": {},
   "outputs": [],
   "source": [
    "def calculate_swir_b_value(feature):\n",
    "    g = feature.geometry()\n",
    "    composite_s2 = s2 \\\n",
    "        .filter(ee.Filter.bounds(g)) \\\n",
    "        .filter(ee.Filter.date('2021-01-01', '2021-12-31')) \\\n",
    "        .filter(ee.Filter.lt('CLOUDY_PIXEL_PERCENTAGE', 20)) \\\n",
    "        .select('B.*') \\\n",
    "        .median() \\\n",
    "        .clip(g) \n",
    "    swir_b = composite_s2.normalizedDifference(['B11','B2']).rename('swir_b')\n",
    "    stats = swir_b.reduceRegion(**{\n",
    "        'reducer': ee.Reducer.mean(),\n",
    "        'geometry': g,\n",
    "        'scale': 100,\n",
    "        'maxPixels': 1e10\n",
    "    })\n",
    "    swir_b_val = stats.get('swir_b')\n",
    "    \n",
    "    return feature.set('swir_b', swir_b_val)"
   ]
  },
  {
   "cell_type": "code",
   "execution_count": 25,
   "id": "a47f62db-d1bb-4680-9267-a247dff73478",
   "metadata": {},
   "outputs": [],
   "source": [
    "def filter_by_nir_g_value(squares, threshold):\n",
    "    with_nir_g = squares.map(calculate_nir_g_value)\n",
    "    passed = with_nir_g.filter(ee.Filter.lte('nir_g', threshold))\n",
    "    return passed"
   ]
  },
  {
   "cell_type": "code",
   "execution_count": 26,
   "id": "f95c4a45-589e-4615-816b-68ef5d19254d",
   "metadata": {},
   "outputs": [],
   "source": [
    "def filter_by_nir_swir2_value(squares, threshold):\n",
    "    with_nir_swir2 = squares.map(calculate_nir_swir2_value)\n",
    "    passed = with_nir_swir2.filter(ee.Filter.lte('nir_swir2', threshold))\n",
    "    return passed"
   ]
  },
  {
   "cell_type": "code",
   "execution_count": 27,
   "id": "f920e18c-7bd9-499d-8d9c-a0960d93e506",
   "metadata": {},
   "outputs": [],
   "source": [
    "def filter_by_mndwi_value(squares, threshold):\n",
    "    with_mndwi = squares.map(calculate_mndwi_value)\n",
    "    passed = with_mndwi.filter(ee.Filter.gt('mndwi', threshold))\n",
    "    return passed"
   ]
  },
  {
   "cell_type": "code",
   "execution_count": 28,
   "id": "69bf27c4-86cb-4df5-bedc-656eec3c25da",
   "metadata": {},
   "outputs": [],
   "source": [
    "def filter_by_re3_r_value(squares, threshold):\n",
    "    with_re3_r = squares.map(calculate_re3_r_value)\n",
    "    passed = with_re3_r.filter(ee.Filter.lte('re3_r', threshold))\n",
    "    return passed"
   ]
  },
  {
   "cell_type": "code",
   "execution_count": 29,
   "id": "c184b2bd-c52e-44b5-87fc-f8318063201c",
   "metadata": {},
   "outputs": [],
   "source": [
    "def filter_by_swir_b_value(squares, threshold):\n",
    "    with_swir_b = squares.map(calculate_swir_b_value)\n",
    "    passed = with_swir_b.filter(ee.Filter.lte('swir_b', threshold))\n",
    "    return passed"
   ]
  },
  {
   "cell_type": "code",
   "execution_count": 42,
   "id": "d4b2a1fb-64e8-4a80-a839-52a543546846",
   "metadata": {},
   "outputs": [],
   "source": [
    "def classify(geometry, size):\n",
    "    Map = geemap.Map()\n",
    "    Map.centerObject(geometry, 12)\n",
    "    \n",
    "    drc = admin.filter(ee.Filter.eq('ADM0_NAME', 'Democratic Republic of the Congo'))\n",
    "    segments = ee.FeatureCollection(create_segments(geometry, size)).filter(ee.Filter.bounds(drc))\n",
    "#     passed_vegetation_loss = filter_by_vegetation_loss(segments, 20)\n",
    "#     passed_nir_g = filter_by_nir_g_value(passed_vegetation_loss, 0.45)\n",
    "#     passed_nir_swir2 = filter_by_nir_swir2_value(passed_vegetation_loss, 0.5)\n",
    "#     passed_mndwi = filter_by_mndwi_value(segments, 0.01)\n",
    "#     passed_re3_r = filter_by_re3_r_value(segments, 0.6)\n",
    "#     passed_swir_b = filter_by_swir_b_value(segments, 0.6)\n",
    "    \n",
    "    composites = ee.ImageCollection(ee.FeatureCollection(geometry).map(create_median_composite))\n",
    "    \n",
    "    # legend_dict = {\n",
    "    # 'Mapbox Active Coltan Mines': '4deeea',\n",
    "    # 'Passed 20% Vegetation Loss': 'ff0000'\n",
    "    # }\n",
    "    \n",
    "    #ap.add_legend(legend_title = 'Legend', legend_dict = legend_dict, position = 'topright')\n",
    "    Map.addLayer(composites, rgb_vis_s2, 'Median Composites 2021')\n",
    "    #Map.addLayer(passed_vegetation_loss, {'color': 'red'}, 'Passed 20% Vegetation Loss', opacity=0.7)\n",
    "    #Map.addLayer(passed_re3_r, {'color': 'pink'}, 'Passed UI', opacity=0.7)\n",
    "    #Map.addLayer(passed_swir_b, {'color': 'blue'}, 'Passed 0.6 SWIR/B Value', opacity=0.7)\n",
    "    #Map.addLayer(passed_nir_g, {'color': 'yellow'}, 'Passed 0.5 NIR/G Value', opacity=0.7)\n",
    "    #Map.addLayer(passed_nir_swir2, {'color': 'blue'}, 'Passed 0.5 NIR/SWIR2 Value', opacity=0.7)\n",
    "    #Map.addLayer(passed_mndwi, {'color': 'cyan'}, 'Passed 0.2 MNMDWI Threshold', opacity=0.7)\n",
    "   # Map.addLayer(active_mines, {'color': '4deeea'}, 'Active Coltan Mines')\n",
    "    \n",
    "    ndwi = ee.ImageCollection(composites.map(create_ndwi))\n",
    "    mndwi = ee.ImageCollection(composites.map(create_mndwi))\n",
    "    nir_g = ee.ImageCollection(composites.map(create_nir_g))\n",
    "    nir_swir2 = ee.ImageCollection(composites.map(create_nir_swir2))\n",
    "    re3_r = ee.ImageCollection(composites.map(create_re3_r))\n",
    "    swir_b = ee.ImageCollection(composites.map(create_swir_b))\n",
    "    Map.addLayer(ndwi, {'min': 0, 'max': 1, 'palette': ['white', 'blue']}, 'NDWI')\n",
    "    Map.addLayer(mndwi, {'min': 0, 'max': 1, 'palette': ['white', 'blue']}, 'MNDWI')\n",
    "    Map.addLayer(nir_g, {'min': 0, 'max': 1, 'palette': ['white', 'green']}, 'NIR/G')\n",
    "    Map.addLayer(nir_swir2, {'min': 0, 'max': 1, 'palette': ['white', 'red']}, 'NIR/SWIR2')\n",
    "    Map.addLayer(re3_r, {'min': 0, 'max': 1, 'palette': ['white', 'red']}, 'RE3/R')\n",
    "    Map.addLayer(swir_b, {'min': 0, 'max': 1, 'palette': ['white', 'blue']}, 'SWIR/B')\n",
    "    \n",
    "    return Map"
   ]
  },
  {
   "cell_type": "code",
   "execution_count": 43,
   "id": "7074c629-0623-4491-9b49-5c861a8f0db0",
   "metadata": {},
   "outputs": [
    {
     "data": {
      "application/vnd.jupyter.widget-view+json": {
       "model_id": "f6659b1a44564d99b2c01bc5aad95113",
       "version_major": 2,
       "version_minor": 0
      },
      "text/plain": [
       "Map(center=[3.126556669465808, 29.587257901158363], controls=(WidgetControl(options=['position', 'transparent_…"
      ]
     },
     "metadata": {},
     "output_type": "display_data"
    }
   ],
   "source": [
    "Map = classify(roi1, 0.25)\n",
    "Map"
   ]
  },
  {
   "cell_type": "code",
   "execution_count": 46,
   "id": "cee26608-ad04-4512-aae0-1e67d90998b5",
   "metadata": {},
   "outputs": [
    {
     "data": {
      "application/vnd.jupyter.widget-view+json": {
       "model_id": "a856b764f37b407f8b4f58c817744083",
       "version_major": 2,
       "version_minor": 0
      },
      "text/plain": [
       "Map(center=[-7.55000091393896, 27.399999999997924], controls=(WidgetControl(options=['position', 'transparent_…"
      ]
     },
     "metadata": {},
     "output_type": "display_data"
    }
   ],
   "source": [
    "Map = classify(roi2, 0.25)\n",
    "Map"
   ]
  },
  {
   "cell_type": "code",
   "execution_count": 45,
   "id": "d4c9ed4f-7c56-4e70-8b59-aa97222d5e09",
   "metadata": {},
   "outputs": [
    {
     "data": {
      "application/vnd.jupyter.widget-view+json": {
       "model_id": "97aa42dfbfb949fea9171ccb7c5227ab",
       "version_major": 2,
       "version_minor": 0
      },
      "text/plain": [
       "Map(center=[-10.704552846449875, 25.788532369849722], controls=(WidgetControl(options=['position', 'transparen…"
      ]
     },
     "metadata": {},
     "output_type": "display_data"
    }
   ],
   "source": [
    "Map = classify(roi3, 1)\n",
    "Map"
   ]
  },
  {
   "cell_type": "code",
   "execution_count": 37,
   "id": "657da4e2-bc7f-4aed-998b-ad8c2cb33642",
   "metadata": {},
   "outputs": [],
   "source": [
    "# Map = classify(roi4, 1)\n",
    "# Map"
   ]
  },
  {
   "cell_type": "code",
   "execution_count": 38,
   "id": "2d59481e-6070-4668-b3b0-a5a586edb473",
   "metadata": {},
   "outputs": [],
   "source": [
    "# Map = classify(roi5, 0.25)\n",
    "# Map"
   ]
  },
  {
   "cell_type": "code",
   "execution_count": 36,
   "id": "c98d18d4-667f-487c-b8c6-e45d713d1dae",
   "metadata": {},
   "outputs": [],
   "source": [
    "# Map = classify(roi6, 0.25)\n",
    "# Map"
   ]
  },
  {
   "cell_type": "code",
   "execution_count": null,
   "id": "091aabac-b337-4089-9e8e-73b44dffbd7a",
   "metadata": {},
   "outputs": [],
   "source": []
  }
 ],
 "metadata": {
  "kernelspec": {
   "display_name": "Python 3 (ipykernel)",
   "language": "python",
   "name": "python3"
  },
  "language_info": {
   "codemirror_mode": {
    "name": "ipython",
    "version": 3
   },
   "file_extension": ".py",
   "mimetype": "text/x-python",
   "name": "python",
   "nbconvert_exporter": "python",
   "pygments_lexer": "ipython3",
   "version": "3.7.11"
  }
 },
 "nbformat": 4,
 "nbformat_minor": 5
}
