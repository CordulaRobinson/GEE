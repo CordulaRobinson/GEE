{
 "cells": [
  {
   "cell_type": "code",
   "execution_count": 2,
   "id": "347f4620",
   "metadata": {},
   "outputs": [],
   "source": [
    "import ee\n",
    "import geemap\n",
    "import math\n",
    "ee.Initialize()"
   ]
  },
  {
   "cell_type": "code",
   "execution_count": 79,
   "id": "16b0746d",
   "metadata": {},
   "outputs": [],
   "source": [
    "javascript_code = \"\"\"\n",
    "var test = loss1.eq(1)\n",
    "\n",
    "var test2 = loss2.neq(1)\n",
    "\n",
    "var comb = test.and(test2)\n",
    "Map.addLayer(comb, {min: 0, max: 1, palette: ['white', 'blue']}, 'test')\n",
    "\"\"\""
   ]
  },
  {
   "cell_type": "code",
   "execution_count": 80,
   "id": "27a981d3",
   "metadata": {},
   "outputs": [],
   "source": [
    "geemap.js_snippet_to_py(javascript_code)"
   ]
  },
  {
   "cell_type": "code",
   "execution_count": 3,
   "id": "69ab0a0a",
   "metadata": {},
   "outputs": [],
   "source": [
    "ls8 = ee.ImageCollection(\"LANDSAT/LC08/C02/T1_L2\")\n",
    "activeMines = ee.FeatureCollection(\"users/raymondeah/cod_mines_curated_all_opendata_p_ipis\")\n",
    "roi1 = ee.Geometry.Polygon(\n",
    "        [[[29.554129272985683, 3.1591674847348235],\n",
    "          [29.554129272985683, 3.092319151883147],\n",
    "          [29.625197083044277, 3.092319151883147],\n",
    "          [29.625197083044277, 3.1591674847348235]]])\n",
    "modis = ee.ImageCollection(\"MODIS/006/MOD13Q1\")\n",
    "\n",
    "ndviVis = {\n",
    "  'min': 0.0,\n",
    "  'max': 8000.0,\n",
    "  'palette': [\n",
    "    'FFFFFF', 'CE7E45', 'DF923D', 'F1B555', 'FCD163', '99B718', '74A901',\n",
    "    '66A000', '529400', '3E8601', '207401', '056201', '004C00', '023B01',\n",
    "    '012E01', '011D01', '011301'\n",
    "  ]\n",
    "}"
   ]
  },
  {
   "cell_type": "code",
   "execution_count": 4,
   "id": "750551c5",
   "metadata": {},
   "outputs": [
    {
     "data": {
      "application/vnd.jupyter.widget-view+json": {
       "model_id": "92d8ba166fcd4236bcde7f9c02a62cfa",
       "version_major": 2,
       "version_minor": 0
      },
      "text/plain": [
       "Map(center=[3.1257435633122834, 29.589663178011996], controls=(WidgetControl(options=['position', 'transparent…"
      ]
     },
     "metadata": {},
     "output_type": "display_data"
    }
   ],
   "source": [
    "Map = geemap.Map()\n",
    "Map.addLayer(activeMines, {'color': 'red'}, 'Active Coltan Mines')\n",
    "Map.centerObject(roi1, 12)\n",
    "rgbVis = {\n",
    "  'min': 8097.96,\n",
    "  'max': 12128.04,\n",
    "  'bands': ['SR_B4', 'SR_B3', 'SR_B2']\n",
    "}\n",
    "filtered = ls8 \\\n",
    "  .filter(ee.Filter.bounds(roi1)) \\\n",
    "  .filter(ee.Filter.date('2020-01-01', '2020-12-31')) \\\n",
    "  .filter(ee.Filter.lt('CLOUD_COVER', 25)) \\\n",
    "  .select('SR_B.*')\n",
    "\n",
    "composite = filtered.median().clip(roi1)\n",
    "Map.addLayer(composite, rgbVis, '2020 Median Composite')\n",
    "Map"
   ]
  },
  {
   "cell_type": "code",
   "execution_count": 5,
   "id": "c474893e",
   "metadata": {
    "scrolled": false
   },
   "outputs": [],
   "source": [
    "\"\"\"\n",
    "Segment the given geometry into squares of given size (in km?)\n",
    ":param geometry: rectangle form geometry object\n",
    ":return: list including all squares\n",
    "\"\"\"\n",
    "def create_segments(geometry, size):\n",
    "    segments = []\n",
    "    \n",
    "    r_earth = 6378\n",
    "    dy, dx = size, size\n",
    "    pi = math.pi\n",
    "    \n",
    "    coords = geometry.coordinates().getInfo()[0][:-1]\n",
    "    # coordinate structure: 0-top left, 1-top right, 2, top \n",
    "    top = coords[2][1] # high lat\n",
    "    left = coords[0][0] # right lon\n",
    "    \n",
    "    width = ee.Geometry.Point(coords[0]).distance(ee.Geometry.Point(coords[1])).divide(1000 * size).getInfo()\n",
    "    height = ee.Geometry.Point(coords[1]).distance(ee.Geometry.Point(coords[2])).divide(1000 * size).getInfo()\n",
    "    \n",
    "    #print(width, height)\n",
    "    \n",
    "    for i in range(int(height) + 1):\n",
    "        left = coords[0][0]\n",
    "        for j in range(int(width) + 1):\n",
    "            new_lon = top - (dx / r_earth) * (180 / pi) / math.cos(math.radians(left * pi/180))\n",
    "            new_lat = left  + (dy / r_earth) * (180 / pi)\n",
    "            \n",
    "            square = ee.Geometry.Polygon(\n",
    "                [[[left, new_lon],\n",
    "                  [new_lat, new_lon],\n",
    "                  [new_lat, top],\n",
    "                  [left, top]]])\n",
    "            \n",
    "            #filtered = ls8 \\\n",
    "             # .filter(ee.Filter.bounds(geometry)) \\\n",
    "             # .filter(ee.Filter.date('2020-01-01', '2020-12-31')) \\\n",
    "            #  .filter(ee.Filter.lt('CLOUD_COVER', 25)) \\\n",
    "             # .select('SR_B.*')\n",
    "\n",
    "           # composite = filtered.median().clip(square)\n",
    "            \n",
    "            segments.append(square)\n",
    "           #segments.append(composite)\n",
    "            \n",
    "            left = new_lat\n",
    "        top = new_lon\n",
    "            \n",
    "    return segments"
   ]
  },
  {
   "cell_type": "code",
   "execution_count": 6,
   "id": "a73b03c4",
   "metadata": {
    "scrolled": false
   },
   "outputs": [
    {
     "name": "stdout",
     "output_type": "stream",
     "text": [
      "0.9963453630322072\n"
     ]
    },
    {
     "data": {
      "application/vnd.jupyter.widget-view+json": {
       "model_id": "0574b42d1ad142b5ad615375a813728d",
       "version_major": 2,
       "version_minor": 0
      },
      "text/plain": [
       "Map(center=[3.1257435633122834, 29.589663178011996], controls=(WidgetControl(options=['position', 'transparent…"
      ]
     },
     "metadata": {},
     "output_type": "display_data"
    }
   ],
   "source": [
    "\"\"\"\n",
    "Segment the given geometry into squares of given size (in km?)\n",
    ":param geometry: rectangle form geometry object\n",
    ":return: list including all squares\n",
    "\"\"\"\n",
    "def create_segments(geometry, size):\n",
    "    segments = ee.List([])\n",
    "    r_earth, dy, dx, pi = ee.Number(6378), ee.Number(size), ee.Number(size), ee.Number(math.pi)\n",
    "    \n",
    "    coords = ee.List(geometry.coordinates().get(0)).slice(0, -1)\n",
    "    \n",
    "    top = ee.Number(ee.List(coords.get(2)).get(1))\n",
    "    left = ee.Number(ee.List(coords.get(0)).get(0))\n",
    "    \n",
    "    width = int(ee.Geometry.Point(coords.get(0)).distance(ee.Geometry.Point(coords.get(1))).divide(1000 * size).getInfo())\n",
    "    height = int(ee.Geometry.Point(coords.get(1)).distance(ee.Geometry.Point(coords.get(2))).divide(1000 * size).getInfo())\n",
    "\n",
    "    for y in range(height + 1):\n",
    "        left = ee.Number(ee.List(coords.get(0)).get(0))\n",
    "        for x in range(width + 1):\n",
    "            #\n",
    "            first = top\n",
    "            second = dx.divide(r_earth)\n",
    "            third = ee.Number(180).divide(pi)\n",
    "            con = pi.divide(ee.Number(180))\n",
    "            fourth = left.multiply(con).multiply(con).cos()\n",
    "            \n",
    "            new_lon = first.subtract(second.multiply(third).divide(fourth))\n",
    "            #new_lon = top - (dx / r_earth) * (180 / pi) / math.cos(math.radians(left * pi/180))\n",
    "            #new_lat = left  + (dy / r_earth) * (180 / pi)\n",
    "            new_lat = left.add((dy.divide(r_earth)).multiply((ee.Number(180).divide(pi))))\n",
    "            \n",
    "            square = ee.Feature(ee.Geometry.Polygon(\n",
    "                [[[left, new_lon],\n",
    "                  [new_lat, new_lon],\n",
    "                  [new_lat, top],\n",
    "                  [left, top]]]))\n",
    "            \n",
    "            segments = segments.add(square)\n",
    "            \n",
    "            left = new_lat\n",
    "        top = new_lon\n",
    "        \n",
    "    return segments\n",
    "            \n",
    "Map = geemap.Map()\n",
    "Map.centerObject(roi1, 10)\n",
    "segments = create_segments(roi1, 1)\n",
    "print(ee.Feature(segments.get(10)).geometry().area().divide(1e6).getInfo())\n",
    "Map.addLayer(ee.FeatureCollection(segments), {'color': 'blue'}, 'server side squares')\n",
    "Map"
   ]
  },
  {
   "cell_type": "code",
   "execution_count": 7,
   "id": "f787e075",
   "metadata": {},
   "outputs": [
    {
     "data": {
      "application/vnd.jupyter.widget-view+json": {
       "model_id": "45851727146e4f4c9c45d1e638bbbdc2",
       "version_major": 2,
       "version_minor": 0
      },
      "text/plain": [
       "Map(center=[3.1042975415522136, 29.602366119906016], controls=(WidgetControl(options=['position', 'transparent…"
      ]
     },
     "metadata": {},
     "output_type": "display_data"
    }
   ],
   "source": [
    "big = ee.Geometry.Polygon(\n",
    "        [[[29.324961334750263, 3.3062182501952346],\n",
    "          [29.324961334750263, 2.9023783494297306],\n",
    "          [29.879770905062763, 2.9023783494297306],\n",
    "          [29.879770905062763, 3.3062182501952346]]], None, False)\n",
    "\n",
    "big2 = ee.Geometry.Polygon(\n",
    "        [[[23.93083329745621, 5.799063854338723],\n",
    "          [23.93083329745621, -0.38729587002473354],\n",
    "          [31.48942704745621, -0.38729587002473354],\n",
    "          [31.48942704745621, 5.799063854338723]]])\n",
    "\n",
    "Map = geemap.Map()\n",
    "Map.centerObject(big, 10)\n",
    "\n",
    "segments = create_segments(big, 5)\n",
    "#print('area:', segments[1].area(1).divide(1e6).getInfo(), 'km^2')\n",
    "Map.addLayer(ee.FeatureCollection(segments), {'color': 'red'}, 'segments')\n",
    "Map"
   ]
  },
  {
   "cell_type": "code",
   "execution_count": 6,
   "id": "bfc5ea7e",
   "metadata": {},
   "outputs": [
    {
     "data": {
      "application/vnd.jupyter.widget-view+json": {
       "model_id": "267cbc0c6c1f4c0796fb87d9651363e3",
       "version_major": 2,
       "version_minor": 0
      },
      "text/plain": [
       "Map(center=[3.1042975415522136, 29.602366119906016], controls=(WidgetControl(options=['position', 'transparent…"
      ]
     },
     "metadata": {},
     "output_type": "display_data"
    }
   ],
   "source": [
    "segs = create_segments(roi1, 1)\n",
    "\n",
    "c = []\n",
    "m2000 = []\n",
    "m2020 = []\n",
    "\n",
    "for g in segs:\n",
    "    filtered = ls8 \\\n",
    "      .filter(ee.Filter.bounds(g)) \\\n",
    "      .filter(ee.Filter.date('2020-01-01', '2020-12-31')) \\\n",
    "      .filter(ee.Filter.lt('CLOUD_COVER', 25)) \\\n",
    "      .select('SR_B.*')\n",
    "\n",
    "    composite = filtered.median().clip(g)\n",
    "    c.append(composite)\n",
    "    \n",
    "    ndvi = modis \\\n",
    "        .filter(ee.Filter.bounds(g))\\\n",
    "        .filter(ee.Filter.date('2000-01-01', '2000-12-31')) \\\n",
    "        .select('NDVI') \\\n",
    "        .median() \\\n",
    "        .clip(g)\n",
    "    m2000.append(ndvi)\n",
    "    \n",
    "    ndvi = modis \\\n",
    "        .filter(ee.Filter.bounds(g))\\\n",
    "        .filter(ee.Filter.date('2020-01-01', '2020-12-31')) \\\n",
    "        .select('NDVI') \\\n",
    "        .median() \\\n",
    "        .clip(g)\n",
    "    m2020.append(ndvi)\n",
    "    \n",
    "composites = ee.ImageCollection(c)\n",
    "ndvi2000 = ee.ImageCollection(m2000)\n",
    "ndvi2020 = ee.ImageCollection(m2020)\n",
    "\n",
    "Map = geemap.Map()\n",
    "Map.centerObject(big, 10)\n",
    "\n",
    "Map.addLayer(composites, rgbVis, 'composites')\n",
    "Map.addLayer(ndvi2000, ndviVis, 'NDVI 2000')\n",
    "Map.addLayer(ndvi2020, ndviVis, 'NDVI 2020')\n",
    "Map.addLayer(activeMines, {'color': 'blue'}, 'Active Mines')\n",
    "Map.addLayer(ee.FeatureCollection(segs), {'color': 'red'}, 'squares')\n",
    "Map"
   ]
  },
  {
   "cell_type": "code",
   "execution_count": 7,
   "id": "6c029119",
   "metadata": {
    "scrolled": true
   },
   "outputs": [],
   "source": [
    "# before = ndvi2000.first().select('NDVI').lt(5000)\n",
    "# after = ndvi2020.first().select('NDVI').lt(5000)\n",
    "# change = before.neq(1).And(after.eq(1))\n",
    "\n",
    "# areaImage = change.multiply(ee.Image.pixelArea())\n",
    "    \n",
    "# area = areaImage.reduceRegion(**{\n",
    "#     'reducer': ee.Reducer.sum(),\n",
    "#     'geometry': change.geometry(),\n",
    "#     'scale': 10,\n",
    "#     'maxPixels': 1e10\n",
    "# })\n",
    "    \n",
    "# area = ee.Number(area.get('NDVI')).divide(1e6)\n",
    "# totalArea = ndvi2020.first().geometry().area(1).divide(1e6)\n",
    "# percent = area.divide(totalArea).multiply(100)\n",
    "# print(percent.getInfo())\n",
    "\n",
    "# after.set('percent loss', percent)\n",
    "# x = after.get('percent loss')\n",
    "# print(x)\n",
    "\n",
    "# Map.addLayer(change, {'min': 0, 'max': 1, 'palette': ['white', 'blue']}, 'changed')\n",
    "# Map"
   ]
  },
  {
   "cell_type": "code",
   "execution_count": 8,
   "id": "8541c960",
   "metadata": {},
   "outputs": [
    {
     "data": {
      "application/vnd.jupyter.widget-view+json": {
       "model_id": "267cbc0c6c1f4c0796fb87d9651363e3",
       "version_major": 2,
       "version_minor": 0
      },
      "text/plain": [
       "Map(center=[3.1042975415522136, 29.602366119906016], controls=(WidgetControl(options=['position', 'transparent…"
      ]
     },
     "metadata": {},
     "output_type": "display_data"
    }
   ],
   "source": [
    "for img1, img2 in zip(m2000, m2020):\n",
    "    before = img1.select('NDVI').lt(5000)\n",
    "    after = img2.select('NDVI').lt(5000)\n",
    "    change = before.neq(1).And(after.eq(1))\n",
    "    \n",
    "    areaImage = change.multiply(ee.Image.pixelArea())\n",
    "    \n",
    "    area = areaImage.reduceRegion(**{\n",
    "        'reducer': ee.Reducer.sum(),\n",
    "        'geometry': change.geometry(),\n",
    "        'scale': 10,\n",
    "        'maxPixels': 1e10\n",
    "    })\n",
    "    \n",
    "    area = ee.Number(area.get('NDVI')).divide(1e6)\n",
    "    totalArea = img1.geometry().area(1).divide(1e6)\n",
    "    percent = area.divide(totalArea).multiply(100)\n",
    "   # print(prcent.getInfo())\n",
    "    img2.set('percent', percent)\n",
    "     \n",
    "c = ee.ImageCollection(m2020)\n",
    "d = c.filter(ee.Filter.gt('percent', 0))\n",
    "Map.addLayer(d, ndviVis, 'filtered squares')\n",
    "Map"
   ]
  },
  {
   "cell_type": "code",
   "execution_count": 9,
   "id": "5591a215",
   "metadata": {},
   "outputs": [],
   "source": [
    "# def percent_change(l):\n",
    "#     img1 = l.get(0)\n",
    "#     img2 = l.get(1)\n",
    "    \n",
    "#     before = img1.select('NDVI').lt(5000)\n",
    "#     after = img2.select('NDVI').lt(5000)\n",
    "    \n",
    "#     change = before.eq(1).And(after.neq(1))\n",
    "    \n",
    "#     areaImage = change.multiply(ee.Image.pixelArea())\n",
    "    \n",
    "#     area = areaImage.reduceRegion(**{\n",
    "#         'reducer': ee.Reducer.sum(),\n",
    "#         'geometry': change.geometry(),\n",
    "#         'scale': 10,\n",
    "#         'maxPixels': 1e10\n",
    "#     })\n",
    "    \n",
    "#     area = ee.Number(area.get('NDVI')).divide(1e6)\n",
    "#     totalArea = ee.Number(img.geometry().area(1).divide(1e6))\n",
    "    \n",
    "#     percent = area.divide(totalArea).multiply(100)\n",
    "#     return img1, img2.set('percent loss', percent)\n",
    "    "
   ]
  },
  {
   "cell_type": "code",
   "execution_count": 10,
   "id": "4af74ea3",
   "metadata": {
    "scrolled": false
   },
   "outputs": [],
   "source": [
    "#ndvi2020 = ndvi2020.map(percent_change(ndvi2000, ndvi2020))\n",
    "\n",
    "#filtered = ndvi2020.filter(ee.Filter.gt('percent loss', 0))\n",
    "\n",
    "#Map.addLayer(filtered, ndviVis, 'P')\n",
    "#Map\n",
    "#l = [ndvi2000, ndvi2020]\n",
    "\n",
    "#c = ee.List(l)\n",
    "#print(c.get(0))\n",
    "\n",
    "#test = c.map(percent_change)\n",
    "\n",
    "#print(test)"
   ]
  },
  {
   "cell_type": "code",
   "execution_count": null,
   "id": "9da963b3",
   "metadata": {},
   "outputs": [],
   "source": []
  },
  {
   "cell_type": "code",
   "execution_count": null,
   "id": "b8dc7ab6",
   "metadata": {},
   "outputs": [],
   "source": []
  }
 ],
 "metadata": {
  "kernelspec": {
   "display_name": "Python 3 (ipykernel)",
   "language": "python",
   "name": "python3"
  },
  "language_info": {
   "codemirror_mode": {
    "name": "ipython",
    "version": 3
   },
   "file_extension": ".py",
   "mimetype": "text/x-python",
   "name": "python",
   "nbconvert_exporter": "python",
   "pygments_lexer": "ipython3",
   "version": "3.10.1"
  }
 },
 "nbformat": 4,
 "nbformat_minor": 5
}
