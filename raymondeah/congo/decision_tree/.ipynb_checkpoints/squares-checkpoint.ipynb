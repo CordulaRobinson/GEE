{
 "cells": [
  {
   "cell_type": "code",
   "execution_count": 87,
   "id": "347f4620",
   "metadata": {},
   "outputs": [],
   "source": [
    "import ee\n",
    "import geemap\n",
    "import math\n",
    "ee.Initialize()"
   ]
  },
  {
   "cell_type": "code",
   "execution_count": 79,
   "id": "16b0746d",
   "metadata": {},
   "outputs": [],
   "source": [
    "javascript_code = \"\"\"\n",
    "var test = loss1.eq(1)\n",
    "\n",
    "var test2 = loss2.neq(1)\n",
    "\n",
    "var comb = test.and(test2)\n",
    "Map.addLayer(comb, {min: 0, max: 1, palette: ['white', 'blue']}, 'test')\n",
    "\"\"\""
   ]
  },
  {
   "cell_type": "code",
   "execution_count": 80,
   "id": "27a981d3",
   "metadata": {},
   "outputs": [],
   "source": [
    "geemap.js_snippet_to_py(javascript_code)"
   ]
  },
  {
   "cell_type": "code",
   "execution_count": 88,
   "id": "69ab0a0a",
   "metadata": {},
   "outputs": [],
   "source": [
    "ls8 = ee.ImageCollection(\"LANDSAT/LC08/C02/T1_L2\")\n",
    "activeMines = ee.FeatureCollection(\"users/raymondeah/cod_mines_curated_all_opendata_p_ipis\")\n",
    "roi1 = ee.Geometry.Polygon(\n",
    "        [[[29.554129272985683, 3.1591674847348235],\n",
    "          [29.554129272985683, 3.092319151883147],\n",
    "          [29.625197083044277, 3.092319151883147],\n",
    "          [29.625197083044277, 3.1591674847348235]]])\n",
    "modis = ee.ImageCollection(\"MODIS/006/MOD13Q1\")"
   ]
  },
  {
   "cell_type": "code",
   "execution_count": 89,
   "id": "750551c5",
   "metadata": {},
   "outputs": [
    {
     "data": {
      "application/vnd.jupyter.widget-view+json": {
       "model_id": "2bc10f4fbc684520ab233771101807e1",
       "version_major": 2,
       "version_minor": 0
      },
      "text/plain": [
       "Map(center=[3.1257435633122834, 29.589663178011996], controls=(WidgetControl(options=['position', 'transparent…"
      ]
     },
     "metadata": {},
     "output_type": "display_data"
    }
   ],
   "source": [
    "Map = geemap.Map()\n",
    "Map.addLayer(activeMines, {'color': 'red'}, 'Active Coltan Mines')\n",
    "Map.centerObject(roi1, 12)\n",
    "rgbVis = {\n",
    "  'min': 8097.96,\n",
    "  'max': 12128.04,\n",
    "  'bands': ['SR_B4', 'SR_B3', 'SR_B2']\n",
    "}\n",
    "filtered = ls8 \\\n",
    "  .filter(ee.Filter.bounds(roi1)) \\\n",
    "  .filter(ee.Filter.date('2020-01-01', '2020-12-31')) \\\n",
    "  .filter(ee.Filter.lt('CLOUD_COVER', 25)) \\\n",
    "  .select('SR_B.*')\n",
    "\n",
    "composite = filtered.median().clip(roi1)\n",
    "Map.addLayer(composite, rgbVis, '2020 Median Composite')\n",
    "Map"
   ]
  },
  {
   "cell_type": "code",
   "execution_count": 120,
   "id": "c474893e",
   "metadata": {
    "scrolled": false
   },
   "outputs": [
    {
     "name": "stdout",
     "output_type": "stream",
     "text": [
      "7.899790043613933 7.391844898126281\n"
     ]
    },
    {
     "data": {
      "application/vnd.jupyter.widget-view+json": {
       "model_id": "5df7815ca8b648fea1333593ef0afdf1",
       "version_major": 2,
       "version_minor": 0
      },
      "text/plain": [
       "Map(center=[3.1257435633122834, 29.589663178011996], controls=(WidgetControl(options=['position', 'transparent…"
      ]
     },
     "metadata": {},
     "output_type": "display_data"
    }
   ],
   "source": [
    "\"\"\"\n",
    "Segment the given geometry into squares of given size (in km?)\n",
    ":param geometry:\n",
    ":return: FeatureCollection including all squares\n",
    "\"\"\"\n",
    "def create_segments(geometry, size):\n",
    "    segments = []\n",
    "    \n",
    "    r_earth = 6378\n",
    "    dy, dx = size, size\n",
    "    pi = math.pi\n",
    "    \n",
    "    coords = geometry.coordinates().getInfo()[0][:-1]\n",
    "    # coordinate structure: 0-top left, 1-top right, 2, top \n",
    "    top = coords[2][1] # high lat\n",
    "    left = coords[0][0] # right lon\n",
    "    \n",
    "    width = ee.Geometry.Point(coords[0]).distance(ee.Geometry.Point(coords[1])).divide(1000 * size).getInfo()\n",
    "    height = ee.Geometry.Point(coords[1]).distance(ee.Geometry.Point(coords[2])).divide(1000 * size).getInfo()\n",
    "    \n",
    "    print(width, height)\n",
    "    \n",
    "    for i in range(int(height) + 1):\n",
    "        left = coords[0][0]\n",
    "        for j in range(int(width) + 1):\n",
    "            new_lon = top - (dx / r_earth) * (180 / pi) / math.cos(math.radians(left * pi/180))\n",
    "            new_lat = left  + (dy / r_earth) * (180 / pi)\n",
    "            \n",
    "            square = ee.Geometry.Polygon(\n",
    "                [[[left, new_lon],\n",
    "                  [new_lat, new_lon],\n",
    "                  [new_lat, top],\n",
    "                  [left, top]]])\n",
    "            \n",
    "            #filtered = ls8 \\\n",
    "             # .filter(ee.Filter.bounds(geometry)) \\\n",
    "             # .filter(ee.Filter.date('2020-01-01', '2020-12-31')) \\\n",
    "            #  .filter(ee.Filter.lt('CLOUD_COVER', 25)) \\\n",
    "             # .select('SR_B.*')\n",
    "\n",
    "           # composite = filtered.median().clip(square)\n",
    "            \n",
    "            segments.append(square)\n",
    "           #segments.append(composite)\n",
    "            \n",
    "            left = new_lat\n",
    "        top = new_lon\n",
    "            \n",
    "    return ee.FeatureCollection(segments)\n",
    "\n",
    "big = ee.Geometry.Polygon(\n",
    "        [[[29.324961334750263, 3.3062182501952346],\n",
    "          [29.324961334750263, 2.9023783494297306],\n",
    "          [29.879770905062763, 2.9023783494297306],\n",
    "          [29.879770905062763, 3.3062182501952346]]], None, False)\n",
    "\n",
    "Map = geemap.Map()\n",
    "Map.centerObject(roi1, 12)\n",
    "Map.addLayer(create_segments(roi1, 1), {'color': 'red'}, 'segments')\n",
    "Map"
   ]
  },
  {
   "cell_type": "code",
   "execution_count": 101,
   "id": "bfc5ea7e",
   "metadata": {},
   "outputs": [
    {
     "name": "stdout",
     "output_type": "stream",
     "text": [
      "7.899790043613933 7.391844898126281\n"
     ]
    },
    {
     "data": {
      "application/vnd.jupyter.widget-view+json": {
       "model_id": "e6ff19798ee344a880093404b76208eb",
       "version_major": 2,
       "version_minor": 0
      },
      "text/plain": [
       "Map(center=[3.1257435633122834, 29.589663178011996], controls=(WidgetControl(options=['position', 'transparent…"
      ]
     },
     "metadata": {},
     "output_type": "display_data"
    }
   ],
   "source": [
    "def median(geometry):\n",
    "    \n",
    "    return composite\n",
    "\n",
    "segs = create_segments(roi1, 1)\n",
    "with_c = segs.map(median)\n",
    "\n",
    "Map = geemap.Map()\n",
    "Map.centerObject(roi1, 12)\n",
    "Map.addLayer(with_c, {'color': 'red'}, 'oo')\n",
    "Map"
   ]
  },
  {
   "cell_type": "code",
   "execution_count": null,
   "id": "5591a215",
   "metadata": {},
   "outputs": [],
   "source": []
  }
 ],
 "metadata": {
  "kernelspec": {
   "display_name": "Python 3 (ipykernel)",
   "language": "python",
   "name": "python3"
  },
  "language_info": {
   "codemirror_mode": {
    "name": "ipython",
    "version": 3
   },
   "file_extension": ".py",
   "mimetype": "text/x-python",
   "name": "python",
   "nbconvert_exporter": "python",
   "pygments_lexer": "ipython3",
   "version": "3.10.1"
  }
 },
 "nbformat": 4,
 "nbformat_minor": 5
}
