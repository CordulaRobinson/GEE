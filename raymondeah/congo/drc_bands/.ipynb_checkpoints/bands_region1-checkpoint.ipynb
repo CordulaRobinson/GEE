{
 "cells": [
  {
   "cell_type": "code",
   "execution_count": 1,
   "id": "847f8d85",
   "metadata": {
    "scrolled": false
   },
   "outputs": [],
   "source": [
    "import ee\n",
    "import geemap\n",
    "from geemap import chart\n",
    "\n",
    "%matplotlib inline\n",
    "import matplotlib.pyplot as plt"
   ]
  },
  {
   "cell_type": "code",
   "execution_count": 2,
   "id": "ccca4519",
   "metadata": {
    "scrolled": false
   },
   "outputs": [
    {
     "data": {
      "text/html": [
       "<p>To authorize access needed by Earth Engine, open the following\n",
       "        URL in a web browser and follow the instructions:</p>\n",
       "        <p><a href=https://accounts.google.com/o/oauth2/auth?client_id=517222506229-vsmmajv00ul0bs7p89v5m89qs8eb9359.apps.googleusercontent.com&scope=https%3A%2F%2Fwww.googleapis.com%2Fauth%2Fearthengine+https%3A%2F%2Fwww.googleapis.com%2Fauth%2Fdevstorage.full_control&redirect_uri=urn%3Aietf%3Awg%3Aoauth%3A2.0%3Aoob&response_type=code&code_challenge=RjlFiZVWwUXip_U1u752rm4xjtAvvs8sQ5kb290in3g&code_challenge_method=S256>https://accounts.google.com/o/oauth2/auth?client_id=517222506229-vsmmajv00ul0bs7p89v5m89qs8eb9359.apps.googleusercontent.com&scope=https%3A%2F%2Fwww.googleapis.com%2Fauth%2Fearthengine+https%3A%2F%2Fwww.googleapis.com%2Fauth%2Fdevstorage.full_control&redirect_uri=urn%3Aietf%3Awg%3Aoauth%3A2.0%3Aoob&response_type=code&code_challenge=RjlFiZVWwUXip_U1u752rm4xjtAvvs8sQ5kb290in3g&code_challenge_method=S256</a></p>\n",
       "        <p>The authorization workflow will generate a code, which you\n",
       "        should paste in the box below</p>\n",
       "        "
      ],
      "text/plain": [
       "<IPython.core.display.HTML object>"
      ]
     },
     "metadata": {},
     "output_type": "display_data"
    },
    {
     "name": "stdout",
     "output_type": "stream",
     "text": [
      "Enter verification code: 4/1AX4XfWgxOcNM-Xr-BtU5hG2xEi-rUOehNkCPChc3BKmA6qlLjEbGy7iF4i4\n",
      "\n",
      "Successfully saved authorization token.\n"
     ]
    }
   ],
   "source": [
    "ee.Authenticate()\n",
    "ee.Initialize()"
   ]
  },
  {
   "cell_type": "code",
   "execution_count": 51,
   "id": "7e652064",
   "metadata": {
    "scrolled": false
   },
   "outputs": [],
   "source": [
    "javascript_code = \"\"\"\n",
    "// BSI\n",
    "var bsi = composite.expression(\n",
    "      '(( X + Y ) - (A + B)) /(( X + Y ) + (A + B)) ', {\n",
    "        'X': composite.select('SR_B6'), //swir1\n",
    "        'Y': composite.select('SR_B4'),  //red\n",
    "        'A': composite.select('SR_B5'), // nir\n",
    "        'B': composite.select('SR_B2'), // blue\n",
    "  });\n",
    "  \n",
    "Map.addLayer(bsi, {min: 0, max: 1, palette: ['white', '#7a5230']}, 'BSI 1');\n",
    "\"\"\""
   ]
  },
  {
   "cell_type": "code",
   "execution_count": 52,
   "id": "b4e4a6ee",
   "metadata": {
    "scrolled": false
   },
   "outputs": [],
   "source": [
    "geemap.js_snippet_to_py(javascript_code)"
   ]
  },
  {
   "cell_type": "code",
   "execution_count": 44,
   "id": "d7686124",
   "metadata": {
    "scrolled": false
   },
   "outputs": [],
   "source": [
    "s2 = ee.ImageCollection(\"COPERNICUS/S2_SR\")\n",
    "ls7 = ee.ImageCollection(\"LANDSAT/LE07/C02/T1_L2\")\n",
    "ls8 = ee.ImageCollection(\"LANDSAT/LC08/C02/T1_L2\")\n",
    "hyperion = ee.ImageCollection(\"EO1/HYPERION\")\n",
    "admin = ee.FeatureCollection(\"FAO/GAUL_SIMPLIFIED_500m/2015/level1\")\n",
    "miningPermits = ee.FeatureCollection(\"users/raymondeah/Democratic_Republic_of_the_Congo_mining_permits\")\n",
    "activeMines = ee.FeatureCollection(\"users/raymondeah/cod_mines_curated_all_opendata_p_ipis\")\n",
    "points = ee.Geometry.MultiPoint(\n",
    "        [[29.58905590753292, 3.1265733505900184],\n",
    "         [29.783181537630476, 3.1489109666499777],\n",
    "         [30.305007154636336, 1.7496889115779437]])\n",
    "\n",
    "roi1 = ee.Geometry.Polygon(\n",
    "        [[[29.554129272985683, 3.1591674847348235],\n",
    "          [29.554129272985683, 3.092319151883147],\n",
    "          [29.625197083044277, 3.092319151883147],\n",
    "          [29.625197083044277, 3.1591674847348235]]])\n",
    "\n",
    "roi2 = ee.Geometry.Polygon(\n",
    "        [[[29.76168993261876, 3.1680250077194825],\n",
    "          [29.76168993261876, 3.1272312365091772],\n",
    "          [29.803832800660754, 3.1272312365091772],\n",
    "          [29.803832800660754, 3.1680250077194825]]])\n",
    "\n",
    "roi3 = ee.Geometry.Polygon(\n",
    "        [[[30.246670960050185, 1.7911944738716732],\n",
    "          [30.246670960050185, 1.7103797163160706],\n",
    "          [30.356362579923232, 1.7103797163160706],\n",
    "          [30.356362579923232, 1.7911944738716732]]])"
   ]
  },
  {
   "cell_type": "code",
   "execution_count": 88,
   "id": "8ca6be3a",
   "metadata": {
    "scrolled": false
   },
   "outputs": [],
   "source": [
    "rgbVis = {\n",
    "    'min': 8097.96,\n",
    "    'max': 12128.04,\n",
    "    'bands': ['SR_B4', 'SR_B3', 'SR_B2']\n",
    "}\n",
    "\n",
    "vigsVis = {\n",
    "    'min': 0,\n",
    "    'max': 1,\n",
    "    'palette': ['white', 'green']\n",
    "}\n",
    "\n",
    "ndviVis = {\n",
    "    'min': 0,\n",
    "    'max': 0.5,\n",
    "    'palette': ['white', 'green']\n",
    "}\n",
    "\n",
    "ironVis = {\n",
    "    'min': 1.030170142666699,\n",
    "    'max': 1.4796675821766498,\n",
    "    'palette': ['white', 'gray']\n",
    "}\n",
    "\n",
    "clayVis = {\n",
    "    'min': 1.1333754972833363,\n",
    "    'max': 1.3931124450708396,\n",
    "    'palette': ['white', 'brown']\n",
    "}\n",
    "\n",
    "ndmiVis = {\n",
    "    'min': 0,\n",
    "    'max': 0.5,\n",
    "    'palette': ['white', 'blue']\n",
    "}\n",
    "\n",
    "bsiVis = {\n",
    "    'min': -0.11390094234742729, \n",
    "    'max': 0.12724605991882074, \n",
    "    'palette': ['white', '#7a5230']\n",
    "}\n",
    "\n",
    "g_nirVis = {\n",
    "    'min': -0.3899937702037737,\n",
    "    'max': -0.03382993411150684,\n",
    "    'palette': ['white', 'red']\n",
    "}"
   ]
  },
  {
   "cell_type": "code",
   "execution_count": 46,
   "id": "3c4cae6c",
   "metadata": {
    "scrolled": false
   },
   "outputs": [],
   "source": [
    "def create_median_composites(geometry, start, end):\n",
    "    images = []\n",
    "    \n",
    "    for year in range(start, end+1):\n",
    "        filtered = ls8 \\\n",
    "            .filter(ee.Filter.bounds(geometry)) \\\n",
    "            .filter(ee.Filter.date(str(year) + '-01-01', str(year) + '-12-31')) \\\n",
    "            .filter(ee.Filter.lt('CLOUD_COVER', 15)) \\\n",
    "            .select('SR_B.*') \\\n",
    "\n",
    "        composite = filtered.median().clip(geometry)\n",
    "        \n",
    "        images.append((composite, year))\n",
    "        \n",
    "    return images"
   ]
  },
  {
   "cell_type": "code",
   "execution_count": 47,
   "id": "9e89039c",
   "metadata": {
    "scrolled": false
   },
   "outputs": [],
   "source": [
    "def add_median_composites(images, geometry):\n",
    "    Map = geemap.Map()\n",
    "    Map.centerObject(geometry, 12)\n",
    "    \n",
    "    for image, year in images:\n",
    "        Map.addLayer(image, rgbVis, str(year) + ' Median Composite')\n",
    "        \n",
    "    return Map"
   ]
  },
  {
   "cell_type": "code",
   "execution_count": 48,
   "id": "39e1f76f",
   "metadata": {
    "scrolled": false
   },
   "outputs": [],
   "source": [
    "def create_ndvi_layers(images, geometry):\n",
    "    Map = geemap.Map()\n",
    "    Map.centerObject(geometry, 12)\n",
    "    \n",
    "    for image, year in images:\n",
    "        ndvi = image.normalizedDifference(['SR_B5', 'SR_B4'])\n",
    "        Map.addLayer(ndvi, ndviVis, 'NDVI ' + str(year))\n",
    "        \n",
    "    return Map"
   ]
  },
  {
   "cell_type": "code",
   "execution_count": 49,
   "id": "de597344",
   "metadata": {
    "scrolled": false
   },
   "outputs": [],
   "source": [
    "def create_iron_layers(images, geometry):\n",
    "    Map = geemap.Map()\n",
    "    Map.centerObject(geometry, 12)\n",
    "    \n",
    "    for image, year in images:\n",
    "        iron = image.select('SR_B4').divide(image.select('SR_B2'))\n",
    "        #iron = image.normalizedDifference(['SR_B4', 'SR_B2'])\n",
    "        Map.addLayer(iron, ironVis, 'Iron Concentration ' + str(year))\n",
    "        \n",
    "    return Map"
   ]
  },
  {
   "cell_type": "code",
   "execution_count": 50,
   "id": "20722094",
   "metadata": {
    "scrolled": false
   },
   "outputs": [],
   "source": [
    "def create_clay_layers(images, geometry):\n",
    "    Map = geemap.Map()\n",
    "    Map.centerObject(geometry, 12)\n",
    "    \n",
    "    for image, year in images:\n",
    "        clay = image.select('SR_B6').divide(image.select('SR_B7'))\n",
    "        Map.addLayer(clay, clayVis, 'Clay Concentration ' + str(year))\n",
    "        \n",
    "    return Map"
   ]
  },
  {
   "cell_type": "code",
   "execution_count": 51,
   "id": "2f8b1725",
   "metadata": {
    "scrolled": false
   },
   "outputs": [],
   "source": [
    "def create_ndmi_layers(images, geometry):\n",
    "    Map = geemap.Map()\n",
    "    Map.centerObject(geometry, 12)\n",
    "    \n",
    "    for image, year in images:\n",
    "        ndmi = image.normalizedDifference(['SR_B5', 'SR_B6'])\n",
    "        Map.addLayer(ndmi, ndmiVis, 'NDMI ' + str(year))\n",
    "        \n",
    "    return Map"
   ]
  },
  {
   "cell_type": "code",
   "execution_count": 52,
   "id": "8a1686b2",
   "metadata": {
    "scrolled": false
   },
   "outputs": [],
   "source": [
    "def create_vigs_layers(images, geometry):\n",
    "    Map = geemap.Map()\n",
    "    Map.centerObject(geometry, 12)\n",
    "    \n",
    "    for image, year in images:\n",
    "        g_r = image.normalizedDifference(['SR_B3', 'SR_B4'])\n",
    "        nir_r = image.normalizedDifference(['SR_B5', 'SR_B4'])\n",
    "        nir_swir1 = image.normalizedDifference(['SR_B5', 'SR_B6'])\n",
    "        nir_swir2 = image.normalizedDifference(['SR_B5', 'SR_B7'])\n",
    "        \n",
    "        vigs = g_r.add(nir_r.multiply(0.5)) \\\n",
    "            .add(nir_swir1.multiply(1.5)) \\\n",
    "            .add(nir_swir2.multiply(1.5))\n",
    "        \n",
    "        Map.addLayer(vigs, vigsVis, 'VIGS ' + str(year))\n",
    "        \n",
    "    return Map"
   ]
  },
  {
   "cell_type": "code",
   "execution_count": 53,
   "id": "e5735929",
   "metadata": {
    "scrolled": false
   },
   "outputs": [],
   "source": [
    "def create_bsi_layers(images, geometry):\n",
    "    Map = geemap.Map()\n",
    "    Map.centerObject(geometry, 12)\n",
    "    \n",
    "    for image, year in images:\n",
    "        # BSI\n",
    "        bsi = image.expression(\n",
    "            '(( X + Y ) - (A + B)) /(( X + Y ) + (A + B)) ', {\n",
    "            'X': image.select('SR_B6'), #swir1\n",
    "            'Y': image.select('SR_B4'),  #red\n",
    "            'A': image.select('SR_B5'), # nir\n",
    "            'B': image.select('SR_B2'), # blue\n",
    "            })\n",
    "\n",
    "        Map.addLayer(bsi, bsiVis, 'BSI ' + str(year))\n",
    "        \n",
    "    return Map"
   ]
  },
  {
   "cell_type": "code",
   "execution_count": 54,
   "id": "f8535945",
   "metadata": {},
   "outputs": [],
   "source": [
    "def create_g_nir_layers(images, geometry):\n",
    "    Map = geemap.Map()\n",
    "    Map.centerObject(geometry, 12)\n",
    "    \n",
    "    for image, year in images:\n",
    "        g_nir = image.normalizedDifference(['SR_B3', 'SR_B5'])\n",
    "        Map.addLayer(g_nir, g_nirVis, 'G/NIR ' + str(year))\n",
    "        \n",
    "    return Map"
   ]
  },
  {
   "cell_type": "markdown",
   "id": "a5590196",
   "metadata": {},
   "source": [
    "## Region 1"
   ]
  },
  {
   "cell_type": "markdown",
   "id": "f4d52098",
   "metadata": {},
   "source": [
    "### Median Composites"
   ]
  },
  {
   "cell_type": "code",
   "execution_count": 67,
   "id": "ce8398c4",
   "metadata": {
    "scrolled": false
   },
   "outputs": [
    {
     "data": {
      "application/vnd.jupyter.widget-view+json": {
       "model_id": "21827ed983324674a5b1a2bfc58ef205",
       "version_major": 2,
       "version_minor": 0
      },
      "text/plain": [
       "Map(center=[3.1257435633122834, 29.589663178011996], controls=(WidgetControl(options=['position', 'transparent…"
      ]
     },
     "metadata": {},
     "output_type": "display_data"
    }
   ],
   "source": [
    "images = create_median_composites(roi1, 2014, 2020)\n",
    "Map = add_median_composites(images, roi1)\n",
    "Map"
   ]
  },
  {
   "cell_type": "markdown",
   "id": "57a63e16",
   "metadata": {},
   "source": [
    "### NDVI"
   ]
  },
  {
   "cell_type": "code",
   "execution_count": 68,
   "id": "f9002c07",
   "metadata": {
    "scrolled": false
   },
   "outputs": [
    {
     "data": {
      "application/vnd.jupyter.widget-view+json": {
       "model_id": "69580413e80744d89168736d35cb34c2",
       "version_major": 2,
       "version_minor": 0
      },
      "text/plain": [
       "Map(center=[3.1257435633122834, 29.589663178011996], controls=(WidgetControl(options=['position', 'transparent…"
      ]
     },
     "metadata": {},
     "output_type": "display_data"
    }
   ],
   "source": [
    "Map = create_ndvi_layers(images, roi1)\n",
    "Map"
   ]
  },
  {
   "cell_type": "markdown",
   "id": "4a7ee282",
   "metadata": {},
   "source": [
    "### NDMI"
   ]
  },
  {
   "cell_type": "code",
   "execution_count": 69,
   "id": "2b33937b",
   "metadata": {
    "scrolled": false
   },
   "outputs": [
    {
     "data": {
      "application/vnd.jupyter.widget-view+json": {
       "model_id": "a1f2f2ab3dba4c49a634c069e34ba41c",
       "version_major": 2,
       "version_minor": 0
      },
      "text/plain": [
       "Map(center=[3.1257435633122834, 29.589663178011996], controls=(WidgetControl(options=['position', 'transparent…"
      ]
     },
     "metadata": {},
     "output_type": "display_data"
    }
   ],
   "source": [
    "Map = create_ndmi_layers(images, roi1)\n",
    "Map"
   ]
  },
  {
   "cell_type": "markdown",
   "id": "566092e4",
   "metadata": {},
   "source": [
    "### Iron"
   ]
  },
  {
   "cell_type": "code",
   "execution_count": 70,
   "id": "7a11e6dc",
   "metadata": {
    "scrolled": false
   },
   "outputs": [
    {
     "data": {
      "application/vnd.jupyter.widget-view+json": {
       "model_id": "90d789cafcb54cf4ab923b72273228ca",
       "version_major": 2,
       "version_minor": 0
      },
      "text/plain": [
       "Map(center=[3.1257435633122834, 29.589663178011996], controls=(WidgetControl(options=['position', 'transparent…"
      ]
     },
     "metadata": {},
     "output_type": "display_data"
    }
   ],
   "source": [
    "Map = create_iron_layers(images, roi1)\n",
    "Map"
   ]
  },
  {
   "cell_type": "markdown",
   "id": "de0378b8",
   "metadata": {},
   "source": [
    "### Clay"
   ]
  },
  {
   "cell_type": "code",
   "execution_count": 71,
   "id": "a97bdd68",
   "metadata": {
    "scrolled": false
   },
   "outputs": [
    {
     "data": {
      "application/vnd.jupyter.widget-view+json": {
       "model_id": "17b01efe07e14d3d86af6db1a8f3e2d7",
       "version_major": 2,
       "version_minor": 0
      },
      "text/plain": [
       "Map(center=[3.1257435633122834, 29.589663178011996], controls=(WidgetControl(options=['position', 'transparent…"
      ]
     },
     "metadata": {},
     "output_type": "display_data"
    }
   ],
   "source": [
    "Map = create_clay_layers(images, roi1)\n",
    "Map"
   ]
  },
  {
   "cell_type": "markdown",
   "id": "016e037a",
   "metadata": {},
   "source": [
    "### VIGS"
   ]
  },
  {
   "cell_type": "code",
   "execution_count": 89,
   "id": "6a010e6e",
   "metadata": {
    "scrolled": false
   },
   "outputs": [
    {
     "data": {
      "application/vnd.jupyter.widget-view+json": {
       "model_id": "276884116f59422dbb782d7c37d18076",
       "version_major": 2,
       "version_minor": 0
      },
      "text/plain": [
       "Map(center=[3.1257435633122834, 29.589663178011996], controls=(WidgetControl(options=['position', 'transparent…"
      ]
     },
     "metadata": {},
     "output_type": "display_data"
    }
   ],
   "source": [
    "Map = create_vigs_layers(images, roi1)\n",
    "Map"
   ]
  },
  {
   "cell_type": "markdown",
   "id": "2bbfc170",
   "metadata": {},
   "source": [
    "### BSI"
   ]
  },
  {
   "cell_type": "code",
   "execution_count": 73,
   "id": "092c8f42",
   "metadata": {
    "scrolled": true
   },
   "outputs": [
    {
     "data": {
      "application/vnd.jupyter.widget-view+json": {
       "model_id": "0912d2cf91424c4fbc1301428c3e46c3",
       "version_major": 2,
       "version_minor": 0
      },
      "text/plain": [
       "Map(center=[3.1257435633122834, 29.589663178011996], controls=(WidgetControl(options=['position', 'transparent…"
      ]
     },
     "metadata": {},
     "output_type": "display_data"
    }
   ],
   "source": [
    "Map = create_bsi_layers(images, roi1)\n",
    "Map"
   ]
  },
  {
   "cell_type": "markdown",
   "id": "2619843a",
   "metadata": {},
   "source": [
    "### New Index (G/NIR)"
   ]
  },
  {
   "cell_type": "code",
   "execution_count": 74,
   "id": "7efa3a3f",
   "metadata": {},
   "outputs": [
    {
     "data": {
      "application/vnd.jupyter.widget-view+json": {
       "model_id": "7d34a8ec6dd448e5a2774d9500028692",
       "version_major": 2,
       "version_minor": 0
      },
      "text/plain": [
       "Map(center=[3.1257435633122834, 29.589663178011996], controls=(WidgetControl(options=['position', 'transparent…"
      ]
     },
     "metadata": {},
     "output_type": "display_data"
    }
   ],
   "source": [
    "Map = create_g_nir_layers(images, roi1)\n",
    "Map"
   ]
  },
  {
   "cell_type": "code",
   "execution_count": 79,
   "id": "c8218fdc",
   "metadata": {
    "scrolled": false
   },
   "outputs": [],
   "source": [
    "def extract_data(image):\n",
    "    stats = image.reduceRegion(**{\n",
    "        'reducer': ee.Reducer.mean(),\n",
    "        'geometry': image.geometry(),\n",
    "        'scale': 100\n",
    "    })\n",
    "    \n",
    "    properties = {\n",
    "        'Year': image.get('system:index'),\n",
    "        'NDVI': stats.get('ndvi'),\n",
    "        'VIGS': stats.get('vigs'),\n",
    "        'NDMI': stats.get('ndmi'),\n",
    "        'BSI': stats.get('bsi'),\n",
    "        'Iron': stats.get('iron'),\n",
    "        'Clay': stats.get('clay')\n",
    "    }\n",
    "    \n",
    "    return ee.Feature(None, properties)"
   ]
  },
  {
   "cell_type": "code",
   "execution_count": 81,
   "id": "4aca2b38",
   "metadata": {
    "scrolled": false
   },
   "outputs": [],
   "source": [
    "def add_all_bands(image):\n",
    "    ndvi = image.normalizedDifference(['SR_B5', 'SR_B4']).rename('ndvi')\n",
    "    iron = image.select('SR_B4').divide(image.select('SR_B2')).rename('iron')\n",
    "    #iron = image.normalizedDifference(['SR_B4', 'SR_B2']).rename('iron')\n",
    "    clay = image.select('SR_B6').divide(image.select('SR_B7')).rename('clay')\n",
    "    #clay = image.normalizedDifference(['SR_B6', 'SR_B7']).rename('clay')\n",
    "    ndmi = image.normalizedDifference(['SR_B5', 'SR_B6']).rename('ndmi')\n",
    "    \n",
    "    g_r = image.normalizedDifference(['SR_B3', 'SR_B4'])\n",
    "    nir_r = image.normalizedDifference(['SR_B5', 'SR_B4'])\n",
    "    nir_swir1 = image.normalizedDifference(['SR_B5', 'SR_B6'])\n",
    "    nir_swir2 = image.normalizedDifference(['SR_B5', 'SR_B7'])\n",
    "        \n",
    "    vigs = g_r.add(nir_r.multiply(0.5)) \\\n",
    "        .add(nir_swir1.multiply(1.5)) \\\n",
    "        .add(nir_swir2.multiply(1.5)).rename('vigs')\n",
    "    \n",
    "    bsi = image.expression(\n",
    "            '(( X + Y ) - (A + B)) /(( X + Y ) + (A + B)) ', {\n",
    "            'X': image.select('SR_B6'), #swir1\n",
    "            'Y': image.select('SR_B4'),  #red\n",
    "            'A': image.select('SR_B5'), # nir\n",
    "            'B': image.select('SR_B2'), # blue\n",
    "            }).rename('bsi')\n",
    "    \n",
    "    g_nir = image.normalizedDifference(['SR_B3', 'SR_B5']).rename('g_nir')\n",
    "    \n",
    "    return image.addBands([ndvi, iron, clay, ndmi, vigs, bsi, g_nir])"
   ]
  },
  {
   "cell_type": "code",
   "execution_count": 84,
   "id": "75bc8f90",
   "metadata": {
    "scrolled": false
   },
   "outputs": [],
   "source": [
    "images1 = ee.ImageCollection(create_median_composites(roi1, 2014, 2020))\n",
    "with_bands1 = images1.map(add_all_bands)\n",
    "data1 = ee.FeatureCollection(with_bands1.map(extract_data))\n",
    "df1 = geemap.ee_to_pandas(data1)\n",
    "images1 = create_median_composites(roi1, 2014, 2020)\n",
    "\n",
    "#images2 = ee.ImageCollection(create_median_composites(roi2, 2016, 2020))\n",
    "#with_bands2 = images2.map(add_all_bands)\n",
    "#data2 = ee.FeatureCollection(with_bands2.map(extract_data))\n",
    "#df2 = geemap.ee_to_pandas(data2)\n",
    "\n",
    "#images3 = ee.ImageCollection(create_median_composites(roi3, 2016, 2020))\n",
    "#with_bands3 = images3.map(add_all_bands)\n",
    "#data3 = ee.FeatureCollection(with_bands3.map(extract_data))\n",
    "#df3 = geemap.ee_to_pandas(data3)"
   ]
  },
  {
   "cell_type": "code",
   "execution_count": 85,
   "id": "ed56e31a",
   "metadata": {
    "scrolled": false
   },
   "outputs": [
    {
     "data": {
      "image/png": "[encoded data removed]",
      "text/plain": [
       "<Figure size 720x720 with 1 Axes>"
      ]
     },
     "metadata": {
      "needs_background": "light"
     },
     "output_type": "display_data"
    }
   ],
   "source": [
    "fig, ax = plt.subplots(1, 1)\n",
    "fig.set_size_inches(10, 10)\n",
    "\n",
    "xticks = [t[1] for t in images1]\n",
    "ax.set_xticks([0, 1, 2, 3, 4, 5, 6], xticks)\n",
    "\n",
    "df1.plot(ax=ax,\n",
    "       title = 'Region 1',\n",
    "       xlabel='Year',\n",
    "       ylabel='Mean Band Value',\n",
    "       marker='o')\n",
    "\n",
    "plt.show()"
   ]
  },
  {
   "cell_type": "code",
   "execution_count": null,
   "id": "1d9cad29",
   "metadata": {
    "scrolled": false
   },
   "outputs": [],
   "source": []
  }
 ],
 "metadata": {
  "kernelspec": {
   "display_name": "Python 3 (ipykernel)",
   "language": "python",
   "name": "python3"
  },
  "language_info": {
   "codemirror_mode": {
    "name": "ipython",
    "version": 3
   },
   "file_extension": ".py",
   "mimetype": "text/x-python",
   "name": "python",
   "nbconvert_exporter": "python",
   "pygments_lexer": "ipython3",
   "version": "3.10.1"
  }
 },
 "nbformat": 4,
 "nbformat_minor": 5
}
