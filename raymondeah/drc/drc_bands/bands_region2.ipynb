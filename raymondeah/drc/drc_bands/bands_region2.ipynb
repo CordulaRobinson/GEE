{
 "cells": [
  {
   "cell_type": "code",
   "execution_count": 1,
   "id": "4cd14f48",
   "metadata": {},
   "outputs": [],
   "source": [
    "import ee\n",
    "import geemap\n",
    "from geemap import chart\n",
    "\n",
    "%matplotlib inline\n",
    "import matplotlib.pyplot as plt"
   ]
  },
  {
   "cell_type": "code",
   "execution_count": 2,
   "id": "e56a5d2e",
   "metadata": {},
   "outputs": [
    {
     "data": {
      "text/html": [
       "<p>To authorize access needed by Earth Engine, open the following\n",
       "        URL in a web browser and follow the instructions:</p>\n",
       "        <p><a href=https://accounts.google.com/o/oauth2/auth?client_id=517222506229-vsmmajv00ul0bs7p89v5m89qs8eb9359.apps.googleusercontent.com&scope=https%3A%2F%2Fwww.googleapis.com%2Fauth%2Fearthengine+https%3A%2F%2Fwww.googleapis.com%2Fauth%2Fdevstorage.full_control&redirect_uri=urn%3Aietf%3Awg%3Aoauth%3A2.0%3Aoob&response_type=code&code_challenge=GD0XfRFJqBSdAAAeSCr8kGR2U-lYhxo0UaBzsxOFUG4&code_challenge_method=S256>https://accounts.google.com/o/oauth2/auth?client_id=517222506229-vsmmajv00ul0bs7p89v5m89qs8eb9359.apps.googleusercontent.com&scope=https%3A%2F%2Fwww.googleapis.com%2Fauth%2Fearthengine+https%3A%2F%2Fwww.googleapis.com%2Fauth%2Fdevstorage.full_control&redirect_uri=urn%3Aietf%3Awg%3Aoauth%3A2.0%3Aoob&response_type=code&code_challenge=GD0XfRFJqBSdAAAeSCr8kGR2U-lYhxo0UaBzsxOFUG4&code_challenge_method=S256</a></p>\n",
       "        <p>The authorization workflow will generate a code, which you\n",
       "        should paste in the box below</p>\n",
       "        "
      ],
      "text/plain": [
       "<IPython.core.display.HTML object>"
      ]
     },
     "metadata": {},
     "output_type": "display_data"
    },
    {
     "name": "stdout",
     "output_type": "stream",
     "text": [
      "Enter verification code: 4/1AX4XfWhzH6wOB20pIhCm5cOWd8iRWXyim_BLK8N8Cd4RQuTJR0Q0GGCQenY\n",
      "\n",
      "Successfully saved authorization token.\n"
     ]
    }
   ],
   "source": [
    "ee.Authenticate()\n",
    "ee.Initialize()"
   ]
  },
  {
   "cell_type": "code",
   "execution_count": 51,
   "id": "b0739241",
   "metadata": {},
   "outputs": [],
   "source": [
    "javascript_code = \"\"\"\n",
    "// BSI\n",
    "var bsi = composite.expression(\n",
    "      '(( X + Y ) - (A + B)) /(( X + Y ) + (A + B)) ', {\n",
    "        'X': composite.select('SR_B6'), //swir1\n",
    "        'Y': composite.select('SR_B4'),  //red\n",
    "        'A': composite.select('SR_B5'), // nir\n",
    "        'B': composite.select('SR_B2'), // blue\n",
    "  });\n",
    "  \n",
    "Map.addLayer(bsi, {min: 0, max: 1, palette: ['white', '#7a5230']}, 'BSI 1');\n",
    "\"\"\""
   ]
  },
  {
   "cell_type": "code",
   "execution_count": 52,
   "id": "516e67c3",
   "metadata": {},
   "outputs": [],
   "source": [
    "geemap.js_snippet_to_py(javascript_code)"
   ]
  },
  {
   "cell_type": "code",
   "execution_count": 3,
   "id": "a878b096",
   "metadata": {},
   "outputs": [],
   "source": [
    "s2 = ee.ImageCollection(\"COPERNICUS/S2_SR\")\n",
    "ls7 = ee.ImageCollection(\"LANDSAT/LE07/C02/T1_L2\")\n",
    "ls8 = ee.ImageCollection(\"LANDSAT/LC08/C02/T1_L2\")\n",
    "hyperion = ee.ImageCollection(\"EO1/HYPERION\")\n",
    "admin = ee.FeatureCollection(\"FAO/GAUL_SIMPLIFIED_500m/2015/level1\")\n",
    "miningPermits = ee.FeatureCollection(\"users/raymondeah/Democratic_Republic_of_the_Congo_mining_permits\")\n",
    "activeMines = ee.FeatureCollection(\"users/raymondeah/cod_mines_curated_all_opendata_p_ipis\")\n",
    "points = ee.Geometry.MultiPoint(\n",
    "        [[29.58905590753292, 3.1265733505900184],\n",
    "         [29.783181537630476, 3.1489109666499777],\n",
    "         [30.305007154636336, 1.7496889115779437]])\n",
    "\n",
    "roi1 = ee.Geometry.Polygon(\n",
    "        [[[29.554129272985683, 3.1591674847348235],\n",
    "          [29.554129272985683, 3.092319151883147],\n",
    "          [29.625197083044277, 3.092319151883147],\n",
    "          [29.625197083044277, 3.1591674847348235]]])\n",
    "\n",
    "roi2 = ee.Geometry.Polygon(\n",
    "        [[[29.76168993261876, 3.1680250077194825],\n",
    "          [29.76168993261876, 3.1272312365091772],\n",
    "          [29.803832800660754, 3.1272312365091772],\n",
    "          [29.803832800660754, 3.1680250077194825]]])\n",
    "\n",
    "roi3 = ee.Geometry.Polygon(\n",
    "        [[[30.246670960050185, 1.7911944738716732],\n",
    "          [30.246670960050185, 1.7103797163160706],\n",
    "          [30.356362579923232, 1.7103797163160706],\n",
    "          [30.356362579923232, 1.7911944738716732]]])"
   ]
  },
  {
   "cell_type": "code",
   "execution_count": 4,
   "id": "498d4d96",
   "metadata": {},
   "outputs": [],
   "source": [
    "rgbVis = {\n",
    "    'min': 8097.96,\n",
    "    'max': 12128.04,\n",
    "    'bands': ['SR_B4', 'SR_B3', 'SR_B2']\n",
    "}\n",
    "\n",
    "vigsVis = {\n",
    "    'min': 0,\n",
    "    'max': 1,\n",
    "    'palette': ['white', 'green']\n",
    "}\n",
    "\n",
    "ndviVis = {\n",
    "    'min': 0,\n",
    "    'max': 0.5,\n",
    "    'palette': ['white', 'green']\n",
    "}\n",
    "\n",
    "ironVis = {\n",
    "    'min': 1.030170142666699,\n",
    "    'max': 1.4796675821766498,\n",
    "    'palette': ['white', 'gray']\n",
    "}\n",
    "\n",
    "clayVis = {\n",
    "    'min': 1.1333754972833363,\n",
    "    'max': 1.3931124450708396,\n",
    "    'palette': ['white', 'brown']\n",
    "}\n",
    "\n",
    "ndmiVis = {\n",
    "    'min': 0,\n",
    "    'max': 0.5,\n",
    "    'palette': ['white', 'blue']\n",
    "}\n",
    "\n",
    "bsiVis = {\n",
    "    'min': -0.11390094234742729, \n",
    "    'max': 0.12724605991882074, \n",
    "    'palette': ['white', '#7a5230']\n",
    "}"
   ]
  },
  {
   "cell_type": "code",
   "execution_count": 5,
   "id": "6b7f69cc",
   "metadata": {},
   "outputs": [],
   "source": [
    "def create_median_composites(geometry, start, end):\n",
    "    images = []\n",
    "    \n",
    "    for year in range(start, end+1):\n",
    "        filtered = ls8 \\\n",
    "            .filter(ee.Filter.bounds(geometry)) \\\n",
    "            .filter(ee.Filter.date(str(year) + '-01-01', str(year) + '-12-31')) \\\n",
    "            .filter(ee.Filter.lt('CLOUD_COVER', 15)) \\\n",
    "            .select('SR_B.*') \\\n",
    "\n",
    "        composite = filtered.median().clip(geometry)\n",
    "        \n",
    "        images.append((composite, year))\n",
    "        \n",
    "    return images"
   ]
  },
  {
   "cell_type": "code",
   "execution_count": 6,
   "id": "da90422f",
   "metadata": {},
   "outputs": [],
   "source": [
    "def add_median_composites(images, geometry):\n",
    "    Map = geemap.Map()\n",
    "    Map.centerObject(geometry, 12)\n",
    "    \n",
    "    for image, year in images:\n",
    "        Map.addLayer(image, rgbVis, str(year) + ' Median Composite')\n",
    "        \n",
    "    return Map"
   ]
  },
  {
   "cell_type": "code",
   "execution_count": 7,
   "id": "a6156a77",
   "metadata": {},
   "outputs": [],
   "source": [
    "def create_ndvi_layers(images, geometry):\n",
    "    Map = geemap.Map()\n",
    "    Map.centerObject(geometry, 12)\n",
    "    \n",
    "    for image, year in images:\n",
    "        ndvi = image.normalizedDifference(['SR_B5', 'SR_B4'])\n",
    "        Map.addLayer(ndvi, ndviVis, 'NDVI ' + str(year))\n",
    "        \n",
    "    return Map"
   ]
  },
  {
   "cell_type": "code",
   "execution_count": 8,
   "id": "c06ebaeb",
   "metadata": {},
   "outputs": [],
   "source": [
    "def create_iron_layers(images, geometry):\n",
    "    Map = geemap.Map()\n",
    "    Map.centerObject(geometry, 12)\n",
    "    \n",
    "    for image, year in images:\n",
    "        iron = image.select('SR_B4').divide(image.select('SR_B2'))\n",
    "        Map.addLayer(iron, ironVis, 'Iron Concentration ' + str(year))\n",
    "        \n",
    "    return Map"
   ]
  },
  {
   "cell_type": "code",
   "execution_count": 9,
   "id": "18c1dafa",
   "metadata": {},
   "outputs": [],
   "source": [
    "def create_clay_layers(images, geometry):\n",
    "    Map = geemap.Map()\n",
    "    Map.centerObject(geometry, 12)\n",
    "    \n",
    "    for image, year in images:\n",
    "        clay = image.select('SR_B6').divide(image.select('SR_B7'))\n",
    "        Map.addLayer(clay, clayVis, 'Clay Concentration ' + str(year))\n",
    "        \n",
    "    return Map"
   ]
  },
  {
   "cell_type": "code",
   "execution_count": 10,
   "id": "df10f8f3",
   "metadata": {},
   "outputs": [],
   "source": [
    "def create_ndmi_layers(images, geometry):\n",
    "    Map = geemap.Map()\n",
    "    Map.centerObject(geometry, 12)\n",
    "    \n",
    "    for image, year in images:\n",
    "        ndmi = image.normalizedDifference(['SR_B5', 'SR_B6'])\n",
    "        Map.addLayer(ndmi, ndmiVis, 'NDMI ' + str(year))\n",
    "        \n",
    "    return Map"
   ]
  },
  {
   "cell_type": "code",
   "execution_count": 11,
   "id": "f564636e",
   "metadata": {},
   "outputs": [],
   "source": [
    "def create_vigs_layers(images, geometry):\n",
    "    Map = geemap.Map()\n",
    "    Map.centerObject(geometry, 12)\n",
    "    \n",
    "    for image, year in images:\n",
    "        g_r = image.normalizedDifference(['SR_B3', 'SR_B4'])\n",
    "        nir_r = image.normalizedDifference(['SR_B5', 'SR_B4'])\n",
    "        nir_swir1 = image.normalizedDifference(['SR_B5', 'SR_B6'])\n",
    "        nir_swir2 = image.normalizedDifference(['SR_B5', 'SR_B7'])\n",
    "        \n",
    "        vigs = g_r.add(nir_r.multiply(0.5)) \\\n",
    "            .add(nir_swir1.multiply(1.5)) \\\n",
    "            .add(nir_swir2.multiply(1.5))\n",
    "        \n",
    "        Map.addLayer(vigs, vigsVis, 'VIGS ' + str(year))\n",
    "        \n",
    "    return Map"
   ]
  },
  {
   "cell_type": "code",
   "execution_count": 12,
   "id": "af3fc099",
   "metadata": {},
   "outputs": [],
   "source": [
    "def create_bsi_layers(images, geometry):\n",
    "    Map = geemap.Map()\n",
    "    Map.centerObject(geometry, 12)\n",
    "    \n",
    "    for image, year in images:\n",
    "        # BSI\n",
    "        bsi = image.expression(\n",
    "            '(( X + Y ) - (A + B)) /(( X + Y ) + (A + B)) ', {\n",
    "            'X': image.select('SR_B6'), #swir1\n",
    "            'Y': image.select('SR_B4'),  #red\n",
    "            'A': image.select('SR_B5'), # nir\n",
    "            'B': image.select('SR_B2'), # blue\n",
    "            })\n",
    "\n",
    "        Map.addLayer(bsi, bsiVis, 'BSI ' + str(year))\n",
    "        \n",
    "    return Map"
   ]
  },
  {
   "cell_type": "markdown",
   "id": "ecc9e5a1",
   "metadata": {},
   "source": [
    "## Region 2"
   ]
  },
  {
   "cell_type": "markdown",
   "id": "fa4f06f1",
   "metadata": {},
   "source": [
    "### Median Composites"
   ]
  },
  {
   "cell_type": "code",
   "execution_count": 13,
   "id": "834e649f",
   "metadata": {},
   "outputs": [
    {
     "data": {
      "application/vnd.jupyter.widget-view+json": {
       "model_id": "336242184d5a43879335642194f39f48",
       "version_major": 2,
       "version_minor": 0
      },
      "text/plain": [
       "Map(center=[3.147628201438352, 29.782761366638574], controls=(WidgetControl(options=['position', 'transparent_…"
      ]
     },
     "metadata": {},
     "output_type": "display_data"
    }
   ],
   "source": [
    "images = create_median_composites(roi2, 2016, 2020)\n",
    "Map = add_median_composites(images, roi2)\n",
    "Map"
   ]
  },
  {
   "cell_type": "markdown",
   "id": "36fe62de",
   "metadata": {},
   "source": [
    "### NDVI"
   ]
  },
  {
   "cell_type": "code",
   "execution_count": 14,
   "id": "32c7027c",
   "metadata": {},
   "outputs": [
    {
     "data": {
      "application/vnd.jupyter.widget-view+json": {
       "model_id": "8c0e7dd5babc41c086fb58fa3dc8745b",
       "version_major": 2,
       "version_minor": 0
      },
      "text/plain": [
       "Map(center=[3.147628201438352, 29.782761366638574], controls=(WidgetControl(options=['position', 'transparent_…"
      ]
     },
     "metadata": {},
     "output_type": "display_data"
    }
   ],
   "source": [
    "Map = create_ndvi_layers(images, roi2)\n",
    "Map"
   ]
  },
  {
   "cell_type": "markdown",
   "id": "aa2faf1b",
   "metadata": {},
   "source": [
    "### NDMI"
   ]
  },
  {
   "cell_type": "code",
   "execution_count": 15,
   "id": "bf7f36aa",
   "metadata": {},
   "outputs": [
    {
     "data": {
      "application/vnd.jupyter.widget-view+json": {
       "model_id": "18310471228e4105bab01b2e90505a25",
       "version_major": 2,
       "version_minor": 0
      },
      "text/plain": [
       "Map(center=[3.147628201438352, 29.782761366638574], controls=(WidgetControl(options=['position', 'transparent_…"
      ]
     },
     "metadata": {},
     "output_type": "display_data"
    }
   ],
   "source": [
    "Map = create_ndmi_layers(images, roi2)\n",
    "Map"
   ]
  },
  {
   "cell_type": "markdown",
   "id": "47e13640",
   "metadata": {},
   "source": [
    "### Iron"
   ]
  },
  {
   "cell_type": "code",
   "execution_count": 16,
   "id": "d93ce71c",
   "metadata": {},
   "outputs": [
    {
     "data": {
      "application/vnd.jupyter.widget-view+json": {
       "model_id": "7d5fe0ba372e4b47ab7873ca026e3337",
       "version_major": 2,
       "version_minor": 0
      },
      "text/plain": [
       "Map(center=[3.147628201438352, 29.782761366638574], controls=(WidgetControl(options=['position', 'transparent_…"
      ]
     },
     "metadata": {},
     "output_type": "display_data"
    }
   ],
   "source": [
    "Map = create_iron_layers(images, roi2)\n",
    "Map"
   ]
  },
  {
   "cell_type": "markdown",
   "id": "5c4407be",
   "metadata": {},
   "source": [
    "### Clay"
   ]
  },
  {
   "cell_type": "code",
   "execution_count": 17,
   "id": "0e66f192",
   "metadata": {},
   "outputs": [
    {
     "data": {
      "application/vnd.jupyter.widget-view+json": {
       "model_id": "368f16d2f709470aa301d988dae47290",
       "version_major": 2,
       "version_minor": 0
      },
      "text/plain": [
       "Map(center=[3.147628201438352, 29.782761366638574], controls=(WidgetControl(options=['position', 'transparent_…"
      ]
     },
     "metadata": {},
     "output_type": "display_data"
    }
   ],
   "source": [
    "Map = create_clay_layers(images, roi2)\n",
    "Map"
   ]
  },
  {
   "cell_type": "markdown",
   "id": "d40ac34e",
   "metadata": {},
   "source": [
    "### VIGS"
   ]
  },
  {
   "cell_type": "code",
   "execution_count": 18,
   "id": "a2f8f607",
   "metadata": {},
   "outputs": [
    {
     "data": {
      "application/vnd.jupyter.widget-view+json": {
       "model_id": "8ec1d015034d494fa8c46b515cff31b1",
       "version_major": 2,
       "version_minor": 0
      },
      "text/plain": [
       "Map(center=[3.147628201438352, 29.782761366638574], controls=(WidgetControl(options=['position', 'transparent_…"
      ]
     },
     "metadata": {},
     "output_type": "display_data"
    }
   ],
   "source": [
    "Map = create_vigs_layers(images, roi2)\n",
    "Map"
   ]
  },
  {
   "cell_type": "markdown",
   "id": "1a0add71",
   "metadata": {},
   "source": [
    "### BSI"
   ]
  },
  {
   "cell_type": "code",
   "execution_count": 19,
   "id": "01a6cc29",
   "metadata": {},
   "outputs": [
    {
     "data": {
      "application/vnd.jupyter.widget-view+json": {
       "model_id": "173fd2ad059c46eb999d28a5f5b7283a",
       "version_major": 2,
       "version_minor": 0
      },
      "text/plain": [
       "Map(center=[3.147628201438352, 29.782761366638574], controls=(WidgetControl(options=['position', 'transparent_…"
      ]
     },
     "metadata": {},
     "output_type": "display_data"
    }
   ],
   "source": [
    "Map = create_bsi_layers(images, roi2)\n",
    "Map"
   ]
  },
  {
   "cell_type": "code",
   "execution_count": 20,
   "id": "b04ae6c7",
   "metadata": {},
   "outputs": [],
   "source": [
    "def extract_data(image):\n",
    "    stats = image.reduceRegion(**{\n",
    "        'reducer': ee.Reducer.mean(),\n",
    "        'geometry': image.geometry(),\n",
    "        'scale': 100\n",
    "    })\n",
    "    \n",
    "    properties = {\n",
    "        'Year': image.get('system:index'),\n",
    "        'NDVI': stats.get('ndvi'),\n",
    "        'VIGS': stats.get('vigs'),\n",
    "        'NDMI': stats.get('ndmi'),\n",
    "        'BSI': stats.get('bsi'),\n",
    "        'Iron': stats.get('iron'),\n",
    "        'Clay': stats.get('clay')\n",
    "    }\n",
    "    \n",
    "    return ee.Feature(None, properties)"
   ]
  },
  {
   "cell_type": "code",
   "execution_count": 21,
   "id": "01dee397",
   "metadata": {},
   "outputs": [],
   "source": [
    "def add_all_bands(image):\n",
    "    ndvi = image.normalizedDifference(['SR_B5', 'SR_B4']).rename('ndvi')\n",
    "    iron = image.select('SR_B4').divide(image.select('SR_B2')).rename('iron')\n",
    "    clay = image.select('SR_B6').divide(image.select('SR_B7')).rename('clay')\n",
    "    ndmi = image.normalizedDifference(['SR_B5', 'SR_B6']).rename('ndmi')\n",
    "    \n",
    "    g_r = image.normalizedDifference(['SR_B3', 'SR_B4'])\n",
    "    nir_r = image.normalizedDifference(['SR_B5', 'SR_B4'])\n",
    "    nir_swir1 = image.normalizedDifference(['SR_B5', 'SR_B6'])\n",
    "    nir_swir2 = image.normalizedDifference(['SR_B5', 'SR_B7'])\n",
    "        \n",
    "    vigs = g_r.add(nir_r.multiply(0.5)) \\\n",
    "        .add(nir_swir1.multiply(1.5)) \\\n",
    "        .add(nir_swir2.multiply(1.5)).rename('vigs')\n",
    "    \n",
    "    bsi = image.expression(\n",
    "            '(( X + Y ) - (A + B)) /(( X + Y ) + (A + B)) ', {\n",
    "            'X': image.select('SR_B6'), #swir1\n",
    "            'Y': image.select('SR_B4'),  #red\n",
    "            'A': image.select('SR_B5'), # nir\n",
    "            'B': image.select('SR_B2'), # blue\n",
    "            }).rename('bsi')\n",
    "    \n",
    "    return image.addBands([ndvi, iron, clay, ndmi, vigs, bsi])"
   ]
  },
  {
   "cell_type": "code",
   "execution_count": 26,
   "id": "1128b129",
   "metadata": {},
   "outputs": [],
   "source": [
    "#images1 = ee.ImageCollection(create_median_composites(roi1, 2016, 2020))\n",
    "#with_bands1 = images1.map(add_all_bands)\n",
    "#data1 = ee.FeatureCollection(with_bands1.map(extract_data))\n",
    "#df1 = geemap.ee_to_pandas(data1)\n",
    "#images1 = create_median_composites(roi1, 2016, 2020)\n",
    "\n",
    "images2 = ee.ImageCollection(create_median_composites(roi2, 2016, 2020))\n",
    "with_bands2 = images2.map(add_all_bands)\n",
    "data2 = ee.FeatureCollection(with_bands2.map(extract_data))\n",
    "df2 = geemap.ee_to_pandas(data2)\n",
    "images2 = create_median_composites(roi1, 2016, 2020)\n",
    "\n",
    "#images3 = ee.ImageCollection(create_median_composites(roi3, 2016, 2020))\n",
    "#with_bands3 = images3.map(add_all_bands)\n",
    "#data3 = ee.FeatureCollection(with_bands3.map(extract_data))\n",
    "#df3 = geemap.ee_to_pandas(data3)"
   ]
  },
  {
   "cell_type": "code",
   "execution_count": 27,
   "id": "fbb1b54c",
   "metadata": {},
   "outputs": [
    {
     "data": {
      "image/png": "[encoded data removed]",
      "text/plain": [
       "<Figure size 720x720 with 1 Axes>"
      ]
     },
     "metadata": {
      "needs_background": "light"
     },
     "output_type": "display_data"
    }
   ],
   "source": [
    "fig, ax = plt.subplots(1, 1)\n",
    "fig.set_size_inches(10, 10)\n",
    "\n",
    "xticks = [t[1] for t in images2]\n",
    "ax.set_xticks([0, 1, 2, 3, 4], xticks)\n",
    "\n",
    "df2.plot(ax=ax,\n",
    "       title = 'Region 2',\n",
    "       xlabel='Year',\n",
    "       ylabel='Mean Band Value',\n",
    "       marker='o')\n",
    "\n",
    "\n",
    "plt.show()"
   ]
  },
  {
   "cell_type": "code",
   "execution_count": null,
   "id": "e273dac1",
   "metadata": {},
   "outputs": [],
   "source": []
  },
  {
   "cell_type": "code",
   "execution_count": null,
   "id": "1873b630",
   "metadata": {},
   "outputs": [],
   "source": []
  }
 ],
 "metadata": {
  "kernelspec": {
   "display_name": "Python 3 (ipykernel)",
   "language": "python",
   "name": "python3"
  },
  "language_info": {
   "codemirror_mode": {
    "name": "ipython",
    "version": 3
   },
   "file_extension": ".py",
   "mimetype": "text/x-python",
   "name": "python",
   "nbconvert_exporter": "python",
   "pygments_lexer": "ipython3",
   "version": "3.10.1"
  }
 },
 "nbformat": 4,
 "nbformat_minor": 5
}
