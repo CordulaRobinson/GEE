{
 "cells": [
  {
   "cell_type": "code",
   "execution_count": 34,
   "id": "6f11ee20-fad4-4adb-9ec4-897587bc5484",
   "metadata": {},
   "outputs": [],
   "source": [
    "import os\n",
    "import csv\n",
    "import ee\n",
    "import geemap\n",
    "ee.Initialize()\n",
    "\n",
    "roi1 = ee.Geometry.Polygon(\n",
    "        [[[29.5, 3.5],\n",
    "          [29.5, 3],\n",
    "          [30, 3],\n",
    "          [30, 3.5]]])\n",
    "\n",
    "roi2 = ee.Geometry.Polygon(\n",
    "        [[[25, -10],\n",
    "          [25, -15],\n",
    "          [30, -15],\n",
    "          [30, -10]]])\n",
    "\n",
    "roi3 = ee.Geometry.Polygon(\n",
    "        [[[25.876, -0.059],\n",
    "          [25.876, -2.602],\n",
    "          [29.392, -2.602],\n",
    "          [29.392, -0.059]]])\n",
    "\n",
    "active_mines = ee.FeatureCollection(\"users/raymondeah/cod_mines_curated_all_opendata_p_ipis\")\n",
    "\n",
    "# os.system(\"cat output/*csv > output/compiled.csv\")\n",
    "# os.system(\"rm -rf slurm*\")\n",
    "# os.system(\"rm -rf output/square*\")\n",
    "# os.system(\"rm batch/*\")\n",
    "\n",
    "path = \"results/compiled.csv\"\n",
    "\n",
    "restore = []\n",
    "with open(path, newline='') as csvfile:\n",
    "    spamreader = csv.reader(csvfile, delimiter=' ')\n",
    "    for row in spamreader:\n",
    "        coords = row[0].split(',')\n",
    "        restore.append(coords)\n",
    "\n",
    "fc = []\n",
    "for row in restore:\n",
    "    g = ee.Geometry.Polygon(\n",
    "        [[[float(row[0]), float(row[1])],\n",
    "          [float(row[2]), float(row[3])],\n",
    "          [float(row[4]), float(row[5])],\n",
    "          [float(row[6]), float(row[7])]]])\n",
    "    fc.append(g)\n",
    "\n",
    "final = ee.FeatureCollection(fc)\n",
    "\n",
    "#export an ee.FeatureCollection as an Earth Engine asset.\n",
    "task = ee.batch.Export.table.toDrive(**{\n",
    "  'collection': final,\n",
    "  'description': 'fptr3f',\n",
    "  'fileFormat': 'CSV'\n",
    "})\n",
    "task.start()\n",
    "\n",
    "\n",
    "# Map = geemap.Map()\n",
    "# Map.centerObject(roi3, 8)\n",
    "# Map.addLayer(roi3, {'color': 'red'}, 'box', opacity=0.2)\n",
    "# Map.addLayer(active_mines, {'color': 'black'}, 'mapbox', opacity=0.2)\n",
    "# Map.addLayer(final, {'color': 'blue'}, 'final prod')\n",
    "# Map\n",
    "\n",
    "\n"
   ]
  },
  {
   "cell_type": "code",
   "execution_count": 2,
   "id": "43d48e16-ec26-46f2-9199-813a3dfd8972",
   "metadata": {},
   "outputs": [
    {
     "ename": "NameError",
     "evalue": "name 'sleep' is not defined",
     "output_type": "error",
     "traceback": [
      "\u001b[0;31m---------------------------------------------------------------------------\u001b[0m",
      "\u001b[0;31mNameError\u001b[0m                                 Traceback (most recent call last)",
      "\u001b[0;32m/tmp/ipykernel_35325/1225784395.py\u001b[0m in \u001b[0;36m<module>\u001b[0;34m\u001b[0m\n\u001b[1;32m      1\u001b[0m \u001b[0;32mimport\u001b[0m \u001b[0mos\u001b[0m\u001b[0;34m\u001b[0m\u001b[0;34m\u001b[0m\u001b[0m\n\u001b[1;32m      2\u001b[0m \u001b[0;34m\u001b[0m\u001b[0m\n\u001b[0;32m----> 3\u001b[0;31m \u001b[0msleep\u001b[0m\u001b[0;34m(\u001b[0m\u001b[0;36m1\u001b[0m\u001b[0;34m)\u001b[0m\u001b[0;34m\u001b[0m\u001b[0;34m\u001b[0m\u001b[0m\n\u001b[0m\u001b[1;32m      4\u001b[0m \u001b[0;31m# os.system('touch test.txt')\u001b[0m\u001b[0;34m\u001b[0m\u001b[0;34m\u001b[0m\u001b[0;34m\u001b[0m\u001b[0m\n\u001b[1;32m      5\u001b[0m \u001b[0;31m# while os.system('grep start test.txt'):\u001b[0m\u001b[0;34m\u001b[0m\u001b[0;34m\u001b[0m\u001b[0;34m\u001b[0m\u001b[0m\n",
      "\u001b[0;31mNameError\u001b[0m: name 'sleep' is not defined"
     ]
    }
   ],
   "source": [
    "import os\n",
    "\n",
    "sleep(1)\n",
    "# os.system('touch test.txt')\n",
    "# while os.system('grep start test.txt'):\n",
    "#     print(os.system('grep start test.txt'))\n",
    "#     os.system('squeue -u eah.r > test.txt')"
   ]
  },
  {
   "cell_type": "code",
   "execution_count": null,
   "id": "d6443497-ccec-4b0d-b7c8-a5c2e607ac4e",
   "metadata": {},
   "outputs": [],
   "source": []
  },
  {
   "cell_type": "code",
   "execution_count": null,
   "id": "4dafd663-92fe-43f3-97cd-a29f242e8996",
   "metadata": {},
   "outputs": [],
   "source": []
  }
 ],
 "metadata": {
  "kernelspec": {
   "display_name": "Python 3 (ipykernel)",
   "language": "python",
   "name": "python3"
  },
  "language_info": {
   "codemirror_mode": {
    "name": "ipython",
    "version": 3
   },
   "file_extension": ".py",
   "mimetype": "text/x-python",
   "name": "python",
   "nbconvert_exporter": "python",
   "pygments_lexer": "ipython3",
   "version": "3.7.11"
  }
 },
 "nbformat": 4,
 "nbformat_minor": 5
}
