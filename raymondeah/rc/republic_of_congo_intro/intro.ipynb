{
 "cells": [
  {
   "cell_type": "markdown",
   "id": "dee687cd",
   "metadata": {},
   "source": [
    "<center> <h1> Republic of the Congo - Introductory Analysis </h1> </center>"
   ]
  },
  {
   "cell_type": "code",
   "execution_count": 1,
   "id": "fe1497c2",
   "metadata": {},
   "outputs": [],
   "source": [
    "import ee\n",
    "import geemap\n",
    "import matplotlib.pyplot as plt\n",
    "import numpy as np\n",
    "from sklearn.metrics import ConfusionMatrixDisplay"
   ]
  },
  {
   "cell_type": "code",
   "execution_count": 2,
   "id": "4f81abe7",
   "metadata": {},
   "outputs": [
    {
     "data": {
      "text/html": [
       "<p>To authorize access needed by Earth Engine, open the following\n",
       "        URL in a web browser and follow the instructions:</p>\n",
       "        <p><a href=https://accounts.google.com/o/oauth2/auth?client_id=517222506229-vsmmajv00ul0bs7p89v5m89qs8eb9359.apps.googleusercontent.com&scope=https%3A%2F%2Fwww.googleapis.com%2Fauth%2Fearthengine+https%3A%2F%2Fwww.googleapis.com%2Fauth%2Fdevstorage.full_control&redirect_uri=urn%3Aietf%3Awg%3Aoauth%3A2.0%3Aoob&response_type=code&code_challenge=RnLea7f4_j91DkCmFoTsnBFfzr9rnFew2ddi5gv-rgs&code_challenge_method=S256>https://accounts.google.com/o/oauth2/auth?client_id=517222506229-vsmmajv00ul0bs7p89v5m89qs8eb9359.apps.googleusercontent.com&scope=https%3A%2F%2Fwww.googleapis.com%2Fauth%2Fearthengine+https%3A%2F%2Fwww.googleapis.com%2Fauth%2Fdevstorage.full_control&redirect_uri=urn%3Aietf%3Awg%3Aoauth%3A2.0%3Aoob&response_type=code&code_challenge=RnLea7f4_j91DkCmFoTsnBFfzr9rnFew2ddi5gv-rgs&code_challenge_method=S256</a></p>\n",
       "        <p>The authorization workflow will generate a code, which you\n",
       "        should paste in the box below</p>\n",
       "        "
      ],
      "text/plain": [
       "<IPython.core.display.HTML object>"
      ]
     },
     "metadata": {},
     "output_type": "display_data"
    },
    {
     "name": "stdout",
     "output_type": "stream",
     "text": [
      "Enter verification code: 4/1AX4XfWgy_ypSYJ4h16eLsUBnzJCYJzNhnhgvu571TubZ9SI5HHPFxZjrsHo\n",
      "\n",
      "Successfully saved authorization token.\n"
     ]
    }
   ],
   "source": [
    "ee.Authenticate()\n",
    "ee.Initialize()"
   ]
  },
  {
   "cell_type": "markdown",
   "id": "09b818d1",
   "metadata": {},
   "source": [
    "<h2> 1. Imports </h2>"
   ]
  },
  {
   "cell_type": "code",
   "execution_count": 3,
   "id": "9c94e647",
   "metadata": {},
   "outputs": [],
   "source": [
    "s2 = ee.ImageCollection(\"COPERNICUS/S2_SR\") # main dataset\n",
    "admin = ee.FeatureCollection(\"FAO/GAUL_SIMPLIFIED_500m/2015/level0\") # for country boundaries\n",
    "admin2 = ee.FeatureCollection(\"FAO/GAUL/2015/level2\")\n",
    "nightLights = ee.ImageCollection(\"NOAA/VIIRS/DNB/MONTHLY_V1/VCMSLCFG\")\n",
    "\n",
    "# manual point drawings of vegetation, water, and urban areas to be used as training data\n",
    "vegetation = ee.FeatureCollection(\n",
    "        [ee.Feature(\n",
    "            ee.Geometry.Point([15.317372731170673, -4.178902185308254]),\n",
    "            {\n",
    "              \"landcover\": 2,\n",
    "              \"system:index\": \"0\"\n",
    "            }),\n",
    "        ee.Feature(\n",
    "            ee.Geometry.Point([15.326084546051044, -4.17793915662452]),\n",
    "            {\n",
    "              \"landcover\": 2,\n",
    "              \"system:index\": \"1\"\n",
    "            }),\n",
    "        ee.Feature(\n",
    "            ee.Geometry.Point([15.33069794555666, -4.196728702415942]),\n",
    "            {\n",
    "              \"landcover\": 2,\n",
    "              \"system:index\": \"2\"\n",
    "            }),\n",
    "        ee.Feature(\n",
    "            ee.Geometry.Point([15.303025088571554, -4.21831486155012]),\n",
    "            {\n",
    "              \"landcover\": 2,\n",
    "              \"system:index\": \"3\"\n",
    "            }),\n",
    "        ee.Feature(\n",
    "            ee.Geometry.Point([15.209547725069376, -4.2359184640783925]),\n",
    "            {\n",
    "              \"landcover\": 2,\n",
    "              \"system:index\": \"4\"\n",
    "            }),\n",
    "        ee.Feature(\n",
    "            ee.Geometry.Point([15.226337998653253, -4.217472956701684]),\n",
    "            {\n",
    "              \"landcover\": 2,\n",
    "              \"system:index\": \"5\"\n",
    "            }),\n",
    "        ee.Feature(\n",
    "            ee.Geometry.Point([15.25447396732368, -4.18226135505036]),\n",
    "            {\n",
    "              \"landcover\": 2,\n",
    "              \"system:index\": \"6\"\n",
    "            }),\n",
    "        ee.Feature(\n",
    "            ee.Geometry.Point([15.276109867639901, -4.1728338003697045]),\n",
    "            {\n",
    "              \"landcover\": 2,\n",
    "              \"system:index\": \"7\"\n",
    "            }),\n",
    "        ee.Feature(\n",
    "            ee.Geometry.Point([15.184102031111792, -4.305345855806201]),\n",
    "            {\n",
    "              \"landcover\": 2,\n",
    "              \"system:index\": \"8\"\n",
    "            }),\n",
    "        ee.Feature(\n",
    "            ee.Geometry.Point([15.2569159589902, -4.271359751932355]),\n",
    "            {\n",
    "              \"landcover\": 2,\n",
    "              \"system:index\": \"9\"\n",
    "            })])\n",
    "\n",
    "water = ee.FeatureCollection(\n",
    "        [ee.Feature(\n",
    "            ee.Geometry.Point([15.316751223919528, -4.218596434850652]),\n",
    "            {\n",
    "              \"landcover\": 1,\n",
    "              \"system:index\": \"0\"\n",
    "            }),\n",
    "        ee.Feature(\n",
    "            ee.Geometry.Point([15.319631355276098, -4.248830095972495]),\n",
    "            {\n",
    "              \"landcover\": 1,\n",
    "              \"system:index\": \"1\"\n",
    "            }),\n",
    "        ee.Feature(\n",
    "            ee.Geometry.Point([15.316584405579068, -4.200561595435991]),\n",
    "            {\n",
    "              \"landcover\": 1,\n",
    "              \"system:index\": \"2\"\n",
    "            }),\n",
    "        ee.Feature(\n",
    "            ee.Geometry.Point([15.29312792568675, -4.280628972754523]),\n",
    "            {\n",
    "              \"landcover\": 1,\n",
    "              \"system:index\": \"3\"\n",
    "            }),\n",
    "        ee.Feature(\n",
    "            ee.Geometry.Point([15.267898177460623, -4.29744748604764]),\n",
    "            {\n",
    "              \"landcover\": 1,\n",
    "              \"system:index\": \"4\"\n",
    "            }),\n",
    "        ee.Feature(\n",
    "            ee.Geometry.Point([15.241548156098318, -4.31403024653532]),\n",
    "            {\n",
    "              \"landcover\": 1,\n",
    "              \"system:index\": \"5\"\n",
    "            }),\n",
    "        ee.Feature(\n",
    "            ee.Geometry.Point([15.219493464626304, -4.296420182149353]),\n",
    "            {\n",
    "              \"landcover\": 1,\n",
    "              \"system:index\": \"6\"\n",
    "            }),\n",
    "        ee.Feature(\n",
    "            ee.Geometry.Point([15.215126828350058, -4.297415159303712]),\n",
    "            {\n",
    "              \"landcover\": 1,\n",
    "              \"system:index\": \"7\"\n",
    "            }),\n",
    "        ee.Feature(\n",
    "            ee.Geometry.Point([15.211009216176151, -4.272744853006216]),\n",
    "            {\n",
    "              \"landcover\": 1,\n",
    "              \"system:index\": \"8\"\n",
    "            }),\n",
    "        ee.Feature(\n",
    "            ee.Geometry.Point([15.22145633172788, -4.230245517253194]),\n",
    "            {\n",
    "              \"landcover\": 1,\n",
    "              \"system:index\": \"9\"\n",
    "            })])\n",
    "\n",
    "urban = ee.FeatureCollection(\n",
    "        [ee.Feature(\n",
    "            ee.Geometry.Point([15.278557855449444, -4.256406437046484]),\n",
    "            {\n",
    "              \"landcover\": 0,\n",
    "              \"system:index\": \"0\"\n",
    "            }),\n",
    "        ee.Feature(\n",
    "            ee.Geometry.Point([15.290617067180401, -4.257947126752471]),\n",
    "            {\n",
    "              \"landcover\": 0,\n",
    "              \"system:index\": \"1\"\n",
    "            }),\n",
    "        ee.Feature(\n",
    "            ee.Geometry.Point([15.286475736461407, -4.250414836666548]),\n",
    "            {\n",
    "              \"landcover\": 0,\n",
    "              \"system:index\": \"2\"\n",
    "            }),\n",
    "        ee.Feature(\n",
    "            ee.Geometry.Point([15.251857792922644, -4.290657103032545]),\n",
    "            {\n",
    "              \"landcover\": 0,\n",
    "              \"system:index\": \"3\"\n",
    "            }),\n",
    "        ee.Feature(\n",
    "            ee.Geometry.Point([15.241640419290205, -4.272236413225311]),\n",
    "            {\n",
    "              \"landcover\": 0,\n",
    "              \"system:index\": \"4\"\n",
    "            }),\n",
    "        ee.Feature(\n",
    "            ee.Geometry.Point([15.23796951216393, -4.273041518854091]),\n",
    "            {\n",
    "              \"landcover\": 0,\n",
    "              \"system:index\": \"5\"\n",
    "            }),\n",
    "        ee.Feature(\n",
    "            ee.Geometry.Point([15.233125153314905, -4.248537072724076]),\n",
    "            {\n",
    "              \"landcover\": 0,\n",
    "              \"system:index\": \"6\"\n",
    "            }),\n",
    "        ee.Feature(\n",
    "            ee.Geometry.Point([15.236923161279993, -4.248060951322166]),\n",
    "            {\n",
    "              \"landcover\": 0,\n",
    "              \"system:index\": \"7\"\n",
    "            }),\n",
    "        ee.Feature(\n",
    "            ee.Geometry.Point([15.22963435890933, -4.250528486273661]),\n",
    "            {\n",
    "              \"landcover\": 0,\n",
    "              \"system:index\": \"8\"\n",
    "            }),\n",
    "        ee.Feature(\n",
    "            ee.Geometry.Point([15.28006804923415, -4.220372888701518]),\n",
    "            {\n",
    "              \"landcover\": 0,\n",
    "              \"system:index\": \"9\"\n",
    "            })])"
   ]
  },
  {
   "cell_type": "code",
   "execution_count": 4,
   "id": "68ce5d8d",
   "metadata": {},
   "outputs": [],
   "source": [
    "# Function to remove cloud and snow pixels from Sentinel-2 SR image\n",
    "def maskCloudAndShadowsSR(image):\n",
    "  cloudProb = image.select('MSK_CLDPRB')\n",
    "  snowProb = image.select('MSK_SNWPRB')\n",
    "  cloud = cloudProb.lt(10)\n",
    "  scl = image.select('SCL')\n",
    "  shadow = scl.eq(3); # 3 = cloud shadow\n",
    "  cirrus = scl.eq(10); # 10 = cirrus\n",
    "  # Cloud probability less than 10% or cloud shadow classification\n",
    "  mask = cloud.And(cirrus.neq(1)).And(shadow.neq(1))\n",
    "  return image.updateMask(mask)"
   ]
  },
  {
   "cell_type": "code",
   "execution_count": 5,
   "id": "258b496d",
   "metadata": {},
   "outputs": [],
   "source": [
    "Map = geemap.Map()\n",
    "congo = admin.filter(ee.Filter.eq('ADM0_NAME', 'Congo'))\n",
    "# focusing on Brazzaville (capital/largest city population) to decrease map load times\n",
    "bv = admin2.filter(ee.Filter.eq('ADM1_NAME', 'Brazzaville'))\n",
    "Map.centerObject(bv, 12)"
   ]
  },
  {
   "cell_type": "markdown",
   "id": "050b4cd6",
   "metadata": {},
   "source": [
    "<h2> Median Composite </h2>"
   ]
  },
  {
   "cell_type": "code",
   "execution_count": 6,
   "id": "8a64845c",
   "metadata": {},
   "outputs": [],
   "source": [
    "filtered = s2 \\\n",
    "  .filter(ee.Filter.lt('CLOUDY_PIXEL_PERCENTAGE', 30)) \\\n",
    "  .filter(ee.Filter.date('2020-01-01', '2020-12-31')) \\\n",
    "  .filter(ee.Filter.bounds(bv)) \\\n",
    "  .map(maskCloudAndShadowsSR) \\\n",
    "  .select('B.*')\n",
    "\n",
    "composite = filtered.median().clip(bv)\n",
    "\n",
    "# Display the input composite.\n",
    "rgbVis = {\n",
    "  'min': 0,\n",
    "  'max': 3000, # ***\n",
    "  'bands': ['B4', 'B3', 'B2']}\n",
    "\n",
    "Map.addLayer(composite, rgbVis, 'Median Composite')"
   ]
  },
  {
   "cell_type": "markdown",
   "id": "e84aee8d",
   "metadata": {},
   "source": [
    "<h2> Night Lights </h2>"
   ]
  },
  {
   "cell_type": "code",
   "execution_count": 7,
   "id": "c58a94cc",
   "metadata": {},
   "outputs": [],
   "source": [
    "filtered = nightLights.filter(ee.Filter.date('2020-01-01', '2020-12-31'))\n",
    "image = ee.Image(filtered.first()).select('avg_rad').clip(bv)\n",
    "nighttimeVis = {'min': 0.0, 'max': 60.0}\n",
    "Map.addLayer(image, nighttimeVis, 'Night Lights')"
   ]
  },
  {
   "cell_type": "markdown",
   "id": "89f8896e",
   "metadata": {},
   "source": [
    "<h2> Spectral Indices </h2>"
   ]
  },
  {
   "cell_type": "code",
   "execution_count": 8,
   "id": "f9f983aa",
   "metadata": {},
   "outputs": [],
   "source": [
    "# Calculate  Normalized Difference Vegetation Index (NDVI)\n",
    "# 'NIR' (B8) and 'RED' (B4)\n",
    "ndvi = composite.normalizedDifference(['B8', 'B4']).rename(['ndvi'])\n",
    "ndviVis = {'min':0, 'max':1, 'palette': ['white', 'green']}\n",
    "Map.addLayer(ndvi, ndviVis, 'NDVI')\n",
    "\n",
    "# Calculate Normalized Difference Water Index (NDWI)\n",
    "# 'GREEN' (B3) and 'NIR' (B8)\n",
    "ndwi = composite.normalizedDifference(['B3', 'B8']).rename(['ndwi'])\n",
    "ndwiVis = {'min':0, 'max':1, 'palette': ['white', 'blue']}\n",
    "Map.addLayer(ndwi, ndwiVis, 'NDWI')\n",
    "\n",
    "# Calculate Modified Normalized Difference Water Index (MNDWI)\n",
    "# 'GREEN' (B3) and 'SWIR1' (B11)\n",
    "mndwi = composite.normalizedDifference(['B3', 'B11']).rename(['mndwi'])\n",
    "ndwiVis = {'min':0, 'max':0.5, 'palette': ['white', 'blue']}\n",
    "Map.addLayer(mndwi, ndwiVis, 'MNDWI')\n",
    "\n",
    "# Calculate Normalized Difference Built-up Index (NDBI)\n",
    "# 'SWIR1' (B11) and 'NIR' (B8)\n",
    "ndbi = composite.normalizedDifference(['B11', 'B8']).rename(['ndbi'])\n",
    "ndbiVis = {'min':0, 'max':1, 'palette': ['white', 'red']}\n",
    "Map.addLayer(ndbi, ndbiVis, 'NDBI')"
   ]
  },
  {
   "cell_type": "markdown",
   "id": "0efb026a",
   "metadata": {},
   "source": [
    "<h2> Supervised Classification </h2>"
   ]
  },
  {
   "cell_type": "code",
   "execution_count": 9,
   "id": "b16d2294",
   "metadata": {},
   "outputs": [],
   "source": [
    "\"\"\"\n",
    "\"\"\"\n",
    "def train_validation_split():\n",
    "    compiled = urban.merge(water).merge(vegetation)\n",
    "\n",
    "    # Add a random column and split the GCPs into training and validation set\n",
    "    compiled = compiled.randomColumn()\n",
    "\n",
    "    # 70% training, 30% validation\n",
    "    training = compiled.filter(ee.Filter.lt('random', 0.7))\n",
    "    validation = compiled.filter(ee.Filter.gte('random', 0.7))\n",
    "\n",
    "    # Overlay the point on the image to get training data.\n",
    "    training = composite.sampleRegions(**{\n",
    "      'collection': training,\n",
    "      'properties': ['landcover'],\n",
    "      'scale': 10,\n",
    "      'tileScale': 16\n",
    "    })\n",
    "    \n",
    "    return training, validation"
   ]
  },
  {
   "cell_type": "code",
   "execution_count": 10,
   "id": "75bc2568",
   "metadata": {},
   "outputs": [],
   "source": [
    "\"\"\"\n",
    "\"\"\"\n",
    "def classify(cf, training):\n",
    "    # Train the classifier.\n",
    "    classifier = cf \\\n",
    "    .train(**{\n",
    "      'features': training,\n",
    "      'classProperty': 'landcover',\n",
    "      'inputProperties': composite.bandNames()\n",
    "    })\n",
    "\n",
    "    # Classify the image.\n",
    "    classified = composite.classify(classifier)\n",
    "    return classified"
   ]
  },
  {
   "cell_type": "code",
   "execution_count": 11,
   "id": "94968dbb",
   "metadata": {},
   "outputs": [],
   "source": [
    "# add spectral indice bands to the median composite\n",
    "composite.addBands(ndvi).addBands(ndwi).addBands(ndbi).addBands(mndwi)\n",
    "\n",
    "# Normalize the image\n",
    "\n",
    "# Machine learning algorithms work best on images when all features have\n",
    "# the same range\n",
    "\n",
    "# Function to Normalize Image\n",
    "# Pixel Values should be between 0 and 1\n",
    "# Formula is (x - xmin) / (xmax - xmin)\n",
    "#**************************************************************************\n",
    "def normalize(image):\n",
    "  bandNames = image.bandNames()\n",
    "  # Compute min and max of the image\n",
    "  minDict = image.reduceRegion(**{\n",
    "    'reducer': ee.Reducer.min(),\n",
    "    'geometry': bv,\n",
    "    'scale': 20,\n",
    "    'maxPixels': 1e9,\n",
    "    'bestEffort': True,\n",
    "    'tileScale': 16\n",
    "  })\n",
    "  maxDict = image.reduceRegion(**{\n",
    "    'reducer': ee.Reducer.max(),\n",
    "    'geometry': bv,\n",
    "    'scale': 20,\n",
    "    'maxPixels': 1e9,\n",
    "    'bestEffort': True,\n",
    "    'tileScale': 16\n",
    "  })\n",
    "  mins = ee.Image.constant(minDict.values(bandNames))\n",
    "  maxs = ee.Image.constant(maxDict.values(bandNames))\n",
    "\n",
    "  normalized = image.subtract(mins).divide(maxs.subtract(mins))\n",
    "  return normalized\n",
    "\n",
    "composite = normalize(composite)"
   ]
  },
  {
   "cell_type": "code",
   "execution_count": 12,
   "id": "b9cf1029",
   "metadata": {},
   "outputs": [
    {
     "data": {
      "application/vnd.jupyter.widget-view+json": {
       "model_id": "20f4c5a9b248484daa3580ef33444741",
       "version_major": 2,
       "version_minor": 0
      },
      "text/plain": [
       "Map(center=[-4.236624256999297, 15.259870728294976], controls=(WidgetControl(options=['position', 'transparent…"
      ]
     },
     "metadata": {},
     "output_type": "display_data"
    }
   ],
   "source": [
    "training, validation = train_validation_split()\n",
    "\n",
    "classifiers = {\n",
    "    'SVM': ee.Classifier.libsvm(),\n",
    "    'Minimum Distance': ee.Classifier.minimumDistance(),\n",
    "    'CART': ee.Classifier.smileCart(),\n",
    "    'Gradient Tree Boost': ee.Classifier.smileGradientTreeBoost(20),\n",
    "    'Naive Bayes': ee.Classifier.smileNaiveBayes(),\n",
    "    'Random Forest': ee.Classifier.smileRandomForest(20),\n",
    "}\n",
    "\n",
    "cfPalette = {\n",
    "    'min': 0,\n",
    "    'max': 2,\n",
    "    'palette': ['red', 'blue', 'green']\n",
    "}\n",
    "\n",
    "for label, cf in classifiers.items():\n",
    "    # Classify the image\n",
    "    classified = classify(cf, training)\n",
    "    \n",
    "    # Add the classified layer to the map\n",
    "    Map.addLayer(classified, cfPalette, label)\n",
    "    \n",
    "\n",
    "Map"
   ]
  },
  {
   "cell_type": "markdown",
   "id": "762a11e9",
   "metadata": {},
   "source": [
    "<h2> Accuracy Assessment </h2>"
   ]
  },
  {
   "cell_type": "code",
   "execution_count": 13,
   "id": "07da2faa",
   "metadata": {},
   "outputs": [
    {
     "name": "stdout",
     "output_type": "stream",
     "text": [
      "Test Accuracy: 1\n",
      "Confusion Matrix: [[5, 0, 0], [0, 4, 0], [0, 0, 2]]\n"
     ]
    },
    {
     "ename": "IndexError",
     "evalue": "tuple index out of range",
     "output_type": "error",
     "traceback": [
      "\u001b[1;31m---------------------------------------------------------------------------\u001b[0m",
      "\u001b[1;31mIndexError\u001b[0m                                Traceback (most recent call last)",
      "\u001b[1;32m~\\AppData\\Local\\Temp/ipykernel_6464/2184940898.py\u001b[0m in \u001b[0;36m<module>\u001b[1;34m\u001b[0m\n\u001b[0;32m     21\u001b[0m \u001b[0mls\u001b[0m \u001b[1;33m=\u001b[0m \u001b[1;33m[\u001b[0m\u001b[1;34m'Urban'\u001b[0m\u001b[1;33m,\u001b[0m \u001b[1;34m'Water'\u001b[0m\u001b[1;33m,\u001b[0m \u001b[1;34m'Vegetation'\u001b[0m\u001b[1;33m]\u001b[0m\u001b[1;33m\u001b[0m\u001b[1;33m\u001b[0m\u001b[0m\n\u001b[0;32m     22\u001b[0m \u001b[0mdisp\u001b[0m \u001b[1;33m=\u001b[0m \u001b[0mConfusionMatrixDisplay\u001b[0m\u001b[1;33m(\u001b[0m\u001b[0mconfusion_matrix\u001b[0m\u001b[1;33m=\u001b[0m\u001b[0mcm\u001b[0m\u001b[1;33m,\u001b[0m \u001b[0mdisplay_labels\u001b[0m\u001b[1;33m=\u001b[0m\u001b[0mls\u001b[0m\u001b[1;33m)\u001b[0m\u001b[1;33m\u001b[0m\u001b[1;33m\u001b[0m\u001b[0m\n\u001b[1;32m---> 23\u001b[1;33m \u001b[0mdisp\u001b[0m\u001b[1;33m.\u001b[0m\u001b[0mplot\u001b[0m\u001b[1;33m(\u001b[0m\u001b[1;33m)\u001b[0m\u001b[1;33m\u001b[0m\u001b[1;33m\u001b[0m\u001b[0m\n\u001b[0m\u001b[0;32m     24\u001b[0m \u001b[0mplt\u001b[0m\u001b[1;33m.\u001b[0m\u001b[0mshow\u001b[0m\u001b[1;33m(\u001b[0m\u001b[1;33m)\u001b[0m\u001b[1;33m\u001b[0m\u001b[1;33m\u001b[0m\u001b[0m\n",
      "\u001b[1;32m~\\.conda\\envs\\ee\\lib\\site-packages\\sklearn\\metrics\\_plot\\confusion_matrix.py\u001b[0m in \u001b[0;36mplot\u001b[1;34m(self, include_values, cmap, xticks_rotation, values_format, ax, colorbar)\u001b[0m\n\u001b[0;32m    128\u001b[0m \u001b[1;33m\u001b[0m\u001b[0m\n\u001b[0;32m    129\u001b[0m         \u001b[0mcm\u001b[0m \u001b[1;33m=\u001b[0m \u001b[0mself\u001b[0m\u001b[1;33m.\u001b[0m\u001b[0mconfusion_matrix\u001b[0m\u001b[1;33m\u001b[0m\u001b[1;33m\u001b[0m\u001b[0m\n\u001b[1;32m--> 130\u001b[1;33m         \u001b[0mn_classes\u001b[0m \u001b[1;33m=\u001b[0m \u001b[0mcm\u001b[0m\u001b[1;33m.\u001b[0m\u001b[0mshape\u001b[0m\u001b[1;33m[\u001b[0m\u001b[1;36m0\u001b[0m\u001b[1;33m]\u001b[0m\u001b[1;33m\u001b[0m\u001b[1;33m\u001b[0m\u001b[0m\n\u001b[0m\u001b[0;32m    131\u001b[0m         \u001b[0mself\u001b[0m\u001b[1;33m.\u001b[0m\u001b[0mim_\u001b[0m \u001b[1;33m=\u001b[0m \u001b[0max\u001b[0m\u001b[1;33m.\u001b[0m\u001b[0mimshow\u001b[0m\u001b[1;33m(\u001b[0m\u001b[0mcm\u001b[0m\u001b[1;33m,\u001b[0m \u001b[0minterpolation\u001b[0m\u001b[1;33m=\u001b[0m\u001b[1;34m\"nearest\"\u001b[0m\u001b[1;33m,\u001b[0m \u001b[0mcmap\u001b[0m\u001b[1;33m=\u001b[0m\u001b[0mcmap\u001b[0m\u001b[1;33m)\u001b[0m\u001b[1;33m\u001b[0m\u001b[1;33m\u001b[0m\u001b[0m\n\u001b[0;32m    132\u001b[0m         \u001b[0mself\u001b[0m\u001b[1;33m.\u001b[0m\u001b[0mtext_\u001b[0m \u001b[1;33m=\u001b[0m \u001b[1;32mNone\u001b[0m\u001b[1;33m\u001b[0m\u001b[1;33m\u001b[0m\u001b[0m\n",
      "\u001b[1;31mIndexError\u001b[0m: tuple index out of range"
     ]
    },
    {
     "data": {
      "image/png": "[encoded data removed]",
      "text/plain": [
       "<Figure size 432x288 with 1 Axes>"
      ]
     },
     "metadata": {
      "needs_background": "light"
     },
     "output_type": "display_data"
    }
   ],
   "source": [
    "#**************************************************************************\n",
    "# Accuracy Assessment\n",
    "#**************************************************************************\n",
    "\n",
    "# Use classification map to assess accuracy using the validation fraction\n",
    "# of the overall training set created above.\n",
    "test = classified.sampleRegions(**{\n",
    "  'collection': validation,\n",
    "  'properties': ['landcover'],\n",
    "  'tileScale': 16, #**********\n",
    "  'scale': 10,\n",
    "})\n",
    "\n",
    "testConfusionMatrix = test.errorMatrix('landcover', 'classification')\n",
    "cm = testConfusionMatrix.getInfo()\n",
    "# Printing of confusion matrix may time out. Alternatively, you can export it as CSV\n",
    "print('Test Accuracy:', testConfusionMatrix.accuracy().getInfo())\n",
    "print('Confusion Matrix:', cm)\n",
    "\n",
    "cm = np.array(cf) \n",
    "ls = ['Urban', 'Water', 'Vegetation']\n",
    "disp = ConfusionMatrixDisplay(confusion_matrix=cm, display_labels=ls)\n",
    "disp.plot()\n",
    "plt.show()"
   ]
  },
  {
   "cell_type": "code",
   "execution_count": null,
   "id": "44764daa",
   "metadata": {},
   "outputs": [],
   "source": []
  }
 ],
 "metadata": {
  "kernelspec": {
   "display_name": "Python 3 (ipykernel)",
   "language": "python",
   "name": "python3"
  },
  "language_info": {
   "codemirror_mode": {
    "name": "ipython",
    "version": 3
   },
   "file_extension": ".py",
   "mimetype": "text/x-python",
   "name": "python",
   "nbconvert_exporter": "python",
   "pygments_lexer": "ipython3",
   "version": "3.10.1"
  }
 },
 "nbformat": 4,
 "nbformat_minor": 5
}
