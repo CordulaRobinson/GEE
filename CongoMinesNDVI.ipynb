{
 "cells": [
  {
   "cell_type": "code",
   "execution_count": 1,
   "id": "09a0ed1b-bf47-4402-b926-9604c4aa1437",
   "metadata": {},
   "outputs": [
    {
     "data": {
      "text/html": [
       "<p>To authorize access needed by Earth Engine, open the following\n",
       "        URL in a web browser and follow the instructions:</p>\n",
       "        <p><a href=https://accounts.google.com/o/oauth2/auth?client_id=517222506229-vsmmajv00ul0bs7p89v5m89qs8eb9359.apps.googleusercontent.com&scope=https%3A%2F%2Fwww.googleapis.com%2Fauth%2Fearthengine+https%3A%2F%2Fwww.googleapis.com%2Fauth%2Fdevstorage.full_control&redirect_uri=urn%3Aietf%3Awg%3Aoauth%3A2.0%3Aoob&response_type=code&code_challenge=HXX5OZpI92fQdialxviMJLYpOG6RvQ6UX6NmYOT2k5o&code_challenge_method=S256>https://accounts.google.com/o/oauth2/auth?client_id=517222506229-vsmmajv00ul0bs7p89v5m89qs8eb9359.apps.googleusercontent.com&scope=https%3A%2F%2Fwww.googleapis.com%2Fauth%2Fearthengine+https%3A%2F%2Fwww.googleapis.com%2Fauth%2Fdevstorage.full_control&redirect_uri=urn%3Aietf%3Awg%3Aoauth%3A2.0%3Aoob&response_type=code&code_challenge=HXX5OZpI92fQdialxviMJLYpOG6RvQ6UX6NmYOT2k5o&code_challenge_method=S256</a></p>\n",
       "        <p>The authorization workflow will generate a code, which you\n",
       "        should paste in the box below</p>\n",
       "        "
      ],
      "text/plain": [
       "<IPython.core.display.HTML object>"
      ]
     },
     "metadata": {},
     "output_type": "display_data"
    },
    {
     "name": "stdin",
     "output_type": "stream",
     "text": [
      "Enter verification code:  4/1AX4XfWhwah8edQlCkexUd3e1zua1fZNkREOvLXYGGmTvRmc9mKbiGPaNcJY\n"
     ]
    },
    {
     "name": "stdout",
     "output_type": "stream",
     "text": [
      "\n",
      "Successfully saved authorization token.\n"
     ]
    }
   ],
   "source": [
    "import ee\n",
    "ee.Authenticate()\n",
    "ee.Initialize()"
   ]
  },
  {
   "cell_type": "code",
   "execution_count": 17,
   "id": "f287949a-41a0-4f73-b1b8-43017df46e6b",
   "metadata": {},
   "outputs": [
    {
     "data": {
      "application/vnd.jupyter.widget-view+json": {
       "model_id": "6cbae72ac4714e5cbb370b25e586b10c",
       "version_major": 2,
       "version_minor": 0
      },
      "text/plain": [
       "Map(center=[-10.655969510994254, 25.78637157049617], controls=(WidgetControl(options=['position', 'transparent…"
      ]
     },
     "metadata": {},
     "output_type": "display_data"
    }
   ],
   "source": [
    "import ee\n",
    "import geemap\n",
    "\n",
    "Map = geemap.Map()\n",
    "\n",
    "geometry = ee.Geometry.Polygon(\n",
    "    [[[25.28718028631623, -10.457488732614895],\n",
    "      [25.28718028631623, -10.854273006505112],\n",
    "      [26.285562854675604, -10.854273006505112],\n",
    "      [26.285562854675604, -10.457488732614895]]], None, False)\n",
    "Map.centerObject(geometry, 10);\n",
    "s2 = ee.ImageCollection(\"COPERNICUS/S2_SR\")\n",
    "mines = ee.FeatureCollection(\"users/EmilyNason/cod_mines_curated_all_opendata_p_ipis\")\n",
    "gsw = ee.Image(\"JRC/GSW1_3/GlobalSurfaceWater\")\n",
    "rgbVis = {\n",
    "  'min': 0.0,\n",
    "  'max': 3000,\n",
    "  'bands': ['B4', 'B3', 'B2'],\n",
    "}\n",
    "\n",
    "before = s2.filter(ee.Filter.lt('CLOUDY_PIXEL_PERCENTAGE', 30)) \\\n",
    "  .filter(ee.Filter.date('2019-06-01', '2020-01-01')) \\\n",
    "  .filter(ee.Filter.intersects('.geo', geometry)) \\\n",
    "  .median().clip(geometry)\n",
    "after = s2.filter(ee.Filter.lt('CLOUDY_PIXEL_PERCENTAGE', 30)) \\\n",
    "  .filter(ee.Filter.date('2021-06-01', '2022-01-01')) \\\n",
    "  .filter(ee.Filter.intersects('.geo', geometry)) \\\n",
    "  .median().clip(geometry)\n",
    "\n",
    "Map.addLayer(before, rgbVis, 'before')\n",
    "Map.addLayer(after, rgbVis, 'after')\n",
    "\n",
    "def addIndices(image):\n",
    "  ndvi = image.normalizedDifference(['B8', 'B4']).rename(['ndvi'])\n",
    "  return image.addBands(ndvi)\n",
    "\n",
    "beforeIndices = addIndices(before).clip(geometry)\n",
    "afterIndices = addIndices(after).clip(geometry)\n",
    "\n",
    "ndviVis = {'min':0, 'max':1, 'palette': ['white', 'green']}\n",
    "\n",
    "Map.addLayer(beforeIndices.select('ndvi'), ndviVis, 'NDVI 2019', False)\n",
    "Map.addLayer(afterIndices.select('ndvi'), ndviVis, 'NDVI 2021', False)\n",
    "\n",
    "#low ndvi -> possible existing mining\n",
    "# 2019\n",
    "mining2019 = beforeIndices.select('ndvi').lt(.15).rename('mining').selfMask()\n",
    "permanentWater = gsw.select('seasonality').gte(5).clip(geometry)\n",
    "mining2019 = mining2019.where(permanentWater,0).selfMask()\n",
    "cpThreshold = 8\n",
    "connections = mining2019.connectedPixelCount(25)\n",
    "mining2019 = mining2019.updateMask(connections.gt(cpThreshold))\n",
    "Map.addLayer(mining2019, {'min':0, 'max':1, 'palette': ['yellow']}, 'Possible Mining Area 2019')\n",
    "# 2021\n",
    "mining2021 = afterIndices.select('ndvi').lt(.15).rename('mining').selfMask()\n",
    "permanentWater = gsw.select('seasonality').gte(5).clip(geometry)\n",
    "mining2021 = mining2021.where(permanentWater,0).selfMask()\n",
    "cpThreshold = 8\n",
    "connections2 = mining2021.connectedPixelCount(25)\n",
    "mining2021 = mining2021.updateMask(connections2.gt(cpThreshold))\n",
    "Map.addLayer(mining2021, {'min':0, 'max':1, 'palette': ['orange']}, 'Possible Mining Area 2021')\n",
    "\n",
    "#ndvi loss -> possible new mining\n",
    "difference = beforeIndices.select('ndvi').divide(afterIndices.select('ndvi'))\n",
    "threshold = 1.5\n",
    "newMining = difference.gt(threshold).rename('newMining').selfMask()\n",
    "newMining = newMining.where(permanentWater,0).selfMask()\n",
    "connections3 = newMining.connectedPixelCount(25)\n",
    "newMining = newMining.updateMask(connections3.gt(cpThreshold))\n",
    "Map.addLayer(newMining, {'min':0, 'max':1, 'palette': ['red']}, 'Possible New Mining Area')\n",
    "\n",
    "Map.addLayer(mines, {'color': 'blue'}, 'mines')\n",
    "\n",
    "# LEGEND\n",
    "legend_dict = {\n",
    "    'Possible Mining Areas 2019': ('FFFF00'),\n",
    "    'Possible Mining Areas 2021': ('FFA500'),\n",
    "    'Possible Increased Activity': ('FF0000'),\n",
    "    'Known Active Mine Locations': ('0000FF'),\n",
    "    'NDVI Level': ('008000'),\n",
    "}\n",
    "Map.add_legend(legend_title='Legend', legend_dict=legend_dict, position='bottomright')\n",
    "Map\n"
   ]
  },
  {
   "cell_type": "code",
   "execution_count": null,
   "id": "2dee514b-5838-4f7e-bb60-9ed665ff3756",
   "metadata": {},
   "outputs": [],
   "source": []
  }
 ],
 "metadata": {
  "kernelspec": {
   "display_name": "Python 3 (ipykernel)",
   "language": "python",
   "name": "python3"
  },
  "language_info": {
   "codemirror_mode": {
    "name": "ipython",
    "version": 3
   },
   "file_extension": ".py",
   "mimetype": "text/x-python",
   "name": "python",
   "nbconvert_exporter": "python",
   "pygments_lexer": "ipython3",
   "version": "3.10.1"
  }
 },
 "nbformat": 4,
 "nbformat_minor": 5
}
